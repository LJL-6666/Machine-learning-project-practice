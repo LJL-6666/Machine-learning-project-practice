{
 "cells": [
  {
   "cell_type": "markdown",
   "metadata": {},
   "source": [
    "# 机器学习模型评估"
   ]
  },
  {
   "cell_type": "markdown",
   "metadata": {},
   "source": [
    "## 1.1 实践任务—回归问题 "
   ]
  },
  {
   "cell_type": "markdown",
   "metadata": {},
   "source": [
    "### （1）读入数据data1,查看数据前6行"
   ]
  },
  {
   "cell_type": "code",
   "execution_count": 26,
   "metadata": {
    "ExecuteTime": {
     "end_time": "2020-09-23T02:00:28.387607Z",
     "start_time": "2020-09-23T02:00:24.817149Z"
    }
   },
   "outputs": [
    {
     "data": {
      "text/html": [
       "<div>\n",
       "<style scoped>\n",
       "    .dataframe tbody tr th:only-of-type {\n",
       "        vertical-align: middle;\n",
       "    }\n",
       "\n",
       "    .dataframe tbody tr th {\n",
       "        vertical-align: top;\n",
       "    }\n",
       "\n",
       "    .dataframe thead th {\n",
       "        text-align: right;\n",
       "    }\n",
       "</style>\n",
       "<table border=\"1\" class=\"dataframe\">\n",
       "  <thead>\n",
       "    <tr style=\"text-align: right;\">\n",
       "      <th></th>\n",
       "      <th>CATE</th>\n",
       "      <th>bedrooms</th>\n",
       "      <th>AREA</th>\n",
       "      <th>floor</th>\n",
       "      <th>subway</th>\n",
       "      <th>school</th>\n",
       "      <th>price</th>\n",
       "      <th>style</th>\n",
       "      <th>预测房价</th>\n",
       "    </tr>\n",
       "  </thead>\n",
       "  <tbody>\n",
       "    <tr>\n",
       "      <th>0</th>\n",
       "      <td>朝阳</td>\n",
       "      <td>1</td>\n",
       "      <td>46.06</td>\n",
       "      <td>middle</td>\n",
       "      <td>1</td>\n",
       "      <td>0</td>\n",
       "      <td>4.8850</td>\n",
       "      <td>无厅</td>\n",
       "      <td>4.997947</td>\n",
       "    </tr>\n",
       "    <tr>\n",
       "      <th>1</th>\n",
       "      <td>朝阳</td>\n",
       "      <td>1</td>\n",
       "      <td>59.09</td>\n",
       "      <td>middle</td>\n",
       "      <td>1</td>\n",
       "      <td>0</td>\n",
       "      <td>4.6540</td>\n",
       "      <td>有厅</td>\n",
       "      <td>5.133662</td>\n",
       "    </tr>\n",
       "    <tr>\n",
       "      <th>2</th>\n",
       "      <td>海淀</td>\n",
       "      <td>5</td>\n",
       "      <td>278.95</td>\n",
       "      <td>high</td>\n",
       "      <td>1</td>\n",
       "      <td>1</td>\n",
       "      <td>7.1662</td>\n",
       "      <td>有厅</td>\n",
       "      <td>7.314064</td>\n",
       "    </tr>\n",
       "    <tr>\n",
       "      <th>3</th>\n",
       "      <td>海淀</td>\n",
       "      <td>3</td>\n",
       "      <td>207.00</td>\n",
       "      <td>high</td>\n",
       "      <td>1</td>\n",
       "      <td>1</td>\n",
       "      <td>5.7972</td>\n",
       "      <td>有厅</td>\n",
       "      <td>7.291860</td>\n",
       "    </tr>\n",
       "    <tr>\n",
       "      <th>4</th>\n",
       "      <td>丰台</td>\n",
       "      <td>2</td>\n",
       "      <td>53.32</td>\n",
       "      <td>low</td>\n",
       "      <td>1</td>\n",
       "      <td>1</td>\n",
       "      <td>7.1268</td>\n",
       "      <td>有厅</td>\n",
       "      <td>5.746533</td>\n",
       "    </tr>\n",
       "    <tr>\n",
       "      <th>5</th>\n",
       "      <td>丰台</td>\n",
       "      <td>2</td>\n",
       "      <td>58.00</td>\n",
       "      <td>low</td>\n",
       "      <td>1</td>\n",
       "      <td>1</td>\n",
       "      <td>7.0690</td>\n",
       "      <td>有厅</td>\n",
       "      <td>5.733524</td>\n",
       "    </tr>\n",
       "  </tbody>\n",
       "</table>\n",
       "</div>"
      ],
      "text/plain": [
       "  CATE  bedrooms    AREA   floor  subway  school   price style      预测房价\n",
       "0   朝阳         1   46.06  middle       1       0  4.8850    无厅  4.997947\n",
       "1   朝阳         1   59.09  middle       1       0  4.6540    有厅  5.133662\n",
       "2   海淀         5  278.95    high       1       1  7.1662    有厅  7.314064\n",
       "3   海淀         3  207.00    high       1       1  5.7972    有厅  7.291860\n",
       "4   丰台         2   53.32     low       1       1  7.1268    有厅  5.746533\n",
       "5   丰台         2   58.00     low       1       1  7.0690    有厅  5.733524"
      ]
     },
     "execution_count": 26,
     "metadata": {},
     "output_type": "execute_result"
    }
   ],
   "source": [
    "import pandas as pd\n",
    "\n",
    "data1 = pd.read_excel('G:/CDO/机器学习/1.实践作业/data1.xlsx')\n",
    "data1.head(6)    "
   ]
  },
  {
   "cell_type": "markdown",
   "metadata": {},
   "source": [
    "### （2）计算变量'price'的常用统计量，并绘制合适的图像进行展示"
   ]
  },
  {
   "cell_type": "code",
   "execution_count": 29,
   "metadata": {
    "ExecuteTime": {
     "end_time": "2020-09-23T02:11:59.131165Z",
     "start_time": "2020-09-23T02:11:59.109223Z"
    }
   },
   "outputs": [
    {
     "data": {
      "text/plain": [
       "count    16210.000000\n",
       "mean         6.115181\n",
       "std          2.229336\n",
       "min          1.834800\n",
       "25%          4.281225\n",
       "50%          5.747300\n",
       "75%          7.609975\n",
       "max         14.987100\n",
       "Name: price, dtype: float64"
      ]
     },
     "execution_count": 29,
     "metadata": {},
     "output_type": "execute_result"
    }
   ],
   "source": [
    "data1['price'].describe() "
   ]
  },
  {
   "cell_type": "code",
   "execution_count": 22,
   "metadata": {
    "ExecuteTime": {
     "end_time": "2020-09-23T01:52:56.228190Z",
     "start_time": "2020-09-23T01:52:56.176296Z"
    }
   },
   "outputs": [
    {
     "name": "stdout",
     "output_type": "stream",
     "text": [
      "CATE\n",
      "朝阳    4.8850\n",
      "朝阳    4.6540\n",
      "海淀    7.1662\n",
      "海淀    5.7972\n",
      "丰台    7.1268\n",
      "       ...  \n",
      "朝阳    5.2405\n",
      "朝阳    5.2343\n",
      "朝阳    5.0170\n",
      "朝阳    5.2693\n",
      "丰台    4.6719\n",
      "Name: price, Length: 16210, dtype: float64\n",
      "均值 6.115181091918592\n",
      "中位数 5.7473\n",
      "方差 4.969938174850668\n",
      "标准差 2.22933581473287\n",
      "极差 13.1523\n",
      "偏度 0.6794935869486873\n",
      "峰度 -0.01930588854437154\n"
     ]
    }
   ],
   "source": [
    "print(data1['price'])\n",
    "print('均值',data1['price'].mean())\n",
    "print('中位数',data1['price'].median())\n",
    "\n",
    "print('方差',data1['price'].var())\n",
    "print('标准差',data1['price'].std())\n",
    "print('极差',data1['price'].max()-data1['price'].min())\n",
    "\n",
    "print('偏度',data1['price'].skew())\n",
    "print('峰度',data1['price'].kurt())"
   ]
  },
  {
   "cell_type": "code",
   "execution_count": 30,
   "metadata": {
    "ExecuteTime": {
     "end_time": "2020-09-23T02:12:48.529969Z",
     "start_time": "2020-09-23T02:12:47.986997Z"
    }
   },
   "outputs": [
    {
     "data": {
      "text/plain": [
       "<matplotlib.axes._subplots.AxesSubplot at 0x1cb3200bc88>"
      ]
     },
     "execution_count": 30,
     "metadata": {},
     "output_type": "execute_result"
    },
    {
     "data": {
      "image/png": "[encoded data removed]",
      "text/plain": [
       "<Figure size 432x288 with 1 Axes>"
      ]
     },
     "metadata": {
      "needs_background": "light"
     },
     "output_type": "display_data"
    }
   ],
   "source": [
    "sns.distplot(data1['price'])"
   ]
  },
  {
   "cell_type": "code",
   "execution_count": 38,
   "metadata": {
    "ExecuteTime": {
     "end_time": "2020-09-23T07:52:43.925710Z",
     "start_time": "2020-09-23T07:52:43.247726Z"
    }
   },
   "outputs": [
    {
     "data": {
      "image/png": "[encoded data removed]",
      "text/plain": [
       "<Figure size 432x288 with 1 Axes>"
      ]
     },
     "metadata": {
      "needs_background": "light"
     },
     "output_type": "display_data"
    }
   ],
   "source": [
    "plt.hist(data1.price,bins=30,color='blue',alpha=0.3)#alpha设置透明度，0为完全透明    #绘制直方图\n",
    "plt.xlabel('价格')   #设置x轴标签\n",
    "plt.ylabel('频数')   #设置y轴标签\n",
    "plt.show()      "
   ]
  },
  {
   "cell_type": "code",
   "execution_count": 9,
   "metadata": {
    "ExecuteTime": {
     "end_time": "2020-09-23T01:43:30.257476Z",
     "start_time": "2020-09-23T01:43:20.894673Z"
    }
   },
   "outputs": [
    {
     "name": "stderr",
     "output_type": "stream",
     "text": [
      "\n",
      "Bad key \"text.kerning_factor\" on line 4 in\n",
      "E:\\Anaconda3\\lib\\site-packages\\matplotlib\\mpl-data\\stylelib\\_classic_test_patch.mplstyle.\n",
      "You probably need to get an updated matplotlibrc file from\n",
      "https://github.com/matplotlib/matplotlib/blob/v3.1.3/matplotlibrc.template\n",
      "or from the matplotlib source distribution\n"
     ]
    }
   ],
   "source": [
    "import numpy as np\n",
    "import matplotlib.pyplot as plt\n",
    "import seaborn as sns"
   ]
  },
  {
   "cell_type": "code",
   "execution_count": 28,
   "metadata": {
    "ExecuteTime": {
     "end_time": "2020-09-23T02:01:04.983320Z",
     "start_time": "2020-09-23T02:01:04.077981Z"
    },
    "scrolled": true
   },
   "outputs": [
    {
     "data": {
      "image/png": "[encoded data removed]",
      "text/plain": [
       "<Figure size 1440x1080 with 2 Axes>"
      ]
     },
     "metadata": {
      "needs_background": "light"
     },
     "output_type": "display_data"
    }
   ],
   "source": [
    "from pylab import mpl\n",
    "mpl.rcParams['font.sans-serif']=['SimHei']\n",
    "mpl.rcParams['axes.unicode_minus']=False\n",
    "\n",
    "#各城区房每平米单价分布\n",
    "data1_perprice_mean=data1.groupby(\"CATE\")[\"price\"].mean().sort_values(ascending=False).to_frame().reset_index()\n",
    "f,[ax1,ax2]=plt.subplots(2,1,figsize=(20,15))\n",
    "sns.barplot(x=\"CATE\",y=\"price\",palette=\"Blues_d\",data=data1_perprice_mean,ax=ax1)\n",
    "ax1.set_title(\"北京各大区二手房每平米单价对比\")\n",
    "ax1.set_xlabel('区域')\n",
    "ax1.set_ylabel('每平米单价')\n",
    "\n",
    "sns.boxplot(x=\"CATE\",y=\"price\",palette=\"Blues_d\",data=data1,ax=ax2)\n",
    "ax2.set_title(\"北京各大区二手房每平米单价分布\")\n",
    "ax2.set_xlabel('区域')\n",
    "ax2.set_ylabel('每平米单价')\n",
    "plt.xticks(fontsize=9)\n",
    "plt.show()  "
   ]
  },
  {
   "cell_type": "markdown",
   "metadata": {},
   "source": [
    "### （3）计算data1中变量'price'与'预测房价'的相关系数r"
   ]
  },
  {
   "cell_type": "code",
   "execution_count": 39,
   "metadata": {
    "ExecuteTime": {
     "end_time": "2020-09-23T07:59:33.874329Z",
     "start_time": "2020-09-23T07:59:32.844416Z"
    }
   },
   "outputs": [
    {
     "data": {
      "image/png": "[encoded data removed]",
      "text/plain": [
       "<Figure size 432x288 with 1 Axes>"
      ]
     },
     "metadata": {
      "needs_background": "light"
     },
     "output_type": "display_data"
    }
   ],
   "source": [
    "plt.scatter(data1['price'],data1['预测房价'],color='yellow',alpha=0.3) #绘制散点图    从下图上看有一定的正相关关系\n",
    "plt.show()"
   ]
  },
  {
   "cell_type": "code",
   "execution_count": 34,
   "metadata": {
    "ExecuteTime": {
     "end_time": "2020-09-23T02:26:23.375770Z",
     "start_time": "2020-09-23T02:26:23.357786Z"
    }
   },
   "outputs": [
    {
     "data": {
      "text/html": [
       "<div>\n",
       "<style scoped>\n",
       "    .dataframe tbody tr th:only-of-type {\n",
       "        vertical-align: middle;\n",
       "    }\n",
       "\n",
       "    .dataframe tbody tr th {\n",
       "        vertical-align: top;\n",
       "    }\n",
       "\n",
       "    .dataframe thead th {\n",
       "        text-align: right;\n",
       "    }\n",
       "</style>\n",
       "<table border=\"1\" class=\"dataframe\">\n",
       "  <thead>\n",
       "    <tr style=\"text-align: right;\">\n",
       "      <th></th>\n",
       "      <th>price</th>\n",
       "      <th>预测房价</th>\n",
       "    </tr>\n",
       "  </thead>\n",
       "  <tbody>\n",
       "    <tr>\n",
       "      <th>price</th>\n",
       "      <td>1.000000</td>\n",
       "      <td>0.768366</td>\n",
       "    </tr>\n",
       "    <tr>\n",
       "      <th>预测房价</th>\n",
       "      <td>0.768366</td>\n",
       "      <td>1.000000</td>\n",
       "    </tr>\n",
       "  </tbody>\n",
       "</table>\n",
       "</div>"
      ],
      "text/plain": [
       "          price      预测房价\n",
       "price  1.000000  0.768366\n",
       "预测房价   0.768366  1.000000"
      ]
     },
     "execution_count": 34,
     "metadata": {},
     "output_type": "execute_result"
    }
   ],
   "source": [
    "data1[['price','预测房价']].corr(method=\"pearson\")"
   ]
  },
  {
   "cell_type": "markdown",
   "metadata": {},
   "source": [
    "### （4）计算data1模型（即真实值'price'与'预测房价'）的R方、调整的R方"
   ]
  },
  {
   "cell_type": "code",
   "execution_count": 40,
   "metadata": {
    "ExecuteTime": {
     "end_time": "2020-09-23T08:06:06.278391Z",
     "start_time": "2020-09-23T08:06:04.384239Z"
    }
   },
   "outputs": [
    {
     "data": {
      "text/plain": [
       "0.5903869942563884"
      ]
     },
     "execution_count": 40,
     "metadata": {},
     "output_type": "execute_result"
    }
   ],
   "source": [
    "from sklearn import metrics #导入sklearn的指标库\n",
    "\n",
    "R2 = metrics.r2_score(data1['price'],data1['预测房价']) #计算R方\n",
    "R2 "
   ]
  },
  {
   "cell_type": "code",
   "execution_count": 41,
   "metadata": {
    "ExecuteTime": {
     "end_time": "2020-09-23T08:06:40.300154Z",
     "start_time": "2020-09-23T08:06:40.291170Z"
    }
   },
   "outputs": [
    {
     "data": {
      "text/plain": [
       "(16210, 9)"
      ]
     },
     "execution_count": 41,
     "metadata": {},
     "output_type": "execute_result"
    }
   ],
   "source": [
    "data1.shape"
   ]
  },
  {
   "cell_type": "code",
   "execution_count": 42,
   "metadata": {
    "ExecuteTime": {
     "end_time": "2020-09-23T08:06:42.215084Z",
     "start_time": "2020-09-23T08:06:42.147493Z"
    }
   },
   "outputs": [
    {
     "data": {
      "text/plain": [
       "0.5902100228306257"
      ]
     },
     "execution_count": 42,
     "metadata": {},
     "output_type": "execute_result"
    }
   ],
   "source": [
    "n=data1.shape[0]; #样本个数\n",
    "k=data1.shape[1]-2;#特征数\n",
    "R2_adj=1-(1-R2)*(n-1)/(n-k-1)\n",
    "R2_adj     #调整的R方略小于R方"
   ]
  },
  {
   "cell_type": "markdown",
   "metadata": {},
   "source": [
    "### （5）计算data1模型的绝对误差（MAE）、均方误差（MSE）及均方根误差（RMSE）"
   ]
  },
  {
   "cell_type": "code",
   "execution_count": 43,
   "metadata": {
    "ExecuteTime": {
     "end_time": "2020-09-23T08:09:06.656400Z",
     "start_time": "2020-09-23T08:09:06.647010Z"
    }
   },
   "outputs": [
    {
     "data": {
      "text/plain": [
       "1.0872709683413442"
      ]
     },
     "execution_count": 43,
     "metadata": {},
     "output_type": "execute_result"
    }
   ],
   "source": [
    "metrics.mean_absolute_error(data1['price'],data1['预测房价']) #绝对误差MAE"
   ]
  },
  {
   "cell_type": "code",
   "execution_count": 44,
   "metadata": {
    "ExecuteTime": {
     "end_time": "2020-09-23T08:09:17.777307Z",
     "start_time": "2020-09-23T08:09:17.764589Z"
    }
   },
   "outputs": [
    {
     "data": {
      "text/plain": [
       "2.0356257280214467"
      ]
     },
     "execution_count": 44,
     "metadata": {},
     "output_type": "execute_result"
    }
   ],
   "source": [
    "metrics.mean_squared_error(data1['price'],data1['预测房价']) #均方误差MSE"
   ]
  },
  {
   "cell_type": "code",
   "execution_count": 45,
   "metadata": {
    "ExecuteTime": {
     "end_time": "2020-09-23T08:09:30.912014Z",
     "start_time": "2020-09-23T08:09:30.899040Z"
    }
   },
   "outputs": [
    {
     "data": {
      "text/plain": [
       "1.426753562470214"
      ]
     },
     "execution_count": 45,
     "metadata": {},
     "output_type": "execute_result"
    }
   ],
   "source": [
    "metrics.mean_squared_error(data1['price'],data1['预测房价'])**0.5 #均方根误差RMSE"
   ]
  },
  {
   "cell_type": "markdown",
   "metadata": {},
   "source": [
    "### （6）交叉验证：将data1分成10折，显示每次的训练集和测试集"
   ]
  },
  {
   "cell_type": "code",
   "execution_count": 46,
   "metadata": {
    "ExecuteTime": {
     "end_time": "2020-09-23T08:10:28.381004Z",
     "start_time": "2020-09-23T08:10:28.072051Z"
    }
   },
   "outputs": [
    {
     "name": "stdout",
     "output_type": "stream",
     "text": [
      "train:[ 1621  1622  1623 ... 16207 16208 16209]|test:[   0    1    2 ... 1618 1619 1620]\n",
      "train:[    0     1     2 ... 16207 16208 16209]|test:[1621 1622 1623 ... 3239 3240 3241]\n",
      "train:[    0     1     2 ... 16207 16208 16209]|test:[3242 3243 3244 ... 4860 4861 4862]\n",
      "train:[    0     1     2 ... 16207 16208 16209]|test:[4863 4864 4865 ... 6481 6482 6483]\n",
      "train:[    0     1     2 ... 16207 16208 16209]|test:[6484 6485 6486 ... 8102 8103 8104]\n",
      "train:[    0     1     2 ... 16207 16208 16209]|test:[8105 8106 8107 ... 9723 9724 9725]\n",
      "train:[    0     1     2 ... 16207 16208 16209]|test:[ 9726  9727  9728 ... 11344 11345 11346]\n",
      "train:[    0     1     2 ... 16207 16208 16209]|test:[11347 11348 11349 ... 12965 12966 12967]\n",
      "train:[    0     1     2 ... 16207 16208 16209]|test:[12968 12969 12970 ... 14586 14587 14588]\n",
      "train:[    0     1     2 ... 14586 14587 14588]|test:[14589 14590 14591 ... 16207 16208 16209]\n"
     ]
    }
   ],
   "source": [
    "from sklearn import model_selection\n",
    "\n",
    "k_fold=model_selection.KFold(n_splits=10)\n",
    "for train_data,test_data in k_fold.split(data1):\n",
    "    print('train:%s|test:%s' %(train_data,test_data)) "
   ]
  },
  {
   "cell_type": "markdown",
   "metadata": {},
   "source": [
    "### （7）留出法：将data1按7:3随机分成训练集和测试集，显示训练集和测试集的前5行"
   ]
  },
  {
   "cell_type": "code",
   "execution_count": 48,
   "metadata": {
    "ExecuteTime": {
     "end_time": "2020-09-23T08:16:34.771993Z",
     "start_time": "2020-09-23T08:16:34.730094Z"
    }
   },
   "outputs": [
    {
     "data": {
      "text/html": [
       "<div>\n",
       "<style scoped>\n",
       "    .dataframe tbody tr th:only-of-type {\n",
       "        vertical-align: middle;\n",
       "    }\n",
       "\n",
       "    .dataframe tbody tr th {\n",
       "        vertical-align: top;\n",
       "    }\n",
       "\n",
       "    .dataframe thead th {\n",
       "        text-align: right;\n",
       "    }\n",
       "</style>\n",
       "<table border=\"1\" class=\"dataframe\">\n",
       "  <thead>\n",
       "    <tr style=\"text-align: right;\">\n",
       "      <th></th>\n",
       "      <th>CATE</th>\n",
       "      <th>bedrooms</th>\n",
       "      <th>AREA</th>\n",
       "      <th>floor</th>\n",
       "      <th>subway</th>\n",
       "      <th>school</th>\n",
       "      <th>price</th>\n",
       "      <th>style</th>\n",
       "      <th>预测房价</th>\n",
       "    </tr>\n",
       "  </thead>\n",
       "  <tbody>\n",
       "    <tr>\n",
       "      <th>4884</th>\n",
       "      <td>丰台</td>\n",
       "      <td>2</td>\n",
       "      <td>80.93</td>\n",
       "      <td>high</td>\n",
       "      <td>1</td>\n",
       "      <td>1</td>\n",
       "      <td>3.8676</td>\n",
       "      <td>有厅</td>\n",
       "      <td>5.471260</td>\n",
       "    </tr>\n",
       "    <tr>\n",
       "      <th>849</th>\n",
       "      <td>海淀</td>\n",
       "      <td>2</td>\n",
       "      <td>105.12</td>\n",
       "      <td>low</td>\n",
       "      <td>1</td>\n",
       "      <td>1</td>\n",
       "      <td>5.3273</td>\n",
       "      <td>有厅</td>\n",
       "      <td>7.662479</td>\n",
       "    </tr>\n",
       "    <tr>\n",
       "      <th>8814</th>\n",
       "      <td>海淀</td>\n",
       "      <td>3</td>\n",
       "      <td>208.21</td>\n",
       "      <td>low</td>\n",
       "      <td>0</td>\n",
       "      <td>0</td>\n",
       "      <td>4.5628</td>\n",
       "      <td>有厅</td>\n",
       "      <td>5.631799</td>\n",
       "    </tr>\n",
       "    <tr>\n",
       "      <th>7635</th>\n",
       "      <td>石景山</td>\n",
       "      <td>3</td>\n",
       "      <td>152.00</td>\n",
       "      <td>middle</td>\n",
       "      <td>1</td>\n",
       "      <td>0</td>\n",
       "      <td>3.3553</td>\n",
       "      <td>有厅</td>\n",
       "      <td>4.222481</td>\n",
       "    </tr>\n",
       "    <tr>\n",
       "      <th>15510</th>\n",
       "      <td>海淀</td>\n",
       "      <td>2</td>\n",
       "      <td>102.00</td>\n",
       "      <td>middle</td>\n",
       "      <td>1</td>\n",
       "      <td>0</td>\n",
       "      <td>3.8236</td>\n",
       "      <td>有厅</td>\n",
       "      <td>6.441621</td>\n",
       "    </tr>\n",
       "  </tbody>\n",
       "</table>\n",
       "</div>"
      ],
      "text/plain": [
       "      CATE  bedrooms    AREA   floor  subway  school   price style      预测房价\n",
       "4884    丰台         2   80.93    high       1       1  3.8676    有厅  5.471260\n",
       "849     海淀         2  105.12     low       1       1  5.3273    有厅  7.662479\n",
       "8814    海淀         3  208.21     low       0       0  4.5628    有厅  5.631799\n",
       "7635   石景山         3  152.00  middle       1       0  3.3553    有厅  4.222481\n",
       "15510   海淀         2  102.00  middle       1       0  3.8236    有厅  6.441621"
      ]
     },
     "execution_count": 48,
     "metadata": {},
     "output_type": "execute_result"
    }
   ],
   "source": [
    "train_data,test_data=model_selection.train_test_split(data1,test_size=0.3, random_state=42)\n",
    "train_data.head()"
   ]
  },
  {
   "cell_type": "code",
   "execution_count": 49,
   "metadata": {
    "ExecuteTime": {
     "end_time": "2020-09-23T08:16:55.196820Z",
     "start_time": "2020-09-23T08:16:55.173026Z"
    }
   },
   "outputs": [
    {
     "data": {
      "text/html": [
       "<div>\n",
       "<style scoped>\n",
       "    .dataframe tbody tr th:only-of-type {\n",
       "        vertical-align: middle;\n",
       "    }\n",
       "\n",
       "    .dataframe tbody tr th {\n",
       "        vertical-align: top;\n",
       "    }\n",
       "\n",
       "    .dataframe thead th {\n",
       "        text-align: right;\n",
       "    }\n",
       "</style>\n",
       "<table border=\"1\" class=\"dataframe\">\n",
       "  <thead>\n",
       "    <tr style=\"text-align: right;\">\n",
       "      <th></th>\n",
       "      <th>CATE</th>\n",
       "      <th>bedrooms</th>\n",
       "      <th>AREA</th>\n",
       "      <th>floor</th>\n",
       "      <th>subway</th>\n",
       "      <th>school</th>\n",
       "      <th>price</th>\n",
       "      <th>style</th>\n",
       "      <th>预测房价</th>\n",
       "    </tr>\n",
       "  </thead>\n",
       "  <tbody>\n",
       "    <tr>\n",
       "      <th>4226</th>\n",
       "      <td>东城</td>\n",
       "      <td>1</td>\n",
       "      <td>51.40</td>\n",
       "      <td>middle</td>\n",
       "      <td>1</td>\n",
       "      <td>1</td>\n",
       "      <td>6.1285</td>\n",
       "      <td>有厅</td>\n",
       "      <td>7.906079</td>\n",
       "    </tr>\n",
       "    <tr>\n",
       "      <th>8253</th>\n",
       "      <td>石景山</td>\n",
       "      <td>2</td>\n",
       "      <td>104.47</td>\n",
       "      <td>low</td>\n",
       "      <td>0</td>\n",
       "      <td>0</td>\n",
       "      <td>3.7332</td>\n",
       "      <td>有厅</td>\n",
       "      <td>3.617805</td>\n",
       "    </tr>\n",
       "    <tr>\n",
       "      <th>2450</th>\n",
       "      <td>丰台</td>\n",
       "      <td>3</td>\n",
       "      <td>133.39</td>\n",
       "      <td>middle</td>\n",
       "      <td>1</td>\n",
       "      <td>0</td>\n",
       "      <td>4.6181</td>\n",
       "      <td>有厅</td>\n",
       "      <td>4.405534</td>\n",
       "    </tr>\n",
       "    <tr>\n",
       "      <th>1493</th>\n",
       "      <td>丰台</td>\n",
       "      <td>2</td>\n",
       "      <td>89.48</td>\n",
       "      <td>low</td>\n",
       "      <td>1</td>\n",
       "      <td>0</td>\n",
       "      <td>4.6938</td>\n",
       "      <td>有厅</td>\n",
       "      <td>4.462898</td>\n",
       "    </tr>\n",
       "    <tr>\n",
       "      <th>3894</th>\n",
       "      <td>东城</td>\n",
       "      <td>3</td>\n",
       "      <td>177.00</td>\n",
       "      <td>low</td>\n",
       "      <td>1</td>\n",
       "      <td>0</td>\n",
       "      <td>7.0622</td>\n",
       "      <td>有厅</td>\n",
       "      <td>6.642439</td>\n",
       "    </tr>\n",
       "  </tbody>\n",
       "</table>\n",
       "</div>"
      ],
      "text/plain": [
       "     CATE  bedrooms    AREA   floor  subway  school   price style      预测房价\n",
       "4226   东城         1   51.40  middle       1       1  6.1285    有厅  7.906079\n",
       "8253  石景山         2  104.47     low       0       0  3.7332    有厅  3.617805\n",
       "2450   丰台         3  133.39  middle       1       0  4.6181    有厅  4.405534\n",
       "1493   丰台         2   89.48     low       1       0  4.6938    有厅  4.462898\n",
       "3894   东城         3  177.00     low       1       0  7.0622    有厅  6.642439"
      ]
     },
     "execution_count": 49,
     "metadata": {},
     "output_type": "execute_result"
    }
   ],
   "source": [
    "test_data.head()"
   ]
  },
  {
   "cell_type": "markdown",
   "metadata": {},
   "source": [
    "## 2.1 实践任务—分类问题"
   ]
  },
  {
   "cell_type": "markdown",
   "metadata": {},
   "source": [
    "### （1）读入数据data2,查看数据前5行"
   ]
  },
  {
   "cell_type": "code",
   "execution_count": 50,
   "metadata": {
    "ExecuteTime": {
     "end_time": "2020-09-23T08:18:34.874642Z",
     "start_time": "2020-09-23T08:18:34.726979Z"
    }
   },
   "outputs": [
    {
     "data": {
      "text/html": [
       "<div>\n",
       "<style scoped>\n",
       "    .dataframe tbody tr th:only-of-type {\n",
       "        vertical-align: middle;\n",
       "    }\n",
       "\n",
       "    .dataframe tbody tr th {\n",
       "        vertical-align: top;\n",
       "    }\n",
       "\n",
       "    .dataframe thead th {\n",
       "        text-align: right;\n",
       "    }\n",
       "</style>\n",
       "<table border=\"1\" class=\"dataframe\">\n",
       "  <thead>\n",
       "    <tr style=\"text-align: right;\">\n",
       "      <th></th>\n",
       "      <th>企业代号</th>\n",
       "      <th>企业名称</th>\n",
       "      <th>信誉评级</th>\n",
       "      <th>是否违约</th>\n",
       "      <th>企业类型</th>\n",
       "      <th>违约概率</th>\n",
       "    </tr>\n",
       "  </thead>\n",
       "  <tbody>\n",
       "    <tr>\n",
       "      <th>0</th>\n",
       "      <td>E1</td>\n",
       "      <td>***电器销售有限公司</td>\n",
       "      <td>A</td>\n",
       "      <td>0</td>\n",
       "      <td>零售业</td>\n",
       "      <td>0.00000</td>\n",
       "    </tr>\n",
       "    <tr>\n",
       "      <th>1</th>\n",
       "      <td>E10</td>\n",
       "      <td>***建筑劳务有限公司</td>\n",
       "      <td>B</td>\n",
       "      <td>0</td>\n",
       "      <td>建筑业</td>\n",
       "      <td>0.18251</td>\n",
       "    </tr>\n",
       "    <tr>\n",
       "      <th>2</th>\n",
       "      <td>E100</td>\n",
       "      <td>***装饰工程有限公司</td>\n",
       "      <td>D</td>\n",
       "      <td>1</td>\n",
       "      <td>服务业</td>\n",
       "      <td>0.46757</td>\n",
       "    </tr>\n",
       "    <tr>\n",
       "      <th>3</th>\n",
       "      <td>E101</td>\n",
       "      <td>***灯饰工程有限公司</td>\n",
       "      <td>D</td>\n",
       "      <td>1</td>\n",
       "      <td>服务业</td>\n",
       "      <td>0.45927</td>\n",
       "    </tr>\n",
       "    <tr>\n",
       "      <th>4</th>\n",
       "      <td>E102</td>\n",
       "      <td>***大药房有限责任公司</td>\n",
       "      <td>D</td>\n",
       "      <td>1</td>\n",
       "      <td>医药</td>\n",
       "      <td>1.00000</td>\n",
       "    </tr>\n",
       "  </tbody>\n",
       "</table>\n",
       "</div>"
      ],
      "text/plain": [
       "   企业代号          企业名称 信誉评级  是否违约 企业类型    违约概率\n",
       "0    E1   ***电器销售有限公司    A     0  零售业 0.00000\n",
       "1   E10   ***建筑劳务有限公司    B     0  建筑业 0.18251\n",
       "2  E100   ***装饰工程有限公司    D     1  服务业 0.46757\n",
       "3  E101   ***灯饰工程有限公司    D     1  服务业 0.45927\n",
       "4  E102  ***大药房有限责任公司    D     1   医药 1.00000"
      ]
     },
     "execution_count": 50,
     "metadata": {},
     "output_type": "execute_result"
    }
   ],
   "source": [
    "pd.set_option('display.float_format',lambda x : '%.5f' % x)\n",
    "# python pandas 中禁用科学计数法显示\n",
    "data2 = pd.read_excel('G:/CDO/机器学习/1.实践作业/data2.xlsx')\n",
    "data2.head(5)    "
   ]
  },
  {
   "cell_type": "markdown",
   "metadata": {},
   "source": [
    "### （2）计算是否违约的频数，并绘制合适的图形进行展示"
   ]
  },
  {
   "cell_type": "code",
   "execution_count": 36,
   "metadata": {
    "ExecuteTime": {
     "end_time": "2020-09-23T02:56:43.868352Z",
     "start_time": "2020-09-23T02:56:43.854429Z"
    }
   },
   "outputs": [
    {
     "data": {
      "text/plain": [
       "是否违约\n",
       "0    96\n",
       "1    27\n",
       "dtype: int64"
      ]
     },
     "execution_count": 36,
     "metadata": {},
     "output_type": "execute_result"
    }
   ],
   "source": [
    "data2.groupby(by='是否违约').size()"
   ]
  },
  {
   "cell_type": "code",
   "execution_count": 51,
   "metadata": {
    "ExecuteTime": {
     "end_time": "2020-09-23T08:20:08.760656Z",
     "start_time": "2020-09-23T08:20:08.743871Z"
    }
   },
   "outputs": [
    {
     "data": {
      "text/plain": [
       "0    96\n",
       "1    27\n",
       "Name: 是否违约, dtype: int64"
      ]
     },
     "execution_count": 51,
     "metadata": {},
     "output_type": "execute_result"
    }
   ],
   "source": [
    "data2['是否违约'].value_counts()"
   ]
  },
  {
   "cell_type": "code",
   "execution_count": 52,
   "metadata": {
    "ExecuteTime": {
     "end_time": "2020-09-23T08:20:32.609118Z",
     "start_time": "2020-09-23T08:20:32.146322Z"
    }
   },
   "outputs": [
    {
     "data": {
      "image/png": "[encoded data removed]",
      "text/plain": [
       "<Figure size 432x288 with 1 Axes>"
      ]
     },
     "metadata": {
      "needs_background": "light"
     },
     "output_type": "display_data"
    }
   ],
   "source": [
    "data2.groupby('是否违约').size().plot(kind='bar')\n",
    "plt.show()"
   ]
  },
  {
   "cell_type": "code",
   "execution_count": 78,
   "metadata": {
    "ExecuteTime": {
     "end_time": "2020-09-23T08:55:51.966692Z",
     "start_time": "2020-09-23T08:55:51.900905Z"
    }
   },
   "outputs": [
    {
     "data": {
      "image/png": "[encoded data removed]",
      "text/plain": [
       "<Figure size 432x288 with 1 Axes>"
      ]
     },
     "metadata": {},
     "output_type": "display_data"
    }
   ],
   "source": [
    "slices=[96,27] # 数据\n",
    "activites=[\"未违约\",\"违约\"]\n",
    "cols=[\"c\",\"m\"]\n",
    "plt.pie(slices,\n",
    "       labels=activites,\n",
    "       colors=cols,\n",
    "       startangle=90,  # 指定图形的起始角度\n",
    "       shadow=True,\n",
    "       autopct='%1.0f%%')   \n",
    "plt.title('饼图')\n",
    "plt.show()"
   ]
  },
  {
   "cell_type": "markdown",
   "metadata": {},
   "source": [
    "### （3）以0.15为阈值，给原数据增加一列“预测是否违约”"
   ]
  },
  {
   "cell_type": "code",
   "execution_count": 53,
   "metadata": {
    "ExecuteTime": {
     "end_time": "2020-09-23T08:28:18.712514Z",
     "start_time": "2020-09-23T08:28:18.691606Z"
    }
   },
   "outputs": [
    {
     "data": {
      "text/html": [
       "<div>\n",
       "<style scoped>\n",
       "    .dataframe tbody tr th:only-of-type {\n",
       "        vertical-align: middle;\n",
       "    }\n",
       "\n",
       "    .dataframe tbody tr th {\n",
       "        vertical-align: top;\n",
       "    }\n",
       "\n",
       "    .dataframe thead th {\n",
       "        text-align: right;\n",
       "    }\n",
       "</style>\n",
       "<table border=\"1\" class=\"dataframe\">\n",
       "  <thead>\n",
       "    <tr style=\"text-align: right;\">\n",
       "      <th></th>\n",
       "      <th>企业代号</th>\n",
       "      <th>企业名称</th>\n",
       "      <th>信誉评级</th>\n",
       "      <th>是否违约</th>\n",
       "      <th>企业类型</th>\n",
       "      <th>违约概率</th>\n",
       "      <th>预测是否违约</th>\n",
       "    </tr>\n",
       "  </thead>\n",
       "  <tbody>\n",
       "    <tr>\n",
       "      <th>0</th>\n",
       "      <td>E1</td>\n",
       "      <td>***电器销售有限公司</td>\n",
       "      <td>A</td>\n",
       "      <td>0</td>\n",
       "      <td>零售业</td>\n",
       "      <td>0.00000</td>\n",
       "      <td>False</td>\n",
       "    </tr>\n",
       "    <tr>\n",
       "      <th>1</th>\n",
       "      <td>E10</td>\n",
       "      <td>***建筑劳务有限公司</td>\n",
       "      <td>B</td>\n",
       "      <td>0</td>\n",
       "      <td>建筑业</td>\n",
       "      <td>0.18251</td>\n",
       "      <td>True</td>\n",
       "    </tr>\n",
       "    <tr>\n",
       "      <th>2</th>\n",
       "      <td>E100</td>\n",
       "      <td>***装饰工程有限公司</td>\n",
       "      <td>D</td>\n",
       "      <td>1</td>\n",
       "      <td>服务业</td>\n",
       "      <td>0.46757</td>\n",
       "      <td>True</td>\n",
       "    </tr>\n",
       "    <tr>\n",
       "      <th>3</th>\n",
       "      <td>E101</td>\n",
       "      <td>***灯饰工程有限公司</td>\n",
       "      <td>D</td>\n",
       "      <td>1</td>\n",
       "      <td>服务业</td>\n",
       "      <td>0.45927</td>\n",
       "      <td>True</td>\n",
       "    </tr>\n",
       "    <tr>\n",
       "      <th>4</th>\n",
       "      <td>E102</td>\n",
       "      <td>***大药房有限责任公司</td>\n",
       "      <td>D</td>\n",
       "      <td>1</td>\n",
       "      <td>医药</td>\n",
       "      <td>1.00000</td>\n",
       "      <td>True</td>\n",
       "    </tr>\n",
       "  </tbody>\n",
       "</table>\n",
       "</div>"
      ],
      "text/plain": [
       "   企业代号          企业名称 信誉评级  是否违约 企业类型    违约概率  预测是否违约\n",
       "0    E1   ***电器销售有限公司    A     0  零售业 0.00000   False\n",
       "1   E10   ***建筑劳务有限公司    B     0  建筑业 0.18251    True\n",
       "2  E100   ***装饰工程有限公司    D     1  服务业 0.46757    True\n",
       "3  E101   ***灯饰工程有限公司    D     1  服务业 0.45927    True\n",
       "4  E102  ***大药房有限责任公司    D     1   医药 1.00000    True"
      ]
     },
     "execution_count": 53,
     "metadata": {},
     "output_type": "execute_result"
    }
   ],
   "source": [
    "data2['预测是否违约']=data2['违约概率']>0.15\n",
    "data2.head()"
   ]
  },
  {
   "cell_type": "markdown",
   "metadata": {},
   "source": [
    "### （4）以0.15为阈值，计算混淆矩阵、准确率、查准率（精度）、查全率（召回率）、F1值及AUC"
   ]
  },
  {
   "cell_type": "code",
   "execution_count": 54,
   "metadata": {
    "ExecuteTime": {
     "end_time": "2020-09-23T08:29:20.682337Z",
     "start_time": "2020-09-23T08:29:20.641477Z"
    }
   },
   "outputs": [
    {
     "data": {
      "text/plain": [
       "array([[25,  2],\n",
       "       [33, 63]], dtype=int64)"
      ]
     },
     "execution_count": 54,
     "metadata": {},
     "output_type": "execute_result"
    }
   ],
   "source": [
    "#from sklearn import metrics #前面已加载\n",
    "#混淆矩阵\n",
    "metrics.confusion_matrix(data2['是否违约'],data2['预测是否违约'],labels=[1,0])  "
   ]
  },
  {
   "cell_type": "code",
   "execution_count": 55,
   "metadata": {
    "ExecuteTime": {
     "end_time": "2020-09-23T08:31:33.668653Z",
     "start_time": "2020-09-23T08:31:33.655690Z"
    }
   },
   "outputs": [
    {
     "data": {
      "text/plain": [
       "0.7154471544715447"
      ]
     },
     "execution_count": 55,
     "metadata": {},
     "output_type": "execute_result"
    }
   ],
   "source": [
    "#准确率  accuracy=(TP+TN)/(P+N) 预测正确的样本数目/参加预测的样本总数目\n",
    "metrics.accuracy_score(data2['是否违约'],data2['预测是否违约']) "
   ]
  },
  {
   "cell_type": "code",
   "execution_count": 56,
   "metadata": {
    "ExecuteTime": {
     "end_time": "2020-09-23T08:31:37.236280Z",
     "start_time": "2020-09-23T08:31:37.137550Z"
    }
   },
   "outputs": [
    {
     "data": {
      "text/plain": [
       "0.43103448275862066"
      ]
     },
     "execution_count": 56,
     "metadata": {},
     "output_type": "execute_result"
    }
   ],
   "source": [
    "#查准率（精度） precision=TP/(TP+FP) 所有预测为正例的样本中真正为正例的样本的比率\n",
    "metrics.precision_score(data2['是否违约'],data2['预测是否违约'],average='binary') "
   ]
  },
  {
   "cell_type": "code",
   "execution_count": 57,
   "metadata": {
    "ExecuteTime": {
     "end_time": "2020-09-23T08:31:40.030135Z",
     "start_time": "2020-09-23T08:31:40.017192Z"
    }
   },
   "outputs": [
    {
     "data": {
      "text/plain": [
       "0.9259259259259259"
      ]
     },
     "execution_count": 57,
     "metadata": {},
     "output_type": "execute_result"
    }
   ],
   "source": [
    "#查全率（召回率）recall=TP/(TP+FN)\n",
    "metrics.recall_score(data2['是否违约'],data2['预测是否违约'],average='binary')"
   ]
  },
  {
   "cell_type": "code",
   "execution_count": 58,
   "metadata": {
    "ExecuteTime": {
     "end_time": "2020-09-23T08:31:42.565638Z",
     "start_time": "2020-09-23T08:31:42.551682Z"
    }
   },
   "outputs": [
    {
     "data": {
      "text/plain": [
       "0.5882352941176471"
      ]
     },
     "execution_count": 58,
     "metadata": {},
     "output_type": "execute_result"
    }
   ],
   "source": [
    "#F1值，F1=2PR/(P+R)\n",
    "metrics.f1_score(data2['是否违约'],data2['预测是否违约'],average='binary')"
   ]
  },
  {
   "cell_type": "code",
   "execution_count": 59,
   "metadata": {
    "ExecuteTime": {
     "end_time": "2020-09-23T08:32:55.555675Z",
     "start_time": "2020-09-23T08:32:55.478912Z"
    }
   },
   "outputs": [
    {
     "data": {
      "text/plain": [
       "0.791087962962963"
      ]
     },
     "execution_count": 59,
     "metadata": {},
     "output_type": "execute_result"
    }
   ],
   "source": [
    "#AUC\n",
    "metrics.roc_auc_score(data2['是否违约'],data2['预测是否违约']) "
   ]
  },
  {
   "cell_type": "code",
   "execution_count": 60,
   "metadata": {
    "ExecuteTime": {
     "end_time": "2020-09-23T08:32:57.759845Z",
     "start_time": "2020-09-23T08:32:57.747875Z"
    }
   },
   "outputs": [
    {
     "name": "stdout",
     "output_type": "stream",
     "text": [
      "              precision    recall  f1-score   support\n",
      "\n",
      "           1       0.43      0.93      0.59        27\n",
      "           0       0.97      0.66      0.78        96\n",
      "\n",
      "    accuracy                           0.72       123\n",
      "   macro avg       0.70      0.79      0.69       123\n",
      "weighted avg       0.85      0.72      0.74       123\n",
      "\n"
     ]
    }
   ],
   "source": [
    "#一次性输出\n",
    "print(metrics.classification_report(data2.是否违约 ,data2.预测是否违约,labels=[1,0],target_names=['1','0']))"
   ]
  },
  {
   "cell_type": "markdown",
   "metadata": {},
   "source": [
    "### （5）以0.3为阈值，计算准确率、查准率（精度）、查全率（召回率）"
   ]
  },
  {
   "cell_type": "code",
   "execution_count": 61,
   "metadata": {
    "ExecuteTime": {
     "end_time": "2020-09-23T08:34:13.581713Z",
     "start_time": "2020-09-23T08:34:13.561767Z"
    }
   },
   "outputs": [
    {
     "data": {
      "text/html": [
       "<div>\n",
       "<style scoped>\n",
       "    .dataframe tbody tr th:only-of-type {\n",
       "        vertical-align: middle;\n",
       "    }\n",
       "\n",
       "    .dataframe tbody tr th {\n",
       "        vertical-align: top;\n",
       "    }\n",
       "\n",
       "    .dataframe thead th {\n",
       "        text-align: right;\n",
       "    }\n",
       "</style>\n",
       "<table border=\"1\" class=\"dataframe\">\n",
       "  <thead>\n",
       "    <tr style=\"text-align: right;\">\n",
       "      <th></th>\n",
       "      <th>企业代号</th>\n",
       "      <th>企业名称</th>\n",
       "      <th>信誉评级</th>\n",
       "      <th>是否违约</th>\n",
       "      <th>企业类型</th>\n",
       "      <th>违约概率</th>\n",
       "      <th>预测是否违约</th>\n",
       "      <th>预测是否违约1</th>\n",
       "    </tr>\n",
       "  </thead>\n",
       "  <tbody>\n",
       "    <tr>\n",
       "      <th>0</th>\n",
       "      <td>E1</td>\n",
       "      <td>***电器销售有限公司</td>\n",
       "      <td>A</td>\n",
       "      <td>0</td>\n",
       "      <td>零售业</td>\n",
       "      <td>0.00000</td>\n",
       "      <td>False</td>\n",
       "      <td>False</td>\n",
       "    </tr>\n",
       "    <tr>\n",
       "      <th>1</th>\n",
       "      <td>E10</td>\n",
       "      <td>***建筑劳务有限公司</td>\n",
       "      <td>B</td>\n",
       "      <td>0</td>\n",
       "      <td>建筑业</td>\n",
       "      <td>0.18251</td>\n",
       "      <td>True</td>\n",
       "      <td>False</td>\n",
       "    </tr>\n",
       "    <tr>\n",
       "      <th>2</th>\n",
       "      <td>E100</td>\n",
       "      <td>***装饰工程有限公司</td>\n",
       "      <td>D</td>\n",
       "      <td>1</td>\n",
       "      <td>服务业</td>\n",
       "      <td>0.46757</td>\n",
       "      <td>True</td>\n",
       "      <td>True</td>\n",
       "    </tr>\n",
       "    <tr>\n",
       "      <th>3</th>\n",
       "      <td>E101</td>\n",
       "      <td>***灯饰工程有限公司</td>\n",
       "      <td>D</td>\n",
       "      <td>1</td>\n",
       "      <td>服务业</td>\n",
       "      <td>0.45927</td>\n",
       "      <td>True</td>\n",
       "      <td>True</td>\n",
       "    </tr>\n",
       "    <tr>\n",
       "      <th>4</th>\n",
       "      <td>E102</td>\n",
       "      <td>***大药房有限责任公司</td>\n",
       "      <td>D</td>\n",
       "      <td>1</td>\n",
       "      <td>医药</td>\n",
       "      <td>1.00000</td>\n",
       "      <td>True</td>\n",
       "      <td>True</td>\n",
       "    </tr>\n",
       "  </tbody>\n",
       "</table>\n",
       "</div>"
      ],
      "text/plain": [
       "   企业代号          企业名称 信誉评级  是否违约 企业类型    违约概率  预测是否违约  预测是否违约1\n",
       "0    E1   ***电器销售有限公司    A     0  零售业 0.00000   False    False\n",
       "1   E10   ***建筑劳务有限公司    B     0  建筑业 0.18251    True    False\n",
       "2  E100   ***装饰工程有限公司    D     1  服务业 0.46757    True     True\n",
       "3  E101   ***灯饰工程有限公司    D     1  服务业 0.45927    True     True\n",
       "4  E102  ***大药房有限责任公司    D     1   医药 1.00000    True     True"
      ]
     },
     "execution_count": 61,
     "metadata": {},
     "output_type": "execute_result"
    }
   ],
   "source": [
    "data2['预测是否违约1']=data2['违约概率']>0.3\n",
    "data2.head()"
   ]
  },
  {
   "cell_type": "code",
   "execution_count": 63,
   "metadata": {
    "ExecuteTime": {
     "end_time": "2020-09-23T08:38:26.227585Z",
     "start_time": "2020-09-23T08:38:26.212627Z"
    }
   },
   "outputs": [
    {
     "name": "stdout",
     "output_type": "stream",
     "text": [
      "              precision    recall  f1-score   support\n",
      "\n",
      "           1       0.50      0.67      0.57        27\n",
      "           0       0.90      0.81      0.85        96\n",
      "\n",
      "    accuracy                           0.78       123\n",
      "   macro avg       0.70      0.74      0.71       123\n",
      "weighted avg       0.81      0.78      0.79       123\n",
      "\n"
     ]
    }
   ],
   "source": [
    "#与阈值是0.15的比较，在阈值为0.3时，精率提高，召回率降低\n",
    "print(metrics.classification_report(data2.是否违约 ,data2.预测是否违约1,labels=[1,0],target_names=['1','0'])) "
   ]
  },
  {
   "cell_type": "markdown",
   "metadata": {},
   "source": [
    "### （7）绘制P-R曲线"
   ]
  },
  {
   "cell_type": "code",
   "execution_count": 64,
   "metadata": {
    "ExecuteTime": {
     "end_time": "2020-09-23T08:39:04.113504Z",
     "start_time": "2020-09-23T08:39:04.068235Z"
    }
   },
   "outputs": [],
   "source": [
    "precision, recall, thresholds = metrics.precision_recall_curve(data2['是否违约'],data2['违约概率'],pos_label=1)"
   ]
  },
  {
   "cell_type": "code",
   "execution_count": 65,
   "metadata": {
    "ExecuteTime": {
     "end_time": "2020-09-23T08:39:29.571458Z",
     "start_time": "2020-09-23T08:39:29.559521Z"
    }
   },
   "outputs": [
    {
     "name": "stdout",
     "output_type": "stream",
     "text": [
      "precision:0.397|recall:1.000|thresholds:0.097\n",
      "precision:0.388|recall:0.963|thresholds:0.105\n",
      "precision:0.379|recall:0.926|thresholds:0.108\n",
      "precision:0.385|recall:0.926|thresholds:0.109\n",
      "precision:0.391|recall:0.926|thresholds:0.117\n",
      "precision:0.397|recall:0.926|thresholds:0.121\n",
      "precision:0.403|recall:0.926|thresholds:0.124\n",
      "precision:0.410|recall:0.926|thresholds:0.131\n",
      "precision:0.417|recall:0.926|thresholds:0.132\n",
      "precision:0.424|recall:0.926|thresholds:0.149\n",
      "precision:0.431|recall:0.926|thresholds:0.160\n",
      "precision:0.421|recall:0.889|thresholds:0.181\n",
      "precision:0.429|recall:0.889|thresholds:0.183\n",
      "precision:0.436|recall:0.889|thresholds:0.193\n",
      "precision:0.426|recall:0.852|thresholds:0.193\n",
      "precision:0.434|recall:0.852|thresholds:0.205\n",
      "precision:0.442|recall:0.852|thresholds:0.211\n",
      "precision:0.431|recall:0.815|thresholds:0.216\n",
      "precision:0.440|recall:0.815|thresholds:0.217\n",
      "precision:0.429|recall:0.778|thresholds:0.229\n",
      "precision:0.438|recall:0.778|thresholds:0.232\n",
      "precision:0.447|recall:0.778|thresholds:0.237\n",
      "precision:0.457|recall:0.778|thresholds:0.265\n",
      "precision:0.467|recall:0.778|thresholds:0.271\n",
      "precision:0.477|recall:0.778|thresholds:0.273\n",
      "precision:0.465|recall:0.741|thresholds:0.273\n",
      "precision:0.476|recall:0.741|thresholds:0.280\n",
      "precision:0.488|recall:0.741|thresholds:0.284\n",
      "precision:0.500|recall:0.741|thresholds:0.289\n",
      "precision:0.513|recall:0.741|thresholds:0.292\n",
      "precision:0.500|recall:0.704|thresholds:0.295\n",
      "precision:0.514|recall:0.704|thresholds:0.298\n",
      "precision:0.500|recall:0.667|thresholds:0.304\n",
      "precision:0.514|recall:0.667|thresholds:0.326\n",
      "precision:0.529|recall:0.667|thresholds:0.330\n",
      "precision:0.545|recall:0.667|thresholds:0.334\n",
      "precision:0.562|recall:0.667|thresholds:0.363\n",
      "precision:0.581|recall:0.667|thresholds:0.363\n",
      "precision:0.600|recall:0.667|thresholds:0.363\n",
      "precision:0.621|recall:0.667|thresholds:0.365\n",
      "precision:0.643|recall:0.667|thresholds:0.377\n",
      "precision:0.667|recall:0.667|thresholds:0.381\n",
      "precision:0.692|recall:0.667|thresholds:0.391\n",
      "precision:0.720|recall:0.667|thresholds:0.417\n",
      "precision:0.708|recall:0.630|thresholds:0.430\n",
      "precision:0.739|recall:0.630|thresholds:0.443\n",
      "precision:0.773|recall:0.630|thresholds:0.454\n",
      "precision:0.762|recall:0.593|thresholds:0.459\n",
      "precision:0.750|recall:0.556|thresholds:0.468\n",
      "precision:0.737|recall:0.519|thresholds:0.468\n",
      "precision:0.778|recall:0.519|thresholds:0.482\n",
      "precision:0.765|recall:0.481|thresholds:0.492\n",
      "precision:0.750|recall:0.444|thresholds:0.501\n",
      "precision:0.733|recall:0.407|thresholds:0.521\n",
      "precision:0.714|recall:0.370|thresholds:0.522\n",
      "precision:0.769|recall:0.370|thresholds:0.541\n",
      "precision:0.833|recall:0.370|thresholds:0.557\n",
      "precision:0.909|recall:0.370|thresholds:0.620\n",
      "precision:0.900|recall:0.333|thresholds:0.663\n",
      "precision:0.889|recall:0.296|thresholds:0.699\n",
      "precision:0.875|recall:0.259|thresholds:0.729\n",
      "precision:0.857|recall:0.222|thresholds:0.761\n",
      "precision:0.833|recall:0.185|thresholds:0.818\n",
      "precision:1.000|recall:0.185|thresholds:0.825\n",
      "precision:1.000|recall:0.148|thresholds:0.991\n",
      "precision:1.000|recall:0.111|thresholds:1.000\n",
      "precision:1.000|recall:0.074|thresholds:1.000\n",
      "precision:1.000|recall:0.037|thresholds:1.000\n"
     ]
    }
   ],
   "source": [
    "for i in range(len(thresholds)):\n",
    "    print(\"precision:%0.3f|recall:%0.3f|thresholds:%0.3f\" %(precision[i], recall[i], thresholds[i]))"
   ]
  },
  {
   "cell_type": "code",
   "execution_count": 67,
   "metadata": {
    "ExecuteTime": {
     "end_time": "2020-09-23T08:40:29.962653Z",
     "start_time": "2020-09-23T08:40:29.821577Z"
    }
   },
   "outputs": [
    {
     "data": {
      "image/png": "[encoded data removed]",
      "text/plain": [
       "<Figure size 432x288 with 1 Axes>"
      ]
     },
     "metadata": {
      "needs_background": "light"
     },
     "output_type": "display_data"
    }
   ],
   "source": [
    "plt.plot(recall,precision)\n",
    "plt.xlabel(\"查全率R\") \n",
    "plt.ylabel(\"查准率P\")\n",
    "plt.title(\"P-R曲线\") \n",
    "plt.show()"
   ]
  },
  {
   "cell_type": "markdown",
   "metadata": {},
   "source": [
    "### （8）绘制ROC曲线"
   ]
  },
  {
   "cell_type": "code",
   "execution_count": 68,
   "metadata": {
    "ExecuteTime": {
     "end_time": "2020-09-23T08:40:40.724491Z",
     "start_time": "2020-09-23T08:40:40.714519Z"
    }
   },
   "outputs": [],
   "source": [
    "fpr, tpr, thresholds = metrics.roc_curve(data2['是否违约'],data2['违约概率'],pos_label=1)"
   ]
  },
  {
   "cell_type": "code",
   "execution_count": 69,
   "metadata": {
    "ExecuteTime": {
     "end_time": "2020-09-23T08:40:56.055366Z",
     "start_time": "2020-09-23T08:40:56.040377Z"
    }
   },
   "outputs": [
    {
     "name": "stdout",
     "output_type": "stream",
     "text": [
      "FPR:0.000|TPR:0.000|thresholds:2.000\n",
      "FPR:0.000|TPR:0.037|thresholds:1.000\n",
      "FPR:0.000|TPR:0.185|thresholds:0.825\n",
      "FPR:0.010|TPR:0.185|thresholds:0.818\n",
      "FPR:0.010|TPR:0.370|thresholds:0.620\n",
      "FPR:0.042|TPR:0.370|thresholds:0.522\n",
      "FPR:0.042|TPR:0.519|thresholds:0.482\n",
      "FPR:0.052|TPR:0.519|thresholds:0.468\n",
      "FPR:0.052|TPR:0.630|thresholds:0.454\n",
      "FPR:0.073|TPR:0.630|thresholds:0.430\n",
      "FPR:0.073|TPR:0.667|thresholds:0.417\n",
      "FPR:0.188|TPR:0.667|thresholds:0.304\n",
      "FPR:0.188|TPR:0.704|thresholds:0.298\n",
      "FPR:0.198|TPR:0.704|thresholds:0.295\n",
      "FPR:0.198|TPR:0.741|thresholds:0.292\n",
      "FPR:0.240|TPR:0.741|thresholds:0.273\n",
      "FPR:0.240|TPR:0.778|thresholds:0.273\n",
      "FPR:0.292|TPR:0.778|thresholds:0.229\n",
      "FPR:0.292|TPR:0.815|thresholds:0.217\n",
      "FPR:0.302|TPR:0.815|thresholds:0.216\n",
      "FPR:0.302|TPR:0.852|thresholds:0.211\n",
      "FPR:0.323|TPR:0.852|thresholds:0.193\n",
      "FPR:0.323|TPR:0.889|thresholds:0.193\n",
      "FPR:0.344|TPR:0.889|thresholds:0.181\n",
      "FPR:0.344|TPR:0.926|thresholds:0.160\n",
      "FPR:0.427|TPR:0.926|thresholds:0.108\n",
      "FPR:0.427|TPR:1.000|thresholds:0.097\n",
      "FPR:0.938|TPR:1.000|thresholds:0.000\n",
      "FPR:1.000|TPR:1.000|thresholds:0.000\n"
     ]
    }
   ],
   "source": [
    "for i in range(len(thresholds)):\n",
    "    print(\"FPR:%0.3f|TPR:%0.3f|thresholds:%0.3f\" %(fpr[i], tpr[i], thresholds[i]))"
   ]
  },
  {
   "cell_type": "code",
   "execution_count": 70,
   "metadata": {
    "ExecuteTime": {
     "end_time": "2020-09-23T08:41:14.395044Z",
     "start_time": "2020-09-23T08:41:14.237572Z"
    }
   },
   "outputs": [
    {
     "data": {
      "image/png": "[encoded data removed]",
      "text/plain": [
       "<Figure size 432x288 with 1 Axes>"
      ]
     },
     "metadata": {
      "needs_background": "light"
     },
     "output_type": "display_data"
    }
   ],
   "source": [
    "plt.plot(fpr, tpr) #绘制ROC曲线图\n",
    "plt.xlabel(\"FPR\") \n",
    "plt.ylabel(\"TPR\")\n",
    "plt.title(\"ROC曲线\")\n",
    "plt.show()"
   ]
  }
 ],
 "metadata": {
  "kernelspec": {
   "display_name": "Python 3",
   "language": "python",
   "name": "python3"
  },
  "language_info": {
   "codemirror_mode": {
    "name": "ipython",
    "version": 3
   },
   "file_extension": ".py",
   "mimetype": "text/x-python",
   "name": "python",
   "nbconvert_exporter": "python",
   "pygments_lexer": "ipython3",
   "version": "3.7.6"
  },
  "latex_envs": {
   "LaTeX_envs_menu_present": true,
   "autoclose": false,
   "autocomplete": true,
   "bibliofile": "biblio.bib",
   "cite_by": "apalike",
   "current_citInitial": 1,
   "eqLabelWithNumbers": true,
   "eqNumInitial": 1,
   "hotkeys": {
    "equation": "Ctrl-E",
    "itemize": "Ctrl-I"
   },
   "labels_anchors": false,
   "latex_user_defs": false,
   "report_style_numbering": false,
   "user_envs_cfg": false
  },
  "nbTranslate": {
   "displayLangs": [
    "*"
   ],
   "hotkey": "alt-t",
   "langInMainMenu": true,
   "sourceLang": "en",
   "targetLang": "fr",
   "useGoogleTranslate": true
  },
  "toc": {
   "base_numbering": 1,
   "nav_menu": {},
   "number_sections": true,
   "sideBar": true,
   "skip_h1_title": false,
   "title_cell": "Table of Contents",
   "title_sidebar": "Contents",
   "toc_cell": false,
   "toc_position": {
    "height": "calc(100% - 180px)",
    "left": "10px",
    "top": "150px",
    "width": "267.9px"
   },
   "toc_section_display": true,
   "toc_window_display": true
  }
 },
 "nbformat": 4,
 "nbformat_minor": 4
}
