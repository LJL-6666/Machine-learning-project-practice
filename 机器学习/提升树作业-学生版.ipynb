{
 "cells": [
  {
   "cell_type": "markdown",
   "metadata": {},
   "source": [
    "# 提升树实践作业"
   ]
  },
  {
   "cell_type": "markdown",
   "metadata": {},
   "source": [
    "## 利用breast_cancer数据集构建GBDT及XGBoost分类模型，预测是否得癌症，并与其他分类模型做比较，说明其预测的效果"
   ]
  },
  {
   "cell_type": "code",
   "execution_count": 2,
   "metadata": {
    "ExecuteTime": {
     "end_time": "2020-11-26T00:09:17.087054Z",
     "start_time": "2020-11-26T00:09:17.078078Z"
    }
   },
   "outputs": [],
   "source": [
    "import numpy as np\n",
    "import pandas as pd  \n",
    "import matplotlib.pyplot as plt\n",
    "plt.rcParams['font.sans-serif']=['SimHei']\n",
    "from sklearn import metrics\n",
    "from sklearn.metrics import confusion_matrix\n",
    "from sklearn.preprocessing import LabelEncoder\n",
    "from sklearn.ensemble import AdaBoostClassifier\n",
    "from sklearn.tree import DecisionTreeClassifier\n",
    "from sklearn.model_selection import train_test_split "
   ]
  },
  {
   "cell_type": "code",
   "execution_count": 2,
   "metadata": {
    "ExecuteTime": {
     "end_time": "2020-11-25T10:04:46.153940Z",
     "start_time": "2020-11-25T10:04:45.606062Z"
    }
   },
   "outputs": [],
   "source": [
    "from sklearn.datasets import load_breast_cancer \n",
    "breast_cancer= load_breast_cancer()"
   ]
  },
  {
   "cell_type": "code",
   "execution_count": 3,
   "metadata": {
    "ExecuteTime": {
     "end_time": "2020-11-25T10:05:11.002530Z",
     "start_time": "2020-11-25T10:05:10.946871Z"
    }
   },
   "outputs": [],
   "source": [
    "X = pd.DataFrame(breast_cancer.data, columns=breast_cancer.feature_names)\n",
    "y = pd.Categorical.from_codes(breast_cancer.target, breast_cancer.target_names)"
   ]
  },
  {
   "cell_type": "code",
   "execution_count": 4,
   "metadata": {
    "ExecuteTime": {
     "end_time": "2020-11-25T10:05:21.937938Z",
     "start_time": "2020-11-25T10:05:21.923952Z"
    }
   },
   "outputs": [],
   "source": [
    "encoder = LabelEncoder()\n",
    "binary_encoded_y = pd.Series(encoder.fit_transform(y))"
   ]
  },
  {
   "cell_type": "code",
   "execution_count": 14,
   "metadata": {
    "ExecuteTime": {
     "end_time": "2020-11-25T10:10:48.808547Z",
     "start_time": "2020-11-25T10:10:48.789600Z"
    }
   },
   "outputs": [],
   "source": [
    "from sklearn.model_selection import train_test_split \n",
    "train_X, test_X, train_y, test_y = train_test_split(X, binary_encoded_y, random_state=1)"
   ]
  },
  {
   "cell_type": "markdown",
   "metadata": {},
   "source": [
    "### XGBoost"
   ]
  },
  {
   "cell_type": "code",
   "execution_count": 3,
   "metadata": {
    "ExecuteTime": {
     "end_time": "2020-11-26T00:09:28.462087Z",
     "start_time": "2020-11-26T00:09:23.702656Z"
    }
   },
   "outputs": [],
   "source": [
    "import xgboost\n",
    "from numpy import loadtxt\n",
    "from xgboost import XGBClassifier \n",
    "from sklearn.metrics import accuracy_score"
   ]
  },
  {
   "cell_type": "code",
   "execution_count": 8,
   "metadata": {
    "ExecuteTime": {
     "end_time": "2020-11-25T10:08:00.138553Z",
     "start_time": "2020-11-25T10:07:59.862027Z"
    }
   },
   "outputs": [
    {
     "data": {
      "text/plain": [
       "XGBClassifier(base_score=0.5, booster='gbtree', colsample_bylevel=1,\n",
       "              colsample_bynode=1, colsample_bytree=1, gamma=0, gpu_id=-1,\n",
       "              importance_type='gain', interaction_constraints='',\n",
       "              learning_rate=0.01, max_delta_step=0, max_depth=6,\n",
       "              min_child_weight=1, missing=nan, monotone_constraints='()',\n",
       "              n_estimators=100, n_jobs=0, num_parallel_tree=1, random_state=0,\n",
       "              reg_alpha=0, reg_lambda=1, scale_pos_weight=1, subsample=1,\n",
       "              tree_method='exact', validate_parameters=1, verbosity=None)"
      ]
     },
     "execution_count": 8,
     "metadata": {},
     "output_type": "execute_result"
    }
   ],
   "source": [
    "model = XGBClassifier(learning_rate=0.01)\n",
    "model.fit(train_X, train_y)"
   ]
  },
  {
   "cell_type": "code",
   "execution_count": 9,
   "metadata": {
    "ExecuteTime": {
     "end_time": "2020-11-25T10:08:13.356643Z",
     "start_time": "2020-11-25T10:08:13.299796Z"
    }
   },
   "outputs": [
    {
     "data": {
      "text/plain": [
       "array([0, 1, 0, 1, 1, 1, 0, 1, 0, 0, 0, 1, 1, 0, 1, 0, 0, 0, 0, 1, 0, 0,\n",
       "       1, 0, 1, 0, 0, 1, 1, 1, 1, 0, 1, 1, 0, 0, 1, 0, 0, 0, 0, 0, 0, 0,\n",
       "       0, 1, 0, 0, 0, 0, 1, 1, 0, 0, 0, 0, 0, 1, 0, 0, 0, 1, 0, 0, 0, 0,\n",
       "       0, 1, 0, 0, 0, 0, 0, 1, 0, 1, 0, 0, 0, 1, 0, 1, 0, 1, 0, 0, 1, 0,\n",
       "       1, 0, 0, 1, 0, 0, 1, 1, 0, 0, 0, 0, 0, 0, 0, 0, 0, 0, 0, 0, 1, 1,\n",
       "       1, 1, 0, 0, 1, 1, 0, 0, 0, 0, 0, 1, 1, 0, 0, 1, 1, 0, 1, 1, 0, 0,\n",
       "       0, 1, 0, 1, 1, 0, 0, 0, 1, 1, 0])"
      ]
     },
     "execution_count": 9,
     "metadata": {},
     "output_type": "execute_result"
    }
   ],
   "source": [
    "y_pred = model.predict(test_X)\n",
    "y_pred"
   ]
  },
  {
   "cell_type": "code",
   "execution_count": 10,
   "metadata": {
    "ExecuteTime": {
     "end_time": "2020-11-25T10:08:21.467931Z",
     "start_time": "2020-11-25T10:08:21.405117Z"
    }
   },
   "outputs": [
    {
     "name": "stdout",
     "output_type": "stream",
     "text": [
      "AUC: 0.9341\n",
      "Accuracy: 0.9441\n",
      "Recall: 0.8909\n",
      "F1-score: 0.9245\n",
      "Precesion: 0.9608\n"
     ]
    }
   ],
   "source": [
    "from sklearn import metrics\n",
    "# ROC曲线下与坐标轴围成的面积\n",
    "print ('AUC: %.4f' % metrics.roc_auc_score(test_y ,y_pred))\n",
    "# 准确率\n",
    "print ('Accuracy: %.4f' % metrics.accuracy_score(test_y ,y_pred))\n",
    "print ('Recall: %.4f' % metrics.recall_score(test_y ,y_pred))\n",
    "# 精确率和召回率的调和平均数\n",
    "print ('F1-score: %.4f' %metrics.f1_score(test_y ,y_pred))\n",
    "print ('Precesion: %.4f' %metrics.precision_score(test_y ,y_pred))"
   ]
  },
  {
   "cell_type": "markdown",
   "metadata": {},
   "source": [
    "### GBDT"
   ]
  },
  {
   "cell_type": "markdown",
   "metadata": {},
   "source": [
    "#### adaboost模型"
   ]
  },
  {
   "cell_type": "code",
   "execution_count": 16,
   "metadata": {
    "ExecuteTime": {
     "end_time": "2020-11-25T10:11:12.300532Z",
     "start_time": "2020-11-25T10:11:11.664181Z"
    }
   },
   "outputs": [
    {
     "data": {
      "text/plain": [
       "AdaBoostClassifier(base_estimator=DecisionTreeClassifier(max_depth=1),\n",
       "                   n_estimators=200)"
      ]
     },
     "execution_count": 16,
     "metadata": {},
     "output_type": "execute_result"
    }
   ],
   "source": [
    "classifier = AdaBoostClassifier(\n",
    "    DecisionTreeClassifier(max_depth=1),\n",
    "    n_estimators=200\n",
    ")\n",
    "classifier.fit(train_X, train_y)"
   ]
  },
  {
   "cell_type": "code",
   "execution_count": 17,
   "metadata": {
    "ExecuteTime": {
     "end_time": "2020-11-25T10:11:25.610968Z",
     "start_time": "2020-11-25T10:11:25.549657Z"
    }
   },
   "outputs": [],
   "source": [
    "predictions = classifier.predict(test_X)"
   ]
  },
  {
   "cell_type": "code",
   "execution_count": 18,
   "metadata": {
    "ExecuteTime": {
     "end_time": "2020-11-25T10:11:30.811033Z",
     "start_time": "2020-11-25T10:11:30.747078Z"
    }
   },
   "outputs": [
    {
     "data": {
      "text/plain": [
       "array([[86,  2],\n",
       "       [ 3, 52]], dtype=int64)"
      ]
     },
     "execution_count": 18,
     "metadata": {},
     "output_type": "execute_result"
    }
   ],
   "source": [
    "confusion_matrix(test_y, predictions)"
   ]
  },
  {
   "cell_type": "code",
   "execution_count": 21,
   "metadata": {
    "ExecuteTime": {
     "end_time": "2020-11-25T10:16:10.158171Z",
     "start_time": "2020-11-25T10:16:08.711067Z"
    }
   },
   "outputs": [],
   "source": [
    "# 深度=1的CART树做为adaboost的基分类器\n",
    "base_estimator = DecisionTreeClassifier(max_depth=1)\n",
    "n_estimators = np.arange(1,101,10)\n",
    "accs_train = []\n",
    "accs_test = []\n",
    "\n",
    "for n_estimator in n_estimators:\n",
    "    adaB = AdaBoostClassifier(base_estimator= base_estimator,n_estimators=n_estimator, learning_rate= 0.5, random_state=0)\n",
    "    adaB.fit(train_X, train_y)\n",
    "\n",
    "    y_train_pred = adaB.predict(train_X)\n",
    "    acc_train = metrics.accuracy_score(train_y, y_train_pred)\n",
    "    accs_train.append(acc_train)\n",
    "    \n",
    "    y_test_pred = adaB.predict(test_X)\n",
    "    acc_test = metrics.accuracy_score(test_y, y_test_pred)\n",
    "    accs_test.append(acc_test)"
   ]
  },
  {
   "cell_type": "code",
   "execution_count": 22,
   "metadata": {
    "ExecuteTime": {
     "end_time": "2020-11-25T10:16:20.354161Z",
     "start_time": "2020-11-25T10:16:19.952324Z"
    }
   },
   "outputs": [
    {
     "data": {
      "image/png": "[encoded data removed]",
      "text/plain": [
       "<Figure size 720x432 with 1 Axes>"
      ]
     },
     "metadata": {
      "needs_background": "light"
     },
     "output_type": "display_data"
    }
   ],
   "source": [
    "#画图\n",
    "plt.figure(figsize=(10,6))\n",
    "plt.plot(n_estimators, accs_train, 'r-',lw=2, label='train')\n",
    "plt.plot(n_estimators, accs_test, 'g-',lw=2, label='test')\n",
    "plt.ylim(0.88,1.01)\n",
    "plt.xlabel('Num of n_estimators',fontsize = 12)\n",
    "plt.ylabel('accurate',fontsize =12)\n",
    "plt.grid(b = True,ls= ':')\n",
    "plt.title('Different accurate of n_estimators',fontsize = 16)\n",
    "plt.legend(loc = 'best')\n",
    "plt.show()"
   ]
  },
  {
   "cell_type": "code",
   "execution_count": 23,
   "metadata": {
    "ExecuteTime": {
     "end_time": "2020-11-25T10:16:31.619296Z",
     "start_time": "2020-11-25T10:16:31.608326Z"
    }
   },
   "outputs": [],
   "source": [
    "# learning_rate对模型效果的影响\n",
    "base_estimator = DecisionTreeClassifier(max_depth=1)\n",
    "learning_rates = [0.05, 0.1, 0.5, 0.9]\n",
    "n_estimators = np.arange(1,41,1)"
   ]
  },
  {
   "cell_type": "code",
   "execution_count": 26,
   "metadata": {
    "ExecuteTime": {
     "end_time": "2020-11-25T10:18:33.591805Z",
     "start_time": "2020-11-25T10:18:18.428697Z"
    }
   },
   "outputs": [
    {
     "data": {
      "image/png": "[encoded data removed]",
      "text/plain": [
       "<Figure size 1440x1080 with 4 Axes>"
      ]
     },
     "metadata": {},
     "output_type": "display_data"
    }
   ],
   "source": [
    "plt.figure(figsize=(20,15), facecolor='w')\n",
    "for i, learning_rate in enumerate(learning_rates):\n",
    "    accs_train = []\n",
    "    accs_test = []\n",
    "    for n_estimator in n_estimators:\n",
    "        adaB = AdaBoostClassifier(base_estimator= base_estimator,n_estimators=n_estimator, learning_rate= learning_rate, random_state=0)\n",
    "        adaB.fit(train_X, train_y)\n",
    "\n",
    "        y_train_pred = adaB.predict(train_X)\n",
    "        acc_train = metrics.accuracy_score(train_y, y_train_pred)\n",
    "        accs_train.append(acc_train)\n",
    "\n",
    "        y_test_pred = adaB.predict(test_X)\n",
    "        acc_test = metrics.accuracy_score(test_y, y_test_pred)\n",
    "        accs_test.append(acc_test)\n",
    "    \n",
    "    plt.subplot(2, 2, i+1)\n",
    "    plt.plot(n_estimators, accs_train, 'r-',lw=2, label='train')\n",
    "    plt.plot(n_estimators, accs_test, 'g-',lw=2, label='test')\n",
    "    plt.ylim(0.88,1.01)\n",
    "    plt.xlabel('Num of n_estimators',fontsize = 14)\n",
    "    plt.ylabel('accurate',fontsize =14)\n",
    "    plt.grid(b = True,ls= ':')\n",
    "    plt.title('learning_rate=%.2f'%learning_rate, fontsize = 20)\n",
    "    plt.legend(loc = 'best')\n",
    "    \n",
    "plt.suptitle('Different learn_rate of n_estimators', fontsize=30)\n",
    "plt.tight_layout(1.4)\n",
    "plt.subplots_adjust(top=0.92)\n",
    "plt.show()"
   ]
  },
  {
   "cell_type": "markdown",
   "metadata": {},
   "source": [
    "#### 决策树"
   ]
  },
  {
   "cell_type": "code",
   "execution_count": 11,
   "metadata": {
    "ExecuteTime": {
     "end_time": "2020-11-25T10:09:18.325244Z",
     "start_time": "2020-11-25T10:09:18.308262Z"
    }
   },
   "outputs": [],
   "source": [
    "max_depths = [1, 5]\n",
    "n_estimators = np.arange(1,41,1)"
   ]
  },
  {
   "cell_type": "code",
   "execution_count": 27,
   "metadata": {
    "ExecuteTime": {
     "end_time": "2020-11-25T10:21:30.648246Z",
     "start_time": "2020-11-25T10:21:27.004929Z"
    }
   },
   "outputs": [
    {
     "data": {
      "image/png": "[encoded data removed]",
      "text/plain": [
       "<Figure size 1440x576 with 2 Axes>"
      ]
     },
     "metadata": {},
     "output_type": "display_data"
    }
   ],
   "source": [
    "plt.figure(figsize=(20,8), facecolor='w')\n",
    "for i, max_depth in enumerate(max_depths):\n",
    "    accs_train = []\n",
    "    accs_test = []\n",
    "    for n_estimator in n_estimators:\n",
    "        adaB = AdaBoostClassifier(base_estimator= DecisionTreeClassifier(max_depth=max_depth) ,\n",
    "                                  n_estimators=n_estimator, learning_rate= 0.01, random_state=0)\n",
    "        adaB.fit(train_X, train_y)\n",
    "\n",
    "        y_train_pred = adaB.predict(train_X)\n",
    "        acc_train = metrics.accuracy_score(train_y, y_train_pred)\n",
    "        accs_train.append(acc_train)\n",
    "\n",
    "        y_test_pred = adaB.predict(test_X)\n",
    "        acc_test = metrics.accuracy_score(test_y, y_test_pred)\n",
    "        accs_test.append(acc_test)\n",
    "    \n",
    "    plt.subplot(1, 2, i+1)\n",
    "    plt.plot(n_estimators, accs_train, 'r-',lw=2, label='train')\n",
    "    plt.plot(n_estimators, accs_test, 'g-',lw=2, label='test')\n",
    "    plt.ylim(0.88,1.01)\n",
    "    plt.xlabel('Num of n_estimators',fontsize = 14)\n",
    "    plt.ylabel('accurate',fontsize =14)\n",
    "    plt.grid(b = True,ls= ':')\n",
    "    plt.title('max_depth=%s'%max_depth, fontsize = 20)\n",
    "    plt.legend(loc = 'best')\n",
    "\n",
    "plt.suptitle('Different max_depth of n_estimators', fontsize=30)\n",
    "plt.tight_layout(1.4)\n",
    "plt.subplots_adjust(top=0.85)\n",
    "plt.show()"
   ]
  },
  {
   "cell_type": "markdown",
   "metadata": {},
   "source": [
    "#### 逻辑回归 "
   ]
  },
  {
   "cell_type": "code",
   "execution_count": 28,
   "metadata": {
    "ExecuteTime": {
     "end_time": "2020-11-25T10:21:56.707128Z",
     "start_time": "2020-11-25T10:21:56.695191Z"
    }
   },
   "outputs": [],
   "source": [
    "from sklearn.metrics import mean_squared_error,classification_report\n",
    "from sklearn.linear_model import LogisticRegression\n",
    "from sklearn.preprocessing import StandardScaler"
   ]
  },
  {
   "cell_type": "code",
   "execution_count": 30,
   "metadata": {
    "ExecuteTime": {
     "end_time": "2020-11-25T10:22:31.902784Z",
     "start_time": "2020-11-25T10:22:31.867880Z"
    }
   },
   "outputs": [],
   "source": [
    "#进行标准化\n",
    "std = StandardScaler()\n",
    "x_train1 = std.fit_transform(train_X)\n",
    "x_test1 = std.transform(test_X)"
   ]
  },
  {
   "cell_type": "code",
   "execution_count": 32,
   "metadata": {
    "ExecuteTime": {
     "end_time": "2020-11-25T10:23:44.740874Z",
     "start_time": "2020-11-25T10:23:44.474828Z"
    }
   },
   "outputs": [
    {
     "name": "stdout",
     "output_type": "stream",
     "text": [
      "计算的回归系数为： [[ 0.48143978  0.41014209  0.46725987  0.51392775  0.09769918 -0.3020924\n",
      "   0.72884664  0.7890253   0.01424461 -0.39299676  1.08415325  0.04728618\n",
      "   0.5669909   0.74499028  0.22229903 -0.90896096  0.05386185  0.49962018\n",
      "  -0.17826258 -0.71184481  1.05809159  0.95888641  0.91097127  0.97646535\n",
      "   0.41365059  0.01729729  0.82465772  0.93295021  0.76852329  0.61983664]]\n"
     ]
    }
   ],
   "source": [
    "#逻辑回归预测\n",
    "lg = LogisticRegression(penalty='l2',C=1.0)\n",
    "lg.fit(x_train1,train_y)\n",
    "y_predict = lg.predict(x_test1)\n",
    "print(\"计算的回归系数为：\",lg.coef_)"
   ]
  },
  {
   "cell_type": "code",
   "execution_count": 34,
   "metadata": {
    "ExecuteTime": {
     "end_time": "2020-11-25T10:23:57.204272Z",
     "start_time": "2020-11-25T10:23:57.183306Z"
    }
   },
   "outputs": [
    {
     "name": "stdout",
     "output_type": "stream",
     "text": [
      "准确率为： 0.9790209790209791\n"
     ]
    }
   ],
   "source": [
    "print(\"准确率为：\",lg.score(x_test1,test_y))"
   ]
  },
  {
   "cell_type": "markdown",
   "metadata": {},
   "source": [
    "#### 线性回归"
   ]
  },
  {
   "cell_type": "code",
   "execution_count": 37,
   "metadata": {
    "ExecuteTime": {
     "end_time": "2020-11-25T10:24:46.744394Z",
     "start_time": "2020-11-25T10:24:46.720458Z"
    }
   },
   "outputs": [
    {
     "name": "stdout",
     "output_type": "stream",
     "text": [
      "系数矩阵是：\n",
      " [-3.87307591e-01  1.40573130e-03  4.12865188e-02  5.67852446e-04\n",
      "  1.30738297e+00 -3.56329619e+00  1.42781771e+00  3.25282822e-01\n",
      "  1.04801523e-01 -3.27280175e+00  4.81873620e-02  3.87195389e-03\n",
      " -2.01794484e-02  4.71034776e-04  1.89549043e+01 -7.88391212e-01\n",
      " -3.14446177e+00  9.27211628e+00  6.90453674e+00 -6.63568853e+00\n",
      "  2.49242210e-01  7.92592801e-03 -5.00976600e-03 -1.12118034e-03\n",
      " -8.99875977e-01 -5.79343378e-02  3.11102441e-01  1.57373754e+00\n",
      "  2.22197767e-01  5.34324929e+00]\n",
      "截距项是：\n",
      " -1.66395332342083\n",
      "R方为：\n",
      " 0.7826211754776593\n"
     ]
    }
   ],
   "source": [
    "from sklearn.linear_model import LinearRegression\n",
    "from sklearn.model_selection import train_test_split\n",
    "reg = LinearRegression(copy_X=True, fit_intercept=True, n_jobs=1, normalize=False).fit(train_X, train_y)\n",
    "print('系数矩阵是：\\n',reg.coef_)\n",
    "print('截距项是：\\n',reg.intercept_)\n",
    "print('R方为：\\n',reg.score(train_X, train_y))"
   ]
  },
  {
   "cell_type": "code",
   "execution_count": 39,
   "metadata": {
    "ExecuteTime": {
     "end_time": "2020-11-25T10:25:52.910316Z",
     "start_time": "2020-11-25T10:25:52.886378Z"
    }
   },
   "outputs": [
    {
     "name": "stdout",
     "output_type": "stream",
     "text": [
      "[ 0.27472312  0.81715848  0.30729213  0.58270371  0.54747223  0.57268512\n",
      "  0.82491175  0.33793633  0.36157858  0.26737497  0.05307414  1.04514117\n",
      "  0.66551195 -0.00472281  0.40125834  0.09393091 -0.01667875  0.19747962\n",
      " -0.03676205  0.74327034  0.06767149  0.09413221  0.79245424  0.12436616\n",
      "  0.62788317  0.32347781  0.10554202  1.02767006  1.27909001  0.55738778\n",
      "  1.15713025  0.08743866  1.02620139  0.76313303  0.03899625  0.08233877\n",
      "  0.66809906  0.21776443  0.41648344  0.15281293  0.12816355  0.34938968\n",
      "  0.17708692  0.06388173  0.09720105  0.84059258 -0.21188453  0.03844708\n",
      "  0.21615714  0.47128254  0.76893909  1.08019562  0.25209339 -0.04911938\n",
      "  0.07079574  0.04339813  0.08671089  0.54095375  0.1911264   0.00960331\n",
      " -0.06447873  1.16732436  0.3056373   0.30455367  0.10732932  0.1692464\n",
      " -0.02917999  0.90554688 -0.09525739  0.03852711 -0.05528351  0.06282552\n",
      "  0.36161747  0.98851928 -0.11959873  0.98509611 -0.06573218  0.37951768\n",
      " -0.07152805  0.95913301  0.10121263  0.9098664  -0.09479295  1.09557824\n",
      "  0.02697986  0.03922394  0.73664514  0.22118012  0.79098057  0.14420147\n",
      "  0.14962862  0.90175477  0.13854471 -0.11459922  1.01330894  0.70787294\n",
      " -0.18765006  0.29632706  0.17051894  0.13248262  0.11773191  0.08711253\n",
      " -0.09923884  0.44084205  0.12903497  0.1084416  -0.10294357 -0.01960106\n",
      "  0.82356833  0.77300275  1.30331333  0.25666954  0.32701093 -0.05624057\n",
      "  0.78509592  0.79803715 -0.18724365  0.05597051  0.02868965  0.18114532\n",
      "  0.34040637  0.82692939  0.93049122  0.29216707  0.22300918  1.15015705\n",
      "  0.85939531  0.19626164  1.25093783  1.46844961  0.29761528  0.28056862\n",
      "  0.08931881  1.27129442  0.04579474  0.91774723  0.72914493  0.3907528\n",
      "  0.10763721  0.48082343  0.35058874  0.86711377  0.12754375]\n",
      "421    0\n",
      "47     1\n",
      "292    0\n",
      "186    1\n",
      "414    1\n",
      "      ..\n",
      "232    0\n",
      "413    0\n",
      "514    1\n",
      "244    1\n",
      "415    0\n",
      "Length: 143, dtype: int32\n",
      "测试数据R方为：\n",
      " 0.7222686011972117\n"
     ]
    }
   ],
   "source": [
    "predicted=reg.predict(test_X)\n",
    "print(predicted)\n",
    "print(test_y)\n",
    "print('测试数据R方为：\\n',reg.score(test_X,test_y))"
   ]
  },
  {
   "cell_type": "markdown",
   "metadata": {},
   "source": [
    "#### SVM"
   ]
  },
  {
   "cell_type": "code",
   "execution_count": 40,
   "metadata": {
    "ExecuteTime": {
     "end_time": "2020-11-25T10:27:38.126412Z",
     "start_time": "2020-11-25T10:27:38.020832Z"
    }
   },
   "outputs": [
    {
     "name": "stderr",
     "output_type": "stream",
     "text": [
      "E:\\Anaconda3\\anaconda3\\lib\\site-packages\\sklearn\\svm\\_base.py:977: ConvergenceWarning: Liblinear failed to converge, increase the number of iterations.\n",
      "  \"the number of iterations.\", ConvergenceWarning)\n"
     ]
    }
   ],
   "source": [
    "from sklearn.svm import LinearSVC\n",
    "lsvc = LinearSVC()\n",
    "lsvc.fit(train_X, train_y)\n",
    "svm_y = lsvc.predict(test_X)"
   ]
  },
  {
   "cell_type": "code",
   "execution_count": 41,
   "metadata": {
    "ExecuteTime": {
     "end_time": "2020-11-25T10:27:57.466056Z",
     "start_time": "2020-11-25T10:27:57.454056Z"
    }
   },
   "outputs": [
    {
     "name": "stdout",
     "output_type": "stream",
     "text": [
      "Accuracy of the SVM:  0.9370629370629371\n"
     ]
    }
   ],
   "source": [
    "from sklearn.metrics import classification_report\n",
    "print ('Accuracy of the SVM: ' , lsvc.score(test_X,test_y))"
   ]
  },
  {
   "cell_type": "code",
   "execution_count": 42,
   "metadata": {
    "ExecuteTime": {
     "end_time": "2020-11-25T10:28:11.278804Z",
     "start_time": "2020-11-25T10:28:11.264811Z"
    }
   },
   "outputs": [
    {
     "name": "stdout",
     "output_type": "stream",
     "text": [
      "              precision    recall  f1-score   support\n",
      "\n",
      "      Benign       0.92      0.98      0.95        88\n",
      "   Malignant       0.96      0.87      0.91        55\n",
      "\n",
      "    accuracy                           0.94       143\n",
      "   macro avg       0.94      0.93      0.93       143\n",
      "weighted avg       0.94      0.94      0.94       143\n",
      "\n"
     ]
    }
   ],
   "source": [
    "print (classification_report(test_y, svm_y, target_names = ['Benign', 'Malignant'])) "
   ]
  },
  {
   "cell_type": "markdown",
   "metadata": {},
   "source": [
    "### 模型对比"
   ]
  },
  {
   "cell_type": "markdown",
   "metadata": {},
   "source": [
    "通过对breast_cancer数据集分别构建XGBoost,adaboost模型，决策树，逻辑回归，线性回归和SVM模型，我们发现逻辑回归模型的预测准确率最高，为0.97，故用于后续模型预测。"
   ]
  },
  {
   "cell_type": "markdown",
   "metadata": {},
   "source": [
    "## 加载diabetes数据集，构建一年以后病情进展指标y的GBDT及XGBoost回归模型，并与其他回归模型做比较，说明其预测效果。"
   ]
  },
  {
   "cell_type": "code",
   "execution_count": 43,
   "metadata": {
    "ExecuteTime": {
     "end_time": "2020-11-25T10:30:23.846592Z",
     "start_time": "2020-11-25T10:30:23.735857Z"
    }
   },
   "outputs": [],
   "source": [
    "from sklearn.datasets import load_diabetes\n",
    "diabetes=load_diabetes()"
   ]
  },
  {
   "cell_type": "code",
   "execution_count": 44,
   "metadata": {
    "ExecuteTime": {
     "end_time": "2020-11-25T10:30:26.110401Z",
     "start_time": "2020-11-25T10:30:26.096437Z"
    }
   },
   "outputs": [],
   "source": [
    "X=diabetes.data\n",
    "y=diabetes.target"
   ]
  },
  {
   "cell_type": "code",
   "execution_count": 72,
   "metadata": {
    "ExecuteTime": {
     "end_time": "2020-11-25T11:24:00.747656Z",
     "start_time": "2020-11-25T11:24:00.730700Z"
    }
   },
   "outputs": [
    {
     "name": "stdout",
     "output_type": "stream",
     "text": [
      "353\n"
     ]
    }
   ],
   "source": [
    "train_x3, test_x3, train_y3, test_y3 = train_test_split(X,y, test_size=0.2, random_state=7)\n",
    "print(len(train_x3))"
   ]
  },
  {
   "cell_type": "markdown",
   "metadata": {},
   "source": [
    "### XGBoost"
   ]
  },
  {
   "cell_type": "code",
   "execution_count": 73,
   "metadata": {
    "ExecuteTime": {
     "end_time": "2020-11-25T11:24:05.762218Z",
     "start_time": "2020-11-25T11:24:03.049372Z"
    }
   },
   "outputs": [
    {
     "data": {
      "text/plain": [
       "XGBClassifier(base_score=0.5, booster='gbtree', colsample_bylevel=1,\n",
       "              colsample_bynode=1, colsample_bytree=1, gamma=0, gpu_id=-1,\n",
       "              importance_type='gain', interaction_constraints='',\n",
       "              learning_rate=0.01, max_delta_step=0, max_depth=6,\n",
       "              min_child_weight=1, missing=nan, monotone_constraints='()',\n",
       "              n_estimators=100, n_jobs=0, num_parallel_tree=1,\n",
       "              objective='multi:softprob', random_state=0, reg_alpha=0,\n",
       "              reg_lambda=1, scale_pos_weight=None, subsample=1,\n",
       "              tree_method='exact', validate_parameters=1, verbosity=None)"
      ]
     },
     "execution_count": 73,
     "metadata": {},
     "output_type": "execute_result"
    }
   ],
   "source": [
    "model2 = XGBClassifier(learning_rate=0.01)\n",
    "model2.fit(train_x3, train_y3)"
   ]
  },
  {
   "cell_type": "code",
   "execution_count": 74,
   "metadata": {
    "ExecuteTime": {
     "end_time": "2020-11-25T11:24:09.904992Z",
     "start_time": "2020-11-25T11:24:09.728915Z"
    }
   },
   "outputs": [
    {
     "data": {
      "text/plain": [
       "array([ 71., 144., 101.,  84., 200., 178.,  90.,  90.,  90., 104.,  71.,\n",
       "        49., 142., 142.,  71.,  84.,  84., 220.,  72.,  85., 275., 178.,\n",
       "       275.,  91., 178., 142., 275., 200.,  71., 144., 275., 220., 275.,\n",
       "        55., 248., 200., 128.,  72., 275., 144.,  71.,  91., 200., 275.,\n",
       "       248.,  55.,  71., 178.,  90.,  71.,  77., 182.,  71., 178.,  72.,\n",
       "       142., 144.,  72.,  90.,  90.,  72., 185.,  90., 101., 200., 178.,\n",
       "        90.,  96., 142.,  90., 200., 275.,  97.,  72., 265.,  88., 275.,\n",
       "       144., 275., 275., 275., 104., 150.,  85.,  88., 101., 182., 101.,\n",
       "        90.])"
      ]
     },
     "execution_count": 74,
     "metadata": {},
     "output_type": "execute_result"
    }
   ],
   "source": [
    "y_pred2 = model2.predict(test_x3)\n",
    "y_pred2"
   ]
  },
  {
   "cell_type": "code",
   "execution_count": 75,
   "metadata": {
    "ExecuteTime": {
     "end_time": "2020-11-25T11:24:11.468959Z",
     "start_time": "2020-11-25T11:24:11.455998Z"
    }
   },
   "outputs": [
    {
     "name": "stdout",
     "output_type": "stream",
     "text": [
      "Accuracy: 0.0112\n"
     ]
    }
   ],
   "source": [
    "from sklearn import metrics\n",
    "# 准确率\n",
    "print ('Accuracy: %.4f' % metrics.accuracy_score(test_y3 ,y_pred2))"
   ]
  },
  {
   "cell_type": "markdown",
   "metadata": {},
   "source": [
    "### adaboost回归"
   ]
  },
  {
   "cell_type": "code",
   "execution_count": 76,
   "metadata": {
    "ExecuteTime": {
     "end_time": "2020-11-25T11:25:05.546990Z",
     "start_time": "2020-11-25T11:25:05.528006Z"
    }
   },
   "outputs": [],
   "source": [
    "#获取一个特征\n",
    "diabetes_x_temp = diabetes.data[:, np.newaxis, 2] \n",
    "\n",
    "diabetes_x_train = diabetes_x_temp[:-20]   #训练样本\n",
    "diabetes_x_test = diabetes_x_temp[-20:]    #测试样本 后20行\n",
    "diabetes_y_train = diabetes.target[:-20]   #训练标记\n",
    "diabetes_y_test = diabetes.target[-20:]    #预测对比标记"
   ]
  },
  {
   "cell_type": "code",
   "execution_count": 82,
   "metadata": {
    "ExecuteTime": {
     "end_time": "2020-11-25T11:32:55.260557Z",
     "start_time": "2020-11-25T11:32:55.164217Z"
    }
   },
   "outputs": [],
   "source": [
    "# 训练模型\n",
    "from sklearn.metrics import confusion_matrix\n",
    "from sklearn.preprocessing import LabelEncoder\n",
    "from sklearn.ensemble import AdaBoostClassifier\n",
    "from sklearn.ensemble import AdaBoostRegressor\n",
    "from sklearn.tree import DecisionTreeClassifier\n",
    "from sklearn.tree import DecisionTreeRegressor\n",
    "\n",
    "regr_1 = DecisionTreeRegressor(max_depth=4)\n",
    "\n",
    "regr_2 = AdaBoostRegressor(DecisionTreeRegressor(max_depth=4),\n",
    "                          n_estimators=300)\n",
    "\n",
    "regr_1.fit(diabetes_x_train, diabetes_y_train)\n",
    "regr_2.fit(diabetes_x_train, diabetes_y_train)\n",
    "\n",
    "# 预测\n",
    "y_1 = regr_1.predict(diabetes_x_test)\n",
    "y_2 = regr_2.predict(diabetes_x_test)"
   ]
  },
  {
   "cell_type": "code",
   "execution_count": 83,
   "metadata": {
    "ExecuteTime": {
     "end_time": "2020-11-25T11:33:16.002015Z",
     "start_time": "2020-11-25T11:33:15.995033Z"
    }
   },
   "outputs": [
    {
     "data": {
      "text/plain": [
       "0.45560494111815064"
      ]
     },
     "execution_count": 83,
     "metadata": {},
     "output_type": "execute_result"
    }
   ],
   "source": [
    "regr_1.score(diabetes_x_test, diabetes_y_test)"
   ]
  },
  {
   "cell_type": "code",
   "execution_count": 84,
   "metadata": {
    "ExecuteTime": {
     "end_time": "2020-11-25T11:33:21.937755Z",
     "start_time": "2020-11-25T11:33:21.913616Z"
    }
   },
   "outputs": [
    {
     "data": {
      "text/plain": [
       "0.3634742253365283"
      ]
     },
     "execution_count": 84,
     "metadata": {},
     "output_type": "execute_result"
    }
   ],
   "source": [
    "regr_2.score(diabetes_x_test, diabetes_y_test)"
   ]
  },
  {
   "cell_type": "markdown",
   "metadata": {},
   "source": [
    "### 线性回归"
   ]
  },
  {
   "cell_type": "code",
   "execution_count": 86,
   "metadata": {
    "ExecuteTime": {
     "end_time": "2020-11-25T11:34:07.387719Z",
     "start_time": "2020-11-25T11:34:07.370756Z"
    }
   },
   "outputs": [],
   "source": [
    "from sklearn import linear_model\n",
    "linreg=linear_model.LinearRegression()   #创建线性回归"
   ]
  },
  {
   "cell_type": "code",
   "execution_count": 87,
   "metadata": {
    "ExecuteTime": {
     "end_time": "2020-11-25T11:34:12.166830Z",
     "start_time": "2020-11-25T11:34:12.003214Z"
    }
   },
   "outputs": [
    {
     "data": {
      "text/plain": [
       "array([ -38.30129181, -250.45660543,  606.78164731,  372.0652256 ,\n",
       "        892.67319909, -930.78258355, -573.97183049,  160.28097125])"
      ]
     },
     "execution_count": 87,
     "metadata": {},
     "output_type": "execute_result"
    }
   ],
   "source": [
    "linreg.fit(train_x3, train_y3)\n",
    "linreg.coef_"
   ]
  },
  {
   "cell_type": "code",
   "execution_count": 88,
   "metadata": {
    "ExecuteTime": {
     "end_time": "2020-11-25T11:34:19.780677Z",
     "start_time": "2020-11-25T11:34:19.766678Z"
    }
   },
   "outputs": [
    {
     "data": {
      "text/plain": [
       "array([ 97.0863291 , 140.41464033, 122.31641748, 211.40614491,\n",
       "       203.16160813, 167.16949748,  64.64077965, 100.33903041,\n",
       "        69.19721409, 161.99443411, 132.56582137, 205.3422786 ,\n",
       "       197.09341255, 203.04719038, 144.67348085, 143.26647913,\n",
       "       132.57266104, 198.38416336,  54.02580162, 150.89587761,\n",
       "       242.68537193, 128.58886993, 228.56706932, 202.15506734,\n",
       "       165.8538783 , 197.30149679, 252.05800318, 125.65417702,\n",
       "       183.85042667, 142.99900481, 210.82597203, 197.05254743,\n",
       "       190.96839326, 161.85635343, 169.09865593, 166.02942881,\n",
       "       104.91050284,  64.87960193, 255.86547083, 222.30869233,\n",
       "       112.55928212, 158.24261773, 137.51854985, 333.70336825,\n",
       "       174.79261764, 137.38223688, 157.95786951, 172.16604633,\n",
       "       104.17088003,  97.20143181,  93.55330514, 146.00571249,\n",
       "       154.81342442, 154.78022083,  93.28476407, 136.23383111,\n",
       "       150.67326545,  90.11298633, 133.10566709,  84.0760672 ,\n",
       "        84.04311182, 133.904267  , 118.42222495,  94.59374282,\n",
       "       148.67520942, 101.48265216,  82.00251157, 196.28345337,\n",
       "       179.16978464, 105.80646646, 122.40443588, 200.26299531,\n",
       "       161.70860246,  59.57197871, 173.40402885, 111.75143972,\n",
       "       315.06831399, 168.20144648, 251.05682662, 285.00385342,\n",
       "       203.9110597 , 109.49042274, 170.56329045, 197.38365346,\n",
       "       119.19161407,  73.36268142, 123.71551451, 133.27561386,\n",
       "       105.58618552])"
      ]
     },
     "execution_count": 88,
     "metadata": {},
     "output_type": "execute_result"
    }
   ],
   "source": [
    "# 计算预测结果\n",
    "pred_y3 = linreg.predict(test_x3)\n",
    "pred_y3 "
   ]
  },
  {
   "cell_type": "code",
   "execution_count": 89,
   "metadata": {
    "ExecuteTime": {
     "end_time": "2020-11-25T11:34:27.338468Z",
     "start_time": "2020-11-25T11:34:27.332455Z"
    }
   },
   "outputs": [
    {
     "name": "stdout",
     "output_type": "stream",
     "text": [
      "2982.0668691763217\n"
     ]
    }
   ],
   "source": [
    "# 计算均方误差(损失值)\n",
    "print(mean_squared_error(test_y3, pred_y3))"
   ]
  },
  {
   "cell_type": "code",
   "execution_count": 90,
   "metadata": {
    "ExecuteTime": {
     "end_time": "2020-11-25T11:34:35.190584Z",
     "start_time": "2020-11-25T11:34:35.171634Z"
    }
   },
   "outputs": [
    {
     "data": {
      "text/plain": [
       "0.5086338257855644"
      ]
     },
     "execution_count": 90,
     "metadata": {},
     "output_type": "execute_result"
    }
   ],
   "source": [
    "linreg.score(train_x3, train_y3)  "
   ]
  },
  {
   "cell_type": "code",
   "execution_count": 91,
   "metadata": {
    "ExecuteTime": {
     "end_time": "2020-11-25T11:34:47.259433Z",
     "start_time": "2020-11-25T11:34:46.896836Z"
    }
   },
   "outputs": [
    {
     "name": "stdout",
     "output_type": "stream",
     "text": [
      "Coefficients: \n",
      " [941.43097333]\n",
      "Mean squared error: 3035.06\n",
      "Variance score: 0.41\n"
     ]
    },
    {
     "data": {
      "image/png": "[encoded data removed]",
      "text/plain": [
       "<Figure size 432x288 with 1 Axes>"
      ]
     },
     "metadata": {},
     "output_type": "display_data"
    }
   ],
   "source": [
    "import matplotlib.pyplot as plt\n",
    "import numpy as np\n",
    "from sklearn import datasets, linear_model\n",
    "from sklearn.metrics import mean_squared_error, r2_score\n",
    "\n",
    "# Use only one feature\n",
    "diabetes_X = diabetes.data[:, np.newaxis, 2]\n",
    "# Split the data into training/testing sets\n",
    "diabetes_X_train = diabetes_X[:-30]\n",
    "diabetes_X_test = diabetes_X[-30:]\n",
    "# Split the targets into training/testing sets\n",
    "diabetes_y_train = diabetes.target[:-30]\n",
    "diabetes_y_test = diabetes.target[-30:]\n",
    "# Create linear regression object\n",
    "regr = linear_model.LinearRegression()\n",
    "# Train the model using the training sets\n",
    "regr.fit(diabetes_X_train, diabetes_y_train)\n",
    "# Make predictions using the testing set\n",
    "diabetes_y_pred = regr.predict(diabetes_X_test)\n",
    "# The coefficients\n",
    "print('Coefficients: \\n', regr.coef_)\n",
    "# The mean squared error\n",
    "print(\"Mean squared error: %.2f\" \n",
    "      % mean_squared_error(diabetes_y_test, diabetes_y_pred))\n",
    "# Explained variance score: 1 is perfect prediction\n",
    "print('Variance score: %.2f' % r2_score(diabetes_y_test, diabetes_y_pred))\n",
    "# Plot outputs\n",
    "plt.scatter(diabetes_X_test, diabetes_y_test, color = 'black')\n",
    "plt.plot(diabetes_X_test, diabetes_y_pred, color = 'blue', linewidth = 3)\n",
    "plt.xticks(())\n",
    "plt.yticks(())\n",
    "plt.show()"
   ]
  },
  {
   "cell_type": "markdown",
   "metadata": {},
   "source": [
    "### 模型对比"
   ]
  },
  {
   "cell_type": "markdown",
   "metadata": {
    "ExecuteTime": {
     "end_time": "2020-11-25T11:35:20.080082Z",
     "start_time": "2020-11-25T11:35:20.059140Z"
    }
   },
   "source": [
    "通过对糖尿病的数据集建立XGBoost,线性回归模型和adaboost模型，我们发现线性回归的预准确率最高。"
   ]
  },
  {
   "cell_type": "markdown",
   "metadata": {},
   "source": [
    "## 选择breast_cancer或diabetes数据集其一，三人一组，完成一份完整的分析报告"
   ]
  },
  {
   "cell_type": "markdown",
   "metadata": {},
   "source": [
    "## 选做题 构建模型，提升表情识别数据的准确性"
   ]
  },
  {
   "cell_type": "code",
   "execution_count": 4,
   "metadata": {
    "ExecuteTime": {
     "end_time": "2020-11-26T00:09:48.304056Z",
     "start_time": "2020-11-26T00:09:43.024399Z"
    }
   },
   "outputs": [
    {
     "data": {
      "text/html": [
       "<div>\n",
       "<style scoped>\n",
       "    .dataframe tbody tr th:only-of-type {\n",
       "        vertical-align: middle;\n",
       "    }\n",
       "\n",
       "    .dataframe tbody tr th {\n",
       "        vertical-align: top;\n",
       "    }\n",
       "\n",
       "    .dataframe thead th {\n",
       "        text-align: right;\n",
       "    }\n",
       "</style>\n",
       "<table border=\"1\" class=\"dataframe\">\n",
       "  <thead>\n",
       "    <tr style=\"text-align: right;\">\n",
       "      <th></th>\n",
       "      <th>emotion</th>\n",
       "      <th>pixels</th>\n",
       "      <th>Usage</th>\n",
       "    </tr>\n",
       "  </thead>\n",
       "  <tbody>\n",
       "    <tr>\n",
       "      <th>0</th>\n",
       "      <td>0</td>\n",
       "      <td>70 80 82 72 58 58 60 63 54 58 60 48 89 115 121...</td>\n",
       "      <td>Training</td>\n",
       "    </tr>\n",
       "    <tr>\n",
       "      <th>1</th>\n",
       "      <td>0</td>\n",
       "      <td>151 150 147 155 148 133 111 140 170 174 182 15...</td>\n",
       "      <td>Training</td>\n",
       "    </tr>\n",
       "    <tr>\n",
       "      <th>2</th>\n",
       "      <td>2</td>\n",
       "      <td>231 212 156 164 174 138 161 173 182 200 106 38...</td>\n",
       "      <td>Training</td>\n",
       "    </tr>\n",
       "    <tr>\n",
       "      <th>3</th>\n",
       "      <td>4</td>\n",
       "      <td>24 32 36 30 32 23 19 20 30 41 21 22 32 34 21 1...</td>\n",
       "      <td>Training</td>\n",
       "    </tr>\n",
       "    <tr>\n",
       "      <th>4</th>\n",
       "      <td>6</td>\n",
       "      <td>4 0 0 0 0 0 0 0 0 0 0 0 3 15 23 28 48 50 58 84...</td>\n",
       "      <td>Training</td>\n",
       "    </tr>\n",
       "  </tbody>\n",
       "</table>\n",
       "</div>"
      ],
      "text/plain": [
       "   emotion                                             pixels     Usage\n",
       "0        0  70 80 82 72 58 58 60 63 54 58 60 48 89 115 121...  Training\n",
       "1        0  151 150 147 155 148 133 111 140 170 174 182 15...  Training\n",
       "2        2  231 212 156 164 174 138 161 173 182 200 106 38...  Training\n",
       "3        4  24 32 36 30 32 23 19 20 30 41 21 22 32 34 21 1...  Training\n",
       "4        6  4 0 0 0 0 0 0 0 0 0 0 0 3 15 23 28 48 50 58 84...  Training"
      ]
     },
     "execution_count": 4,
     "metadata": {},
     "output_type": "execute_result"
    }
   ],
   "source": [
    "df=pd.read_csv(\"F:/大三（上）/机器学习/决策树参考代码/决策树参考代码/fer2013.csv\")\n",
    "df.head()"
   ]
  },
  {
   "cell_type": "raw",
   "metadata": {},
   "source": [
    "'0':'anger', #生气\n",
    "'1':'disgust', #厌恶\n",
    "'2':'fear', #恐惧\n",
    "'3':'happy', #开心\n",
    "'4':'sad', #伤心\n",
    "'5':'surprised', #惊讶\n",
    "'6':'normal', #中性"
   ]
  },
  {
   "cell_type": "code",
   "execution_count": 5,
   "metadata": {
    "ExecuteTime": {
     "end_time": "2020-11-26T00:10:37.797783Z",
     "start_time": "2020-11-26T00:10:37.741302Z"
    }
   },
   "outputs": [
    {
     "name": "stdout",
     "output_type": "stream",
     "text": [
      "(35887,)\n",
      "<class 'numpy.ndarray'>\n"
     ]
    }
   ],
   "source": [
    "pixels = df.loc[:,'pixels'].values\n",
    "\n",
    "print(pixels.shape)\n",
    "print(type(pixels))"
   ]
  },
  {
   "cell_type": "raw",
   "metadata": {},
   "source": [
    "转换像素为图片正确的格式，并分出特征和输出"
   ]
  },
  {
   "cell_type": "code",
   "execution_count": 6,
   "metadata": {
    "ExecuteTime": {
     "end_time": "2020-11-26T00:11:21.812466Z",
     "start_time": "2020-11-26T00:10:42.506898Z"
    }
   },
   "outputs": [],
   "source": [
    "px = []\n",
    "for x in pixels : \n",
    "    x = x.split(\" \")\n",
    "    x = [float(t) for t in x]\n",
    "    px.append(x)"
   ]
  },
  {
   "cell_type": "code",
   "execution_count": 7,
   "metadata": {
    "ExecuteTime": {
     "end_time": "2020-11-26T00:13:39.983362Z",
     "start_time": "2020-11-26T00:13:32.706422Z"
    }
   },
   "outputs": [
    {
     "name": "stdout",
     "output_type": "stream",
     "text": [
      "(35887, 2304)\n"
     ]
    }
   ],
   "source": [
    "x = np.array(px)\n",
    "print(x.shape)"
   ]
  },
  {
   "cell_type": "code",
   "execution_count": 8,
   "metadata": {
    "ExecuteTime": {
     "end_time": "2020-11-26T00:14:07.751476Z",
     "start_time": "2020-11-26T00:14:07.664452Z"
    }
   },
   "outputs": [
    {
     "name": "stdout",
     "output_type": "stream",
     "text": [
      "(35887,)\n",
      "<class 'numpy.ndarray'>\n"
     ]
    }
   ],
   "source": [
    "y = df.loc[:, 'emotion'].values\n",
    "print(y.shape)\n",
    "print(type(y))"
   ]
  },
  {
   "cell_type": "code",
   "execution_count": 9,
   "metadata": {
    "ExecuteTime": {
     "end_time": "2020-11-26T00:14:34.339312Z",
     "start_time": "2020-11-26T00:14:29.761382Z"
    }
   },
   "outputs": [
    {
     "data": {
      "image/png": "[encoded data removed]",
      "text/plain": [
       "<Figure size 432x288 with 1 Axes>"
      ]
     },
     "metadata": {
      "needs_background": "light"
     },
     "output_type": "display_data"
    },
    {
     "data": {
      "image/png": "[encoded data removed]",
      "text/plain": [
       "<Figure size 432x288 with 1 Axes>"
      ]
     },
     "metadata": {
      "needs_background": "light"
     },
     "output_type": "display_data"
    },
    {
     "data": {
      "image/png": "[encoded data removed]",
      "text/plain": [
       "<Figure size 432x288 with 1 Axes>"
      ]
     },
     "metadata": {
      "needs_background": "light"
     },
     "output_type": "display_data"
    },
    {
     "data": {
      "image/png": "[encoded data removed]",
      "text/plain": [
       "<Figure size 432x288 with 1 Axes>"
      ]
     },
     "metadata": {
      "needs_background": "light"
     },
     "output_type": "display_data"
    },
    {
     "data": {
      "image/png": "[encoded data removed]",
      "text/plain": [
       "<Figure size 432x288 with 1 Axes>"
      ]
     },
     "metadata": {
      "needs_background": "light"
     },
     "output_type": "display_data"
    }
   ],
   "source": [
    "for ix in range(5,10):\n",
    "    plt.figure(ix)\n",
    "    plt.imshow(x[ix].reshape((48, 48)), interpolation='none', cmap='gray')\n",
    "    plt.show()"
   ]
  },
  {
   "cell_type": "code",
   "execution_count": 10,
   "metadata": {
    "ExecuteTime": {
     "end_time": "2020-11-26T00:21:48.469404Z",
     "start_time": "2020-11-26T00:19:26.745620Z"
    }
   },
   "outputs": [],
   "source": [
    "#可以将其全部转换为图片，图片名字的形式为图片编号_表情类别\n",
    "for ix in range(35887): \n",
    "    img=x[ix].reshape((48, 48))\n",
    "    plt.imsave('F:/大三（上）/机器学习/决策树实践作业/决策树实践作业/表情图/'+str(ix)+\"_\"+str(y[ix])+\".jpg\",img, cmap=\"gray\")"
   ]
  },
  {
   "cell_type": "code",
   "execution_count": 11,
   "metadata": {
    "ExecuteTime": {
     "end_time": "2020-11-26T00:22:26.385612Z",
     "start_time": "2020-11-26T00:22:26.303064Z"
    }
   },
   "outputs": [],
   "source": [
    "from sklearn import tree\n",
    "import pandas as pd\n",
    "from sklearn.model_selection import train_test_split\n",
    "from sklearn.model_selection import GridSearchCV\n",
    "from sklearn.model_selection import cross_val_score\n",
    "import matplotlib.pyplot as plt"
   ]
  },
  {
   "cell_type": "code",
   "execution_count": 12,
   "metadata": {
    "ExecuteTime": {
     "end_time": "2020-11-26T00:22:51.894588Z",
     "start_time": "2020-11-26T00:22:47.917139Z"
    }
   },
   "outputs": [],
   "source": [
    "from sklearn.model_selection import train_test_split\n",
    "Xtrain, Xtest, Ytrain, Ytest = train_test_split(x,y,test_size=0.3)"
   ]
  },
  {
   "cell_type": "code",
   "execution_count": 14,
   "metadata": {
    "ExecuteTime": {
     "end_time": "2020-11-26T00:24:57.935700Z",
     "start_time": "2020-11-26T00:24:57.880164Z"
    }
   },
   "outputs": [],
   "source": [
    "from sklearn.metrics import confusion_matrix\n",
    "from sklearn.preprocessing import LabelEncoder\n",
    "from sklearn.ensemble import AdaBoostClassifier\n",
    "from sklearn.ensemble import AdaBoostRegressor\n",
    "from sklearn.tree import DecisionTreeClassifier\n",
    "from sklearn.tree import DecisionTreeRegressor"
   ]
  },
  {
   "cell_type": "code",
   "execution_count": 15,
   "metadata": {
    "ExecuteTime": {
     "end_time": "2020-11-26T00:27:02.273974Z",
     "start_time": "2020-11-26T00:25:24.735384Z"
    }
   },
   "outputs": [],
   "source": [
    "clf=tree.DecisionTreeClassifier(random_state=25)\n",
    "clf=clf.fit(Xtrain, Ytrain)"
   ]
  },
  {
   "cell_type": "code",
   "execution_count": 16,
   "metadata": {
    "ExecuteTime": {
     "end_time": "2020-11-26T00:30:01.439650Z",
     "start_time": "2020-11-26T00:29:58.275521Z"
    }
   },
   "outputs": [
    {
     "data": {
      "text/plain": [
       "0.3124361474876939"
      ]
     },
     "execution_count": 16,
     "metadata": {},
     "output_type": "execute_result"
    }
   ],
   "source": [
    "score_ = clf.score(Xtest, Ytest)\n",
    "score_ "
   ]
  },
  {
   "cell_type": "code",
   "execution_count": 17,
   "metadata": {
    "ExecuteTime": {
     "end_time": "2020-11-26T00:51:02.117621Z",
     "start_time": "2020-11-26T00:30:57.034885Z"
    }
   },
   "outputs": [
    {
     "data": {
      "text/plain": [
       "0.3237943853587063"
      ]
     },
     "execution_count": 17,
     "metadata": {},
     "output_type": "execute_result"
    }
   ],
   "source": [
    "score = cross_val_score(clf,x,y,cv=10).mean()#使用交叉验证\n",
    "score"
   ]
  },
  {
   "cell_type": "markdown",
   "metadata": {},
   "source": [
    "### 数据增强"
   ]
  },
  {
   "cell_type": "markdown",
   "metadata": {},
   "source": [
    "####  方法1"
   ]
  },
  {
   "cell_type": "code",
   "execution_count": 18,
   "metadata": {
    "ExecuteTime": {
     "end_time": "2020-11-26T01:12:55.930342Z",
     "start_time": "2020-11-26T00:53:27.770403Z"
    }
   },
   "outputs": [],
   "source": [
    "clf1=XGBClassifier(learning_rate=0.01)\n",
    "clf1=clf1.fit(Xtrain, Ytrain)"
   ]
  },
  {
   "cell_type": "code",
   "execution_count": 19,
   "metadata": {
    "ExecuteTime": {
     "end_time": "2020-11-26T01:23:58.237324Z",
     "start_time": "2020-11-26T01:23:55.824267Z"
    }
   },
   "outputs": [
    {
     "data": {
      "text/plain": [
       "0.3998328225132349"
      ]
     },
     "execution_count": 19,
     "metadata": {},
     "output_type": "execute_result"
    }
   ],
   "source": [
    "score_1 = clf1.score(Xtest, Ytest)\n",
    "score_1"
   ]
  },
  {
   "cell_type": "markdown",
   "metadata": {},
   "source": [
    "#### 方法2"
   ]
  },
  {
   "cell_type": "code",
   "execution_count": 105,
   "metadata": {
    "ExecuteTime": {
     "end_time": "2020-11-25T13:26:15.150109Z",
     "start_time": "2020-11-25T13:25:49.998398Z"
    }
   },
   "outputs": [],
   "source": [
    "import tensorflow as tf\n",
    "from tensorflow.keras import datasets, Sequential, layers,metrics\n",
    "from keras.layers import Dense, Flatten, Input\n",
    "from keras.layers import BatchNormalization, Conv2D,MaxPooling2D\n",
    "from keras import Model"
   ]
  },
  {
   "cell_type": "code",
   "execution_count": 109,
   "metadata": {
    "ExecuteTime": {
     "end_time": "2020-11-25T13:57:47.940509Z",
     "start_time": "2020-11-25T13:57:44.876779Z"
    }
   },
   "outputs": [
    {
     "name": "stdout",
     "output_type": "stream",
     "text": [
      "35887\n"
     ]
    }
   ],
   "source": [
    "label = np.array(df['emotion'])\n",
    "img_data = np.array(df['pixels'])\n",
    "N_sample = label.size\n",
    "print(N_sample)"
   ]
  },
  {
   "cell_type": "code",
   "execution_count": 110,
   "metadata": {
    "ExecuteTime": {
     "end_time": "2020-11-25T14:00:02.208870Z",
     "start_time": "2020-11-25T13:59:05.751105Z"
    }
   },
   "outputs": [
    {
     "name": "stdout",
     "output_type": "stream",
     "text": [
      "i: 0 \t  [1 0 0 0 0 0 0]\n",
      "i: 1 \t  [1 0 0 0 0 0 0]\n",
      "i: 2 \t  [0 0 1 0 0 0 0]\n",
      "i: 3 \t  [0 0 0 0 1 0 0]\n",
      "i: 4 \t  [0 0 0 0 0 0 1]\n",
      "i: 5 \t  [0 0 1 0 0 0 0]\n",
      "i: 6 \t  [0 0 0 0 1 0 0]\n",
      "i: 7 \t  [0 0 0 1 0 0 0]\n",
      "i: 8 \t  [0 0 0 1 0 0 0]\n",
      "i: 9 \t  [0 0 1 0 0 0 0]\n"
     ]
    }
   ],
   "source": [
    "Face_data = np.zeros((N_sample, 48 * 48))\n",
    "Face_label = np.zeros((N_sample, 7), dtype=int)\n",
    "temp = np.zeros((7), dtype= int)\n",
    "for i in range(N_sample):\n",
    "    x = img_data[i]\n",
    "    x = np.fromstring(x, dtype=float, sep=' ')\n",
    "    x_max = x.max()\n",
    "    x = x / (x_max + 0.0001)\n",
    " \n",
    "    Face_data[i] = x\n",
    "    Face_label[i, int(label[i])] = 1\n",
    "    if i <10:\n",
    "        print('i: %d \\t '%(i), Face_label[i])"
   ]
  },
  {
   "cell_type": "code",
   "execution_count": 111,
   "metadata": {
    "ExecuteTime": {
     "end_time": "2020-11-25T14:01:28.806325Z",
     "start_time": "2020-11-25T14:01:28.745485Z"
    }
   },
   "outputs": [
    {
     "name": "stdout",
     "output_type": "stream",
     "text": [
      "All is well\n"
     ]
    }
   ],
   "source": [
    "train_num = 30000\n",
    "test_num = 5000\n",
    "train_x = Face_data[0:train_num, :]\n",
    "train_y = Face_label[0:train_num, :]\n",
    "test_x = Face_data[train_num: train_num + test_num, :]\n",
    "test_y = Face_label[train_num: train_num + test_num, :]\n",
    "print(\"All is well\")\n",
    "batch_size = 50\n",
    "train_batch_num = train_num / batch_size\n",
    "test_batch_num = test_num / batch_size\n",
    "train_epoch = 100\n",
    "learning_rate = 0.001"
   ]
  },
  {
   "cell_type": "code",
   "execution_count": 114,
   "metadata": {
    "ExecuteTime": {
     "end_time": "2020-11-25T14:05:28.035927Z",
     "start_time": "2020-11-25T14:05:25.488512Z"
    }
   },
   "outputs": [
    {
     "name": "stdout",
     "output_type": "stream",
     "text": [
      "WARNING:tensorflow:From E:\\Anaconda3\\anaconda3\\lib\\site-packages\\tensorflow\\python\\compat\\v2_compat.py:96: disable_resource_variables (from tensorflow.python.ops.variable_scope) is deprecated and will be removed in a future version.\n",
      "Instructions for updating:\n",
      "non-resource variables are not supported in the long term\n"
     ]
    }
   ],
   "source": [
    "# Network Parameters\n",
    "import tensorflow.compat.v1 as tf\n",
    "tf.disable_v2_behavior()\n",
    "n_input = 2304  # data input (img shape: 48*48)\n",
    "n_classes = 7  # total classes\n",
    "dropout = 0.5  # Dropout, probability to keep units\n",
    "# tf Graph input\n",
    "x = tf.placeholder(tf.float32, [None, n_input])\n",
    "y = tf.placeholder(tf.float32, [None, n_classes])\n",
    "keep_prob = tf.placeholder(tf.float32)  # dropout (keep probability)"
   ]
  },
  {
   "cell_type": "code",
   "execution_count": 115,
   "metadata": {
    "ExecuteTime": {
     "end_time": "2020-11-25T14:06:25.040314Z",
     "start_time": "2020-11-25T14:06:24.984498Z"
    }
   },
   "outputs": [],
   "source": [
    "# Create some wrappers for simplicity\n",
    "def conv2d(x, W, b, strides=1):\n",
    "    # Conv2D wrapper, with bias and relu activation\n",
    "    x = tf.nn.conv2d(x, W, strides=[1, strides, strides, 1], padding='SAME')\n",
    "    x = tf.nn.bias_add(x, b)\n",
    "    return tf.nn.relu(x)"
   ]
  },
  {
   "cell_type": "code",
   "execution_count": 116,
   "metadata": {
    "ExecuteTime": {
     "end_time": "2020-11-25T14:07:21.650909Z",
     "start_time": "2020-11-25T14:07:21.592071Z"
    }
   },
   "outputs": [],
   "source": [
    "def maxpool2d(x, k=2):\n",
    "    # MaxPool2D wrapper\n",
    "    return tf.nn.max_pool(x, ksize=[1, k, k, 1], strides=[1, k, k, 1],\n",
    "                          padding='VALID')"
   ]
  },
  {
   "cell_type": "code",
   "execution_count": 117,
   "metadata": {
    "ExecuteTime": {
     "end_time": "2020-11-25T14:08:12.537812Z",
     "start_time": "2020-11-25T14:08:12.435733Z"
    }
   },
   "outputs": [],
   "source": [
    "# Create model\n",
    "def conv_net(x, weights, biases, dropout):\n",
    "    # Reshape input picture\n",
    "    x = tf.reshape(x, shape=[-1, 48, 48, 1])\n",
    "    # Convolution Layer\n",
    "    conv1 = conv2d(x, weights['wc1'], biases['bc1'])\n",
    "    # Max Pooling (down-sampling)\n",
    "    conv1 = maxpool2d(conv1, k=2)\n",
    "    # Convolution Layer\n",
    "    conv2 = conv2d(conv1, weights['wc2'], biases['bc2'])\n",
    "    # Max Pooling (down-sampling)\n",
    "    conv2 = maxpool2d(conv2, k=2)\n",
    "    # Convolution Layer\n",
    "    conv3 = conv2d(conv2, weights['wc3'], biases['bc3'])\n",
    "    # Max Pooling (down-sampling)\n",
    "    conv3 = maxpool2d(conv3, k=2)\n",
    "    # Fully connected layer\n",
    "    # Reshape conv2 output to fit fully connected layer input\n",
    "    fc1 = tf.reshape(conv3, [-1, weights['wd1'].get_shape().as_list()[0]])\n",
    "    fc1 = tf.add(tf.matmul(fc1, weights['wd1']), biases['bd1'])\n",
    "    fc1 = tf.nn.relu(fc1)\n",
    "    # Apply Dropout\n",
    "    fc1 = tf.nn.dropout(fc1, dropout)\n",
    "    # Output, class prediction\n",
    "    out = tf.add(tf.matmul(fc1, weights['out']), biases['out'])\n",
    "    return out"
   ]
  },
  {
   "cell_type": "code",
   "execution_count": 118,
   "metadata": {
    "ExecuteTime": {
     "end_time": "2020-11-25T14:08:57.690467Z",
     "start_time": "2020-11-25T14:08:56.517874Z"
    }
   },
   "outputs": [],
   "source": [
    "# Store layers weight & bias\n",
    "weights = {\n",
    "    # 3x3 conv, 1 input, 128 outputs\n",
    "    'wc1': tf.Variable(tf.random_normal([3, 3, 1, 128])),\n",
    "    # 3x3 conv, 128 inputs, 64 outputs\n",
    "    'wc2': tf.Variable(tf.random_normal([3, 3, 128, 64])),\n",
    "    # 3x3 conv, 64 inputs, 32 outputs\n",
    "    'wc3': tf.Variable(tf.random_normal([3, 3, 64, 32])),\n",
    "    # fully connected,\n",
    "    'wd1': tf.Variable(tf.random_normal([6 * 6 * 32, 200])),\n",
    "    # 1024 inputs, 10 outputs (class prediction)\n",
    "    'out': tf.Variable(tf.random_normal([200, n_classes]))\n",
    "}"
   ]
  },
  {
   "cell_type": "code",
   "execution_count": 119,
   "metadata": {
    "ExecuteTime": {
     "end_time": "2020-11-25T14:09:43.897870Z",
     "start_time": "2020-11-25T14:09:43.437483Z"
    }
   },
   "outputs": [],
   "source": [
    "biases = {\n",
    "    'bc1': tf.Variable(tf.random_normal([128])),\n",
    "    'bc2': tf.Variable(tf.random_normal([64])),\n",
    "    'bc3': tf.Variable(tf.random_normal([32])),\n",
    "    'bd1': tf.Variable(tf.random_normal([200])),\n",
    "    'out': tf.Variable(tf.random_normal([n_classes]))\n",
    "}"
   ]
  },
  {
   "cell_type": "code",
   "execution_count": 120,
   "metadata": {
    "ExecuteTime": {
     "end_time": "2020-11-25T14:10:31.642756Z",
     "start_time": "2020-11-25T14:10:30.161910Z"
    }
   },
   "outputs": [
    {
     "name": "stdout",
     "output_type": "stream",
     "text": [
      "WARNING:tensorflow:From E:\\Anaconda3\\anaconda3\\lib\\site-packages\\tensorflow\\python\\util\\dispatch.py:201: calling dropout (from tensorflow.python.ops.nn_ops) with keep_prob is deprecated and will be removed in a future version.\n",
      "Instructions for updating:\n",
      "Please use `rate` instead of `keep_prob`. Rate should be set to `rate = 1 - keep_prob`.\n",
      "WARNING:tensorflow:From E:\\Anaconda3\\anaconda3\\lib\\site-packages\\tensorflow\\python\\util\\dispatch.py:201: softmax_cross_entropy_with_logits (from tensorflow.python.ops.nn_ops) is deprecated and will be removed in a future version.\n",
      "Instructions for updating:\n",
      "\n",
      "Future major versions of TensorFlow will allow gradients to flow\n",
      "into the labels input on backprop by default.\n",
      "\n",
      "See `tf.nn.softmax_cross_entropy_with_logits_v2`.\n",
      "\n"
     ]
    }
   ],
   "source": [
    "# Construct model\n",
    "pred = conv_net(x, weights, biases, keep_prob)\n",
    "# Define loss and optimizer\n",
    "cost = tf.reduce_mean(tf.nn.softmax_cross_entropy_with_logits(logits=pred, labels=y))\n",
    "optimizer = tf.train.AdamOptimizer(learning_rate=learning_rate).minimize(cost)\n",
    "# Evaluate model\n",
    "correct_pred = tf.equal(tf.argmax(pred, 1), tf.argmax(y, 1))\n",
    "accuracy = tf.reduce_mean(tf.cast(correct_pred, tf.float32))"
   ]
  },
  {
   "cell_type": "code",
   "execution_count": 121,
   "metadata": {
    "ExecuteTime": {
     "end_time": "2020-11-25T16:06:33.798069Z",
     "start_time": "2020-11-25T14:11:17.060369Z"
    }
   },
   "outputs": [
    {
     "name": "stdout",
     "output_type": "stream",
     "text": [
      "WARNING:tensorflow:From E:\\Anaconda3\\anaconda3\\lib\\site-packages\\tensorflow\\python\\util\\tf_should_use.py:247: initialize_all_variables (from tensorflow.python.ops.variables) is deprecated and will be removed after 2017-03-02.\n",
      "Instructions for updating:\n",
      "Use `tf.global_variables_initializer` instead.\n",
      "Epoch: 1, Batch: 0, Loss= 195016.906, Training Accuracy= 0.200\n",
      "Epoch: 1, Batch: 50, Loss= 23754.133, Training Accuracy= 0.100\n",
      "Epoch: 1, Batch: 100, Loss= 8702.891, Training Accuracy= 0.240\n",
      "Epoch: 1, Batch: 150, Loss= 9340.756, Training Accuracy= 0.160\n",
      "Epoch: 1, Batch: 200, Loss= 6577.802, Training Accuracy= 0.240\n",
      "Epoch: 1, Batch: 250, Loss= 4031.714, Training Accuracy= 0.220\n",
      "Epoch: 1, Batch: 300, Loss= 3692.923, Training Accuracy= 0.240\n",
      "Epoch: 1, Batch: 350, Loss= 3531.551, Training Accuracy= 0.120\n",
      "Epoch: 1, Batch: 400, Loss= 2430.544, Training Accuracy= 0.200\n",
      "Epoch: 1, Batch: 450, Loss= 1878.775, Training Accuracy= 0.240\n",
      "Epoch: 1, Batch: 500, Loss= 2219.162, Training Accuracy= 0.160\n",
      "Epoch: 1, Batch: 550, Loss= 972.942, Training Accuracy= 0.220\n",
      "Epoch: 1, Test Loss= 6.533, Test Accuracy= 0.167\n",
      "Epoch: 2, Batch: 0, Loss= 562.549, Training Accuracy= 0.140\n",
      "Epoch: 2, Batch: 50, Loss= 318.493, Training Accuracy= 0.200\n",
      "Epoch: 2, Batch: 100, Loss= 132.914, Training Accuracy= 0.220\n",
      "Epoch: 2, Batch: 150, Loss= 91.165, Training Accuracy= 0.180\n",
      "Epoch: 2, Batch: 200, Loss= 145.364, Training Accuracy= 0.240\n",
      "Epoch: 2, Batch: 250, Loss= 31.018, Training Accuracy= 0.280\n",
      "Epoch: 2, Batch: 300, Loss= 50.705, Training Accuracy= 0.200\n",
      "Epoch: 2, Batch: 350, Loss= 96.752, Training Accuracy= 0.100\n",
      "Epoch: 2, Batch: 400, Loss= 15.927, Training Accuracy= 0.220\n",
      "Epoch: 2, Batch: 450, Loss= 39.637, Training Accuracy= 0.200\n",
      "Epoch: 2, Batch: 500, Loss= 16.499, Training Accuracy= 0.220\n",
      "Epoch: 2, Batch: 550, Loss= 41.030, Training Accuracy= 0.140\n",
      "Epoch: 2, Test Loss= 0.049, Test Accuracy= 0.170\n",
      "Epoch: 3, Batch: 0, Loss= 37.641, Training Accuracy= 0.180\n",
      "Epoch: 3, Batch: 50, Loss= 7.838, Training Accuracy= 0.180\n",
      "Epoch: 3, Batch: 100, Loss= 3.469, Training Accuracy= 0.240\n",
      "Epoch: 3, Batch: 150, Loss= 16.694, Training Accuracy= 0.180\n",
      "Epoch: 3, Batch: 200, Loss= 2.958, Training Accuracy= 0.260\n",
      "Epoch: 3, Batch: 250, Loss= 3.317, Training Accuracy= 0.220\n",
      "Epoch: 3, Batch: 300, Loss= 6.657, Training Accuracy= 0.160\n",
      "Epoch: 3, Batch: 350, Loss= 40.530, Training Accuracy= 0.100\n",
      "Epoch: 3, Batch: 400, Loss= 13.589, Training Accuracy= 0.200\n",
      "Epoch: 3, Batch: 450, Loss= 12.160, Training Accuracy= 0.180\n",
      "Epoch: 3, Batch: 500, Loss= 1.949, Training Accuracy= 0.220\n",
      "Epoch: 3, Batch: 550, Loss= 5.854, Training Accuracy= 0.180\n",
      "Epoch: 3, Test Loss= 0.019, Test Accuracy= 0.173\n",
      "Epoch: 4, Batch: 0, Loss= 26.534, Training Accuracy= 0.200\n",
      "Epoch: 4, Batch: 50, Loss= 1.841, Training Accuracy= 0.160\n",
      "Epoch: 4, Batch: 100, Loss= 1.873, Training Accuracy= 0.240\n",
      "Epoch: 4, Batch: 150, Loss= 12.402, Training Accuracy= 0.180\n",
      "Epoch: 4, Batch: 200, Loss= 2.618, Training Accuracy= 0.260\n",
      "Epoch: 4, Batch: 250, Loss= 1.865, Training Accuracy= 0.220\n",
      "Epoch: 4, Batch: 300, Loss= 2.003, Training Accuracy= 0.160\n",
      "Epoch: 4, Batch: 350, Loss= 24.761, Training Accuracy= 0.300\n",
      "Epoch: 4, Batch: 400, Loss= 9.197, Training Accuracy= 0.280\n",
      "Epoch: 4, Batch: 450, Loss= 9.717, Training Accuracy= 0.260\n",
      "Epoch: 4, Batch: 500, Loss= 1.831, Training Accuracy= 0.280\n",
      "Epoch: 4, Batch: 550, Loss= 3.422, Training Accuracy= 0.280\n",
      "Epoch: 4, Test Loss= 0.018, Test Accuracy= 0.256\n",
      "Epoch: 5, Batch: 0, Loss= 1.863, Training Accuracy= 0.240\n",
      "Epoch: 5, Batch: 50, Loss= 1.783, Training Accuracy= 0.320\n",
      "Epoch: 5, Batch: 100, Loss= 1.822, Training Accuracy= 0.220\n",
      "Epoch: 5, Batch: 150, Loss= 10.032, Training Accuracy= 0.260\n",
      "Epoch: 5, Batch: 200, Loss= 1.869, Training Accuracy= 0.180\n",
      "Epoch: 5, Batch: 250, Loss= 1.834, Training Accuracy= 0.220\n",
      "Epoch: 5, Batch: 300, Loss= 1.943, Training Accuracy= 0.160\n",
      "Epoch: 5, Batch: 350, Loss= 11.908, Training Accuracy= 0.300\n",
      "Epoch: 5, Batch: 400, Loss= 7.616, Training Accuracy= 0.280\n",
      "Epoch: 5, Batch: 450, Loss= 4.196, Training Accuracy= 0.260\n",
      "Epoch: 5, Batch: 500, Loss= 1.789, Training Accuracy= 0.280\n",
      "Epoch: 5, Batch: 550, Loss= 2.758, Training Accuracy= 0.280\n",
      "Epoch: 5, Test Loss= 0.018, Test Accuracy= 0.256\n",
      "Epoch: 6, Batch: 0, Loss= 5.388, Training Accuracy= 0.240\n",
      "Epoch: 6, Batch: 50, Loss= 1.773, Training Accuracy= 0.320\n",
      "Epoch: 6, Batch: 100, Loss= 1.803, Training Accuracy= 0.220\n",
      "Epoch: 6, Batch: 150, Loss= 1.828, Training Accuracy= 0.260\n",
      "Epoch: 6, Batch: 200, Loss= 1.862, Training Accuracy= 0.180\n",
      "Epoch: 6, Batch: 250, Loss= 1.826, Training Accuracy= 0.220\n",
      "Epoch: 6, Batch: 300, Loss= 1.924, Training Accuracy= 0.160\n",
      "Epoch: 6, Batch: 350, Loss= 2.820, Training Accuracy= 0.300\n",
      "Epoch: 6, Batch: 400, Loss= 2.447, Training Accuracy= 0.280\n",
      "Epoch: 6, Batch: 450, Loss= 1.800, Training Accuracy= 0.280\n",
      "Epoch: 6, Batch: 500, Loss= 1.775, Training Accuracy= 0.280\n",
      "Epoch: 6, Batch: 550, Loss= 1.764, Training Accuracy= 0.280\n",
      "Epoch: 6, Test Loss= 0.018, Test Accuracy= 0.256\n",
      "Epoch: 7, Batch: 0, Loss= 1.806, Training Accuracy= 0.240\n",
      "Epoch: 7, Batch: 50, Loss= 1.773, Training Accuracy= 0.320\n",
      "Epoch: 7, Batch: 100, Loss= 1.822, Training Accuracy= 0.220\n",
      "Epoch: 7, Batch: 150, Loss= 1.810, Training Accuracy= 0.260\n",
      "Epoch: 7, Batch: 200, Loss= 1.866, Training Accuracy= 0.180\n",
      "Epoch: 7, Batch: 250, Loss= 1.823, Training Accuracy= 0.220\n",
      "Epoch: 7, Batch: 300, Loss= 1.921, Training Accuracy= 0.160\n",
      "Epoch: 7, Batch: 350, Loss= 1.816, Training Accuracy= 0.300\n",
      "Epoch: 7, Batch: 400, Loss= 1.800, Training Accuracy= 0.300\n",
      "Epoch: 7, Batch: 450, Loss= 1.790, Training Accuracy= 0.280\n",
      "Epoch: 7, Batch: 500, Loss= 1.768, Training Accuracy= 0.280\n",
      "Epoch: 7, Batch: 550, Loss= 1.753, Training Accuracy= 0.280\n",
      "Epoch: 7, Test Loss= 0.018, Test Accuracy= 0.256\n",
      "Epoch: 8, Batch: 0, Loss= 1.794, Training Accuracy= 0.240\n",
      "Epoch: 8, Batch: 50, Loss= 1.773, Training Accuracy= 0.320\n",
      "Epoch: 8, Batch: 100, Loss= 1.789, Training Accuracy= 0.220\n",
      "Epoch: 8, Batch: 150, Loss= 1.804, Training Accuracy= 0.260\n",
      "Epoch: 8, Batch: 200, Loss= 1.870, Training Accuracy= 0.180\n",
      "Epoch: 8, Batch: 250, Loss= 1.819, Training Accuracy= 0.220\n",
      "Epoch: 8, Batch: 300, Loss= 1.922, Training Accuracy= 0.160\n",
      "Epoch: 8, Batch: 350, Loss= 1.812, Training Accuracy= 0.300\n",
      "Epoch: 8, Batch: 400, Loss= 1.800, Training Accuracy= 0.300\n",
      "Epoch: 8, Batch: 450, Loss= 1.784, Training Accuracy= 0.280\n",
      "Epoch: 8, Batch: 500, Loss= 1.763, Training Accuracy= 0.280\n",
      "Epoch: 8, Batch: 550, Loss= 1.746, Training Accuracy= 0.280\n",
      "Epoch: 8, Test Loss= 0.018, Test Accuracy= 0.256\n",
      "Epoch: 9, Batch: 0, Loss= 1.788, Training Accuracy= 0.240\n",
      "Epoch: 9, Batch: 50, Loss= 1.773, Training Accuracy= 0.320\n",
      "Epoch: 9, Batch: 100, Loss= 1.784, Training Accuracy= 0.220\n",
      "Epoch: 9, Batch: 150, Loss= 1.802, Training Accuracy= 0.260\n",
      "Epoch: 9, Batch: 200, Loss= 1.874, Training Accuracy= 0.180\n",
      "Epoch: 9, Batch: 250, Loss= 1.815, Training Accuracy= 0.220\n",
      "Epoch: 9, Batch: 300, Loss= 1.924, Training Accuracy= 0.160\n",
      "Epoch: 9, Batch: 350, Loss= 1.811, Training Accuracy= 0.300\n",
      "Epoch: 9, Batch: 400, Loss= 1.800, Training Accuracy= 0.300\n",
      "Epoch: 9, Batch: 450, Loss= 1.781, Training Accuracy= 0.280\n",
      "Epoch: 9, Batch: 500, Loss= 1.760, Training Accuracy= 0.280\n",
      "Epoch: 9, Batch: 550, Loss= 1.743, Training Accuracy= 0.280\n",
      "Epoch: 9, Test Loss= 0.018, Test Accuracy= 0.256\n",
      "Epoch: 10, Batch: 0, Loss= 1.784, Training Accuracy= 0.240\n",
      "Epoch: 10, Batch: 50, Loss= 1.773, Training Accuracy= 0.320\n",
      "Epoch: 10, Batch: 100, Loss= 1.781, Training Accuracy= 0.220\n",
      "Epoch: 10, Batch: 150, Loss= 1.801, Training Accuracy= 0.260\n",
      "Epoch: 10, Batch: 200, Loss= 1.876, Training Accuracy= 0.180\n",
      "Epoch: 10, Batch: 250, Loss= 1.813, Training Accuracy= 0.220\n",
      "Epoch: 10, Batch: 300, Loss= 1.926, Training Accuracy= 0.160\n",
      "Epoch: 10, Batch: 350, Loss= 1.811, Training Accuracy= 0.300\n",
      "Epoch: 10, Batch: 400, Loss= 1.801, Training Accuracy= 0.300\n",
      "Epoch: 10, Batch: 450, Loss= 1.778, Training Accuracy= 0.280\n",
      "Epoch: 10, Batch: 500, Loss= 1.758, Training Accuracy= 0.280\n",
      "Epoch: 10, Batch: 550, Loss= 1.741, Training Accuracy= 0.280\n",
      "Epoch: 10, Test Loss= 0.018, Test Accuracy= 0.256\n",
      "Epoch: 11, Batch: 0, Loss= 1.782, Training Accuracy= 0.240\n",
      "Epoch: 11, Batch: 50, Loss= 1.773, Training Accuracy= 0.320\n",
      "Epoch: 11, Batch: 100, Loss= 1.807, Training Accuracy= 0.220\n"
     ]
    },
    {
     "name": "stdout",
     "output_type": "stream",
     "text": [
      "Epoch: 11, Batch: 150, Loss= 1.801, Training Accuracy= 0.260\n",
      "Epoch: 11, Batch: 200, Loss= 1.878, Training Accuracy= 0.180\n",
      "Epoch: 11, Batch: 250, Loss= 1.811, Training Accuracy= 0.220\n",
      "Epoch: 11, Batch: 300, Loss= 1.928, Training Accuracy= 0.160\n",
      "Epoch: 11, Batch: 350, Loss= 1.811, Training Accuracy= 0.300\n",
      "Epoch: 11, Batch: 400, Loss= 1.801, Training Accuracy= 0.300\n",
      "Epoch: 11, Batch: 450, Loss= 1.777, Training Accuracy= 0.280\n",
      "Epoch: 11, Batch: 500, Loss= 1.756, Training Accuracy= 0.280\n",
      "Epoch: 11, Batch: 550, Loss= 1.739, Training Accuracy= 0.280\n",
      "Epoch: 11, Test Loss= 0.018, Test Accuracy= 0.256\n",
      "Epoch: 12, Batch: 0, Loss= 1.781, Training Accuracy= 0.240\n",
      "Epoch: 12, Batch: 50, Loss= 1.773, Training Accuracy= 0.320\n",
      "Epoch: 12, Batch: 100, Loss= 1.805, Training Accuracy= 0.220\n",
      "Epoch: 12, Batch: 150, Loss= 1.802, Training Accuracy= 0.260\n",
      "Epoch: 12, Batch: 200, Loss= 1.880, Training Accuracy= 0.180\n",
      "Epoch: 12, Batch: 250, Loss= 1.810, Training Accuracy= 0.220\n",
      "Epoch: 12, Batch: 300, Loss= 1.930, Training Accuracy= 0.160\n",
      "Epoch: 12, Batch: 350, Loss= 1.811, Training Accuracy= 0.300\n",
      "Epoch: 12, Batch: 400, Loss= 1.801, Training Accuracy= 0.300\n",
      "Epoch: 12, Batch: 450, Loss= 1.776, Training Accuracy= 0.280\n",
      "Epoch: 12, Batch: 500, Loss= 1.755, Training Accuracy= 0.280\n",
      "Epoch: 12, Batch: 550, Loss= 1.738, Training Accuracy= 0.280\n",
      "Epoch: 12, Test Loss= 0.018, Test Accuracy= 0.256\n",
      "Epoch: 13, Batch: 0, Loss= 1.780, Training Accuracy= 0.240\n",
      "Epoch: 13, Batch: 50, Loss= 1.774, Training Accuracy= 0.320\n",
      "Epoch: 13, Batch: 100, Loss= 1.777, Training Accuracy= 0.220\n",
      "Epoch: 13, Batch: 150, Loss= 1.802, Training Accuracy= 0.260\n",
      "Epoch: 13, Batch: 200, Loss= 1.881, Training Accuracy= 0.180\n",
      "Epoch: 13, Batch: 250, Loss= 1.809, Training Accuracy= 0.220\n",
      "Epoch: 13, Batch: 300, Loss= 1.931, Training Accuracy= 0.160\n",
      "Epoch: 13, Batch: 350, Loss= 1.811, Training Accuracy= 0.300\n",
      "Epoch: 13, Batch: 400, Loss= 1.801, Training Accuracy= 0.300\n",
      "Epoch: 13, Batch: 450, Loss= 1.775, Training Accuracy= 0.280\n",
      "Epoch: 13, Batch: 500, Loss= 1.755, Training Accuracy= 0.280\n",
      "Epoch: 13, Batch: 550, Loss= 1.738, Training Accuracy= 0.280\n",
      "Epoch: 13, Test Loss= 0.018, Test Accuracy= 0.256\n",
      "Epoch: 14, Batch: 0, Loss= 1.779, Training Accuracy= 0.240\n",
      "Epoch: 14, Batch: 50, Loss= 1.774, Training Accuracy= 0.320\n",
      "Epoch: 14, Batch: 100, Loss= 1.804, Training Accuracy= 0.220\n",
      "Epoch: 14, Batch: 150, Loss= 1.802, Training Accuracy= 0.260\n",
      "Epoch: 14, Batch: 200, Loss= 1.882, Training Accuracy= 0.180\n",
      "Epoch: 14, Batch: 250, Loss= 1.808, Training Accuracy= 0.220\n",
      "Epoch: 14, Batch: 300, Loss= 1.931, Training Accuracy= 0.160\n",
      "Epoch: 14, Batch: 350, Loss= 1.811, Training Accuracy= 0.300\n",
      "Epoch: 14, Batch: 400, Loss= 1.801, Training Accuracy= 0.300\n",
      "Epoch: 14, Batch: 450, Loss= 1.775, Training Accuracy= 0.280\n",
      "Epoch: 14, Batch: 500, Loss= 1.754, Training Accuracy= 0.280\n",
      "Epoch: 14, Batch: 550, Loss= 1.737, Training Accuracy= 0.280\n",
      "Epoch: 14, Test Loss= 0.018, Test Accuracy= 0.256\n",
      "Epoch: 15, Batch: 0, Loss= 1.779, Training Accuracy= 0.240\n",
      "Epoch: 15, Batch: 50, Loss= 1.774, Training Accuracy= 0.320\n",
      "Epoch: 15, Batch: 100, Loss= 1.804, Training Accuracy= 0.220\n",
      "Epoch: 15, Batch: 150, Loss= 1.802, Training Accuracy= 0.260\n",
      "Epoch: 15, Batch: 200, Loss= 1.882, Training Accuracy= 0.180\n",
      "Epoch: 15, Batch: 250, Loss= 1.808, Training Accuracy= 0.220\n",
      "Epoch: 15, Batch: 300, Loss= 1.932, Training Accuracy= 0.160\n",
      "Epoch: 15, Batch: 350, Loss= 1.811, Training Accuracy= 0.300\n",
      "Epoch: 15, Batch: 400, Loss= 1.801, Training Accuracy= 0.300\n",
      "Epoch: 15, Batch: 450, Loss= 1.775, Training Accuracy= 0.280\n",
      "Epoch: 15, Batch: 500, Loss= 1.754, Training Accuracy= 0.280\n",
      "Epoch: 15, Batch: 550, Loss= 1.737, Training Accuracy= 0.280\n",
      "Epoch: 15, Test Loss= 0.018, Test Accuracy= 0.256\n",
      "Epoch: 16, Batch: 0, Loss= 1.779, Training Accuracy= 0.240\n",
      "Epoch: 16, Batch: 50, Loss= 1.774, Training Accuracy= 0.320\n",
      "Epoch: 16, Batch: 100, Loss= 1.804, Training Accuracy= 0.220\n",
      "Epoch: 16, Batch: 150, Loss= 1.802, Training Accuracy= 0.260\n",
      "Epoch: 16, Batch: 200, Loss= 1.882, Training Accuracy= 0.180\n",
      "Epoch: 16, Batch: 250, Loss= 1.808, Training Accuracy= 0.220\n",
      "Epoch: 16, Batch: 300, Loss= 1.932, Training Accuracy= 0.160\n",
      "Epoch: 16, Batch: 350, Loss= 1.811, Training Accuracy= 0.300\n",
      "Epoch: 16, Batch: 400, Loss= 1.801, Training Accuracy= 0.300\n",
      "Epoch: 16, Batch: 450, Loss= 1.775, Training Accuracy= 0.280\n",
      "Epoch: 16, Batch: 500, Loss= 1.754, Training Accuracy= 0.280\n",
      "Epoch: 16, Batch: 550, Loss= 1.737, Training Accuracy= 0.280\n",
      "Epoch: 16, Test Loss= 0.018, Test Accuracy= 0.256\n",
      "Epoch: 17, Batch: 0, Loss= 1.779, Training Accuracy= 0.240\n",
      "Epoch: 17, Batch: 50, Loss= 1.774, Training Accuracy= 0.320\n",
      "Epoch: 17, Batch: 100, Loss= 1.804, Training Accuracy= 0.220\n",
      "Epoch: 17, Batch: 150, Loss= 1.802, Training Accuracy= 0.260\n",
      "Epoch: 17, Batch: 200, Loss= 1.882, Training Accuracy= 0.180\n",
      "Epoch: 17, Batch: 250, Loss= 1.808, Training Accuracy= 0.220\n",
      "Epoch: 17, Batch: 300, Loss= 1.932, Training Accuracy= 0.160\n",
      "Epoch: 17, Batch: 350, Loss= 1.811, Training Accuracy= 0.300\n",
      "Epoch: 17, Batch: 400, Loss= 1.801, Training Accuracy= 0.300\n",
      "Epoch: 17, Batch: 450, Loss= 1.775, Training Accuracy= 0.280\n",
      "Epoch: 17, Batch: 500, Loss= 1.754, Training Accuracy= 0.280\n",
      "Epoch: 17, Batch: 550, Loss= 1.737, Training Accuracy= 0.280\n",
      "Epoch: 17, Test Loss= 0.018, Test Accuracy= 0.256\n",
      "Epoch: 18, Batch: 0, Loss= 1.779, Training Accuracy= 0.240\n",
      "Epoch: 18, Batch: 50, Loss= 1.774, Training Accuracy= 0.320\n",
      "Epoch: 18, Batch: 100, Loss= 1.804, Training Accuracy= 0.220\n",
      "Epoch: 18, Batch: 150, Loss= 1.802, Training Accuracy= 0.260\n",
      "Epoch: 18, Batch: 200, Loss= 1.882, Training Accuracy= 0.180\n",
      "Epoch: 18, Batch: 250, Loss= 1.808, Training Accuracy= 0.220\n",
      "Epoch: 18, Batch: 300, Loss= 1.932, Training Accuracy= 0.160\n",
      "Epoch: 18, Batch: 350, Loss= 1.811, Training Accuracy= 0.300\n",
      "Epoch: 18, Batch: 400, Loss= 1.801, Training Accuracy= 0.300\n",
      "Epoch: 18, Batch: 450, Loss= 1.775, Training Accuracy= 0.280\n",
      "Epoch: 18, Batch: 500, Loss= 1.754, Training Accuracy= 0.280\n",
      "Epoch: 18, Batch: 550, Loss= 1.737, Training Accuracy= 0.280\n",
      "Epoch: 18, Test Loss= 0.018, Test Accuracy= 0.256\n",
      "Epoch: 19, Batch: 0, Loss= 1.779, Training Accuracy= 0.240\n",
      "Epoch: 19, Batch: 50, Loss= 1.774, Training Accuracy= 0.320\n",
      "Epoch: 19, Batch: 100, Loss= 1.803, Training Accuracy= 0.220\n",
      "Epoch: 19, Batch: 150, Loss= 1.802, Training Accuracy= 0.260\n",
      "Epoch: 19, Batch: 200, Loss= 1.882, Training Accuracy= 0.180\n",
      "Epoch: 19, Batch: 250, Loss= 1.808, Training Accuracy= 0.220\n",
      "Epoch: 19, Batch: 300, Loss= 1.932, Training Accuracy= 0.160\n",
      "Epoch: 19, Batch: 350, Loss= 1.811, Training Accuracy= 0.300\n",
      "Epoch: 19, Batch: 400, Loss= 1.801, Training Accuracy= 0.300\n",
      "Epoch: 19, Batch: 450, Loss= 1.775, Training Accuracy= 0.280\n",
      "Epoch: 19, Batch: 500, Loss= 1.754, Training Accuracy= 0.280\n",
      "Epoch: 19, Batch: 550, Loss= 1.737, Training Accuracy= 0.280\n",
      "Epoch: 19, Test Loss= 0.018, Test Accuracy= 0.256\n",
      "Epoch: 20, Batch: 0, Loss= 1.779, Training Accuracy= 0.240\n",
      "Epoch: 20, Batch: 50, Loss= 1.774, Training Accuracy= 0.320\n",
      "Epoch: 20, Batch: 100, Loss= 1.803, Training Accuracy= 0.220\n",
      "Epoch: 20, Batch: 150, Loss= 1.802, Training Accuracy= 0.260\n",
      "Epoch: 20, Batch: 200, Loss= 1.882, Training Accuracy= 0.180\n",
      "Epoch: 20, Batch: 250, Loss= 1.808, Training Accuracy= 0.220\n",
      "Epoch: 20, Batch: 300, Loss= 1.932, Training Accuracy= 0.160\n",
      "Epoch: 20, Batch: 350, Loss= 1.811, Training Accuracy= 0.300\n",
      "Epoch: 20, Batch: 400, Loss= 1.801, Training Accuracy= 0.300\n",
      "Epoch: 20, Batch: 450, Loss= 1.775, Training Accuracy= 0.280\n",
      "Epoch: 20, Batch: 500, Loss= 1.754, Training Accuracy= 0.280\n",
      "Epoch: 20, Batch: 550, Loss= 1.737, Training Accuracy= 0.280\n",
      "Epoch: 20, Test Loss= 0.018, Test Accuracy= 0.256\n",
      "Epoch: 21, Batch: 0, Loss= 1.779, Training Accuracy= 0.240\n",
      "Epoch: 21, Batch: 50, Loss= 1.774, Training Accuracy= 0.320\n",
      "Epoch: 21, Batch: 100, Loss= 1.803, Training Accuracy= 0.220\n",
      "Epoch: 21, Batch: 150, Loss= 1.802, Training Accuracy= 0.260\n",
      "Epoch: 21, Batch: 200, Loss= 1.882, Training Accuracy= 0.180\n",
      "Epoch: 21, Batch: 250, Loss= 1.808, Training Accuracy= 0.220\n",
      "Epoch: 21, Batch: 300, Loss= 1.932, Training Accuracy= 0.160\n",
      "Epoch: 21, Batch: 350, Loss= 1.811, Training Accuracy= 0.300\n",
      "Epoch: 21, Batch: 400, Loss= 1.801, Training Accuracy= 0.300\n",
      "Epoch: 21, Batch: 450, Loss= 1.775, Training Accuracy= 0.280\n"
     ]
    },
    {
     "name": "stdout",
     "output_type": "stream",
     "text": [
      "Epoch: 21, Batch: 500, Loss= 1.754, Training Accuracy= 0.280\n",
      "Epoch: 21, Batch: 550, Loss= 1.737, Training Accuracy= 0.280\n",
      "Epoch: 21, Test Loss= 0.018, Test Accuracy= 0.256\n",
      "Epoch: 22, Batch: 0, Loss= 1.779, Training Accuracy= 0.240\n",
      "Epoch: 22, Batch: 50, Loss= 1.774, Training Accuracy= 0.320\n",
      "Epoch: 22, Batch: 100, Loss= 1.803, Training Accuracy= 0.220\n",
      "Epoch: 22, Batch: 150, Loss= 1.802, Training Accuracy= 0.260\n",
      "Epoch: 22, Batch: 200, Loss= 1.882, Training Accuracy= 0.180\n",
      "Epoch: 22, Batch: 250, Loss= 1.808, Training Accuracy= 0.220\n",
      "Epoch: 22, Batch: 300, Loss= 1.932, Training Accuracy= 0.160\n",
      "Epoch: 22, Batch: 350, Loss= 1.811, Training Accuracy= 0.300\n",
      "Epoch: 22, Batch: 400, Loss= 1.801, Training Accuracy= 0.300\n",
      "Epoch: 22, Batch: 450, Loss= 1.775, Training Accuracy= 0.280\n",
      "Epoch: 22, Batch: 500, Loss= 1.754, Training Accuracy= 0.280\n",
      "Epoch: 22, Batch: 550, Loss= 1.737, Training Accuracy= 0.280\n",
      "Epoch: 22, Test Loss= 0.018, Test Accuracy= 0.256\n",
      "Epoch: 23, Batch: 0, Loss= 1.779, Training Accuracy= 0.240\n",
      "Epoch: 23, Batch: 50, Loss= 1.774, Training Accuracy= 0.320\n",
      "Epoch: 23, Batch: 100, Loss= 1.803, Training Accuracy= 0.220\n",
      "Epoch: 23, Batch: 150, Loss= 1.802, Training Accuracy= 0.260\n",
      "Epoch: 23, Batch: 200, Loss= 1.882, Training Accuracy= 0.180\n",
      "Epoch: 23, Batch: 250, Loss= 1.808, Training Accuracy= 0.220\n",
      "Epoch: 23, Batch: 300, Loss= 1.932, Training Accuracy= 0.160\n",
      "Epoch: 23, Batch: 350, Loss= 1.811, Training Accuracy= 0.300\n",
      "Epoch: 23, Batch: 400, Loss= 1.801, Training Accuracy= 0.300\n",
      "Epoch: 23, Batch: 450, Loss= 1.775, Training Accuracy= 0.280\n",
      "Epoch: 23, Batch: 500, Loss= 1.754, Training Accuracy= 0.280\n",
      "Epoch: 23, Batch: 550, Loss= 1.737, Training Accuracy= 0.280\n",
      "Epoch: 23, Test Loss= 0.018, Test Accuracy= 0.256\n",
      "Epoch: 24, Batch: 0, Loss= 1.779, Training Accuracy= 0.240\n",
      "Epoch: 24, Batch: 50, Loss= 1.774, Training Accuracy= 0.320\n",
      "Epoch: 24, Batch: 100, Loss= 1.803, Training Accuracy= 0.220\n",
      "Epoch: 24, Batch: 150, Loss= 1.802, Training Accuracy= 0.260\n",
      "Epoch: 24, Batch: 200, Loss= 1.882, Training Accuracy= 0.180\n",
      "Epoch: 24, Batch: 250, Loss= 1.808, Training Accuracy= 0.220\n",
      "Epoch: 24, Batch: 300, Loss= 1.932, Training Accuracy= 0.160\n",
      "Epoch: 24, Batch: 350, Loss= 1.811, Training Accuracy= 0.300\n",
      "Epoch: 24, Batch: 400, Loss= 1.801, Training Accuracy= 0.300\n",
      "Epoch: 24, Batch: 450, Loss= 1.775, Training Accuracy= 0.280\n",
      "Epoch: 24, Batch: 500, Loss= 1.754, Training Accuracy= 0.280\n",
      "Epoch: 24, Batch: 550, Loss= 1.737, Training Accuracy= 0.280\n",
      "Epoch: 24, Test Loss= 0.018, Test Accuracy= 0.256\n",
      "Epoch: 25, Batch: 0, Loss= 1.779, Training Accuracy= 0.240\n",
      "Epoch: 25, Batch: 50, Loss= 1.774, Training Accuracy= 0.320\n",
      "Epoch: 25, Batch: 100, Loss= 1.803, Training Accuracy= 0.220\n",
      "Epoch: 25, Batch: 150, Loss= 1.802, Training Accuracy= 0.260\n",
      "Epoch: 25, Batch: 200, Loss= 1.882, Training Accuracy= 0.180\n",
      "Epoch: 25, Batch: 250, Loss= 1.808, Training Accuracy= 0.220\n",
      "Epoch: 25, Batch: 300, Loss= 1.932, Training Accuracy= 0.160\n",
      "Epoch: 25, Batch: 350, Loss= 1.811, Training Accuracy= 0.300\n"
     ]
    },
    {
     "ename": "KeyboardInterrupt",
     "evalue": "",
     "output_type": "error",
     "traceback": [
      "\u001b[1;31m---------------------------------------------------------------------------\u001b[0m",
      "\u001b[1;31mKeyboardInterrupt\u001b[0m                         Traceback (most recent call last)",
      "\u001b[1;32m<ipython-input-121-25eea7c3dde2>\u001b[0m in \u001b[0;36m<module>\u001b[1;34m\u001b[0m\n\u001b[0;32m     14\u001b[0m             \u001b[1;31m# Run optimization op (backprop)\u001b[0m\u001b[1;33m\u001b[0m\u001b[1;33m\u001b[0m\u001b[1;33m\u001b[0m\u001b[0m\n\u001b[0;32m     15\u001b[0m             sess.run(optimizer, feed_dict={x: batch_x, y: batch_y,\n\u001b[1;32m---> 16\u001b[1;33m                                            keep_prob: dropout})\n\u001b[0m\u001b[0;32m     17\u001b[0m             \u001b[1;32mif\u001b[0m \u001b[0mtrain_batch\u001b[0m \u001b[1;33m%\u001b[0m \u001b[0mbatch_size\u001b[0m \u001b[1;33m==\u001b[0m \u001b[1;36m0\u001b[0m\u001b[1;33m:\u001b[0m\u001b[1;33m\u001b[0m\u001b[1;33m\u001b[0m\u001b[0m\n\u001b[0;32m     18\u001b[0m                 \u001b[1;31m# Calculate loss and accuracy\u001b[0m\u001b[1;33m\u001b[0m\u001b[1;33m\u001b[0m\u001b[1;33m\u001b[0m\u001b[0m\n",
      "\u001b[1;32mE:\\Anaconda3\\anaconda3\\lib\\site-packages\\tensorflow\\python\\client\\session.py\u001b[0m in \u001b[0;36mrun\u001b[1;34m(self, fetches, feed_dict, options, run_metadata)\u001b[0m\n\u001b[0;32m    956\u001b[0m     \u001b[1;32mtry\u001b[0m\u001b[1;33m:\u001b[0m\u001b[1;33m\u001b[0m\u001b[1;33m\u001b[0m\u001b[0m\n\u001b[0;32m    957\u001b[0m       result = self._run(None, fetches, feed_dict, options_ptr,\n\u001b[1;32m--> 958\u001b[1;33m                          run_metadata_ptr)\n\u001b[0m\u001b[0;32m    959\u001b[0m       \u001b[1;32mif\u001b[0m \u001b[0mrun_metadata\u001b[0m\u001b[1;33m:\u001b[0m\u001b[1;33m\u001b[0m\u001b[1;33m\u001b[0m\u001b[0m\n\u001b[0;32m    960\u001b[0m         \u001b[0mproto_data\u001b[0m \u001b[1;33m=\u001b[0m \u001b[0mtf_session\u001b[0m\u001b[1;33m.\u001b[0m\u001b[0mTF_GetBuffer\u001b[0m\u001b[1;33m(\u001b[0m\u001b[0mrun_metadata_ptr\u001b[0m\u001b[1;33m)\u001b[0m\u001b[1;33m\u001b[0m\u001b[1;33m\u001b[0m\u001b[0m\n",
      "\u001b[1;32mE:\\Anaconda3\\anaconda3\\lib\\site-packages\\tensorflow\\python\\client\\session.py\u001b[0m in \u001b[0;36m_run\u001b[1;34m(self, handle, fetches, feed_dict, options, run_metadata)\u001b[0m\n\u001b[0;32m   1179\u001b[0m     \u001b[1;32mif\u001b[0m \u001b[0mfinal_fetches\u001b[0m \u001b[1;32mor\u001b[0m \u001b[0mfinal_targets\u001b[0m \u001b[1;32mor\u001b[0m \u001b[1;33m(\u001b[0m\u001b[0mhandle\u001b[0m \u001b[1;32mand\u001b[0m \u001b[0mfeed_dict_tensor\u001b[0m\u001b[1;33m)\u001b[0m\u001b[1;33m:\u001b[0m\u001b[1;33m\u001b[0m\u001b[1;33m\u001b[0m\u001b[0m\n\u001b[0;32m   1180\u001b[0m       results = self._do_run(handle, final_targets, final_fetches,\n\u001b[1;32m-> 1181\u001b[1;33m                              feed_dict_tensor, options, run_metadata)\n\u001b[0m\u001b[0;32m   1182\u001b[0m     \u001b[1;32melse\u001b[0m\u001b[1;33m:\u001b[0m\u001b[1;33m\u001b[0m\u001b[1;33m\u001b[0m\u001b[0m\n\u001b[0;32m   1183\u001b[0m       \u001b[0mresults\u001b[0m \u001b[1;33m=\u001b[0m \u001b[1;33m[\u001b[0m\u001b[1;33m]\u001b[0m\u001b[1;33m\u001b[0m\u001b[1;33m\u001b[0m\u001b[0m\n",
      "\u001b[1;32mE:\\Anaconda3\\anaconda3\\lib\\site-packages\\tensorflow\\python\\client\\session.py\u001b[0m in \u001b[0;36m_do_run\u001b[1;34m(self, handle, target_list, fetch_list, feed_dict, options, run_metadata)\u001b[0m\n\u001b[0;32m   1357\u001b[0m     \u001b[1;32mif\u001b[0m \u001b[0mhandle\u001b[0m \u001b[1;32mis\u001b[0m \u001b[1;32mNone\u001b[0m\u001b[1;33m:\u001b[0m\u001b[1;33m\u001b[0m\u001b[1;33m\u001b[0m\u001b[0m\n\u001b[0;32m   1358\u001b[0m       return self._do_call(_run_fn, feeds, fetches, targets, options,\n\u001b[1;32m-> 1359\u001b[1;33m                            run_metadata)\n\u001b[0m\u001b[0;32m   1360\u001b[0m     \u001b[1;32melse\u001b[0m\u001b[1;33m:\u001b[0m\u001b[1;33m\u001b[0m\u001b[1;33m\u001b[0m\u001b[0m\n\u001b[0;32m   1361\u001b[0m       \u001b[1;32mreturn\u001b[0m \u001b[0mself\u001b[0m\u001b[1;33m.\u001b[0m\u001b[0m_do_call\u001b[0m\u001b[1;33m(\u001b[0m\u001b[0m_prun_fn\u001b[0m\u001b[1;33m,\u001b[0m \u001b[0mhandle\u001b[0m\u001b[1;33m,\u001b[0m \u001b[0mfeeds\u001b[0m\u001b[1;33m,\u001b[0m \u001b[0mfetches\u001b[0m\u001b[1;33m)\u001b[0m\u001b[1;33m\u001b[0m\u001b[1;33m\u001b[0m\u001b[0m\n",
      "\u001b[1;32mE:\\Anaconda3\\anaconda3\\lib\\site-packages\\tensorflow\\python\\client\\session.py\u001b[0m in \u001b[0;36m_do_call\u001b[1;34m(self, fn, *args)\u001b[0m\n\u001b[0;32m   1363\u001b[0m   \u001b[1;32mdef\u001b[0m \u001b[0m_do_call\u001b[0m\u001b[1;33m(\u001b[0m\u001b[0mself\u001b[0m\u001b[1;33m,\u001b[0m \u001b[0mfn\u001b[0m\u001b[1;33m,\u001b[0m \u001b[1;33m*\u001b[0m\u001b[0margs\u001b[0m\u001b[1;33m)\u001b[0m\u001b[1;33m:\u001b[0m\u001b[1;33m\u001b[0m\u001b[1;33m\u001b[0m\u001b[0m\n\u001b[0;32m   1364\u001b[0m     \u001b[1;32mtry\u001b[0m\u001b[1;33m:\u001b[0m\u001b[1;33m\u001b[0m\u001b[1;33m\u001b[0m\u001b[0m\n\u001b[1;32m-> 1365\u001b[1;33m       \u001b[1;32mreturn\u001b[0m \u001b[0mfn\u001b[0m\u001b[1;33m(\u001b[0m\u001b[1;33m*\u001b[0m\u001b[0margs\u001b[0m\u001b[1;33m)\u001b[0m\u001b[1;33m\u001b[0m\u001b[1;33m\u001b[0m\u001b[0m\n\u001b[0m\u001b[0;32m   1366\u001b[0m     \u001b[1;32mexcept\u001b[0m \u001b[0merrors\u001b[0m\u001b[1;33m.\u001b[0m\u001b[0mOpError\u001b[0m \u001b[1;32mas\u001b[0m \u001b[0me\u001b[0m\u001b[1;33m:\u001b[0m\u001b[1;33m\u001b[0m\u001b[1;33m\u001b[0m\u001b[0m\n\u001b[0;32m   1367\u001b[0m       \u001b[0mmessage\u001b[0m \u001b[1;33m=\u001b[0m \u001b[0mcompat\u001b[0m\u001b[1;33m.\u001b[0m\u001b[0mas_text\u001b[0m\u001b[1;33m(\u001b[0m\u001b[0me\u001b[0m\u001b[1;33m.\u001b[0m\u001b[0mmessage\u001b[0m\u001b[1;33m)\u001b[0m\u001b[1;33m\u001b[0m\u001b[1;33m\u001b[0m\u001b[0m\n",
      "\u001b[1;32mE:\\Anaconda3\\anaconda3\\lib\\site-packages\\tensorflow\\python\\client\\session.py\u001b[0m in \u001b[0;36m_run_fn\u001b[1;34m(feed_dict, fetch_list, target_list, options, run_metadata)\u001b[0m\n\u001b[0;32m   1348\u001b[0m       \u001b[0mself\u001b[0m\u001b[1;33m.\u001b[0m\u001b[0m_extend_graph\u001b[0m\u001b[1;33m(\u001b[0m\u001b[1;33m)\u001b[0m\u001b[1;33m\u001b[0m\u001b[1;33m\u001b[0m\u001b[0m\n\u001b[0;32m   1349\u001b[0m       return self._call_tf_sessionrun(options, feed_dict, fetch_list,\n\u001b[1;32m-> 1350\u001b[1;33m                                       target_list, run_metadata)\n\u001b[0m\u001b[0;32m   1351\u001b[0m \u001b[1;33m\u001b[0m\u001b[0m\n\u001b[0;32m   1352\u001b[0m     \u001b[1;32mdef\u001b[0m \u001b[0m_prun_fn\u001b[0m\u001b[1;33m(\u001b[0m\u001b[0mhandle\u001b[0m\u001b[1;33m,\u001b[0m \u001b[0mfeed_dict\u001b[0m\u001b[1;33m,\u001b[0m \u001b[0mfetch_list\u001b[0m\u001b[1;33m)\u001b[0m\u001b[1;33m:\u001b[0m\u001b[1;33m\u001b[0m\u001b[1;33m\u001b[0m\u001b[0m\n",
      "\u001b[1;32mE:\\Anaconda3\\anaconda3\\lib\\site-packages\\tensorflow\\python\\client\\session.py\u001b[0m in \u001b[0;36m_call_tf_sessionrun\u001b[1;34m(self, options, feed_dict, fetch_list, target_list, run_metadata)\u001b[0m\n\u001b[0;32m   1441\u001b[0m     return tf_session.TF_SessionRun_wrapper(self._session, options, feed_dict,\n\u001b[0;32m   1442\u001b[0m                                             \u001b[0mfetch_list\u001b[0m\u001b[1;33m,\u001b[0m \u001b[0mtarget_list\u001b[0m\u001b[1;33m,\u001b[0m\u001b[1;33m\u001b[0m\u001b[1;33m\u001b[0m\u001b[0m\n\u001b[1;32m-> 1443\u001b[1;33m                                             run_metadata)\n\u001b[0m\u001b[0;32m   1444\u001b[0m \u001b[1;33m\u001b[0m\u001b[0m\n\u001b[0;32m   1445\u001b[0m   \u001b[1;32mdef\u001b[0m \u001b[0m_call_tf_sessionprun\u001b[0m\u001b[1;33m(\u001b[0m\u001b[0mself\u001b[0m\u001b[1;33m,\u001b[0m \u001b[0mhandle\u001b[0m\u001b[1;33m,\u001b[0m \u001b[0mfeed_dict\u001b[0m\u001b[1;33m,\u001b[0m \u001b[0mfetch_list\u001b[0m\u001b[1;33m)\u001b[0m\u001b[1;33m:\u001b[0m\u001b[1;33m\u001b[0m\u001b[1;33m\u001b[0m\u001b[0m\n",
      "\u001b[1;31mKeyboardInterrupt\u001b[0m: "
     ]
    }
   ],
   "source": [
    "# Initializing the variables\n",
    "init = tf.initialize_all_variables()\n",
    "Train_ind = np.arange(train_num)\n",
    "Test_ind = np.arange(test_num)\n",
    "with tf.Session() as sess:\n",
    "    sess.run(init)\n",
    "    for epoch in range(0, train_epoch):\n",
    "        Total_test_loss = 0\n",
    "        Total_test_acc = 0\n",
    "        for train_batch in range(0, int(train_batch_num)):\n",
    "            sample_ind = Train_ind[train_batch * batch_size:(train_batch + 1) * batch_size]\n",
    "            batch_x = train_x[sample_ind, :]\n",
    "            batch_y = train_y[sample_ind, :]\n",
    "            # Run optimization op (backprop)\n",
    "            sess.run(optimizer, feed_dict={x: batch_x, y: batch_y,\n",
    "                                           keep_prob: dropout})\n",
    "            if train_batch % batch_size == 0:\n",
    "                # Calculate loss and accuracy\n",
    "                loss, acc = sess.run([cost, accuracy], feed_dict={x: batch_x,\n",
    "                                                                  y: batch_y,\n",
    "                                                                  keep_prob: 1.})\n",
    "                print(\"Epoch: \" + str(epoch + 1) + \", Batch: \" + str(train_batch) + \", Loss= \" + \\\n",
    "                      \"{:.3f}\".format(loss) + \", Training Accuracy= \" + \\\n",
    "                      \"{:.3f}\".format(acc))\n",
    "        # Calculate test loss and test accuracy\n",
    "        for test_batch in range(0, int(test_batch_num)):\n",
    "            sample_ind = Test_ind[test_batch * batch_size:(test_batch + 1) * batch_size]\n",
    "            batch_x = test_x[sample_ind, :]\n",
    "            batch_y = test_y[sample_ind, :]\n",
    "            test_loss, test_acc = sess.run([cost, accuracy], feed_dict={x: batch_x,\n",
    "                                                                        y: batch_y,\n",
    "                                                                        keep_prob: 1.})\n",
    "            Total_test_lost = Total_test_loss + test_loss\n",
    "            Total_test_acc = Total_test_acc + test_acc\n",
    " \n",
    "        Total_test_acc = Total_test_acc / test_batch_num\n",
    "        Total_test_loss = Total_test_lost / test_batch_num\n",
    "        print(\"Epoch: \" + str(epoch + 1) + \", Test Loss= \" + \\\n",
    "              \"{:.3f}\".format(Total_test_loss) + \", Test Accuracy= \" + \\\n",
    "              \"{:.3f}\".format(Total_test_acc))"
   ]
  },
  {
   "cell_type": "code",
   "execution_count": null,
   "metadata": {},
   "outputs": [],
   "source": []
  },
  {
   "cell_type": "code",
   "execution_count": null,
   "metadata": {},
   "outputs": [],
   "source": []
  }
 ],
 "metadata": {
  "hide_input": false,
  "kernelspec": {
   "display_name": "Python 3",
   "language": "python",
   "name": "python3"
  },
  "language_info": {
   "codemirror_mode": {
    "name": "ipython",
    "version": 3
   },
   "file_extension": ".py",
   "mimetype": "text/x-python",
   "name": "python",
   "nbconvert_exporter": "python",
   "pygments_lexer": "ipython3",
   "version": "3.7.6"
  },
  "latex_envs": {
   "LaTeX_envs_menu_present": true,
   "autoclose": false,
   "autocomplete": true,
   "bibliofile": "biblio.bib",
   "cite_by": "apalike",
   "current_citInitial": 1,
   "eqLabelWithNumbers": true,
   "eqNumInitial": 1,
   "hotkeys": {
    "equation": "Ctrl-E",
    "itemize": "Ctrl-I"
   },
   "labels_anchors": false,
   "latex_user_defs": false,
   "report_style_numbering": false,
   "user_envs_cfg": false
  },
  "nbTranslate": {
   "displayLangs": [
    "*"
   ],
   "hotkey": "alt-t",
   "langInMainMenu": true,
   "sourceLang": "en",
   "targetLang": "fr",
   "useGoogleTranslate": true
  },
  "toc": {
   "base_numbering": 1,
   "nav_menu": {},
   "number_sections": true,
   "sideBar": true,
   "skip_h1_title": false,
   "title_cell": "Table of Contents",
   "title_sidebar": "Contents",
   "toc_cell": false,
   "toc_position": {
    "height": "calc(100% - 180px)",
    "left": "10px",
    "top": "150px",
    "width": "208.316px"
   },
   "toc_section_display": true,
   "toc_window_display": true
  },
  "varInspector": {
   "cols": {
    "lenName": 16,
    "lenType": 16,
    "lenVar": 40
   },
   "kernels_config": {
    "python": {
     "delete_cmd_postfix": "",
     "delete_cmd_prefix": "del ",
     "library": "var_list.py",
     "varRefreshCmd": "print(var_dic_list())"
    },
    "r": {
     "delete_cmd_postfix": ") ",
     "delete_cmd_prefix": "rm(",
     "library": "var_list.r",
     "varRefreshCmd": "cat(var_dic_list()) "
    }
   },
   "types_to_exclude": [
    "module",
    "function",
    "builtin_function_or_method",
    "instance",
    "_Feature"
   ],
   "window_display": false
  }
 },
 "nbformat": 4,
 "nbformat_minor": 4
}
