{
 "cells": [
  {
   "cell_type": "markdown",
   "metadata": {},
   "source": [
    "# 在一次幂下的结果"
   ]
  },
  {
   "cell_type": "code",
   "execution_count": 1,
   "metadata": {},
   "outputs": [
    {
     "name": "stderr",
     "output_type": "stream",
     "text": [
      "\n",
      "Bad key \"text.kerning_factor\" on line 4 in\n",
      "E:\\Anaconda3\\lib\\site-packages\\matplotlib\\mpl-data\\stylelib\\_classic_test_patch.mplstyle.\n",
      "You probably need to get an updated matplotlibrc file from\n",
      "https://github.com/matplotlib/matplotlib/blob/v3.1.3/matplotlibrc.template\n",
      "or from the matplotlib source distribution\n"
     ]
    }
   ],
   "source": [
    "import random\n",
    "import numpy as np\n",
    "import matplotlib.pyplot as plt\n",
    "\n",
    "import statsmodels.api as sm\n",
    "from sklearn.model_selection import KFold  # 交叉验证\n",
    "from sklearn.metrics import mean_squared_error  # 计算均方误差函数\n",
    "\n",
    "%matplotlib inline"
   ]
  },
  {
   "cell_type": "code",
   "execution_count": 2,
   "metadata": {},
   "outputs": [],
   "source": [
    "x = np.arange(0, 1.01, 0.01)\n",
    "f = lambda z: np.sin(2*np.pi*z)\n",
    "\n",
    "y_truth = f(x)\n",
    "\n",
    "np.random.seed(247)\n",
    "y_ob = f(x) + np.random.normal(0, 0.1, len(x))\n",
    "\n",
    "# 打乱数组顺序\n",
    "shuffle_index = np.arange(len(x))\n",
    "random.shuffle(shuffle_index)\n",
    "\n",
    "shuffle_x = x[shuffle_index]\n",
    "shuffle_y_truth = y_truth[shuffle_index]\n",
    "shuffle_y_ob = y_ob[shuffle_index]\n",
    "\n",
    "KF = KFold(n_splits=5)  # 用于交叉验证"
   ]
  },
  {
   "cell_type": "code",
   "execution_count": 3,
   "metadata": {},
   "outputs": [
    {
     "name": "stdout",
     "output_type": "stream",
     "text": [
      "[0.5273172871455264, 0.4879117753481766, 0.37301400281409136, 0.3585590105494632, 0.4650420782450312]\n",
      "在一次幂下，经过5折交叉验证，平均均方误差为:0.4424\n"
     ]
    }
   ],
   "source": [
    "mse_1 = []\n",
    "\n",
    "X_1 = sm.add_constant(shuffle_x)\n",
    "\n",
    "for train_index, test_index in KF.split(shuffle_x):\n",
    "    model = sm.OLS(X_1[train_index, :], shuffle_y_ob[train_index])\n",
    "    result = model.fit()\n",
    "    predict = X_1[test_index, :].dot(result.params.T)\n",
    "    mse_ = mean_squared_error(shuffle_y_truth[test_index], predict)\n",
    "    mse_1.append(mse_)\n",
    "\n",
    "print(mse_1)\n",
    "print(\"在一次幂下，经过5折交叉验证，平均均方误差为:%0.4f\"%(sum(mse_1)/len(mse_1)))"
   ]
  },
  {
   "cell_type": "markdown",
   "metadata": {},
   "source": [
    "# 在二次幂下的结果"
   ]
  },
  {
   "cell_type": "code",
   "execution_count": 6,
   "metadata": {},
   "outputs": [
    {
     "name": "stdout",
     "output_type": "stream",
     "text": [
      "[0.5673744564758915, 0.5526141767847531, 0.4448387759371343, 0.440475388841176, 0.5125800804425575]\n",
      "在二次幂下，经过5折交叉验证，平均均方误差为:0.5036\n"
     ]
    }
   ],
   "source": [
    "mse_2 = []\n",
    "shuffle_x2 = np.column_stack((x,x**2))\n",
    "X_2 = sm.add_constant(shuffle_x2)\n",
    "\n",
    "for train_index, test_index in KF.split(shuffle_x):\n",
    "    model = sm.OLS(X_2[train_index, :], shuffle_y_ob[train_index])\n",
    "    result = model.fit()\n",
    "    predict = X_2[test_index, :].dot(result.params.T)\n",
    "    mse_ = mean_squared_error(shuffle_y_truth[test_index], predict)\n",
    "    mse_2.append(mse_)\n",
    "\n",
    "print(mse_2)\n",
    "print(\"在二次幂下，经过5折交叉验证，平均均方误差为:%0.4f\"%(sum(mse_2)/len(mse_2)))"
   ]
  },
  {
   "cell_type": "markdown",
   "metadata": {},
   "source": [
    "# 在三次幂下的结果"
   ]
  },
  {
   "cell_type": "code",
   "execution_count": 7,
   "metadata": {},
   "outputs": [
    {
     "name": "stdout",
     "output_type": "stream",
     "text": [
      "[0.56740822415653, 0.5527487810596255, 0.44488319449966623, 0.4400401078226074, 0.5153264823748044]\n",
      "在三次幂下，经过5折交叉验证，平均均方误差为:0.5041\n"
     ]
    }
   ],
   "source": [
    "mse_3 = []\n",
    "shuffle_x3 = np.column_stack((x,x**2,x**3))\n",
    "X_3 = sm.add_constant(shuffle_x3)\n",
    "\n",
    "for train_index, test_index in KF.split(shuffle_x):\n",
    "    model = sm.OLS(X_3[train_index, :], shuffle_y_ob[train_index])\n",
    "    result = model.fit()\n",
    "    predict = X_3[test_index, :].dot(result.params.T)\n",
    "    mse_ = mean_squared_error(shuffle_y_truth[test_index], predict)\n",
    "    mse_3.append(mse_)\n",
    "\n",
    "print(mse_3)\n",
    "print(\"在三次幂下，经过5折交叉验证，平均均方误差为:%0.4f\"%(sum(mse_3)/len(mse_3)))"
   ]
  },
  {
   "cell_type": "markdown",
   "metadata": {},
   "source": [
    "# 在四次幂下的结果"
   ]
  },
  {
   "cell_type": "code",
   "execution_count": 9,
   "metadata": {},
   "outputs": [
    {
     "name": "stdout",
     "output_type": "stream",
     "text": [
      "[0.567413026636804, 0.552790055538121, 0.4449568323782523, 0.43963784457231564, 0.5170749411029438]\n",
      "在四次幂下，经过5折交叉验证，平均均方误差为:0.5044\n"
     ]
    }
   ],
   "source": [
    "mse_4 = []\n",
    "shuffle_x4 = np.column_stack((x,x**2,x**3,x**4))\n",
    "X_4 = sm.add_constant(shuffle_x4)\n",
    "\n",
    "for train_index, test_index in KF.split(shuffle_x):\n",
    "    model = sm.OLS(X_4[train_index, :], shuffle_y_ob[train_index])\n",
    "    result = model.fit()\n",
    "    predict = X_4[test_index, :].dot(result.params.T)\n",
    "    mse_ = mean_squared_error(shuffle_y_truth[test_index], predict)\n",
    "    mse_4.append(mse_)\n",
    "\n",
    "print(mse_4)\n",
    "print(\"在四次幂下，经过5折交叉验证，平均均方误差为:%0.4f\"%(sum(mse_4)/len(mse_4)))"
   ]
  },
  {
   "cell_type": "markdown",
   "metadata": {},
   "source": [
    "# 在五次幂下的结果"
   ]
  },
  {
   "cell_type": "code",
   "execution_count": 11,
   "metadata": {},
   "outputs": [
    {
     "name": "stdout",
     "output_type": "stream",
     "text": [
      "[0.5674137515160811, 0.5528027749109468, 0.44501962844362686, 0.43930033780166244, 0.5181630252703082]\n",
      "在五次幂下，经过5折交叉验证，平均均方误差为:0.5045\n"
     ]
    }
   ],
   "source": [
    "mse_5 = []\n",
    "shuffle_x5 = np.column_stack((x,x**2,x**3,x**4,x**5))\n",
    "X_5 = sm.add_constant(shuffle_x5)\n",
    "\n",
    "for train_index, test_index in KF.split(shuffle_x):\n",
    "    model = sm.OLS(X_5[train_index, :], shuffle_y_ob[train_index])\n",
    "    result = model.fit()\n",
    "    predict = X_5[test_index, :].dot(result.params.T)\n",
    "    mse_ = mean_squared_error(shuffle_y_truth[test_index], predict)\n",
    "    mse_5.append(mse_)\n",
    "\n",
    "print(mse_5)\n",
    "print(\"在五次幂下，经过5折交叉验证，平均均方误差为:%0.4f\"%(sum(mse_5)/len(mse_5))) "
   ]
  },
  {
   "cell_type": "markdown",
   "metadata": {},
   "source": [
    "# 在十次幂下的结果"
   ]
  },
  {
   "cell_type": "code",
   "execution_count": 12,
   "metadata": {},
   "outputs": [
    {
     "name": "stdout",
     "output_type": "stream",
     "text": [
      "[0.5674138876783125, 0.5528085249010822, 0.4451422259341853, 0.43852037980008046, 0.5197430813485597]\n",
      "在十次幂下，经过5折交叉验证，平均均方误差为:0.5047\n"
     ]
    }
   ],
   "source": [
    "mse_10 = []\n",
    "shuffle_x10 = np.column_stack((x,x**2,x**3,x**4,x**5,x**6,x**7,x**8,x**9,x**10))\n",
    "X_10 = sm.add_constant(shuffle_x10)\n",
    "\n",
    "for train_index, test_index in KF.split(shuffle_x):\n",
    "    model = sm.OLS(X_10[train_index, :], shuffle_y_ob[train_index])\n",
    "    result = model.fit()\n",
    "    predict = X_10[test_index, :].dot(result.params.T)\n",
    "    mse_ = mean_squared_error(shuffle_y_truth[test_index], predict)\n",
    "    mse_10.append(mse_)\n",
    "\n",
    "print(mse_10)\n",
    "print(\"在十次幂下，经过5折交叉验证，平均均方误差为:%0.4f\"%(sum(mse_10)/len(mse_10))) "
   ]
  },
  {
   "cell_type": "raw",
   "metadata": {},
   "source": [
    "一次幂：0.4424\n",
    "二次幂：0.5036\n",
    "三次幂：0.5041\n",
    "四次幂：0.5044\n",
    "五次幂：0.5045\n",
    "十次幂：0.5047"
   ]
  },
  {
   "cell_type": "raw",
   "metadata": {},
   "source": [
    "利用5次交叉验证的方法计算出应该是一阶多项式更为合适拟合采样的点。"
   ]
  },
  {
   "cell_type": "code",
   "execution_count": null,
   "metadata": {},
   "outputs": [],
   "source": []
  }
 ],
 "metadata": {
  "kernelspec": {
   "display_name": "Python 3",
   "language": "python",
   "name": "python3"
  },
  "language_info": {
   "codemirror_mode": {
    "name": "ipython",
    "version": 3
   },
   "file_extension": ".py",
   "mimetype": "text/x-python",
   "name": "python",
   "nbconvert_exporter": "python",
   "pygments_lexer": "ipython3",
   "version": "3.7.6"
  },
  "latex_envs": {
   "LaTeX_envs_menu_present": true,
   "autoclose": false,
   "autocomplete": true,
   "bibliofile": "biblio.bib",
   "cite_by": "apalike",
   "current_citInitial": 1,
   "eqLabelWithNumbers": true,
   "eqNumInitial": 1,
   "hotkeys": {
    "equation": "Ctrl-E",
    "itemize": "Ctrl-I"
   },
   "labels_anchors": false,
   "latex_user_defs": false,
   "report_style_numbering": false,
   "user_envs_cfg": false
  },
  "nbTranslate": {
   "displayLangs": [
    "*"
   ],
   "hotkey": "alt-t",
   "langInMainMenu": true,
   "sourceLang": "en",
   "targetLang": "fr",
   "useGoogleTranslate": true
  },
  "toc": {
   "base_numbering": 1,
   "nav_menu": {},
   "number_sections": true,
   "sideBar": true,
   "skip_h1_title": false,
   "title_cell": "Table of Contents",
   "title_sidebar": "Contents",
   "toc_cell": false,
   "toc_position": {},
   "toc_section_display": true,
   "toc_window_display": false
  }
 },
 "nbformat": 4,
 "nbformat_minor": 4
}
