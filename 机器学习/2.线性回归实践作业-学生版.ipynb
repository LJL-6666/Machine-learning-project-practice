{
 "cells": [
  {
   "cell_type": "markdown",
   "metadata": {},
   "source": [
    "# 多元线性回归实践作业"
   ]
  },
  {
   "cell_type": "markdown",
   "metadata": {},
   "source": [
    "## 利用梯度下降法求解：当参数取值为多少时下面的代价函数值最小，最小值为多少？"
   ]
  },
  {
   "cell_type": "markdown",
   "metadata": {},
   "source": [
    "假设**cost function（代价函数）**：$$ J(\\theta) = \\theta^3-2\\theta+1$$"
   ]
  },
  {
   "cell_type": "code",
   "execution_count": 1,
   "metadata": {
    "ExecuteTime": {
     "end_time": "2020-10-19T01:36:08.682206Z",
     "start_time": "2020-10-19T01:36:03.795800Z"
    }
   },
   "outputs": [],
   "source": [
    "import numpy as np\n",
    "\n",
    "# 初始化参数为零\n",
    "maxloop=1000  #最大迭代次数\n",
    "epsilon=0.00001  #精确度\n",
    "alpha=0.001    #学习速率\n",
    "theta =5      #参数初始值\n",
    "    \n",
    "count = 0 # 记录迭代次数\n",
    "converged = False # 是否收敛标志\n",
    "#cost =  np.inf # 初始化代价为无穷大\n",
    "costs = [] # 记录每一次迭代的代价值\n",
    "thetas =[] # 记录每一轮theta的更新 \n",
    "\n",
    "costs.append(theta**3-2*theta+1) #记录初始代价函数值\n",
    "thetas.append(theta)           #记录初始参数值\n",
    "\n",
    "while count<= maxloop:\n",
    "        if converged:\n",
    "            break\n",
    "        # 迭代次数变化\n",
    "        count = count + 1\n",
    "        \n",
    "        # 梯度下降，迭代更新参数值\n",
    "        theta= theta-alpha*(3*theta**2-2)\n",
    "          \n",
    "        # 将每次更新的值存在列表中\n",
    "        thetas.append(theta)\n",
    "                \n",
    "        # 更新当前代价函数值，并将每次的结果存在列表中\n",
    "        cost = theta**3-2*theta+1\n",
    "        costs.append(cost)\n",
    "        \n",
    "        # 如果收敛，则不再迭代\n",
    "        if abs(cost)<epsilon:\n",
    "            converged = True "
   ]
  },
  {
   "cell_type": "code",
   "execution_count": 2,
   "metadata": {
    "ExecuteTime": {
     "end_time": "2020-10-19T01:36:32.280396Z",
     "start_time": "2020-10-19T01:36:32.263443Z"
    }
   },
   "outputs": [
    {
     "data": {
      "text/plain": [
       "0.8250960418005244"
      ]
     },
     "execution_count": 2,
     "metadata": {},
     "output_type": "execute_result"
    }
   ],
   "source": [
    "theta #参数最优值"
   ]
  },
  {
   "cell_type": "code",
   "execution_count": 3,
   "metadata": {
    "ExecuteTime": {
     "end_time": "2020-10-19T01:36:35.093503Z",
     "start_time": "2020-10-19T01:36:35.085551Z"
    }
   },
   "outputs": [
    {
     "data": {
      "text/plain": [
       "-0.08848033041924919"
      ]
     },
     "execution_count": 3,
     "metadata": {},
     "output_type": "execute_result"
    }
   ],
   "source": [
    "cost #代价函数最小值"
   ]
  },
  {
   "cell_type": "markdown",
   "metadata": {},
   "source": [
    "梯度下降过程中，代价函数值的变化图"
   ]
  },
  {
   "cell_type": "code",
   "execution_count": 8,
   "metadata": {
    "ExecuteTime": {
     "end_time": "2020-10-19T01:50:18.230161Z",
     "start_time": "2020-10-19T01:50:17.797074Z"
    }
   },
   "outputs": [
    {
     "data": {
      "image/png": "[encoded data removed]",
      "text/plain": [
       "<Figure size 432x288 with 1 Axes>"
      ]
     },
     "metadata": {
      "needs_background": "light"
     },
     "output_type": "display_data"
    }
   ],
   "source": [
    "import matplotlib.pyplot as plt\n",
    "%matplotlib inline \n",
    "plt.rcParams['font.sans-serif'] = ['Arial Unicode MS']\n",
    "\n",
    "plt.plot(thetas, costs) \n",
    "plt.xlabel(r'$\\theta$')\n",
    "plt.ylabel(r'代价函数J')\n",
    "plt.show()"
   ]
  },
  {
   "cell_type": "markdown",
   "metadata": {},
   "source": [
    "梯度下降过程中，𝜃随迭代次数的变化图"
   ]
  },
  {
   "cell_type": "code",
   "execution_count": 5,
   "metadata": {
    "ExecuteTime": {
     "end_time": "2020-10-19T01:37:39.571160Z",
     "start_time": "2020-10-19T01:37:39.306277Z"
    }
   },
   "outputs": [
    {
     "data": {
      "image/png": "[encoded data removed]",
      "text/plain": [
       "<Figure size 432x288 with 1 Axes>"
      ]
     },
     "metadata": {
      "needs_background": "light"
     },
     "output_type": "display_data"
    }
   ],
   "source": [
    "plt.plot(range(len(thetas)),thetas) \n",
    "plt.xlabel(r'count')\n",
    "plt.ylabel(r'$\\theta$')\n",
    "plt.show()"
   ]
  },
  {
   "cell_type": "markdown",
   "metadata": {},
   "source": [
    "梯度下降过程中,代价函数J随迭代次数的变化图"
   ]
  },
  {
   "cell_type": "code",
   "execution_count": 6,
   "metadata": {
    "ExecuteTime": {
     "end_time": "2020-10-19T01:37:43.683809Z",
     "start_time": "2020-10-19T01:37:43.439103Z"
    }
   },
   "outputs": [
    {
     "data": {
      "image/png": "[encoded data removed]",
      "text/plain": [
       "<Figure size 432x288 with 1 Axes>"
      ]
     },
     "metadata": {
      "needs_background": "light"
     },
     "output_type": "display_data"
    }
   ],
   "source": [
    "plt.plot(range(len(costs)),costs,color=\"red\") \n",
    "plt.xlabel(r'count')\n",
    "plt.ylabel(r'代价函数J')\n",
    "plt.show()"
   ]
  },
  {
   "cell_type": "markdown",
   "metadata": {},
   "source": [
    "## 完成电影票房数据的线性回归分析，并比较不同线性回归模型求解结果，对模型进行评价"
   ]
  },
  {
   "cell_type": "markdown",
   "metadata": {},
   "source": [
    "** 具体要求如下**"
   ]
  },
  {
   "cell_type": "markdown",
   "metadata": {},
   "source": [
    "（1）完整的数据分析流程"
   ]
  },
  {
   "cell_type": "markdown",
   "metadata": {},
   "source": [
    "（2）模型需包含随机梯度下降、最小二乘法、岭回归、Lasso回归四种方法"
   ]
  },
  {
   "cell_type": "markdown",
   "metadata": {},
   "source": [
    "（3）代码在此文档中完成"
   ]
  },
  {
   "cell_type": "markdown",
   "metadata": {},
   "source": [
    "（4）另外三人合作完成一份基于此数据的分析报告（背景、数据介绍、描述分析、模型思想、模型构建及评价、结论及建议，格式：宋体、小四、1.5倍行距）"
   ]
  },
  {
   "cell_type": "markdown",
   "metadata": {},
   "source": [
    "### 导入数据"
   ]
  },
  {
   "cell_type": "code",
   "execution_count": 10,
   "metadata": {
    "ExecuteTime": {
     "end_time": "2020-10-19T02:06:23.895836Z",
     "start_time": "2020-10-19T02:06:21.868897Z"
    }
   },
   "outputs": [
    {
     "data": {
      "text/html": [
       "<div>\n",
       "<style scoped>\n",
       "    .dataframe tbody tr th:only-of-type {\n",
       "        vertical-align: middle;\n",
       "    }\n",
       "\n",
       "    .dataframe tbody tr th {\n",
       "        vertical-align: top;\n",
       "    }\n",
       "\n",
       "    .dataframe thead th {\n",
       "        text-align: right;\n",
       "    }\n",
       "</style>\n",
       "<table border=\"1\" class=\"dataframe\">\n",
       "  <thead>\n",
       "    <tr style=\"text-align: right;\">\n",
       "      <th></th>\n",
       "      <th>片名</th>\n",
       "      <th>放映场数</th>\n",
       "      <th>人数</th>\n",
       "      <th>boxoffice</th>\n",
       "      <th>genre</th>\n",
       "      <th>year</th>\n",
       "      <th>month</th>\n",
       "      <th>week</th>\n",
       "      <th>distribute</th>\n",
       "      <th>runtime</th>\n",
       "      <th>...</th>\n",
       "      <th>sequel</th>\n",
       "      <th>导演</th>\n",
       "      <th>导演年代</th>\n",
       "      <th>第几部作品</th>\n",
       "      <th>导演得奖情况</th>\n",
       "      <th>导演是否转型</th>\n",
       "      <th>主演1</th>\n",
       "      <th>baidu index1</th>\n",
       "      <th>主演2</th>\n",
       "      <th>baidu index2</th>\n",
       "    </tr>\n",
       "  </thead>\n",
       "  <tbody>\n",
       "    <tr>\n",
       "      <th>0</th>\n",
       "      <td>新天生一对</td>\n",
       "      <td>72.57</td>\n",
       "      <td>165.52</td>\n",
       "      <td>5274.60</td>\n",
       "      <td>家庭伦理</td>\n",
       "      <td>2012</td>\n",
       "      <td>1</td>\n",
       "      <td>5</td>\n",
       "      <td>C</td>\n",
       "      <td>100</td>\n",
       "      <td>...</td>\n",
       "      <td>0</td>\n",
       "      <td>朱延平</td>\n",
       "      <td>50.0</td>\n",
       "      <td>62.0</td>\n",
       "      <td>1.0</td>\n",
       "      <td>0.0</td>\n",
       "      <td>周渝民</td>\n",
       "      <td>3719</td>\n",
       "      <td>陈嘉桦</td>\n",
       "      <td>903.0</td>\n",
       "    </tr>\n",
       "    <tr>\n",
       "      <th>1</th>\n",
       "      <td>大笑江湖</td>\n",
       "      <td>154.37</td>\n",
       "      <td>486.62</td>\n",
       "      <td>15392.82</td>\n",
       "      <td>喜剧</td>\n",
       "      <td>2010</td>\n",
       "      <td>12</td>\n",
       "      <td>49</td>\n",
       "      <td>S</td>\n",
       "      <td>119</td>\n",
       "      <td>...</td>\n",
       "      <td>0</td>\n",
       "      <td>朱延平</td>\n",
       "      <td>50.0</td>\n",
       "      <td>60.0</td>\n",
       "      <td>1.0</td>\n",
       "      <td>0.0</td>\n",
       "      <td>小沈阳</td>\n",
       "      <td>10215</td>\n",
       "      <td>赵本山</td>\n",
       "      <td>16746.0</td>\n",
       "    </tr>\n",
       "    <tr>\n",
       "      <th>2</th>\n",
       "      <td>我爱灰太狼</td>\n",
       "      <td>112.53</td>\n",
       "      <td>227.24</td>\n",
       "      <td>7130.16</td>\n",
       "      <td>动画</td>\n",
       "      <td>2012</td>\n",
       "      <td>8</td>\n",
       "      <td>33</td>\n",
       "      <td>C</td>\n",
       "      <td>87</td>\n",
       "      <td>...</td>\n",
       "      <td>0</td>\n",
       "      <td>朱枫</td>\n",
       "      <td>60.0</td>\n",
       "      <td>5.0</td>\n",
       "      <td>0.0</td>\n",
       "      <td>0.0</td>\n",
       "      <td>赵娜</td>\n",
       "      <td>335</td>\n",
       "      <td>张琳</td>\n",
       "      <td>891.0</td>\n",
       "    </tr>\n",
       "    <tr>\n",
       "      <th>3</th>\n",
       "      <td>西游降魔篇</td>\n",
       "      <td>730.23</td>\n",
       "      <td>3107.04</td>\n",
       "      <td>124643.87</td>\n",
       "      <td>魔幻</td>\n",
       "      <td>2013</td>\n",
       "      <td>2</td>\n",
       "      <td>6</td>\n",
       "      <td>S</td>\n",
       "      <td>110</td>\n",
       "      <td>...</td>\n",
       "      <td>0</td>\n",
       "      <td>周星驰</td>\n",
       "      <td>60.0</td>\n",
       "      <td>9.0</td>\n",
       "      <td>1.0</td>\n",
       "      <td>1.0</td>\n",
       "      <td>文章</td>\n",
       "      <td>30326</td>\n",
       "      <td>舒淇</td>\n",
       "      <td>10322.0</td>\n",
       "    </tr>\n",
       "    <tr>\n",
       "      <th>4</th>\n",
       "      <td>大追捕</td>\n",
       "      <td>99.48</td>\n",
       "      <td>153.19</td>\n",
       "      <td>4814.32</td>\n",
       "      <td>警匪</td>\n",
       "      <td>2012</td>\n",
       "      <td>3</td>\n",
       "      <td>12</td>\n",
       "      <td>C</td>\n",
       "      <td>107</td>\n",
       "      <td>...</td>\n",
       "      <td>0</td>\n",
       "      <td>周显扬</td>\n",
       "      <td>70.0</td>\n",
       "      <td>2.0</td>\n",
       "      <td>0.0</td>\n",
       "      <td>0.0</td>\n",
       "      <td>张家辉</td>\n",
       "      <td>4147</td>\n",
       "      <td>任达华</td>\n",
       "      <td>3955.0</td>\n",
       "    </tr>\n",
       "  </tbody>\n",
       "</table>\n",
       "<p>5 rows × 23 columns</p>\n",
       "</div>"
      ],
      "text/plain": [
       "      片名    放映场数       人数  boxoffice genre  year  month  week distribute  \\\n",
       "0  新天生一对   72.57   165.52    5274.60  家庭伦理  2012      1     5          C   \n",
       "1   大笑江湖  154.37   486.62   15392.82    喜剧  2010     12    49          S   \n",
       "2  我爱灰太狼  112.53   227.24    7130.16    动画  2012      8    33          C   \n",
       "3  西游降魔篇  730.23  3107.04  124643.87    魔幻  2013      2     6          S   \n",
       "4    大追捕   99.48   153.19    4814.32    警匪  2012      3    12          C   \n",
       "\n",
       "   runtime  ... sequel   导演  导演年代  第几部作品 导演得奖情况  导演是否转型  主演1  baidu index1  \\\n",
       "0      100  ...      0  朱延平  50.0   62.0    1.0     0.0  周渝民          3719   \n",
       "1      119  ...      0  朱延平  50.0   60.0    1.0     0.0  小沈阳         10215   \n",
       "2       87  ...      0   朱枫  60.0    5.0    0.0     0.0   赵娜           335   \n",
       "3      110  ...      0  周星驰  60.0    9.0    1.0     1.0   文章         30326   \n",
       "4      107  ...      0  周显扬  70.0    2.0    0.0     0.0  张家辉          4147   \n",
       "\n",
       "   主演2 baidu index2  \n",
       "0  陈嘉桦        903.0  \n",
       "1  赵本山      16746.0  \n",
       "2   张琳        891.0  \n",
       "3   舒淇      10322.0  \n",
       "4  任达华       3955.0  \n",
       "\n",
       "[5 rows x 23 columns]"
      ]
     },
     "execution_count": 10,
     "metadata": {},
     "output_type": "execute_result"
    }
   ],
   "source": [
    "import os\n",
    "os.chdir(\"G:/CDO/机器学习/2.线性回归/\") #修改当前工作目录\n",
    "\n",
    "import pandas as pd\n",
    "data=pd.read_csv(\"film.csv\",encoding='gbk') #导入房价数据\n",
    "data.head() #查看数据前5行"
   ]
  },
  {
   "cell_type": "markdown",
   "metadata": {},
   "source": [
    "### 查看数据概况，是否有缺失值等"
   ]
  },
  {
   "cell_type": "code",
   "execution_count": 11,
   "metadata": {
    "ExecuteTime": {
     "end_time": "2020-10-19T02:06:35.832452Z",
     "start_time": "2020-10-19T02:06:35.812501Z"
    }
   },
   "outputs": [
    {
     "name": "stdout",
     "output_type": "stream",
     "text": [
      "<class 'pandas.core.frame.DataFrame'>\n",
      "RangeIndex: 275 entries, 0 to 274\n",
      "Data columns (total 23 columns):\n",
      " #   Column        Non-Null Count  Dtype  \n",
      "---  ------        --------------  -----  \n",
      " 0   片名            275 non-null    object \n",
      " 1   放映场数          275 non-null    float64\n",
      " 2   人数            275 non-null    float64\n",
      " 3   boxoffice     275 non-null    float64\n",
      " 4   genre         275 non-null    object \n",
      " 5   year          275 non-null    int64  \n",
      " 6   month         275 non-null    int64  \n",
      " 7   week          275 non-null    int64  \n",
      " 8   distribute    275 non-null    object \n",
      " 9   runtime       275 non-null    int64  \n",
      " 10  story         275 non-null    object \n",
      " 11  reality       275 non-null    int64  \n",
      " 12  remake        275 non-null    int64  \n",
      " 13  sequel        275 non-null    int64  \n",
      " 14  导演            275 non-null    object \n",
      " 15  导演年代          274 non-null    float64\n",
      " 16  第几部作品         274 non-null    float64\n",
      " 17  导演得奖情况        274 non-null    float64\n",
      " 18  导演是否转型        274 non-null    float64\n",
      " 19  主演1           275 non-null    object \n",
      " 20  baidu index1  275 non-null    int64  \n",
      " 21  主演2           267 non-null    object \n",
      " 22  baidu index2  267 non-null    float64\n",
      "dtypes: float64(8), int64(8), object(7)\n",
      "memory usage: 49.5+ KB\n"
     ]
    }
   ],
   "source": [
    "data.info() "
   ]
  },
  {
   "cell_type": "code",
   "execution_count": 12,
   "metadata": {
    "ExecuteTime": {
     "end_time": "2020-10-19T02:06:38.528579Z",
     "start_time": "2020-10-19T02:06:38.455735Z"
    }
   },
   "outputs": [
    {
     "data": {
      "text/html": [
       "<div>\n",
       "<style scoped>\n",
       "    .dataframe tbody tr th:only-of-type {\n",
       "        vertical-align: middle;\n",
       "    }\n",
       "\n",
       "    .dataframe tbody tr th {\n",
       "        vertical-align: top;\n",
       "    }\n",
       "\n",
       "    .dataframe thead th {\n",
       "        text-align: right;\n",
       "    }\n",
       "</style>\n",
       "<table border=\"1\" class=\"dataframe\">\n",
       "  <thead>\n",
       "    <tr style=\"text-align: right;\">\n",
       "      <th></th>\n",
       "      <th>放映场数</th>\n",
       "      <th>人数</th>\n",
       "      <th>boxoffice</th>\n",
       "      <th>year</th>\n",
       "      <th>month</th>\n",
       "      <th>week</th>\n",
       "      <th>runtime</th>\n",
       "      <th>reality</th>\n",
       "      <th>remake</th>\n",
       "      <th>sequel</th>\n",
       "      <th>导演年代</th>\n",
       "      <th>第几部作品</th>\n",
       "      <th>导演得奖情况</th>\n",
       "      <th>导演是否转型</th>\n",
       "      <th>baidu index1</th>\n",
       "      <th>baidu index2</th>\n",
       "    </tr>\n",
       "  </thead>\n",
       "  <tbody>\n",
       "    <tr>\n",
       "      <th>count</th>\n",
       "      <td>275.000000</td>\n",
       "      <td>275.000000</td>\n",
       "      <td>275.000000</td>\n",
       "      <td>275.000000</td>\n",
       "      <td>275.000000</td>\n",
       "      <td>275.000000</td>\n",
       "      <td>275.000000</td>\n",
       "      <td>275.000000</td>\n",
       "      <td>275.000000</td>\n",
       "      <td>275.000000</td>\n",
       "      <td>274.000000</td>\n",
       "      <td>274.000000</td>\n",
       "      <td>274.000000</td>\n",
       "      <td>274.000000</td>\n",
       "      <td>275.000000</td>\n",
       "      <td>267.000000</td>\n",
       "    </tr>\n",
       "    <tr>\n",
       "      <th>mean</th>\n",
       "      <td>122.788873</td>\n",
       "      <td>329.155345</td>\n",
       "      <td>11162.148545</td>\n",
       "      <td>2011.618182</td>\n",
       "      <td>6.541818</td>\n",
       "      <td>27.298182</td>\n",
       "      <td>104.443636</td>\n",
       "      <td>0.090909</td>\n",
       "      <td>0.101818</td>\n",
       "      <td>0.167273</td>\n",
       "      <td>61.021898</td>\n",
       "      <td>13.255474</td>\n",
       "      <td>0.569343</td>\n",
       "      <td>0.135036</td>\n",
       "      <td>9304.883636</td>\n",
       "      <td>7656.973783</td>\n",
       "    </tr>\n",
       "    <tr>\n",
       "      <th>std</th>\n",
       "      <td>122.212975</td>\n",
       "      <td>472.989359</td>\n",
       "      <td>17112.347930</td>\n",
       "      <td>1.112158</td>\n",
       "      <td>3.340893</td>\n",
       "      <td>14.595713</td>\n",
       "      <td>13.946964</td>\n",
       "      <td>0.288004</td>\n",
       "      <td>0.302960</td>\n",
       "      <td>0.373900</td>\n",
       "      <td>9.161527</td>\n",
       "      <td>18.296311</td>\n",
       "      <td>0.496074</td>\n",
       "      <td>0.342388</td>\n",
       "      <td>12718.507023</td>\n",
       "      <td>11922.172713</td>\n",
       "    </tr>\n",
       "    <tr>\n",
       "      <th>min</th>\n",
       "      <td>4.270000</td>\n",
       "      <td>28.540000</td>\n",
       "      <td>1010.160000</td>\n",
       "      <td>2010.000000</td>\n",
       "      <td>1.000000</td>\n",
       "      <td>1.000000</td>\n",
       "      <td>75.000000</td>\n",
       "      <td>0.000000</td>\n",
       "      <td>0.000000</td>\n",
       "      <td>0.000000</td>\n",
       "      <td>30.000000</td>\n",
       "      <td>1.000000</td>\n",
       "      <td>0.000000</td>\n",
       "      <td>0.000000</td>\n",
       "      <td>0.000000</td>\n",
       "      <td>0.000000</td>\n",
       "    </tr>\n",
       "    <tr>\n",
       "      <th>25%</th>\n",
       "      <td>45.420000</td>\n",
       "      <td>72.355000</td>\n",
       "      <td>2193.975000</td>\n",
       "      <td>2011.000000</td>\n",
       "      <td>4.000000</td>\n",
       "      <td>14.000000</td>\n",
       "      <td>94.500000</td>\n",
       "      <td>0.000000</td>\n",
       "      <td>0.000000</td>\n",
       "      <td>0.000000</td>\n",
       "      <td>50.000000</td>\n",
       "      <td>3.000000</td>\n",
       "      <td>0.000000</td>\n",
       "      <td>0.000000</td>\n",
       "      <td>2025.000000</td>\n",
       "      <td>1595.500000</td>\n",
       "    </tr>\n",
       "    <tr>\n",
       "      <th>50%</th>\n",
       "      <td>75.380000</td>\n",
       "      <td>156.030000</td>\n",
       "      <td>4817.180000</td>\n",
       "      <td>2012.000000</td>\n",
       "      <td>7.000000</td>\n",
       "      <td>28.000000</td>\n",
       "      <td>102.000000</td>\n",
       "      <td>0.000000</td>\n",
       "      <td>0.000000</td>\n",
       "      <td>0.000000</td>\n",
       "      <td>60.000000</td>\n",
       "      <td>7.000000</td>\n",
       "      <td>1.000000</td>\n",
       "      <td>0.000000</td>\n",
       "      <td>5534.000000</td>\n",
       "      <td>3736.000000</td>\n",
       "    </tr>\n",
       "    <tr>\n",
       "      <th>75%</th>\n",
       "      <td>155.930000</td>\n",
       "      <td>418.225000</td>\n",
       "      <td>13871.445000</td>\n",
       "      <td>2013.000000</td>\n",
       "      <td>9.000000</td>\n",
       "      <td>39.000000</td>\n",
       "      <td>112.500000</td>\n",
       "      <td>0.000000</td>\n",
       "      <td>0.000000</td>\n",
       "      <td>0.000000</td>\n",
       "      <td>70.000000</td>\n",
       "      <td>16.000000</td>\n",
       "      <td>1.000000</td>\n",
       "      <td>0.000000</td>\n",
       "      <td>9630.000000</td>\n",
       "      <td>8430.500000</td>\n",
       "    </tr>\n",
       "    <tr>\n",
       "      <th>max</th>\n",
       "      <td>833.710000</td>\n",
       "      <td>3920.550000</td>\n",
       "      <td>127168.130000</td>\n",
       "      <td>2013.000000</td>\n",
       "      <td>12.000000</td>\n",
       "      <td>53.000000</td>\n",
       "      <td>156.000000</td>\n",
       "      <td>1.000000</td>\n",
       "      <td>1.000000</td>\n",
       "      <td>1.000000</td>\n",
       "      <td>80.000000</td>\n",
       "      <td>110.000000</td>\n",
       "      <td>1.000000</td>\n",
       "      <td>1.000000</td>\n",
       "      <td>84936.000000</td>\n",
       "      <td>84936.000000</td>\n",
       "    </tr>\n",
       "  </tbody>\n",
       "</table>\n",
       "</div>"
      ],
      "text/plain": [
       "             放映场数           人数      boxoffice         year       month  \\\n",
       "count  275.000000   275.000000     275.000000   275.000000  275.000000   \n",
       "mean   122.788873   329.155345   11162.148545  2011.618182    6.541818   \n",
       "std    122.212975   472.989359   17112.347930     1.112158    3.340893   \n",
       "min      4.270000    28.540000    1010.160000  2010.000000    1.000000   \n",
       "25%     45.420000    72.355000    2193.975000  2011.000000    4.000000   \n",
       "50%     75.380000   156.030000    4817.180000  2012.000000    7.000000   \n",
       "75%    155.930000   418.225000   13871.445000  2013.000000    9.000000   \n",
       "max    833.710000  3920.550000  127168.130000  2013.000000   12.000000   \n",
       "\n",
       "             week     runtime     reality      remake      sequel        导演年代  \\\n",
       "count  275.000000  275.000000  275.000000  275.000000  275.000000  274.000000   \n",
       "mean    27.298182  104.443636    0.090909    0.101818    0.167273   61.021898   \n",
       "std     14.595713   13.946964    0.288004    0.302960    0.373900    9.161527   \n",
       "min      1.000000   75.000000    0.000000    0.000000    0.000000   30.000000   \n",
       "25%     14.000000   94.500000    0.000000    0.000000    0.000000   50.000000   \n",
       "50%     28.000000  102.000000    0.000000    0.000000    0.000000   60.000000   \n",
       "75%     39.000000  112.500000    0.000000    0.000000    0.000000   70.000000   \n",
       "max     53.000000  156.000000    1.000000    1.000000    1.000000   80.000000   \n",
       "\n",
       "            第几部作品      导演得奖情况      导演是否转型  baidu index1  baidu index2  \n",
       "count  274.000000  274.000000  274.000000    275.000000    267.000000  \n",
       "mean    13.255474    0.569343    0.135036   9304.883636   7656.973783  \n",
       "std     18.296311    0.496074    0.342388  12718.507023  11922.172713  \n",
       "min      1.000000    0.000000    0.000000      0.000000      0.000000  \n",
       "25%      3.000000    0.000000    0.000000   2025.000000   1595.500000  \n",
       "50%      7.000000    1.000000    0.000000   5534.000000   3736.000000  \n",
       "75%     16.000000    1.000000    0.000000   9630.000000   8430.500000  \n",
       "max    110.000000    1.000000    1.000000  84936.000000  84936.000000  "
      ]
     },
     "execution_count": 12,
     "metadata": {},
     "output_type": "execute_result"
    }
   ],
   "source": [
    "data.describe()  "
   ]
  },
  {
   "cell_type": "code",
   "execution_count": 34,
   "metadata": {
    "ExecuteTime": {
     "end_time": "2020-10-19T08:17:53.174768Z",
     "start_time": "2020-10-19T08:17:53.053046Z"
    }
   },
   "outputs": [
    {
     "data": {
      "text/html": [
       "<div>\n",
       "<style scoped>\n",
       "    .dataframe tbody tr th:only-of-type {\n",
       "        vertical-align: middle;\n",
       "    }\n",
       "\n",
       "    .dataframe tbody tr th {\n",
       "        vertical-align: top;\n",
       "    }\n",
       "\n",
       "    .dataframe thead th {\n",
       "        text-align: right;\n",
       "    }\n",
       "</style>\n",
       "<table border=\"1\" class=\"dataframe\">\n",
       "  <thead>\n",
       "    <tr style=\"text-align: right;\">\n",
       "      <th></th>\n",
       "      <th>boxoffice</th>\n",
       "      <th>genre</th>\n",
       "      <th>year</th>\n",
       "      <th>month</th>\n",
       "      <th>week</th>\n",
       "      <th>distribute</th>\n",
       "      <th>runtime</th>\n",
       "      <th>story</th>\n",
       "      <th>reality</th>\n",
       "      <th>remake</th>\n",
       "      <th>sequel</th>\n",
       "      <th>导演年代</th>\n",
       "      <th>第几部作品</th>\n",
       "      <th>导演得奖情况</th>\n",
       "      <th>导演是否转型</th>\n",
       "      <th>baidu index1</th>\n",
       "      <th>baidu index2</th>\n",
       "    </tr>\n",
       "  </thead>\n",
       "  <tbody>\n",
       "    <tr>\n",
       "      <th>0</th>\n",
       "      <td>5274.60</td>\n",
       "      <td>家庭伦理</td>\n",
       "      <td>2012</td>\n",
       "      <td>1</td>\n",
       "      <td>5</td>\n",
       "      <td>C</td>\n",
       "      <td>100</td>\n",
       "      <td>S</td>\n",
       "      <td>0</td>\n",
       "      <td>1</td>\n",
       "      <td>0</td>\n",
       "      <td>50.0</td>\n",
       "      <td>62.0</td>\n",
       "      <td>1.0</td>\n",
       "      <td>0.0</td>\n",
       "      <td>3719</td>\n",
       "      <td>903.0</td>\n",
       "    </tr>\n",
       "    <tr>\n",
       "      <th>1</th>\n",
       "      <td>15392.82</td>\n",
       "      <td>喜剧</td>\n",
       "      <td>2010</td>\n",
       "      <td>12</td>\n",
       "      <td>49</td>\n",
       "      <td>S</td>\n",
       "      <td>119</td>\n",
       "      <td>S</td>\n",
       "      <td>0</td>\n",
       "      <td>0</td>\n",
       "      <td>0</td>\n",
       "      <td>50.0</td>\n",
       "      <td>60.0</td>\n",
       "      <td>1.0</td>\n",
       "      <td>0.0</td>\n",
       "      <td>10215</td>\n",
       "      <td>16746.0</td>\n",
       "    </tr>\n",
       "    <tr>\n",
       "      <th>2</th>\n",
       "      <td>7130.16</td>\n",
       "      <td>动画</td>\n",
       "      <td>2012</td>\n",
       "      <td>8</td>\n",
       "      <td>33</td>\n",
       "      <td>C</td>\n",
       "      <td>87</td>\n",
       "      <td>S</td>\n",
       "      <td>0</td>\n",
       "      <td>0</td>\n",
       "      <td>0</td>\n",
       "      <td>60.0</td>\n",
       "      <td>5.0</td>\n",
       "      <td>0.0</td>\n",
       "      <td>0.0</td>\n",
       "      <td>335</td>\n",
       "      <td>891.0</td>\n",
       "    </tr>\n",
       "    <tr>\n",
       "      <th>3</th>\n",
       "      <td>124643.87</td>\n",
       "      <td>魔幻</td>\n",
       "      <td>2013</td>\n",
       "      <td>2</td>\n",
       "      <td>6</td>\n",
       "      <td>S</td>\n",
       "      <td>110</td>\n",
       "      <td>N</td>\n",
       "      <td>0</td>\n",
       "      <td>0</td>\n",
       "      <td>0</td>\n",
       "      <td>60.0</td>\n",
       "      <td>9.0</td>\n",
       "      <td>1.0</td>\n",
       "      <td>1.0</td>\n",
       "      <td>30326</td>\n",
       "      <td>10322.0</td>\n",
       "    </tr>\n",
       "    <tr>\n",
       "      <th>4</th>\n",
       "      <td>4814.32</td>\n",
       "      <td>警匪</td>\n",
       "      <td>2012</td>\n",
       "      <td>3</td>\n",
       "      <td>12</td>\n",
       "      <td>C</td>\n",
       "      <td>107</td>\n",
       "      <td>S</td>\n",
       "      <td>0</td>\n",
       "      <td>0</td>\n",
       "      <td>0</td>\n",
       "      <td>70.0</td>\n",
       "      <td>2.0</td>\n",
       "      <td>0.0</td>\n",
       "      <td>0.0</td>\n",
       "      <td>4147</td>\n",
       "      <td>3955.0</td>\n",
       "    </tr>\n",
       "  </tbody>\n",
       "</table>\n",
       "</div>"
      ],
      "text/plain": [
       "   boxoffice genre  year  month  week distribute  runtime story  reality  \\\n",
       "0    5274.60  家庭伦理  2012      1     5          C      100     S        0   \n",
       "1   15392.82    喜剧  2010     12    49          S      119     S        0   \n",
       "2    7130.16    动画  2012      8    33          C       87     S        0   \n",
       "3  124643.87    魔幻  2013      2     6          S      110     N        0   \n",
       "4    4814.32    警匪  2012      3    12          C      107     S        0   \n",
       "\n",
       "   remake  sequel  导演年代  第几部作品  导演得奖情况  导演是否转型  baidu index1  baidu index2  \n",
       "0       1       0  50.0   62.0     1.0     0.0          3719         903.0  \n",
       "1       0       0  50.0   60.0     1.0     0.0         10215       16746.0  \n",
       "2       0       0  60.0    5.0     0.0     0.0           335         891.0  \n",
       "3       0       0  60.0    9.0     1.0     1.0         30326       10322.0  \n",
       "4       0       0  70.0    2.0     0.0     0.0          4147        3955.0  "
      ]
     },
     "execution_count": 34,
     "metadata": {},
     "output_type": "execute_result"
    }
   ],
   "source": [
    "data = data.drop(columns=['片名','人数','放映场数','导演','主演1','主演2'])\n",
    "data.head()"
   ]
  },
  {
   "cell_type": "code",
   "execution_count": 36,
   "metadata": {
    "ExecuteTime": {
     "end_time": "2020-10-19T08:27:55.023802Z",
     "start_time": "2020-10-19T08:27:55.014825Z"
    }
   },
   "outputs": [
    {
     "data": {
      "text/plain": [
       "(266, 17)"
      ]
     },
     "execution_count": 36,
     "metadata": {},
     "output_type": "execute_result"
    }
   ],
   "source": [
    "data.dropna(axis=0, how='any', inplace=True)\n",
    "data.shape"
   ]
  },
  {
   "cell_type": "markdown",
   "metadata": {},
   "source": [
    "### 描述分析"
   ]
  },
  {
   "cell_type": "code",
   "execution_count": 37,
   "metadata": {
    "ExecuteTime": {
     "end_time": "2020-10-19T08:28:13.036851Z",
     "start_time": "2020-10-19T08:28:13.029870Z"
    }
   },
   "outputs": [],
   "source": [
    "import matplotlib.pyplot as plt\n",
    "import seaborn as sns\n",
    "import warnings\n",
    "\n",
    "#jupyter notebook中为了在代码行直接显示图形\n",
    "%matplotlib inline \n",
    "\n",
    "warnings.filterwarnings('ignore')\n",
    "#plt.rcParams['font.sans-serif']=['SimHei']\n",
    "plt.rcParams['font.sans-serif'] = ['Arial Unicode MS']"
   ]
  },
  {
   "cell_type": "markdown",
   "metadata": {},
   "source": [
    "#### 单变量分析"
   ]
  },
  {
   "cell_type": "code",
   "execution_count": 38,
   "metadata": {
    "ExecuteTime": {
     "end_time": "2020-10-19T08:28:17.751089Z",
     "start_time": "2020-10-19T08:28:17.747100Z"
    }
   },
   "outputs": [],
   "source": [
    "plt.style.use('ggplot') #设置图形显示风格"
   ]
  },
  {
   "cell_type": "code",
   "execution_count": 39,
   "metadata": {
    "ExecuteTime": {
     "end_time": "2020-10-19T08:28:21.887720Z",
     "start_time": "2020-10-19T08:28:21.322074Z"
    }
   },
   "outputs": [
    {
     "data": {
      "image/png": "[encoded data removed]",
      "text/plain": [
       "<Figure size 432x360 with 1 Axes>"
      ]
     },
     "metadata": {},
     "output_type": "display_data"
    }
   ],
   "source": [
    "figure = plt.figure(1, figsize=(6, 5))\n",
    "plt.hist(data.boxoffice,bins=20,color='steelblue')\n",
    "plt.title('票房分布图')  # 设置标题\n",
    "plt.ylabel('频数')  # 设置纵坐标\n",
    "plt.xlabel('boxoffice')  # 设置横坐标\n",
    "plt.show()"
   ]
  },
  {
   "cell_type": "markdown",
   "metadata": {},
   "source": [
    "改善右偏情况，避免异方差，用对数处理画图"
   ]
  },
  {
   "cell_type": "code",
   "execution_count": 40,
   "metadata": {
    "ExecuteTime": {
     "end_time": "2020-10-19T08:28:24.673054Z",
     "start_time": "2020-10-19T08:28:24.354097Z"
    }
   },
   "outputs": [
    {
     "data": {
      "image/png": "[encoded data removed]",
      "text/plain": [
       "<Figure size 432x360 with 1 Axes>"
      ]
     },
     "metadata": {},
     "output_type": "display_data"
    }
   ],
   "source": [
    "figure = plt.figure(1, figsize=(6, 5))\n",
    "sns.distplot(np.log(data['boxoffice']),bins=20,color='blue',kde=True)\n",
    "plt.title('电影票房分布图')  # 设置标题\n",
    "plt.ylabel('频数')  # 设置纵坐标\n",
    "plt.xlabel('boxoffice')  # 设置横坐标\n",
    "plt.show()"
   ]
  },
  {
   "cell_type": "code",
   "execution_count": 41,
   "metadata": {
    "ExecuteTime": {
     "end_time": "2020-10-19T08:28:28.562387Z",
     "start_time": "2020-10-19T08:28:28.181316Z"
    }
   },
   "outputs": [
    {
     "data": {
      "image/png": "[encoded data removed]",
      "text/plain": [
       "<Figure size 1440x360 with 3 Axes>"
      ]
     },
     "metadata": {},
     "output_type": "display_data"
    }
   ],
   "source": [
    "##分类特征的数量统计柱形图\n",
    "fig = plt.figure(3, figsize=(20, 5))\n",
    "ax1 = plt.subplot(131) \n",
    "ax1.bar(data['distribute'].value_counts().index,data['distribute'].value_counts().values,color = ['steelblue','orange','red','yellow'])\n",
    "\n",
    "ax2 = plt.subplot(132) \n",
    "ax2.bar(data['genre'].value_counts().index,data['genre'].value_counts().values,color = ['steelblue','orange','red','yellow'])\n",
    "\n",
    "ax3 = plt.subplot(133) \n",
    "ax3.bar(data['story'].value_counts().index,data['story'].value_counts().values,color = ['red','yellow'])\n",
    "plt.show()"
   ]
  },
  {
   "cell_type": "markdown",
   "metadata": {
    "ExecuteTime": {
     "end_time": "2020-10-13T12:55:25.610942Z",
     "start_time": "2020-10-13T12:55:25.293787Z"
    }
   },
   "source": [
    "#### 双变量分析"
   ]
  },
  {
   "cell_type": "code",
   "execution_count": 45,
   "metadata": {
    "ExecuteTime": {
     "end_time": "2020-10-19T08:28:57.331220Z",
     "start_time": "2020-10-19T08:28:56.799893Z"
    },
    "scrolled": true
   },
   "outputs": [
    {
     "data": {
      "image/png": "[encoded data removed]",
      "text/plain": [
       "<Figure size 432x360 with 1 Axes>"
      ]
     },
     "metadata": {},
     "output_type": "display_data"
    }
   ],
   "source": [
    "vfig = plt.figure(3, figsize=(6, 5))\n",
    "plt.scatter(data['week'],data['boxoffice'])\n",
    "plt.title('week对boxoffice的影响')  # 设置标题\n",
    "plt.ylabel('boxoffice')  # 设置纵坐标\n",
    "plt.xlabel('week')  # 设置横坐标\n",
    "plt.show()"
   ]
  },
  {
   "cell_type": "code",
   "execution_count": 46,
   "metadata": {
    "ExecuteTime": {
     "end_time": "2020-10-19T08:29:00.397909Z",
     "start_time": "2020-10-19T08:29:00.235395Z"
    }
   },
   "outputs": [
    {
     "data": {
      "image/png": "[encoded data removed]",
      "text/plain": [
       "<Figure size 432x360 with 1 Axes>"
      ]
     },
     "metadata": {},
     "output_type": "display_data"
    }
   ],
   "source": [
    "vfig = plt.figure(3, figsize=(6, 5))\n",
    "plt.scatter(data['baidu index1'],data['boxoffice'])\n",
    "plt.title('baidu index1对boxoffice的影响')  # 设置标题\n",
    "plt.ylabel('boxoffice')  # 设置纵坐标\n",
    "plt.xlabel('baidu index1')  # 设置横坐标\n",
    "plt.show()"
   ]
  },
  {
   "cell_type": "code",
   "execution_count": 47,
   "metadata": {
    "ExecuteTime": {
     "end_time": "2020-10-19T08:29:03.400170Z",
     "start_time": "2020-10-19T08:29:03.249314Z"
    }
   },
   "outputs": [
    {
     "data": {
      "image/png": "[encoded data removed]",
      "text/plain": [
       "<Figure size 432x360 with 1 Axes>"
      ]
     },
     "metadata": {},
     "output_type": "display_data"
    }
   ],
   "source": [
    "vfig = plt.figure(3, figsize=(6, 5))\n",
    "plt.scatter(data['baidu index2'],data['boxoffice'])\n",
    "plt.title('baidu index2对boxoffice的影响')  # 设置标题\n",
    "plt.ylabel('boxoffice')  # 设置纵坐标\n",
    "plt.xlabel('baidu index2')  # 设置横坐标\n",
    "plt.show()"
   ]
  },
  {
   "cell_type": "code",
   "execution_count": 48,
   "metadata": {
    "ExecuteTime": {
     "end_time": "2020-10-19T08:29:15.154517Z",
     "start_time": "2020-10-19T08:29:12.395593Z"
    }
   },
   "outputs": [
    {
     "data": {
      "image/png": "[encoded data removed]",
      "text/plain": [
       "<Figure size 864x576 with 6 Axes>"
      ]
     },
     "metadata": {},
     "output_type": "display_data"
    }
   ],
   "source": [
    "## seaborn绘制箱线图\n",
    "plt.figure(6, figsize=(12, 8)) #设置画布\n",
    "### genre与票房的箱图\n",
    "plt.subplot(231)  # 1*3分布的画图中的第一个子图\n",
    "sns.boxplot(x='genre',y='boxoffice',data=data)\n",
    "\n",
    "### year与票房的箱图\n",
    "plt.subplot(232)  # 1*3分布的画图中的第一个子图\n",
    "sns.boxplot(x='year',y='boxoffice',data=data)\n",
    "\n",
    "### month与票房的箱图\n",
    "plt.subplot(233)  # 1*3分布的画图中的第一个子图\n",
    "sns.boxplot(x='month',y='boxoffice',data=data)\n",
    "\n",
    "### distribute与票房的箱图\n",
    "plt.subplot(234)  # 1*3分布的画图中的第一个子图 \n",
    "sns.boxplot(x='distribute',y='boxoffice',data=data)\n",
    "\n",
    "### story与票房的箱图\n",
    "plt.subplot(235)  # 1*3分布的画图中的第一个子图\n",
    "sns.boxplot(x='story',y='boxoffice',data=data)\n",
    "\n",
    "### week与票房的箱图\n",
    "plt.subplot(236) \n",
    "sns.boxplot(x='week',y='boxoffice',data=data)\n",
    "\n",
    "plt.show()"
   ]
  },
  {
   "cell_type": "code",
   "execution_count": 49,
   "metadata": {
    "ExecuteTime": {
     "end_time": "2020-10-19T08:29:22.251861Z",
     "start_time": "2020-10-19T08:29:21.538718Z"
    }
   },
   "outputs": [
    {
     "data": {
      "image/png": "[encoded data removed]",
      "text/plain": [
       "<Figure size 864x576 with 5 Axes>"
      ]
     },
     "metadata": {},
     "output_type": "display_data"
    }
   ],
   "source": [
    "## seaborn绘制箱线图\n",
    "plt.figure(6, figsize=(12, 8)) #设置画布\n",
    "### reality与票房的箱图\n",
    "plt.subplot(231)  # 1*3分布的画图中的第一个子图\n",
    "sns.violinplot(x='reality',y='boxoffice',data=data)\n",
    "\n",
    "### remake与票房的箱图\n",
    "plt.subplot(232)  # 1*3分布的画图中的第一个子图\n",
    "sns.violinplot(x='remake',y='boxoffice',data=data)\n",
    "\n",
    "### sequel与票房的箱图\n",
    "plt.subplot(233)  # 1*3分布的画图中的第一个子图\n",
    "sns.violinplot(x='sequel',y='boxoffice',data=data)\n",
    "\n",
    "### 导演得奖情况与票房的箱图\n",
    "plt.subplot(234)  # 1*3分布的画图中的第一个子图\n",
    "sns.violinplot(x='导演得奖情况',y='boxoffice',data=data)\n",
    "\n",
    "### 导演是否转型与票房的箱图\n",
    "plt.subplot(235)  # 1*3分布的画图中的第一个子图\n",
    "sns.violinplot(x='导演是否转型',y='boxoffice',data=data)\n",
    "\n",
    "plt.show()"
   ]
  },
  {
   "cell_type": "markdown",
   "metadata": {},
   "source": [
    "### 处理分类数据"
   ]
  },
  {
   "cell_type": "code",
   "execution_count": 52,
   "metadata": {
    "ExecuteTime": {
     "end_time": "2020-10-19T08:37:32.764133Z",
     "start_time": "2020-10-19T08:37:32.734212Z"
    },
    "scrolled": true
   },
   "outputs": [
    {
     "data": {
      "text/html": [
       "<div>\n",
       "<style scoped>\n",
       "    .dataframe tbody tr th:only-of-type {\n",
       "        vertical-align: middle;\n",
       "    }\n",
       "\n",
       "    .dataframe tbody tr th {\n",
       "        vertical-align: top;\n",
       "    }\n",
       "\n",
       "    .dataframe thead th {\n",
       "        text-align: right;\n",
       "    }\n",
       "</style>\n",
       "<table border=\"1\" class=\"dataframe\">\n",
       "  <thead>\n",
       "    <tr style=\"text-align: right;\">\n",
       "      <th></th>\n",
       "      <th>year</th>\n",
       "      <th>month</th>\n",
       "      <th>reality</th>\n",
       "      <th>remake</th>\n",
       "      <th>sequel</th>\n",
       "      <th>导演年代</th>\n",
       "      <th>第几部作品</th>\n",
       "      <th>导演得奖情况</th>\n",
       "      <th>导演是否转型</th>\n",
       "      <th>baidu index1</th>\n",
       "      <th>...</th>\n",
       "      <th>genre_灾难</th>\n",
       "      <th>genre_爱情</th>\n",
       "      <th>genre_警匪</th>\n",
       "      <th>genre_魔幻</th>\n",
       "      <th>distribute_C</th>\n",
       "      <th>distribute_G</th>\n",
       "      <th>distribute_L</th>\n",
       "      <th>distribute_S</th>\n",
       "      <th>story_N</th>\n",
       "      <th>story_S</th>\n",
       "    </tr>\n",
       "  </thead>\n",
       "  <tbody>\n",
       "    <tr>\n",
       "      <th>0</th>\n",
       "      <td>2012</td>\n",
       "      <td>1</td>\n",
       "      <td>0</td>\n",
       "      <td>1</td>\n",
       "      <td>0</td>\n",
       "      <td>50.0</td>\n",
       "      <td>62.0</td>\n",
       "      <td>1.0</td>\n",
       "      <td>0.0</td>\n",
       "      <td>3719</td>\n",
       "      <td>...</td>\n",
       "      <td>0</td>\n",
       "      <td>0</td>\n",
       "      <td>0</td>\n",
       "      <td>0</td>\n",
       "      <td>1</td>\n",
       "      <td>0</td>\n",
       "      <td>0</td>\n",
       "      <td>0</td>\n",
       "      <td>0</td>\n",
       "      <td>1</td>\n",
       "    </tr>\n",
       "    <tr>\n",
       "      <th>1</th>\n",
       "      <td>2010</td>\n",
       "      <td>12</td>\n",
       "      <td>0</td>\n",
       "      <td>0</td>\n",
       "      <td>0</td>\n",
       "      <td>50.0</td>\n",
       "      <td>60.0</td>\n",
       "      <td>1.0</td>\n",
       "      <td>0.0</td>\n",
       "      <td>10215</td>\n",
       "      <td>...</td>\n",
       "      <td>0</td>\n",
       "      <td>0</td>\n",
       "      <td>0</td>\n",
       "      <td>0</td>\n",
       "      <td>0</td>\n",
       "      <td>0</td>\n",
       "      <td>0</td>\n",
       "      <td>1</td>\n",
       "      <td>0</td>\n",
       "      <td>1</td>\n",
       "    </tr>\n",
       "    <tr>\n",
       "      <th>2</th>\n",
       "      <td>2012</td>\n",
       "      <td>8</td>\n",
       "      <td>0</td>\n",
       "      <td>0</td>\n",
       "      <td>0</td>\n",
       "      <td>60.0</td>\n",
       "      <td>5.0</td>\n",
       "      <td>0.0</td>\n",
       "      <td>0.0</td>\n",
       "      <td>335</td>\n",
       "      <td>...</td>\n",
       "      <td>0</td>\n",
       "      <td>0</td>\n",
       "      <td>0</td>\n",
       "      <td>0</td>\n",
       "      <td>1</td>\n",
       "      <td>0</td>\n",
       "      <td>0</td>\n",
       "      <td>0</td>\n",
       "      <td>0</td>\n",
       "      <td>1</td>\n",
       "    </tr>\n",
       "    <tr>\n",
       "      <th>3</th>\n",
       "      <td>2013</td>\n",
       "      <td>2</td>\n",
       "      <td>0</td>\n",
       "      <td>0</td>\n",
       "      <td>0</td>\n",
       "      <td>60.0</td>\n",
       "      <td>9.0</td>\n",
       "      <td>1.0</td>\n",
       "      <td>1.0</td>\n",
       "      <td>30326</td>\n",
       "      <td>...</td>\n",
       "      <td>0</td>\n",
       "      <td>0</td>\n",
       "      <td>0</td>\n",
       "      <td>1</td>\n",
       "      <td>0</td>\n",
       "      <td>0</td>\n",
       "      <td>0</td>\n",
       "      <td>1</td>\n",
       "      <td>1</td>\n",
       "      <td>0</td>\n",
       "    </tr>\n",
       "    <tr>\n",
       "      <th>4</th>\n",
       "      <td>2012</td>\n",
       "      <td>3</td>\n",
       "      <td>0</td>\n",
       "      <td>0</td>\n",
       "      <td>0</td>\n",
       "      <td>70.0</td>\n",
       "      <td>2.0</td>\n",
       "      <td>0.0</td>\n",
       "      <td>0.0</td>\n",
       "      <td>4147</td>\n",
       "      <td>...</td>\n",
       "      <td>0</td>\n",
       "      <td>0</td>\n",
       "      <td>1</td>\n",
       "      <td>0</td>\n",
       "      <td>1</td>\n",
       "      <td>0</td>\n",
       "      <td>0</td>\n",
       "      <td>0</td>\n",
       "      <td>0</td>\n",
       "      <td>1</td>\n",
       "    </tr>\n",
       "  </tbody>\n",
       "</table>\n",
       "<p>5 rows × 31 columns</p>\n",
       "</div>"
      ],
      "text/plain": [
       "   year  month  reality  remake  sequel  导演年代  第几部作品  导演得奖情况  导演是否转型  \\\n",
       "0  2012      1        0       1       0  50.0   62.0     1.0     0.0   \n",
       "1  2010     12        0       0       0  50.0   60.0     1.0     0.0   \n",
       "2  2012      8        0       0       0  60.0    5.0     0.0     0.0   \n",
       "3  2013      2        0       0       0  60.0    9.0     1.0     1.0   \n",
       "4  2012      3        0       0       0  70.0    2.0     0.0     0.0   \n",
       "\n",
       "   baidu index1  ...  genre_灾难  genre_爱情  genre_警匪  genre_魔幻  distribute_C  \\\n",
       "0          3719  ...         0         0         0         0             1   \n",
       "1         10215  ...         0         0         0         0             0   \n",
       "2           335  ...         0         0         0         0             1   \n",
       "3         30326  ...         0         0         0         1             0   \n",
       "4          4147  ...         0         0         1         0             1   \n",
       "\n",
       "   distribute_G  distribute_L  distribute_S  story_N  story_S  \n",
       "0             0             0             0        0        1  \n",
       "1             0             0             1        0        1  \n",
       "2             0             0             0        0        1  \n",
       "3             0             0             1        1        0  \n",
       "4             0             0             0        0        1  \n",
       "\n",
       "[5 rows x 31 columns]"
      ]
     },
     "execution_count": 52,
     "metadata": {},
     "output_type": "execute_result"
    }
   ],
   "source": [
    "data1=pd.get_dummies(data[[\"genre\",\"year\",\"month\",\"distribute\",\"story\",\"reality\",\"remake\",\"sequel\",\"导演年代\",\"第几部作品\",\"导演得奖情况\",\"导演是否转型\",\"baidu index1\",\"baidu index2\"]]) #one-hot编码\n",
    "data1.head()"
   ]
  },
  {
   "cell_type": "code",
   "execution_count": 53,
   "metadata": {
    "ExecuteTime": {
     "end_time": "2020-10-19T08:38:32.167480Z",
     "start_time": "2020-10-19T08:38:32.136595Z"
    }
   },
   "outputs": [
    {
     "data": {
      "text/html": [
       "<div>\n",
       "<style scoped>\n",
       "    .dataframe tbody tr th:only-of-type {\n",
       "        vertical-align: middle;\n",
       "    }\n",
       "\n",
       "    .dataframe tbody tr th {\n",
       "        vertical-align: top;\n",
       "    }\n",
       "\n",
       "    .dataframe thead th {\n",
       "        text-align: right;\n",
       "    }\n",
       "</style>\n",
       "<table border=\"1\" class=\"dataframe\">\n",
       "  <thead>\n",
       "    <tr style=\"text-align: right;\">\n",
       "      <th></th>\n",
       "      <th>year</th>\n",
       "      <th>month</th>\n",
       "      <th>reality</th>\n",
       "      <th>remake</th>\n",
       "      <th>sequel</th>\n",
       "      <th>导演年代</th>\n",
       "      <th>第几部作品</th>\n",
       "      <th>导演得奖情况</th>\n",
       "      <th>导演是否转型</th>\n",
       "      <th>baidu index1</th>\n",
       "      <th>...</th>\n",
       "      <th>genre_悬疑</th>\n",
       "      <th>genre_惊悚</th>\n",
       "      <th>genre_灾难</th>\n",
       "      <th>genre_爱情</th>\n",
       "      <th>genre_警匪</th>\n",
       "      <th>genre_魔幻</th>\n",
       "      <th>distribute_G</th>\n",
       "      <th>distribute_L</th>\n",
       "      <th>distribute_S</th>\n",
       "      <th>story_S</th>\n",
       "    </tr>\n",
       "  </thead>\n",
       "  <tbody>\n",
       "    <tr>\n",
       "      <th>0</th>\n",
       "      <td>2012</td>\n",
       "      <td>1</td>\n",
       "      <td>0</td>\n",
       "      <td>1</td>\n",
       "      <td>0</td>\n",
       "      <td>50.0</td>\n",
       "      <td>62.0</td>\n",
       "      <td>1.0</td>\n",
       "      <td>0.0</td>\n",
       "      <td>3719</td>\n",
       "      <td>...</td>\n",
       "      <td>0</td>\n",
       "      <td>0</td>\n",
       "      <td>0</td>\n",
       "      <td>0</td>\n",
       "      <td>0</td>\n",
       "      <td>0</td>\n",
       "      <td>0</td>\n",
       "      <td>0</td>\n",
       "      <td>0</td>\n",
       "      <td>1</td>\n",
       "    </tr>\n",
       "    <tr>\n",
       "      <th>1</th>\n",
       "      <td>2010</td>\n",
       "      <td>12</td>\n",
       "      <td>0</td>\n",
       "      <td>0</td>\n",
       "      <td>0</td>\n",
       "      <td>50.0</td>\n",
       "      <td>60.0</td>\n",
       "      <td>1.0</td>\n",
       "      <td>0.0</td>\n",
       "      <td>10215</td>\n",
       "      <td>...</td>\n",
       "      <td>0</td>\n",
       "      <td>0</td>\n",
       "      <td>0</td>\n",
       "      <td>0</td>\n",
       "      <td>0</td>\n",
       "      <td>0</td>\n",
       "      <td>0</td>\n",
       "      <td>0</td>\n",
       "      <td>1</td>\n",
       "      <td>1</td>\n",
       "    </tr>\n",
       "    <tr>\n",
       "      <th>2</th>\n",
       "      <td>2012</td>\n",
       "      <td>8</td>\n",
       "      <td>0</td>\n",
       "      <td>0</td>\n",
       "      <td>0</td>\n",
       "      <td>60.0</td>\n",
       "      <td>5.0</td>\n",
       "      <td>0.0</td>\n",
       "      <td>0.0</td>\n",
       "      <td>335</td>\n",
       "      <td>...</td>\n",
       "      <td>0</td>\n",
       "      <td>0</td>\n",
       "      <td>0</td>\n",
       "      <td>0</td>\n",
       "      <td>0</td>\n",
       "      <td>0</td>\n",
       "      <td>0</td>\n",
       "      <td>0</td>\n",
       "      <td>0</td>\n",
       "      <td>1</td>\n",
       "    </tr>\n",
       "    <tr>\n",
       "      <th>3</th>\n",
       "      <td>2013</td>\n",
       "      <td>2</td>\n",
       "      <td>0</td>\n",
       "      <td>0</td>\n",
       "      <td>0</td>\n",
       "      <td>60.0</td>\n",
       "      <td>9.0</td>\n",
       "      <td>1.0</td>\n",
       "      <td>1.0</td>\n",
       "      <td>30326</td>\n",
       "      <td>...</td>\n",
       "      <td>0</td>\n",
       "      <td>0</td>\n",
       "      <td>0</td>\n",
       "      <td>0</td>\n",
       "      <td>0</td>\n",
       "      <td>1</td>\n",
       "      <td>0</td>\n",
       "      <td>0</td>\n",
       "      <td>1</td>\n",
       "      <td>0</td>\n",
       "    </tr>\n",
       "    <tr>\n",
       "      <th>4</th>\n",
       "      <td>2012</td>\n",
       "      <td>3</td>\n",
       "      <td>0</td>\n",
       "      <td>0</td>\n",
       "      <td>0</td>\n",
       "      <td>70.0</td>\n",
       "      <td>2.0</td>\n",
       "      <td>0.0</td>\n",
       "      <td>0.0</td>\n",
       "      <td>4147</td>\n",
       "      <td>...</td>\n",
       "      <td>0</td>\n",
       "      <td>0</td>\n",
       "      <td>0</td>\n",
       "      <td>0</td>\n",
       "      <td>1</td>\n",
       "      <td>0</td>\n",
       "      <td>0</td>\n",
       "      <td>0</td>\n",
       "      <td>0</td>\n",
       "      <td>1</td>\n",
       "    </tr>\n",
       "  </tbody>\n",
       "</table>\n",
       "<p>5 rows × 28 columns</p>\n",
       "</div>"
      ],
      "text/plain": [
       "   year  month  reality  remake  sequel  导演年代  第几部作品  导演得奖情况  导演是否转型  \\\n",
       "0  2012      1        0       1       0  50.0   62.0     1.0     0.0   \n",
       "1  2010     12        0       0       0  50.0   60.0     1.0     0.0   \n",
       "2  2012      8        0       0       0  60.0    5.0     0.0     0.0   \n",
       "3  2013      2        0       0       0  60.0    9.0     1.0     1.0   \n",
       "4  2012      3        0       0       0  70.0    2.0     0.0     0.0   \n",
       "\n",
       "   baidu index1  ...  genre_悬疑  genre_惊悚  genre_灾难  genre_爱情  genre_警匪  \\\n",
       "0          3719  ...         0         0         0         0         0   \n",
       "1         10215  ...         0         0         0         0         0   \n",
       "2           335  ...         0         0         0         0         0   \n",
       "3         30326  ...         0         0         0         0         0   \n",
       "4          4147  ...         0         0         0         0         1   \n",
       "\n",
       "   genre_魔幻  distribute_G  distribute_L  distribute_S  story_S  \n",
       "0         0             0             0             0        1  \n",
       "1         0             0             0             1        1  \n",
       "2         0             0             0             0        1  \n",
       "3         1             0             0             1        0  \n",
       "4         0             0             0             0        1  \n",
       "\n",
       "[5 rows x 28 columns]"
      ]
     },
     "execution_count": 53,
     "metadata": {},
     "output_type": "execute_result"
    }
   ],
   "source": [
    "data2=pd.get_dummies(data[[\"genre\",\"year\",\"month\",\"distribute\",\"story\",\"reality\",\"remake\",\"sequel\",\"导演年代\",\"第几部作品\",\"导演得奖情况\",\"导演是否转型\",\"baidu index1\",\"baidu index2\"]],drop_first=True)#虚编码\n",
    "data2.head()"
   ]
  },
  {
   "cell_type": "code",
   "execution_count": 54,
   "metadata": {
    "ExecuteTime": {
     "end_time": "2020-10-19T08:39:21.357204Z",
     "start_time": "2020-10-19T08:39:21.344278Z"
    }
   },
   "outputs": [
    {
     "data": {
      "text/html": [
       "<div>\n",
       "<style scoped>\n",
       "    .dataframe tbody tr th:only-of-type {\n",
       "        vertical-align: middle;\n",
       "    }\n",
       "\n",
       "    .dataframe tbody tr th {\n",
       "        vertical-align: top;\n",
       "    }\n",
       "\n",
       "    .dataframe thead th {\n",
       "        text-align: right;\n",
       "    }\n",
       "</style>\n",
       "<table border=\"1\" class=\"dataframe\">\n",
       "  <thead>\n",
       "    <tr style=\"text-align: right;\">\n",
       "      <th></th>\n",
       "      <th>boxoffice</th>\n",
       "    </tr>\n",
       "  </thead>\n",
       "  <tbody>\n",
       "    <tr>\n",
       "      <th>0</th>\n",
       "      <td>5274.60</td>\n",
       "    </tr>\n",
       "    <tr>\n",
       "      <th>1</th>\n",
       "      <td>15392.82</td>\n",
       "    </tr>\n",
       "    <tr>\n",
       "      <th>2</th>\n",
       "      <td>7130.16</td>\n",
       "    </tr>\n",
       "    <tr>\n",
       "      <th>3</th>\n",
       "      <td>124643.87</td>\n",
       "    </tr>\n",
       "    <tr>\n",
       "      <th>4</th>\n",
       "      <td>4814.32</td>\n",
       "    </tr>\n",
       "  </tbody>\n",
       "</table>\n",
       "</div>"
      ],
      "text/plain": [
       "   boxoffice\n",
       "0    5274.60\n",
       "1   15392.82\n",
       "2    7130.16\n",
       "3  124643.87\n",
       "4    4814.32"
      ]
     },
     "execution_count": 54,
     "metadata": {},
     "output_type": "execute_result"
    }
   ],
   "source": [
    "data3=data[[\"boxoffice\"]]\n",
    "data3.head()"
   ]
  },
  {
   "cell_type": "code",
   "execution_count": 55,
   "metadata": {
    "ExecuteTime": {
     "end_time": "2020-10-19T08:39:24.806971Z",
     "start_time": "2020-10-19T08:39:24.779051Z"
    }
   },
   "outputs": [
    {
     "data": {
      "text/html": [
       "<div>\n",
       "<style scoped>\n",
       "    .dataframe tbody tr th:only-of-type {\n",
       "        vertical-align: middle;\n",
       "    }\n",
       "\n",
       "    .dataframe tbody tr th {\n",
       "        vertical-align: top;\n",
       "    }\n",
       "\n",
       "    .dataframe thead th {\n",
       "        text-align: right;\n",
       "    }\n",
       "</style>\n",
       "<table border=\"1\" class=\"dataframe\">\n",
       "  <thead>\n",
       "    <tr style=\"text-align: right;\">\n",
       "      <th></th>\n",
       "      <th>year</th>\n",
       "      <th>month</th>\n",
       "      <th>reality</th>\n",
       "      <th>remake</th>\n",
       "      <th>sequel</th>\n",
       "      <th>导演年代</th>\n",
       "      <th>第几部作品</th>\n",
       "      <th>导演得奖情况</th>\n",
       "      <th>导演是否转型</th>\n",
       "      <th>baidu index1</th>\n",
       "      <th>...</th>\n",
       "      <th>genre_爱情</th>\n",
       "      <th>genre_警匪</th>\n",
       "      <th>genre_魔幻</th>\n",
       "      <th>distribute_C</th>\n",
       "      <th>distribute_G</th>\n",
       "      <th>distribute_L</th>\n",
       "      <th>distribute_S</th>\n",
       "      <th>story_N</th>\n",
       "      <th>story_S</th>\n",
       "      <th>boxoffice</th>\n",
       "    </tr>\n",
       "  </thead>\n",
       "  <tbody>\n",
       "    <tr>\n",
       "      <th>0</th>\n",
       "      <td>2012</td>\n",
       "      <td>1</td>\n",
       "      <td>0</td>\n",
       "      <td>1</td>\n",
       "      <td>0</td>\n",
       "      <td>50.0</td>\n",
       "      <td>62.0</td>\n",
       "      <td>1.0</td>\n",
       "      <td>0.0</td>\n",
       "      <td>3719</td>\n",
       "      <td>...</td>\n",
       "      <td>0</td>\n",
       "      <td>0</td>\n",
       "      <td>0</td>\n",
       "      <td>1</td>\n",
       "      <td>0</td>\n",
       "      <td>0</td>\n",
       "      <td>0</td>\n",
       "      <td>0</td>\n",
       "      <td>1</td>\n",
       "      <td>5274.60</td>\n",
       "    </tr>\n",
       "    <tr>\n",
       "      <th>1</th>\n",
       "      <td>2010</td>\n",
       "      <td>12</td>\n",
       "      <td>0</td>\n",
       "      <td>0</td>\n",
       "      <td>0</td>\n",
       "      <td>50.0</td>\n",
       "      <td>60.0</td>\n",
       "      <td>1.0</td>\n",
       "      <td>0.0</td>\n",
       "      <td>10215</td>\n",
       "      <td>...</td>\n",
       "      <td>0</td>\n",
       "      <td>0</td>\n",
       "      <td>0</td>\n",
       "      <td>0</td>\n",
       "      <td>0</td>\n",
       "      <td>0</td>\n",
       "      <td>1</td>\n",
       "      <td>0</td>\n",
       "      <td>1</td>\n",
       "      <td>15392.82</td>\n",
       "    </tr>\n",
       "    <tr>\n",
       "      <th>2</th>\n",
       "      <td>2012</td>\n",
       "      <td>8</td>\n",
       "      <td>0</td>\n",
       "      <td>0</td>\n",
       "      <td>0</td>\n",
       "      <td>60.0</td>\n",
       "      <td>5.0</td>\n",
       "      <td>0.0</td>\n",
       "      <td>0.0</td>\n",
       "      <td>335</td>\n",
       "      <td>...</td>\n",
       "      <td>0</td>\n",
       "      <td>0</td>\n",
       "      <td>0</td>\n",
       "      <td>1</td>\n",
       "      <td>0</td>\n",
       "      <td>0</td>\n",
       "      <td>0</td>\n",
       "      <td>0</td>\n",
       "      <td>1</td>\n",
       "      <td>7130.16</td>\n",
       "    </tr>\n",
       "    <tr>\n",
       "      <th>3</th>\n",
       "      <td>2013</td>\n",
       "      <td>2</td>\n",
       "      <td>0</td>\n",
       "      <td>0</td>\n",
       "      <td>0</td>\n",
       "      <td>60.0</td>\n",
       "      <td>9.0</td>\n",
       "      <td>1.0</td>\n",
       "      <td>1.0</td>\n",
       "      <td>30326</td>\n",
       "      <td>...</td>\n",
       "      <td>0</td>\n",
       "      <td>0</td>\n",
       "      <td>1</td>\n",
       "      <td>0</td>\n",
       "      <td>0</td>\n",
       "      <td>0</td>\n",
       "      <td>1</td>\n",
       "      <td>1</td>\n",
       "      <td>0</td>\n",
       "      <td>124643.87</td>\n",
       "    </tr>\n",
       "    <tr>\n",
       "      <th>4</th>\n",
       "      <td>2012</td>\n",
       "      <td>3</td>\n",
       "      <td>0</td>\n",
       "      <td>0</td>\n",
       "      <td>0</td>\n",
       "      <td>70.0</td>\n",
       "      <td>2.0</td>\n",
       "      <td>0.0</td>\n",
       "      <td>0.0</td>\n",
       "      <td>4147</td>\n",
       "      <td>...</td>\n",
       "      <td>0</td>\n",
       "      <td>1</td>\n",
       "      <td>0</td>\n",
       "      <td>1</td>\n",
       "      <td>0</td>\n",
       "      <td>0</td>\n",
       "      <td>0</td>\n",
       "      <td>0</td>\n",
       "      <td>1</td>\n",
       "      <td>4814.32</td>\n",
       "    </tr>\n",
       "  </tbody>\n",
       "</table>\n",
       "<p>5 rows × 32 columns</p>\n",
       "</div>"
      ],
      "text/plain": [
       "   year  month  reality  remake  sequel  导演年代  第几部作品  导演得奖情况  导演是否转型  \\\n",
       "0  2012      1        0       1       0  50.0   62.0     1.0     0.0   \n",
       "1  2010     12        0       0       0  50.0   60.0     1.0     0.0   \n",
       "2  2012      8        0       0       0  60.0    5.0     0.0     0.0   \n",
       "3  2013      2        0       0       0  60.0    9.0     1.0     1.0   \n",
       "4  2012      3        0       0       0  70.0    2.0     0.0     0.0   \n",
       "\n",
       "   baidu index1  ...  genre_爱情  genre_警匪  genre_魔幻  distribute_C  \\\n",
       "0          3719  ...         0         0         0             1   \n",
       "1         10215  ...         0         0         0             0   \n",
       "2           335  ...         0         0         0             1   \n",
       "3         30326  ...         0         0         1             0   \n",
       "4          4147  ...         0         1         0             1   \n",
       "\n",
       "   distribute_G  distribute_L  distribute_S  story_N  story_S  boxoffice  \n",
       "0             0             0             0        0        1    5274.60  \n",
       "1             0             0             1        0        1   15392.82  \n",
       "2             0             0             0        0        1    7130.16  \n",
       "3             0             0             1        1        0  124643.87  \n",
       "4             0             0             0        0        1    4814.32  \n",
       "\n",
       "[5 rows x 32 columns]"
      ]
     },
     "execution_count": 55,
     "metadata": {},
     "output_type": "execute_result"
    }
   ],
   "source": [
    "data1_new=pd.concat([data1,data3],axis=1) #one-hot编码后的完整数据\n",
    "data1_new.head()"
   ]
  },
  {
   "cell_type": "code",
   "execution_count": 56,
   "metadata": {
    "ExecuteTime": {
     "end_time": "2020-10-19T08:39:28.193149Z",
     "start_time": "2020-10-19T08:39:28.187154Z"
    }
   },
   "outputs": [
    {
     "data": {
      "text/plain": [
       "(266, 32)"
      ]
     },
     "execution_count": 56,
     "metadata": {},
     "output_type": "execute_result"
    }
   ],
   "source": [
    "data1_new.shape"
   ]
  },
  {
   "cell_type": "code",
   "execution_count": 57,
   "metadata": {
    "ExecuteTime": {
     "end_time": "2020-10-19T08:39:30.439850Z",
     "start_time": "2020-10-19T08:39:30.354048Z"
    }
   },
   "outputs": [
    {
     "data": {
      "text/html": [
       "<div>\n",
       "<style scoped>\n",
       "    .dataframe tbody tr th:only-of-type {\n",
       "        vertical-align: middle;\n",
       "    }\n",
       "\n",
       "    .dataframe tbody tr th {\n",
       "        vertical-align: top;\n",
       "    }\n",
       "\n",
       "    .dataframe thead th {\n",
       "        text-align: right;\n",
       "    }\n",
       "</style>\n",
       "<table border=\"1\" class=\"dataframe\">\n",
       "  <thead>\n",
       "    <tr style=\"text-align: right;\">\n",
       "      <th></th>\n",
       "      <th>year</th>\n",
       "      <th>month</th>\n",
       "      <th>reality</th>\n",
       "      <th>remake</th>\n",
       "      <th>sequel</th>\n",
       "      <th>导演年代</th>\n",
       "      <th>第几部作品</th>\n",
       "      <th>导演得奖情况</th>\n",
       "      <th>导演是否转型</th>\n",
       "      <th>baidu index1</th>\n",
       "      <th>...</th>\n",
       "      <th>genre_爱情</th>\n",
       "      <th>genre_警匪</th>\n",
       "      <th>genre_魔幻</th>\n",
       "      <th>distribute_C</th>\n",
       "      <th>distribute_G</th>\n",
       "      <th>distribute_L</th>\n",
       "      <th>distribute_S</th>\n",
       "      <th>story_N</th>\n",
       "      <th>story_S</th>\n",
       "      <th>boxoffice</th>\n",
       "    </tr>\n",
       "  </thead>\n",
       "  <tbody>\n",
       "    <tr>\n",
       "      <th>0</th>\n",
       "      <td>2012</td>\n",
       "      <td>1</td>\n",
       "      <td>0</td>\n",
       "      <td>1</td>\n",
       "      <td>0</td>\n",
       "      <td>50.0</td>\n",
       "      <td>62.0</td>\n",
       "      <td>1.0</td>\n",
       "      <td>0.0</td>\n",
       "      <td>3719</td>\n",
       "      <td>...</td>\n",
       "      <td>0</td>\n",
       "      <td>0</td>\n",
       "      <td>0</td>\n",
       "      <td>1</td>\n",
       "      <td>0</td>\n",
       "      <td>0</td>\n",
       "      <td>0</td>\n",
       "      <td>0</td>\n",
       "      <td>1</td>\n",
       "      <td>5274.60</td>\n",
       "    </tr>\n",
       "    <tr>\n",
       "      <th>1</th>\n",
       "      <td>2010</td>\n",
       "      <td>12</td>\n",
       "      <td>0</td>\n",
       "      <td>0</td>\n",
       "      <td>0</td>\n",
       "      <td>50.0</td>\n",
       "      <td>60.0</td>\n",
       "      <td>1.0</td>\n",
       "      <td>0.0</td>\n",
       "      <td>10215</td>\n",
       "      <td>...</td>\n",
       "      <td>0</td>\n",
       "      <td>0</td>\n",
       "      <td>0</td>\n",
       "      <td>0</td>\n",
       "      <td>0</td>\n",
       "      <td>0</td>\n",
       "      <td>1</td>\n",
       "      <td>0</td>\n",
       "      <td>1</td>\n",
       "      <td>15392.82</td>\n",
       "    </tr>\n",
       "    <tr>\n",
       "      <th>2</th>\n",
       "      <td>2012</td>\n",
       "      <td>8</td>\n",
       "      <td>0</td>\n",
       "      <td>0</td>\n",
       "      <td>0</td>\n",
       "      <td>60.0</td>\n",
       "      <td>5.0</td>\n",
       "      <td>0.0</td>\n",
       "      <td>0.0</td>\n",
       "      <td>335</td>\n",
       "      <td>...</td>\n",
       "      <td>0</td>\n",
       "      <td>0</td>\n",
       "      <td>0</td>\n",
       "      <td>1</td>\n",
       "      <td>0</td>\n",
       "      <td>0</td>\n",
       "      <td>0</td>\n",
       "      <td>0</td>\n",
       "      <td>1</td>\n",
       "      <td>7130.16</td>\n",
       "    </tr>\n",
       "    <tr>\n",
       "      <th>3</th>\n",
       "      <td>2013</td>\n",
       "      <td>2</td>\n",
       "      <td>0</td>\n",
       "      <td>0</td>\n",
       "      <td>0</td>\n",
       "      <td>60.0</td>\n",
       "      <td>9.0</td>\n",
       "      <td>1.0</td>\n",
       "      <td>1.0</td>\n",
       "      <td>30326</td>\n",
       "      <td>...</td>\n",
       "      <td>0</td>\n",
       "      <td>0</td>\n",
       "      <td>1</td>\n",
       "      <td>0</td>\n",
       "      <td>0</td>\n",
       "      <td>0</td>\n",
       "      <td>1</td>\n",
       "      <td>1</td>\n",
       "      <td>0</td>\n",
       "      <td>124643.87</td>\n",
       "    </tr>\n",
       "    <tr>\n",
       "      <th>4</th>\n",
       "      <td>2012</td>\n",
       "      <td>3</td>\n",
       "      <td>0</td>\n",
       "      <td>0</td>\n",
       "      <td>0</td>\n",
       "      <td>70.0</td>\n",
       "      <td>2.0</td>\n",
       "      <td>0.0</td>\n",
       "      <td>0.0</td>\n",
       "      <td>4147</td>\n",
       "      <td>...</td>\n",
       "      <td>0</td>\n",
       "      <td>1</td>\n",
       "      <td>0</td>\n",
       "      <td>1</td>\n",
       "      <td>0</td>\n",
       "      <td>0</td>\n",
       "      <td>0</td>\n",
       "      <td>0</td>\n",
       "      <td>1</td>\n",
       "      <td>4814.32</td>\n",
       "    </tr>\n",
       "    <tr>\n",
       "      <th>...</th>\n",
       "      <td>...</td>\n",
       "      <td>...</td>\n",
       "      <td>...</td>\n",
       "      <td>...</td>\n",
       "      <td>...</td>\n",
       "      <td>...</td>\n",
       "      <td>...</td>\n",
       "      <td>...</td>\n",
       "      <td>...</td>\n",
       "      <td>...</td>\n",
       "      <td>...</td>\n",
       "      <td>...</td>\n",
       "      <td>...</td>\n",
       "      <td>...</td>\n",
       "      <td>...</td>\n",
       "      <td>...</td>\n",
       "      <td>...</td>\n",
       "      <td>...</td>\n",
       "      <td>...</td>\n",
       "      <td>...</td>\n",
       "      <td>...</td>\n",
       "    </tr>\n",
       "    <tr>\n",
       "      <th>270</th>\n",
       "      <td>2013</td>\n",
       "      <td>7</td>\n",
       "      <td>0</td>\n",
       "      <td>0</td>\n",
       "      <td>1</td>\n",
       "      <td>60.0</td>\n",
       "      <td>6.0</td>\n",
       "      <td>0.0</td>\n",
       "      <td>0.0</td>\n",
       "      <td>272</td>\n",
       "      <td>...</td>\n",
       "      <td>0</td>\n",
       "      <td>0</td>\n",
       "      <td>0</td>\n",
       "      <td>1</td>\n",
       "      <td>0</td>\n",
       "      <td>0</td>\n",
       "      <td>0</td>\n",
       "      <td>0</td>\n",
       "      <td>1</td>\n",
       "      <td>8259.17</td>\n",
       "    </tr>\n",
       "    <tr>\n",
       "      <th>271</th>\n",
       "      <td>2012</td>\n",
       "      <td>7</td>\n",
       "      <td>0</td>\n",
       "      <td>0</td>\n",
       "      <td>0</td>\n",
       "      <td>60.0</td>\n",
       "      <td>5.0</td>\n",
       "      <td>1.0</td>\n",
       "      <td>0.0</td>\n",
       "      <td>2594</td>\n",
       "      <td>...</td>\n",
       "      <td>0</td>\n",
       "      <td>0</td>\n",
       "      <td>0</td>\n",
       "      <td>0</td>\n",
       "      <td>1</td>\n",
       "      <td>0</td>\n",
       "      <td>0</td>\n",
       "      <td>0</td>\n",
       "      <td>1</td>\n",
       "      <td>5827.06</td>\n",
       "    </tr>\n",
       "    <tr>\n",
       "      <th>272</th>\n",
       "      <td>2010</td>\n",
       "      <td>10</td>\n",
       "      <td>0</td>\n",
       "      <td>0</td>\n",
       "      <td>0</td>\n",
       "      <td>60.0</td>\n",
       "      <td>11.0</td>\n",
       "      <td>1.0</td>\n",
       "      <td>0.0</td>\n",
       "      <td>3695</td>\n",
       "      <td>...</td>\n",
       "      <td>0</td>\n",
       "      <td>0</td>\n",
       "      <td>1</td>\n",
       "      <td>0</td>\n",
       "      <td>0</td>\n",
       "      <td>1</td>\n",
       "      <td>0</td>\n",
       "      <td>1</td>\n",
       "      <td>0</td>\n",
       "      <td>3774.74</td>\n",
       "    </tr>\n",
       "    <tr>\n",
       "      <th>273</th>\n",
       "      <td>2013</td>\n",
       "      <td>12</td>\n",
       "      <td>0</td>\n",
       "      <td>0</td>\n",
       "      <td>0</td>\n",
       "      <td>60.0</td>\n",
       "      <td>3.0</td>\n",
       "      <td>0.0</td>\n",
       "      <td>0.0</td>\n",
       "      <td>40822</td>\n",
       "      <td>...</td>\n",
       "      <td>0</td>\n",
       "      <td>1</td>\n",
       "      <td>0</td>\n",
       "      <td>0</td>\n",
       "      <td>0</td>\n",
       "      <td>0</td>\n",
       "      <td>1</td>\n",
       "      <td>0</td>\n",
       "      <td>1</td>\n",
       "      <td>30913.51</td>\n",
       "    </tr>\n",
       "    <tr>\n",
       "      <th>274</th>\n",
       "      <td>2013</td>\n",
       "      <td>4</td>\n",
       "      <td>0</td>\n",
       "      <td>0</td>\n",
       "      <td>0</td>\n",
       "      <td>60.0</td>\n",
       "      <td>5.0</td>\n",
       "      <td>0.0</td>\n",
       "      <td>0.0</td>\n",
       "      <td>5173</td>\n",
       "      <td>...</td>\n",
       "      <td>1</td>\n",
       "      <td>0</td>\n",
       "      <td>0</td>\n",
       "      <td>0</td>\n",
       "      <td>1</td>\n",
       "      <td>0</td>\n",
       "      <td>0</td>\n",
       "      <td>0</td>\n",
       "      <td>1</td>\n",
       "      <td>19263.62</td>\n",
       "    </tr>\n",
       "  </tbody>\n",
       "</table>\n",
       "<p>266 rows × 32 columns</p>\n",
       "</div>"
      ],
      "text/plain": [
       "     year  month  reality  remake  sequel  导演年代  第几部作品  导演得奖情况  导演是否转型  \\\n",
       "0    2012      1        0       1       0  50.0   62.0     1.0     0.0   \n",
       "1    2010     12        0       0       0  50.0   60.0     1.0     0.0   \n",
       "2    2012      8        0       0       0  60.0    5.0     0.0     0.0   \n",
       "3    2013      2        0       0       0  60.0    9.0     1.0     1.0   \n",
       "4    2012      3        0       0       0  70.0    2.0     0.0     0.0   \n",
       "..    ...    ...      ...     ...     ...   ...    ...     ...     ...   \n",
       "270  2013      7        0       0       1  60.0    6.0     0.0     0.0   \n",
       "271  2012      7        0       0       0  60.0    5.0     1.0     0.0   \n",
       "272  2010     10        0       0       0  60.0   11.0     1.0     0.0   \n",
       "273  2013     12        0       0       0  60.0    3.0     0.0     0.0   \n",
       "274  2013      4        0       0       0  60.0    5.0     0.0     0.0   \n",
       "\n",
       "     baidu index1  ...  genre_爱情  genre_警匪  genre_魔幻  distribute_C  \\\n",
       "0            3719  ...         0         0         0             1   \n",
       "1           10215  ...         0         0         0             0   \n",
       "2             335  ...         0         0         0             1   \n",
       "3           30326  ...         0         0         1             0   \n",
       "4            4147  ...         0         1         0             1   \n",
       "..            ...  ...       ...       ...       ...           ...   \n",
       "270           272  ...         0         0         0             1   \n",
       "271          2594  ...         0         0         0             0   \n",
       "272          3695  ...         0         0         1             0   \n",
       "273         40822  ...         0         1         0             0   \n",
       "274          5173  ...         1         0         0             0   \n",
       "\n",
       "     distribute_G  distribute_L  distribute_S  story_N  story_S  boxoffice  \n",
       "0               0             0             0        0        1    5274.60  \n",
       "1               0             0             1        0        1   15392.82  \n",
       "2               0             0             0        0        1    7130.16  \n",
       "3               0             0             1        1        0  124643.87  \n",
       "4               0             0             0        0        1    4814.32  \n",
       "..            ...           ...           ...      ...      ...        ...  \n",
       "270             0             0             0        0        1    8259.17  \n",
       "271             1             0             0        0        1    5827.06  \n",
       "272             0             1             0        1        0    3774.74  \n",
       "273             0             0             1        0        1   30913.51  \n",
       "274             1             0             0        0        1   19263.62  \n",
       "\n",
       "[266 rows x 32 columns]"
      ]
     },
     "execution_count": 57,
     "metadata": {},
     "output_type": "execute_result"
    }
   ],
   "source": [
    "data1_new.fillna(0)"
   ]
  },
  {
   "cell_type": "code",
   "execution_count": 58,
   "metadata": {
    "ExecuteTime": {
     "end_time": "2020-10-19T08:39:33.570829Z",
     "start_time": "2020-10-19T08:39:33.544899Z"
    }
   },
   "outputs": [
    {
     "data": {
      "text/html": [
       "<div>\n",
       "<style scoped>\n",
       "    .dataframe tbody tr th:only-of-type {\n",
       "        vertical-align: middle;\n",
       "    }\n",
       "\n",
       "    .dataframe tbody tr th {\n",
       "        vertical-align: top;\n",
       "    }\n",
       "\n",
       "    .dataframe thead th {\n",
       "        text-align: right;\n",
       "    }\n",
       "</style>\n",
       "<table border=\"1\" class=\"dataframe\">\n",
       "  <thead>\n",
       "    <tr style=\"text-align: right;\">\n",
       "      <th></th>\n",
       "      <th>year</th>\n",
       "      <th>month</th>\n",
       "      <th>reality</th>\n",
       "      <th>remake</th>\n",
       "      <th>sequel</th>\n",
       "      <th>导演年代</th>\n",
       "      <th>第几部作品</th>\n",
       "      <th>导演得奖情况</th>\n",
       "      <th>导演是否转型</th>\n",
       "      <th>baidu index1</th>\n",
       "      <th>...</th>\n",
       "      <th>genre_惊悚</th>\n",
       "      <th>genre_灾难</th>\n",
       "      <th>genre_爱情</th>\n",
       "      <th>genre_警匪</th>\n",
       "      <th>genre_魔幻</th>\n",
       "      <th>distribute_G</th>\n",
       "      <th>distribute_L</th>\n",
       "      <th>distribute_S</th>\n",
       "      <th>story_S</th>\n",
       "      <th>boxoffice</th>\n",
       "    </tr>\n",
       "  </thead>\n",
       "  <tbody>\n",
       "    <tr>\n",
       "      <th>0</th>\n",
       "      <td>2012</td>\n",
       "      <td>1</td>\n",
       "      <td>0</td>\n",
       "      <td>1</td>\n",
       "      <td>0</td>\n",
       "      <td>50.0</td>\n",
       "      <td>62.0</td>\n",
       "      <td>1.0</td>\n",
       "      <td>0.0</td>\n",
       "      <td>3719</td>\n",
       "      <td>...</td>\n",
       "      <td>0</td>\n",
       "      <td>0</td>\n",
       "      <td>0</td>\n",
       "      <td>0</td>\n",
       "      <td>0</td>\n",
       "      <td>0</td>\n",
       "      <td>0</td>\n",
       "      <td>0</td>\n",
       "      <td>1</td>\n",
       "      <td>5274.60</td>\n",
       "    </tr>\n",
       "    <tr>\n",
       "      <th>1</th>\n",
       "      <td>2010</td>\n",
       "      <td>12</td>\n",
       "      <td>0</td>\n",
       "      <td>0</td>\n",
       "      <td>0</td>\n",
       "      <td>50.0</td>\n",
       "      <td>60.0</td>\n",
       "      <td>1.0</td>\n",
       "      <td>0.0</td>\n",
       "      <td>10215</td>\n",
       "      <td>...</td>\n",
       "      <td>0</td>\n",
       "      <td>0</td>\n",
       "      <td>0</td>\n",
       "      <td>0</td>\n",
       "      <td>0</td>\n",
       "      <td>0</td>\n",
       "      <td>0</td>\n",
       "      <td>1</td>\n",
       "      <td>1</td>\n",
       "      <td>15392.82</td>\n",
       "    </tr>\n",
       "    <tr>\n",
       "      <th>2</th>\n",
       "      <td>2012</td>\n",
       "      <td>8</td>\n",
       "      <td>0</td>\n",
       "      <td>0</td>\n",
       "      <td>0</td>\n",
       "      <td>60.0</td>\n",
       "      <td>5.0</td>\n",
       "      <td>0.0</td>\n",
       "      <td>0.0</td>\n",
       "      <td>335</td>\n",
       "      <td>...</td>\n",
       "      <td>0</td>\n",
       "      <td>0</td>\n",
       "      <td>0</td>\n",
       "      <td>0</td>\n",
       "      <td>0</td>\n",
       "      <td>0</td>\n",
       "      <td>0</td>\n",
       "      <td>0</td>\n",
       "      <td>1</td>\n",
       "      <td>7130.16</td>\n",
       "    </tr>\n",
       "    <tr>\n",
       "      <th>3</th>\n",
       "      <td>2013</td>\n",
       "      <td>2</td>\n",
       "      <td>0</td>\n",
       "      <td>0</td>\n",
       "      <td>0</td>\n",
       "      <td>60.0</td>\n",
       "      <td>9.0</td>\n",
       "      <td>1.0</td>\n",
       "      <td>1.0</td>\n",
       "      <td>30326</td>\n",
       "      <td>...</td>\n",
       "      <td>0</td>\n",
       "      <td>0</td>\n",
       "      <td>0</td>\n",
       "      <td>0</td>\n",
       "      <td>1</td>\n",
       "      <td>0</td>\n",
       "      <td>0</td>\n",
       "      <td>1</td>\n",
       "      <td>0</td>\n",
       "      <td>124643.87</td>\n",
       "    </tr>\n",
       "    <tr>\n",
       "      <th>4</th>\n",
       "      <td>2012</td>\n",
       "      <td>3</td>\n",
       "      <td>0</td>\n",
       "      <td>0</td>\n",
       "      <td>0</td>\n",
       "      <td>70.0</td>\n",
       "      <td>2.0</td>\n",
       "      <td>0.0</td>\n",
       "      <td>0.0</td>\n",
       "      <td>4147</td>\n",
       "      <td>...</td>\n",
       "      <td>0</td>\n",
       "      <td>0</td>\n",
       "      <td>0</td>\n",
       "      <td>1</td>\n",
       "      <td>0</td>\n",
       "      <td>0</td>\n",
       "      <td>0</td>\n",
       "      <td>0</td>\n",
       "      <td>1</td>\n",
       "      <td>4814.32</td>\n",
       "    </tr>\n",
       "  </tbody>\n",
       "</table>\n",
       "<p>5 rows × 29 columns</p>\n",
       "</div>"
      ],
      "text/plain": [
       "   year  month  reality  remake  sequel  导演年代  第几部作品  导演得奖情况  导演是否转型  \\\n",
       "0  2012      1        0       1       0  50.0   62.0     1.0     0.0   \n",
       "1  2010     12        0       0       0  50.0   60.0     1.0     0.0   \n",
       "2  2012      8        0       0       0  60.0    5.0     0.0     0.0   \n",
       "3  2013      2        0       0       0  60.0    9.0     1.0     1.0   \n",
       "4  2012      3        0       0       0  70.0    2.0     0.0     0.0   \n",
       "\n",
       "   baidu index1  ...  genre_惊悚  genre_灾难  genre_爱情  genre_警匪  genre_魔幻  \\\n",
       "0          3719  ...         0         0         0         0         0   \n",
       "1         10215  ...         0         0         0         0         0   \n",
       "2           335  ...         0         0         0         0         0   \n",
       "3         30326  ...         0         0         0         0         1   \n",
       "4          4147  ...         0         0         0         1         0   \n",
       "\n",
       "   distribute_G  distribute_L  distribute_S  story_S  boxoffice  \n",
       "0             0             0             0        1    5274.60  \n",
       "1             0             0             1        1   15392.82  \n",
       "2             0             0             0        1    7130.16  \n",
       "3             0             0             1        0  124643.87  \n",
       "4             0             0             0        1    4814.32  \n",
       "\n",
       "[5 rows x 29 columns]"
      ]
     },
     "execution_count": 58,
     "metadata": {},
     "output_type": "execute_result"
    }
   ],
   "source": [
    "data2_new=pd.concat([data2,data3],axis=1) #哑编码后的完整数据\n",
    "data2_new.head()"
   ]
  },
  {
   "cell_type": "code",
   "execution_count": 59,
   "metadata": {
    "ExecuteTime": {
     "end_time": "2020-10-19T08:39:37.005434Z",
     "start_time": "2020-10-19T08:39:36.999490Z"
    }
   },
   "outputs": [
    {
     "data": {
      "text/plain": [
       "(266, 29)"
      ]
     },
     "execution_count": 59,
     "metadata": {},
     "output_type": "execute_result"
    }
   ],
   "source": [
    "data2_new.shape"
   ]
  },
  {
   "cell_type": "code",
   "execution_count": 60,
   "metadata": {
    "ExecuteTime": {
     "end_time": "2020-10-19T08:39:39.411905Z",
     "start_time": "2020-10-19T08:39:39.379989Z"
    }
   },
   "outputs": [
    {
     "data": {
      "text/html": [
       "<div>\n",
       "<style scoped>\n",
       "    .dataframe tbody tr th:only-of-type {\n",
       "        vertical-align: middle;\n",
       "    }\n",
       "\n",
       "    .dataframe tbody tr th {\n",
       "        vertical-align: top;\n",
       "    }\n",
       "\n",
       "    .dataframe thead th {\n",
       "        text-align: right;\n",
       "    }\n",
       "</style>\n",
       "<table border=\"1\" class=\"dataframe\">\n",
       "  <thead>\n",
       "    <tr style=\"text-align: right;\">\n",
       "      <th></th>\n",
       "      <th>year</th>\n",
       "      <th>month</th>\n",
       "      <th>reality</th>\n",
       "      <th>remake</th>\n",
       "      <th>sequel</th>\n",
       "      <th>导演年代</th>\n",
       "      <th>第几部作品</th>\n",
       "      <th>导演得奖情况</th>\n",
       "      <th>导演是否转型</th>\n",
       "      <th>baidu index1</th>\n",
       "      <th>...</th>\n",
       "      <th>genre_惊悚</th>\n",
       "      <th>genre_灾难</th>\n",
       "      <th>genre_爱情</th>\n",
       "      <th>genre_警匪</th>\n",
       "      <th>genre_魔幻</th>\n",
       "      <th>distribute_G</th>\n",
       "      <th>distribute_L</th>\n",
       "      <th>distribute_S</th>\n",
       "      <th>story_S</th>\n",
       "      <th>boxoffice</th>\n",
       "    </tr>\n",
       "  </thead>\n",
       "  <tbody>\n",
       "    <tr>\n",
       "      <th>0</th>\n",
       "      <td>2012</td>\n",
       "      <td>1</td>\n",
       "      <td>0</td>\n",
       "      <td>1</td>\n",
       "      <td>0</td>\n",
       "      <td>50.0</td>\n",
       "      <td>62.0</td>\n",
       "      <td>1.0</td>\n",
       "      <td>0.0</td>\n",
       "      <td>3719</td>\n",
       "      <td>...</td>\n",
       "      <td>0</td>\n",
       "      <td>0</td>\n",
       "      <td>0</td>\n",
       "      <td>0</td>\n",
       "      <td>0</td>\n",
       "      <td>0</td>\n",
       "      <td>0</td>\n",
       "      <td>0</td>\n",
       "      <td>1</td>\n",
       "      <td>5274.60</td>\n",
       "    </tr>\n",
       "    <tr>\n",
       "      <th>1</th>\n",
       "      <td>2010</td>\n",
       "      <td>12</td>\n",
       "      <td>0</td>\n",
       "      <td>0</td>\n",
       "      <td>0</td>\n",
       "      <td>50.0</td>\n",
       "      <td>60.0</td>\n",
       "      <td>1.0</td>\n",
       "      <td>0.0</td>\n",
       "      <td>10215</td>\n",
       "      <td>...</td>\n",
       "      <td>0</td>\n",
       "      <td>0</td>\n",
       "      <td>0</td>\n",
       "      <td>0</td>\n",
       "      <td>0</td>\n",
       "      <td>0</td>\n",
       "      <td>0</td>\n",
       "      <td>1</td>\n",
       "      <td>1</td>\n",
       "      <td>15392.82</td>\n",
       "    </tr>\n",
       "    <tr>\n",
       "      <th>2</th>\n",
       "      <td>2012</td>\n",
       "      <td>8</td>\n",
       "      <td>0</td>\n",
       "      <td>0</td>\n",
       "      <td>0</td>\n",
       "      <td>60.0</td>\n",
       "      <td>5.0</td>\n",
       "      <td>0.0</td>\n",
       "      <td>0.0</td>\n",
       "      <td>335</td>\n",
       "      <td>...</td>\n",
       "      <td>0</td>\n",
       "      <td>0</td>\n",
       "      <td>0</td>\n",
       "      <td>0</td>\n",
       "      <td>0</td>\n",
       "      <td>0</td>\n",
       "      <td>0</td>\n",
       "      <td>0</td>\n",
       "      <td>1</td>\n",
       "      <td>7130.16</td>\n",
       "    </tr>\n",
       "    <tr>\n",
       "      <th>3</th>\n",
       "      <td>2013</td>\n",
       "      <td>2</td>\n",
       "      <td>0</td>\n",
       "      <td>0</td>\n",
       "      <td>0</td>\n",
       "      <td>60.0</td>\n",
       "      <td>9.0</td>\n",
       "      <td>1.0</td>\n",
       "      <td>1.0</td>\n",
       "      <td>30326</td>\n",
       "      <td>...</td>\n",
       "      <td>0</td>\n",
       "      <td>0</td>\n",
       "      <td>0</td>\n",
       "      <td>0</td>\n",
       "      <td>1</td>\n",
       "      <td>0</td>\n",
       "      <td>0</td>\n",
       "      <td>1</td>\n",
       "      <td>0</td>\n",
       "      <td>124643.87</td>\n",
       "    </tr>\n",
       "    <tr>\n",
       "      <th>4</th>\n",
       "      <td>2012</td>\n",
       "      <td>3</td>\n",
       "      <td>0</td>\n",
       "      <td>0</td>\n",
       "      <td>0</td>\n",
       "      <td>70.0</td>\n",
       "      <td>2.0</td>\n",
       "      <td>0.0</td>\n",
       "      <td>0.0</td>\n",
       "      <td>4147</td>\n",
       "      <td>...</td>\n",
       "      <td>0</td>\n",
       "      <td>0</td>\n",
       "      <td>0</td>\n",
       "      <td>1</td>\n",
       "      <td>0</td>\n",
       "      <td>0</td>\n",
       "      <td>0</td>\n",
       "      <td>0</td>\n",
       "      <td>1</td>\n",
       "      <td>4814.32</td>\n",
       "    </tr>\n",
       "    <tr>\n",
       "      <th>...</th>\n",
       "      <td>...</td>\n",
       "      <td>...</td>\n",
       "      <td>...</td>\n",
       "      <td>...</td>\n",
       "      <td>...</td>\n",
       "      <td>...</td>\n",
       "      <td>...</td>\n",
       "      <td>...</td>\n",
       "      <td>...</td>\n",
       "      <td>...</td>\n",
       "      <td>...</td>\n",
       "      <td>...</td>\n",
       "      <td>...</td>\n",
       "      <td>...</td>\n",
       "      <td>...</td>\n",
       "      <td>...</td>\n",
       "      <td>...</td>\n",
       "      <td>...</td>\n",
       "      <td>...</td>\n",
       "      <td>...</td>\n",
       "      <td>...</td>\n",
       "    </tr>\n",
       "    <tr>\n",
       "      <th>270</th>\n",
       "      <td>2013</td>\n",
       "      <td>7</td>\n",
       "      <td>0</td>\n",
       "      <td>0</td>\n",
       "      <td>1</td>\n",
       "      <td>60.0</td>\n",
       "      <td>6.0</td>\n",
       "      <td>0.0</td>\n",
       "      <td>0.0</td>\n",
       "      <td>272</td>\n",
       "      <td>...</td>\n",
       "      <td>1</td>\n",
       "      <td>0</td>\n",
       "      <td>0</td>\n",
       "      <td>0</td>\n",
       "      <td>0</td>\n",
       "      <td>0</td>\n",
       "      <td>0</td>\n",
       "      <td>0</td>\n",
       "      <td>1</td>\n",
       "      <td>8259.17</td>\n",
       "    </tr>\n",
       "    <tr>\n",
       "      <th>271</th>\n",
       "      <td>2012</td>\n",
       "      <td>7</td>\n",
       "      <td>0</td>\n",
       "      <td>0</td>\n",
       "      <td>0</td>\n",
       "      <td>60.0</td>\n",
       "      <td>5.0</td>\n",
       "      <td>1.0</td>\n",
       "      <td>0.0</td>\n",
       "      <td>2594</td>\n",
       "      <td>...</td>\n",
       "      <td>1</td>\n",
       "      <td>0</td>\n",
       "      <td>0</td>\n",
       "      <td>0</td>\n",
       "      <td>0</td>\n",
       "      <td>1</td>\n",
       "      <td>0</td>\n",
       "      <td>0</td>\n",
       "      <td>1</td>\n",
       "      <td>5827.06</td>\n",
       "    </tr>\n",
       "    <tr>\n",
       "      <th>272</th>\n",
       "      <td>2010</td>\n",
       "      <td>10</td>\n",
       "      <td>0</td>\n",
       "      <td>0</td>\n",
       "      <td>0</td>\n",
       "      <td>60.0</td>\n",
       "      <td>11.0</td>\n",
       "      <td>1.0</td>\n",
       "      <td>0.0</td>\n",
       "      <td>3695</td>\n",
       "      <td>...</td>\n",
       "      <td>0</td>\n",
       "      <td>0</td>\n",
       "      <td>0</td>\n",
       "      <td>0</td>\n",
       "      <td>1</td>\n",
       "      <td>0</td>\n",
       "      <td>1</td>\n",
       "      <td>0</td>\n",
       "      <td>0</td>\n",
       "      <td>3774.74</td>\n",
       "    </tr>\n",
       "    <tr>\n",
       "      <th>273</th>\n",
       "      <td>2013</td>\n",
       "      <td>12</td>\n",
       "      <td>0</td>\n",
       "      <td>0</td>\n",
       "      <td>0</td>\n",
       "      <td>60.0</td>\n",
       "      <td>3.0</td>\n",
       "      <td>0.0</td>\n",
       "      <td>0.0</td>\n",
       "      <td>40822</td>\n",
       "      <td>...</td>\n",
       "      <td>0</td>\n",
       "      <td>0</td>\n",
       "      <td>0</td>\n",
       "      <td>1</td>\n",
       "      <td>0</td>\n",
       "      <td>0</td>\n",
       "      <td>0</td>\n",
       "      <td>1</td>\n",
       "      <td>1</td>\n",
       "      <td>30913.51</td>\n",
       "    </tr>\n",
       "    <tr>\n",
       "      <th>274</th>\n",
       "      <td>2013</td>\n",
       "      <td>4</td>\n",
       "      <td>0</td>\n",
       "      <td>0</td>\n",
       "      <td>0</td>\n",
       "      <td>60.0</td>\n",
       "      <td>5.0</td>\n",
       "      <td>0.0</td>\n",
       "      <td>0.0</td>\n",
       "      <td>5173</td>\n",
       "      <td>...</td>\n",
       "      <td>0</td>\n",
       "      <td>0</td>\n",
       "      <td>1</td>\n",
       "      <td>0</td>\n",
       "      <td>0</td>\n",
       "      <td>1</td>\n",
       "      <td>0</td>\n",
       "      <td>0</td>\n",
       "      <td>1</td>\n",
       "      <td>19263.62</td>\n",
       "    </tr>\n",
       "  </tbody>\n",
       "</table>\n",
       "<p>266 rows × 29 columns</p>\n",
       "</div>"
      ],
      "text/plain": [
       "     year  month  reality  remake  sequel  导演年代  第几部作品  导演得奖情况  导演是否转型  \\\n",
       "0    2012      1        0       1       0  50.0   62.0     1.0     0.0   \n",
       "1    2010     12        0       0       0  50.0   60.0     1.0     0.0   \n",
       "2    2012      8        0       0       0  60.0    5.0     0.0     0.0   \n",
       "3    2013      2        0       0       0  60.0    9.0     1.0     1.0   \n",
       "4    2012      3        0       0       0  70.0    2.0     0.0     0.0   \n",
       "..    ...    ...      ...     ...     ...   ...    ...     ...     ...   \n",
       "270  2013      7        0       0       1  60.0    6.0     0.0     0.0   \n",
       "271  2012      7        0       0       0  60.0    5.0     1.0     0.0   \n",
       "272  2010     10        0       0       0  60.0   11.0     1.0     0.0   \n",
       "273  2013     12        0       0       0  60.0    3.0     0.0     0.0   \n",
       "274  2013      4        0       0       0  60.0    5.0     0.0     0.0   \n",
       "\n",
       "     baidu index1  ...  genre_惊悚  genre_灾难  genre_爱情  genre_警匪  genre_魔幻  \\\n",
       "0            3719  ...         0         0         0         0         0   \n",
       "1           10215  ...         0         0         0         0         0   \n",
       "2             335  ...         0         0         0         0         0   \n",
       "3           30326  ...         0         0         0         0         1   \n",
       "4            4147  ...         0         0         0         1         0   \n",
       "..            ...  ...       ...       ...       ...       ...       ...   \n",
       "270           272  ...         1         0         0         0         0   \n",
       "271          2594  ...         1         0         0         0         0   \n",
       "272          3695  ...         0         0         0         0         1   \n",
       "273         40822  ...         0         0         0         1         0   \n",
       "274          5173  ...         0         0         1         0         0   \n",
       "\n",
       "     distribute_G  distribute_L  distribute_S  story_S  boxoffice  \n",
       "0               0             0             0        1    5274.60  \n",
       "1               0             0             1        1   15392.82  \n",
       "2               0             0             0        1    7130.16  \n",
       "3               0             0             1        0  124643.87  \n",
       "4               0             0             0        1    4814.32  \n",
       "..            ...           ...           ...      ...        ...  \n",
       "270             0             0             0        1    8259.17  \n",
       "271             1             0             0        1    5827.06  \n",
       "272             0             1             0        0    3774.74  \n",
       "273             0             0             1        1   30913.51  \n",
       "274             1             0             0        1   19263.62  \n",
       "\n",
       "[266 rows x 29 columns]"
      ]
     },
     "execution_count": 60,
     "metadata": {},
     "output_type": "execute_result"
    }
   ],
   "source": [
    "data2_new.fillna(0)"
   ]
  },
  {
   "cell_type": "markdown",
   "metadata": {},
   "source": [
    "### 拆分数据集"
   ]
  },
  {
   "cell_type": "markdown",
   "metadata": {},
   "source": [
    "#### 先拆分成特征和标签"
   ]
  },
  {
   "cell_type": "code",
   "execution_count": 62,
   "metadata": {
    "ExecuteTime": {
     "end_time": "2020-10-19T08:39:57.595733Z",
     "start_time": "2020-10-19T08:39:57.569805Z"
    }
   },
   "outputs": [
    {
     "data": {
      "text/html": [
       "<div>\n",
       "<style scoped>\n",
       "    .dataframe tbody tr th:only-of-type {\n",
       "        vertical-align: middle;\n",
       "    }\n",
       "\n",
       "    .dataframe tbody tr th {\n",
       "        vertical-align: top;\n",
       "    }\n",
       "\n",
       "    .dataframe thead th {\n",
       "        text-align: right;\n",
       "    }\n",
       "</style>\n",
       "<table border=\"1\" class=\"dataframe\">\n",
       "  <thead>\n",
       "    <tr style=\"text-align: right;\">\n",
       "      <th></th>\n",
       "      <th>year</th>\n",
       "      <th>month</th>\n",
       "      <th>reality</th>\n",
       "      <th>remake</th>\n",
       "      <th>sequel</th>\n",
       "      <th>导演年代</th>\n",
       "      <th>第几部作品</th>\n",
       "      <th>导演得奖情况</th>\n",
       "      <th>导演是否转型</th>\n",
       "      <th>baidu index1</th>\n",
       "      <th>...</th>\n",
       "      <th>genre_悬疑</th>\n",
       "      <th>genre_惊悚</th>\n",
       "      <th>genre_灾难</th>\n",
       "      <th>genre_爱情</th>\n",
       "      <th>genre_警匪</th>\n",
       "      <th>genre_魔幻</th>\n",
       "      <th>distribute_G</th>\n",
       "      <th>distribute_L</th>\n",
       "      <th>distribute_S</th>\n",
       "      <th>story_S</th>\n",
       "    </tr>\n",
       "  </thead>\n",
       "  <tbody>\n",
       "    <tr>\n",
       "      <th>0</th>\n",
       "      <td>2012</td>\n",
       "      <td>1</td>\n",
       "      <td>0</td>\n",
       "      <td>1</td>\n",
       "      <td>0</td>\n",
       "      <td>50.0</td>\n",
       "      <td>62.0</td>\n",
       "      <td>1.0</td>\n",
       "      <td>0.0</td>\n",
       "      <td>3719</td>\n",
       "      <td>...</td>\n",
       "      <td>0</td>\n",
       "      <td>0</td>\n",
       "      <td>0</td>\n",
       "      <td>0</td>\n",
       "      <td>0</td>\n",
       "      <td>0</td>\n",
       "      <td>0</td>\n",
       "      <td>0</td>\n",
       "      <td>0</td>\n",
       "      <td>1</td>\n",
       "    </tr>\n",
       "    <tr>\n",
       "      <th>1</th>\n",
       "      <td>2010</td>\n",
       "      <td>12</td>\n",
       "      <td>0</td>\n",
       "      <td>0</td>\n",
       "      <td>0</td>\n",
       "      <td>50.0</td>\n",
       "      <td>60.0</td>\n",
       "      <td>1.0</td>\n",
       "      <td>0.0</td>\n",
       "      <td>10215</td>\n",
       "      <td>...</td>\n",
       "      <td>0</td>\n",
       "      <td>0</td>\n",
       "      <td>0</td>\n",
       "      <td>0</td>\n",
       "      <td>0</td>\n",
       "      <td>0</td>\n",
       "      <td>0</td>\n",
       "      <td>0</td>\n",
       "      <td>1</td>\n",
       "      <td>1</td>\n",
       "    </tr>\n",
       "    <tr>\n",
       "      <th>2</th>\n",
       "      <td>2012</td>\n",
       "      <td>8</td>\n",
       "      <td>0</td>\n",
       "      <td>0</td>\n",
       "      <td>0</td>\n",
       "      <td>60.0</td>\n",
       "      <td>5.0</td>\n",
       "      <td>0.0</td>\n",
       "      <td>0.0</td>\n",
       "      <td>335</td>\n",
       "      <td>...</td>\n",
       "      <td>0</td>\n",
       "      <td>0</td>\n",
       "      <td>0</td>\n",
       "      <td>0</td>\n",
       "      <td>0</td>\n",
       "      <td>0</td>\n",
       "      <td>0</td>\n",
       "      <td>0</td>\n",
       "      <td>0</td>\n",
       "      <td>1</td>\n",
       "    </tr>\n",
       "    <tr>\n",
       "      <th>3</th>\n",
       "      <td>2013</td>\n",
       "      <td>2</td>\n",
       "      <td>0</td>\n",
       "      <td>0</td>\n",
       "      <td>0</td>\n",
       "      <td>60.0</td>\n",
       "      <td>9.0</td>\n",
       "      <td>1.0</td>\n",
       "      <td>1.0</td>\n",
       "      <td>30326</td>\n",
       "      <td>...</td>\n",
       "      <td>0</td>\n",
       "      <td>0</td>\n",
       "      <td>0</td>\n",
       "      <td>0</td>\n",
       "      <td>0</td>\n",
       "      <td>1</td>\n",
       "      <td>0</td>\n",
       "      <td>0</td>\n",
       "      <td>1</td>\n",
       "      <td>0</td>\n",
       "    </tr>\n",
       "    <tr>\n",
       "      <th>4</th>\n",
       "      <td>2012</td>\n",
       "      <td>3</td>\n",
       "      <td>0</td>\n",
       "      <td>0</td>\n",
       "      <td>0</td>\n",
       "      <td>70.0</td>\n",
       "      <td>2.0</td>\n",
       "      <td>0.0</td>\n",
       "      <td>0.0</td>\n",
       "      <td>4147</td>\n",
       "      <td>...</td>\n",
       "      <td>0</td>\n",
       "      <td>0</td>\n",
       "      <td>0</td>\n",
       "      <td>0</td>\n",
       "      <td>1</td>\n",
       "      <td>0</td>\n",
       "      <td>0</td>\n",
       "      <td>0</td>\n",
       "      <td>0</td>\n",
       "      <td>1</td>\n",
       "    </tr>\n",
       "  </tbody>\n",
       "</table>\n",
       "<p>5 rows × 28 columns</p>\n",
       "</div>"
      ],
      "text/plain": [
       "   year  month  reality  remake  sequel  导演年代  第几部作品  导演得奖情况  导演是否转型  \\\n",
       "0  2012      1        0       1       0  50.0   62.0     1.0     0.0   \n",
       "1  2010     12        0       0       0  50.0   60.0     1.0     0.0   \n",
       "2  2012      8        0       0       0  60.0    5.0     0.0     0.0   \n",
       "3  2013      2        0       0       0  60.0    9.0     1.0     1.0   \n",
       "4  2012      3        0       0       0  70.0    2.0     0.0     0.0   \n",
       "\n",
       "   baidu index1  ...  genre_悬疑  genre_惊悚  genre_灾难  genre_爱情  genre_警匪  \\\n",
       "0          3719  ...         0         0         0         0         0   \n",
       "1         10215  ...         0         0         0         0         0   \n",
       "2           335  ...         0         0         0         0         0   \n",
       "3         30326  ...         0         0         0         0         0   \n",
       "4          4147  ...         0         0         0         0         1   \n",
       "\n",
       "   genre_魔幻  distribute_G  distribute_L  distribute_S  story_S  \n",
       "0         0             0             0             0        1  \n",
       "1         0             0             0             1        1  \n",
       "2         0             0             0             0        1  \n",
       "3         1             0             0             1        0  \n",
       "4         0             0             0             0        1  \n",
       "\n",
       "[5 rows x 28 columns]"
      ]
     },
     "execution_count": 62,
     "metadata": {},
     "output_type": "execute_result"
    }
   ],
   "source": [
    "X=data2_new.iloc[:,:28] #特征\n",
    "X.head()"
   ]
  },
  {
   "cell_type": "code",
   "execution_count": 65,
   "metadata": {
    "ExecuteTime": {
     "end_time": "2020-10-19T08:40:32.153159Z",
     "start_time": "2020-10-19T08:40:32.102287Z"
    }
   },
   "outputs": [
    {
     "data": {
      "text/plain": [
       "array([  5274.6 ,  15392.82,   7130.16, 124643.87,   4814.32,  12001.3 ,\n",
       "         2962.67,   3034.19,   1678.76,   8941.84,   1442.6 ,   2876.68,\n",
       "         2364.94,  71901.52,  10345.47,  14218.55,  12750.3 ,   1292.96,\n",
       "         1820.7 ,  60948.  ,  14661.79,   3002.54,  19635.4 ,   1886.95,\n",
       "         4424.28,   1655.78,  10275.  ,   3164.37,   1774.2 ,   2467.85,\n",
       "         2042.25,   5127.52,   6973.18,   3370.52,   6171.58,   2410.93,\n",
       "        14028.67,   2120.85,  23403.87,   1439.02,   4338.88,   1324.46,\n",
       "         3739.37,   1492.94,   7490.13,   2470.62,   2361.12,  51549.6 ,\n",
       "         1437.12,   6315.64,   7073.56,   1125.5 , 127168.13,  60273.21,\n",
       "        55623.  ,  29227.94,  12987.  ,  11265.  ,   4751.27,   6674.24,\n",
       "        13289.84,  70316.28,   2262.06,   1346.15,  28428.  ,   7673.24,\n",
       "         3139.78,   2175.62,   3536.2 ,  14299.1 ,   5430.38,  10314.26,\n",
       "        15012.96,   6934.96,   2539.37,   2249.42,   6073.06,   3834.85,\n",
       "        28825.54,   6756.36,   1309.89,   2537.56,   2174.52,  35606.94,\n",
       "         1112.63,   8543.58,   1052.22,   1583.94,  29909.37,   6568.08,\n",
       "         2020.01,   6853.17,  18964.94,   4396.15,   2568.78,   2788.25,\n",
       "         6179.05,   1107.09,   1343.3 ,   1198.22,   1077.75,   1231.96,\n",
       "         2267.64,   2381.27,   1078.85,  13377.21,   7088.01,   1651.09,\n",
       "         1813.8 ,   1325.94,   5458.93,   2318.1 ,  13679.86,   3157.3 ,\n",
       "         1741.24,   1141.81,   2217.94,  25909.5 ,  15146.02,   4648.77,\n",
       "        23224.03,  15872.59,  21467.12,   3015.46,   1533.37,   7091.79,\n",
       "         2101.13,   3248.46,   2521.  ,   1525.49,   2380.54,  15611.  ,\n",
       "         1252.83,   1534.14,  25360.89,   7710.43,   3069.42,   8135.71,\n",
       "        13297.01,   7232.72,   2030.61,  14122.4 ,   2528.57,   1757.21,\n",
       "         2820.16,   1062.42,   3194.47,   1123.77,   1675.86,   1286.3 ,\n",
       "        11804.32,  12953.84,   5374.19,   1873.78,   1210.27,   1825.82,\n",
       "         3807.15,  10763.11,   7082.56,   5097.72,   8811.72,   4704.27,\n",
       "        15230.21,  14469.55,   1495.76,   5756.61,   1394.14,   1278.44,\n",
       "         1715.55,   1526.83,   2379.24,   2212.33,   1337.05,  17157.72,\n",
       "        11307.2 ,   7671.39,  15771.49,   2100.78,  66130.69,   1017.18,\n",
       "        12523.67,  16788.2 ,   2763.27,  15575.87,   3308.4 ,  14913.46,\n",
       "         4377.  ,   1821.25,   3504.76,   2763.01,   1204.01,   4620.12,\n",
       "        10138.85,   3582.82,  42290.1 ,   4817.18,  29350.13,  48814.05,\n",
       "        27058.21,   1955.79,   2353.12,   5998.28,   5838.34,   5177.67,\n",
       "         3143.94,   4661.16,   4835.13,   2278.38,   6981.26,  15388.38,\n",
       "         2507.06,   2885.26,   1010.16,  58950.9 ,  37076.52,  48060.25,\n",
       "        67332.25,  11848.11,  14771.46,   1836.06,  18126.44,   1805.25,\n",
       "        17412.13,  12943.25,  20957.79,   9616.49,  14649.79,   2163.29,\n",
       "        10706.  ,  34540.63,   2352.94,  16218.38,  13714.22,  21096.54,\n",
       "         2927.83,  88292.62,  20042.  ,   3434.22,   1320.43,   3897.14,\n",
       "         8451.72,  16697.08,  21623.18,  23770.16,   9033.12,   5579.54,\n",
       "        53922.26,  17202.6 ,  18805.5 ,  17353.91,  19216.69,  17436.27,\n",
       "        17804.75,   6508.49,   1646.19,   6666.88,   3863.35,   2956.72,\n",
       "         8769.19,   4374.83,   1642.74,   8259.17,   5827.06,   3774.74,\n",
       "        30913.51,  19263.62])"
      ]
     },
     "execution_count": 65,
     "metadata": {},
     "output_type": "execute_result"
    }
   ],
   "source": [
    "y=data2_new.iloc[:,28].values #标签\n",
    "y"
   ]
  },
  {
   "cell_type": "code",
   "execution_count": 66,
   "metadata": {
    "ExecuteTime": {
     "end_time": "2020-10-19T08:40:42.712771Z",
     "start_time": "2020-10-19T08:40:40.744699Z"
    }
   },
   "outputs": [],
   "source": [
    "from sklearn import model_selection \n",
    "X_train,X_test,y_train,y_test=model_selection.train_test_split(X,y,test_size=0.1,random_state=42)"
   ]
  },
  {
   "cell_type": "code",
   "execution_count": 67,
   "metadata": {
    "ExecuteTime": {
     "end_time": "2020-10-19T08:41:08.493162Z",
     "start_time": "2020-10-19T08:41:08.485177Z"
    }
   },
   "outputs": [
    {
     "data": {
      "text/plain": [
       "(239, 28)"
      ]
     },
     "execution_count": 67,
     "metadata": {},
     "output_type": "execute_result"
    }
   ],
   "source": [
    "X_train.shape "
   ]
  },
  {
   "cell_type": "code",
   "execution_count": 68,
   "metadata": {
    "ExecuteTime": {
     "end_time": "2020-10-19T08:41:11.179057Z",
     "start_time": "2020-10-19T08:41:11.175068Z"
    }
   },
   "outputs": [
    {
     "data": {
      "text/plain": [
       "(239,)"
      ]
     },
     "execution_count": 68,
     "metadata": {},
     "output_type": "execute_result"
    }
   ],
   "source": [
    "y_train.shape"
   ]
  },
  {
   "cell_type": "markdown",
   "metadata": {},
   "source": [
    "### 数据标准化"
   ]
  },
  {
   "cell_type": "code",
   "execution_count": 69,
   "metadata": {
    "ExecuteTime": {
     "end_time": "2020-10-19T08:41:14.451220Z",
     "start_time": "2020-10-19T08:41:14.374425Z"
    }
   },
   "outputs": [],
   "source": [
    "from sklearn.preprocessing import StandardScaler\n",
    "sc_X=StandardScaler()\n",
    "X_train=sc_X.fit_transform(X_train)\n",
    "X_test=sc_X.transform(X_test)"
   ]
  },
  {
   "cell_type": "code",
   "execution_count": 70,
   "metadata": {
    "ExecuteTime": {
     "end_time": "2020-10-19T08:41:16.882777Z",
     "start_time": "2020-10-19T08:41:16.876785Z"
    }
   },
   "outputs": [
    {
     "data": {
      "text/plain": [
       "array([[ 0.35763348, -1.64825239, -0.31037119, -0.31840617, -0.42798168,\n",
       "        -1.21010103,  0.13383951,  0.83368787,  2.41424345, -0.27353834,\n",
       "        -0.50655797, -0.1127469 , -0.44158804, -0.31840617, -0.13046561,\n",
       "        -0.20896919,  2.54337374, -0.16047141, -0.13046561, -0.31037119,\n",
       "        -0.09186304, -0.56607596, -0.27672473, -0.21964884, -0.54672941,\n",
       "        -0.56607596,  1.5079697 ,  0.33410763],\n",
       "       [-1.44182759, -0.15721408, -0.31037119, -0.31840617, -0.42798168,\n",
       "        -0.09773893, -0.58066111,  0.83368787, -0.41420843, -0.48378164,\n",
       "        -0.62392226, -0.1127469 , -0.44158804, -0.31840617, -0.13046561,\n",
       "        -0.20896919, -0.39317855, -0.16047141, -0.13046561,  3.22194854,\n",
       "        -0.09186304, -0.56607596, -0.27672473, -0.21964884, -0.54672941,\n",
       "         1.76654738, -0.6631433 ,  0.33410763]])"
      ]
     },
     "execution_count": 70,
     "metadata": {},
     "output_type": "execute_result"
    }
   ],
   "source": [
    "X_train[1:3,]"
   ]
  },
  {
   "cell_type": "code",
   "execution_count": 71,
   "metadata": {
    "ExecuteTime": {
     "end_time": "2020-10-19T08:41:19.882932Z",
     "start_time": "2020-10-19T08:41:19.877944Z"
    }
   },
   "outputs": [],
   "source": [
    "sc_y=StandardScaler()\n",
    "y_train=sc_y.fit_transform(y_train.reshape(-1,1))\n",
    "y_test=sc_y.transform(y_test.reshape(-1,1))"
   ]
  },
  {
   "cell_type": "markdown",
   "metadata": {},
   "source": [
    "### 构建多元线性回归模型"
   ]
  },
  {
   "cell_type": "markdown",
   "metadata": {},
   "source": [
    "#### 随机梯度下降法求解线性回归"
   ]
  },
  {
   "cell_type": "code",
   "execution_count": 72,
   "metadata": {
    "ExecuteTime": {
     "end_time": "2020-10-19T08:41:23.564980Z",
     "start_time": "2020-10-19T08:41:22.399710Z"
    }
   },
   "outputs": [
    {
     "data": {
      "text/plain": [
       "0.37309931882070735"
      ]
     },
     "execution_count": 72,
     "metadata": {},
     "output_type": "execute_result"
    }
   ],
   "source": [
    "from sklearn import linear_model\n",
    "sgd=linear_model.SGDRegressor(max_iter=10000, tol=0.0000001).fit(X_train,y_train)\n",
    "sgd.score(X_train,y_train)"
   ]
  },
  {
   "cell_type": "code",
   "execution_count": 73,
   "metadata": {
    "ExecuteTime": {
     "end_time": "2020-10-19T08:41:27.395054Z",
     "start_time": "2020-10-19T08:41:27.389128Z"
    },
    "scrolled": true
   },
   "outputs": [
    {
     "data": {
      "text/plain": [
       "array([[-1.44182759,  0.43920124, -0.31037119, ..., -0.56607596,\n",
       "        -0.6631433 ,  0.33410763],\n",
       "       [ 0.35763348, -1.64825239, -0.31037119, ..., -0.56607596,\n",
       "         1.5079697 ,  0.33410763],\n",
       "       [-1.44182759, -0.15721408, -0.31037119, ...,  1.76654738,\n",
       "        -0.6631433 ,  0.33410763],\n",
       "       ...,\n",
       "       [-0.54209706, -0.15721408, -0.31037119, ..., -0.56607596,\n",
       "         1.5079697 ,  0.33410763],\n",
       "       [ 0.35763348, -1.05183707, -0.31037119, ...,  1.76654738,\n",
       "        -0.6631433 ,  0.33410763],\n",
       "       [ 1.25736401, -0.75362941, -0.31037119, ..., -0.56607596,\n",
       "         1.5079697 ,  0.33410763]])"
      ]
     },
     "execution_count": 73,
     "metadata": {},
     "output_type": "execute_result"
    }
   ],
   "source": [
    "X_train"
   ]
  },
  {
   "cell_type": "code",
   "execution_count": 74,
   "metadata": {
    "ExecuteTime": {
     "end_time": "2020-10-19T08:41:30.705917Z",
     "start_time": "2020-10-19T08:41:30.697972Z"
    }
   },
   "outputs": [
    {
     "data": {
      "text/plain": [
       "array([0.0013601])"
      ]
     },
     "execution_count": 74,
     "metadata": {},
     "output_type": "execute_result"
    }
   ],
   "source": [
    "sgd.intercept_"
   ]
  },
  {
   "cell_type": "code",
   "execution_count": 75,
   "metadata": {
    "ExecuteTime": {
     "end_time": "2020-10-19T08:41:33.314238Z",
     "start_time": "2020-10-19T08:41:33.308289Z"
    }
   },
   "outputs": [
    {
     "data": {
      "text/plain": [
       "array([ 0.18533687,  0.07525618,  0.07112664, -0.002251  ,  0.10210599,\n",
       "        0.036563  , -0.01407824,  0.16139208,  0.29791229,  0.15007468,\n",
       "       -0.03397378, -0.01358645,  0.08925398, -0.04972577,  0.03535217,\n",
       "        0.01546196,  0.00048623, -0.03382906,  0.01946394, -0.0452072 ,\n",
       "        0.00916034, -0.08989482,  0.01502239,  0.12586781, -0.06220258,\n",
       "       -0.14582063,  0.05283492, -0.15567985])"
      ]
     },
     "execution_count": 75,
     "metadata": {},
     "output_type": "execute_result"
    }
   ],
   "source": [
    "sgd.coef_"
   ]
  },
  {
   "cell_type": "code",
   "execution_count": 76,
   "metadata": {
    "ExecuteTime": {
     "end_time": "2020-10-19T08:41:35.717181Z",
     "start_time": "2020-10-19T08:41:35.711231Z"
    }
   },
   "outputs": [
    {
     "data": {
      "text/plain": [
       "0.10854979973006428"
      ]
     },
     "execution_count": 76,
     "metadata": {},
     "output_type": "execute_result"
    }
   ],
   "source": [
    "sgd.score(X_test,y_test)"
   ]
  },
  {
   "cell_type": "code",
   "execution_count": 77,
   "metadata": {
    "ExecuteTime": {
     "end_time": "2020-10-19T08:41:39.217434Z",
     "start_time": "2020-10-19T08:41:39.210489Z"
    }
   },
   "outputs": [
    {
     "data": {
      "text/plain": [
       "array([ 0.05095907, -0.61251057,  0.10890061,  0.58079752,  0.46215055,\n",
       "        0.02262839, -0.99446349, -0.48279665,  0.4648485 , -1.10624536,\n",
       "        0.0189732 ,  0.10095223, -0.2827241 , -0.11299286, -0.23716   ,\n",
       "       -0.6440586 , -0.86653119,  0.07131673, -0.1515721 ,  0.5718733 ,\n",
       "        0.64156821,  0.61036423,  0.01293283, -0.55091396, -0.23340435,\n",
       "       -0.10430262, -0.28616885])"
      ]
     },
     "execution_count": 77,
     "metadata": {},
     "output_type": "execute_result"
    }
   ],
   "source": [
    "pre_y_sgd=sgd.predict(X_test)\n",
    "pre_y_sgd "
   ]
  },
  {
   "cell_type": "code",
   "execution_count": 78,
   "metadata": {
    "ExecuteTime": {
     "end_time": "2020-10-19T08:41:42.781421Z",
     "start_time": "2020-10-19T08:41:42.565998Z"
    }
   },
   "outputs": [
    {
     "data": {
      "image/png": "[encoded data removed]",
      "text/plain": [
       "<Figure size 864x360 with 1 Axes>"
      ]
     },
     "metadata": {},
     "output_type": "display_data"
    }
   ],
   "source": [
    "fig=plt.figure(figsize=(12,5))\n",
    "plt.plot(range(len(y_test)),y_test,\"b\",label=\"真实值\")\n",
    "plt.plot(range(len(pre_y_sgd)),pre_y_sgd,\"r--\",label=\"预测值\")\n",
    "plt.show() "
   ]
  },
  {
   "cell_type": "markdown",
   "metadata": {},
   "source": [
    "#### 最小二乘法"
   ]
  },
  {
   "cell_type": "code",
   "execution_count": 90,
   "metadata": {
    "ExecuteTime": {
     "end_time": "2020-10-19T09:09:42.165754Z",
     "start_time": "2020-10-19T09:09:42.152791Z"
    }
   },
   "outputs": [
    {
     "data": {
      "text/plain": [
       "0.37322674845857695"
      ]
     },
     "execution_count": 90,
     "metadata": {},
     "output_type": "execute_result"
    }
   ],
   "source": [
    "from sklearn import linear_model\n",
    "reg = linear_model.LinearRegression().fit(X_train, y_train)\n",
    "\n",
    "reg.score(X_train,y_train) #训练集上的R方 "
   ]
  },
  {
   "cell_type": "code",
   "execution_count": 89,
   "metadata": {
    "ExecuteTime": {
     "end_time": "2020-10-19T09:09:36.788046Z",
     "start_time": "2020-10-19T09:09:36.782062Z"
    }
   },
   "outputs": [
    {
     "data": {
      "text/plain": [
       "array([8.28237162e-15])"
      ]
     },
     "execution_count": 89,
     "metadata": {},
     "output_type": "execute_result"
    }
   ],
   "source": [
    "reg.intercept_ #截距项 "
   ]
  },
  {
   "cell_type": "code",
   "execution_count": 91,
   "metadata": {
    "ExecuteTime": {
     "end_time": "2020-10-19T09:09:49.394472Z",
     "start_time": "2020-10-19T09:09:49.385532Z"
    }
   },
   "outputs": [
    {
     "data": {
      "text/plain": [
       "array([[ 0.18348347,  0.07640583,  0.07474413, -0.00083838,  0.10057524,\n",
       "         0.03775486, -0.01215046,  0.16160639,  0.29325737,  0.14823234,\n",
       "        -0.03440482, -0.01104687,  0.0982005 , -0.04195235,  0.04054442,\n",
       "         0.01836168,  0.0084153 , -0.03122493,  0.02422955, -0.03562073,\n",
       "         0.01202679, -0.08005236,  0.02319302,  0.1318437 , -0.06471829,\n",
       "        -0.14801428,  0.04549674, -0.15412867]])"
      ]
     },
     "execution_count": 91,
     "metadata": {},
     "output_type": "execute_result"
    }
   ],
   "source": [
    "reg.coef_ #特征权重 "
   ]
  },
  {
   "cell_type": "code",
   "execution_count": 92,
   "metadata": {
    "ExecuteTime": {
     "end_time": "2020-10-19T09:09:51.784661Z",
     "start_time": "2020-10-19T09:09:51.777715Z"
    }
   },
   "outputs": [
    {
     "data": {
      "text/plain": [
       "0.11151561147487121"
      ]
     },
     "execution_count": 92,
     "metadata": {},
     "output_type": "execute_result"
    }
   ],
   "source": [
    "reg.score(X_test,y_test) #测试集上的R方"
   ]
  },
  {
   "cell_type": "code",
   "execution_count": 93,
   "metadata": {
    "ExecuteTime": {
     "end_time": "2020-10-19T09:09:54.052588Z",
     "start_time": "2020-10-19T09:09:54.042638Z"
    }
   },
   "outputs": [
    {
     "data": {
      "text/plain": [
       "array([[ 0.0582652 ],\n",
       "       [-0.61317965],\n",
       "       [ 0.11979258],\n",
       "       [ 0.59002668],\n",
       "       [ 0.45178314],\n",
       "       [ 0.01070173],\n",
       "       [-0.99409602],\n",
       "       [-0.46534274],\n",
       "       [ 0.47774875],\n",
       "       [-1.09436643],\n",
       "       [ 0.02008515],\n",
       "       [ 0.09648103],\n",
       "       [-0.28908424],\n",
       "       [-0.1227056 ],\n",
       "       [-0.2232874 ],\n",
       "       [-0.64410858],\n",
       "       [-0.85698107],\n",
       "       [ 0.06242223],\n",
       "       [-0.1355009 ],\n",
       "       [ 0.5500453 ],\n",
       "       [ 0.62535811],\n",
       "       [ 0.59647346],\n",
       "       [ 0.02629813],\n",
       "       [-0.54276065],\n",
       "       [-0.22890755],\n",
       "       [-0.09246873],\n",
       "       [-0.27766195]])"
      ]
     },
     "execution_count": 93,
     "metadata": {},
     "output_type": "execute_result"
    }
   ],
   "source": [
    "pre_y=reg.predict(X_test)\n",
    "pre_y "
   ]
  },
  {
   "cell_type": "code",
   "execution_count": 94,
   "metadata": {
    "ExecuteTime": {
     "end_time": "2020-10-19T09:09:57.231939Z",
     "start_time": "2020-10-19T09:09:57.075383Z"
    }
   },
   "outputs": [
    {
     "data": {
      "image/png": "[encoded data removed]",
      "text/plain": [
       "<Figure size 864x360 with 1 Axes>"
      ]
     },
     "metadata": {},
     "output_type": "display_data"
    }
   ],
   "source": [
    "fig=plt.figure(figsize=(12,5))\n",
    "plt.plot(range(len(y_test)),y_test,\"b\",label=\"真实值\")\n",
    "plt.plot(range(len(pre_y)),pre_y,\"r--\",label=\"预测值\")\n",
    "plt.show()"
   ]
  },
  {
   "cell_type": "markdown",
   "metadata": {},
   "source": [
    "独热编码后普通线性回归"
   ]
  },
  {
   "cell_type": "code",
   "execution_count": 95,
   "metadata": {
    "ExecuteTime": {
     "end_time": "2020-10-19T09:10:01.219239Z",
     "start_time": "2020-10-19T09:10:01.201287Z"
    }
   },
   "outputs": [
    {
     "data": {
      "text/plain": [
       "0.31027454495324835"
      ]
     },
     "execution_count": 95,
     "metadata": {},
     "output_type": "execute_result"
    }
   ],
   "source": [
    "X1=data1_new.iloc[:,:29] #特征\n",
    "y1=data1_new.iloc[:,29].values #标签\n",
    "X1_train,X1_test,y1_train,y1_test=model_selection.train_test_split(X1,y1,test_size=0.1,random_state=42)\n",
    "sc_X=StandardScaler()\n",
    "X1_train=sc_X.fit_transform(X1_train)#拟合,对X_train进行缩放\n",
    "X1_test=sc_X.transform(X1_test)#sc_X已经被拟合好了，所以对X_test进行缩放时，直接转换X_test\n",
    "sc_y=StandardScaler()\n",
    "y1_train=sc_y.fit_transform(y1_train.reshape(-1,1))\n",
    "y1_test=sc_y.transform(y1_test.reshape(-1,1))\n",
    "from sklearn import linear_model\n",
    "reg1 = linear_model.LinearRegression().fit(X1_train, y1_train)\n",
    "reg1.score(X1_train,y1_train)"
   ]
  },
  {
   "cell_type": "code",
   "execution_count": 96,
   "metadata": {
    "ExecuteTime": {
     "end_time": "2020-10-19T09:10:03.040057Z",
     "start_time": "2020-10-19T09:10:03.035063Z"
    }
   },
   "outputs": [
    {
     "data": {
      "text/plain": [
       "array([0.00052749])"
      ]
     },
     "execution_count": 96,
     "metadata": {},
     "output_type": "execute_result"
    }
   ],
   "source": [
    "reg1.intercept_ #截距项"
   ]
  },
  {
   "cell_type": "code",
   "execution_count": 97,
   "metadata": {
    "ExecuteTime": {
     "end_time": "2020-10-19T09:10:05.221665Z",
     "start_time": "2020-10-19T09:10:05.215682Z"
    }
   },
   "outputs": [
    {
     "data": {
      "text/plain": [
       "array([[ 5.35034323e-02,  1.51793347e-01,  8.29904467e-02,\n",
       "        -1.69522684e-02, -4.70099192e-02,  1.77380723e-02,\n",
       "        -1.75626944e-01,  2.81719088e-01,  1.71385507e-02,\n",
       "         1.92197947e-01,  1.50845278e-03, -4.53247580e+11,\n",
       "        -2.52019637e+11, -8.36498284e+11, -6.54423612e+11,\n",
       "        -2.90390015e+11, -4.53247580e+11, -7.70864267e+11,\n",
       "        -3.54137028e+11, -2.90390015e+11, -6.40848906e+11,\n",
       "        -2.06208671e+11, -9.70445247e+11, -5.81860266e+11,\n",
       "        -4.74331011e+11, -5.55311715e+12, -5.62642696e+12,\n",
       "        -5.73054217e+12, -6.15684050e+12]])"
      ]
     },
     "execution_count": 97,
     "metadata": {},
     "output_type": "execute_result"
    }
   ],
   "source": [
    "reg1.coef_ #特征权重"
   ]
  },
  {
   "cell_type": "code",
   "execution_count": 98,
   "metadata": {
    "ExecuteTime": {
     "end_time": "2020-10-19T09:10:07.032032Z",
     "start_time": "2020-10-19T09:10:07.026049Z"
    }
   },
   "outputs": [
    {
     "data": {
      "text/plain": [
       "array([[-0.02481754],\n",
       "       [ 1.00252621],\n",
       "       [-0.04971988],\n",
       "       [ 0.30976122],\n",
       "       [ 0.18476122],\n",
       "       [-0.53018863],\n",
       "       [-0.21964175],\n",
       "       [-0.36856754],\n",
       "       [-0.49210269],\n",
       "       [-0.69815738],\n",
       "       [ 0.66658871],\n",
       "       [-0.95977003],\n",
       "       [ 0.15741747],\n",
       "       [ 0.3390581 ],\n",
       "       [ 0.32528012],\n",
       "       [-0.66446597],\n",
       "       [ 0.16317075],\n",
       "       [-0.10234815],\n",
       "       [ 0.62606137],\n",
       "       [ 1.2374956 ],\n",
       "       [-0.18828565],\n",
       "       [ 0.05585497],\n",
       "       [-0.46817691],\n",
       "       [-0.60929019],\n",
       "       [-0.09220035],\n",
       "       [ 1.92000668],\n",
       "       [-0.12930972]])"
      ]
     },
     "execution_count": 98,
     "metadata": {},
     "output_type": "execute_result"
    }
   ],
   "source": [
    "pre1_y=reg1.predict(X1_test)\n",
    "pre1_y "
   ]
  },
  {
   "cell_type": "code",
   "execution_count": 99,
   "metadata": {
    "ExecuteTime": {
     "end_time": "2020-10-19T09:10:10.067622Z",
     "start_time": "2020-10-19T09:10:09.902066Z"
    }
   },
   "outputs": [
    {
     "data": {
      "image/png": "[encoded data removed]",
      "text/plain": [
       "<Figure size 864x360 with 1 Axes>"
      ]
     },
     "metadata": {},
     "output_type": "display_data"
    }
   ],
   "source": [
    "fig=plt.figure(figsize=(12,5))\n",
    "plt.plot(range(len(y_test)),y_test,\"b\",label=\"真实值\")\n",
    "plt.plot(range(len(pre_y)),pre_y,\"r--\",label=\"哑编码后预测值\")\n",
    "plt.plot(range(len(pre1_y)),pre_y,\"y*\",label=\"独热编码后预测值\")\n",
    "plt.show()"
   ]
  },
  {
   "cell_type": "markdown",
   "metadata": {},
   "source": [
    "#### 岭回归(ridge)"
   ]
  },
  {
   "cell_type": "code",
   "execution_count": 100,
   "metadata": {
    "ExecuteTime": {
     "end_time": "2020-10-19T09:10:25.522060Z",
     "start_time": "2020-10-19T09:10:25.162614Z"
    }
   },
   "outputs": [
    {
     "data": {
      "text/plain": [
       "0.3732213368028836"
      ]
     },
     "execution_count": 100,
     "metadata": {},
     "output_type": "execute_result"
    }
   ],
   "source": [
    "rid=linear_model.Ridge().fit(X_train, y_train)\n",
    "\n",
    "rid.score(X_train, y_train) ##训练集上的R方"
   ]
  },
  {
   "cell_type": "code",
   "execution_count": 101,
   "metadata": {
    "ExecuteTime": {
     "end_time": "2020-10-19T09:10:29.137947Z",
     "start_time": "2020-10-19T09:10:29.133950Z"
    }
   },
   "outputs": [
    {
     "data": {
      "text/plain": [
       "array([8.23928766e-15])"
      ]
     },
     "execution_count": 101,
     "metadata": {},
     "output_type": "execute_result"
    }
   ],
   "source": [
    "rid.intercept_ #截距项"
   ]
  },
  {
   "cell_type": "code",
   "execution_count": 102,
   "metadata": {
    "ExecuteTime": {
     "end_time": "2020-10-19T09:10:31.382940Z",
     "start_time": "2020-10-19T09:10:31.375962Z"
    }
   },
   "outputs": [
    {
     "data": {
      "text/plain": [
       "array([[ 0.18252956,  0.07611827,  0.07357823, -0.00070823,  0.10045007,\n",
       "         0.03726593, -0.01221446,  0.16062702,  0.29191973,  0.14777991,\n",
       "        -0.03421705, -0.01154297,  0.09658244, -0.04316446,  0.03988146,\n",
       "         0.01801698,  0.00689384, -0.03177201,  0.02350138, -0.03706789,\n",
       "         0.01150414, -0.08127087,  0.02204447,  0.13061607, -0.0640068 ,\n",
       "        -0.14701647,  0.04624497, -0.15398144]])"
      ]
     },
     "execution_count": 102,
     "metadata": {},
     "output_type": "execute_result"
    }
   ],
   "source": [
    "rid.coef_ #特征权重"
   ]
  },
  {
   "cell_type": "code",
   "execution_count": 103,
   "metadata": {
    "ExecuteTime": {
     "end_time": "2020-10-19T09:10:33.331414Z",
     "start_time": "2020-10-19T09:10:33.327457Z"
    }
   },
   "outputs": [
    {
     "data": {
      "text/plain": [
       "0.11212164180655693"
      ]
     },
     "execution_count": 103,
     "metadata": {},
     "output_type": "execute_result"
    }
   ],
   "source": [
    "rid.score(X_test,y_test)"
   ]
  },
  {
   "cell_type": "code",
   "execution_count": 104,
   "metadata": {
    "ExecuteTime": {
     "end_time": "2020-10-19T09:10:34.978411Z",
     "start_time": "2020-10-19T09:10:34.972437Z"
    }
   },
   "outputs": [
    {
     "data": {
      "text/plain": [
       "array([[ 0.05686583],\n",
       "       [-0.60859554],\n",
       "       [ 0.1196631 ],\n",
       "       [ 0.58603547],\n",
       "       [ 0.45078368],\n",
       "       [ 0.01133094],\n",
       "       [-0.98944205],\n",
       "       [-0.46646059],\n",
       "       [ 0.47299433],\n",
       "       [-1.09148018],\n",
       "       [ 0.01932528],\n",
       "       [ 0.09570054],\n",
       "       [-0.28689651],\n",
       "       [-0.11989685],\n",
       "       [-0.22382088],\n",
       "       [-0.64150471],\n",
       "       [-0.85525547],\n",
       "       [ 0.06175206],\n",
       "       [-0.13659963],\n",
       "       [ 0.54995862],\n",
       "       [ 0.62169933],\n",
       "       [ 0.59499231],\n",
       "       [ 0.02499514],\n",
       "       [-0.54186217],\n",
       "       [-0.22748605],\n",
       "       [-0.09218039],\n",
       "       [-0.27902093]])"
      ]
     },
     "execution_count": 104,
     "metadata": {},
     "output_type": "execute_result"
    }
   ],
   "source": [
    "pre_y_rid=rid.predict(X_test)\n",
    "pre_y_rid "
   ]
  },
  {
   "cell_type": "code",
   "execution_count": 105,
   "metadata": {
    "ExecuteTime": {
     "end_time": "2020-10-19T09:10:38.194240Z",
     "start_time": "2020-10-19T09:10:38.035696Z"
    }
   },
   "outputs": [
    {
     "data": {
      "image/png": "[encoded data removed]",
      "text/plain": [
       "<Figure size 864x360 with 1 Axes>"
      ]
     },
     "metadata": {},
     "output_type": "display_data"
    }
   ],
   "source": [
    "fig=plt.figure(figsize=(12,5))\n",
    "plt.plot(range(len(y_test)),y_test,\"b\",label=\"真实值\")\n",
    "plt.plot(range(len(pre_y_rid)),pre_y_rid,\"r--\",label=\"预测值\")\n",
    "plt.show()"
   ]
  },
  {
   "cell_type": "markdown",
   "metadata": {},
   "source": [
    "#### Lasso回归"
   ]
  },
  {
   "cell_type": "code",
   "execution_count": 106,
   "metadata": {
    "ExecuteTime": {
     "end_time": "2020-10-19T09:10:41.144449Z",
     "start_time": "2020-10-19T09:10:41.098543Z"
    }
   },
   "outputs": [
    {
     "data": {
      "text/plain": [
       "0.0"
      ]
     },
     "execution_count": 106,
     "metadata": {},
     "output_type": "execute_result"
    }
   ],
   "source": [
    "las=linear_model.Lasso().fit(X_train, y_train)\n",
    "las.score(X_train, y_train)"
   ]
  },
  {
   "cell_type": "code",
   "execution_count": 107,
   "metadata": {
    "ExecuteTime": {
     "end_time": "2020-10-19T09:10:43.002689Z",
     "start_time": "2020-10-19T09:10:42.996744Z"
    }
   },
   "outputs": [
    {
     "data": {
      "text/plain": [
       "array([-6.68920986e-17])"
      ]
     },
     "execution_count": 107,
     "metadata": {},
     "output_type": "execute_result"
    }
   ],
   "source": [
    "las.intercept_"
   ]
  },
  {
   "cell_type": "code",
   "execution_count": 108,
   "metadata": {
    "ExecuteTime": {
     "end_time": "2020-10-19T09:10:44.893760Z",
     "start_time": "2020-10-19T09:10:44.884808Z"
    }
   },
   "outputs": [
    {
     "data": {
      "text/plain": [
       "array([ 0.,  0.,  0.,  0.,  0., -0.,  0.,  0.,  0.,  0.,  0., -0.,  0.,\n",
       "       -0.,  0.,  0., -0., -0.,  0., -0., -0., -0.,  0.,  0., -0., -0.,\n",
       "        0., -0.])"
      ]
     },
     "execution_count": 108,
     "metadata": {},
     "output_type": "execute_result"
    }
   ],
   "source": [
    "las.coef_ #特征权重"
   ]
  },
  {
   "cell_type": "code",
   "execution_count": 109,
   "metadata": {
    "ExecuteTime": {
     "end_time": "2020-10-19T09:10:51.919395Z",
     "start_time": "2020-10-19T09:10:51.912416Z"
    }
   },
   "outputs": [
    {
     "data": {
      "text/plain": [
       "-0.002350208810076415"
      ]
     },
     "execution_count": 109,
     "metadata": {},
     "output_type": "execute_result"
    }
   ],
   "source": [
    "las.score(X_test,y_test)"
   ]
  },
  {
   "cell_type": "code",
   "execution_count": 160,
   "metadata": {
    "ExecuteTime": {
     "end_time": "2020-10-19T15:51:37.809210Z",
     "start_time": "2020-10-19T15:51:37.735635Z"
    }
   },
   "outputs": [
    {
     "data": {
      "text/plain": [
       "array([-6.68920986e-17, -6.68920986e-17, -6.68920986e-17, -6.68920986e-17,\n",
       "       -6.68920986e-17, -6.68920986e-17, -6.68920986e-17, -6.68920986e-17,\n",
       "       -6.68920986e-17, -6.68920986e-17, -6.68920986e-17, -6.68920986e-17,\n",
       "       -6.68920986e-17, -6.68920986e-17, -6.68920986e-17, -6.68920986e-17,\n",
       "       -6.68920986e-17, -6.68920986e-17, -6.68920986e-17, -6.68920986e-17,\n",
       "       -6.68920986e-17, -6.68920986e-17, -6.68920986e-17, -6.68920986e-17,\n",
       "       -6.68920986e-17, -6.68920986e-17, -6.68920986e-17])"
      ]
     },
     "execution_count": 160,
     "metadata": {},
     "output_type": "execute_result"
    }
   ],
   "source": [
    "pre_y_las=las.predict(X_test)\n",
    "pre_y_las"
   ]
  },
  {
   "cell_type": "code",
   "execution_count": 161,
   "metadata": {
    "ExecuteTime": {
     "end_time": "2020-10-19T15:51:47.702117Z",
     "start_time": "2020-10-19T15:51:46.774568Z"
    }
   },
   "outputs": [
    {
     "data": {
      "image/png": "[encoded data removed]",
      "text/plain": [
       "<Figure size 864x360 with 1 Axes>"
      ]
     },
     "metadata": {},
     "output_type": "display_data"
    }
   ],
   "source": [
    "fig=plt.figure(figsize=(12,5))\n",
    "plt.plot(range(len(y_test)),y_test,\"b\",label=\"真实值\")\n",
    "plt.plot(range(len(pre_y_las)),pre_y_las,\"r--\",label=\"预测值\")\n",
    "plt.show()"
   ]
  }
 ],
 "metadata": {
  "hide_input": false,
  "kernelspec": {
   "display_name": "Python 3",
   "language": "python",
   "name": "python3"
  },
  "language_info": {
   "codemirror_mode": {
    "name": "ipython",
    "version": 3
   },
   "file_extension": ".py",
   "mimetype": "text/x-python",
   "name": "python",
   "nbconvert_exporter": "python",
   "pygments_lexer": "ipython3",
   "version": "3.7.6"
  },
  "latex_envs": {
   "LaTeX_envs_menu_present": true,
   "autoclose": false,
   "autocomplete": true,
   "bibliofile": "biblio.bib",
   "cite_by": "apalike",
   "current_citInitial": 1,
   "eqLabelWithNumbers": true,
   "eqNumInitial": 1,
   "hotkeys": {
    "equation": "Ctrl-E",
    "itemize": "Ctrl-I"
   },
   "labels_anchors": false,
   "latex_user_defs": false,
   "report_style_numbering": false,
   "user_envs_cfg": false
  },
  "nbTranslate": {
   "displayLangs": [
    "*"
   ],
   "hotkey": "alt-t",
   "langInMainMenu": true,
   "sourceLang": "en",
   "targetLang": "fr",
   "useGoogleTranslate": true
  },
  "toc": {
   "base_numbering": 1,
   "nav_menu": {},
   "number_sections": true,
   "sideBar": true,
   "skip_h1_title": false,
   "title_cell": "Table of Contents",
   "title_sidebar": "Contents",
   "toc_cell": false,
   "toc_position": {
    "height": "calc(100% - 180px)",
    "left": "10px",
    "top": "150px",
    "width": "227.153px"
   },
   "toc_section_display": true,
   "toc_window_display": true
  },
  "varInspector": {
   "cols": {
    "lenName": 16,
    "lenType": 16,
    "lenVar": 40
   },
   "kernels_config": {
    "python": {
     "delete_cmd_postfix": "",
     "delete_cmd_prefix": "del ",
     "library": "var_list.py",
     "varRefreshCmd": "print(var_dic_list())"
    },
    "r": {
     "delete_cmd_postfix": ") ",
     "delete_cmd_prefix": "rm(",
     "library": "var_list.r",
     "varRefreshCmd": "cat(var_dic_list()) "
    }
   },
   "types_to_exclude": [
    "module",
    "function",
    "builtin_function_or_method",
    "instance",
    "_Feature"
   ],
   "window_display": false
  }
 },
 "nbformat": 4,
 "nbformat_minor": 4
}
