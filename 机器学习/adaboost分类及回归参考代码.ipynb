{
 "cells": [
  {
   "cell_type": "markdown",
   "metadata": {
    "slideshow": {
     "slide_type": "slide"
    }
   },
   "source": [
    "#  1. AdaBoost分类"
   ]
  },
  {
   "cell_type": "markdown",
   "metadata": {
    "slideshow": {
     "slide_type": "slide"
    }
   },
   "source": [
    "## AdaBoost简介\n",
    "\n",
    "    Boosting, 也称为增强学习或提升法，是一种重要的集成学习技术， 能够将预测精度仅比随机猜度略高的弱学习器增强为预测精度高的强学习器，这在直接构造强学习器非常困难的情况下，为学习算法的设计提供了一种有效的新思路和新方法。其中最为成功应用的是，Yoav Freund和Robert Schapire在1995年提出的AdaBoost算法。\n",
    "    \n",
    "    AdaBoost是英文\"Adaptive Boosting\"（自适应增强）的缩写，它的自适应在于：前一个基本分类器被错误分类的样本的权值会增大，而正确分类的样本的权值会减小，并再次用来训练下一个基本分类器。同时，在每一轮迭代中，加入一个新的弱分类器，直到达到某个预定的足够小的错误率或达到预先指定的最大迭代次数才确定最终的强分类器。"
   ]
  },
  {
   "cell_type": "markdown",
   "metadata": {
    "slideshow": {
     "slide_type": "slide"
    }
   },
   "source": [
    "## Adaboost分类算法步骤\n",
    "\n",
    "    1.初始化训练数据的权值分布D1\n",
    "   \n",
    "       假设有N个训练样本数据，则每一个训练样本最开始时，都被赋予相同的权值：w1=1/N。\n",
    "       \n",
    "    2.训练弱分类器hi。\n",
    "   \n",
    "       具体训练过程中是：如果某个训练样本点，被弱分类器hi准确地分类，那么在构造下一个训练集中，它对应的权值要减小；相反，如果某个训练样本点被错误分类，那么它的权值就应该增大。权值更新过的样本集被用于训练下一个分类器，整个训练过程如此迭代地进行下去。\n",
    "       \n",
    "    3.将各个训练得到的弱分类器组合成一个强分类器。\n",
    "   \n",
    "       各个弱分类器的训练过程结束后，加大分类误差率小的弱分类器的权重，使其在最终的分类函数中起着较大的决定作用，而降低分类误差率大的弱分类器的权重，使其在最终的分类函数中起着较小的决定作用。\n",
    "       换而言之，误差率低的弱分类器在最终分类器中占的权重较大，否则较小。"
   ]
  },
  {
   "cell_type": "markdown",
   "metadata": {
    "slideshow": {
     "slide_type": "slide"
    }
   },
   "source": [
    "## AdaBoost分类算法过程\n",
    "![](https://tva1.sinaimg.cn/large/0081Kckwly1gkpllvzrp7j30lg05t0uq.jpg)\n",
    "![](https://tva1.sinaimg.cn/large/0081Kckwly1gkplguk55mj30cj028js8.jpg)\n",
    "![](https://tva1.sinaimg.cn/large/0081Kckwly1gkpljz3g0lj30ch083juu.jpg)\n",
    "![](https://tva1.sinaimg.cn/large/0081Kckwly1gkplku94crj30cc03pdgw.jpg)\n",
    "![](https://tva1.sinaimg.cn/large/0081Kckwly1gkplpobcj2j30ft0an0xa.jpg)"
   ]
  },
  {
   "cell_type": "markdown",
   "metadata": {},
   "source": [
    "## AdaBoost分类实例\n",
    "例：给定如图所示的训练样本，弱分类器采用平行于坐标轴的直线，用Adaboost算法的实现强分类过程\n",
    "![](https://tva1.sinaimg.cn/large/0081Kckwly1gkplyeo629j30ds01vq45.jpg)\n",
    "![](https://tva1.sinaimg.cn/large/0081Kckwly1gkplyqkh99j30cu0990vp.jpg)\n",
    "\n",
    "**数据分析**\n",
    "\n",
    "    将这10个样本作为训练数据，根据X和Y的对应关系，可把这10个数据分为两类，图中用“+”表示类别1，用“O”表示类别-1。本例使用水平或者垂直的直线作为分类器，图中已经给出了三个弱分类器，即：\n",
    "   ![](https://tva1.sinaimg.cn/large/0081Kckwly1gkpm1nntftj30ai01q3z4.jpg)"
   ]
  },
  {
   "cell_type": "markdown",
   "metadata": {},
   "source": [
    "**初始化**\n",
    "\n",
    "    首先需要初始化训练样本数据的权值分布，每一个训练样本最开始时都被赋予相同的权值：wi=1/N，这样训练样本集的初始权值分布D1(i)：\n",
    "\n",
    "    令每个权值w1i=1/N=0.1，其中，N=10，i=1,2, ...,10，然后分别对于t=1,2,3, ...等值进行迭代（t表示迭代次数，表示第t轮），下表已经给出训练样本的权值分布情况：\n",
    "   ![](https://tva1.sinaimg.cn/large/0081Kckwly1gkpm4mkdfpj30eb02k407.jpg)"
   ]
  },
  {
   "cell_type": "markdown",
   "metadata": {},
   "source": [
    "**第1次迭代t=1**\n",
    "\n",
    "    初试的权值分布D1为1/N（10个数据，每个数据的权值皆初始化为0.1），\n",
    "\n",
    "    D1=[0.1,  0.1, 0.1, 0.1, 0.1, 0.1,0.1, 0.1, 0.1, 0.1]\n",
    "\n",
    "    在权值分布D1的情况下，取已知的三个弱分类器h1、h2和h3中误差率最小的分类器作为第1个基本分类器H1(x)（三个弱分类器的误差率都是0.3，那就取第1个吧）\n",
    "![](https://tva1.sinaimg.cn/large/0081Kckwly1gkpm8hg8b8j30ch01zt9j.jpg)\n",
    "    \n",
    "    在分类器H1(x)=h1情况下，样本点“5 7 8”被错分，因此基本分类器H1(x)的误差率为：\n",
    "![](https://tva1.sinaimg.cn/large/0081Kckwly1gkpm9fhks2j30df033gmx.jpg)\n",
    "    \n",
    "    可见，被误分类样本的权值之和影响误差率e，误差率e影响基本分类器在最终分类器中所占的权重α。\n",
    "![](https://tva1.sinaimg.cn/large/0081Kckwly1gkpmbt78dsj30d50b541m.jpg)"
   ]
  },
  {
   "cell_type": "markdown",
   "metadata": {},
   "source": [
    "    然后，更新训练样本数据的权值分布，用于下一轮迭代，对于正确分类的训练样本“1 2 3 4 6 9 10”（共7个）的权值更新为：\n",
    "![](https://tva1.sinaimg.cn/large/0081Kckwly1gkpmi3c19fj30ci03ttaw.jpg)\n",
    "\n",
    "    这样，第1轮迭代后，最后得到各个样本数据新的权值分布：\n",
    "    D2=[1/14,1/14,1/14,1/14,1/6,1/14,1/6,1/6,1/14,1/14]\n",
    "    由于样本数据“5 7 8”被H1(x)分错了，所以它们的权值由之前的0.1增大到1/6；反之，其它数据皆被分正确，所以它们的权值皆由之前的0.1减小到1/14，下表给出了权值分布的变换情况：\n",
    "![](https://tva1.sinaimg.cn/large/0081Kckwly1gkpmj0wue3j30e3054q4k.jpg)\n",
    "    \n",
    "    可得分类函数：f1(x)= α1H1(x) = 0.4236H1(x)。此时，组合一个基本分类器sign(f1(x))作为强分类器在训练数据集上有3个误分类点（即5 7 8），此时强分类器的训练错误为：0.3"
   ]
  },
  {
   "cell_type": "markdown",
   "metadata": {},
   "source": [
    "**第二次迭代t=2**\n",
    "\n",
    "    在权值分布D2的情况下，再取三个弱分类器h1、h2和h3中误差率最小的分类器作为第2个基本分类器H2(x)： \n",
    "    ①　当取弱分类器h1=X1=2.5时，此时被错分的样本点为“5 7 8”：\n",
    "       误差率e=1/6+1/6+1/6=3/6=1/2；\n",
    "    ②　当取弱分类器h2=X1=8.5时，此时被错分的样本点为“3 4 6”：\n",
    "       误差率e=1/14+1/14+1/14=3/14；\n",
    "    ③　当取弱分类器h3=X2=6.5时，此时被错分的样本点为“1 2 9”：\n",
    "       误差率e=1/14+1/14+1/14=3/14\n",
    "![](https://tva1.sinaimg.cn/large/0081Kckwly1gkpmo6boe4j30cp0aptbq.jpg)\n",
    "    \n",
    "    因此，取当前最小的分类器h2作为第2个基本分类器H2(x)\n",
    "![](https://tva1.sinaimg.cn/large/0081Kckwly1gkpmp8dw4zj303b01gdfz.jpg)    \n",
    "    \n",
    "    显然，H2(x)把样本“3 4 6”分错了，根据D2可知它们的权值为D2(3)=1/14，D2(4)=1/14， D2(6)=1/14，所以H2(x)在训练数据集上的误差率：\n",
    "![](https://tva1.sinaimg.cn/large/0081Kckwly1gkpmpt91h8j30b405pmyw.jpg)    \n",
    "    \n",
    "    这样，第2轮迭代后，最后得到各个样本数据新的权值分布：\n",
    "    D3=[1/22,1/22,1/6,1/6,7/66,1/6,7/66,7/66,1/22,1/22]\n",
    "    下表给出了权值分布的变换情况：\n",
    "![](https://tva1.sinaimg.cn/large/0081Kckwly1gkpmqh1jwoj30e9052wg0.jpg)\n",
    "\n",
    "    可得分类函数：f2(x)=0.4236H1(x) + 0.6496H2(x)。此时，组合两个基本分类器sign(f2(x))作为强分类器在训练数据集上有3个误分类点（即3 4 6），此时强分类器的训练错误为：0.3"
   ]
  },
  {
   "cell_type": "markdown",
   "metadata": {},
   "source": [
    "**第三次迭代t=3**\n",
    "\n",
    "    在权值分布D3的情况下，再取三个弱分类器h1、h2和h3中误差率最小的分类器作为第3个基本分类器H3(x)：\n",
    "    ①　当取弱分类器h1=X1=2.5时，此时被错分的样本点为“5 7 8”：\n",
    "       误差率e=7/66+7/66+7/66=7/22；\n",
    "    ②　当取弱分类器h2=X1=8.5时，此时被错分的样本点为“3 4 6”：\n",
    "       误差率e=1/6+1/6+1/6=1/2=0.5；\n",
    "    ③　当取弱分类器h3=X2=6.5时，此时被错分的样本点为“1 2 9”：\n",
    "       误差率e=1/22+1/22+1/22=3/22；\n",
    "![](https://tva1.sinaimg.cn/large/0081Kckwly1gkpmwroqo3j30ct091mzq.jpg)       \n",
    "     \n",
    "     因此，取当前最小的分类器h3作为第3个基本分类器H3(x)：\n",
    "![](https://tva1.sinaimg.cn/large/0081Kckwly1gkpmxijifdj30cj084q5u.jpg)     \n",
    "     \n",
    "     这样，第3轮迭代后，得到各个样本数据新的权值分布为：\n",
    "     D4=[1/6,1/6,11/114,11/114,7/114,11/114,7/114,7/114,1/6,1/38]\n",
    "     下表给出了权值分布的变换情况：\n",
    "![](https://tva1.sinaimg.cn/large/0081Kckwly1gkpmxx00psj30dw05m408.jpg)     \n",
    "     \n",
    "     可得分类函数：f3(x)=0.4236H1(x) + 0.6496H2(x)+0.9229H3(x)。此时，组合三个基本分类器sign(f3(x))作为强分类器，在训练数据集上有0个误分类点。至此，整个训练过程结束。\n",
    "     整合所有分类器，可得最终的强分类器为：\n",
    "![](https://tva1.sinaimg.cn/large/0081Kckwly1gkpmy92pojj30d301qwf4.jpg)     \n",
    "     \n",
    "     这个强分类器Hfinal对训练样本的错误率为0！"
   ]
  },
  {
   "cell_type": "markdown",
   "metadata": {},
   "source": [
    "**Adaboost的主要优点**\n",
    "\n",
    "　　  （1）Adaboost提供一种框架，在框架内可以使用各种方法构建子分类器。可以使用简单的弱分类器，不用对特征进行筛选。\n",
    "\n",
    "     （2）Adaboost算法不需要弱分类器的先验知识，最后得到的强分类器的分类精度依赖于所有弱分类器。无论是应用于人造数据还是真实数据，Adaboost都能显著的提高学习精度。\n",
    "\n",
    "     （3）Adaboost算法不需要预先知道弱分类器的错误率上限，且最后得到的强分类器的分类精度依赖于所有弱分类器的分类精度，可以深挖分类器的能力。Adaboost可以根据弱分类器的反馈，自适应地调整假定的错误率，执行的效率高。\n",
    "\n",
    "     （4）Adaboost对同一个训练样本集训练不同的弱分类器，按照一定的方法把这些弱分类器集合起来，构造一个分类能力很强的强分类器，即“三个臭皮匠赛过一个诸葛亮”。\n",
    "\n",
    "**Adaboost的主要缺点**\n",
    "\n",
    "　　　 在Adaboost训练过程中，Adaboost会使得难于分类样本的权值呈指数增长，训练将会过于偏向这类困难的样本，导致Adaboost算法易受噪声干扰。此外，Adaboost依赖于弱分类器，而弱分类器的训练时间往往很长。"
   ]
  },
  {
   "cell_type": "markdown",
   "metadata": {},
   "source": [
    "## 自编函数实现"
   ]
  },
  {
   "cell_type": "code",
   "execution_count": 233,
   "metadata": {},
   "outputs": [],
   "source": [
    "import numpy as np\n",
    "import math\n",
    "#训练样本数据\n",
    "x=[1.5,2.2,3.1,4.6,6.8,6.5,7.9,8.7,9.8,10.2] #特征\n",
    "y=[1,1,-1,-1,1,-1,1,1,-1,-1] #类别，分别用-1和1表示\n",
    "x=np.array(x)\n",
    "y=np.array(y) \n",
    "n=len(y)"
   ]
  },
  {
   "cell_type": "code",
   "execution_count": 234,
   "metadata": {},
   "outputs": [],
   "source": [
    "x1=np.zeros(len(x))\n",
    "x2=np.zeros(len(x))\n",
    "for i in range(len(x)):\n",
    "    x1[i]=math.modf(x[i])[1] #整数部分\n",
    "    x2[i]=math.modf(x[i])[0]*10 #小数部分"
   ]
  },
  {
   "cell_type": "code",
   "execution_count": 235,
   "metadata": {},
   "outputs": [
    {
     "data": {
      "image/png": "[encoded data removed]",
      "text/plain": [
       "<Figure size 432x288 with 1 Axes>"
      ]
     },
     "metadata": {
      "needs_background": "light"
     },
     "output_type": "display_data"
    }
   ],
   "source": [
    "#绘制样本分布图\n",
    "import matplotlib.pyplot as plt\n",
    "#plt.rcParams['font.sans-serif']=['SimHei']\n",
    "plt.rcParams['font.sans-serif'] = ['Arial Unicode MS']\n",
    "\n",
    "plt.plot(x1[y==1],x2[y==1],'b+',MarkerSize=10);\n",
    "plt.plot(x1[y==-1],x2[y==-1],'ro',MarkerSize=10);\n",
    "plt.xticks(np.arange(0, 11, 1))\n",
    "plt.yticks(np.arange(0, 11, 1))\n",
    "plt.legend((\"y=1\",\"y=-1\"),loc=\"upper left\")\n",
    "plt.title('原始数据分布')\n",
    "plt.show()"
   ]
  },
  {
   "cell_type": "code",
   "execution_count": 236,
   "metadata": {},
   "outputs": [],
   "source": [
    "#定义弱分类器\n",
    "def h12(x,th):\n",
    "    pre_y=np.zeros(len(x))\n",
    "    for i in range(len(x)):\n",
    "        if x[i]<th:\n",
    "            pre_y[i]=1\n",
    "        else:\n",
    "            pre_y[i]=-1\n",
    "    return pre_y"
   ]
  },
  {
   "cell_type": "code",
   "execution_count": 237,
   "metadata": {},
   "outputs": [],
   "source": [
    "#定义弱分类器\n",
    "def h3(x,th):\n",
    "    pre_y=np.zeros(len(x))\n",
    "    for i in range(len(x)):\n",
    "        if x[i]>th:\n",
    "            pre_y[i]=1\n",
    "        else:\n",
    "            pre_y[i]=-1\n",
    "    return pre_y"
   ]
  },
  {
   "cell_type": "markdown",
   "metadata": {},
   "source": [
    "### 第一轮迭代"
   ]
  },
  {
   "cell_type": "code",
   "execution_count": 238,
   "metadata": {},
   "outputs": [],
   "source": [
    "from math import log\n",
    "\n",
    "D1=np.ones(len(x))/len(x)\n",
    "D2=np.ones(len(x))/len(x)\n",
    "\n",
    "pre_y1=h12(x1,2.5)\n",
    "pre_y2=h12(x1,8.5)\n",
    "pre_y3=h3(x2,6.5)\n",
    "\n",
    "es1=np.zeros(3)\n",
    "es1[0]=np.sum(D1[y!=pre_y1])\n",
    "es1[1]=np.sum(D1[y!=pre_y2])\n",
    "es1[2]=np.sum(D1[y!=pre_y3])\n",
    "\n",
    "a1=0.5*log((1-min(es1))/min(es1)) #模型权重"
   ]
  },
  {
   "cell_type": "code",
   "execution_count": 239,
   "metadata": {},
   "outputs": [
    {
     "data": {
      "text/plain": [
       "array([0.3, 0.3, 0.3])"
      ]
     },
     "execution_count": 239,
     "metadata": {},
     "output_type": "execute_result"
    }
   ],
   "source": [
    "es1   #取第一个分类器"
   ]
  },
  {
   "cell_type": "code",
   "execution_count": 240,
   "metadata": {},
   "outputs": [
    {
     "data": {
      "text/plain": [
       "0.4236489301936017"
      ]
     },
     "execution_count": 240,
     "metadata": {},
     "output_type": "execute_result"
    }
   ],
   "source": [
    "a1"
   ]
  },
  {
   "cell_type": "code",
   "execution_count": 241,
   "metadata": {},
   "outputs": [],
   "source": [
    "for i in range(len(x)):  #更新权重\n",
    "    pre_y=h12(x1,2.5)\n",
    "    D2[y==pre_y]=D1[y==pre_y]/(2*(1-min(es1)))\n",
    "    D2[y!=pre_y]=D1[y!=pre_y]/(2*min(es1))"
   ]
  },
  {
   "cell_type": "code",
   "execution_count": 242,
   "metadata": {},
   "outputs": [
    {
     "data": {
      "text/plain": [
       "array([0.07142857, 0.07142857, 0.07142857, 0.07142857, 0.16666667,\n",
       "       0.07142857, 0.16666667, 0.16666667, 0.07142857, 0.07142857])"
      ]
     },
     "execution_count": 242,
     "metadata": {},
     "output_type": "execute_result"
    }
   ],
   "source": [
    "D2"
   ]
  },
  {
   "cell_type": "code",
   "execution_count": 243,
   "metadata": {},
   "outputs": [
    {
     "data": {
      "image/png": "[encoded data removed]",
      "text/plain": [
       "<Figure size 432x288 with 1 Axes>"
      ]
     },
     "metadata": {
      "needs_background": "light"
     },
     "output_type": "display_data"
    }
   ],
   "source": [
    "plt.plot(x1[y==1],x2[y==1],'b+',LineWidth=4,MarkerSize=10)\n",
    "plt.plot(x1[y==-1],x2[y==-1],'ro',LineWidth=4,MarkerSize=10)\n",
    "plt.axvline(x=2.5,ls=\"-\",c=\"green\")#添加垂直直线\n",
    "plt.xticks(np.arange(0, 11, 1))\n",
    "plt.yticks(np.arange(0, 11, 1))\n",
    "plt.legend((\"y=1\",\"y=-1\"),loc=\"upper left\")\n",
    "plt.title('第一轮数据分布')\n",
    "plt.show()"
   ]
  },
  {
   "cell_type": "code",
   "execution_count": 244,
   "metadata": {
    "scrolled": true
   },
   "outputs": [
    {
     "data": {
      "text/html": [
       "<div>\n",
       "<style scoped>\n",
       "    .dataframe tbody tr th:only-of-type {\n",
       "        vertical-align: middle;\n",
       "    }\n",
       "\n",
       "    .dataframe tbody tr th {\n",
       "        vertical-align: top;\n",
       "    }\n",
       "\n",
       "    .dataframe thead th {\n",
       "        text-align: right;\n",
       "    }\n",
       "</style>\n",
       "<table border=\"1\" class=\"dataframe\">\n",
       "  <thead>\n",
       "    <tr style=\"text-align: right;\">\n",
       "      <th></th>\n",
       "      <th>x</th>\n",
       "      <th>y</th>\n",
       "      <th>D1</th>\n",
       "      <th>D2</th>\n",
       "      <th>预测1</th>\n",
       "    </tr>\n",
       "  </thead>\n",
       "  <tbody>\n",
       "    <tr>\n",
       "      <th>0</th>\n",
       "      <td>1.5</td>\n",
       "      <td>1</td>\n",
       "      <td>0.1</td>\n",
       "      <td>0.071429</td>\n",
       "      <td>1.0</td>\n",
       "    </tr>\n",
       "    <tr>\n",
       "      <th>1</th>\n",
       "      <td>2.2</td>\n",
       "      <td>1</td>\n",
       "      <td>0.1</td>\n",
       "      <td>0.071429</td>\n",
       "      <td>1.0</td>\n",
       "    </tr>\n",
       "    <tr>\n",
       "      <th>2</th>\n",
       "      <td>3.1</td>\n",
       "      <td>-1</td>\n",
       "      <td>0.1</td>\n",
       "      <td>0.071429</td>\n",
       "      <td>-1.0</td>\n",
       "    </tr>\n",
       "    <tr>\n",
       "      <th>3</th>\n",
       "      <td>4.6</td>\n",
       "      <td>-1</td>\n",
       "      <td>0.1</td>\n",
       "      <td>0.071429</td>\n",
       "      <td>-1.0</td>\n",
       "    </tr>\n",
       "    <tr>\n",
       "      <th>4</th>\n",
       "      <td>6.8</td>\n",
       "      <td>1</td>\n",
       "      <td>0.1</td>\n",
       "      <td>0.166667</td>\n",
       "      <td>-1.0</td>\n",
       "    </tr>\n",
       "    <tr>\n",
       "      <th>5</th>\n",
       "      <td>6.5</td>\n",
       "      <td>-1</td>\n",
       "      <td>0.1</td>\n",
       "      <td>0.071429</td>\n",
       "      <td>-1.0</td>\n",
       "    </tr>\n",
       "    <tr>\n",
       "      <th>6</th>\n",
       "      <td>7.9</td>\n",
       "      <td>1</td>\n",
       "      <td>0.1</td>\n",
       "      <td>0.166667</td>\n",
       "      <td>-1.0</td>\n",
       "    </tr>\n",
       "    <tr>\n",
       "      <th>7</th>\n",
       "      <td>8.7</td>\n",
       "      <td>1</td>\n",
       "      <td>0.1</td>\n",
       "      <td>0.166667</td>\n",
       "      <td>-1.0</td>\n",
       "    </tr>\n",
       "    <tr>\n",
       "      <th>8</th>\n",
       "      <td>9.8</td>\n",
       "      <td>-1</td>\n",
       "      <td>0.1</td>\n",
       "      <td>0.071429</td>\n",
       "      <td>-1.0</td>\n",
       "    </tr>\n",
       "    <tr>\n",
       "      <th>9</th>\n",
       "      <td>10.2</td>\n",
       "      <td>-1</td>\n",
       "      <td>0.1</td>\n",
       "      <td>0.071429</td>\n",
       "      <td>-1.0</td>\n",
       "    </tr>\n",
       "  </tbody>\n",
       "</table>\n",
       "</div>"
      ],
      "text/plain": [
       "      x  y   D1        D2  预测1\n",
       "0   1.5  1  0.1  0.071429  1.0\n",
       "1   2.2  1  0.1  0.071429  1.0\n",
       "2   3.1 -1  0.1  0.071429 -1.0\n",
       "3   4.6 -1  0.1  0.071429 -1.0\n",
       "4   6.8  1  0.1  0.166667 -1.0\n",
       "5   6.5 -1  0.1  0.071429 -1.0\n",
       "6   7.9  1  0.1  0.166667 -1.0\n",
       "7   8.7  1  0.1  0.166667 -1.0\n",
       "8   9.8 -1  0.1  0.071429 -1.0\n",
       "9  10.2 -1  0.1  0.071429 -1.0"
      ]
     },
     "execution_count": 244,
     "metadata": {},
     "output_type": "execute_result"
    }
   ],
   "source": [
    "import pandas as pd\n",
    "# 利用字典\n",
    "dict1={'x':x,'y':y,'D1':D1,'D2':D2,'预测1':h12(x1,2.5)}\n",
    "table1=pd.DataFrame(dict1)\n",
    "table1"
   ]
  },
  {
   "cell_type": "code",
   "execution_count": 245,
   "metadata": {},
   "outputs": [
    {
     "data": {
      "text/plain": [
       "array([ 1.,  1., -1., -1., -1., -1., -1., -1., -1., -1.])"
      ]
     },
     "execution_count": 245,
     "metadata": {},
     "output_type": "execute_result"
    }
   ],
   "source": [
    "result1=np.sign(a1*h12(x1,2.5))  #第一次迭代后模型结果\n",
    "result1"
   ]
  },
  {
   "cell_type": "code",
   "execution_count": 246,
   "metadata": {},
   "outputs": [
    {
     "data": {
      "text/plain": [
       "0.7"
      ]
     },
     "execution_count": 246,
     "metadata": {},
     "output_type": "execute_result"
    }
   ],
   "source": [
    "from sklearn.metrics import accuracy_score\n",
    "accuracy_score(y,result1) "
   ]
  },
  {
   "cell_type": "markdown",
   "metadata": {},
   "source": [
    "### 第二轮迭代"
   ]
  },
  {
   "cell_type": "code",
   "execution_count": 247,
   "metadata": {},
   "outputs": [],
   "source": [
    "#最优分类器\n",
    "es2=np.zeros(3)\n",
    "es2[0]=np.sum(D2[y!=pre_y1])\n",
    "es2[1]=np.sum(D2[y!=pre_y2])\n",
    "es2[2]=np.sum(D2[y!=pre_y3])\n",
    "\n",
    "a2=0.5*log((1-min(es2))/min(es2)) #模型权重"
   ]
  },
  {
   "cell_type": "code",
   "execution_count": 248,
   "metadata": {},
   "outputs": [
    {
     "data": {
      "text/plain": [
       "array([0.5       , 0.21428571, 0.21428571])"
      ]
     },
     "execution_count": 248,
     "metadata": {},
     "output_type": "execute_result"
    }
   ],
   "source": [
    "es2 #取第二个分类器"
   ]
  },
  {
   "cell_type": "code",
   "execution_count": 249,
   "metadata": {},
   "outputs": [
    {
     "data": {
      "text/plain": [
       "0.6496414920651304"
      ]
     },
     "execution_count": 249,
     "metadata": {},
     "output_type": "execute_result"
    }
   ],
   "source": [
    "a2"
   ]
  },
  {
   "cell_type": "code",
   "execution_count": 250,
   "metadata": {},
   "outputs": [],
   "source": [
    "D3=np.ones(len(x))/len(x)\n",
    "for i in range(len(x)):  #更新权重\n",
    "    pre_y=h12(x1,8.5)\n",
    "    D3[y==pre_y]=D2[y==pre_y]/(2*(1-min(es2)))\n",
    "    D3[y!=pre_y]=D2[y!=pre_y]/(2*min(es2))"
   ]
  },
  {
   "cell_type": "code",
   "execution_count": 251,
   "metadata": {},
   "outputs": [
    {
     "data": {
      "text/plain": [
       "array([0.04545455, 0.04545455, 0.16666667, 0.16666667, 0.10606061,\n",
       "       0.16666667, 0.10606061, 0.10606061, 0.04545455, 0.04545455])"
      ]
     },
     "execution_count": 251,
     "metadata": {},
     "output_type": "execute_result"
    }
   ],
   "source": [
    "D3"
   ]
  },
  {
   "cell_type": "code",
   "execution_count": 252,
   "metadata": {},
   "outputs": [
    {
     "data": {
      "image/png": "[encoded data removed]",
      "text/plain": [
       "<Figure size 432x288 with 1 Axes>"
      ]
     },
     "metadata": {
      "needs_background": "light"
     },
     "output_type": "display_data"
    }
   ],
   "source": [
    "plt.plot(x1[y==1],x2[y==1],'b+',LineWidth=4,MarkerSize=10)\n",
    "plt.plot(x1[y==-1],x2[y==-1],'ro',LineWidth=4,MarkerSize=10)\n",
    "plt.axvline(x=8.5,ls=\"-\",c=\"green\")#添加垂直直线\n",
    "plt.xticks(np.arange(0, 11, 1))\n",
    "plt.yticks(np.arange(0, 11, 1))\n",
    "plt.legend((\"y=1\",\"y=-1\"),loc=\"upper left\")\n",
    "plt.title('第二轮数据分布')\n",
    "plt.show()"
   ]
  },
  {
   "cell_type": "code",
   "execution_count": 253,
   "metadata": {},
   "outputs": [
    {
     "data": {
      "text/html": [
       "<div>\n",
       "<style scoped>\n",
       "    .dataframe tbody tr th:only-of-type {\n",
       "        vertical-align: middle;\n",
       "    }\n",
       "\n",
       "    .dataframe tbody tr th {\n",
       "        vertical-align: top;\n",
       "    }\n",
       "\n",
       "    .dataframe thead th {\n",
       "        text-align: right;\n",
       "    }\n",
       "</style>\n",
       "<table border=\"1\" class=\"dataframe\">\n",
       "  <thead>\n",
       "    <tr style=\"text-align: right;\">\n",
       "      <th></th>\n",
       "      <th>x</th>\n",
       "      <th>y</th>\n",
       "      <th>D1</th>\n",
       "      <th>D2</th>\n",
       "      <th>预测1</th>\n",
       "      <th>D3</th>\n",
       "      <th>预测2</th>\n",
       "    </tr>\n",
       "  </thead>\n",
       "  <tbody>\n",
       "    <tr>\n",
       "      <th>0</th>\n",
       "      <td>1.5</td>\n",
       "      <td>1</td>\n",
       "      <td>0.1</td>\n",
       "      <td>0.071429</td>\n",
       "      <td>1.0</td>\n",
       "      <td>0.045455</td>\n",
       "      <td>1.0</td>\n",
       "    </tr>\n",
       "    <tr>\n",
       "      <th>1</th>\n",
       "      <td>2.2</td>\n",
       "      <td>1</td>\n",
       "      <td>0.1</td>\n",
       "      <td>0.071429</td>\n",
       "      <td>1.0</td>\n",
       "      <td>0.045455</td>\n",
       "      <td>1.0</td>\n",
       "    </tr>\n",
       "    <tr>\n",
       "      <th>2</th>\n",
       "      <td>3.1</td>\n",
       "      <td>-1</td>\n",
       "      <td>0.1</td>\n",
       "      <td>0.071429</td>\n",
       "      <td>-1.0</td>\n",
       "      <td>0.166667</td>\n",
       "      <td>1.0</td>\n",
       "    </tr>\n",
       "    <tr>\n",
       "      <th>3</th>\n",
       "      <td>4.6</td>\n",
       "      <td>-1</td>\n",
       "      <td>0.1</td>\n",
       "      <td>0.071429</td>\n",
       "      <td>-1.0</td>\n",
       "      <td>0.166667</td>\n",
       "      <td>1.0</td>\n",
       "    </tr>\n",
       "    <tr>\n",
       "      <th>4</th>\n",
       "      <td>6.8</td>\n",
       "      <td>1</td>\n",
       "      <td>0.1</td>\n",
       "      <td>0.166667</td>\n",
       "      <td>-1.0</td>\n",
       "      <td>0.106061</td>\n",
       "      <td>1.0</td>\n",
       "    </tr>\n",
       "    <tr>\n",
       "      <th>5</th>\n",
       "      <td>6.5</td>\n",
       "      <td>-1</td>\n",
       "      <td>0.1</td>\n",
       "      <td>0.071429</td>\n",
       "      <td>-1.0</td>\n",
       "      <td>0.166667</td>\n",
       "      <td>1.0</td>\n",
       "    </tr>\n",
       "    <tr>\n",
       "      <th>6</th>\n",
       "      <td>7.9</td>\n",
       "      <td>1</td>\n",
       "      <td>0.1</td>\n",
       "      <td>0.166667</td>\n",
       "      <td>-1.0</td>\n",
       "      <td>0.106061</td>\n",
       "      <td>1.0</td>\n",
       "    </tr>\n",
       "    <tr>\n",
       "      <th>7</th>\n",
       "      <td>8.7</td>\n",
       "      <td>1</td>\n",
       "      <td>0.1</td>\n",
       "      <td>0.166667</td>\n",
       "      <td>-1.0</td>\n",
       "      <td>0.106061</td>\n",
       "      <td>1.0</td>\n",
       "    </tr>\n",
       "    <tr>\n",
       "      <th>8</th>\n",
       "      <td>9.8</td>\n",
       "      <td>-1</td>\n",
       "      <td>0.1</td>\n",
       "      <td>0.071429</td>\n",
       "      <td>-1.0</td>\n",
       "      <td>0.045455</td>\n",
       "      <td>-1.0</td>\n",
       "    </tr>\n",
       "    <tr>\n",
       "      <th>9</th>\n",
       "      <td>10.2</td>\n",
       "      <td>-1</td>\n",
       "      <td>0.1</td>\n",
       "      <td>0.071429</td>\n",
       "      <td>-1.0</td>\n",
       "      <td>0.045455</td>\n",
       "      <td>-1.0</td>\n",
       "    </tr>\n",
       "  </tbody>\n",
       "</table>\n",
       "</div>"
      ],
      "text/plain": [
       "      x  y   D1        D2  预测1        D3  预测2\n",
       "0   1.5  1  0.1  0.071429  1.0  0.045455  1.0\n",
       "1   2.2  1  0.1  0.071429  1.0  0.045455  1.0\n",
       "2   3.1 -1  0.1  0.071429 -1.0  0.166667  1.0\n",
       "3   4.6 -1  0.1  0.071429 -1.0  0.166667  1.0\n",
       "4   6.8  1  0.1  0.166667 -1.0  0.106061  1.0\n",
       "5   6.5 -1  0.1  0.071429 -1.0  0.166667  1.0\n",
       "6   7.9  1  0.1  0.166667 -1.0  0.106061  1.0\n",
       "7   8.7  1  0.1  0.166667 -1.0  0.106061  1.0\n",
       "8   9.8 -1  0.1  0.071429 -1.0  0.045455 -1.0\n",
       "9  10.2 -1  0.1  0.071429 -1.0  0.045455 -1.0"
      ]
     },
     "execution_count": 253,
     "metadata": {},
     "output_type": "execute_result"
    }
   ],
   "source": [
    "# 利用字典\n",
    "dict2={'x':x,'y':y,'D1':D1,'D2':D2,'预测1':h12(x1,2.5),'D3':D3,'预测2':h12(x1,8.5)}\n",
    "table2=pd.DataFrame(dict2)\n",
    "table2"
   ]
  },
  {
   "cell_type": "code",
   "execution_count": 254,
   "metadata": {},
   "outputs": [
    {
     "data": {
      "text/plain": [
       "array([ 1.,  1.,  1.,  1.,  1.,  1.,  1.,  1., -1., -1.])"
      ]
     },
     "execution_count": 254,
     "metadata": {},
     "output_type": "execute_result"
    }
   ],
   "source": [
    "result2=np.sign(a1*h12(x1,2.5)+a2*h12(x1,8.5))  #第二次迭代后模型结果\n",
    "result2"
   ]
  },
  {
   "cell_type": "code",
   "execution_count": 255,
   "metadata": {},
   "outputs": [
    {
     "data": {
      "text/plain": [
       "0.7"
      ]
     },
     "execution_count": 255,
     "metadata": {},
     "output_type": "execute_result"
    }
   ],
   "source": [
    "from sklearn.metrics import accuracy_score\n",
    "accuracy_score(y,result2)"
   ]
  },
  {
   "cell_type": "markdown",
   "metadata": {},
   "source": [
    "### 第三轮迭代"
   ]
  },
  {
   "cell_type": "code",
   "execution_count": 256,
   "metadata": {},
   "outputs": [],
   "source": [
    "#最优分类器\n",
    "es3=np.zeros(3)\n",
    "es3[0]=np.sum(D3[y!=pre_y1])\n",
    "es3[1]=np.sum(D3[y!=pre_y2])\n",
    "es3[2]=np.sum(D3[y!=pre_y3])\n",
    "\n",
    "a3=0.5*log((1-min(es3))/min(es3)) #模型权重"
   ]
  },
  {
   "cell_type": "code",
   "execution_count": 257,
   "metadata": {},
   "outputs": [
    {
     "data": {
      "text/plain": [
       "array([0.31818182, 0.5       , 0.13636364])"
      ]
     },
     "execution_count": 257,
     "metadata": {},
     "output_type": "execute_result"
    }
   ],
   "source": [
    "es3 #取第三个分类器"
   ]
  },
  {
   "cell_type": "code",
   "execution_count": 258,
   "metadata": {},
   "outputs": [
    {
     "data": {
      "text/plain": [
       "0.9229133452491652"
      ]
     },
     "execution_count": 258,
     "metadata": {},
     "output_type": "execute_result"
    }
   ],
   "source": [
    "a3"
   ]
  },
  {
   "cell_type": "code",
   "execution_count": 259,
   "metadata": {},
   "outputs": [],
   "source": [
    "D4=np.ones(len(x))/len(x)\n",
    "for i in range(len(x)):  #更新权重\n",
    "    pre_y=h3(x2,6.5)\n",
    "    D4[y==pre_y]=D3[y==pre_y]/(2*(1-min(es3)))\n",
    "    D4[y!=pre_y]=D3[y!=pre_y]/(2*min(es3))"
   ]
  },
  {
   "cell_type": "code",
   "execution_count": 260,
   "metadata": {},
   "outputs": [
    {
     "data": {
      "text/plain": [
       "array([0.16666667, 0.16666667, 0.09649123, 0.09649123, 0.06140351,\n",
       "       0.09649123, 0.06140351, 0.06140351, 0.16666667, 0.02631579])"
      ]
     },
     "execution_count": 260,
     "metadata": {},
     "output_type": "execute_result"
    }
   ],
   "source": [
    "D4"
   ]
  },
  {
   "cell_type": "code",
   "execution_count": 261,
   "metadata": {},
   "outputs": [
    {
     "data": {
      "image/png": "[encoded data removed]",
      "text/plain": [
       "<Figure size 432x288 with 1 Axes>"
      ]
     },
     "metadata": {
      "needs_background": "light"
     },
     "output_type": "display_data"
    }
   ],
   "source": [
    "plt.plot(x1[y==1],x2[y==1],'b+',LineWidth=4,MarkerSize=10)\n",
    "plt.plot(x1[y==-1],x2[y==-1],'ro',LineWidth=4,MarkerSize=10)\n",
    "plt.axhline(y=6.5,ls=\"-\",c=\"green\")#添加水平直线\n",
    "plt.xticks(np.arange(0, 11, 1))\n",
    "plt.yticks(np.arange(0, 11, 1))\n",
    "plt.legend((\"y=1\",\"y=-1\"),loc=\"upper left\")\n",
    "plt.title('第三轮数据分布')\n",
    "plt.show()"
   ]
  },
  {
   "cell_type": "code",
   "execution_count": 262,
   "metadata": {},
   "outputs": [
    {
     "data": {
      "text/html": [
       "<div>\n",
       "<style scoped>\n",
       "    .dataframe tbody tr th:only-of-type {\n",
       "        vertical-align: middle;\n",
       "    }\n",
       "\n",
       "    .dataframe tbody tr th {\n",
       "        vertical-align: top;\n",
       "    }\n",
       "\n",
       "    .dataframe thead th {\n",
       "        text-align: right;\n",
       "    }\n",
       "</style>\n",
       "<table border=\"1\" class=\"dataframe\">\n",
       "  <thead>\n",
       "    <tr style=\"text-align: right;\">\n",
       "      <th></th>\n",
       "      <th>x</th>\n",
       "      <th>y</th>\n",
       "      <th>D1</th>\n",
       "      <th>D2</th>\n",
       "      <th>预测1</th>\n",
       "      <th>D3</th>\n",
       "      <th>预测2</th>\n",
       "      <th>D4</th>\n",
       "      <th>预测3</th>\n",
       "    </tr>\n",
       "  </thead>\n",
       "  <tbody>\n",
       "    <tr>\n",
       "      <th>0</th>\n",
       "      <td>1.5</td>\n",
       "      <td>1</td>\n",
       "      <td>0.1</td>\n",
       "      <td>0.071429</td>\n",
       "      <td>1.0</td>\n",
       "      <td>0.045455</td>\n",
       "      <td>1.0</td>\n",
       "      <td>0.166667</td>\n",
       "      <td>-1.0</td>\n",
       "    </tr>\n",
       "    <tr>\n",
       "      <th>1</th>\n",
       "      <td>2.2</td>\n",
       "      <td>1</td>\n",
       "      <td>0.1</td>\n",
       "      <td>0.071429</td>\n",
       "      <td>1.0</td>\n",
       "      <td>0.045455</td>\n",
       "      <td>1.0</td>\n",
       "      <td>0.166667</td>\n",
       "      <td>-1.0</td>\n",
       "    </tr>\n",
       "    <tr>\n",
       "      <th>2</th>\n",
       "      <td>3.1</td>\n",
       "      <td>-1</td>\n",
       "      <td>0.1</td>\n",
       "      <td>0.071429</td>\n",
       "      <td>-1.0</td>\n",
       "      <td>0.166667</td>\n",
       "      <td>1.0</td>\n",
       "      <td>0.096491</td>\n",
       "      <td>-1.0</td>\n",
       "    </tr>\n",
       "    <tr>\n",
       "      <th>3</th>\n",
       "      <td>4.6</td>\n",
       "      <td>-1</td>\n",
       "      <td>0.1</td>\n",
       "      <td>0.071429</td>\n",
       "      <td>-1.0</td>\n",
       "      <td>0.166667</td>\n",
       "      <td>1.0</td>\n",
       "      <td>0.096491</td>\n",
       "      <td>-1.0</td>\n",
       "    </tr>\n",
       "    <tr>\n",
       "      <th>4</th>\n",
       "      <td>6.8</td>\n",
       "      <td>1</td>\n",
       "      <td>0.1</td>\n",
       "      <td>0.166667</td>\n",
       "      <td>-1.0</td>\n",
       "      <td>0.106061</td>\n",
       "      <td>1.0</td>\n",
       "      <td>0.061404</td>\n",
       "      <td>1.0</td>\n",
       "    </tr>\n",
       "    <tr>\n",
       "      <th>5</th>\n",
       "      <td>6.5</td>\n",
       "      <td>-1</td>\n",
       "      <td>0.1</td>\n",
       "      <td>0.071429</td>\n",
       "      <td>-1.0</td>\n",
       "      <td>0.166667</td>\n",
       "      <td>1.0</td>\n",
       "      <td>0.096491</td>\n",
       "      <td>-1.0</td>\n",
       "    </tr>\n",
       "    <tr>\n",
       "      <th>6</th>\n",
       "      <td>7.9</td>\n",
       "      <td>1</td>\n",
       "      <td>0.1</td>\n",
       "      <td>0.166667</td>\n",
       "      <td>-1.0</td>\n",
       "      <td>0.106061</td>\n",
       "      <td>1.0</td>\n",
       "      <td>0.061404</td>\n",
       "      <td>1.0</td>\n",
       "    </tr>\n",
       "    <tr>\n",
       "      <th>7</th>\n",
       "      <td>8.7</td>\n",
       "      <td>1</td>\n",
       "      <td>0.1</td>\n",
       "      <td>0.166667</td>\n",
       "      <td>-1.0</td>\n",
       "      <td>0.106061</td>\n",
       "      <td>1.0</td>\n",
       "      <td>0.061404</td>\n",
       "      <td>1.0</td>\n",
       "    </tr>\n",
       "    <tr>\n",
       "      <th>8</th>\n",
       "      <td>9.8</td>\n",
       "      <td>-1</td>\n",
       "      <td>0.1</td>\n",
       "      <td>0.071429</td>\n",
       "      <td>-1.0</td>\n",
       "      <td>0.045455</td>\n",
       "      <td>-1.0</td>\n",
       "      <td>0.166667</td>\n",
       "      <td>1.0</td>\n",
       "    </tr>\n",
       "    <tr>\n",
       "      <th>9</th>\n",
       "      <td>10.2</td>\n",
       "      <td>-1</td>\n",
       "      <td>0.1</td>\n",
       "      <td>0.071429</td>\n",
       "      <td>-1.0</td>\n",
       "      <td>0.045455</td>\n",
       "      <td>-1.0</td>\n",
       "      <td>0.026316</td>\n",
       "      <td>-1.0</td>\n",
       "    </tr>\n",
       "  </tbody>\n",
       "</table>\n",
       "</div>"
      ],
      "text/plain": [
       "      x  y   D1        D2  预测1        D3  预测2        D4  预测3\n",
       "0   1.5  1  0.1  0.071429  1.0  0.045455  1.0  0.166667 -1.0\n",
       "1   2.2  1  0.1  0.071429  1.0  0.045455  1.0  0.166667 -1.0\n",
       "2   3.1 -1  0.1  0.071429 -1.0  0.166667  1.0  0.096491 -1.0\n",
       "3   4.6 -1  0.1  0.071429 -1.0  0.166667  1.0  0.096491 -1.0\n",
       "4   6.8  1  0.1  0.166667 -1.0  0.106061  1.0  0.061404  1.0\n",
       "5   6.5 -1  0.1  0.071429 -1.0  0.166667  1.0  0.096491 -1.0\n",
       "6   7.9  1  0.1  0.166667 -1.0  0.106061  1.0  0.061404  1.0\n",
       "7   8.7  1  0.1  0.166667 -1.0  0.106061  1.0  0.061404  1.0\n",
       "8   9.8 -1  0.1  0.071429 -1.0  0.045455 -1.0  0.166667  1.0\n",
       "9  10.2 -1  0.1  0.071429 -1.0  0.045455 -1.0  0.026316 -1.0"
      ]
     },
     "execution_count": 262,
     "metadata": {},
     "output_type": "execute_result"
    }
   ],
   "source": [
    "dict3={'x':x,'y':y,'D1':D1,'D2':D2,'预测1':h12(x1,2.5),'D3':D3,'预测2':h12(x1,8.5),'D4':D4,'预测3':h3(x2,6.5)}\n",
    "table3=pd.DataFrame(dict3)\n",
    "table3"
   ]
  },
  {
   "cell_type": "code",
   "execution_count": 263,
   "metadata": {},
   "outputs": [
    {
     "data": {
      "text/plain": [
       "array([ 1.,  1., -1., -1.,  1., -1.,  1.,  1., -1., -1.])"
      ]
     },
     "execution_count": 263,
     "metadata": {},
     "output_type": "execute_result"
    }
   ],
   "source": [
    "result3=np.sign(a1*h12(x1,2.5)+a2*h12(x1,8.5)+a3*h3(x2,6.5))  #第三次迭代后模型结果\n",
    "result3"
   ]
  },
  {
   "cell_type": "code",
   "execution_count": 264,
   "metadata": {},
   "outputs": [
    {
     "data": {
      "text/plain": [
       "1.0"
      ]
     },
     "execution_count": 264,
     "metadata": {},
     "output_type": "execute_result"
    }
   ],
   "source": [
    "from sklearn.metrics import accuracy_score\n",
    "accuracy_score(y,result3)"
   ]
  },
  {
   "cell_type": "markdown",
   "metadata": {},
   "source": [
    "**预测精度达到了1了，完美**"
   ]
  },
  {
   "cell_type": "markdown",
   "metadata": {},
   "source": [
    "## 当将x直接作为唯一特征，分割点采用决策树最佳分割点的方法"
   ]
  },
  {
   "cell_type": "markdown",
   "metadata": {},
   "source": [
    "### 计算可能的分割点"
   ]
  },
  {
   "cell_type": "code",
   "execution_count": 265,
   "metadata": {},
   "outputs": [
    {
     "data": {
      "text/plain": [
       "array([ 1.5,  2.2,  3.1,  4.6,  6.8,  6.5,  7.9,  8.7,  9.8, 10.2])"
      ]
     },
     "execution_count": 265,
     "metadata": {},
     "output_type": "execute_result"
    }
   ],
   "source": [
    "x"
   ]
  },
  {
   "cell_type": "code",
   "execution_count": 266,
   "metadata": {},
   "outputs": [],
   "source": [
    "x_sort=sorted(x)"
   ]
  },
  {
   "cell_type": "code",
   "execution_count": 267,
   "metadata": {},
   "outputs": [],
   "source": [
    "x_split=np.zeros(len(x)-1)"
   ]
  },
  {
   "cell_type": "code",
   "execution_count": 268,
   "metadata": {},
   "outputs": [],
   "source": [
    "for i in range(len(x)-1):\n",
    "    x_sort=sorted(x)\n",
    "    x_split[i]=(x_sort[i]+x_sort[i+1])*0.5"
   ]
  },
  {
   "cell_type": "code",
   "execution_count": 269,
   "metadata": {},
   "outputs": [
    {
     "data": {
      "text/plain": [
       "array([ 1.85,  2.65,  3.85,  5.55,  6.65,  7.35,  8.3 ,  9.25, 10.  ])"
      ]
     },
     "execution_count": 269,
     "metadata": {},
     "output_type": "execute_result"
    }
   ],
   "source": [
    "x_split"
   ]
  },
  {
   "cell_type": "markdown",
   "metadata": {},
   "source": [
    "### 第一次迭代"
   ]
  },
  {
   "cell_type": "code",
   "execution_count": 270,
   "metadata": {},
   "outputs": [
    {
     "name": "stdout",
     "output_type": "stream",
     "text": [
      "选择第一种函数\n",
      "最佳分割点为2.6500000000000004\n",
      "最小误差率0.30000000000000004\n",
      "权重更新为:\n",
      "[0.07142857 0.07142857 0.07142857 0.07142857 0.16666667 0.07142857\n",
      " 0.16666667 0.16666667 0.07142857 0.07142857]\n",
      "模型权重为0.4236489301936017\n"
     ]
    }
   ],
   "source": [
    "D1=np.ones(len(x))/len(x)\n",
    "es1=np.zeros(len(x_split))\n",
    "es2=np.zeros(len(x_split))\n",
    "for i in range(len(x_split)):\n",
    "    pre_y1=h12(x,x_split[i])   #第一种函数\n",
    "    es1[i]=np.sum(D1[y!=pre_y1])  \n",
    "    \n",
    "    pre_y2=h3(x,x_split[i])   #第二种函数\n",
    "    es2[i]=np.sum(D1[y!=pre_y2]) \n",
    "    \n",
    "if min(es1)<=min(es2):\n",
    "    print(\"选择第一种函数\")\n",
    "    split=x_split[np.argmin(es1)]\n",
    "    print(\"最佳分割点为\"+str(split))\n",
    "    es_min=min(es1)\n",
    "    print(\"最小误差率\"+str(es_min))\n",
    "    for i in range(len(x)):  #更新权重\n",
    "        pre_y=h12(x,split)\n",
    "        D2[y==pre_y]=D1[y==pre_y]/(2*(1-es_min))\n",
    "        D2[y!=pre_y]=D1[y!=pre_y]/(2*es_min)\n",
    "    print(\"权重更新为:\")\n",
    "    print(D2)\n",
    "else:\n",
    "    print(\"选择第二种函数\")\n",
    "    split=x_split[np.argmin(es2)]\n",
    "    print(\"最佳分割点为\"+str(split))\n",
    "    es_min=min(es2)\n",
    "    print(\"最小误差率\"+str(es_min))\n",
    "    for i in range(len(x)):  #更新权重\n",
    "        pre_y=h3(x,split)\n",
    "        D2[y==pre_y]=D1[y==pre_y]/(2*(1-es_min))\n",
    "        D2[y!=pre_y]=D1[y!=pre_y]/(2*es_min)\n",
    "    print(\"权重更新为:\")\n",
    "    print(D2)\n",
    "\n",
    "a1=0.5*log((1-es_min)/es_min)\n",
    "print(\"模型权重为\"+str(a1))"
   ]
  },
  {
   "cell_type": "markdown",
   "metadata": {},
   "source": [
    "### 多次迭代"
   ]
  },
  {
   "cell_type": "code",
   "execution_count": 271,
   "metadata": {},
   "outputs": [
    {
     "name": "stdout",
     "output_type": "stream",
     "text": [
      "第1次迭代\n",
      "选择第一种函数\n",
      "最佳分割点为2.6500000000000004\n",
      "最小误差率0.30000000000000004\n",
      "权重更新为:\n",
      "[0.07142857 0.07142857 0.07142857 0.07142857 0.16666667 0.07142857\n",
      " 0.16666667 0.16666667 0.07142857 0.07142857]\n",
      "预测值为:\n",
      "[ 1.  1. -1. -1. -1. -1. -1. -1. -1. -1.]\n",
      "模型权重为0.4236489301936017\n",
      "\n",
      "第2次迭代\n",
      "选择第一种函数\n",
      "最佳分割点为9.25\n",
      "最小误差率0.2142857142857143\n",
      "权重更新为:\n",
      "[0.04545455 0.04545455 0.16666667 0.16666667 0.10606061 0.16666667\n",
      " 0.10606061 0.10606061 0.04545455 0.04545455]\n",
      "预测值为:\n",
      "[ 1.  1.  1.  1.  1.  1.  1.  1. -1. -1.]\n",
      "模型权重为0.6496414920651304\n",
      "\n",
      "第3次迭代\n",
      "选择第二种函数\n",
      "最佳分割点为6.65\n",
      "最小误差率0.18181818181818185\n",
      "权重更新为:\n",
      "[2.47358557e+04 2.47358557e+04 7.26443430e-03 7.26443430e-03\n",
      " 7.26443430e-03 7.26443430e-03 7.26443430e-03 7.26443430e-03\n",
      " 2.47358557e+04 2.47358557e+04]\n",
      "模型权重为0.752038698388137\n",
      "\n"
     ]
    }
   ],
   "source": [
    "#多次更新\n",
    "pre_ys=dict()  \n",
    "D=dict()       \n",
    "es_mins=dict()\n",
    "a=dict()\n",
    "splits=dict()\n",
    "D1=np.ones(len(x))/len(x)\n",
    "D[1]=D1\n",
    "es1=np.zeros(len(x_split))\n",
    "es2=np.zeros(len(x_split))\n",
    "for k in range(2,5):\n",
    "    print(\"第\"+str(k-1)+\"次迭代\")\n",
    "    \n",
    "    for i in range(len(x_split)):\n",
    "        pre_y1=h12(x,x_split[i])   #第一种函数\n",
    "        es1[i]=np.sum(D[k-1][y!=pre_y1])  \n",
    "    \n",
    "        pre_y2=h3(x,x_split[i])   #第二种函数\n",
    "        es2[i]=np.sum(D[k-1][y!=pre_y2]) \n",
    "    \n",
    "    D[k]=np.ones(len(x))\n",
    "    \n",
    "    if min(es1)<=min(es2):\n",
    "        print(\"选择第一种函数\")\n",
    "        splits[k-1]=x_split[np.argmin(es1)]\n",
    "        print(\"最佳分割点为\"+str(splits[k-1]))\n",
    "        es_mins[k-1]=min(es1)\n",
    "        print(\"最小误差率\"+str(es_mins[k-1]))\n",
    "        for i in range(len(x)):  #更新权重\n",
    "            pre_y=h12(x,splits[k-1])\n",
    "            D[k][y==pre_y]=D[k-1][y==pre_y]/(2*(1-es_mins[k-1]))\n",
    "            D[k][y!=pre_y]=D[k-1][y!=pre_y]/(2*es_mins[k-1])\n",
    "        print(\"权重更新为:\")\n",
    "        print(D[k])\n",
    "        pre_ys[k-1]=h12(x,splits[k-1])\n",
    "        print(\"预测值为:\")\n",
    "        print(pre_ys[k-1])\n",
    "    else:\n",
    "        print(\"选择第二种函数\")\n",
    "        splits[k-1]=x_split[np.argmin(es2)]\n",
    "        print(\"最佳分割点为\"+str(splits[k-1]))\n",
    "        es_mins[k-1]=min(es2)\n",
    "        print(\"最小误差率\"+str(es_mins[k-1]))\n",
    "        for i in range(len(x)):  #更新权重\n",
    "            pre_y=h3(x,splits[k-1])\n",
    "            D[k][y==pre_y]=D[k][y==pre_y]/(2*(1-es_mins[k-1]))\n",
    "            D[k][y!=pre_y]=D[k][y!=pre_y]/(2*es_mins[k-1])\n",
    "        print(\"权重更新为:\")\n",
    "        print(D[k])\n",
    "        pre_ys[k-1]=h3(x,splits[k-1])\n",
    "        \n",
    "    a[k-1]=0.5*log((1-es_mins[k-1])/es_mins[k-1])\n",
    "    print(\"模型权重为\"+str(a[k-1]))\n",
    "    print(\"\")\n",
    "    \n",
    "    if es_mins[k-1]<0.0001:  #模型终止条件\n",
    "        break"
   ]
  },
  {
   "cell_type": "code",
   "execution_count": 272,
   "metadata": {},
   "outputs": [
    {
     "data": {
      "text/plain": [
       "{1: array([0.1, 0.1, 0.1, 0.1, 0.1, 0.1, 0.1, 0.1, 0.1, 0.1]),\n",
       " 2: array([0.07142857, 0.07142857, 0.07142857, 0.07142857, 0.16666667,\n",
       "        0.07142857, 0.16666667, 0.16666667, 0.07142857, 0.07142857]),\n",
       " 3: array([0.04545455, 0.04545455, 0.16666667, 0.16666667, 0.10606061,\n",
       "        0.16666667, 0.10606061, 0.10606061, 0.04545455, 0.04545455]),\n",
       " 4: array([2.47358557e+04, 2.47358557e+04, 7.26443430e-03, 7.26443430e-03,\n",
       "        7.26443430e-03, 7.26443430e-03, 7.26443430e-03, 7.26443430e-03,\n",
       "        2.47358557e+04, 2.47358557e+04])}"
      ]
     },
     "execution_count": 272,
     "metadata": {},
     "output_type": "execute_result"
    }
   ],
   "source": [
    "D"
   ]
  },
  {
   "cell_type": "code",
   "execution_count": 273,
   "metadata": {},
   "outputs": [
    {
     "data": {
      "text/plain": [
       "{1: 2.6500000000000004, 2: 9.25, 3: 6.65}"
      ]
     },
     "execution_count": 273,
     "metadata": {},
     "output_type": "execute_result"
    }
   ],
   "source": [
    "splits "
   ]
  },
  {
   "cell_type": "code",
   "execution_count": 274,
   "metadata": {},
   "outputs": [
    {
     "data": {
      "text/plain": [
       "{1: 0.4236489301936017, 2: 0.6496414920651304, 3: 0.752038698388137}"
      ]
     },
     "execution_count": 274,
     "metadata": {},
     "output_type": "execute_result"
    }
   ],
   "source": [
    "a"
   ]
  },
  {
   "cell_type": "code",
   "execution_count": 275,
   "metadata": {},
   "outputs": [
    {
     "data": {
      "text/plain": [
       "{1: array([ 1.,  1., -1., -1., -1., -1., -1., -1., -1., -1.]),\n",
       " 2: array([ 1.,  1.,  1.,  1.,  1.,  1.,  1.,  1., -1., -1.]),\n",
       " 3: array([-1., -1., -1., -1.,  1., -1.,  1.,  1.,  1.,  1.])}"
      ]
     },
     "execution_count": 275,
     "metadata": {},
     "output_type": "execute_result"
    }
   ],
   "source": [
    "pre_ys"
   ]
  },
  {
   "cell_type": "markdown",
   "metadata": {},
   "source": [
    "### 最终结果"
   ]
  },
  {
   "cell_type": "code",
   "execution_count": 276,
   "metadata": {},
   "outputs": [
    {
     "name": "stdout",
     "output_type": "stream",
     "text": [
      "[ 1.  1. -1. -1.  1. -1.  1.  1. -1. -1.]\n"
     ]
    }
   ],
   "source": [
    "result=0\n",
    "for i in range(1,4):  #构造最终的模型\n",
    "    result=result+a[i]*pre_ys[i] \n",
    "result=np.sign(result)\n",
    "print(result)"
   ]
  },
  {
   "cell_type": "code",
   "execution_count": 277,
   "metadata": {},
   "outputs": [
    {
     "data": {
      "text/plain": [
       "1.0"
      ]
     },
     "execution_count": 277,
     "metadata": {},
     "output_type": "execute_result"
    }
   ],
   "source": [
    "from sklearn.metrics import accuracy_score\n",
    "accuracy_score(y,result)"
   ]
  },
  {
   "cell_type": "markdown",
   "metadata": {},
   "source": [
    "## 用sklearn实现"
   ]
  },
  {
   "cell_type": "markdown",
   "metadata": {},
   "source": [
    "**用sklearn中的决策树作为基函数，当设置深度为1时，每次都找一个最优的分割函数**  \n",
    "**这个分割函数找x的最佳分割点**"
   ]
  },
  {
   "cell_type": "code",
   "execution_count": 278,
   "metadata": {},
   "outputs": [],
   "source": [
    "from sklearn.tree import DecisionTreeClassifier\n",
    "from sklearn.ensemble import AdaBoostClassifier\n",
    "#一层\n",
    "adaboost=AdaBoostClassifier(base_estimator=DecisionTreeClassifier(max_depth=1),\n",
    "                            n_estimators=1,\n",
    "                            random_state=0)"
   ]
  },
  {
   "cell_type": "code",
   "execution_count": 279,
   "metadata": {},
   "outputs": [
    {
     "data": {
      "text/plain": [
       "AdaBoostClassifier(base_estimator=DecisionTreeClassifier(max_depth=1),\n",
       "                   n_estimators=1, random_state=0)"
      ]
     },
     "execution_count": 279,
     "metadata": {},
     "output_type": "execute_result"
    }
   ],
   "source": [
    "adaboost.fit(x.reshape(-1,1), y)"
   ]
  },
  {
   "cell_type": "code",
   "execution_count": 280,
   "metadata": {},
   "outputs": [
    {
     "data": {
      "text/plain": [
       "array([ 1,  1, -1, -1, -1, -1, -1, -1, -1, -1])"
      ]
     },
     "execution_count": 280,
     "metadata": {},
     "output_type": "execute_result"
    }
   ],
   "source": [
    "adaboost.predict(x.reshape(-1,1))"
   ]
  },
  {
   "cell_type": "code",
   "execution_count": 281,
   "metadata": {},
   "outputs": [
    {
     "data": {
      "text/plain": [
       "0.7"
      ]
     },
     "execution_count": 281,
     "metadata": {},
     "output_type": "execute_result"
    }
   ],
   "source": [
    "adaboost.score(x.reshape(-1,1),y)"
   ]
  },
  {
   "cell_type": "code",
   "execution_count": 282,
   "metadata": {},
   "outputs": [
    {
     "data": {
      "text/plain": [
       "array([0.3])"
      ]
     },
     "execution_count": 282,
     "metadata": {},
     "output_type": "execute_result"
    }
   ],
   "source": [
    "adaboost.estimator_errors_"
   ]
  },
  {
   "cell_type": "code",
   "execution_count": 283,
   "metadata": {},
   "outputs": [
    {
     "data": {
      "text/plain": [
       "AdaBoostClassifier(base_estimator=DecisionTreeClassifier(max_depth=1),\n",
       "                   n_estimators=2, random_state=0)"
      ]
     },
     "execution_count": 283,
     "metadata": {},
     "output_type": "execute_result"
    }
   ],
   "source": [
    "#两层\n",
    "adaboost=AdaBoostClassifier(base_estimator=DecisionTreeClassifier(max_depth=1),\n",
    "                            n_estimators=2,\n",
    "                            random_state=0)\n",
    "adaboost.fit(x.reshape(-1,1), y)"
   ]
  },
  {
   "cell_type": "code",
   "execution_count": 284,
   "metadata": {},
   "outputs": [
    {
     "data": {
      "text/plain": [
       "0.8"
      ]
     },
     "execution_count": 284,
     "metadata": {},
     "output_type": "execute_result"
    }
   ],
   "source": [
    "adaboost.score(x.reshape(-1,1),y)"
   ]
  },
  {
   "cell_type": "code",
   "execution_count": 285,
   "metadata": {},
   "outputs": [
    {
     "data": {
      "text/plain": [
       "array([0.3, 0.2])"
      ]
     },
     "execution_count": 285,
     "metadata": {},
     "output_type": "execute_result"
    }
   ],
   "source": [
    "adaboost.estimator_errors_"
   ]
  },
  {
   "cell_type": "code",
   "execution_count": 286,
   "metadata": {},
   "outputs": [
    {
     "data": {
      "text/plain": [
       "AdaBoostClassifier(base_estimator=DecisionTreeClassifier(max_depth=1),\n",
       "                   n_estimators=3, random_state=0)"
      ]
     },
     "execution_count": 286,
     "metadata": {},
     "output_type": "execute_result"
    }
   ],
   "source": [
    "#三层\n",
    "adaboost=AdaBoostClassifier(base_estimator=DecisionTreeClassifier(max_depth=1),\n",
    "                            n_estimators=3,\n",
    "                            random_state=0)\n",
    "adaboost.fit(x.reshape(-1,1), y)"
   ]
  },
  {
   "cell_type": "code",
   "execution_count": 287,
   "metadata": {},
   "outputs": [
    {
     "data": {
      "text/plain": [
       "1.0"
      ]
     },
     "execution_count": 287,
     "metadata": {},
     "output_type": "execute_result"
    }
   ],
   "source": [
    "adaboost.score(x.reshape(-1,1),y)"
   ]
  },
  {
   "cell_type": "code",
   "execution_count": 288,
   "metadata": {},
   "outputs": [
    {
     "data": {
      "text/plain": [
       "array([3.00000000e-01, 2.00000003e-01, 5.37119868e-05])"
      ]
     },
     "execution_count": 288,
     "metadata": {},
     "output_type": "execute_result"
    }
   ],
   "source": [
    "adaboost.estimator_errors_"
   ]
  },
  {
   "cell_type": "markdown",
   "metadata": {},
   "source": [
    "**当迭代3次时，精度已大到1**"
   ]
  },
  {
   "cell_type": "markdown",
   "metadata": {},
   "source": [
    "# 2.adaboost回归"
   ]
  },
  {
   "cell_type": "markdown",
   "metadata": {},
   "source": [
    "## AdaBoost 回归算法"
   ]
  },
  {
   "cell_type": "markdown",
   "metadata": {},
   "source": [
    "    回归预测得到的结果是数值，比如房子价格，每一个房产样本都有一个房产价格，这个价格是一个数值，不同的房产价格可能是不一样的，且价格繁多，不像分类问题，类别较固定，所以使用AdaBoost算法做回归问题时不能单单的用分类问题的AdaBoost 算法，其重点在于如何更新样本权重及分类器权重，参考资料有如下一种思路："
   ]
  },
  {
   "cell_type": "markdown",
   "metadata": {},
   "source": [
    "![](https://tva1.sinaimg.cn/large/0081Kckwly1gksfgbdilwj30fm0f8dh3.jpg)\n",
    "![](https://tva1.sinaimg.cn/large/0081Kckwly1gksfh4bpaoj30kj0bv0tw.jpg)\n",
    "![](https://tva1.sinaimg.cn/large/0081Kckwly1gksfhvjb9ej30aj00vmx7.jpg)"
   ]
  },
  {
   "cell_type": "markdown",
   "metadata": {},
   "source": [
    "## adaboost回归实例"
   ]
  },
  {
   "cell_type": "markdown",
   "metadata": {},
   "source": [
    "### 数据"
   ]
  },
  {
   "cell_type": "code",
   "execution_count": 289,
   "metadata": {},
   "outputs": [],
   "source": [
    "import numpy as np\n",
    "import math\n",
    "#训练样本数据\n",
    "x=[1,2,3,4,5,6,7,8,9,10]\n",
    "y=[1.5,5.2,3.1,6.6,6.8,6.5,7.9,8.7,9.8,8.2] #特征\n",
    "x=np.array(x)\n",
    "y=np.array(y) \n",
    "n=len(y)"
   ]
  },
  {
   "cell_type": "markdown",
   "metadata": {},
   "source": [
    "### 依然用决策树的思想，找可能的切分点"
   ]
  },
  {
   "cell_type": "code",
   "execution_count": 290,
   "metadata": {},
   "outputs": [],
   "source": [
    "x_sort=sorted(x)\n",
    "x_split=np.zeros(len(x)-1)\n",
    "for i in range(len(x)-1):\n",
    "    x_sort=sorted(x)\n",
    "    x_split[i]=(x_sort[i]+x_sort[i+1])*0.5"
   ]
  },
  {
   "cell_type": "code",
   "execution_count": 291,
   "metadata": {},
   "outputs": [
    {
     "data": {
      "text/plain": [
       "array([1.5, 2.5, 3.5, 4.5, 5.5, 6.5, 7.5, 8.5, 9.5])"
      ]
     },
     "execution_count": 291,
     "metadata": {},
     "output_type": "execute_result"
    }
   ],
   "source": [
    "x_split"
   ]
  },
  {
   "cell_type": "markdown",
   "metadata": {},
   "source": [
    "### 构造弱回归器"
   ]
  },
  {
   "cell_type": "code",
   "execution_count": 292,
   "metadata": {},
   "outputs": [],
   "source": [
    "#定义弱分类器\n",
    "def h1(x,th):    \n",
    "    list1=[]\n",
    "    list2=[]\n",
    "    pre_y=np.zeros(len(x))\n",
    "    for i in range(len(x)):\n",
    "        if x[i]<th:\n",
    "            list1.append(i)\n",
    "        else:\n",
    "            list2.append(i)\n",
    "    \n",
    "    pre_y[list1]=sum(y[list1])/len(list1)\n",
    "    pre_y[list2]=sum(y[list2])/len(list2)\n",
    "    \n",
    "    return pre_y"
   ]
  },
  {
   "cell_type": "code",
   "execution_count": 293,
   "metadata": {},
   "outputs": [
    {
     "data": {
      "text/plain": [
       "array([1.5       , 6.97777778, 6.97777778, 6.97777778, 6.97777778,\n",
       "       6.97777778, 6.97777778, 6.97777778, 6.97777778, 6.97777778])"
      ]
     },
     "execution_count": 293,
     "metadata": {},
     "output_type": "execute_result"
    }
   ],
   "source": [
    "h(x,1.5)"
   ]
  },
  {
   "cell_type": "code",
   "execution_count": 294,
   "metadata": {},
   "outputs": [
    {
     "data": {
      "text/plain": [
       "array([3.35, 3.35, 7.2 , 7.2 , 7.2 , 7.2 , 7.2 , 7.2 , 7.2 , 7.2 ])"
      ]
     },
     "execution_count": 294,
     "metadata": {},
     "output_type": "execute_result"
    }
   ],
   "source": [
    "h(x,2.5)"
   ]
  },
  {
   "cell_type": "code",
   "execution_count": 295,
   "metadata": {},
   "outputs": [
    {
     "data": {
      "text/plain": [
       "array([3.26666667, 3.26666667, 3.26666667, 7.78571429, 7.78571429,\n",
       "       7.78571429, 7.78571429, 7.78571429, 7.78571429, 7.78571429])"
      ]
     },
     "execution_count": 295,
     "metadata": {},
     "output_type": "execute_result"
    }
   ],
   "source": [
    "h(x,3.5)"
   ]
  },
  {
   "cell_type": "markdown",
   "metadata": {},
   "source": [
    "## 第一次迭代"
   ]
  },
  {
   "cell_type": "code",
   "execution_count": 296,
   "metadata": {},
   "outputs": [],
   "source": [
    "D1=np.ones(len(x))/len(x)\n",
    "es=np.zeros(len(x_split))\n",
    "for i in range(len(x_split)):\n",
    "    pre_y=h(x,x_split[i])   \n",
    "    e=abs(y-pre_y)/max(abs(y-pre_y))\n",
    "    es[i]=np.sum(D1*e)  \n",
    "        \n",
    "split=x_split[np.argmin(es)]\n",
    "pre_y_best=h(x,split)\n",
    "e_best=abs(y-pre_y_best)/max(abs(y-pre_y_best))\n",
    "a1=min(es)/(1-min(es)) \n",
    "Z1=np.sum(a1**(1-e_best)*D1)\n",
    "D2=D1*(1-e_best)/Z1"
   ]
  },
  {
   "cell_type": "code",
   "execution_count": 297,
   "metadata": {},
   "outputs": [
    {
     "data": {
      "text/plain": [
       "array([0.34498567, 0.37317073, 0.53522459, 0.48846154, 0.42929936,\n",
       "       0.37681159, 0.37269373, 0.39008746, 0.37605634])"
      ]
     },
     "execution_count": 297,
     "metadata": {},
     "output_type": "execute_result"
    }
   ],
   "source": [
    "es"
   ]
  },
  {
   "cell_type": "code",
   "execution_count": 298,
   "metadata": {},
   "outputs": [
    {
     "data": {
      "text/plain": [
       "1.5"
      ]
     },
     "execution_count": 298,
     "metadata": {},
     "output_type": "execute_result"
    }
   ],
   "source": [
    "split"
   ]
  },
  {
   "cell_type": "code",
   "execution_count": 299,
   "metadata": {},
   "outputs": [
    {
     "data": {
      "text/plain": [
       "array([0.14915439, 0.08077415, 0.        , 0.13462359, 0.14231637,\n",
       "       0.1307772 , 0.11368214, 0.08291104, 0.04060076, 0.10214298])"
      ]
     },
     "execution_count": 299,
     "metadata": {},
     "output_type": "execute_result"
    }
   ],
   "source": [
    "D2"
   ]
  },
  {
   "cell_type": "code",
   "execution_count": 300,
   "metadata": {},
   "outputs": [
    {
     "data": {
      "image/png": "[encoded data removed]",
      "text/plain": [
       "<Figure size 432x288 with 1 Axes>"
      ]
     },
     "metadata": {
      "needs_background": "light"
     },
     "output_type": "display_data"
    }
   ],
   "source": [
    "plt.plot(x,y,'b+',LineWidth=4,MarkerSize=10)\n",
    "plt.plot(x,h(x,1.5),'r*',LineWidth=4,MarkerSize=8)\n",
    "plt.axvline(x=1.5,ls=\"-\",c=\"green\")#添加水平直线\n",
    "plt.xticks(np.arange(0, 11, 1))\n",
    "plt.yticks(np.arange(0, 11, 1))\n",
    "plt.legend((\"真实值\",\"预测值\"),loc=\"upper left\")\n",
    "plt.title('第一轮预测')\n",
    "plt.show()"
   ]
  },
  {
   "cell_type": "markdown",
   "metadata": {},
   "source": [
    "**后续不在赘述**"
   ]
  },
  {
   "cell_type": "markdown",
   "metadata": {},
   "source": [
    "## 用sklearn实现adaboost回归"
   ]
  },
  {
   "cell_type": "code",
   "execution_count": 301,
   "metadata": {},
   "outputs": [
    {
     "data": {
      "image/png": "[encoded data removed]",
      "text/plain": [
       "<Figure size 432x288 with 1 Axes>"
      ]
     },
     "metadata": {
      "needs_background": "light"
     },
     "output_type": "display_data"
    }
   ],
   "source": [
    "import numpy as np\n",
    "import matplotlib.pyplot as plt\n",
    "from sklearn.tree import DecisionTreeRegressor\n",
    "from sklearn.ensemble import AdaBoostRegressor\n",
    "\n",
    "# 创建数据集\n",
    "rng = np.random.RandomState(1)\n",
    "X = np.linspace(0, 6, 100)[:, np.newaxis]\n",
    "y = np.sin(X).ravel() + np.sin(6 * X).ravel() + rng.normal(0, 0.1, X.shape[0])\n",
    "\n",
    "# 训练模型\n",
    "regr_1 = DecisionTreeRegressor(max_depth=4)\n",
    "\n",
    "regr_2 = AdaBoostRegressor(DecisionTreeRegressor(max_depth=4),\n",
    "                          n_estimators=300, random_state=rng)\n",
    "\n",
    "regr_1.fit(X, y)\n",
    "regr_2.fit(X, y)\n",
    "\n",
    "# 预测\n",
    "y_1 = regr_1.predict(X)\n",
    "y_2 = regr_2.predict(X)\n",
    "\n",
    "# 画图\n",
    "plt.figure()\n",
    "plt.scatter(X, y, c=\"k\", label=\"training samples\")\n",
    "plt.plot(X, y_1, c=\"g\", label=\"n_estimators=1\", linewidth=2)\n",
    "plt.plot(X, y_2, c=\"r\", label=\"n_estimators=300\", linewidth=2)\n",
    "plt.xlabel(\"data\")\n",
    "plt.ylabel(\"target\")\n",
    "plt.title(\"Boosted Decision Tree Regression\")\n",
    "plt.legend()\n",
    "plt.show()"
   ]
  }
 ],
 "metadata": {
  "hide_input": false,
  "kernelspec": {
   "display_name": "Python 3",
   "language": "python",
   "name": "python3"
  },
  "language_info": {
   "codemirror_mode": {
    "name": "ipython",
    "version": 3
   },
   "file_extension": ".py",
   "mimetype": "text/x-python",
   "name": "python",
   "nbconvert_exporter": "python",
   "pygments_lexer": "ipython3",
   "version": "3.7.6"
  },
  "latex_envs": {
   "LaTeX_envs_menu_present": true,
   "autoclose": false,
   "autocomplete": true,
   "bibliofile": "biblio.bib",
   "cite_by": "apalike",
   "current_citInitial": 1,
   "eqLabelWithNumbers": true,
   "eqNumInitial": 1,
   "hotkeys": {
    "equation": "Ctrl-E",
    "itemize": "Ctrl-I"
   },
   "labels_anchors": false,
   "latex_user_defs": false,
   "report_style_numbering": false,
   "user_envs_cfg": false
  },
  "nbTranslate": {
   "displayLangs": [
    "*"
   ],
   "hotkey": "alt-t",
   "langInMainMenu": true,
   "sourceLang": "en",
   "targetLang": "fr",
   "useGoogleTranslate": true
  },
  "toc": {
   "base_numbering": 1,
   "nav_menu": {},
   "number_sections": true,
   "sideBar": true,
   "skip_h1_title": false,
   "title_cell": "Table of Contents",
   "title_sidebar": "Contents",
   "toc_cell": false,
   "toc_position": {
    "height": "calc(100% - 180px)",
    "left": "10px",
    "top": "150px",
    "width": "242.066px"
   },
   "toc_section_display": true,
   "toc_window_display": true
  },
  "varInspector": {
   "cols": {
    "lenName": 16,
    "lenType": 16,
    "lenVar": 40
   },
   "kernels_config": {
    "python": {
     "delete_cmd_postfix": "",
     "delete_cmd_prefix": "del ",
     "library": "var_list.py",
     "varRefreshCmd": "print(var_dic_list())"
    },
    "r": {
     "delete_cmd_postfix": ") ",
     "delete_cmd_prefix": "rm(",
     "library": "var_list.r",
     "varRefreshCmd": "cat(var_dic_list()) "
    }
   },
   "types_to_exclude": [
    "module",
    "function",
    "builtin_function_or_method",
    "instance",
    "_Feature"
   ],
   "window_display": false
  }
 },
 "nbformat": 4,
 "nbformat_minor": 4
}
