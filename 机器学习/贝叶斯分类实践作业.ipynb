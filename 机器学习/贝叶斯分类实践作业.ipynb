{
 "cells": [
  {
   "cell_type": "markdown",
   "metadata": {
    "collapsed": true
   },
   "source": [
    "# 任务一：对下面代码进行注释及解读。"
   ]
  },
  {
   "cell_type": "code",
   "execution_count": 1,
   "metadata": {
    "ExecuteTime": {
     "end_time": "2020-11-30T09:06:57.463904Z",
     "start_time": "2020-11-30T09:06:57.456960Z"
    }
   },
   "outputs": [],
   "source": [
    "import numpy as np     # 导入numpy库\n",
    "X = np.random.randint(5, size=(6, 50))  # 返回在6到50之间6个随机整型数的函数，\n",
    "y = np.array([1, 2, 3, 4, 5, 6])       # 创建列表"
   ]
  },
  {
   "cell_type": "code",
   "execution_count": 4,
   "metadata": {
    "ExecuteTime": {
     "end_time": "2020-11-30T09:07:49.872783Z",
     "start_time": "2020-11-30T09:07:49.756006Z"
    }
   },
   "outputs": [
    {
     "name": "stdout",
     "output_type": "stream",
     "text": [
      "[1 2 3 4 5 6]\n"
     ]
    }
   ],
   "source": [
    "from sklearn.naive_bayes import MultinomialNB    # 导入MultinomialNB贝叶斯函数\n",
    "clf = MultinomialNB(alpha = 0.01,fit_prior=True)   # 调取模型\n",
    "clf.fit(X, y)            # 数据训练\n",
    "print(clf.predict(X))    # 打印处预测值"
   ]
  },
  {
   "cell_type": "markdown",
   "metadata": {},
   "source": [
    "alpha:制定平滑因子的值；\n",
    "\n",
    "binarize:默认为1个浮点数0.0，表示以该数值为界，将特征取值大于它的编码为1，小于它的编码为0，从而实现对数据集的二值化；当使用binarize=None时，模型会假定你已经将数据二值化了；\n",
    "\n",
    "fit_prior:制定是否计算P（Y=Ck）,默认为True,表示不计算P（Y=Ck），而直接用均匀分布代替；如果为False,则表示计算实际的P（Y=Ck）。"
   ]
  },
  {
   "cell_type": "code",
   "execution_count": 5,
   "metadata": {
    "ExecuteTime": {
     "end_time": "2020-11-30T09:07:52.724938Z",
     "start_time": "2020-11-30T09:07:52.566175Z"
    }
   },
   "outputs": [
    {
     "data": {
      "text/plain": [
       "1.0"
      ]
     },
     "execution_count": 5,
     "metadata": {},
     "output_type": "execute_result"
    }
   ],
   "source": [
    "clf.score(X, y)    # 计算预测精度"
   ]
  },
  {
   "cell_type": "markdown",
   "metadata": {},
   "source": [
    "# 任务二：利用处理好的数据DataClear，划分训练集和测试集，使用sklearn.naive_bayes.MultinomialNB 方法进行拟合，计算在测试集上的混淆矩阵、准确率。"
   ]
  },
  {
   "cell_type": "code",
   "execution_count": 6,
   "metadata": {
    "ExecuteTime": {
     "end_time": "2020-11-30T09:18:42.799351Z",
     "start_time": "2020-11-30T09:18:39.760971Z"
    }
   },
   "outputs": [],
   "source": [
    "import numpy as np\n",
    "import pandas as pd\n",
    "import matplotlib.pyplot as plt\n",
    "\n",
    "from sklearn.metrics import confusion_matrix\n",
    "from sklearn.naive_bayes import MultinomialNB\n",
    "from sklearn.model_selection import train_test_split"
   ]
  },
  {
   "cell_type": "code",
   "execution_count": 7,
   "metadata": {
    "ExecuteTime": {
     "end_time": "2020-11-30T09:20:25.927771Z",
     "start_time": "2020-11-30T09:20:23.891112Z"
    }
   },
   "outputs": [
    {
     "data": {
      "text/html": [
       "<div>\n",
       "<style scoped>\n",
       "    .dataframe tbody tr th:only-of-type {\n",
       "        vertical-align: middle;\n",
       "    }\n",
       "\n",
       "    .dataframe tbody tr th {\n",
       "        vertical-align: top;\n",
       "    }\n",
       "\n",
       "    .dataframe thead th {\n",
       "        text-align: right;\n",
       "    }\n",
       "</style>\n",
       "<table border=\"1\" class=\"dataframe\">\n",
       "  <thead>\n",
       "    <tr style=\"text-align: right;\">\n",
       "      <th></th>\n",
       "      <th>单位名称</th>\n",
       "      <th>换车</th>\n",
       "      <th>商户</th>\n",
       "      <th>吉林大路</th>\n",
       "      <th>还在</th>\n",
       "      <th>给出</th>\n",
       "      <th>安全标准</th>\n",
       "      <th>地</th>\n",
       "      <th>是因为</th>\n",
       "      <th>东北师范大学</th>\n",
       "      <th>...</th>\n",
       "      <th>绿园</th>\n",
       "      <th>门将</th>\n",
       "      <th>研究所</th>\n",
       "      <th>世纪家园</th>\n",
       "      <th>水务</th>\n",
       "      <th>提醒</th>\n",
       "      <th>照</th>\n",
       "      <th>煦</th>\n",
       "      <th>煤</th>\n",
       "      <th>后门</th>\n",
       "    </tr>\n",
       "  </thead>\n",
       "  <tbody>\n",
       "    <tr>\n",
       "      <th>0</th>\n",
       "      <td>市供热公司</td>\n",
       "      <td>0</td>\n",
       "      <td>0</td>\n",
       "      <td>0</td>\n",
       "      <td>0</td>\n",
       "      <td>0</td>\n",
       "      <td>0</td>\n",
       "      <td>0</td>\n",
       "      <td>0</td>\n",
       "      <td>0</td>\n",
       "      <td>...</td>\n",
       "      <td>0</td>\n",
       "      <td>0</td>\n",
       "      <td>0</td>\n",
       "      <td>0</td>\n",
       "      <td>0</td>\n",
       "      <td>0</td>\n",
       "      <td>0</td>\n",
       "      <td>0</td>\n",
       "      <td>0</td>\n",
       "      <td>0</td>\n",
       "    </tr>\n",
       "    <tr>\n",
       "      <th>1</th>\n",
       "      <td>市水务集团</td>\n",
       "      <td>0</td>\n",
       "      <td>0</td>\n",
       "      <td>0</td>\n",
       "      <td>0</td>\n",
       "      <td>0</td>\n",
       "      <td>0</td>\n",
       "      <td>0</td>\n",
       "      <td>0</td>\n",
       "      <td>0</td>\n",
       "      <td>...</td>\n",
       "      <td>0</td>\n",
       "      <td>0</td>\n",
       "      <td>0</td>\n",
       "      <td>0</td>\n",
       "      <td>0</td>\n",
       "      <td>0</td>\n",
       "      <td>0</td>\n",
       "      <td>0</td>\n",
       "      <td>0</td>\n",
       "      <td>0</td>\n",
       "    </tr>\n",
       "    <tr>\n",
       "      <th>2</th>\n",
       "      <td>市水务集团</td>\n",
       "      <td>0</td>\n",
       "      <td>0</td>\n",
       "      <td>0</td>\n",
       "      <td>0</td>\n",
       "      <td>0</td>\n",
       "      <td>0</td>\n",
       "      <td>0</td>\n",
       "      <td>0</td>\n",
       "      <td>0</td>\n",
       "      <td>...</td>\n",
       "      <td>0</td>\n",
       "      <td>0</td>\n",
       "      <td>0</td>\n",
       "      <td>0</td>\n",
       "      <td>0</td>\n",
       "      <td>0</td>\n",
       "      <td>0</td>\n",
       "      <td>0</td>\n",
       "      <td>0</td>\n",
       "      <td>0</td>\n",
       "    </tr>\n",
       "    <tr>\n",
       "      <th>3</th>\n",
       "      <td>市燃气集团</td>\n",
       "      <td>0</td>\n",
       "      <td>0</td>\n",
       "      <td>0</td>\n",
       "      <td>0</td>\n",
       "      <td>0</td>\n",
       "      <td>0</td>\n",
       "      <td>0</td>\n",
       "      <td>0</td>\n",
       "      <td>0</td>\n",
       "      <td>...</td>\n",
       "      <td>0</td>\n",
       "      <td>0</td>\n",
       "      <td>0</td>\n",
       "      <td>0</td>\n",
       "      <td>0</td>\n",
       "      <td>0</td>\n",
       "      <td>0</td>\n",
       "      <td>0</td>\n",
       "      <td>0</td>\n",
       "      <td>0</td>\n",
       "    </tr>\n",
       "    <tr>\n",
       "      <th>4</th>\n",
       "      <td>市公交集团</td>\n",
       "      <td>0</td>\n",
       "      <td>0</td>\n",
       "      <td>0</td>\n",
       "      <td>0</td>\n",
       "      <td>0</td>\n",
       "      <td>0</td>\n",
       "      <td>0</td>\n",
       "      <td>0</td>\n",
       "      <td>0</td>\n",
       "      <td>...</td>\n",
       "      <td>0</td>\n",
       "      <td>0</td>\n",
       "      <td>0</td>\n",
       "      <td>0</td>\n",
       "      <td>0</td>\n",
       "      <td>0</td>\n",
       "      <td>0</td>\n",
       "      <td>0</td>\n",
       "      <td>0</td>\n",
       "      <td>0</td>\n",
       "    </tr>\n",
       "  </tbody>\n",
       "</table>\n",
       "<p>5 rows × 6236 columns</p>\n",
       "</div>"
      ],
      "text/plain": [
       "    单位名称  换车  商户  吉林大路  还在  给出  安全标准  地  是因为  东北师范大学  ...  绿园  门将  研究所  世纪家园  \\\n",
       "0  市供热公司   0   0     0   0   0     0  0    0       0  ...   0   0    0     0   \n",
       "1  市水务集团   0   0     0   0   0     0  0    0       0  ...   0   0    0     0   \n",
       "2  市水务集团   0   0     0   0   0     0  0    0       0  ...   0   0    0     0   \n",
       "3  市燃气集团   0   0     0   0   0     0  0    0       0  ...   0   0    0     0   \n",
       "4  市公交集团   0   0     0   0   0     0  0    0       0  ...   0   0    0     0   \n",
       "\n",
       "   水务  提醒  照  煦  煤  后门  \n",
       "0   0   0  0  0  0   0  \n",
       "1   0   0  0  0  0   0  \n",
       "2   0   0  0  0  0   0  \n",
       "3   0   0  0  0  0   0  \n",
       "4   0   0  0  0  0   0  \n",
       "\n",
       "[5 rows x 6236 columns]"
      ]
     },
     "execution_count": 7,
     "metadata": {},
     "output_type": "execute_result"
    }
   ],
   "source": [
    "data = pd.read_csv('F:/大三（上）/机器学习/贝叶斯实践作业/实践作业/DataClear.csv')\n",
    "data.head()"
   ]
  },
  {
   "cell_type": "code",
   "execution_count": 8,
   "metadata": {
    "ExecuteTime": {
     "end_time": "2020-11-30T09:20:40.790806Z",
     "start_time": "2020-11-30T09:20:36.673355Z"
    }
   },
   "outputs": [],
   "source": [
    "# 将各个词汇的使用频数转换为0-1，0表示未出现某个词汇，而1表示出现了某个词汇\n",
    "data.iloc[:, 1:] = np.where(data.iloc[:, 1:]>=1, 1, 0)\n",
    "\n",
    "institution_name = data['单位名称'].unique()  \n",
    "institution_dict = dict(zip(institution_name, range(len(institution_name))))\n",
    "f = lambda x: institution_dict[x]\n",
    "data['单位名称'] = data['单位名称'].apply(f)"
   ]
  },
  {
   "cell_type": "code",
   "execution_count": 9,
   "metadata": {
    "ExecuteTime": {
     "end_time": "2020-11-30T09:20:43.567319Z",
     "start_time": "2020-11-30T09:20:43.537436Z"
    }
   },
   "outputs": [
    {
     "data": {
      "text/html": [
       "<div>\n",
       "<style scoped>\n",
       "    .dataframe tbody tr th:only-of-type {\n",
       "        vertical-align: middle;\n",
       "    }\n",
       "\n",
       "    .dataframe tbody tr th {\n",
       "        vertical-align: top;\n",
       "    }\n",
       "\n",
       "    .dataframe thead th {\n",
       "        text-align: right;\n",
       "    }\n",
       "</style>\n",
       "<table border=\"1\" class=\"dataframe\">\n",
       "  <thead>\n",
       "    <tr style=\"text-align: right;\">\n",
       "      <th></th>\n",
       "      <th>单位名称</th>\n",
       "      <th>换车</th>\n",
       "      <th>商户</th>\n",
       "      <th>吉林大路</th>\n",
       "      <th>还在</th>\n",
       "      <th>给出</th>\n",
       "      <th>安全标准</th>\n",
       "      <th>地</th>\n",
       "      <th>是因为</th>\n",
       "      <th>东北师范大学</th>\n",
       "      <th>...</th>\n",
       "      <th>绿园</th>\n",
       "      <th>门将</th>\n",
       "      <th>研究所</th>\n",
       "      <th>世纪家园</th>\n",
       "      <th>水务</th>\n",
       "      <th>提醒</th>\n",
       "      <th>照</th>\n",
       "      <th>煦</th>\n",
       "      <th>煤</th>\n",
       "      <th>后门</th>\n",
       "    </tr>\n",
       "  </thead>\n",
       "  <tbody>\n",
       "    <tr>\n",
       "      <th>0</th>\n",
       "      <td>0</td>\n",
       "      <td>0</td>\n",
       "      <td>0</td>\n",
       "      <td>0</td>\n",
       "      <td>0</td>\n",
       "      <td>0</td>\n",
       "      <td>0</td>\n",
       "      <td>0</td>\n",
       "      <td>0</td>\n",
       "      <td>0</td>\n",
       "      <td>...</td>\n",
       "      <td>0</td>\n",
       "      <td>0</td>\n",
       "      <td>0</td>\n",
       "      <td>0</td>\n",
       "      <td>0</td>\n",
       "      <td>0</td>\n",
       "      <td>0</td>\n",
       "      <td>0</td>\n",
       "      <td>0</td>\n",
       "      <td>0</td>\n",
       "    </tr>\n",
       "    <tr>\n",
       "      <th>1</th>\n",
       "      <td>1</td>\n",
       "      <td>0</td>\n",
       "      <td>0</td>\n",
       "      <td>0</td>\n",
       "      <td>0</td>\n",
       "      <td>0</td>\n",
       "      <td>0</td>\n",
       "      <td>0</td>\n",
       "      <td>0</td>\n",
       "      <td>0</td>\n",
       "      <td>...</td>\n",
       "      <td>0</td>\n",
       "      <td>0</td>\n",
       "      <td>0</td>\n",
       "      <td>0</td>\n",
       "      <td>0</td>\n",
       "      <td>0</td>\n",
       "      <td>0</td>\n",
       "      <td>0</td>\n",
       "      <td>0</td>\n",
       "      <td>0</td>\n",
       "    </tr>\n",
       "    <tr>\n",
       "      <th>2</th>\n",
       "      <td>1</td>\n",
       "      <td>0</td>\n",
       "      <td>0</td>\n",
       "      <td>0</td>\n",
       "      <td>0</td>\n",
       "      <td>0</td>\n",
       "      <td>0</td>\n",
       "      <td>0</td>\n",
       "      <td>0</td>\n",
       "      <td>0</td>\n",
       "      <td>...</td>\n",
       "      <td>0</td>\n",
       "      <td>0</td>\n",
       "      <td>0</td>\n",
       "      <td>0</td>\n",
       "      <td>0</td>\n",
       "      <td>0</td>\n",
       "      <td>0</td>\n",
       "      <td>0</td>\n",
       "      <td>0</td>\n",
       "      <td>0</td>\n",
       "    </tr>\n",
       "    <tr>\n",
       "      <th>3</th>\n",
       "      <td>2</td>\n",
       "      <td>0</td>\n",
       "      <td>0</td>\n",
       "      <td>0</td>\n",
       "      <td>0</td>\n",
       "      <td>0</td>\n",
       "      <td>0</td>\n",
       "      <td>0</td>\n",
       "      <td>0</td>\n",
       "      <td>0</td>\n",
       "      <td>...</td>\n",
       "      <td>0</td>\n",
       "      <td>0</td>\n",
       "      <td>0</td>\n",
       "      <td>0</td>\n",
       "      <td>0</td>\n",
       "      <td>0</td>\n",
       "      <td>0</td>\n",
       "      <td>0</td>\n",
       "      <td>0</td>\n",
       "      <td>0</td>\n",
       "    </tr>\n",
       "    <tr>\n",
       "      <th>4</th>\n",
       "      <td>3</td>\n",
       "      <td>0</td>\n",
       "      <td>0</td>\n",
       "      <td>0</td>\n",
       "      <td>0</td>\n",
       "      <td>0</td>\n",
       "      <td>0</td>\n",
       "      <td>0</td>\n",
       "      <td>0</td>\n",
       "      <td>0</td>\n",
       "      <td>...</td>\n",
       "      <td>0</td>\n",
       "      <td>0</td>\n",
       "      <td>0</td>\n",
       "      <td>0</td>\n",
       "      <td>0</td>\n",
       "      <td>0</td>\n",
       "      <td>0</td>\n",
       "      <td>0</td>\n",
       "      <td>0</td>\n",
       "      <td>0</td>\n",
       "    </tr>\n",
       "  </tbody>\n",
       "</table>\n",
       "<p>5 rows × 6236 columns</p>\n",
       "</div>"
      ],
      "text/plain": [
       "   单位名称  换车  商户  吉林大路  还在  给出  安全标准  地  是因为  东北师范大学  ...  绿园  门将  研究所  世纪家园  \\\n",
       "0     0   0   0     0   0   0     0  0    0       0  ...   0   0    0     0   \n",
       "1     1   0   0     0   0   0     0  0    0       0  ...   0   0    0     0   \n",
       "2     1   0   0     0   0   0     0  0    0       0  ...   0   0    0     0   \n",
       "3     2   0   0     0   0   0     0  0    0       0  ...   0   0    0     0   \n",
       "4     3   0   0     0   0   0     0  0    0       0  ...   0   0    0     0   \n",
       "\n",
       "   水务  提醒  照  煦  煤  后门  \n",
       "0   0   0  0  0  0   0  \n",
       "1   0   0  0  0  0   0  \n",
       "2   0   0  0  0  0   0  \n",
       "3   0   0  0  0  0   0  \n",
       "4   0   0  0  0  0   0  \n",
       "\n",
       "[5 rows x 6236 columns]"
      ]
     },
     "execution_count": 9,
     "metadata": {},
     "output_type": "execute_result"
    }
   ],
   "source": [
    "data.head()"
   ]
  },
  {
   "cell_type": "code",
   "execution_count": 10,
   "metadata": {
    "ExecuteTime": {
     "end_time": "2020-11-30T09:22:09.638092Z",
     "start_time": "2020-11-30T09:22:09.593213Z"
    }
   },
   "outputs": [],
   "source": [
    "X = data.iloc[:, 1:].values\n",
    "y = data['单位名称'].values"
   ]
  },
  {
   "cell_type": "code",
   "execution_count": 39,
   "metadata": {
    "ExecuteTime": {
     "end_time": "2020-11-30T10:12:28.903893Z",
     "start_time": "2020-11-30T10:12:28.664536Z"
    }
   },
   "outputs": [
    {
     "data": {
      "text/plain": [
       "((1600, 6235), (400, 6235), (1600,), (400,))"
      ]
     },
     "execution_count": 39,
     "metadata": {},
     "output_type": "execute_result"
    }
   ],
   "source": [
    "X_train,X_test,y_train,y_test = train_test_split(X,y,test_size = 0.2,random_state = 1) \n",
    "X_train.shape,X_test.shape,y_train.shape,y_test.shape"
   ]
  },
  {
   "cell_type": "code",
   "execution_count": 40,
   "metadata": {
    "ExecuteTime": {
     "end_time": "2020-11-30T10:12:36.781570Z",
     "start_time": "2020-11-30T10:12:36.380643Z"
    }
   },
   "outputs": [
    {
     "data": {
      "text/plain": [
       "array([3, 3, 2, 3, 1, 5, 0, 5, 5, 3, 5, 0, 1, 0, 0, 0, 1, 1, 1, 0, 1, 2,\n",
       "       1, 3, 2, 1, 1, 3, 3, 3, 1, 3, 5, 5, 0, 0, 2, 5, 2, 2, 5, 3, 0, 2,\n",
       "       1, 3, 3, 1, 1, 1, 4, 2, 5, 5, 5, 0, 5, 4, 5, 0, 2, 0, 1, 2, 5, 1,\n",
       "       5, 5, 1, 2, 5, 1, 1, 1, 1, 1, 2, 0, 3, 2, 3, 2, 0, 5, 1, 0, 1, 1,\n",
       "       0, 4, 1, 5, 3, 1, 3, 0, 0, 3, 5, 5, 5, 0, 1, 1, 0, 3, 5, 5, 0, 1,\n",
       "       2, 2, 5, 0, 3, 1, 3, 1, 0, 1, 0, 0, 5, 1, 1, 3, 6, 3, 1, 2, 0, 2,\n",
       "       5, 2, 5, 0, 0, 1, 3, 6, 5, 1, 4, 6, 2, 1, 0, 1, 0, 1, 1, 1, 2, 1,\n",
       "       0, 0, 0, 0, 3, 5, 0, 3, 1, 0, 0, 3, 1, 0, 1, 0, 3, 2, 1, 1, 0, 1,\n",
       "       0, 2, 1, 0, 2, 1, 0, 2, 5, 0, 1, 2, 0, 3, 1, 1, 1, 1, 1, 3, 2, 5,\n",
       "       1, 5, 1, 0, 3, 1, 2, 1, 4, 0, 0, 3, 5, 2, 5, 1, 1, 2, 0, 6, 0, 3,\n",
       "       1, 2, 2, 0, 1, 1, 1, 1, 1, 5, 1, 5, 0, 1, 5, 3, 1, 0, 3, 3, 5, 0,\n",
       "       5, 4, 1, 6, 1, 1, 3, 1, 1, 3, 1, 1, 6, 1, 1, 0, 5, 1, 5, 5, 0, 1,\n",
       "       1, 0, 0, 5, 1, 3, 5, 0, 2, 2, 5, 1, 0, 1, 0, 2, 0, 5, 4, 5, 1, 0,\n",
       "       6, 6, 0, 0, 5, 0, 5, 5, 1, 5, 2, 0, 6, 2, 5, 1, 0, 4, 5, 1, 3, 1,\n",
       "       0, 0, 6, 0, 3, 3, 5, 0, 6, 1, 1, 1, 3, 2, 2, 5, 2, 1, 0, 0, 2, 2,\n",
       "       1, 1, 1, 1, 5, 1, 1, 5, 1, 0, 1, 2, 3, 3, 1, 1, 0, 2, 5, 1, 0, 6,\n",
       "       5, 1, 5, 1, 3, 0, 1, 6, 1, 5, 2, 1, 5, 1, 2, 1, 0, 5, 3, 5, 6, 1,\n",
       "       1, 3, 5, 5, 3, 6, 5, 1, 1, 1, 2, 5, 0, 4, 6, 5, 2, 1, 0, 5, 5, 1,\n",
       "       5, 1, 2, 1], dtype=int64)"
      ]
     },
     "execution_count": 40,
     "metadata": {},
     "output_type": "execute_result"
    }
   ],
   "source": [
    "MNB = MultinomialNB()\n",
    "MNB.fit(X_train,y_train)\n",
    "y_pred = MNB.predict(X_test)\n",
    "y_pred "
   ]
  },
  {
   "cell_type": "code",
   "execution_count": 41,
   "metadata": {
    "ExecuteTime": {
     "end_time": "2020-11-30T10:12:48.195649Z",
     "start_time": "2020-11-30T10:12:48.181686Z"
    }
   },
   "outputs": [
    {
     "data": {
      "text/plain": [
       "array([[ 76,   1,   0,   0,   0,   0,   0],\n",
       "       [  0, 110,   0,   0,   0,   0,   0],\n",
       "       [  0,   0,  46,   0,   0,   0,   0],\n",
       "       [  0,   0,   0,  46,   0,   0,   0],\n",
       "       [  5,   3,   1,   0,   9,   0,   0],\n",
       "       [  0,   1,   0,   2,   0,  72,   0],\n",
       "       [  0,   9,   2,   0,   0,   1,  16]], dtype=int64)"
      ]
     },
     "execution_count": 41,
     "metadata": {},
     "output_type": "execute_result"
    }
   ],
   "source": [
    "confusion_matrix(y_test, y_pred)  #计算混淆矩阵"
   ]
  },
  {
   "cell_type": "code",
   "execution_count": 42,
   "metadata": {
    "ExecuteTime": {
     "end_time": "2020-11-30T10:12:58.771390Z",
     "start_time": "2020-11-30T10:12:58.757433Z"
    }
   },
   "outputs": [
    {
     "data": {
      "text/plain": [
       "0.9375"
      ]
     },
     "execution_count": 42,
     "metadata": {},
     "output_type": "execute_result"
    }
   ],
   "source": [
    "from sklearn.metrics import accuracy_score\n",
    "accuracy_score(y_test,y_pred )   #计算准确率"
   ]
  }
 ],
 "metadata": {
  "hide_input": false,
  "kernelspec": {
   "display_name": "Python 3",
   "language": "python",
   "name": "python3"
  },
  "language_info": {
   "codemirror_mode": {
    "name": "ipython",
    "version": 3
   },
   "file_extension": ".py",
   "mimetype": "text/x-python",
   "name": "python",
   "nbconvert_exporter": "python",
   "pygments_lexer": "ipython3",
   "version": "3.7.6"
  },
  "latex_envs": {
   "LaTeX_envs_menu_present": true,
   "autoclose": false,
   "autocomplete": true,
   "bibliofile": "biblio.bib",
   "cite_by": "apalike",
   "current_citInitial": 1,
   "eqLabelWithNumbers": true,
   "eqNumInitial": 1,
   "hotkeys": {
    "equation": "Ctrl-E",
    "itemize": "Ctrl-I"
   },
   "labels_anchors": false,
   "latex_user_defs": false,
   "report_style_numbering": false,
   "user_envs_cfg": false
  },
  "nbTranslate": {
   "displayLangs": [
    "*"
   ],
   "hotkey": "alt-t",
   "langInMainMenu": true,
   "sourceLang": "en",
   "targetLang": "fr",
   "useGoogleTranslate": true
  },
  "toc": {
   "base_numbering": 1,
   "nav_menu": {},
   "number_sections": true,
   "sideBar": true,
   "skip_h1_title": false,
   "title_cell": "Table of Contents",
   "title_sidebar": "Contents",
   "toc_cell": false,
   "toc_position": {},
   "toc_section_display": true,
   "toc_window_display": false
  },
  "varInspector": {
   "cols": {
    "lenName": 16,
    "lenType": 16,
    "lenVar": 40
   },
   "kernels_config": {
    "python": {
     "delete_cmd_postfix": "",
     "delete_cmd_prefix": "del ",
     "library": "var_list.py",
     "varRefreshCmd": "print(var_dic_list())"
    },
    "r": {
     "delete_cmd_postfix": ") ",
     "delete_cmd_prefix": "rm(",
     "library": "var_list.r",
     "varRefreshCmd": "cat(var_dic_list()) "
    }
   },
   "types_to_exclude": [
    "module",
    "function",
    "builtin_function_or_method",
    "instance",
    "_Feature"
   ],
   "window_display": false
  }
 },
 "nbformat": 4,
 "nbformat_minor": 2
}
