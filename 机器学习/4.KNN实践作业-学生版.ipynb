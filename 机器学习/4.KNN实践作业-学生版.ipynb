{
 "cells": [
  {
   "cell_type": "markdown",
   "metadata": {},
   "source": [
    "# 4.KNN实践作业"
   ]
  },
  {
   "cell_type": "markdown",
   "metadata": {},
   "source": [
    "## 1.完成移动客户流失或大学生恋爱数据的KNN分析，并与逻辑回归进行对比、评价。"
   ]
  },
  {
   "cell_type": "markdown",
   "metadata": {},
   "source": [
    "**具体要求如下**"
   ]
  },
  {
   "cell_type": "markdown",
   "metadata": {},
   "source": [
    "**（1）两个数据任选一个分析，要求是完整的数据分析流程**"
   ]
  },
  {
   "cell_type": "markdown",
   "metadata": {},
   "source": [
    "**（2）代码在此文档中完成**"
   ]
  },
  {
   "cell_type": "markdown",
   "metadata": {},
   "source": [
    "**（3）在逻辑回归三人合作完成的分析报告基础上添加与KNN模型的对比分析，并完成分析报告（背景、数据介绍、描述分析、模型思想、模型构建、模型对比分析、结论及建议，格式：宋体、小四、1.5倍行距）**\n",
    "\n"
   ]
  },
  {
   "cell_type": "code",
   "execution_count": 1,
   "metadata": {},
   "outputs": [],
   "source": [
    "import numpy as np\n",
    "from collections import Counter\n",
    "import random\n",
    "import matplotlib.pyplot as plt\n",
    "from sklearn import datasets\n",
    "from sklearn.utils import shuffle\n",
    "plt.rcParams['figure.figsize'] = (10.0, 8.0) \n",
    "plt.rcParams['image.interpolation'] = 'nearest'\n",
    "plt.rcParams['image.cmap'] = 'gray'"
   ]
  },
  {
   "cell_type": "markdown",
   "metadata": {
    "collapsed": true
   },
   "source": [
    "### （1）读入数据"
   ]
  },
  {
   "cell_type": "code",
   "execution_count": 57,
   "metadata": {},
   "outputs": [
    {
     "data": {
      "text/html": [
       "<div>\n",
       "<style scoped>\n",
       "    .dataframe tbody tr th:only-of-type {\n",
       "        vertical-align: middle;\n",
       "    }\n",
       "\n",
       "    .dataframe tbody tr th {\n",
       "        vertical-align: top;\n",
       "    }\n",
       "\n",
       "    .dataframe thead th {\n",
       "        text-align: right;\n",
       "    }\n",
       "</style>\n",
       "<table border=\"1\" class=\"dataframe\">\n",
       "  <thead>\n",
       "    <tr style=\"text-align: right;\">\n",
       "      <th></th>\n",
       "      <th>是否恋爱</th>\n",
       "      <th>年级</th>\n",
       "      <th>性别</th>\n",
       "      <th>是否追求过别人</th>\n",
       "      <th>是否被别人追求过</th>\n",
       "      <th>每周自习时间</th>\n",
       "      <th>每周娱乐时间</th>\n",
       "      <th>每周睡觉时间</th>\n",
       "      <th>每周运动时间</th>\n",
       "      <th>每月话费</th>\n",
       "      <th>...</th>\n",
       "      <th>乐器</th>\n",
       "      <th>其他才艺</th>\n",
       "      <th>家乡</th>\n",
       "      <th>成绩水平</th>\n",
       "      <th>生活费_百元</th>\n",
       "      <th>寝室同学是否谈过恋爱</th>\n",
       "      <th>身高</th>\n",
       "      <th>体重</th>\n",
       "      <th>是否戴眼镜</th>\n",
       "      <th>颜值</th>\n",
       "    </tr>\n",
       "  </thead>\n",
       "  <tbody>\n",
       "    <tr>\n",
       "      <th>0</th>\n",
       "      <td>否</td>\n",
       "      <td>大四</td>\n",
       "      <td>男</td>\n",
       "      <td>否</td>\n",
       "      <td>否</td>\n",
       "      <td>50</td>\n",
       "      <td>45</td>\n",
       "      <td>70</td>\n",
       "      <td>0</td>\n",
       "      <td>70</td>\n",
       "      <td>...</td>\n",
       "      <td>否</td>\n",
       "      <td>是</td>\n",
       "      <td>3三线城市</td>\n",
       "      <td>30</td>\n",
       "      <td>13</td>\n",
       "      <td>是</td>\n",
       "      <td>170</td>\n",
       "      <td>59.0</td>\n",
       "      <td>是</td>\n",
       "      <td>0</td>\n",
       "    </tr>\n",
       "    <tr>\n",
       "      <th>1</th>\n",
       "      <td>否</td>\n",
       "      <td>大三</td>\n",
       "      <td>男</td>\n",
       "      <td>否</td>\n",
       "      <td>否</td>\n",
       "      <td>5</td>\n",
       "      <td>45</td>\n",
       "      <td>63</td>\n",
       "      <td>5</td>\n",
       "      <td>0</td>\n",
       "      <td>...</td>\n",
       "      <td>是</td>\n",
       "      <td>否</td>\n",
       "      <td>3三线城市</td>\n",
       "      <td>10</td>\n",
       "      <td>7</td>\n",
       "      <td>是</td>\n",
       "      <td>171</td>\n",
       "      <td>70.0</td>\n",
       "      <td>是</td>\n",
       "      <td>0</td>\n",
       "    </tr>\n",
       "    <tr>\n",
       "      <th>2</th>\n",
       "      <td>否</td>\n",
       "      <td>大三</td>\n",
       "      <td>女</td>\n",
       "      <td>否</td>\n",
       "      <td>否</td>\n",
       "      <td>6</td>\n",
       "      <td>4</td>\n",
       "      <td>60</td>\n",
       "      <td>1</td>\n",
       "      <td>30</td>\n",
       "      <td>...</td>\n",
       "      <td>否</td>\n",
       "      <td>是</td>\n",
       "      <td>3三线城市</td>\n",
       "      <td>60</td>\n",
       "      <td>12</td>\n",
       "      <td>是</td>\n",
       "      <td>160</td>\n",
       "      <td>61.0</td>\n",
       "      <td>是</td>\n",
       "      <td>5</td>\n",
       "    </tr>\n",
       "    <tr>\n",
       "      <th>3</th>\n",
       "      <td>否</td>\n",
       "      <td>大四</td>\n",
       "      <td>女</td>\n",
       "      <td>是</td>\n",
       "      <td>是</td>\n",
       "      <td>16</td>\n",
       "      <td>11</td>\n",
       "      <td>56</td>\n",
       "      <td>10</td>\n",
       "      <td>38</td>\n",
       "      <td>...</td>\n",
       "      <td>否</td>\n",
       "      <td>是</td>\n",
       "      <td>1一线城市</td>\n",
       "      <td>31</td>\n",
       "      <td>8</td>\n",
       "      <td>是</td>\n",
       "      <td>162</td>\n",
       "      <td>50.0</td>\n",
       "      <td>是</td>\n",
       "      <td>6</td>\n",
       "    </tr>\n",
       "    <tr>\n",
       "      <th>4</th>\n",
       "      <td>否</td>\n",
       "      <td>大四</td>\n",
       "      <td>男</td>\n",
       "      <td>否</td>\n",
       "      <td>否</td>\n",
       "      <td>35</td>\n",
       "      <td>25</td>\n",
       "      <td>42</td>\n",
       "      <td>5</td>\n",
       "      <td>40</td>\n",
       "      <td>...</td>\n",
       "      <td>否</td>\n",
       "      <td>是</td>\n",
       "      <td>5农村</td>\n",
       "      <td>55</td>\n",
       "      <td>10</td>\n",
       "      <td>是</td>\n",
       "      <td>175</td>\n",
       "      <td>72.0</td>\n",
       "      <td>是</td>\n",
       "      <td>5</td>\n",
       "    </tr>\n",
       "  </tbody>\n",
       "</table>\n",
       "<p>5 rows × 32 columns</p>\n",
       "</div>"
      ],
      "text/plain": [
       "  是否恋爱  年级 性别 是否追求过别人 是否被别人追求过  每周自习时间  每周娱乐时间  每周睡觉时间  每周运动时间  每月话费  ...  乐器  \\\n",
       "0    否  大四  男       否        否      50      45      70       0    70  ...   否   \n",
       "1    否  大三  男       否        否       5      45      63       5     0  ...   是   \n",
       "2    否  大三  女       否        否       6       4      60       1    30  ...   否   \n",
       "3    否  大四  女       是        是      16      11      56      10    38  ...   否   \n",
       "4    否  大四  男       否        否      35      25      42       5    40  ...   否   \n",
       "\n",
       "  其他才艺     家乡 成绩水平 生活费_百元 寝室同学是否谈过恋爱   身高    体重 是否戴眼镜 颜值  \n",
       "0    是  3三线城市   30     13          是  170  59.0     是  0  \n",
       "1    否  3三线城市   10      7          是  171  70.0     是  0  \n",
       "2    是  3三线城市   60     12          是  160  61.0     是  5  \n",
       "3    是  1一线城市   31      8          是  162  50.0     是  6  \n",
       "4    是    5农村   55     10          是  175  72.0     是  5  \n",
       "\n",
       "[5 rows x 32 columns]"
      ]
     },
     "execution_count": 57,
     "metadata": {},
     "output_type": "execute_result"
    }
   ],
   "source": [
    "import pandas as pd\n",
    "# 读入数据\n",
    "data = pd.read_csv('F:/大三（上）/机器学习/4.实践作业/4.2实践作业/大学生恋爱数据.csv',encoding='gbk')\n",
    "data.head()"
   ]
  },
  {
   "cell_type": "markdown",
   "metadata": {},
   "source": [
    "### （2）特征处理"
   ]
  },
  {
   "cell_type": "code",
   "execution_count": 58,
   "metadata": {},
   "outputs": [
    {
     "data": {
      "text/html": [
       "<div>\n",
       "<style scoped>\n",
       "    .dataframe tbody tr th:only-of-type {\n",
       "        vertical-align: middle;\n",
       "    }\n",
       "\n",
       "    .dataframe tbody tr th {\n",
       "        vertical-align: top;\n",
       "    }\n",
       "\n",
       "    .dataframe thead th {\n",
       "        text-align: right;\n",
       "    }\n",
       "</style>\n",
       "<table border=\"1\" class=\"dataframe\">\n",
       "  <thead>\n",
       "    <tr style=\"text-align: right;\">\n",
       "      <th></th>\n",
       "      <th>年级_大三</th>\n",
       "      <th>年级_大二</th>\n",
       "      <th>年级_大四</th>\n",
       "      <th>性别_男</th>\n",
       "      <th>是否追求过别人_是</th>\n",
       "      <th>是否被别人追求过_是</th>\n",
       "      <th>班干部_是</th>\n",
       "      <th>党员_是</th>\n",
       "      <th>足球_是</th>\n",
       "      <th>篮球_是</th>\n",
       "      <th>...</th>\n",
       "      <th>主持_是</th>\n",
       "      <th>舞蹈_是</th>\n",
       "      <th>乐器_是</th>\n",
       "      <th>其他才艺_是</th>\n",
       "      <th>家乡_2二线城市</th>\n",
       "      <th>家乡_3三线城市</th>\n",
       "      <th>家乡_4县级市</th>\n",
       "      <th>家乡_5农村</th>\n",
       "      <th>寝室同学是否谈过恋爱_是</th>\n",
       "      <th>是否戴眼镜_是</th>\n",
       "    </tr>\n",
       "  </thead>\n",
       "  <tbody>\n",
       "    <tr>\n",
       "      <th>0</th>\n",
       "      <td>0</td>\n",
       "      <td>0</td>\n",
       "      <td>1</td>\n",
       "      <td>1</td>\n",
       "      <td>0</td>\n",
       "      <td>0</td>\n",
       "      <td>1</td>\n",
       "      <td>0</td>\n",
       "      <td>0</td>\n",
       "      <td>0</td>\n",
       "      <td>...</td>\n",
       "      <td>0</td>\n",
       "      <td>0</td>\n",
       "      <td>0</td>\n",
       "      <td>1</td>\n",
       "      <td>0</td>\n",
       "      <td>1</td>\n",
       "      <td>0</td>\n",
       "      <td>0</td>\n",
       "      <td>1</td>\n",
       "      <td>1</td>\n",
       "    </tr>\n",
       "    <tr>\n",
       "      <th>1</th>\n",
       "      <td>1</td>\n",
       "      <td>0</td>\n",
       "      <td>0</td>\n",
       "      <td>1</td>\n",
       "      <td>0</td>\n",
       "      <td>0</td>\n",
       "      <td>0</td>\n",
       "      <td>0</td>\n",
       "      <td>0</td>\n",
       "      <td>0</td>\n",
       "      <td>...</td>\n",
       "      <td>0</td>\n",
       "      <td>0</td>\n",
       "      <td>1</td>\n",
       "      <td>0</td>\n",
       "      <td>0</td>\n",
       "      <td>1</td>\n",
       "      <td>0</td>\n",
       "      <td>0</td>\n",
       "      <td>1</td>\n",
       "      <td>1</td>\n",
       "    </tr>\n",
       "    <tr>\n",
       "      <th>2</th>\n",
       "      <td>1</td>\n",
       "      <td>0</td>\n",
       "      <td>0</td>\n",
       "      <td>0</td>\n",
       "      <td>0</td>\n",
       "      <td>0</td>\n",
       "      <td>1</td>\n",
       "      <td>1</td>\n",
       "      <td>0</td>\n",
       "      <td>0</td>\n",
       "      <td>...</td>\n",
       "      <td>0</td>\n",
       "      <td>0</td>\n",
       "      <td>0</td>\n",
       "      <td>1</td>\n",
       "      <td>0</td>\n",
       "      <td>1</td>\n",
       "      <td>0</td>\n",
       "      <td>0</td>\n",
       "      <td>1</td>\n",
       "      <td>1</td>\n",
       "    </tr>\n",
       "    <tr>\n",
       "      <th>3</th>\n",
       "      <td>0</td>\n",
       "      <td>0</td>\n",
       "      <td>1</td>\n",
       "      <td>0</td>\n",
       "      <td>1</td>\n",
       "      <td>1</td>\n",
       "      <td>1</td>\n",
       "      <td>0</td>\n",
       "      <td>0</td>\n",
       "      <td>0</td>\n",
       "      <td>...</td>\n",
       "      <td>0</td>\n",
       "      <td>0</td>\n",
       "      <td>0</td>\n",
       "      <td>1</td>\n",
       "      <td>0</td>\n",
       "      <td>0</td>\n",
       "      <td>0</td>\n",
       "      <td>0</td>\n",
       "      <td>1</td>\n",
       "      <td>1</td>\n",
       "    </tr>\n",
       "    <tr>\n",
       "      <th>4</th>\n",
       "      <td>0</td>\n",
       "      <td>0</td>\n",
       "      <td>1</td>\n",
       "      <td>1</td>\n",
       "      <td>0</td>\n",
       "      <td>0</td>\n",
       "      <td>0</td>\n",
       "      <td>0</td>\n",
       "      <td>0</td>\n",
       "      <td>1</td>\n",
       "      <td>...</td>\n",
       "      <td>0</td>\n",
       "      <td>0</td>\n",
       "      <td>0</td>\n",
       "      <td>1</td>\n",
       "      <td>0</td>\n",
       "      <td>0</td>\n",
       "      <td>0</td>\n",
       "      <td>1</td>\n",
       "      <td>1</td>\n",
       "      <td>1</td>\n",
       "    </tr>\n",
       "  </tbody>\n",
       "</table>\n",
       "<p>5 rows × 25 columns</p>\n",
       "</div>"
      ],
      "text/plain": [
       "   年级_大三  年级_大二  年级_大四  性别_男  是否追求过别人_是  是否被别人追求过_是  班干部_是  党员_是  足球_是  篮球_是  \\\n",
       "0      0      0      1     1          0           0      1     0     0     0   \n",
       "1      1      0      0     1          0           0      0     0     0     0   \n",
       "2      1      0      0     0          0           0      1     1     0     0   \n",
       "3      0      0      1     0          1           1      1     0     0     0   \n",
       "4      0      0      1     1          0           0      0     0     0     1   \n",
       "\n",
       "   ...  主持_是  舞蹈_是  乐器_是  其他才艺_是  家乡_2二线城市  家乡_3三线城市  家乡_4县级市  家乡_5农村  \\\n",
       "0  ...     0     0     0       1         0         1        0       0   \n",
       "1  ...     0     0     1       0         0         1        0       0   \n",
       "2  ...     0     0     0       1         0         1        0       0   \n",
       "3  ...     0     0     0       1         0         0        0       0   \n",
       "4  ...     0     0     0       1         0         0        0       1   \n",
       "\n",
       "   寝室同学是否谈过恋爱_是  是否戴眼镜_是  \n",
       "0             1        1  \n",
       "1             1        1  \n",
       "2             1        1  \n",
       "3             1        1  \n",
       "4             1        1  \n",
       "\n",
       "[5 rows x 25 columns]"
      ]
     },
     "execution_count": 58,
     "metadata": {},
     "output_type": "execute_result"
    }
   ],
   "source": [
    "# 分类变量编码\n",
    "data['年级']=data['年级'].astype(str)\n",
    "class_data=pd.get_dummies(data[['年级','性别','是否追求过别人','是否被别人追求过','班干部','党员','足球','篮球','乒乓球','羽毛球','跑步','台球','唱歌','主持','舞蹈','乐器','其他才艺','家乡','寝室同学是否谈过恋爱','是否戴眼镜']], drop_first=True)\n",
    "class_data.head() "
   ]
  },
  {
   "cell_type": "code",
   "execution_count": 59,
   "metadata": {},
   "outputs": [
    {
     "data": {
      "text/html": [
       "<div>\n",
       "<style scoped>\n",
       "    .dataframe tbody tr th:only-of-type {\n",
       "        vertical-align: middle;\n",
       "    }\n",
       "\n",
       "    .dataframe tbody tr th {\n",
       "        vertical-align: top;\n",
       "    }\n",
       "\n",
       "    .dataframe thead th {\n",
       "        text-align: right;\n",
       "    }\n",
       "</style>\n",
       "<table border=\"1\" class=\"dataframe\">\n",
       "  <thead>\n",
       "    <tr style=\"text-align: right;\">\n",
       "      <th></th>\n",
       "      <th>每周自习时间</th>\n",
       "      <th>每周娱乐时间</th>\n",
       "      <th>每周睡觉时间</th>\n",
       "      <th>每周运动时间</th>\n",
       "      <th>每月话费</th>\n",
       "      <th>学生组织个数</th>\n",
       "      <th>成绩水平</th>\n",
       "      <th>生活费_百元</th>\n",
       "      <th>身高</th>\n",
       "      <th>体重</th>\n",
       "      <th>颜值</th>\n",
       "    </tr>\n",
       "  </thead>\n",
       "  <tbody>\n",
       "    <tr>\n",
       "      <th>0</th>\n",
       "      <td>2.395950</td>\n",
       "      <td>2.153485</td>\n",
       "      <td>1.485031</td>\n",
       "      <td>-1.237865</td>\n",
       "      <td>0.468947</td>\n",
       "      <td>-1.729630</td>\n",
       "      <td>-0.512603</td>\n",
       "      <td>-0.536855</td>\n",
       "      <td>0.073876</td>\n",
       "      <td>-0.094679</td>\n",
       "      <td>-2.570115</td>\n",
       "    </tr>\n",
       "    <tr>\n",
       "      <th>1</th>\n",
       "      <td>-1.109443</td>\n",
       "      <td>2.153485</td>\n",
       "      <td>0.836022</td>\n",
       "      <td>-0.229260</td>\n",
       "      <td>-2.042964</td>\n",
       "      <td>-1.729630</td>\n",
       "      <td>-1.251739</td>\n",
       "      <td>-0.783533</td>\n",
       "      <td>0.183198</td>\n",
       "      <td>0.812161</td>\n",
       "      <td>-2.570115</td>\n",
       "    </tr>\n",
       "    <tr>\n",
       "      <th>2</th>\n",
       "      <td>-1.031545</td>\n",
       "      <td>-0.895763</td>\n",
       "      <td>0.557876</td>\n",
       "      <td>-1.036144</td>\n",
       "      <td>-0.966431</td>\n",
       "      <td>0.627494</td>\n",
       "      <td>0.596102</td>\n",
       "      <td>-0.577968</td>\n",
       "      <td>-1.019343</td>\n",
       "      <td>0.070201</td>\n",
       "      <td>-0.499038</td>\n",
       "    </tr>\n",
       "    <tr>\n",
       "      <th>3</th>\n",
       "      <td>-0.252569</td>\n",
       "      <td>-0.375159</td>\n",
       "      <td>0.187013</td>\n",
       "      <td>0.779346</td>\n",
       "      <td>-0.679355</td>\n",
       "      <td>1.216774</td>\n",
       "      <td>-0.475646</td>\n",
       "      <td>-0.742420</td>\n",
       "      <td>-0.800699</td>\n",
       "      <td>-0.836640</td>\n",
       "      <td>-0.084822</td>\n",
       "    </tr>\n",
       "    <tr>\n",
       "      <th>4</th>\n",
       "      <td>1.227485</td>\n",
       "      <td>0.666047</td>\n",
       "      <td>-1.111005</td>\n",
       "      <td>-0.229260</td>\n",
       "      <td>-0.607586</td>\n",
       "      <td>-1.140349</td>\n",
       "      <td>0.411318</td>\n",
       "      <td>-0.660194</td>\n",
       "      <td>0.620486</td>\n",
       "      <td>0.977041</td>\n",
       "      <td>-0.499038</td>\n",
       "    </tr>\n",
       "  </tbody>\n",
       "</table>\n",
       "</div>"
      ],
      "text/plain": [
       "     每周自习时间    每周娱乐时间    每周睡觉时间    每周运动时间      每月话费    学生组织个数      成绩水平  \\\n",
       "0  2.395950  2.153485  1.485031 -1.237865  0.468947 -1.729630 -0.512603   \n",
       "1 -1.109443  2.153485  0.836022 -0.229260 -2.042964 -1.729630 -1.251739   \n",
       "2 -1.031545 -0.895763  0.557876 -1.036144 -0.966431  0.627494  0.596102   \n",
       "3 -0.252569 -0.375159  0.187013  0.779346 -0.679355  1.216774 -0.475646   \n",
       "4  1.227485  0.666047 -1.111005 -0.229260 -0.607586 -1.140349  0.411318   \n",
       "\n",
       "     生活费_百元        身高        体重        颜值  \n",
       "0 -0.536855  0.073876 -0.094679 -2.570115  \n",
       "1 -0.783533  0.183198  0.812161 -2.570115  \n",
       "2 -0.577968 -1.019343  0.070201 -0.499038  \n",
       "3 -0.742420 -0.800699 -0.836640 -0.084822  \n",
       "4 -0.660194  0.620486  0.977041 -0.499038  "
      ]
     },
     "execution_count": 59,
     "metadata": {},
     "output_type": "execute_result"
    }
   ],
   "source": [
    "# 数值变量数据标准化\n",
    "from sklearn.preprocessing import StandardScaler\n",
    "scaler=StandardScaler()\n",
    "\n",
    "num_data=scaler.fit_transform(data[['每周自习时间','每周娱乐时间','每周睡觉时间','每周运动时间','每月话费','学生组织个数','成绩水平','生活费_百元','身高','体重','颜值']])\n",
    "num_data=pd.DataFrame(num_data,columns=['每周自习时间','每周娱乐时间','每周睡觉时间','每周运动时间','每月话费','学生组织个数','成绩水平','生活费_百元','身高','体重','颜值'])\n",
    "num_data.head()"
   ]
  },
  {
   "cell_type": "code",
   "execution_count": 60,
   "metadata": {},
   "outputs": [
    {
     "data": {
      "text/html": [
       "<div>\n",
       "<style scoped>\n",
       "    .dataframe tbody tr th:only-of-type {\n",
       "        vertical-align: middle;\n",
       "    }\n",
       "\n",
       "    .dataframe tbody tr th {\n",
       "        vertical-align: top;\n",
       "    }\n",
       "\n",
       "    .dataframe thead th {\n",
       "        text-align: right;\n",
       "    }\n",
       "</style>\n",
       "<table border=\"1\" class=\"dataframe\">\n",
       "  <thead>\n",
       "    <tr style=\"text-align: right;\">\n",
       "      <th></th>\n",
       "      <th>是否恋爱</th>\n",
       "      <th>年级_大三</th>\n",
       "      <th>年级_大二</th>\n",
       "      <th>年级_大四</th>\n",
       "      <th>性别_男</th>\n",
       "      <th>是否追求过别人_是</th>\n",
       "      <th>是否被别人追求过_是</th>\n",
       "      <th>班干部_是</th>\n",
       "      <th>党员_是</th>\n",
       "      <th>足球_是</th>\n",
       "      <th>...</th>\n",
       "      <th>每周娱乐时间</th>\n",
       "      <th>每周睡觉时间</th>\n",
       "      <th>每周运动时间</th>\n",
       "      <th>每月话费</th>\n",
       "      <th>学生组织个数</th>\n",
       "      <th>成绩水平</th>\n",
       "      <th>生活费_百元</th>\n",
       "      <th>身高</th>\n",
       "      <th>体重</th>\n",
       "      <th>颜值</th>\n",
       "    </tr>\n",
       "  </thead>\n",
       "  <tbody>\n",
       "    <tr>\n",
       "      <th>0</th>\n",
       "      <td>否</td>\n",
       "      <td>0</td>\n",
       "      <td>0</td>\n",
       "      <td>1</td>\n",
       "      <td>1</td>\n",
       "      <td>0</td>\n",
       "      <td>0</td>\n",
       "      <td>1</td>\n",
       "      <td>0</td>\n",
       "      <td>0</td>\n",
       "      <td>...</td>\n",
       "      <td>2.153485</td>\n",
       "      <td>1.485031</td>\n",
       "      <td>-1.237865</td>\n",
       "      <td>0.468947</td>\n",
       "      <td>-1.729630</td>\n",
       "      <td>-0.512603</td>\n",
       "      <td>-0.536855</td>\n",
       "      <td>0.073876</td>\n",
       "      <td>-0.094679</td>\n",
       "      <td>-2.570115</td>\n",
       "    </tr>\n",
       "    <tr>\n",
       "      <th>1</th>\n",
       "      <td>否</td>\n",
       "      <td>1</td>\n",
       "      <td>0</td>\n",
       "      <td>0</td>\n",
       "      <td>1</td>\n",
       "      <td>0</td>\n",
       "      <td>0</td>\n",
       "      <td>0</td>\n",
       "      <td>0</td>\n",
       "      <td>0</td>\n",
       "      <td>...</td>\n",
       "      <td>2.153485</td>\n",
       "      <td>0.836022</td>\n",
       "      <td>-0.229260</td>\n",
       "      <td>-2.042964</td>\n",
       "      <td>-1.729630</td>\n",
       "      <td>-1.251739</td>\n",
       "      <td>-0.783533</td>\n",
       "      <td>0.183198</td>\n",
       "      <td>0.812161</td>\n",
       "      <td>-2.570115</td>\n",
       "    </tr>\n",
       "    <tr>\n",
       "      <th>2</th>\n",
       "      <td>否</td>\n",
       "      <td>1</td>\n",
       "      <td>0</td>\n",
       "      <td>0</td>\n",
       "      <td>0</td>\n",
       "      <td>0</td>\n",
       "      <td>0</td>\n",
       "      <td>1</td>\n",
       "      <td>1</td>\n",
       "      <td>0</td>\n",
       "      <td>...</td>\n",
       "      <td>-0.895763</td>\n",
       "      <td>0.557876</td>\n",
       "      <td>-1.036144</td>\n",
       "      <td>-0.966431</td>\n",
       "      <td>0.627494</td>\n",
       "      <td>0.596102</td>\n",
       "      <td>-0.577968</td>\n",
       "      <td>-1.019343</td>\n",
       "      <td>0.070201</td>\n",
       "      <td>-0.499038</td>\n",
       "    </tr>\n",
       "    <tr>\n",
       "      <th>3</th>\n",
       "      <td>否</td>\n",
       "      <td>0</td>\n",
       "      <td>0</td>\n",
       "      <td>1</td>\n",
       "      <td>0</td>\n",
       "      <td>1</td>\n",
       "      <td>1</td>\n",
       "      <td>1</td>\n",
       "      <td>0</td>\n",
       "      <td>0</td>\n",
       "      <td>...</td>\n",
       "      <td>-0.375159</td>\n",
       "      <td>0.187013</td>\n",
       "      <td>0.779346</td>\n",
       "      <td>-0.679355</td>\n",
       "      <td>1.216774</td>\n",
       "      <td>-0.475646</td>\n",
       "      <td>-0.742420</td>\n",
       "      <td>-0.800699</td>\n",
       "      <td>-0.836640</td>\n",
       "      <td>-0.084822</td>\n",
       "    </tr>\n",
       "    <tr>\n",
       "      <th>4</th>\n",
       "      <td>否</td>\n",
       "      <td>0</td>\n",
       "      <td>0</td>\n",
       "      <td>1</td>\n",
       "      <td>1</td>\n",
       "      <td>0</td>\n",
       "      <td>0</td>\n",
       "      <td>0</td>\n",
       "      <td>0</td>\n",
       "      <td>0</td>\n",
       "      <td>...</td>\n",
       "      <td>0.666047</td>\n",
       "      <td>-1.111005</td>\n",
       "      <td>-0.229260</td>\n",
       "      <td>-0.607586</td>\n",
       "      <td>-1.140349</td>\n",
       "      <td>0.411318</td>\n",
       "      <td>-0.660194</td>\n",
       "      <td>0.620486</td>\n",
       "      <td>0.977041</td>\n",
       "      <td>-0.499038</td>\n",
       "    </tr>\n",
       "  </tbody>\n",
       "</table>\n",
       "<p>5 rows × 37 columns</p>\n",
       "</div>"
      ],
      "text/plain": [
       "  是否恋爱  年级_大三  年级_大二  年级_大四  性别_男  是否追求过别人_是  是否被别人追求过_是  班干部_是  党员_是  足球_是  \\\n",
       "0    否      0      0      1     1          0           0      1     0     0   \n",
       "1    否      1      0      0     1          0           0      0     0     0   \n",
       "2    否      1      0      0     0          0           0      1     1     0   \n",
       "3    否      0      0      1     0          1           1      1     0     0   \n",
       "4    否      0      0      1     1          0           0      0     0     0   \n",
       "\n",
       "   ...    每周娱乐时间    每周睡觉时间    每周运动时间      每月话费    学生组织个数      成绩水平    生活费_百元  \\\n",
       "0  ...  2.153485  1.485031 -1.237865  0.468947 -1.729630 -0.512603 -0.536855   \n",
       "1  ...  2.153485  0.836022 -0.229260 -2.042964 -1.729630 -1.251739 -0.783533   \n",
       "2  ... -0.895763  0.557876 -1.036144 -0.966431  0.627494  0.596102 -0.577968   \n",
       "3  ... -0.375159  0.187013  0.779346 -0.679355  1.216774 -0.475646 -0.742420   \n",
       "4  ...  0.666047 -1.111005 -0.229260 -0.607586 -1.140349  0.411318 -0.660194   \n",
       "\n",
       "         身高        体重        颜值  \n",
       "0  0.073876 -0.094679 -2.570115  \n",
       "1  0.183198  0.812161 -2.570115  \n",
       "2 -1.019343  0.070201 -0.499038  \n",
       "3 -0.800699 -0.836640 -0.084822  \n",
       "4  0.620486  0.977041 -0.499038  \n",
       "\n",
       "[5 rows x 37 columns]"
      ]
     },
     "execution_count": 60,
     "metadata": {},
     "output_type": "execute_result"
    }
   ],
   "source": [
    "#数据拼接\n",
    "data_new=pd.concat([data['是否恋爱'],class_data,num_data],axis=1)\n",
    "data_new.head()"
   ]
  },
  {
   "cell_type": "markdown",
   "metadata": {},
   "source": [
    "### （3）拆分数据集"
   ]
  },
  {
   "cell_type": "code",
   "execution_count": 61,
   "metadata": {},
   "outputs": [],
   "source": [
    "from sklearn.model_selection import train_test_split\n",
    "\n",
    "X = data_new.drop('是否恋爱', axis=1)\n",
    "y = data_new.是否恋爱\n",
    "X_train, X_test, y_train, y_test = train_test_split(X, y, test_size=0.1,random_state=52)"
   ]
  },
  {
   "cell_type": "code",
   "execution_count": 62,
   "metadata": {},
   "outputs": [
    {
     "data": {
      "text/plain": [
       "(263, 36)"
      ]
     },
     "execution_count": 62,
     "metadata": {},
     "output_type": "execute_result"
    }
   ],
   "source": [
    "X_train.shape"
   ]
  },
  {
   "cell_type": "code",
   "execution_count": 63,
   "metadata": {},
   "outputs": [
    {
     "data": {
      "text/plain": [
       "(30, 36)"
      ]
     },
     "execution_count": 63,
     "metadata": {},
     "output_type": "execute_result"
    }
   ],
   "source": [
    "X_test.shape"
   ]
  },
  {
   "cell_type": "markdown",
   "metadata": {},
   "source": [
    "### （4）构建KNN模型"
   ]
  },
  {
   "cell_type": "code",
   "execution_count": 64,
   "metadata": {},
   "outputs": [
    {
     "data": {
      "text/plain": [
       "KNeighborsClassifier()"
      ]
     },
     "execution_count": 64,
     "metadata": {},
     "output_type": "execute_result"
    }
   ],
   "source": [
    "#使用K-NN对训练集数据进行训练\n",
    "from sklearn import neighbors\n",
    "from sklearn import metrics \n",
    "\n",
    "KNN_model = neighbors.KNeighborsClassifier(n_neighbors = 5, metric = 'minkowski', p = 2)\n",
    "KNN_model.fit(X_train, y_train)"
   ]
  },
  {
   "cell_type": "code",
   "execution_count": 65,
   "metadata": {},
   "outputs": [],
   "source": [
    "#对测试集进行预测\n",
    "y_predict = KNN_model.predict(X_test)\n",
    "y_predict_prob=KNN_model.predict_proba(X_test)[:,1]"
   ]
  },
  {
   "cell_type": "code",
   "execution_count": 66,
   "metadata": {},
   "outputs": [
    {
     "data": {
      "text/plain": [
       "0.88"
      ]
     },
     "execution_count": 66,
     "metadata": {},
     "output_type": "execute_result"
    }
   ],
   "source": [
    "metrics.roc_auc_score(y_test,y_predict_prob) #AUC"
   ]
  },
  {
   "cell_type": "code",
   "execution_count": 67,
   "metadata": {},
   "outputs": [
    {
     "name": "stdout",
     "output_type": "stream",
     "text": [
      "查准率 查全率 F1值：\n",
      "              precision    recall  f1-score   support\n",
      "\n",
      "           否       0.60      0.60      0.60         5\n",
      "           是       0.92      0.92      0.92        25\n",
      "\n",
      "    accuracy                           0.87        30\n",
      "   macro avg       0.76      0.76      0.76        30\n",
      "weighted avg       0.87      0.87      0.87        30\n",
      "\n"
     ]
    }
   ],
   "source": [
    "print('查准率','查全率','F1值：')\n",
    "print(metrics.classification_report(y_test,y_predict))"
   ]
  },
  {
   "cell_type": "code",
   "execution_count": 68,
   "metadata": {},
   "outputs": [
    {
     "name": "stdout",
     "output_type": "stream",
     "text": [
      "混淆矩阵：\n",
      "[[ 3  2]\n",
      " [ 2 23]]\n"
     ]
    }
   ],
   "source": [
    "print('混淆矩阵：')\n",
    "print(metrics.confusion_matrix(y_test,y_predict)) "
   ]
  },
  {
   "cell_type": "code",
   "execution_count": 69,
   "metadata": {},
   "outputs": [
    {
     "data": {
      "text/html": [
       "<div>\n",
       "<style scoped>\n",
       "    .dataframe tbody tr th:only-of-type {\n",
       "        vertical-align: middle;\n",
       "    }\n",
       "\n",
       "    .dataframe tbody tr th {\n",
       "        vertical-align: top;\n",
       "    }\n",
       "\n",
       "    .dataframe thead th {\n",
       "        text-align: right;\n",
       "    }\n",
       "</style>\n",
       "<table border=\"1\" class=\"dataframe\">\n",
       "  <thead>\n",
       "    <tr style=\"text-align: right;\">\n",
       "      <th></th>\n",
       "      <th>是否恋爱</th>\n",
       "      <th>年级_大三</th>\n",
       "      <th>年级_大二</th>\n",
       "      <th>年级_大四</th>\n",
       "      <th>性别_男</th>\n",
       "      <th>是否追求过别人_是</th>\n",
       "      <th>是否被别人追求过_是</th>\n",
       "      <th>班干部_是</th>\n",
       "      <th>党员_是</th>\n",
       "      <th>足球_是</th>\n",
       "      <th>...</th>\n",
       "      <th>每周娱乐时间</th>\n",
       "      <th>每周睡觉时间</th>\n",
       "      <th>每周运动时间</th>\n",
       "      <th>每月话费</th>\n",
       "      <th>学生组织个数</th>\n",
       "      <th>成绩水平</th>\n",
       "      <th>生活费_百元</th>\n",
       "      <th>身高</th>\n",
       "      <th>体重</th>\n",
       "      <th>颜值</th>\n",
       "    </tr>\n",
       "  </thead>\n",
       "  <tbody>\n",
       "    <tr>\n",
       "      <th>0</th>\n",
       "      <td>否</td>\n",
       "      <td>0</td>\n",
       "      <td>0</td>\n",
       "      <td>1</td>\n",
       "      <td>1</td>\n",
       "      <td>0</td>\n",
       "      <td>0</td>\n",
       "      <td>1</td>\n",
       "      <td>0</td>\n",
       "      <td>0</td>\n",
       "      <td>...</td>\n",
       "      <td>2.153485</td>\n",
       "      <td>1.485031</td>\n",
       "      <td>-1.237865</td>\n",
       "      <td>0.468947</td>\n",
       "      <td>-1.729630</td>\n",
       "      <td>-0.512603</td>\n",
       "      <td>-0.536855</td>\n",
       "      <td>0.073876</td>\n",
       "      <td>-0.094679</td>\n",
       "      <td>-2.570115</td>\n",
       "    </tr>\n",
       "    <tr>\n",
       "      <th>1</th>\n",
       "      <td>否</td>\n",
       "      <td>1</td>\n",
       "      <td>0</td>\n",
       "      <td>0</td>\n",
       "      <td>1</td>\n",
       "      <td>0</td>\n",
       "      <td>0</td>\n",
       "      <td>0</td>\n",
       "      <td>0</td>\n",
       "      <td>0</td>\n",
       "      <td>...</td>\n",
       "      <td>2.153485</td>\n",
       "      <td>0.836022</td>\n",
       "      <td>-0.229260</td>\n",
       "      <td>-2.042964</td>\n",
       "      <td>-1.729630</td>\n",
       "      <td>-1.251739</td>\n",
       "      <td>-0.783533</td>\n",
       "      <td>0.183198</td>\n",
       "      <td>0.812161</td>\n",
       "      <td>-2.570115</td>\n",
       "    </tr>\n",
       "    <tr>\n",
       "      <th>2</th>\n",
       "      <td>否</td>\n",
       "      <td>1</td>\n",
       "      <td>0</td>\n",
       "      <td>0</td>\n",
       "      <td>0</td>\n",
       "      <td>0</td>\n",
       "      <td>0</td>\n",
       "      <td>1</td>\n",
       "      <td>1</td>\n",
       "      <td>0</td>\n",
       "      <td>...</td>\n",
       "      <td>-0.895763</td>\n",
       "      <td>0.557876</td>\n",
       "      <td>-1.036144</td>\n",
       "      <td>-0.966431</td>\n",
       "      <td>0.627494</td>\n",
       "      <td>0.596102</td>\n",
       "      <td>-0.577968</td>\n",
       "      <td>-1.019343</td>\n",
       "      <td>0.070201</td>\n",
       "      <td>-0.499038</td>\n",
       "    </tr>\n",
       "    <tr>\n",
       "      <th>3</th>\n",
       "      <td>否</td>\n",
       "      <td>0</td>\n",
       "      <td>0</td>\n",
       "      <td>1</td>\n",
       "      <td>0</td>\n",
       "      <td>1</td>\n",
       "      <td>1</td>\n",
       "      <td>1</td>\n",
       "      <td>0</td>\n",
       "      <td>0</td>\n",
       "      <td>...</td>\n",
       "      <td>-0.375159</td>\n",
       "      <td>0.187013</td>\n",
       "      <td>0.779346</td>\n",
       "      <td>-0.679355</td>\n",
       "      <td>1.216774</td>\n",
       "      <td>-0.475646</td>\n",
       "      <td>-0.742420</td>\n",
       "      <td>-0.800699</td>\n",
       "      <td>-0.836640</td>\n",
       "      <td>-0.084822</td>\n",
       "    </tr>\n",
       "    <tr>\n",
       "      <th>4</th>\n",
       "      <td>否</td>\n",
       "      <td>0</td>\n",
       "      <td>0</td>\n",
       "      <td>1</td>\n",
       "      <td>1</td>\n",
       "      <td>0</td>\n",
       "      <td>0</td>\n",
       "      <td>0</td>\n",
       "      <td>0</td>\n",
       "      <td>0</td>\n",
       "      <td>...</td>\n",
       "      <td>0.666047</td>\n",
       "      <td>-1.111005</td>\n",
       "      <td>-0.229260</td>\n",
       "      <td>-0.607586</td>\n",
       "      <td>-1.140349</td>\n",
       "      <td>0.411318</td>\n",
       "      <td>-0.660194</td>\n",
       "      <td>0.620486</td>\n",
       "      <td>0.977041</td>\n",
       "      <td>-0.499038</td>\n",
       "    </tr>\n",
       "  </tbody>\n",
       "</table>\n",
       "<p>5 rows × 37 columns</p>\n",
       "</div>"
      ],
      "text/plain": [
       "  是否恋爱  年级_大三  年级_大二  年级_大四  性别_男  是否追求过别人_是  是否被别人追求过_是  班干部_是  党员_是  足球_是  \\\n",
       "0    否      0      0      1     1          0           0      1     0     0   \n",
       "1    否      1      0      0     1          0           0      0     0     0   \n",
       "2    否      1      0      0     0          0           0      1     1     0   \n",
       "3    否      0      0      1     0          1           1      1     0     0   \n",
       "4    否      0      0      1     1          0           0      0     0     0   \n",
       "\n",
       "   ...    每周娱乐时间    每周睡觉时间    每周运动时间      每月话费    学生组织个数      成绩水平    生活费_百元  \\\n",
       "0  ...  2.153485  1.485031 -1.237865  0.468947 -1.729630 -0.512603 -0.536855   \n",
       "1  ...  2.153485  0.836022 -0.229260 -2.042964 -1.729630 -1.251739 -0.783533   \n",
       "2  ... -0.895763  0.557876 -1.036144 -0.966431  0.627494  0.596102 -0.577968   \n",
       "3  ... -0.375159  0.187013  0.779346 -0.679355  1.216774 -0.475646 -0.742420   \n",
       "4  ...  0.666047 -1.111005 -0.229260 -0.607586 -1.140349  0.411318 -0.660194   \n",
       "\n",
       "         身高        体重        颜值  \n",
       "0  0.073876 -0.094679 -2.570115  \n",
       "1  0.183198  0.812161 -2.570115  \n",
       "2 -1.019343  0.070201 -0.499038  \n",
       "3 -0.800699 -0.836640 -0.084822  \n",
       "4  0.620486  0.977041 -0.499038  \n",
       "\n",
       "[5 rows x 37 columns]"
      ]
     },
     "execution_count": 69,
     "metadata": {},
     "output_type": "execute_result"
    }
   ],
   "source": [
    "data_new.head()"
   ]
  },
  {
   "cell_type": "code",
   "execution_count": 70,
   "metadata": {},
   "outputs": [
    {
     "data": {
      "text/plain": [
       "159    是\n",
       "262    是\n",
       "136    是\n",
       "6      否\n",
       "169    是\n",
       "181    是\n",
       "220    是\n",
       "244    是\n",
       "76     否\n",
       "127    是\n",
       "229    是\n",
       "62     否\n",
       "161    是\n",
       "222    是\n",
       "114    是\n",
       "280    是\n",
       "1      否\n",
       "204    是\n",
       "231    是\n",
       "79     否\n",
       "94     是\n",
       "269    是\n",
       "289    是\n",
       "83     是\n",
       "221    是\n",
       "205    是\n",
       "167    是\n",
       "243    是\n",
       "168    是\n",
       "196    是\n",
       "Name: 是否恋爱, dtype: object"
      ]
     },
     "execution_count": 70,
     "metadata": {},
     "output_type": "execute_result"
    }
   ],
   "source": [
    "y_test"
   ]
  },
  {
   "cell_type": "code",
   "execution_count": 75,
   "metadata": {
    "scrolled": true
   },
   "outputs": [
    {
     "data": {
      "image/png": "[encoded data removed]",
      "text/plain": [
       "<Figure size 432x288 with 1 Axes>"
      ]
     },
     "metadata": {
      "needs_background": "light"
     },
     "output_type": "display_data"
    }
   ],
   "source": [
    "import matplotlib.pyplot as plt\n",
    "import seaborn as sns\n",
    "%matplotlib inline\n",
    "from pylab import mpl\n",
    "mpl.rcParams['font.sans-serif']=['SimHei']\n",
    "mpl.rcParams['axes.unicode_minus']=False\n",
    "\n",
    "fpr, tpr, thresholds = metrics.roc_curve(y_test, y_predict_prob, pos_label= '是')\n",
    "plt.plot(fpr, tpr) #绘制ROC曲线图\n",
    "plt.xlabel(\"FPR\") \n",
    "plt.ylabel(\"TPR\")\n",
    "plt.title(\"ROC曲线\")\n",
    "plt.show()"
   ]
  },
  {
   "cell_type": "markdown",
   "metadata": {},
   "source": [
    "### 结果分析 "
   ]
  },
  {
   "cell_type": "code",
   "execution_count": 76,
   "metadata": {
    "scrolled": true
   },
   "outputs": [
    {
     "name": "stdout",
     "output_type": "stream",
     "text": [
      "['年级_大三', '年级_大二', '年级_大四', '性别_男', '是否追求过别人_是', '是否被别人追求过_是', '班干部_是', '党员_是', '足球_是', '篮球_是', '乒乓球_是', '羽毛球_是', '跑步_是', '台球_是', '唱歌_是', '主持_是', '舞蹈_是', '乐器_是', '其他才艺_是', '家乡_2二线城市', '家乡_3三线城市', '家乡_4县级市', '家乡_5农村', '寝室同学是否谈过恋爱_是', '是否戴眼镜_是', '每周自习时间', '每周娱乐时间', '每周睡觉时间', '每周运动时间', '每月话费', '学生组织个数', '成绩水平', '生活费_百元', '身高', '体重', '颜值']\n"
     ]
    }
   ],
   "source": [
    "feature_list=list(X_train.columns)\n",
    "print(feature_list)"
   ]
  },
  {
   "cell_type": "markdown",
   "metadata": {},
   "source": [
    "## 2.模仿参考代码，利用KNN模型，预测图片中人的性别（男或女）"
   ]
  },
  {
   "cell_type": "markdown",
   "metadata": {},
   "source": [
    "### （1）前期准备 "
   ]
  },
  {
   "cell_type": "code",
   "execution_count": 25,
   "metadata": {},
   "outputs": [],
   "source": [
    "import os\n",
    "filePath = 'F:/大三（上）/机器学习/4.实践作业/4.2实践作业/二分类图'\n",
    "items = os.listdir(filePath)"
   ]
  },
  {
   "cell_type": "code",
   "execution_count": 26,
   "metadata": {},
   "outputs": [],
   "source": [
    "#为了避免有不是jpg格式的文件，有临时文件时可能会有问题，多做一步\n",
    "namelist=[]\n",
    "for name in items:\n",
    "    if name.endswith(\".jpg\"):\n",
    "        namelist.append(name)"
   ]
  },
  {
   "cell_type": "code",
   "execution_count": 27,
   "metadata": {},
   "outputs": [
    {
     "data": {
      "text/plain": [
       "350"
      ]
     },
     "execution_count": 27,
     "metadata": {},
     "output_type": "execute_result"
    }
   ],
   "source": [
    "len(namelist)"
   ]
  },
  {
   "cell_type": "code",
   "execution_count": 28,
   "metadata": {},
   "outputs": [
    {
     "data": {
      "text/plain": [
       "'0_male.jpg'"
      ]
     },
     "execution_count": 28,
     "metadata": {},
     "output_type": "execute_result"
    }
   ],
   "source": [
    "namelist[0] #355表示图片编号，后面的35表示人的类别"
   ]
  },
  {
   "cell_type": "code",
   "execution_count": 29,
   "metadata": {},
   "outputs": [
    {
     "data": {
      "text/plain": [
       "['0', 'male']"
      ]
     },
     "execution_count": 29,
     "metadata": {},
     "output_type": "execute_result"
    }
   ],
   "source": [
    "#需要将类别（输出）拆解出来\n",
    "namelist[0][:-4].split(\"_\")"
   ]
  },
  {
   "cell_type": "markdown",
   "metadata": {},
   "source": [
    "### （2）读取图片，将图片作为特征X，将人的类别作为输出Y"
   ]
  },
  {
   "cell_type": "code",
   "execution_count": 34,
   "metadata": {},
   "outputs": [],
   "source": [
    "from PIL import Image\n",
    "import numpy as np\n",
    "X=np.empty((0,4096))\n",
    "n_pixels=64\n",
    "for i in namelist:\n",
    "    img=np.array(Image.open('F:/大三（上）/机器学习/4.实践作业/4.2实践作业/二分类图/'+i).convert('L'), 'f')\n",
    "    img_new=img.reshape(1,4096)\n",
    "    X=np.vstack((X,img_new)) "
   ]
  },
  {
   "cell_type": "code",
   "execution_count": 35,
   "metadata": {},
   "outputs": [
    {
     "data": {
      "text/plain": [
       "(350, 4096)"
      ]
     },
     "execution_count": 35,
     "metadata": {},
     "output_type": "execute_result"
    }
   ],
   "source": [
    "X.shape "
   ]
  },
  {
   "cell_type": "code",
   "execution_count": 36,
   "metadata": {},
   "outputs": [
    {
     "data": {
      "text/plain": [
       "array([[ 77.,  91., 104., ...,  25.,  15.,  30.],\n",
       "       [ 68.,  39.,  43., ...,   0.,  13.,   0.],\n",
       "       [ 25.,  47., 192., ...,  12.,  54.,  39.],\n",
       "       [ 75.,  11.,  58., ...,   7.,  64.,  25.],\n",
       "       [ 10., 165., 246., ...,   4.,   0.,   1.]])"
      ]
     },
     "execution_count": 36,
     "metadata": {},
     "output_type": "execute_result"
    }
   ],
   "source": [
    "X[:5]"
   ]
  },
  {
   "cell_type": "code",
   "execution_count": 37,
   "metadata": {},
   "outputs": [],
   "source": [
    "y=[]\n",
    "for i in namelist:\n",
    "    people=i[:-4].split(\"_\")[1]\n",
    "    y.append(people) "
   ]
  },
  {
   "cell_type": "code",
   "execution_count": 38,
   "metadata": {},
   "outputs": [
    {
     "data": {
      "text/plain": [
       "array(['male', 'male', 'male', 'male', 'male', 'male', 'male', 'male',\n",
       "       'male', 'male', 'male', 'male', 'male', 'male', 'male', 'male',\n",
       "       'male', 'male', 'male', 'male', 'male', 'male', 'male', 'male',\n",
       "       'male', 'male', 'male', 'male', 'male', 'male', 'male', 'male',\n",
       "       'male', 'male', 'male', 'male', 'male', 'male', 'male', 'male',\n",
       "       'male', 'male', 'male', 'male', 'male', 'male', 'male', 'male',\n",
       "       'male', 'male', 'male', 'male', 'male', 'male', 'male', 'male',\n",
       "       'male', 'male', 'male', 'male', 'male', 'male', 'male', 'male',\n",
       "       'male', 'male', 'male', 'male', 'male', 'male', 'male', 'male',\n",
       "       'male', 'male', 'male', 'male', 'male', 'male', 'male', 'male',\n",
       "       'male', 'male', 'male', 'male', 'male', 'male', 'male', 'male',\n",
       "       'male', 'male', 'male', 'male', 'male', 'male', 'male', 'male',\n",
       "       'male', 'male', 'male', 'male', 'male', 'male', 'male', 'male',\n",
       "       'male', 'male', 'male', 'male', 'male', 'male', 'male', 'male',\n",
       "       'male', 'male', 'male', 'male', 'male', 'male', 'male', 'male',\n",
       "       'male', 'male', 'male', 'male', 'male', 'male', 'male', 'male',\n",
       "       'male', 'male', 'male', 'male', 'male', 'male', 'male', 'male',\n",
       "       'male', 'male', 'male', 'male', 'male', 'male', 'male', 'male',\n",
       "       'male', 'male', 'male', 'male', 'male', 'male', 'male', 'male',\n",
       "       'male', 'male', 'male', 'male', 'male', 'male', 'male', 'male',\n",
       "       'male', 'male', 'male', 'male', 'male', 'male', 'male', 'male',\n",
       "       'male', 'male', 'male', 'male', 'male', 'male', 'male', 'male',\n",
       "       'male', 'male', 'male', 'male', 'male', 'male', 'male', 'male',\n",
       "       'male', 'male', 'male', 'male', 'male', 'male', 'male', 'male',\n",
       "       'male', 'male', 'male', 'male', 'male', 'male', 'male', 'male',\n",
       "       'male', 'male', 'male', 'male', 'male', 'male', 'male', 'male',\n",
       "       'male', 'male', 'male', 'male', 'male', 'male', 'male', 'male',\n",
       "       'male', 'male', 'male', 'male', 'male', 'male', 'male', 'male',\n",
       "       'male', 'male', 'male', 'male', 'male', 'male', 'male', 'male',\n",
       "       'male', 'male', 'female', 'female', 'female', 'female', 'female',\n",
       "       'female', 'female', 'female', 'female', 'female', 'male', 'male',\n",
       "       'male', 'male', 'male', 'male', 'male', 'male', 'male', 'male',\n",
       "       'male', 'male', 'male', 'male', 'male', 'male', 'male', 'male',\n",
       "       'male', 'male', 'male', 'male', 'male', 'female', 'female',\n",
       "       'female', 'female', 'female', 'female', 'female', 'female',\n",
       "       'female', 'female', 'male', 'male', 'male', 'male', 'male', 'male',\n",
       "       'male', 'male', 'male', 'male', 'male', 'male', 'male', 'male',\n",
       "       'male', 'male', 'male', 'male', 'male', 'male', 'male', 'male',\n",
       "       'male', 'male', 'male', 'male', 'male', 'male', 'male', 'male',\n",
       "       'male', 'male', 'male', 'male', 'male', 'male', 'male', 'male',\n",
       "       'male', 'male', 'female', 'female', 'female', 'female', 'female',\n",
       "       'female', 'female', 'female', 'female', 'female', 'male', 'male',\n",
       "       'male', 'male', 'male', 'male', 'male', 'male', 'male', 'male',\n",
       "       'male', 'male', 'female', 'female', 'female', 'female', 'female',\n",
       "       'female', 'female', 'female', 'female', 'female', 'male'],\n",
       "      dtype='<U6')"
      ]
     },
     "execution_count": 38,
     "metadata": {},
     "output_type": "execute_result"
    }
   ],
   "source": [
    "y=np.array(y)\n",
    "y"
   ]
  },
  {
   "cell_type": "markdown",
   "metadata": {},
   "source": [
    "### （3）划分训练集和测试集"
   ]
  },
  {
   "cell_type": "code",
   "execution_count": 39,
   "metadata": {},
   "outputs": [],
   "source": [
    "from sklearn.model_selection import train_test_split \n",
    "X_train, X_test, y_train, y_test = train_test_split(X, y, test_size=0.01)"
   ]
  },
  {
   "cell_type": "code",
   "execution_count": 40,
   "metadata": {},
   "outputs": [
    {
     "data": {
      "text/plain": [
       "(346, 4096)"
      ]
     },
     "execution_count": 40,
     "metadata": {},
     "output_type": "execute_result"
    }
   ],
   "source": [
    "X_train.shape"
   ]
  },
  {
   "cell_type": "code",
   "execution_count": 41,
   "metadata": {},
   "outputs": [
    {
     "data": {
      "text/plain": [
       "(4, 4096)"
      ]
     },
     "execution_count": 41,
     "metadata": {},
     "output_type": "execute_result"
    }
   ],
   "source": [
    "X_test.shape"
   ]
  },
  {
   "cell_type": "markdown",
   "metadata": {},
   "source": [
    "### （4）构建KNN模型"
   ]
  },
  {
   "cell_type": "code",
   "execution_count": 44,
   "metadata": {},
   "outputs": [
    {
     "data": {
      "text/plain": [
       "KNeighborsClassifier()"
      ]
     },
     "execution_count": 44,
     "metadata": {},
     "output_type": "execute_result"
    }
   ],
   "source": [
    "#训练模型\n",
    "from sklearn import neighbors\n",
    "from sklearn import metrics \n",
    "\n",
    "KNN_model = neighbors.KNeighborsClassifier(n_neighbors = 5, metric = 'minkowski', p = 2)\n",
    "KNN_model.fit(X_train, y_train) "
   ]
  },
  {
   "cell_type": "code",
   "execution_count": 45,
   "metadata": {},
   "outputs": [],
   "source": [
    "#在测试集上验证\n",
    "y_predict=KNN_model.predict(X_test) #输出分类结果"
   ]
  },
  {
   "cell_type": "code",
   "execution_count": 46,
   "metadata": {},
   "outputs": [
    {
     "data": {
      "text/plain": [
       "array([[0.2, 0.8],\n",
       "       [0.6, 0.4],\n",
       "       [0. , 1. ],\n",
       "       [0. , 1. ]])"
      ]
     },
     "execution_count": 46,
     "metadata": {},
     "output_type": "execute_result"
    }
   ],
   "source": [
    "y_predict_prob=KNN_model.predict_proba(X_test)\n",
    "y_predict_prob"
   ]
  },
  {
   "cell_type": "markdown",
   "metadata": {},
   "source": [
    "### （5）看模型效果"
   ]
  },
  {
   "cell_type": "code",
   "execution_count": 47,
   "metadata": {},
   "outputs": [
    {
     "data": {
      "text/plain": [
       "array(['male', 'female', 'male', 'male'], dtype='<U6')"
      ]
     },
     "execution_count": 47,
     "metadata": {},
     "output_type": "execute_result"
    }
   ],
   "source": [
    "y_predict"
   ]
  },
  {
   "cell_type": "code",
   "execution_count": 48,
   "metadata": {},
   "outputs": [
    {
     "data": {
      "text/plain": [
       "array(['male', 'female', 'male', 'male'], dtype='<U6')"
      ]
     },
     "execution_count": 48,
     "metadata": {},
     "output_type": "execute_result"
    }
   ],
   "source": [
    "y_test"
   ]
  },
  {
   "cell_type": "code",
   "execution_count": 49,
   "metadata": {},
   "outputs": [
    {
     "name": "stdout",
     "output_type": "stream",
     "text": [
      "混淆矩阵：\n",
      "[[1 0]\n",
      " [0 3]]\n"
     ]
    }
   ],
   "source": [
    "print('混淆矩阵：')\n",
    "print(metrics.confusion_matrix(y_test,y_predict)) "
   ]
  },
  {
   "cell_type": "markdown",
   "metadata": {},
   "source": [
    "从上面预测结果来看，预测非常准确"
   ]
  }
 ],
 "metadata": {
  "hide_input": false,
  "kernelspec": {
   "display_name": "Python 3",
   "language": "python",
   "name": "python3"
  },
  "language_info": {
   "codemirror_mode": {
    "name": "ipython",
    "version": 3
   },
   "file_extension": ".py",
   "mimetype": "text/x-python",
   "name": "python",
   "nbconvert_exporter": "python",
   "pygments_lexer": "ipython3",
   "version": "3.7.6"
  },
  "latex_envs": {
   "LaTeX_envs_menu_present": true,
   "autoclose": false,
   "autocomplete": true,
   "bibliofile": "biblio.bib",
   "cite_by": "apalike",
   "current_citInitial": 1,
   "eqLabelWithNumbers": true,
   "eqNumInitial": 1,
   "hotkeys": {
    "equation": "Ctrl-E",
    "itemize": "Ctrl-I"
   },
   "labels_anchors": false,
   "latex_user_defs": false,
   "report_style_numbering": false,
   "user_envs_cfg": false
  },
  "nbTranslate": {
   "displayLangs": [
    "*"
   ],
   "hotkey": "alt-t",
   "langInMainMenu": true,
   "sourceLang": "en",
   "targetLang": "fr",
   "useGoogleTranslate": true
  },
  "toc": {
   "base_numbering": 1,
   "nav_menu": {},
   "number_sections": true,
   "sideBar": true,
   "skip_h1_title": false,
   "title_cell": "Table of Contents",
   "title_sidebar": "Contents",
   "toc_cell": false,
   "toc_position": {
    "height": "calc(100% - 180px)",
    "left": "10px",
    "top": "150px",
    "width": "246.667px"
   },
   "toc_section_display": true,
   "toc_window_display": false
  },
  "varInspector": {
   "cols": {
    "lenName": 16,
    "lenType": 16,
    "lenVar": 40
   },
   "kernels_config": {
    "python": {
     "delete_cmd_postfix": "",
     "delete_cmd_prefix": "del ",
     "library": "var_list.py",
     "varRefreshCmd": "print(var_dic_list())"
    },
    "r": {
     "delete_cmd_postfix": ") ",
     "delete_cmd_prefix": "rm(",
     "library": "var_list.r",
     "varRefreshCmd": "cat(var_dic_list()) "
    }
   },
   "types_to_exclude": [
    "module",
    "function",
    "builtin_function_or_method",
    "instance",
    "_Feature"
   ],
   "window_display": false
  }
 },
 "nbformat": 4,
 "nbformat_minor": 2
}
