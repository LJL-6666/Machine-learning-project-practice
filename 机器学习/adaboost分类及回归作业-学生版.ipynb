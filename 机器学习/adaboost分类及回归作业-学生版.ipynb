{
 "cells": [
  {
   "cell_type": "markdown",
   "metadata": {},
   "source": [
    "# adaboost实践作业"
   ]
  },
  {
   "cell_type": "markdown",
   "metadata": {},
   "source": [
    "## 1.对adaboost分类及回归的代码，逐行添加注释。"
   ]
  },
  {
   "cell_type": "code",
   "execution_count": 1,
   "metadata": {
    "ExecuteTime": {
     "end_time": "2020-11-20T08:03:16.548233Z",
     "start_time": "2020-11-20T08:03:16.522624Z"
    }
   },
   "outputs": [],
   "source": [
    "import numpy as np   \n",
    "import math           #导入数值运算库\n",
    "#训练样本数据\n",
    "x=[1.5,2.2,3.1,4.6,6.8,6.5,7.9,8.7,9.8,10.2] # 特征\n",
    "y=[1,1,-1,-1,1,-1,1,1,-1,-1]                # 类别，分别用-1和1表示\n",
    "x=np.array(x)    # 构建数组\n",
    "y=np.array(y) \n",
    "n=len(y)         # 定义类别y的长度"
   ]
  },
  {
   "cell_type": "code",
   "execution_count": 2,
   "metadata": {
    "ExecuteTime": {
     "end_time": "2020-11-20T08:03:24.123203Z",
     "start_time": "2020-11-20T08:03:24.109201Z"
    }
   },
   "outputs": [],
   "source": [
    "x1=np.zeros(len(x))             # 构建同x维度一致的用0填充的数组\n",
    "x2=np.zeros(len(x))\n",
    "for i in range(len(x)):\n",
    "    x1[i]=math.modf(x[i])[1]       # 整数部分\n",
    "    x2[i]=math.modf(x[i])[0]*10    # 小数部分"
   ]
  },
  {
   "cell_type": "code",
   "execution_count": 4,
   "metadata": {
    "ExecuteTime": {
     "end_time": "2020-11-20T08:08:26.950649Z",
     "start_time": "2020-11-20T08:08:26.785946Z"
    }
   },
   "outputs": [
    {
     "data": {
      "image/png": "[encoded data removed]",
      "text/plain": [
       "<Figure size 432x288 with 1 Axes>"
      ]
     },
     "metadata": {
      "needs_background": "light"
     },
     "output_type": "display_data"
    }
   ],
   "source": [
    "# 绘制样本分布图\n",
    "import matplotlib.pyplot as plt    # 导入绘图库\n",
    "plt.rcParams['font.sans-serif']=['SimHei']\n",
    "#plt.rcParams['font.sans-serif'] = ['Arial Unicode MS']    # 防止中文乱码\n",
    "\n",
    "plt.plot(x1[y==1],x2[y==1],'b+',MarkerSize=10);   # 设置蓝色+的数据图标\n",
    "plt.plot(x1[y==-1],x2[y==-1],'ro',MarkerSize=10);   # 设置红色圆圈的数据图标\n",
    "plt.xticks(np.arange(0, 11, 1))    # 设置x坐标轴\n",
    "plt.yticks(np.arange(0, 11, 1))    # 设置y坐标轴\n",
    "plt.legend((\"y=1\",\"y=-1\"),loc=\"upper left\")      # 给图像加图例\n",
    "plt.title('原始数据分布')     #设置标题\n",
    "plt.show()"
   ]
  },
  {
   "cell_type": "code",
   "execution_count": 5,
   "metadata": {
    "ExecuteTime": {
     "end_time": "2020-11-20T10:04:08.076429Z",
     "start_time": "2020-11-20T10:04:08.009732Z"
    }
   },
   "outputs": [],
   "source": [
    "#定义弱分类器\n",
    "def h12(x,th):\n",
    "    pre_y=np.zeros(len(x))    # 构建x长度一样的以0填充的预测集数组\n",
    "    for i in range(len(x)):   # for循环\n",
    "        if x[i]<th:          # if语句判断并分类\n",
    "            pre_y[i]=1          \n",
    "        else:\n",
    "            pre_y[i]=-1\n",
    "    return pre_y       # 返回预测值"
   ]
  },
  {
   "cell_type": "code",
   "execution_count": 6,
   "metadata": {
    "ExecuteTime": {
     "end_time": "2020-11-20T10:04:09.258930Z",
     "start_time": "2020-11-20T10:04:09.239950Z"
    }
   },
   "outputs": [],
   "source": [
    "#定义弱分类器\n",
    "def h3(x,th):\n",
    "    pre_y=np.zeros(len(x))       # 构建x长度一样的以0填充的预测集数组\n",
    "    for i in range(len(x)):     # for循环\n",
    "        if x[i]>th:             # if语句判断分类\n",
    "            pre_y[i]=1\n",
    "        else:\n",
    "            pre_y[i]=-1\n",
    "    return pre_y            # 返回预测值"
   ]
  },
  {
   "cell_type": "code",
   "execution_count": 7,
   "metadata": {
    "ExecuteTime": {
     "end_time": "2020-11-20T10:05:08.837548Z",
     "start_time": "2020-11-20T10:05:08.516130Z"
    }
   },
   "outputs": [],
   "source": [
    "from math import log    # 导入数学运算库\n",
    "\n",
    "D1=np.ones(len(x))/len(x)   # 构建分类数组\n",
    "D2=np.ones(len(x))/len(x)\n",
    "\n",
    "pre_y1=h12(x1,2.5)          # 划分预测集\n",
    "pre_y2=h12(x1,8.5)\n",
    "pre_y3=h3(x2,6.5)\n",
    "\n",
    "es1=np.zeros(3)         # 创建一维数组\n",
    "es1[0]=np.sum(D1[y!=pre_y1])   # 求和分类\n",
    "es1[1]=np.sum(D1[y!=pre_y2])\n",
    "es1[2]=np.sum(D1[y!=pre_y3])\n",
    "\n",
    "a1=0.5*log((1-min(es1))/min(es1)) # 模型权重"
   ]
  },
  {
   "cell_type": "code",
   "execution_count": 8,
   "metadata": {
    "ExecuteTime": {
     "end_time": "2020-11-20T10:05:12.907172Z",
     "start_time": "2020-11-20T10:05:12.601985Z"
    }
   },
   "outputs": [
    {
     "data": {
      "text/plain": [
       "array([0.3, 0.3, 0.3])"
      ]
     },
     "execution_count": 8,
     "metadata": {},
     "output_type": "execute_result"
    }
   ],
   "source": [
    "es1   #取第一个分类器"
   ]
  },
  {
   "cell_type": "code",
   "execution_count": 9,
   "metadata": {
    "ExecuteTime": {
     "end_time": "2020-11-20T10:05:15.992806Z",
     "start_time": "2020-11-20T10:05:15.979842Z"
    }
   },
   "outputs": [
    {
     "data": {
      "text/plain": [
       "0.4236489301936017"
      ]
     },
     "execution_count": 9,
     "metadata": {},
     "output_type": "execute_result"
    }
   ],
   "source": [
    "a1   # 模型权重"
   ]
  },
  {
   "cell_type": "code",
   "execution_count": 10,
   "metadata": {
    "ExecuteTime": {
     "end_time": "2020-11-20T10:16:15.448196Z",
     "start_time": "2020-11-20T10:16:15.441213Z"
    }
   },
   "outputs": [],
   "source": [
    "for i in range(len(x)):  # 更新权重\n",
    "    pre_y=h12(x1,2.5)    # 索引\n",
    "    D2[y==pre_y]=D1[y==pre_y]/(2*(1-min(es1)))  # 分类\n",
    "    D2[y!=pre_y]=D1[y!=pre_y]/(2*min(es1))"
   ]
  },
  {
   "cell_type": "code",
   "execution_count": 11,
   "metadata": {
    "ExecuteTime": {
     "end_time": "2020-11-20T10:16:16.735952Z",
     "start_time": "2020-11-20T10:16:16.722965Z"
    }
   },
   "outputs": [
    {
     "data": {
      "text/plain": [
       "array([0.07142857, 0.07142857, 0.07142857, 0.07142857, 0.16666667,\n",
       "       0.07142857, 0.16666667, 0.16666667, 0.07142857, 0.07142857])"
      ]
     },
     "execution_count": 11,
     "metadata": {},
     "output_type": "execute_result"
    }
   ],
   "source": [
    "D2    # 分类结果"
   ]
  },
  {
   "cell_type": "code",
   "execution_count": 12,
   "metadata": {
    "ExecuteTime": {
     "end_time": "2020-11-20T10:22:55.301796Z",
     "start_time": "2020-11-20T10:22:54.053645Z"
    }
   },
   "outputs": [
    {
     "data": {
      "image/png": "[encoded data removed]",
      "text/plain": [
       "<Figure size 432x288 with 1 Axes>"
      ]
     },
     "metadata": {
      "needs_background": "light"
     },
     "output_type": "display_data"
    }
   ],
   "source": [
    "plt.plot(x1[y==1],x2[y==1],'b+',LineWidth=4,MarkerSize=10)   # 设置蓝色+的数据图标\n",
    "plt.plot(x1[y==-1],x2[y==-1],'ro',LineWidth=4,MarkerSize=10)  # 设置红色圆圈的数据图标\n",
    "plt.axvline(x=2.5,ls=\"-\",c=\"green\")                      #   添加垂直直线\n",
    "plt.xticks(np.arange(0, 11, 1))                          # 设置x轴坐标\n",
    "plt.yticks(np.arange(0, 11, 1))                          # 设置y轴坐标\n",
    "plt.legend((\"y=1\",\"y=-1\"),loc=\"upper left\")             # 给图像加图例\n",
    "plt.title('第一轮数据分布')                           # 设置图像标题\n",
    "plt.show()"
   ]
  },
  {
   "cell_type": "code",
   "execution_count": 13,
   "metadata": {
    "ExecuteTime": {
     "end_time": "2020-11-20T10:23:37.302191Z",
     "start_time": "2020-11-20T10:23:30.314614Z"
    }
   },
   "outputs": [
    {
     "data": {
      "text/html": [
       "<div>\n",
       "<style scoped>\n",
       "    .dataframe tbody tr th:only-of-type {\n",
       "        vertical-align: middle;\n",
       "    }\n",
       "\n",
       "    .dataframe tbody tr th {\n",
       "        vertical-align: top;\n",
       "    }\n",
       "\n",
       "    .dataframe thead th {\n",
       "        text-align: right;\n",
       "    }\n",
       "</style>\n",
       "<table border=\"1\" class=\"dataframe\">\n",
       "  <thead>\n",
       "    <tr style=\"text-align: right;\">\n",
       "      <th></th>\n",
       "      <th>x</th>\n",
       "      <th>y</th>\n",
       "      <th>D1</th>\n",
       "      <th>D2</th>\n",
       "      <th>预测1</th>\n",
       "    </tr>\n",
       "  </thead>\n",
       "  <tbody>\n",
       "    <tr>\n",
       "      <th>0</th>\n",
       "      <td>1.5</td>\n",
       "      <td>1</td>\n",
       "      <td>0.1</td>\n",
       "      <td>0.071429</td>\n",
       "      <td>1.0</td>\n",
       "    </tr>\n",
       "    <tr>\n",
       "      <th>1</th>\n",
       "      <td>2.2</td>\n",
       "      <td>1</td>\n",
       "      <td>0.1</td>\n",
       "      <td>0.071429</td>\n",
       "      <td>1.0</td>\n",
       "    </tr>\n",
       "    <tr>\n",
       "      <th>2</th>\n",
       "      <td>3.1</td>\n",
       "      <td>-1</td>\n",
       "      <td>0.1</td>\n",
       "      <td>0.071429</td>\n",
       "      <td>-1.0</td>\n",
       "    </tr>\n",
       "    <tr>\n",
       "      <th>3</th>\n",
       "      <td>4.6</td>\n",
       "      <td>-1</td>\n",
       "      <td>0.1</td>\n",
       "      <td>0.071429</td>\n",
       "      <td>-1.0</td>\n",
       "    </tr>\n",
       "    <tr>\n",
       "      <th>4</th>\n",
       "      <td>6.8</td>\n",
       "      <td>1</td>\n",
       "      <td>0.1</td>\n",
       "      <td>0.166667</td>\n",
       "      <td>-1.0</td>\n",
       "    </tr>\n",
       "    <tr>\n",
       "      <th>5</th>\n",
       "      <td>6.5</td>\n",
       "      <td>-1</td>\n",
       "      <td>0.1</td>\n",
       "      <td>0.071429</td>\n",
       "      <td>-1.0</td>\n",
       "    </tr>\n",
       "    <tr>\n",
       "      <th>6</th>\n",
       "      <td>7.9</td>\n",
       "      <td>1</td>\n",
       "      <td>0.1</td>\n",
       "      <td>0.166667</td>\n",
       "      <td>-1.0</td>\n",
       "    </tr>\n",
       "    <tr>\n",
       "      <th>7</th>\n",
       "      <td>8.7</td>\n",
       "      <td>1</td>\n",
       "      <td>0.1</td>\n",
       "      <td>0.166667</td>\n",
       "      <td>-1.0</td>\n",
       "    </tr>\n",
       "    <tr>\n",
       "      <th>8</th>\n",
       "      <td>9.8</td>\n",
       "      <td>-1</td>\n",
       "      <td>0.1</td>\n",
       "      <td>0.071429</td>\n",
       "      <td>-1.0</td>\n",
       "    </tr>\n",
       "    <tr>\n",
       "      <th>9</th>\n",
       "      <td>10.2</td>\n",
       "      <td>-1</td>\n",
       "      <td>0.1</td>\n",
       "      <td>0.071429</td>\n",
       "      <td>-1.0</td>\n",
       "    </tr>\n",
       "  </tbody>\n",
       "</table>\n",
       "</div>"
      ],
      "text/plain": [
       "      x  y   D1        D2  预测1\n",
       "0   1.5  1  0.1  0.071429  1.0\n",
       "1   2.2  1  0.1  0.071429  1.0\n",
       "2   3.1 -1  0.1  0.071429 -1.0\n",
       "3   4.6 -1  0.1  0.071429 -1.0\n",
       "4   6.8  1  0.1  0.166667 -1.0\n",
       "5   6.5 -1  0.1  0.071429 -1.0\n",
       "6   7.9  1  0.1  0.166667 -1.0\n",
       "7   8.7  1  0.1  0.166667 -1.0\n",
       "8   9.8 -1  0.1  0.071429 -1.0\n",
       "9  10.2 -1  0.1  0.071429 -1.0"
      ]
     },
     "execution_count": 13,
     "metadata": {},
     "output_type": "execute_result"
    }
   ],
   "source": [
    "import pandas as pd           # 导入库\n",
    "# 利用字典\n",
    "dict1={'x':x,'y':y,'D1':D1,'D2':D2,'预测1':h12(x1,2.5)}    # 定义字典\n",
    "table1=pd.DataFrame(dict1)    # 转化为数据框\n",
    "table1"
   ]
  },
  {
   "cell_type": "code",
   "execution_count": 14,
   "metadata": {
    "ExecuteTime": {
     "end_time": "2020-11-20T10:24:47.576910Z",
     "start_time": "2020-11-20T10:24:47.559913Z"
    }
   },
   "outputs": [
    {
     "data": {
      "text/plain": [
       "array([ 1.,  1., -1., -1., -1., -1., -1., -1., -1., -1.])"
      ]
     },
     "execution_count": 14,
     "metadata": {},
     "output_type": "execute_result"
    }
   ],
   "source": [
    "result1=np.sign(a1*h12(x1,2.5))  #第一次迭代后模型结果\n",
    "result1"
   ]
  },
  {
   "cell_type": "code",
   "execution_count": 15,
   "metadata": {
    "ExecuteTime": {
     "end_time": "2020-11-20T10:25:00.626275Z",
     "start_time": "2020-11-20T10:24:49.540886Z"
    }
   },
   "outputs": [
    {
     "data": {
      "text/plain": [
       "0.7"
      ]
     },
     "execution_count": 15,
     "metadata": {},
     "output_type": "execute_result"
    }
   ],
   "source": [
    "from sklearn.metrics import accuracy_score    # 导入sklearn库的准确率计算函数\n",
    "accuracy_score(y,result1)          # 计算预测准确率"
   ]
  },
  {
   "cell_type": "markdown",
   "metadata": {},
   "source": [
    "第二轮迭代"
   ]
  },
  {
   "cell_type": "code",
   "execution_count": 16,
   "metadata": {
    "ExecuteTime": {
     "end_time": "2020-11-20T10:54:58.020117Z",
     "start_time": "2020-11-20T10:54:57.997147Z"
    }
   },
   "outputs": [],
   "source": [
    "#最优分类器\n",
    "es2=np.zeros(3)       # 创建一维数组\n",
    "es2[0]=np.sum(D2[y!=pre_y1])    # 求和分类\n",
    "es2[1]=np.sum(D2[y!=pre_y2])\n",
    "es2[2]=np.sum(D2[y!=pre_y3])\n",
    "\n",
    "a2=0.5*log((1-min(es2))/min(es2)) #模型权重"
   ]
  },
  {
   "cell_type": "code",
   "execution_count": 17,
   "metadata": {
    "ExecuteTime": {
     "end_time": "2020-11-20T10:54:59.320789Z",
     "start_time": "2020-11-20T10:54:59.306866Z"
    }
   },
   "outputs": [
    {
     "data": {
      "text/plain": [
       "array([0.5       , 0.21428571, 0.21428571])"
      ]
     },
     "execution_count": 17,
     "metadata": {},
     "output_type": "execute_result"
    }
   ],
   "source": [
    "es2 #取第二个分类器"
   ]
  },
  {
   "cell_type": "code",
   "execution_count": 18,
   "metadata": {
    "ExecuteTime": {
     "end_time": "2020-11-20T10:55:01.884379Z",
     "start_time": "2020-11-20T10:55:01.865415Z"
    }
   },
   "outputs": [
    {
     "data": {
      "text/plain": [
       "0.6496414920651304"
      ]
     },
     "execution_count": 18,
     "metadata": {},
     "output_type": "execute_result"
    }
   ],
   "source": [
    "a2   # 模型权重"
   ]
  },
  {
   "cell_type": "code",
   "execution_count": 19,
   "metadata": {
    "ExecuteTime": {
     "end_time": "2020-11-20T10:55:03.810680Z",
     "start_time": "2020-11-20T10:55:03.788707Z"
    }
   },
   "outputs": [],
   "source": [
    "D3=np.ones(len(x))/len(x)    # 创建一维权重数据\n",
    "for i in range(len(x)):  # 更新权重\n",
    "    pre_y=h12(x1,8.5)\n",
    "    D3[y==pre_y]=D2[y==pre_y]/(2*(1-min(es2))) # 分类\n",
    "    D3[y!=pre_y]=D2[y!=pre_y]/(2*min(es2))"
   ]
  },
  {
   "cell_type": "code",
   "execution_count": 20,
   "metadata": {
    "ExecuteTime": {
     "end_time": "2020-11-20T10:55:05.148758Z",
     "start_time": "2020-11-20T10:55:05.130824Z"
    }
   },
   "outputs": [
    {
     "data": {
      "text/plain": [
       "array([0.04545455, 0.04545455, 0.16666667, 0.16666667, 0.10606061,\n",
       "       0.16666667, 0.10606061, 0.10606061, 0.04545455, 0.04545455])"
      ]
     },
     "execution_count": 20,
     "metadata": {},
     "output_type": "execute_result"
    }
   ],
   "source": [
    "D3   # 分类结果"
   ]
  },
  {
   "cell_type": "code",
   "execution_count": 21,
   "metadata": {
    "ExecuteTime": {
     "end_time": "2020-11-20T10:55:06.895276Z",
     "start_time": "2020-11-20T10:55:06.724646Z"
    }
   },
   "outputs": [
    {
     "data": {
      "image/png": "[encoded data removed]",
      "text/plain": [
       "<Figure size 432x288 with 1 Axes>"
      ]
     },
     "metadata": {
      "needs_background": "light"
     },
     "output_type": "display_data"
    }
   ],
   "source": [
    "plt.plot(x1[y==1],x2[y==1],'b+',LineWidth=4,MarkerSize=10)   # 设置蓝色+的数据图标\n",
    "plt.plot(x1[y==-1],x2[y==-1],'ro',LineWidth=4,MarkerSize=10)    # 设置红色圆圈的数据图标\n",
    "plt.axvline(x=8.5,ls=\"-\",c=\"green\")               # 添加垂直直线\n",
    "plt.xticks(np.arange(0, 11, 1))                 # 设置x轴坐标\n",
    "plt.yticks(np.arange(0, 11, 1))                 # 设置y轴坐标\n",
    "plt.legend((\"y=1\",\"y=-1\"),loc=\"upper left\")    # 给图像加图例\n",
    "plt.title('第二轮数据分布')                    # 设置图像标题\n",
    "plt.show()"
   ]
  },
  {
   "cell_type": "code",
   "execution_count": 22,
   "metadata": {
    "ExecuteTime": {
     "end_time": "2020-11-20T10:57:01.999139Z",
     "start_time": "2020-11-20T10:57:01.971214Z"
    }
   },
   "outputs": [
    {
     "data": {
      "text/html": [
       "<div>\n",
       "<style scoped>\n",
       "    .dataframe tbody tr th:only-of-type {\n",
       "        vertical-align: middle;\n",
       "    }\n",
       "\n",
       "    .dataframe tbody tr th {\n",
       "        vertical-align: top;\n",
       "    }\n",
       "\n",
       "    .dataframe thead th {\n",
       "        text-align: right;\n",
       "    }\n",
       "</style>\n",
       "<table border=\"1\" class=\"dataframe\">\n",
       "  <thead>\n",
       "    <tr style=\"text-align: right;\">\n",
       "      <th></th>\n",
       "      <th>x</th>\n",
       "      <th>y</th>\n",
       "      <th>D1</th>\n",
       "      <th>D2</th>\n",
       "      <th>预测1</th>\n",
       "      <th>D3</th>\n",
       "      <th>预测2</th>\n",
       "    </tr>\n",
       "  </thead>\n",
       "  <tbody>\n",
       "    <tr>\n",
       "      <th>0</th>\n",
       "      <td>1.5</td>\n",
       "      <td>1</td>\n",
       "      <td>0.1</td>\n",
       "      <td>0.071429</td>\n",
       "      <td>1.0</td>\n",
       "      <td>0.045455</td>\n",
       "      <td>1.0</td>\n",
       "    </tr>\n",
       "    <tr>\n",
       "      <th>1</th>\n",
       "      <td>2.2</td>\n",
       "      <td>1</td>\n",
       "      <td>0.1</td>\n",
       "      <td>0.071429</td>\n",
       "      <td>1.0</td>\n",
       "      <td>0.045455</td>\n",
       "      <td>1.0</td>\n",
       "    </tr>\n",
       "    <tr>\n",
       "      <th>2</th>\n",
       "      <td>3.1</td>\n",
       "      <td>-1</td>\n",
       "      <td>0.1</td>\n",
       "      <td>0.071429</td>\n",
       "      <td>-1.0</td>\n",
       "      <td>0.166667</td>\n",
       "      <td>1.0</td>\n",
       "    </tr>\n",
       "    <tr>\n",
       "      <th>3</th>\n",
       "      <td>4.6</td>\n",
       "      <td>-1</td>\n",
       "      <td>0.1</td>\n",
       "      <td>0.071429</td>\n",
       "      <td>-1.0</td>\n",
       "      <td>0.166667</td>\n",
       "      <td>1.0</td>\n",
       "    </tr>\n",
       "    <tr>\n",
       "      <th>4</th>\n",
       "      <td>6.8</td>\n",
       "      <td>1</td>\n",
       "      <td>0.1</td>\n",
       "      <td>0.166667</td>\n",
       "      <td>-1.0</td>\n",
       "      <td>0.106061</td>\n",
       "      <td>1.0</td>\n",
       "    </tr>\n",
       "    <tr>\n",
       "      <th>5</th>\n",
       "      <td>6.5</td>\n",
       "      <td>-1</td>\n",
       "      <td>0.1</td>\n",
       "      <td>0.071429</td>\n",
       "      <td>-1.0</td>\n",
       "      <td>0.166667</td>\n",
       "      <td>1.0</td>\n",
       "    </tr>\n",
       "    <tr>\n",
       "      <th>6</th>\n",
       "      <td>7.9</td>\n",
       "      <td>1</td>\n",
       "      <td>0.1</td>\n",
       "      <td>0.166667</td>\n",
       "      <td>-1.0</td>\n",
       "      <td>0.106061</td>\n",
       "      <td>1.0</td>\n",
       "    </tr>\n",
       "    <tr>\n",
       "      <th>7</th>\n",
       "      <td>8.7</td>\n",
       "      <td>1</td>\n",
       "      <td>0.1</td>\n",
       "      <td>0.166667</td>\n",
       "      <td>-1.0</td>\n",
       "      <td>0.106061</td>\n",
       "      <td>1.0</td>\n",
       "    </tr>\n",
       "    <tr>\n",
       "      <th>8</th>\n",
       "      <td>9.8</td>\n",
       "      <td>-1</td>\n",
       "      <td>0.1</td>\n",
       "      <td>0.071429</td>\n",
       "      <td>-1.0</td>\n",
       "      <td>0.045455</td>\n",
       "      <td>-1.0</td>\n",
       "    </tr>\n",
       "    <tr>\n",
       "      <th>9</th>\n",
       "      <td>10.2</td>\n",
       "      <td>-1</td>\n",
       "      <td>0.1</td>\n",
       "      <td>0.071429</td>\n",
       "      <td>-1.0</td>\n",
       "      <td>0.045455</td>\n",
       "      <td>-1.0</td>\n",
       "    </tr>\n",
       "  </tbody>\n",
       "</table>\n",
       "</div>"
      ],
      "text/plain": [
       "      x  y   D1        D2  预测1        D3  预测2\n",
       "0   1.5  1  0.1  0.071429  1.0  0.045455  1.0\n",
       "1   2.2  1  0.1  0.071429  1.0  0.045455  1.0\n",
       "2   3.1 -1  0.1  0.071429 -1.0  0.166667  1.0\n",
       "3   4.6 -1  0.1  0.071429 -1.0  0.166667  1.0\n",
       "4   6.8  1  0.1  0.166667 -1.0  0.106061  1.0\n",
       "5   6.5 -1  0.1  0.071429 -1.0  0.166667  1.0\n",
       "6   7.9  1  0.1  0.166667 -1.0  0.106061  1.0\n",
       "7   8.7  1  0.1  0.166667 -1.0  0.106061  1.0\n",
       "8   9.8 -1  0.1  0.071429 -1.0  0.045455 -1.0\n",
       "9  10.2 -1  0.1  0.071429 -1.0  0.045455 -1.0"
      ]
     },
     "execution_count": 22,
     "metadata": {},
     "output_type": "execute_result"
    }
   ],
   "source": [
    "# 利用字典\n",
    "dict2={'x':x,'y':y,'D1':D1,'D2':D2,'预测1':h12(x1,2.5),'D3':D3,'预测2':h12(x1,8.5)}   # 定义字典\n",
    "table2=pd.DataFrame(dict2)    # 转化为数据框\n",
    "table2"
   ]
  },
  {
   "cell_type": "code",
   "execution_count": 23,
   "metadata": {
    "ExecuteTime": {
     "end_time": "2020-11-20T10:57:10.040817Z",
     "start_time": "2020-11-20T10:57:10.032840Z"
    }
   },
   "outputs": [
    {
     "data": {
      "text/plain": [
       "array([ 1.,  1.,  1.,  1.,  1.,  1.,  1.,  1., -1., -1.])"
      ]
     },
     "execution_count": 23,
     "metadata": {},
     "output_type": "execute_result"
    }
   ],
   "source": [
    "result2=np.sign(a1*h12(x1,2.5)+a2*h12(x1,8.5))  #第二次迭代后模型结果\n",
    "result2"
   ]
  },
  {
   "cell_type": "code",
   "execution_count": 24,
   "metadata": {
    "ExecuteTime": {
     "end_time": "2020-11-20T10:58:32.894690Z",
     "start_time": "2020-11-20T10:58:32.880072Z"
    }
   },
   "outputs": [
    {
     "data": {
      "text/plain": [
       "0.7"
      ]
     },
     "execution_count": 24,
     "metadata": {},
     "output_type": "execute_result"
    }
   ],
   "source": [
    "from sklearn.metrics import accuracy_score  # 导入sklearn库的准确率计算函数\n",
    "accuracy_score(y,result2)   # 计算预测准确率"
   ]
  },
  {
   "cell_type": "raw",
   "metadata": {},
   "source": [
    "第三轮迭代"
   ]
  },
  {
   "cell_type": "code",
   "execution_count": 25,
   "metadata": {
    "ExecuteTime": {
     "end_time": "2020-11-20T11:04:07.421519Z",
     "start_time": "2020-11-20T11:04:07.415534Z"
    }
   },
   "outputs": [],
   "source": [
    "#最优分类器\n",
    "es3=np.zeros(3)    # 创建一维数组\n",
    "es3[0]=np.sum(D3[y!=pre_y1])   # 求和分类\n",
    "es3[1]=np.sum(D3[y!=pre_y2])\n",
    "es3[2]=np.sum(D3[y!=pre_y3])\n",
    "\n",
    "a3=0.5*log((1-min(es3))/min(es3)) #模型权重"
   ]
  },
  {
   "cell_type": "code",
   "execution_count": 26,
   "metadata": {
    "ExecuteTime": {
     "end_time": "2020-11-20T11:04:08.308207Z",
     "start_time": "2020-11-20T11:04:08.296206Z"
    }
   },
   "outputs": [
    {
     "data": {
      "text/plain": [
       "array([0.31818182, 0.5       , 0.13636364])"
      ]
     },
     "execution_count": 26,
     "metadata": {},
     "output_type": "execute_result"
    }
   ],
   "source": [
    "es3    # 取第三个分类器"
   ]
  },
  {
   "cell_type": "code",
   "execution_count": 27,
   "metadata": {
    "ExecuteTime": {
     "end_time": "2020-11-20T11:04:09.343870Z",
     "start_time": "2020-11-20T11:04:09.326918Z"
    }
   },
   "outputs": [
    {
     "data": {
      "text/plain": [
       "0.9229133452491652"
      ]
     },
     "execution_count": 27,
     "metadata": {},
     "output_type": "execute_result"
    }
   ],
   "source": [
    "a3     # 模型权重"
   ]
  },
  {
   "cell_type": "code",
   "execution_count": 28,
   "metadata": {
    "ExecuteTime": {
     "end_time": "2020-11-20T11:04:11.820208Z",
     "start_time": "2020-11-20T11:04:11.810235Z"
    }
   },
   "outputs": [],
   "source": [
    "D4=np.ones(len(x))/len(x)    # 创建一维权重数据\n",
    "for i in range(len(x)):  #更新权重\n",
    "    pre_y=h3(x2,6.5)\n",
    "    D4[y==pre_y]=D3[y==pre_y]/(2*(1-min(es3)))    # 分类\n",
    "    D4[y!=pre_y]=D3[y!=pre_y]/(2*min(es3))"
   ]
  },
  {
   "cell_type": "code",
   "execution_count": 29,
   "metadata": {
    "ExecuteTime": {
     "end_time": "2020-11-20T11:04:13.484568Z",
     "start_time": "2020-11-20T11:04:13.476556Z"
    }
   },
   "outputs": [
    {
     "data": {
      "text/plain": [
       "array([0.16666667, 0.16666667, 0.09649123, 0.09649123, 0.06140351,\n",
       "       0.09649123, 0.06140351, 0.06140351, 0.16666667, 0.02631579])"
      ]
     },
     "execution_count": 29,
     "metadata": {},
     "output_type": "execute_result"
    }
   ],
   "source": [
    "D4   # 分类结果"
   ]
  },
  {
   "cell_type": "code",
   "execution_count": 30,
   "metadata": {
    "ExecuteTime": {
     "end_time": "2020-11-20T11:04:15.312531Z",
     "start_time": "2020-11-20T11:04:15.132191Z"
    }
   },
   "outputs": [
    {
     "data": {
      "image/png": "[encoded data removed]",
      "text/plain": [
       "<Figure size 432x288 with 1 Axes>"
      ]
     },
     "metadata": {
      "needs_background": "light"
     },
     "output_type": "display_data"
    }
   ],
   "source": [
    "plt.plot(x1[y==1],x2[y==1],'b+',LineWidth=4,MarkerSize=10)   # 设置蓝色+的数据图标 \n",
    "plt.plot(x1[y==-1],x2[y==-1],'ro',LineWidth=4,MarkerSize=10)    # 设置红色圆圈的数据图标\n",
    "plt.axhline(y=6.5,ls=\"-\",c=\"green\")    # 添加水平直线\n",
    "plt.xticks(np.arange(0, 11, 1))       # 设置x轴坐标\n",
    "plt.yticks(np.arange(0, 11, 1))      # 设置y轴坐标\n",
    "plt.legend((\"y=1\",\"y=-1\"),loc=\"upper left\")    # 给图像加图例\n",
    "plt.title('第三轮数据分布')                # 设置图像标题\n",
    "plt.show()"
   ]
  },
  {
   "cell_type": "code",
   "execution_count": 31,
   "metadata": {
    "ExecuteTime": {
     "end_time": "2020-11-20T11:22:16.806099Z",
     "start_time": "2020-11-20T11:22:16.777211Z"
    }
   },
   "outputs": [
    {
     "data": {
      "text/html": [
       "<div>\n",
       "<style scoped>\n",
       "    .dataframe tbody tr th:only-of-type {\n",
       "        vertical-align: middle;\n",
       "    }\n",
       "\n",
       "    .dataframe tbody tr th {\n",
       "        vertical-align: top;\n",
       "    }\n",
       "\n",
       "    .dataframe thead th {\n",
       "        text-align: right;\n",
       "    }\n",
       "</style>\n",
       "<table border=\"1\" class=\"dataframe\">\n",
       "  <thead>\n",
       "    <tr style=\"text-align: right;\">\n",
       "      <th></th>\n",
       "      <th>x</th>\n",
       "      <th>y</th>\n",
       "      <th>D1</th>\n",
       "      <th>D2</th>\n",
       "      <th>预测1</th>\n",
       "      <th>D3</th>\n",
       "      <th>预测2</th>\n",
       "      <th>D4</th>\n",
       "      <th>预测3</th>\n",
       "    </tr>\n",
       "  </thead>\n",
       "  <tbody>\n",
       "    <tr>\n",
       "      <th>0</th>\n",
       "      <td>1.5</td>\n",
       "      <td>1</td>\n",
       "      <td>0.1</td>\n",
       "      <td>0.071429</td>\n",
       "      <td>1.0</td>\n",
       "      <td>0.045455</td>\n",
       "      <td>1.0</td>\n",
       "      <td>0.166667</td>\n",
       "      <td>-1.0</td>\n",
       "    </tr>\n",
       "    <tr>\n",
       "      <th>1</th>\n",
       "      <td>2.2</td>\n",
       "      <td>1</td>\n",
       "      <td>0.1</td>\n",
       "      <td>0.071429</td>\n",
       "      <td>1.0</td>\n",
       "      <td>0.045455</td>\n",
       "      <td>1.0</td>\n",
       "      <td>0.166667</td>\n",
       "      <td>-1.0</td>\n",
       "    </tr>\n",
       "    <tr>\n",
       "      <th>2</th>\n",
       "      <td>3.1</td>\n",
       "      <td>-1</td>\n",
       "      <td>0.1</td>\n",
       "      <td>0.071429</td>\n",
       "      <td>-1.0</td>\n",
       "      <td>0.166667</td>\n",
       "      <td>1.0</td>\n",
       "      <td>0.096491</td>\n",
       "      <td>-1.0</td>\n",
       "    </tr>\n",
       "    <tr>\n",
       "      <th>3</th>\n",
       "      <td>4.6</td>\n",
       "      <td>-1</td>\n",
       "      <td>0.1</td>\n",
       "      <td>0.071429</td>\n",
       "      <td>-1.0</td>\n",
       "      <td>0.166667</td>\n",
       "      <td>1.0</td>\n",
       "      <td>0.096491</td>\n",
       "      <td>-1.0</td>\n",
       "    </tr>\n",
       "    <tr>\n",
       "      <th>4</th>\n",
       "      <td>6.8</td>\n",
       "      <td>1</td>\n",
       "      <td>0.1</td>\n",
       "      <td>0.166667</td>\n",
       "      <td>-1.0</td>\n",
       "      <td>0.106061</td>\n",
       "      <td>1.0</td>\n",
       "      <td>0.061404</td>\n",
       "      <td>1.0</td>\n",
       "    </tr>\n",
       "    <tr>\n",
       "      <th>5</th>\n",
       "      <td>6.5</td>\n",
       "      <td>-1</td>\n",
       "      <td>0.1</td>\n",
       "      <td>0.071429</td>\n",
       "      <td>-1.0</td>\n",
       "      <td>0.166667</td>\n",
       "      <td>1.0</td>\n",
       "      <td>0.096491</td>\n",
       "      <td>-1.0</td>\n",
       "    </tr>\n",
       "    <tr>\n",
       "      <th>6</th>\n",
       "      <td>7.9</td>\n",
       "      <td>1</td>\n",
       "      <td>0.1</td>\n",
       "      <td>0.166667</td>\n",
       "      <td>-1.0</td>\n",
       "      <td>0.106061</td>\n",
       "      <td>1.0</td>\n",
       "      <td>0.061404</td>\n",
       "      <td>1.0</td>\n",
       "    </tr>\n",
       "    <tr>\n",
       "      <th>7</th>\n",
       "      <td>8.7</td>\n",
       "      <td>1</td>\n",
       "      <td>0.1</td>\n",
       "      <td>0.166667</td>\n",
       "      <td>-1.0</td>\n",
       "      <td>0.106061</td>\n",
       "      <td>1.0</td>\n",
       "      <td>0.061404</td>\n",
       "      <td>1.0</td>\n",
       "    </tr>\n",
       "    <tr>\n",
       "      <th>8</th>\n",
       "      <td>9.8</td>\n",
       "      <td>-1</td>\n",
       "      <td>0.1</td>\n",
       "      <td>0.071429</td>\n",
       "      <td>-1.0</td>\n",
       "      <td>0.045455</td>\n",
       "      <td>-1.0</td>\n",
       "      <td>0.166667</td>\n",
       "      <td>1.0</td>\n",
       "    </tr>\n",
       "    <tr>\n",
       "      <th>9</th>\n",
       "      <td>10.2</td>\n",
       "      <td>-1</td>\n",
       "      <td>0.1</td>\n",
       "      <td>0.071429</td>\n",
       "      <td>-1.0</td>\n",
       "      <td>0.045455</td>\n",
       "      <td>-1.0</td>\n",
       "      <td>0.026316</td>\n",
       "      <td>-1.0</td>\n",
       "    </tr>\n",
       "  </tbody>\n",
       "</table>\n",
       "</div>"
      ],
      "text/plain": [
       "      x  y   D1        D2  预测1        D3  预测2        D4  预测3\n",
       "0   1.5  1  0.1  0.071429  1.0  0.045455  1.0  0.166667 -1.0\n",
       "1   2.2  1  0.1  0.071429  1.0  0.045455  1.0  0.166667 -1.0\n",
       "2   3.1 -1  0.1  0.071429 -1.0  0.166667  1.0  0.096491 -1.0\n",
       "3   4.6 -1  0.1  0.071429 -1.0  0.166667  1.0  0.096491 -1.0\n",
       "4   6.8  1  0.1  0.166667 -1.0  0.106061  1.0  0.061404  1.0\n",
       "5   6.5 -1  0.1  0.071429 -1.0  0.166667  1.0  0.096491 -1.0\n",
       "6   7.9  1  0.1  0.166667 -1.0  0.106061  1.0  0.061404  1.0\n",
       "7   8.7  1  0.1  0.166667 -1.0  0.106061  1.0  0.061404  1.0\n",
       "8   9.8 -1  0.1  0.071429 -1.0  0.045455 -1.0  0.166667  1.0\n",
       "9  10.2 -1  0.1  0.071429 -1.0  0.045455 -1.0  0.026316 -1.0"
      ]
     },
     "execution_count": 31,
     "metadata": {},
     "output_type": "execute_result"
    }
   ],
   "source": [
    "dict3={'x':x,'y':y,'D1':D1,'D2':D2,'预测1':h12(x1,2.5),'D3':D3,'预测2':h12(x1,8.5),'D4':D4,'预测3':h3(x2,6.5)}  #定义字典\n",
    "table3=pd.DataFrame(dict3)    # 转化成数据框\n",
    "table3"
   ]
  },
  {
   "cell_type": "code",
   "execution_count": 32,
   "metadata": {
    "ExecuteTime": {
     "end_time": "2020-11-20T11:22:19.287766Z",
     "start_time": "2020-11-20T11:22:19.264795Z"
    }
   },
   "outputs": [
    {
     "data": {
      "text/plain": [
       "array([ 1.,  1., -1., -1.,  1., -1.,  1.,  1., -1., -1.])"
      ]
     },
     "execution_count": 32,
     "metadata": {},
     "output_type": "execute_result"
    }
   ],
   "source": [
    "result3=np.sign(a1*h12(x1,2.5)+a2*h12(x1,8.5)+a3*h3(x2,6.5))  #第三次迭代后模型结果\n",
    "result3"
   ]
  },
  {
   "cell_type": "code",
   "execution_count": 33,
   "metadata": {
    "ExecuteTime": {
     "end_time": "2020-11-20T11:23:06.826164Z",
     "start_time": "2020-11-20T11:23:06.806188Z"
    }
   },
   "outputs": [
    {
     "data": {
      "text/plain": [
       "1.0"
      ]
     },
     "execution_count": 33,
     "metadata": {},
     "output_type": "execute_result"
    }
   ],
   "source": [
    "from sklearn.metrics import accuracy_score     \n",
    "accuracy_score(y,result3)     # 计算预测准确度"
   ]
  },
  {
   "cell_type": "raw",
   "metadata": {},
   "source": [
    "当将x直接作为唯一特征，分割点采用决策树最佳分割点的方法"
   ]
  },
  {
   "cell_type": "raw",
   "metadata": {},
   "source": [
    "计算可能的分割点"
   ]
  },
  {
   "cell_type": "code",
   "execution_count": 34,
   "metadata": {
    "ExecuteTime": {
     "end_time": "2020-11-20T11:25:00.902414Z",
     "start_time": "2020-11-20T11:25:00.884428Z"
    }
   },
   "outputs": [
    {
     "data": {
      "text/plain": [
       "array([ 1.5,  2.2,  3.1,  4.6,  6.8,  6.5,  7.9,  8.7,  9.8, 10.2])"
      ]
     },
     "execution_count": 34,
     "metadata": {},
     "output_type": "execute_result"
    }
   ],
   "source": [
    "x  # 打印数组"
   ]
  },
  {
   "cell_type": "code",
   "execution_count": 35,
   "metadata": {
    "ExecuteTime": {
     "end_time": "2020-11-20T11:25:04.956783Z",
     "start_time": "2020-11-20T11:25:04.942851Z"
    }
   },
   "outputs": [],
   "source": [
    "x_sort=sorted(x)  # 排序"
   ]
  },
  {
   "cell_type": "code",
   "execution_count": 36,
   "metadata": {
    "ExecuteTime": {
     "end_time": "2020-11-20T11:28:18.493642Z",
     "start_time": "2020-11-20T11:28:18.486670Z"
    }
   },
   "outputs": [],
   "source": [
    "x_split=np.zeros(len(x)-1)    #构建0数组"
   ]
  },
  {
   "cell_type": "code",
   "execution_count": 37,
   "metadata": {
    "ExecuteTime": {
     "end_time": "2020-11-20T11:32:51.371163Z",
     "start_time": "2020-11-20T11:32:51.313278Z"
    }
   },
   "outputs": [],
   "source": [
    "for i in range(len(x)-1):\n",
    "    x_sort=sorted(x)     # 排序\n",
    "    x_split[i]=(x_sort[i]+x_sort[i+1])*0.5     "
   ]
  },
  {
   "cell_type": "code",
   "execution_count": 38,
   "metadata": {
    "ExecuteTime": {
     "end_time": "2020-11-20T11:32:54.104433Z",
     "start_time": "2020-11-20T11:32:54.100413Z"
    }
   },
   "outputs": [
    {
     "data": {
      "text/plain": [
       "array([ 1.85,  2.65,  3.85,  5.55,  6.65,  7.35,  8.3 ,  9.25, 10.  ])"
      ]
     },
     "execution_count": 38,
     "metadata": {},
     "output_type": "execute_result"
    }
   ],
   "source": [
    "x_split    # 返回新数组"
   ]
  },
  {
   "cell_type": "raw",
   "metadata": {},
   "source": [
    "第一次迭代"
   ]
  },
  {
   "cell_type": "code",
   "execution_count": 39,
   "metadata": {
    "ExecuteTime": {
     "end_time": "2020-11-20T11:41:23.974199Z",
     "start_time": "2020-11-20T11:41:23.862202Z"
    }
   },
   "outputs": [
    {
     "name": "stdout",
     "output_type": "stream",
     "text": [
      "选择第一种函数\n",
      "最佳分割点为2.6500000000000004\n",
      "最小误差率0.30000000000000004\n",
      "权重更新为:\n",
      "[0.07142857 0.07142857 0.07142857 0.07142857 0.16666667 0.07142857\n",
      " 0.16666667 0.16666667 0.07142857 0.07142857]\n",
      "模型权重为0.4236489301936017\n"
     ]
    }
   ],
   "source": [
    "D1=np.ones(len(x))/len(x)      # 创建一维权重数据\n",
    "es1=np.zeros(len(x_split))     # 创建一维数组\n",
    "es2=np.zeros(len(x_split))\n",
    "for i in range(len(x_split)):\n",
    "    pre_y1=h12(x,x_split[i])   #第一种函数\n",
    "    es1[i]=np.sum(D1[y!=pre_y1])  \n",
    "    \n",
    "    pre_y2=h3(x,x_split[i])   #第二种函数\n",
    "    es2[i]=np.sum(D1[y!=pre_y2]) \n",
    "    \n",
    "if min(es1)<=min(es2):      # 判断语句\n",
    "    print(\"选择第一种函数\")\n",
    "    split=x_split[np.argmin(es1)]     # 默认将列表展平，显示最小值的下标\n",
    "    print(\"最佳分割点为\"+str(split))\n",
    "    es_min=min(es1)\n",
    "    print(\"最小误差率\"+str(es_min))\n",
    "    for i in range(len(x)):  #更新权重\n",
    "        pre_y=h12(x,split)\n",
    "        D2[y==pre_y]=D1[y==pre_y]/(2*(1-es_min))    # 分类\n",
    "        D2[y!=pre_y]=D1[y!=pre_y]/(2*es_min)\n",
    "    print(\"权重更新为:\")\n",
    "    print(D2)\n",
    "else:\n",
    "    print(\"选择第二种函数\")\n",
    "    split=x_split[np.argmin(es2)]   # 默认将列表展平，显示最小值的下标\n",
    "    print(\"最佳分割点为\"+str(split))\n",
    "    es_min=min(es2)\n",
    "    print(\"最小误差率\"+str(es_min))\n",
    "    for i in range(len(x)):  #更新权重\n",
    "        pre_y=h3(x,split)\n",
    "        D2[y==pre_y]=D1[y==pre_y]/(2*(1-es_min))    # 分类\n",
    "        D2[y!=pre_y]=D1[y!=pre_y]/(2*es_min)\n",
    "    print(\"权重更新为:\")\n",
    "    print(D2)\n",
    "\n",
    "a1=0.5*log((1-es_min)/es_min)    #模型权重\n",
    "print(\"模型权重为\"+str(a1))"
   ]
  },
  {
   "cell_type": "raw",
   "metadata": {},
   "source": [
    "多次迭代"
   ]
  },
  {
   "cell_type": "code",
   "execution_count": 40,
   "metadata": {
    "ExecuteTime": {
     "end_time": "2020-11-20T11:52:52.954509Z",
     "start_time": "2020-11-20T11:52:52.874931Z"
    }
   },
   "outputs": [
    {
     "name": "stdout",
     "output_type": "stream",
     "text": [
      "第1次迭代\n",
      "选择第一种函数\n",
      "最佳分割点为2.6500000000000004\n",
      "最小误差率0.30000000000000004\n",
      "权重更新为:\n",
      "[0.07142857 0.07142857 0.07142857 0.07142857 0.16666667 0.07142857\n",
      " 0.16666667 0.16666667 0.07142857 0.07142857]\n",
      "预测值为:\n",
      "[ 1.  1. -1. -1. -1. -1. -1. -1. -1. -1.]\n",
      "模型权重为0.4236489301936017\n",
      "\n",
      "第2次迭代\n",
      "选择第一种函数\n",
      "最佳分割点为9.25\n",
      "最小误差率0.2142857142857143\n",
      "权重更新为:\n",
      "[0.04545455 0.04545455 0.16666667 0.16666667 0.10606061 0.16666667\n",
      " 0.10606061 0.10606061 0.04545455 0.04545455]\n",
      "预测值为:\n",
      "[ 1.  1.  1.  1.  1.  1.  1.  1. -1. -1.]\n",
      "模型权重为0.6496414920651304\n",
      "\n",
      "第3次迭代\n",
      "选择第二种函数\n",
      "最佳分割点为6.65\n",
      "最小误差率0.18181818181818185\n",
      "权重更新为:\n",
      "[2.47358557e+04 2.47358557e+04 7.26443430e-03 7.26443430e-03\n",
      " 7.26443430e-03 7.26443430e-03 7.26443430e-03 7.26443430e-03\n",
      " 2.47358557e+04 2.47358557e+04]\n",
      "模型权重为0.752038698388137\n",
      "\n"
     ]
    }
   ],
   "source": [
    "#多次更新\n",
    "pre_ys=dict()    # 创建字典\n",
    "D=dict()       \n",
    "es_mins=dict()\n",
    "a=dict()\n",
    "splits=dict()\n",
    "D1=np.ones(len(x))/len(x)    # 创建一维权重数据\n",
    "D[1]=D1\n",
    "es1=np.zeros(len(x_split))   # 构建以0填充的数组\n",
    "es2=np.zeros(len(x_split))\n",
    "for k in range(2,5):\n",
    "    print(\"第\"+str(k-1)+\"次迭代\")\n",
    "    \n",
    "    for i in range(len(x_split)):\n",
    "        pre_y1=h12(x,x_split[i])   #第一种函数\n",
    "        es1[i]=np.sum(D[k-1][y!=pre_y1])     # 求和分类\n",
    "    \n",
    "        pre_y2=h3(x,x_split[i])   #第二种函数\n",
    "        es2[i]=np.sum(D[k-1][y!=pre_y2])    # 求和分类\n",
    "    \n",
    "    D[k]=np.ones(len(x))   # 创建一维权重数据\n",
    "    \n",
    "    if min(es1)<=min(es2):  \n",
    "        print(\"选择第一种函数\")\n",
    "        splits[k-1]=x_split[np.argmin(es1)]  # 默认将列表展平，显示最小值的下标\n",
    "        print(\"最佳分割点为\"+str(splits[k-1]))\n",
    "        es_mins[k-1]=min(es1)\n",
    "        print(\"最小误差率\"+str(es_mins[k-1]))\n",
    "        for i in range(len(x)):  #更新权重\n",
    "            pre_y=h12(x,splits[k-1])\n",
    "            D[k][y==pre_y]=D[k-1][y==pre_y]/(2*(1-es_mins[k-1]))  # 分类\n",
    "            D[k][y!=pre_y]=D[k-1][y!=pre_y]/(2*es_mins[k-1])\n",
    "        print(\"权重更新为:\")\n",
    "        print(D[k])\n",
    "        pre_ys[k-1]=h12(x,splits[k-1])\n",
    "        print(\"预测值为:\")\n",
    "        print(pre_ys[k-1])\n",
    "    else:\n",
    "        print(\"选择第二种函数\")\n",
    "        splits[k-1]=x_split[np.argmin(es2)]  # 默认将列表展平，显示最小值的下标\n",
    "        print(\"最佳分割点为\"+str(splits[k-1]))\n",
    "        es_mins[k-1]=min(es2)\n",
    "        print(\"最小误差率\"+str(es_mins[k-1]))\n",
    "        for i in range(len(x)):  #更新权重\n",
    "            pre_y=h3(x,splits[k-1])\n",
    "            D[k][y==pre_y]=D[k][y==pre_y]/(2*(1-es_mins[k-1]))    # 分类\n",
    "            D[k][y!=pre_y]=D[k][y!=pre_y]/(2*es_mins[k-1])\n",
    "        print(\"权重更新为:\")\n",
    "        print(D[k])\n",
    "        pre_ys[k-1]=h3(x,splits[k-1])\n",
    "        \n",
    "    a[k-1]=0.5*log((1-es_mins[k-1])/es_mins[k-1])  #模型权重\n",
    "    print(\"模型权重为\"+str(a[k-1]))\n",
    "    print(\"\")\n",
    "    \n",
    "    if es_mins[k-1]<0.0001:  #模型终止条件\n",
    "        break"
   ]
  },
  {
   "cell_type": "code",
   "execution_count": 41,
   "metadata": {
    "ExecuteTime": {
     "end_time": "2020-11-20T11:53:02.353963Z",
     "start_time": "2020-11-20T11:53:01.201847Z"
    }
   },
   "outputs": [
    {
     "data": {
      "text/plain": [
       "{1: array([0.1, 0.1, 0.1, 0.1, 0.1, 0.1, 0.1, 0.1, 0.1, 0.1]),\n",
       " 2: array([0.07142857, 0.07142857, 0.07142857, 0.07142857, 0.16666667,\n",
       "        0.07142857, 0.16666667, 0.16666667, 0.07142857, 0.07142857]),\n",
       " 3: array([0.04545455, 0.04545455, 0.16666667, 0.16666667, 0.10606061,\n",
       "        0.16666667, 0.10606061, 0.10606061, 0.04545455, 0.04545455]),\n",
       " 4: array([2.47358557e+04, 2.47358557e+04, 7.26443430e-03, 7.26443430e-03,\n",
       "        7.26443430e-03, 7.26443430e-03, 7.26443430e-03, 7.26443430e-03,\n",
       "        2.47358557e+04, 2.47358557e+04])}"
      ]
     },
     "execution_count": 41,
     "metadata": {},
     "output_type": "execute_result"
    }
   ],
   "source": [
    "D   # 创建的数组"
   ]
  },
  {
   "cell_type": "code",
   "execution_count": 42,
   "metadata": {
    "ExecuteTime": {
     "end_time": "2020-11-20T11:53:03.699083Z",
     "start_time": "2020-11-20T11:53:03.650256Z"
    }
   },
   "outputs": [
    {
     "data": {
      "text/plain": [
       "{1: 2.6500000000000004, 2: 9.25, 3: 6.65}"
      ]
     },
     "execution_count": 42,
     "metadata": {},
     "output_type": "execute_result"
    }
   ],
   "source": [
    "splits   # 最佳切分点"
   ]
  },
  {
   "cell_type": "code",
   "execution_count": 43,
   "metadata": {
    "ExecuteTime": {
     "end_time": "2020-11-20T11:53:04.728084Z",
     "start_time": "2020-11-20T11:53:04.707108Z"
    }
   },
   "outputs": [
    {
     "data": {
      "text/plain": [
       "{1: 0.4236489301936017, 2: 0.6496414920651304, 3: 0.752038698388137}"
      ]
     },
     "execution_count": 43,
     "metadata": {},
     "output_type": "execute_result"
    }
   ],
   "source": [
    "a    # 模型权重"
   ]
  },
  {
   "cell_type": "code",
   "execution_count": 44,
   "metadata": {
    "ExecuteTime": {
     "end_time": "2020-11-20T11:53:05.704474Z",
     "start_time": "2020-11-20T11:53:05.684529Z"
    }
   },
   "outputs": [
    {
     "data": {
      "text/plain": [
       "{1: array([ 1.,  1., -1., -1., -1., -1., -1., -1., -1., -1.]),\n",
       " 2: array([ 1.,  1.,  1.,  1.,  1.,  1.,  1.,  1., -1., -1.]),\n",
       " 3: array([-1., -1., -1., -1.,  1., -1.,  1.,  1.,  1.,  1.])}"
      ]
     },
     "execution_count": 44,
     "metadata": {},
     "output_type": "execute_result"
    }
   ],
   "source": [
    "pre_ys  # 模型预测值"
   ]
  },
  {
   "cell_type": "raw",
   "metadata": {},
   "source": [
    "最终结果"
   ]
  },
  {
   "cell_type": "code",
   "execution_count": 45,
   "metadata": {
    "ExecuteTime": {
     "end_time": "2020-11-20T11:59:19.079333Z",
     "start_time": "2020-11-20T11:59:19.028470Z"
    }
   },
   "outputs": [
    {
     "name": "stdout",
     "output_type": "stream",
     "text": [
      "[ 1.  1. -1. -1.  1. -1.  1.  1. -1. -1.]\n"
     ]
    }
   ],
   "source": [
    "result=0\n",
    "for i in range(1,4):  #构造最终的模型\n",
    "    result=result+a[i]*pre_ys[i] \n",
    "result=np.sign(result)      # 生成数字符号（数字前的正负号）的型数据\n",
    "print(result)"
   ]
  },
  {
   "cell_type": "code",
   "execution_count": 46,
   "metadata": {
    "ExecuteTime": {
     "end_time": "2020-11-20T11:59:19.802079Z",
     "start_time": "2020-11-20T11:59:19.716775Z"
    }
   },
   "outputs": [
    {
     "data": {
      "text/plain": [
       "1.0"
      ]
     },
     "execution_count": 46,
     "metadata": {},
     "output_type": "execute_result"
    }
   ],
   "source": [
    "from sklearn.metrics import accuracy_score\n",
    "accuracy_score(y,result)    # 计算预测准确率"
   ]
  },
  {
   "cell_type": "raw",
   "metadata": {},
   "source": [
    "用sklearn实现"
   ]
  },
  {
   "cell_type": "code",
   "execution_count": 47,
   "metadata": {
    "ExecuteTime": {
     "end_time": "2020-11-20T12:01:46.808637Z",
     "start_time": "2020-11-20T12:01:43.700495Z"
    }
   },
   "outputs": [],
   "source": [
    "from sklearn.tree import DecisionTreeClassifier    # 导入决策树\n",
    "from sklearn.ensemble import AdaBoostClassifier    # 导入adaboost \n",
    "#一层\n",
    "adaboost=AdaBoostClassifier(base_estimator=DecisionTreeClassifier(max_depth=1),\n",
    "                            n_estimators=1,\n",
    "                            random_state=0)   # 建立一层adaboost模型"
   ]
  },
  {
   "cell_type": "code",
   "execution_count": 48,
   "metadata": {
    "ExecuteTime": {
     "end_time": "2020-11-20T12:04:53.816014Z",
     "start_time": "2020-11-20T12:04:53.320516Z"
    }
   },
   "outputs": [
    {
     "data": {
      "text/plain": [
       "AdaBoostClassifier(algorithm='SAMME.R',\n",
       "                   base_estimator=DecisionTreeClassifier(ccp_alpha=0.0,\n",
       "                                                         class_weight=None,\n",
       "                                                         criterion='gini',\n",
       "                                                         max_depth=1,\n",
       "                                                         max_features=None,\n",
       "                                                         max_leaf_nodes=None,\n",
       "                                                         min_impurity_decrease=0.0,\n",
       "                                                         min_impurity_split=None,\n",
       "                                                         min_samples_leaf=1,\n",
       "                                                         min_samples_split=2,\n",
       "                                                         min_weight_fraction_leaf=0.0,\n",
       "                                                         presort='deprecated',\n",
       "                                                         random_state=None,\n",
       "                                                         splitter='best'),\n",
       "                   learning_rate=1.0, n_estimators=1, random_state=0)"
      ]
     },
     "execution_count": 48,
     "metadata": {},
     "output_type": "execute_result"
    }
   ],
   "source": [
    "adaboost.fit(x.reshape(-1,1), y)   # 算法在训练数据集上的拟合"
   ]
  },
  {
   "cell_type": "code",
   "execution_count": 49,
   "metadata": {
    "ExecuteTime": {
     "end_time": "2020-11-20T12:04:57.625409Z",
     "start_time": "2020-11-20T12:04:57.559564Z"
    }
   },
   "outputs": [
    {
     "data": {
      "text/plain": [
       "array([ 1,  1, -1, -1, -1, -1, -1, -1, -1, -1])"
      ]
     },
     "execution_count": 49,
     "metadata": {},
     "output_type": "execute_result"
    }
   ],
   "source": [
    "adaboost.predict(x.reshape(-1,1))   # 模型预测"
   ]
  },
  {
   "cell_type": "code",
   "execution_count": 50,
   "metadata": {
    "ExecuteTime": {
     "end_time": "2020-11-20T12:04:58.607360Z",
     "start_time": "2020-11-20T12:04:58.584425Z"
    }
   },
   "outputs": [
    {
     "data": {
      "text/plain": [
       "0.7"
      ]
     },
     "execution_count": 50,
     "metadata": {},
     "output_type": "execute_result"
    }
   ],
   "source": [
    "adaboost.score(x.reshape(-1,1),y)   # 模型的准确率"
   ]
  },
  {
   "cell_type": "code",
   "execution_count": 51,
   "metadata": {
    "ExecuteTime": {
     "end_time": "2020-11-20T12:04:59.862794Z",
     "start_time": "2020-11-20T12:04:59.852819Z"
    }
   },
   "outputs": [
    {
     "data": {
      "text/plain": [
       "array([0.3])"
      ]
     },
     "execution_count": 51,
     "metadata": {},
     "output_type": "execute_result"
    }
   ],
   "source": [
    "adaboost.estimator_errors_     # 模型的错误率"
   ]
  },
  {
   "cell_type": "code",
   "execution_count": 52,
   "metadata": {
    "ExecuteTime": {
     "end_time": "2020-11-20T12:05:01.553437Z",
     "start_time": "2020-11-20T12:05:01.512546Z"
    }
   },
   "outputs": [
    {
     "data": {
      "text/plain": [
       "AdaBoostClassifier(algorithm='SAMME.R',\n",
       "                   base_estimator=DecisionTreeClassifier(ccp_alpha=0.0,\n",
       "                                                         class_weight=None,\n",
       "                                                         criterion='gini',\n",
       "                                                         max_depth=1,\n",
       "                                                         max_features=None,\n",
       "                                                         max_leaf_nodes=None,\n",
       "                                                         min_impurity_decrease=0.0,\n",
       "                                                         min_impurity_split=None,\n",
       "                                                         min_samples_leaf=1,\n",
       "                                                         min_samples_split=2,\n",
       "                                                         min_weight_fraction_leaf=0.0,\n",
       "                                                         presort='deprecated',\n",
       "                                                         random_state=None,\n",
       "                                                         splitter='best'),\n",
       "                   learning_rate=1.0, n_estimators=2, random_state=0)"
      ]
     },
     "execution_count": 52,
     "metadata": {},
     "output_type": "execute_result"
    }
   ],
   "source": [
    "#两层\n",
    "adaboost=AdaBoostClassifier(base_estimator=DecisionTreeClassifier(max_depth=1),\n",
    "                            n_estimators=2,\n",
    "                            random_state=0)\n",
    "adaboost.fit(x.reshape(-1,1), y)    # 建立2层adaboost模型"
   ]
  },
  {
   "cell_type": "code",
   "execution_count": 53,
   "metadata": {
    "ExecuteTime": {
     "end_time": "2020-11-20T12:07:17.245347Z",
     "start_time": "2020-11-20T12:07:17.236373Z"
    }
   },
   "outputs": [
    {
     "data": {
      "text/plain": [
       "0.8"
      ]
     },
     "execution_count": 53,
     "metadata": {},
     "output_type": "execute_result"
    }
   ],
   "source": [
    "adaboost.score(x.reshape(-1,1),y)   # 模型的准确率"
   ]
  },
  {
   "cell_type": "code",
   "execution_count": 54,
   "metadata": {
    "ExecuteTime": {
     "end_time": "2020-11-20T12:07:18.031891Z",
     "start_time": "2020-11-20T12:07:18.024880Z"
    }
   },
   "outputs": [
    {
     "data": {
      "text/plain": [
       "array([0.3, 0.2])"
      ]
     },
     "execution_count": 54,
     "metadata": {},
     "output_type": "execute_result"
    }
   ],
   "source": [
    "adaboost.estimator_errors_     # 模型的错误率"
   ]
  },
  {
   "cell_type": "code",
   "execution_count": 55,
   "metadata": {
    "ExecuteTime": {
     "end_time": "2020-11-20T12:07:19.055862Z",
     "start_time": "2020-11-20T12:07:19.038908Z"
    }
   },
   "outputs": [
    {
     "data": {
      "text/plain": [
       "AdaBoostClassifier(algorithm='SAMME.R',\n",
       "                   base_estimator=DecisionTreeClassifier(ccp_alpha=0.0,\n",
       "                                                         class_weight=None,\n",
       "                                                         criterion='gini',\n",
       "                                                         max_depth=1,\n",
       "                                                         max_features=None,\n",
       "                                                         max_leaf_nodes=None,\n",
       "                                                         min_impurity_decrease=0.0,\n",
       "                                                         min_impurity_split=None,\n",
       "                                                         min_samples_leaf=1,\n",
       "                                                         min_samples_split=2,\n",
       "                                                         min_weight_fraction_leaf=0.0,\n",
       "                                                         presort='deprecated',\n",
       "                                                         random_state=None,\n",
       "                                                         splitter='best'),\n",
       "                   learning_rate=1.0, n_estimators=3, random_state=0)"
      ]
     },
     "execution_count": 55,
     "metadata": {},
     "output_type": "execute_result"
    }
   ],
   "source": [
    "#三层\n",
    "adaboost=AdaBoostClassifier(base_estimator=DecisionTreeClassifier(max_depth=1),\n",
    "                            n_estimators=3,\n",
    "                            random_state=0)\n",
    "adaboost.fit(x.reshape(-1,1), y)   # 建立三层adaboost模型"
   ]
  },
  {
   "cell_type": "code",
   "execution_count": 56,
   "metadata": {
    "ExecuteTime": {
     "end_time": "2020-11-20T12:07:21.363026Z",
     "start_time": "2020-11-20T12:07:21.355016Z"
    }
   },
   "outputs": [
    {
     "data": {
      "text/plain": [
       "1.0"
      ]
     },
     "execution_count": 56,
     "metadata": {},
     "output_type": "execute_result"
    }
   ],
   "source": [
    "adaboost.score(x.reshape(-1,1),y)   # 模型的准确率"
   ]
  },
  {
   "cell_type": "code",
   "execution_count": 57,
   "metadata": {
    "ExecuteTime": {
     "end_time": "2020-11-20T12:07:22.017287Z",
     "start_time": "2020-11-20T12:07:22.006358Z"
    }
   },
   "outputs": [
    {
     "data": {
      "text/plain": [
       "array([3.00000000e-01, 2.00000003e-01, 5.37119868e-05])"
      ]
     },
     "execution_count": 57,
     "metadata": {},
     "output_type": "execute_result"
    }
   ],
   "source": [
    "adaboost.estimator_errors_    # 模型的误差"
   ]
  },
  {
   "cell_type": "raw",
   "metadata": {},
   "source": [
    "adaboost回归算法"
   ]
  },
  {
   "cell_type": "code",
   "execution_count": 58,
   "metadata": {
    "ExecuteTime": {
     "end_time": "2020-11-20T12:14:52.145431Z",
     "start_time": "2020-11-20T12:14:52.134457Z"
    }
   },
   "outputs": [],
   "source": [
    "import numpy as np\n",
    "import math\n",
    "#训练样本数据\n",
    "x=[1,2,3,4,5,6,7,8,9,10]\n",
    "y=[1.5,5.2,3.1,6.6,6.8,6.5,7.9,8.7,9.8,8.2] #特征\n",
    "x=np.array(x)    # 构建数组\n",
    "y=np.array(y) \n",
    "n=len(y)  "
   ]
  },
  {
   "cell_type": "raw",
   "metadata": {},
   "source": [
    "依然用决策树的思想，找可能的切分点"
   ]
  },
  {
   "cell_type": "code",
   "execution_count": 59,
   "metadata": {
    "ExecuteTime": {
     "end_time": "2020-11-20T12:16:11.103635Z",
     "start_time": "2020-11-20T12:16:10.505452Z"
    }
   },
   "outputs": [],
   "source": [
    "x_sort=sorted(x)    # 排序\n",
    "x_split=np.zeros(len(x)-1)   # 生成用0填充的数组\n",
    "for i in range(len(x)-1):\n",
    "    x_sort=sorted(x)        # 排序\n",
    "    x_split[i]=(x_sort[i]+x_sort[i+1])*0.5"
   ]
  },
  {
   "cell_type": "code",
   "execution_count": 60,
   "metadata": {
    "ExecuteTime": {
     "end_time": "2020-11-20T12:16:12.844377Z",
     "start_time": "2020-11-20T12:16:12.826400Z"
    }
   },
   "outputs": [
    {
     "data": {
      "text/plain": [
       "array([1.5, 2.5, 3.5, 4.5, 5.5, 6.5, 7.5, 8.5, 9.5])"
      ]
     },
     "execution_count": 60,
     "metadata": {},
     "output_type": "execute_result"
    }
   ],
   "source": [
    "x_split  "
   ]
  },
  {
   "cell_type": "raw",
   "metadata": {},
   "source": [
    "构造弱回归器"
   ]
  },
  {
   "cell_type": "code",
   "execution_count": 61,
   "metadata": {
    "ExecuteTime": {
     "end_time": "2020-11-20T12:19:01.206269Z",
     "start_time": "2020-11-20T12:19:01.191307Z"
    }
   },
   "outputs": [],
   "source": [
    "#定义弱分类器\n",
    "def h1(x,th):    \n",
    "    list1=[]\n",
    "    list2=[]\n",
    "    pre_y=np.zeros(len(x))  # 生成用0填充的数组\n",
    "    for i in range(len(x)):\n",
    "        if x[i]<th:\n",
    "            list1.append(i)   # 分类添加\n",
    "        else:\n",
    "            list2.append(i)\n",
    "    \n",
    "    pre_y[list1]=sum(y[list1])/len(list1)  #分类\n",
    "    pre_y[list2]=sum(y[list2])/len(list2)\n",
    "    \n",
    "    return pre_y"
   ]
  },
  {
   "cell_type": "code",
   "execution_count": 63,
   "metadata": {
    "ExecuteTime": {
     "end_time": "2020-11-20T12:19:30.157680Z",
     "start_time": "2020-11-20T12:19:30.106744Z"
    }
   },
   "outputs": [
    {
     "data": {
      "text/plain": [
       "array([1.5       , 6.97777778, 6.97777778, 6.97777778, 6.97777778,\n",
       "       6.97777778, 6.97777778, 6.97777778, 6.97777778, 6.97777778])"
      ]
     },
     "execution_count": 63,
     "metadata": {},
     "output_type": "execute_result"
    }
   ],
   "source": [
    "h1(x,1.5)  # 在1.5处分类结果"
   ]
  },
  {
   "cell_type": "code",
   "execution_count": 64,
   "metadata": {
    "ExecuteTime": {
     "end_time": "2020-11-20T12:19:36.509802Z",
     "start_time": "2020-11-20T12:19:36.500862Z"
    }
   },
   "outputs": [
    {
     "data": {
      "text/plain": [
       "array([3.35, 3.35, 7.2 , 7.2 , 7.2 , 7.2 , 7.2 , 7.2 , 7.2 , 7.2 ])"
      ]
     },
     "execution_count": 64,
     "metadata": {},
     "output_type": "execute_result"
    }
   ],
   "source": [
    "h1(x,2.5)  # 在2.5处分类结果"
   ]
  },
  {
   "cell_type": "code",
   "execution_count": 65,
   "metadata": {
    "ExecuteTime": {
     "end_time": "2020-11-20T12:19:43.504813Z",
     "start_time": "2020-11-20T12:19:43.497797Z"
    }
   },
   "outputs": [
    {
     "data": {
      "text/plain": [
       "array([3.26666667, 3.26666667, 3.26666667, 7.78571429, 7.78571429,\n",
       "       7.78571429, 7.78571429, 7.78571429, 7.78571429, 7.78571429])"
      ]
     },
     "execution_count": 65,
     "metadata": {},
     "output_type": "execute_result"
    }
   ],
   "source": [
    "h1(x,3.5)  # 在3.5处分类结果"
   ]
  },
  {
   "cell_type": "raw",
   "metadata": {},
   "source": [
    "第一次迭代"
   ]
  },
  {
   "cell_type": "code",
   "execution_count": 67,
   "metadata": {
    "ExecuteTime": {
     "end_time": "2020-11-20T12:20:53.382502Z",
     "start_time": "2020-11-20T12:20:53.324936Z"
    }
   },
   "outputs": [],
   "source": [
    "D1=np.ones(len(x))/len(x)    # 创建一维权重数据\n",
    "es=np.zeros(len(x_split))    # 创建以0填充的数组\n",
    "for i in range(len(x_split)):\n",
    "    pre_y=h1(x,x_split[i])   \n",
    "    e=abs(y-pre_y)/max(abs(y-pre_y))  # 以绝对值分类\n",
    "    es[i]=np.sum(D1*e)    # 求和\n",
    "        \n",
    "split=x_split[np.argmin(es)]   # 将列表展平，显示最小值的下标\n",
    "pre_y_best=h1(x,split)\n",
    "e_best=abs(y-pre_y_best)/max(abs(y-pre_y_best))   # 以绝对值分类\n",
    "a1=min(es)/(1-min(es)) \n",
    "Z1=np.sum(a1**(1-e_best)*D1)   #求和\n",
    "D2=D1*(1-e_best)/Z1"
   ]
  },
  {
   "cell_type": "code",
   "execution_count": 68,
   "metadata": {
    "ExecuteTime": {
     "end_time": "2020-11-20T12:20:54.579039Z",
     "start_time": "2020-11-20T12:20:54.570063Z"
    }
   },
   "outputs": [
    {
     "data": {
      "text/plain": [
       "array([0.34498567, 0.37317073, 0.53522459, 0.48846154, 0.42929936,\n",
       "       0.37681159, 0.37269373, 0.39008746, 0.37605634])"
      ]
     },
     "execution_count": 68,
     "metadata": {},
     "output_type": "execute_result"
    }
   ],
   "source": [
    "es    # 构建的数组"
   ]
  },
  {
   "cell_type": "code",
   "execution_count": 69,
   "metadata": {
    "ExecuteTime": {
     "end_time": "2020-11-20T12:20:55.428386Z",
     "start_time": "2020-11-20T12:20:55.414423Z"
    }
   },
   "outputs": [
    {
     "data": {
      "text/plain": [
       "1.5"
      ]
     },
     "execution_count": 69,
     "metadata": {},
     "output_type": "execute_result"
    }
   ],
   "source": [
    "split   # 最佳切分点"
   ]
  },
  {
   "cell_type": "code",
   "execution_count": 70,
   "metadata": {
    "ExecuteTime": {
     "end_time": "2020-11-20T12:20:56.093976Z",
     "start_time": "2020-11-20T12:20:56.082013Z"
    }
   },
   "outputs": [
    {
     "data": {
      "text/plain": [
       "array([0.14915439, 0.08077415, 0.        , 0.13462359, 0.14231637,\n",
       "       0.1307772 , 0.11368214, 0.08291104, 0.04060076, 0.10214298])"
      ]
     },
     "execution_count": 70,
     "metadata": {},
     "output_type": "execute_result"
    }
   ],
   "source": [
    "D2   #预测结果"
   ]
  },
  {
   "cell_type": "code",
   "execution_count": 72,
   "metadata": {
    "ExecuteTime": {
     "end_time": "2020-11-20T12:21:09.957369Z",
     "start_time": "2020-11-20T12:21:09.374751Z"
    }
   },
   "outputs": [
    {
     "data": {
      "image/png": "[encoded data removed]",
      "text/plain": [
       "<Figure size 432x288 with 1 Axes>"
      ]
     },
     "metadata": {
      "needs_background": "light"
     },
     "output_type": "display_data"
    }
   ],
   "source": [
    "plt.plot(x,y,'b+',LineWidth=4,MarkerSize=10)    # 设置蓝色+的数据图标\n",
    "plt.plot(x,h1(x,1.5),'r*',LineWidth=4,MarkerSize=8)    # 设置红色圆圈的数据图标\n",
    "plt.axvline(x=1.5,ls=\"-\",c=\"green\")      # 添加水平直线\n",
    "plt.xticks(np.arange(0, 11, 1))    # 设置x轴坐标\n",
    "plt.yticks(np.arange(0, 11, 1))     # 设置y轴坐标\n",
    "plt.legend((\"真实值\",\"预测值\"),loc=\"upper left\")   # 给图像加图例\n",
    "plt.title('第一轮预测')       # 设置图像标题\n",
    "plt.show()"
   ]
  },
  {
   "cell_type": "raw",
   "metadata": {},
   "source": [
    "用sklearn实现adaboost回归"
   ]
  },
  {
   "cell_type": "code",
   "execution_count": 73,
   "metadata": {
    "ExecuteTime": {
     "end_time": "2020-11-20T12:21:22.114356Z",
     "start_time": "2020-11-20T12:21:20.366762Z"
    }
   },
   "outputs": [
    {
     "name": "stderr",
     "output_type": "stream",
     "text": [
      "E:\\Anaconda3\\anaconda3\\lib\\site-packages\\matplotlib\\backends\\backend_agg.py:211: RuntimeWarning: Glyph 8722 missing from current font.\n",
      "  font.set_text(s, 0.0, flags=flags)\n",
      "E:\\Anaconda3\\anaconda3\\lib\\site-packages\\matplotlib\\backends\\backend_agg.py:180: RuntimeWarning: Glyph 8722 missing from current font.\n",
      "  font.set_text(s, 0, flags=flags)\n"
     ]
    },
    {
     "data": {
      "image/png": "[encoded data removed]",
      "text/plain": [
       "<Figure size 432x288 with 1 Axes>"
      ]
     },
     "metadata": {
      "needs_background": "light"
     },
     "output_type": "display_data"
    }
   ],
   "source": [
    "import numpy as np\n",
    "import matplotlib.pyplot as plt\n",
    "from sklearn.tree import DecisionTreeRegressor\n",
    "from sklearn.ensemble import AdaBoostRegressor     # 导入库\n",
    "\n",
    "# 创建数据集\n",
    "rng = np.random.RandomState(1)        # 一个伪随机数生成器\n",
    "X = np.linspace(0, 6, 100)[:, np.newaxis]    # 在指定的间隔内返回均匀间隔的数字\n",
    "y = np.sin(X).ravel() + np.sin(6 * X).ravel() + rng.normal(0, 0.1, X.shape[0])\n",
    "\n",
    "# 训练模型\n",
    "regr_1 = DecisionTreeRegressor(max_depth=4)   # 决策树\n",
    "\n",
    "regr_2 = AdaBoostRegressor(DecisionTreeRegressor(max_depth=4),\n",
    "                          n_estimators=300, random_state=rng)  # adaboost\n",
    "\n",
    "regr_1.fit(X, y)  # 建立1层模型\n",
    "regr_2.fit(X, y)  # 建立2层模型\n",
    "\n",
    "# 预测\n",
    "y_1 = regr_1.predict(X)\n",
    "y_2 = regr_2.predict(X)\n",
    "\n",
    "# 画图\n",
    "plt.figure()   # 设置画布\n",
    "plt.scatter(X, y, c=\"k\", label=\"training samples\")   # 设置训练数据\n",
    "plt.plot(X, y_1, c=\"g\", label=\"n_estimators=1\", linewidth=2)   # 设置模型1预测数据\n",
    "plt.plot(X, y_2, c=\"r\", label=\"n_estimators=300\", linewidth=2)  # 设置模型2测数据\n",
    "plt.xlabel(\"data\")   # X轴标签\n",
    "plt.ylabel(\"target\")  # y轴标签\n",
    "plt.title(\"Boosted Decision Tree Regression\")  # 设置图像标题\n",
    "plt.legend()   # 显示图例\n",
    "plt.show()"
   ]
  },
  {
   "cell_type": "markdown",
   "metadata": {},
   "source": [
    "## 2.利用breast_cancer数据集构建adaboost分类模型，预测是否得癌症，并与其他分类模型做比较，说明其预测的效果"
   ]
  },
  {
   "cell_type": "markdown",
   "metadata": {},
   "source": [
    "### adaboost模型 "
   ]
  },
  {
   "cell_type": "code",
   "execution_count": 2,
   "metadata": {
    "ExecuteTime": {
     "end_time": "2020-11-23T05:08:55.655410Z",
     "start_time": "2020-11-23T05:08:51.778728Z"
    }
   },
   "outputs": [],
   "source": [
    "import numpy as np\n",
    "import pandas as pd\n",
    "import matplotlib.pyplot as plt\n",
    "from sklearn.datasets import load_breast_cancer \n",
    "from sklearn.metrics import confusion_matrix\n",
    "from sklearn.preprocessing import LabelEncoder\n",
    "from sklearn.ensemble import AdaBoostClassifier\n",
    "from sklearn.tree import DecisionTreeClassifier\n",
    "breast_cancer= load_breast_cancer()"
   ]
  },
  {
   "cell_type": "code",
   "execution_count": 3,
   "metadata": {
    "ExecuteTime": {
     "end_time": "2020-11-23T05:09:08.777179Z",
     "start_time": "2020-11-23T05:09:08.686010Z"
    }
   },
   "outputs": [],
   "source": [
    "X = pd.DataFrame(breast_cancer.data, columns=breast_cancer.feature_names)\n",
    "y = pd.Categorical.from_codes(breast_cancer.target, breast_cancer.target_names)"
   ]
  },
  {
   "cell_type": "raw",
   "metadata": {},
   "source": [
    "将恶性设置为 1 ，并将良性设置为 0 "
   ]
  },
  {
   "cell_type": "code",
   "execution_count": 4,
   "metadata": {
    "ExecuteTime": {
     "end_time": "2020-11-23T05:09:42.526862Z",
     "start_time": "2020-11-23T05:09:42.511132Z"
    }
   },
   "outputs": [],
   "source": [
    "encoder = LabelEncoder()\n",
    "binary_encoded_y = pd.Series(encoder.fit_transform(y))"
   ]
  },
  {
   "cell_type": "code",
   "execution_count": 5,
   "metadata": {
    "ExecuteTime": {
     "end_time": "2020-11-23T05:09:43.601823Z",
     "start_time": "2020-11-23T05:09:43.461834Z"
    }
   },
   "outputs": [],
   "source": [
    "train_X, test_X, train_y, test_y = train_test_split(X, binary_encoded_y, random_state=1)"
   ]
  },
  {
   "cell_type": "code",
   "execution_count": 59,
   "metadata": {
    "ExecuteTime": {
     "end_time": "2020-11-21T11:37:22.002843Z",
     "start_time": "2020-11-21T11:37:21.476255Z"
    },
    "run_control": {
     "marked": false
    }
   },
   "outputs": [
    {
     "data": {
      "text/plain": [
       "AdaBoostClassifier(algorithm='SAMME.R',\n",
       "                   base_estimator=DecisionTreeClassifier(ccp_alpha=0.0,\n",
       "                                                         class_weight=None,\n",
       "                                                         criterion='gini',\n",
       "                                                         max_depth=1,\n",
       "                                                         max_features=None,\n",
       "                                                         max_leaf_nodes=None,\n",
       "                                                         min_impurity_decrease=0.0,\n",
       "                                                         min_impurity_split=None,\n",
       "                                                         min_samples_leaf=1,\n",
       "                                                         min_samples_split=2,\n",
       "                                                         min_weight_fraction_leaf=0.0,\n",
       "                                                         presort='deprecated',\n",
       "                                                         random_state=None,\n",
       "                                                         splitter='best'),\n",
       "                   learning_rate=1.0, n_estimators=200, random_state=None)"
      ]
     },
     "execution_count": 59,
     "metadata": {},
     "output_type": "execute_result"
    }
   ],
   "source": [
    "classifier = AdaBoostClassifier(\n",
    "    DecisionTreeClassifier(max_depth=1),\n",
    "    n_estimators=200\n",
    ")\n",
    "classifier.fit(X_train, y_train)"
   ]
  },
  {
   "cell_type": "code",
   "execution_count": 63,
   "metadata": {
    "ExecuteTime": {
     "end_time": "2020-11-21T12:06:11.678707Z",
     "start_time": "2020-11-21T12:06:11.640849Z"
    }
   },
   "outputs": [],
   "source": [
    "predictions = classifier.predict(test_X)"
   ]
  },
  {
   "cell_type": "code",
   "execution_count": 64,
   "metadata": {
    "ExecuteTime": {
     "end_time": "2020-11-21T12:06:12.359670Z",
     "start_time": "2020-11-21T12:06:12.347704Z"
    }
   },
   "outputs": [
    {
     "data": {
      "text/plain": [
       "array([[ 0, 88],\n",
       "       [55,  0]], dtype=int64)"
      ]
     },
     "execution_count": 64,
     "metadata": {},
     "output_type": "execute_result"
    }
   ],
   "source": [
    "confusion_matrix(test_y, predictions)"
   ]
  },
  {
   "cell_type": "code",
   "execution_count": 67,
   "metadata": {
    "ExecuteTime": {
     "end_time": "2020-11-21T12:18:38.140278Z",
     "start_time": "2020-11-21T12:18:38.136293Z"
    }
   },
   "outputs": [],
   "source": [
    "from sklearn import metrics"
   ]
  },
  {
   "cell_type": "code",
   "execution_count": 68,
   "metadata": {
    "ExecuteTime": {
     "end_time": "2020-11-21T12:18:42.280550Z",
     "start_time": "2020-11-21T12:18:40.935997Z"
    }
   },
   "outputs": [],
   "source": [
    "# 深度=1的CART树做为adaboost的基分类器\n",
    "base_estimator = DecisionTreeClassifier(max_depth=1)\n",
    "n_estimators = np.arange(1,101,10)\n",
    "accs_train = []\n",
    "accs_test = []\n",
    "\n",
    "for n_estimator in n_estimators:\n",
    "    adaB = AdaBoostClassifier(base_estimator= base_estimator,n_estimators=n_estimator, learning_rate= 0.5, random_state=0)\n",
    "    adaB.fit(X_train, y_train)\n",
    "\n",
    "    y_train_pred = adaB.predict(X_train)\n",
    "    acc_train = metrics.accuracy_score(y_train, y_train_pred)\n",
    "    accs_train.append(acc_train)\n",
    "    \n",
    "    y_test_pred = adaB.predict(X_test)\n",
    "    acc_test = metrics.accuracy_score(y_test, y_test_pred)\n",
    "    accs_test.append(acc_test)"
   ]
  },
  {
   "cell_type": "code",
   "execution_count": 69,
   "metadata": {
    "ExecuteTime": {
     "end_time": "2020-11-21T12:19:15.345794Z",
     "start_time": "2020-11-21T12:19:15.066014Z"
    }
   },
   "outputs": [
    {
     "data": {
      "image/png": "[encoded data removed]",
      "text/plain": [
       "<Figure size 720x432 with 1 Axes>"
      ]
     },
     "metadata": {
      "needs_background": "light"
     },
     "output_type": "display_data"
    }
   ],
   "source": [
    "#画图\n",
    "plt.figure(figsize=(10,6))\n",
    "plt.plot(n_estimators, accs_train, 'r-',lw=2, label='train')\n",
    "plt.plot(n_estimators, accs_test, 'g-',lw=2, label='test')\n",
    "plt.ylim(0.88,1.01)\n",
    "plt.xlabel('Num of n_estimators',fontsize = 12)\n",
    "plt.ylabel('accurate',fontsize =12)\n",
    "plt.grid(b = True,ls= ':')\n",
    "plt.title('Different accurate of n_estimators',fontsize = 16)\n",
    "plt.legend(loc = 'best')\n",
    "plt.show()"
   ]
  },
  {
   "cell_type": "code",
   "execution_count": 72,
   "metadata": {
    "ExecuteTime": {
     "end_time": "2020-11-21T12:24:09.681519Z",
     "start_time": "2020-11-21T12:24:09.670516Z"
    }
   },
   "outputs": [],
   "source": [
    "# learning_rate对模型效果的影响\n",
    "base_estimator = DecisionTreeClassifier(max_depth=1)\n",
    "learning_rates = [0.05, 0.1, 0.5, 0.9]\n",
    "n_estimators = np.arange(1,41,1)"
   ]
  },
  {
   "cell_type": "code",
   "execution_count": 76,
   "metadata": {
    "ExecuteTime": {
     "end_time": "2020-11-21T12:25:43.119974Z",
     "start_time": "2020-11-21T12:25:24.771807Z"
    }
   },
   "outputs": [
    {
     "data": {
      "image/png": "[encoded data removed]",
      "text/plain": [
       "<Figure size 1440x1080 with 4 Axes>"
      ]
     },
     "metadata": {},
     "output_type": "display_data"
    }
   ],
   "source": [
    "plt.figure(figsize=(20,15), facecolor='w')\n",
    "for i, learning_rate in enumerate(learning_rates):\n",
    "    accs_train = []\n",
    "    accs_test = []\n",
    "    for n_estimator in n_estimators:\n",
    "        adaB = AdaBoostClassifier(base_estimator= base_estimator,n_estimators=n_estimator, learning_rate= learning_rate, random_state=0)\n",
    "        adaB.fit(X_train, y_train)\n",
    "\n",
    "        y_train_pred = adaB.predict(X_train)\n",
    "        acc_train = metrics.accuracy_score(y_train, y_train_pred)\n",
    "        accs_train.append(acc_train)\n",
    "\n",
    "        y_test_pred = adaB.predict(X_test)\n",
    "        acc_test = metrics.accuracy_score(y_test, y_test_pred)\n",
    "        accs_test.append(acc_test)\n",
    "    \n",
    "    plt.subplot(2, 2, i+1)\n",
    "    plt.plot(n_estimators, accs_train, 'r-',lw=2, label='train')\n",
    "    plt.plot(n_estimators, accs_test, 'g-',lw=2, label='test')\n",
    "    plt.ylim(0.88,1.01)\n",
    "    plt.xlabel('Num of n_estimators',fontsize = 14)\n",
    "    plt.ylabel('accurate',fontsize =14)\n",
    "    plt.grid(b = True,ls= ':')\n",
    "    plt.title('learning_rate=%.2f'%learning_rate, fontsize = 20)\n",
    "    plt.legend(loc = 'best')\n",
    "    \n",
    "plt.suptitle('Different learn_rate of n_estimators', fontsize=30)\n",
    "plt.tight_layout(1.4)\n",
    "plt.subplots_adjust(top=0.92)\n",
    "plt.show()"
   ]
  },
  {
   "cell_type": "markdown",
   "metadata": {},
   "source": [
    "### 决策树"
   ]
  },
  {
   "cell_type": "code",
   "execution_count": 77,
   "metadata": {
    "ExecuteTime": {
     "end_time": "2020-11-21T12:25:51.156870Z",
     "start_time": "2020-11-21T12:25:51.138910Z"
    }
   },
   "outputs": [],
   "source": [
    "max_depths = [1, 5]\n",
    "n_estimators = np.arange(1,41,1)"
   ]
  },
  {
   "cell_type": "code",
   "execution_count": 79,
   "metadata": {
    "ExecuteTime": {
     "end_time": "2020-11-21T12:27:06.125764Z",
     "start_time": "2020-11-21T12:26:55.046445Z"
    }
   },
   "outputs": [
    {
     "data": {
      "image/png": "[encoded data removed]",
      "text/plain": [
       "<Figure size 1440x576 with 2 Axes>"
      ]
     },
     "metadata": {},
     "output_type": "display_data"
    }
   ],
   "source": [
    "plt.figure(figsize=(20,8), facecolor='w')\n",
    "for i, max_depth in enumerate(max_depths):\n",
    "    accs_train = []\n",
    "    accs_test = []\n",
    "    for n_estimator in n_estimators:\n",
    "        adaB = AdaBoostClassifier(base_estimator= DecisionTreeClassifier(max_depth=max_depth) ,\n",
    "                                  n_estimators=n_estimator, learning_rate= 0.01, random_state=0)\n",
    "        adaB.fit(X_train, y_train)\n",
    "\n",
    "        y_train_pred = adaB.predict(X_train)\n",
    "        acc_train = metrics.accuracy_score(y_train, y_train_pred)\n",
    "        accs_train.append(acc_train)\n",
    "\n",
    "        y_test_pred = adaB.predict(X_test)\n",
    "        acc_test = metrics.accuracy_score(y_test, y_test_pred)\n",
    "        accs_test.append(acc_test)\n",
    "    \n",
    "    plt.subplot(1, 2, i+1)\n",
    "    plt.plot(n_estimators, accs_train, 'r-',lw=2, label='train')\n",
    "    plt.plot(n_estimators, accs_test, 'g-',lw=2, label='test')\n",
    "    plt.ylim(0.88,1.01)\n",
    "    plt.xlabel('Num of n_estimators',fontsize = 14)\n",
    "    plt.ylabel('accurate',fontsize =14)\n",
    "    plt.grid(b = True,ls= ':')\n",
    "    plt.title('max_depth=%s'%max_depth, fontsize = 20)\n",
    "    plt.legend(loc = 'best')\n",
    "\n",
    "plt.suptitle('Different max_depth of n_estimators', fontsize=30)\n",
    "plt.tight_layout(1.4)\n",
    "plt.subplots_adjust(top=0.85)\n",
    "plt.show()"
   ]
  },
  {
   "cell_type": "markdown",
   "metadata": {},
   "source": [
    "### 逻辑回归 "
   ]
  },
  {
   "cell_type": "code",
   "execution_count": 8,
   "metadata": {
    "ExecuteTime": {
     "end_time": "2020-11-21T10:06:34.095619Z",
     "start_time": "2020-11-21T10:06:34.090631Z"
    }
   },
   "outputs": [],
   "source": [
    "from sklearn.metrics import mean_squared_error,classification_report\n",
    "from sklearn.linear_model import LogisticRegression\n",
    "from sklearn.preprocessing import StandardScaler"
   ]
  },
  {
   "cell_type": "code",
   "execution_count": 101,
   "metadata": {
    "ExecuteTime": {
     "end_time": "2020-11-20T14:18:19.827014Z",
     "start_time": "2020-11-20T14:18:19.727130Z"
    }
   },
   "outputs": [],
   "source": [
    "#进行标准化\n",
    "std = StandardScaler()\n",
    "x_train1 = std.fit_transform(X_train)\n",
    "x_test1 = std.transform(X_test)"
   ]
  },
  {
   "cell_type": "code",
   "execution_count": 104,
   "metadata": {
    "ExecuteTime": {
     "end_time": "2020-11-20T14:20:12.150933Z",
     "start_time": "2020-11-20T14:20:10.760156Z"
    }
   },
   "outputs": [
    {
     "name": "stderr",
     "output_type": "stream",
     "text": [
      "E:\\Anaconda3\\anaconda3\\lib\\site-packages\\sklearn\\utils\\validation.py:760: DataConversionWarning: A column-vector y was passed when a 1d array was expected. Please change the shape of y to (n_samples, ), for example using ravel().\n",
      "  y = column_or_1d(y, warn=True)\n"
     ]
    },
    {
     "name": "stdout",
     "output_type": "stream",
     "text": [
      "计算的回归系数为： [[-0.27606602 -0.30310086 -0.29072665 -0.3524495  -0.08887332  0.69489667\n",
      "  -0.83159164 -0.90390551  0.04029888  0.36520447 -1.19757111  0.35202956\n",
      "  -0.74109251 -0.97521346 -0.27495612  0.6191506   0.25707841 -0.35592781\n",
      "   0.17637931  0.52153286 -0.87737574 -1.40343681 -0.76559961 -0.90697874\n",
      "  -0.79031648 -0.01037606 -0.93300924 -0.95154361 -0.90587541 -0.17442082]]\n"
     ]
    }
   ],
   "source": [
    "#逻辑回归预测\n",
    "lg = LogisticRegression(penalty='l2',C=1.0)\n",
    "lg.fit(x_train1,y_train)\n",
    "y_predict = lg.predict(x_test1)\n",
    "print(\"计算的回归系数为：\",lg.coef_)"
   ]
  },
  {
   "cell_type": "code",
   "execution_count": 106,
   "metadata": {
    "ExecuteTime": {
     "end_time": "2020-11-20T14:20:29.865655Z",
     "start_time": "2020-11-20T14:20:29.840739Z"
    }
   },
   "outputs": [
    {
     "name": "stdout",
     "output_type": "stream",
     "text": [
      "准确率为： 0.9824561403508771\n"
     ]
    }
   ],
   "source": [
    "print(\"准确率为：\",lg.score(x_test1,y_test))"
   ]
  },
  {
   "cell_type": "markdown",
   "metadata": {},
   "source": [
    "### 线性回归"
   ]
  },
  {
   "cell_type": "code",
   "execution_count": 31,
   "metadata": {
    "ExecuteTime": {
     "end_time": "2020-11-21T10:31:32.054070Z",
     "start_time": "2020-11-21T10:31:31.904910Z"
    }
   },
   "outputs": [
    {
     "name": "stdout",
     "output_type": "stream",
     "text": [
      "系数矩阵是：\n",
      " [ 4.03052088e-01 -1.95411025e-03 -5.46890242e-02 -1.74456941e-04\n",
      " -1.64790404e-01  5.58729352e+00 -1.42117750e+00 -1.57745575e+00\n",
      "  3.09322243e-01 -2.48669376e+00 -6.03910538e-01  7.60116657e-03\n",
      "  3.44796092e-02  1.33637827e-03 -1.59927521e+01 -7.18768872e-03\n",
      "  3.41911951e+00 -9.60682870e+00 -2.42015105e+00  6.00056649e+00\n",
      " -1.92876362e-01 -9.65550662e-03  3.74537831e-03  9.48167254e-04\n",
      " -6.46772306e-01 -1.46606436e-01 -2.85769813e-01 -1.23273938e+00\n",
      " -6.30072040e-01 -3.51767910e+00]\n",
      "截距项是：\n",
      " 3.0493685838193794\n",
      "R方为：\n",
      " 0.7765232434185574\n"
     ]
    }
   ],
   "source": [
    "from sklearn.linear_model import LinearRegression\n",
    "from sklearn.model_selection import train_test_split\n",
    "reg = LinearRegression(copy_X=True, fit_intercept=True, n_jobs=1, normalize=False).fit(X_train,y_train)\n",
    "print('系数矩阵是：\\n',reg.coef_)\n",
    "print('截距项是：\\n',reg.intercept_)\n",
    "print('R方为：\\n',reg.score(X_train,y_train))"
   ]
  },
  {
   "cell_type": "code",
   "execution_count": 32,
   "metadata": {
    "ExecuteTime": {
     "end_time": "2020-11-21T10:32:38.738525Z",
     "start_time": "2020-11-21T10:32:38.728553Z"
    }
   },
   "outputs": [
    {
     "name": "stdout",
     "output_type": "stream",
     "text": [
      "[ 0.83751508  0.49803997 -0.29650738  0.70651109  0.11386447 -0.16836144\n",
      " -0.04479423  0.7141426   0.9103937   0.36779715 -0.02191585  1.06716106\n",
      "  0.86223298  1.10150954  0.99539173  1.07353743  0.89513906  0.85477172\n",
      " -0.15204306  0.74188142  0.91561454  0.76774398  0.15426617  0.9346942\n",
      "  0.57925368  0.66908409  1.00490402  0.93063933  0.78360115  0.61721161\n",
      "  0.76609545  0.28755539 -0.11556097  0.96820627  0.84842856  0.89514185\n",
      "  1.12244305  0.96055202  0.67322023  1.29616451  0.86630851  1.29128005\n",
      "  1.34419318  0.5154523   0.57506935  0.90555871  1.02107956  1.12742378\n",
      "  0.86676325  0.8458652   0.46448125  0.98040675 -0.07037318  1.13385667\n",
      "  0.00221105 -0.0768032   0.92824523 -0.02378631  0.81310025  1.25055109\n",
      "  1.25182696  0.23226962  0.29819676  1.04521416  0.68492182  0.76613135\n",
      "  0.92564258  1.01671824  0.86809916  0.05084389  0.62246874 -0.18065812\n",
      "  0.61943987  1.03811258  0.92708939  1.16375808  0.2651374   0.98633698\n",
      "  1.09164333  1.25341768  0.94777615  0.01223398  0.96210628  0.85724594\n",
      "  1.10976257  0.30755467  0.79021701  0.04512399  0.64920758 -0.17310086\n",
      " -0.21578061  0.55773138  0.51824996  0.69183452  1.1180742  -0.18929813\n",
      "  0.14448039  0.94885969  1.13950224  0.32707167  0.11722948  0.86616734\n",
      "  0.62809442  1.00096041  1.02958308  0.12747835  1.11043402  1.30331846\n",
      "  0.83776971 -0.09464495  1.17091032  0.72812447  0.90386679  0.07576567]\n",
      "[1 1 0 1 0 0 0 1 1 0 0 1 1 1 1 1 1 1 0 1 1 1 0 1 0 1 1 1 1 0 1 0 0 1 1 1 1\n",
      " 1 1 1 1 1 1 0 0 1 1 1 1 1 0 1 0 1 0 0 1 0 1 1 1 0 0 1 1 1 1 1 1 0 0 0 1 1\n",
      " 1 1 0 1 1 1 1 0 1 1 1 0 1 0 1 0 0 0 0 1 1 0 0 1 1 0 0 1 1 1 1 0 1 1 1 0 1\n",
      " 1 1 0]\n",
      "测试数据R方为：\n",
      " 0.7542853455015537\n"
     ]
    }
   ],
   "source": [
    "predicted=reg.predict(X_test)\n",
    "print(predicted)\n",
    "print(y_test)\n",
    "print('测试数据R方为：\\n',reg.score(X_test,y_test))"
   ]
  },
  {
   "cell_type": "markdown",
   "metadata": {},
   "source": [
    "### SVM "
   ]
  },
  {
   "cell_type": "code",
   "execution_count": 33,
   "metadata": {
    "ExecuteTime": {
     "end_time": "2020-11-21T10:47:11.460892Z",
     "start_time": "2020-11-21T10:47:11.235024Z"
    }
   },
   "outputs": [
    {
     "name": "stderr",
     "output_type": "stream",
     "text": [
      "E:\\Anaconda3\\anaconda3\\lib\\site-packages\\sklearn\\svm\\_base.py:947: ConvergenceWarning: Liblinear failed to converge, increase the number of iterations.\n",
      "  \"the number of iterations.\", ConvergenceWarning)\n"
     ]
    }
   ],
   "source": [
    "from sklearn.svm import LinearSVC\n",
    "lsvc = LinearSVC()\n",
    "lsvc.fit(X_train, y_train)\n",
    "svm_y = lsvc.predict(X_test)"
   ]
  },
  {
   "cell_type": "code",
   "execution_count": 35,
   "metadata": {
    "ExecuteTime": {
     "end_time": "2020-11-21T10:47:59.564636Z",
     "start_time": "2020-11-21T10:47:59.554668Z"
    }
   },
   "outputs": [
    {
     "name": "stdout",
     "output_type": "stream",
     "text": [
      "Accuracy of the SVM:  0.9473684210526315\n"
     ]
    }
   ],
   "source": [
    "from sklearn.metrics import classification_report\n",
    "# print 'Accuracy on the predict result (should be 1.0): ', lr.score(X_test, lr_y)\n",
    "print ('Accuracy of the SVM: ' , lsvc.score(X_test, y_test))"
   ]
  },
  {
   "cell_type": "code",
   "execution_count": 36,
   "metadata": {
    "ExecuteTime": {
     "end_time": "2020-11-21T10:50:25.828022Z",
     "start_time": "2020-11-21T10:50:25.745245Z"
    }
   },
   "outputs": [
    {
     "name": "stdout",
     "output_type": "stream",
     "text": [
      "              precision    recall  f1-score   support\n",
      "\n",
      "      Benign       1.00      0.85      0.92        39\n",
      "   Malignant       0.93      1.00      0.96        75\n",
      "\n",
      "    accuracy                           0.95       114\n",
      "   macro avg       0.96      0.92      0.94       114\n",
      "weighted avg       0.95      0.95      0.95       114\n",
      "\n"
     ]
    }
   ],
   "source": [
    "print (classification_report(y_test, svm_y, target_names = ['Benign', 'Malignant'])) "
   ]
  },
  {
   "cell_type": "markdown",
   "metadata": {},
   "source": [
    "### XGBoost"
   ]
  },
  {
   "cell_type": "code",
   "execution_count": 1,
   "metadata": {
    "ExecuteTime": {
     "end_time": "2020-11-23T05:08:37.672727Z",
     "start_time": "2020-11-23T05:08:21.205676Z"
    }
   },
   "outputs": [],
   "source": [
    "import xgboost\n",
    "# First XGBoost model for Pima Indians dataset\n",
    "from numpy import loadtxt\n",
    "from xgboost import XGBClassifier \n",
    "from sklearn.metrics import accuracy_score"
   ]
  },
  {
   "cell_type": "code",
   "execution_count": 6,
   "metadata": {
    "ExecuteTime": {
     "end_time": "2020-11-23T05:12:14.728051Z",
     "start_time": "2020-11-23T05:12:14.342604Z"
    }
   },
   "outputs": [
    {
     "data": {
      "text/plain": [
       "XGBClassifier(base_score=0.5, booster='gbtree', colsample_bylevel=1,\n",
       "              colsample_bynode=1, colsample_bytree=1, gamma=0, gpu_id=-1,\n",
       "              importance_type='gain', interaction_constraints='',\n",
       "              learning_rate=0.01, max_delta_step=0, max_depth=6,\n",
       "              min_child_weight=1, missing=nan, monotone_constraints='()',\n",
       "              n_estimators=100, n_jobs=0, num_parallel_tree=1,\n",
       "              objective='binary:logistic', random_state=0, reg_alpha=0,\n",
       "              reg_lambda=1, scale_pos_weight=1, subsample=1,\n",
       "              tree_method='exact', validate_parameters=1, verbosity=None)"
      ]
     },
     "execution_count": 6,
     "metadata": {},
     "output_type": "execute_result"
    }
   ],
   "source": [
    "model = XGBClassifier(learning_rate=0.01)\n",
    "model.fit(train_X, train_y)"
   ]
  },
  {
   "cell_type": "code",
   "execution_count": 7,
   "metadata": {
    "ExecuteTime": {
     "end_time": "2020-11-23T05:12:51.212964Z",
     "start_time": "2020-11-23T05:12:51.156124Z"
    }
   },
   "outputs": [
    {
     "data": {
      "text/plain": [
       "array([0, 1, 0, 1, 1, 1, 0, 1, 0, 0, 0, 1, 1, 0, 1, 0, 0, 0, 0, 1, 0, 0,\n",
       "       1, 0, 1, 0, 0, 1, 1, 1, 1, 0, 1, 1, 0, 0, 1, 0, 0, 0, 0, 0, 0, 0,\n",
       "       0, 1, 0, 0, 0, 0, 1, 1, 0, 0, 0, 0, 0, 1, 0, 0, 0, 1, 0, 0, 0, 0,\n",
       "       0, 1, 0, 0, 0, 0, 0, 1, 0, 1, 0, 0, 0, 1, 0, 1, 0, 1, 0, 0, 1, 0,\n",
       "       1, 0, 0, 1, 0, 0, 1, 1, 0, 0, 0, 0, 0, 0, 0, 0, 0, 0, 0, 0, 1, 1,\n",
       "       1, 1, 0, 0, 1, 1, 0, 0, 0, 0, 0, 1, 1, 0, 0, 1, 1, 0, 1, 1, 0, 0,\n",
       "       0, 1, 0, 1, 1, 0, 0, 0, 1, 1, 0])"
      ]
     },
     "execution_count": 7,
     "metadata": {},
     "output_type": "execute_result"
    }
   ],
   "source": [
    "y_pred = model.predict(test_X)\n",
    "y_pred"
   ]
  },
  {
   "cell_type": "code",
   "execution_count": 8,
   "metadata": {
    "ExecuteTime": {
     "end_time": "2020-11-23T05:19:00.576249Z",
     "start_time": "2020-11-23T05:19:00.476484Z"
    }
   },
   "outputs": [
    {
     "name": "stdout",
     "output_type": "stream",
     "text": [
      "AUC: 0.9341\n",
      "Accuracy: 0.9441\n",
      "Recall: 0.8909\n",
      "F1-score: 0.9245\n",
      "Precesion: 0.9608\n"
     ]
    }
   ],
   "source": [
    "from sklearn import metrics\n",
    "# ROC曲线下与坐标轴围成的面积\n",
    "print ('AUC: %.4f' % metrics.roc_auc_score(test_y ,y_pred))\n",
    "# 准确率\n",
    "print ('Accuracy: %.4f' % metrics.accuracy_score(test_y ,y_pred))\n",
    "print ('Recall: %.4f' % metrics.recall_score(test_y ,y_pred))\n",
    "# 精确率和召回率的调和平均数\n",
    "print ('F1-score: %.4f' %metrics.f1_score(test_y ,y_pred))\n",
    "print ('Precesion: %.4f' %metrics.precision_score(test_y ,y_pred))"
   ]
  },
  {
   "cell_type": "markdown",
   "metadata": {},
   "source": [
    "### 模型对比 "
   ]
  },
  {
   "cell_type": "markdown",
   "metadata": {},
   "source": [
    "通过对breast_cancer数据集分别构建adaboost模型，决策树，逻辑回归，线性回归和SVM模型，我们发现逻辑回归模型的预测准确率最高，为0.98，故用于后续模型预测。"
   ]
  },
  {
   "cell_type": "markdown",
   "metadata": {},
   "source": [
    "## 3.加载diabetes数据集，构建一年以后病情进展指标y回归模型，并与其他回归模型做比较，说明其预测效果。"
   ]
  },
  {
   "cell_type": "code",
   "execution_count": 9,
   "metadata": {
    "ExecuteTime": {
     "end_time": "2020-11-23T05:22:10.409827Z",
     "start_time": "2020-11-23T05:22:10.327829Z"
    }
   },
   "outputs": [],
   "source": [
    "from sklearn.datasets import load_diabetes\n",
    "diabetes=load_diabetes()"
   ]
  },
  {
   "cell_type": "code",
   "execution_count": 10,
   "metadata": {
    "ExecuteTime": {
     "end_time": "2020-11-23T05:22:11.220523Z",
     "start_time": "2020-11-23T05:22:11.205530Z"
    }
   },
   "outputs": [],
   "source": [
    "X=diabetes.data\n",
    "y=diabetes.target"
   ]
  },
  {
   "cell_type": "code",
   "execution_count": 11,
   "metadata": {
    "ExecuteTime": {
     "end_time": "2020-11-23T05:22:13.516811Z",
     "start_time": "2020-11-23T05:22:13.502848Z"
    }
   },
   "outputs": [
    {
     "name": "stdout",
     "output_type": "stream",
     "text": [
      "309\n"
     ]
    }
   ],
   "source": [
    "from sklearn.model_selection import train_test_split\n",
    "train_x3, test_x3, train_y3, test_y3 = train_test_split(X,y, test_size=0.3, random_state=14)\n",
    "print(len(train_x3))"
   ]
  },
  {
   "cell_type": "markdown",
   "metadata": {},
   "source": [
    "### 线性回归 "
   ]
  },
  {
   "cell_type": "code",
   "execution_count": 4,
   "metadata": {
    "ExecuteTime": {
     "end_time": "2020-11-21T10:06:17.066216Z",
     "start_time": "2020-11-21T10:06:16.271858Z"
    }
   },
   "outputs": [],
   "source": [
    "from sklearn import linear_model\n",
    "linreg=linear_model.LinearRegression()   #创建线性回归"
   ]
  },
  {
   "cell_type": "code",
   "execution_count": 5,
   "metadata": {
    "ExecuteTime": {
     "end_time": "2020-11-21T10:06:19.352368Z",
     "start_time": "2020-11-21T10:06:18.123639Z"
    }
   },
   "outputs": [
    {
     "data": {
      "text/plain": [
       "array([  32.03000032, -228.38626681,  492.80665731,  313.61844116,\n",
       "       -991.31389923,  551.99413533,  190.16297006,  278.51146815,\n",
       "        781.03825662,   72.08348977])"
      ]
     },
     "execution_count": 5,
     "metadata": {},
     "output_type": "execute_result"
    }
   ],
   "source": [
    "linreg.fit(train_x3, train_y3)\n",
    "linreg.coef_"
   ]
  },
  {
   "cell_type": "code",
   "execution_count": 6,
   "metadata": {
    "ExecuteTime": {
     "end_time": "2020-11-21T10:06:20.807150Z",
     "start_time": "2020-11-21T10:06:20.746313Z"
    }
   },
   "outputs": [
    {
     "data": {
      "text/plain": [
       "array([144.86833799, 223.84045276, 119.89182449, 152.07411301,\n",
       "        78.91890036, 197.63901681, 124.51759392, 231.33694622,\n",
       "        70.80216694, 165.68879413, 212.78257136,  83.59771503,\n",
       "       130.16066038, 104.25053292, 124.39067081, 117.53072173,\n",
       "       242.19219413, 149.70042865, 243.87095199, 160.28103277,\n",
       "       101.00337348, 123.49436335, 257.11627405, 199.36449506,\n",
       "       158.64093582, 102.53749701,  66.81982445, 230.84684891,\n",
       "       211.40406579,  82.22386332, 201.58566356, 116.56322835,\n",
       "       163.81802834,  65.78521092, 125.62835289, 108.94986755,\n",
       "       105.28738034, 195.33121721, 183.68157973, 139.13487277,\n",
       "        69.27753438, 237.27495979, 217.37365466, 113.91033001,\n",
       "       175.70085313, 166.43785742, 190.30791487, 111.03069064,\n",
       "       193.58519942, 205.38440565,  63.83469836,  78.11109234,\n",
       "       138.85237914, 154.90555064, 105.28738167,  60.47393199,\n",
       "       142.04737855,  97.34320111,  54.63028391, 118.60492531,\n",
       "       116.79929739, 159.77956943, 132.07282232, 163.17291363,\n",
       "       151.97874609, 157.86237448, 204.85775862, 161.16799804,\n",
       "       222.41649079, 140.12987701, 129.71900926,  93.63757663,\n",
       "       156.76126162, 155.15436258, 108.53146837,  71.38792189,\n",
       "       138.2339157 , 231.45024159, 102.18352196, 185.87703015,\n",
       "       164.25769492,  81.22671416,  57.78148702, 246.33490528,\n",
       "       259.60383504, 115.51303551, 155.22260292, 168.61835759,\n",
       "        72.32413077, 178.51830423, 198.09885561, 145.48428283,\n",
       "       152.09649806, 121.02105294,  47.90749284,  94.69325048,\n",
       "       183.0568669 , 233.42336655, 206.67986828, 126.3989015 ,\n",
       "       136.28156284, 142.4196317 ,  84.31474758, 215.07788727,\n",
       "       162.19720204, 163.23463456, 195.28593982, 160.40724926,\n",
       "        53.83299401,  55.52355877,  72.54169612,  86.99455415,\n",
       "       131.99447922,  79.8235546 , 160.96799752, 205.21387298,\n",
       "       136.583568  , 204.19893401, 186.49248525, 166.40711357,\n",
       "       146.35029817,  91.88573219, 168.28333875,  58.36187951,\n",
       "       123.83980134, 207.55788573,  67.80920986, 280.1335867 ,\n",
       "        40.66796741, 181.04403213,  77.23857395, 166.45204775,\n",
       "       176.75131537])"
      ]
     },
     "execution_count": 6,
     "metadata": {},
     "output_type": "execute_result"
    }
   ],
   "source": [
    "# 计算预测结果\n",
    "pred_y3 = linreg.predict(test_x3)\n",
    "pred_y3 "
   ]
  },
  {
   "cell_type": "code",
   "execution_count": 9,
   "metadata": {
    "ExecuteTime": {
     "end_time": "2020-11-21T10:06:40.297077Z",
     "start_time": "2020-11-21T10:06:40.290097Z"
    }
   },
   "outputs": [
    {
     "name": "stdout",
     "output_type": "stream",
     "text": [
      "3180.3670319563716\n"
     ]
    }
   ],
   "source": [
    "# 计算均方误差(损失值)\n",
    "print(mean_squared_error(test_y3, pred_y3))"
   ]
  },
  {
   "cell_type": "code",
   "execution_count": 10,
   "metadata": {
    "ExecuteTime": {
     "end_time": "2020-11-21T10:06:41.990215Z",
     "start_time": "2020-11-21T10:06:41.945371Z"
    }
   },
   "outputs": [
    {
     "data": {
      "text/plain": [
       "0.5194074106259234"
      ]
     },
     "execution_count": 10,
     "metadata": {},
     "output_type": "execute_result"
    }
   ],
   "source": [
    "linreg.score(train_x3, train_y3)  "
   ]
  },
  {
   "cell_type": "code",
   "execution_count": 83,
   "metadata": {
    "ExecuteTime": {
     "end_time": "2020-11-21T13:12:43.793116Z",
     "start_time": "2020-11-21T13:12:43.464327Z"
    }
   },
   "outputs": [
    {
     "name": "stdout",
     "output_type": "stream",
     "text": [
      "Coefficients: \n",
      " [941.43097333]\n",
      "Mean squared error: 3035.06\n",
      "Variance score: 0.41\n"
     ]
    },
    {
     "data": {
      "image/png": "[encoded data removed]",
      "text/plain": [
       "<Figure size 432x288 with 1 Axes>"
      ]
     },
     "metadata": {},
     "output_type": "display_data"
    }
   ],
   "source": [
    "import matplotlib.pyplot as plt\n",
    "import numpy as np\n",
    "from sklearn import datasets, linear_model\n",
    "from sklearn.metrics import mean_squared_error, r2_score\n",
    "\n",
    "# Use only one feature\n",
    "diabetes_X = diabetes.data[:, np.newaxis, 2]\n",
    "# Split the data into training/testing sets\n",
    "diabetes_X_train = diabetes_X[:-30]\n",
    "diabetes_X_test = diabetes_X[-30:]\n",
    "# Split the targets into training/testing sets\n",
    "diabetes_y_train = diabetes.target[:-30]\n",
    "diabetes_y_test = diabetes.target[-30:]\n",
    "# Create linear regression object\n",
    "regr = linear_model.LinearRegression()\n",
    "# Train the model using the training sets\n",
    "regr.fit(diabetes_X_train, diabetes_y_train)\n",
    "# Make predictions using the testing set\n",
    "diabetes_y_pred = regr.predict(diabetes_X_test)\n",
    "# The coefficients\n",
    "print('Coefficients: \\n', regr.coef_)\n",
    "# The mean squared error\n",
    "print(\"Mean squared error: %.2f\" \n",
    "      % mean_squared_error(diabetes_y_test, diabetes_y_pred))\n",
    "# Explained variance score: 1 is perfect prediction\n",
    "print('Variance score: %.2f' % r2_score(diabetes_y_test, diabetes_y_pred))\n",
    "# Plot outputs\n",
    "plt.scatter(diabetes_X_test, diabetes_y_test, color = 'black')\n",
    "plt.plot(diabetes_X_test, diabetes_y_pred, color = 'blue', linewidth = 3)\n",
    "plt.xticks(())\n",
    "plt.yticks(())\n",
    "plt.show()"
   ]
  },
  {
   "cell_type": "markdown",
   "metadata": {},
   "source": [
    "### adaboost回归 "
   ]
  },
  {
   "cell_type": "code",
   "execution_count": 14,
   "metadata": {
    "ExecuteTime": {
     "end_time": "2020-11-23T05:25:52.955113Z",
     "start_time": "2020-11-23T05:25:52.937121Z"
    }
   },
   "outputs": [],
   "source": [
    "#获取一个特征\n",
    "diabetes_x_temp = diabetes.data[:, np.newaxis, 2] \n",
    "\n",
    "diabetes_x_train = diabetes_x_temp[:-20]   #训练样本\n",
    "diabetes_x_test = diabetes_x_temp[-20:]    #测试样本 后20行\n",
    "diabetes_y_train = diabetes.target[:-20]   #训练标记\n",
    "diabetes_y_test = diabetes.target[-20:]    #预测对比标记"
   ]
  },
  {
   "cell_type": "code",
   "execution_count": 104,
   "metadata": {
    "ExecuteTime": {
     "end_time": "2020-11-21T14:38:36.125631Z",
     "start_time": "2020-11-21T14:38:36.085739Z"
    }
   },
   "outputs": [],
   "source": [
    "# 训练模型\n",
    "regr_1 = DecisionTreeRegressor(max_depth=4)\n",
    "\n",
    "regr_2 = AdaBoostRegressor(DecisionTreeRegressor(max_depth=4),\n",
    "                          n_estimators=300)\n",
    "\n",
    "regr_1.fit(diabetes_x_train, diabetes_y_train)\n",
    "regr_2.fit(diabetes_x_train, diabetes_y_train)\n",
    "\n",
    "# 预测\n",
    "y_1 = regr_1.predict(diabetes_x_test)\n",
    "y_2 = regr_2.predict(diabetes_x_test)"
   ]
  },
  {
   "cell_type": "code",
   "execution_count": 105,
   "metadata": {
    "ExecuteTime": {
     "end_time": "2020-11-21T14:38:54.266633Z",
     "start_time": "2020-11-21T14:38:54.255697Z"
    }
   },
   "outputs": [
    {
     "data": {
      "text/plain": [
       "0.45560494111815064"
      ]
     },
     "execution_count": 105,
     "metadata": {},
     "output_type": "execute_result"
    }
   ],
   "source": [
    "regr_1.score(diabetes_x_test, diabetes_y_test)"
   ]
  },
  {
   "cell_type": "code",
   "execution_count": 103,
   "metadata": {
    "ExecuteTime": {
     "end_time": "2020-11-21T14:37:55.650955Z",
     "start_time": "2020-11-21T14:37:55.641945Z"
    }
   },
   "outputs": [
    {
     "data": {
      "text/plain": [
       "0.39218571127596713"
      ]
     },
     "execution_count": 103,
     "metadata": {},
     "output_type": "execute_result"
    }
   ],
   "source": [
    "regr_2.score(diabetes_x_test, diabetes_y_test)"
   ]
  },
  {
   "cell_type": "markdown",
   "metadata": {},
   "source": [
    "### 模型对比"
   ]
  },
  {
   "cell_type": "markdown",
   "metadata": {},
   "source": [
    "通过对糖尿病的数据集建立线性回归模型和adaboost模型，我们发现线性回归的预准确率最高。"
   ]
  },
  {
   "cell_type": "code",
   "execution_count": null,
   "metadata": {},
   "outputs": [],
   "source": []
  }
 ],
 "metadata": {
  "hide_input": false,
  "kernelspec": {
   "display_name": "Python 3",
   "language": "python",
   "name": "python3"
  },
  "language_info": {
   "codemirror_mode": {
    "name": "ipython",
    "version": 3
   },
   "file_extension": ".py",
   "mimetype": "text/x-python",
   "name": "python",
   "nbconvert_exporter": "python",
   "pygments_lexer": "ipython3",
   "version": "3.7.6"
  },
  "latex_envs": {
   "LaTeX_envs_menu_present": true,
   "autoclose": false,
   "autocomplete": true,
   "bibliofile": "biblio.bib",
   "cite_by": "apalike",
   "current_citInitial": 1,
   "eqLabelWithNumbers": true,
   "eqNumInitial": 1,
   "hotkeys": {
    "equation": "Ctrl-E",
    "itemize": "Ctrl-I"
   },
   "labels_anchors": false,
   "latex_user_defs": false,
   "report_style_numbering": false,
   "user_envs_cfg": false
  },
  "nbTranslate": {
   "displayLangs": [
    "*"
   ],
   "hotkey": "alt-t",
   "langInMainMenu": true,
   "sourceLang": "en",
   "targetLang": "fr",
   "useGoogleTranslate": true
  },
  "toc": {
   "base_numbering": 1,
   "nav_menu": {},
   "number_sections": true,
   "sideBar": true,
   "skip_h1_title": false,
   "title_cell": "Table of Contents",
   "title_sidebar": "Contents",
   "toc_cell": false,
   "toc_position": {
    "height": "calc(100% - 180px)",
    "left": "10px",
    "top": "150px",
    "width": "224px"
   },
   "toc_section_display": true,
   "toc_window_display": true
  },
  "varInspector": {
   "cols": {
    "lenName": 16,
    "lenType": 16,
    "lenVar": 40
   },
   "kernels_config": {
    "python": {
     "delete_cmd_postfix": "",
     "delete_cmd_prefix": "del ",
     "library": "var_list.py",
     "varRefreshCmd": "print(var_dic_list())"
    },
    "r": {
     "delete_cmd_postfix": ") ",
     "delete_cmd_prefix": "rm(",
     "library": "var_list.r",
     "varRefreshCmd": "cat(var_dic_list()) "
    }
   },
   "types_to_exclude": [
    "module",
    "function",
    "builtin_function_or_method",
    "instance",
    "_Feature"
   ],
   "window_display": false
  }
 },
 "nbformat": 4,
 "nbformat_minor": 4
}
