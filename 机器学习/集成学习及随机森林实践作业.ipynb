{
 "cells": [
  {
   "cell_type": "markdown",
   "metadata": {},
   "source": [
    "# 集成学习及随机森林实践-学生版"
   ]
  },
  {
   "cell_type": "markdown",
   "metadata": {},
   "source": [
    "## 1.利用sklearn自带的手写数字识别数据集，完成以下任务"
   ]
  },
  {
   "cell_type": "code",
   "execution_count": 1,
   "metadata": {
    "ExecuteTime": {
     "end_time": "2020-11-13T12:23:34.500525Z",
     "start_time": "2020-11-13T12:23:25.101634Z"
    }
   },
   "outputs": [],
   "source": [
    "from sklearn.datasets import load_digits\n",
    "digits = load_digits()"
   ]
  },
  {
   "cell_type": "code",
   "execution_count": 2,
   "metadata": {
    "ExecuteTime": {
     "end_time": "2020-11-13T12:24:06.515822Z",
     "start_time": "2020-11-13T12:23:34.517637Z"
    }
   },
   "outputs": [],
   "source": [
    "%matplotlib inline\n",
    "from sklearn import datasets\n",
    "from matplotlib import pyplot as plt\n",
    "import tensorflow as tf\n",
    "#from sklearn.cross_validation import train_test_split\n",
    "from sklearn.model_selection import train_test_split\n",
    "from sklearn.preprocessing import LabelBinarizer \n",
    "import numpy as np\n",
    "import pandas as pd\n",
    "from sklearn.ensemble import RandomForestClassifier\n",
    "from sklearn import ensemble\n",
    "from sklearn.model_selection import cross_val_score"
   ]
  },
  {
   "cell_type": "code",
   "execution_count": 3,
   "metadata": {
    "ExecuteTime": {
     "end_time": "2020-11-13T12:24:07.171429Z",
     "start_time": "2020-11-13T12:24:06.548733Z"
    }
   },
   "outputs": [
    {
     "data": {
      "image/png": "[encoded data removed]",
      "text/plain": [
       "<Figure size 432x288 with 10 Axes>"
      ]
     },
     "metadata": {},
     "output_type": "display_data"
    }
   ],
   "source": [
    "for i in range(1, 11):\n",
    "        plt.subplot(2, 5, i)  #划分成2行5列\n",
    "        plt.imshow(digits.data[i - 1].reshape([8, 8]), cmap=plt.cm.gray_r)\n",
    "        plt.text(3, 10, str(digits.target[i - 1])) #在图片的任意位置添加文本\n",
    "        plt.xticks([]) #认为设置坐标轴显示的刻度值\n",
    "        plt.yticks([])\n",
    "plt.show()"
   ]
  },
  {
   "cell_type": "markdown",
   "metadata": {},
   "source": [
    "### （1）利用随机森林构建分类模型，并评价模型的效果"
   ]
  },
  {
   "cell_type": "code",
   "execution_count": 4,
   "metadata": {
    "ExecuteTime": {
     "end_time": "2020-11-13T12:24:07.202478Z",
     "start_time": "2020-11-13T12:24:07.188385Z"
    }
   },
   "outputs": [],
   "source": [
    "from sklearn.metrics import confusion_matrix, classification_report   \n",
    "from sklearn.preprocessing import LabelBinarizer      #标签二值化"
   ]
  },
  {
   "cell_type": "code",
   "execution_count": 5,
   "metadata": {
    "ExecuteTime": {
     "end_time": "2020-11-13T12:24:07.233313Z",
     "start_time": "2020-11-13T12:24:07.219645Z"
    }
   },
   "outputs": [],
   "source": [
    "X = digits.data\n",
    "y = digits.target\n",
    "X -= X.min()   \n",
    "X /= X.max()  \n",
    "X_train, X_test, y_train, y_test = train_test_split(X, y, test_size=.3)"
   ]
  },
  {
   "cell_type": "code",
   "execution_count": 6,
   "metadata": {
    "ExecuteTime": {
     "end_time": "2020-11-13T12:24:07.263712Z",
     "start_time": "2020-11-13T12:24:07.249751Z"
    }
   },
   "outputs": [
    {
     "data": {
      "text/plain": [
       "array([[0.    , 0.    , 0.3125, ..., 0.    , 0.    , 0.    ],\n",
       "       [0.    , 0.    , 0.    , ..., 0.625 , 0.    , 0.    ],\n",
       "       [0.    , 0.    , 0.    , ..., 1.    , 0.5625, 0.    ],\n",
       "       ...,\n",
       "       [0.    , 0.    , 0.0625, ..., 0.375 , 0.    , 0.    ],\n",
       "       [0.    , 0.    , 0.125 , ..., 0.75  , 0.    , 0.    ],\n",
       "       [0.    , 0.    , 0.625 , ..., 0.75  , 0.0625, 0.    ]])"
      ]
     },
     "execution_count": 6,
     "metadata": {},
     "output_type": "execute_result"
    }
   ],
   "source": [
    "X"
   ]
  },
  {
   "cell_type": "code",
   "execution_count": 7,
   "metadata": {
    "ExecuteTime": {
     "end_time": "2020-11-13T12:24:07.294125Z",
     "start_time": "2020-11-13T12:24:07.279670Z"
    }
   },
   "outputs": [
    {
     "data": {
      "text/plain": [
       "array([0, 1, 2, ..., 8, 9, 8])"
      ]
     },
     "execution_count": 7,
     "metadata": {},
     "output_type": "execute_result"
    }
   ],
   "source": [
    "Y = np.array(y)\n",
    "Y"
   ]
  },
  {
   "cell_type": "code",
   "execution_count": 8,
   "metadata": {
    "ExecuteTime": {
     "end_time": "2020-11-13T12:24:07.326040Z",
     "start_time": "2020-11-13T12:24:07.311084Z"
    }
   },
   "outputs": [
    {
     "data": {
      "text/plain": [
       "(1257, 64)"
      ]
     },
     "execution_count": 8,
     "metadata": {},
     "output_type": "execute_result"
    }
   ],
   "source": [
    "X_train.shape"
   ]
  },
  {
   "cell_type": "code",
   "execution_count": 9,
   "metadata": {
    "ExecuteTime": {
     "end_time": "2020-11-13T12:24:07.355959Z",
     "start_time": "2020-11-13T12:24:07.341998Z"
    }
   },
   "outputs": [
    {
     "data": {
      "text/plain": [
       "(540, 64)"
      ]
     },
     "execution_count": 9,
     "metadata": {},
     "output_type": "execute_result"
    }
   ],
   "source": [
    "X_test.shape"
   ]
  },
  {
   "cell_type": "code",
   "execution_count": 10,
   "metadata": {
    "ExecuteTime": {
     "end_time": "2020-11-13T12:24:07.560509Z",
     "start_time": "2020-11-13T12:24:07.372894Z"
    }
   },
   "outputs": [
    {
     "data": {
      "text/plain": [
       "RandomForestClassifier(bootstrap=True, ccp_alpha=0.0, class_weight=None,\n",
       "                       criterion='gini', max_depth=None, max_features='auto',\n",
       "                       max_leaf_nodes=None, max_samples=None,\n",
       "                       min_impurity_decrease=0.0, min_impurity_split=None,\n",
       "                       min_samples_leaf=1, min_samples_split=2,\n",
       "                       min_weight_fraction_leaf=0.0, n_estimators=50, n_jobs=-1,\n",
       "                       oob_score=False, random_state=0, verbose=0,\n",
       "                       warm_start=False)"
      ]
     },
     "execution_count": 10,
     "metadata": {},
     "output_type": "execute_result"
    }
   ],
   "source": [
    "# n_estimators：森林中树的数量\n",
    "forest = RandomForestClassifier(n_estimators=50, random_state=0, n_jobs=-1)\n",
    "forest.fit(X_train, y_train)"
   ]
  },
  {
   "cell_type": "code",
   "execution_count": 11,
   "metadata": {
    "ExecuteTime": {
     "end_time": "2020-11-13T12:24:07.731840Z",
     "start_time": "2020-11-13T12:24:07.594421Z"
    }
   },
   "outputs": [
    {
     "data": {
      "text/plain": [
       "1.0"
      ]
     },
     "execution_count": 11,
     "metadata": {},
     "output_type": "execute_result"
    }
   ],
   "source": [
    "forest.score(X_train, y_train)"
   ]
  },
  {
   "cell_type": "code",
   "execution_count": 12,
   "metadata": {
    "ExecuteTime": {
     "end_time": "2020-11-13T12:24:10.619162Z",
     "start_time": "2020-11-13T12:24:07.768697Z"
    }
   },
   "outputs": [
    {
     "name": "stdout",
     "output_type": "stream",
     "text": [
      "平均性能得分：0.9649971542401822\n"
     ]
    }
   ],
   "source": [
    "score1 = np.mean(cross_val_score(forest,X_train, y_train,cv=5,scoring='accuracy'))\n",
    "print('平均性能得分：'+str(score1))"
   ]
  },
  {
   "cell_type": "code",
   "execution_count": 13,
   "metadata": {
    "ExecuteTime": {
     "end_time": "2020-11-13T12:24:10.789189Z",
     "start_time": "2020-11-13T12:24:10.652020Z"
    }
   },
   "outputs": [
    {
     "name": "stdout",
     "output_type": "stream",
     "text": [
      "特征重要性： [0.00000000e+00 2.40621638e-03 2.13830419e-02 1.04012752e-02\n",
      " 1.05859599e-02 2.53516257e-02 1.01716000e-02 6.21639448e-04\n",
      " 3.14677962e-05 9.46830018e-03 2.59762229e-02 6.33191573e-03\n",
      " 1.33395753e-02 2.73656561e-02 6.60679365e-03 7.58395525e-04\n",
      " 3.59956359e-05 8.30092004e-03 1.86071173e-02 2.52199517e-02\n",
      " 2.64856717e-02 4.97924140e-02 1.19889017e-02 2.53252853e-04\n",
      " 5.57691872e-05 1.18490728e-02 3.87661516e-02 2.70685356e-02\n",
      " 3.05973552e-02 2.03632139e-02 2.81688612e-02 0.00000000e+00\n",
      " 0.00000000e+00 2.33617567e-02 3.14555651e-02 1.84376113e-02\n",
      " 5.18543961e-02 1.59708010e-02 2.57743251e-02 0.00000000e+00\n",
      " 0.00000000e+00 1.50815331e-02 3.48697817e-02 4.00518459e-02\n",
      " 1.49496321e-02 1.99350764e-02 2.03448474e-02 2.43729342e-04\n",
      " 2.36164774e-05 2.95192896e-03 1.73039160e-02 2.08077867e-02\n",
      " 1.77539739e-02 1.96490044e-02 3.03833717e-02 1.75439027e-03\n",
      " 0.00000000e+00 1.82753115e-03 2.19206535e-02 1.53242472e-02\n",
      " 2.26990303e-02 2.52618368e-02 1.80346627e-02 3.62027852e-03]\n"
     ]
    }
   ],
   "source": [
    "importances = forest.feature_importances_\n",
    "print(\"特征重要性：\", importances)"
   ]
  },
  {
   "cell_type": "markdown",
   "metadata": {},
   "source": [
    "### （2）尝试使用最大投票法、bagging、adaboost 、stacking等集成学习方法，构建手写数字识别系统，并对不同方法的效果进行评价"
   ]
  },
  {
   "cell_type": "markdown",
   "metadata": {},
   "source": [
    "####  最大投票法"
   ]
  },
  {
   "cell_type": "code",
   "execution_count": 14,
   "metadata": {
    "ExecuteTime": {
     "end_time": "2020-11-13T12:24:10.819778Z",
     "start_time": "2020-11-13T12:24:10.805903Z"
    }
   },
   "outputs": [],
   "source": [
    "from sklearn import tree\n",
    "from sklearn import linear_model \n",
    "from sklearn import neighbors\n",
    "\n",
    "model1=tree.DecisionTreeClassifier(random_state=123)    #决策树分类模型\n",
    "model2=neighbors.KNeighborsClassifier() #KNN分类模型\n",
    "model3=RandomForestClassifier(n_estimators=15) #随机森林"
   ]
  },
  {
   "cell_type": "code",
   "execution_count": 15,
   "metadata": {
    "ExecuteTime": {
     "end_time": "2020-11-13T12:24:10.960719Z",
     "start_time": "2020-11-13T12:24:10.835770Z"
    }
   },
   "outputs": [
    {
     "data": {
      "text/plain": [
       "RandomForestClassifier(bootstrap=True, ccp_alpha=0.0, class_weight=None,\n",
       "                       criterion='gini', max_depth=None, max_features='auto',\n",
       "                       max_leaf_nodes=None, max_samples=None,\n",
       "                       min_impurity_decrease=0.0, min_impurity_split=None,\n",
       "                       min_samples_leaf=1, min_samples_split=2,\n",
       "                       min_weight_fraction_leaf=0.0, n_estimators=15,\n",
       "                       n_jobs=None, oob_score=False, random_state=None,\n",
       "                       verbose=0, warm_start=False)"
      ]
     },
     "execution_count": 15,
     "metadata": {},
     "output_type": "execute_result"
    }
   ],
   "source": [
    "#模型训练\n",
    "model1.fit(X_train, y_train)\n",
    "model2.fit(X_train, y_train)\n",
    "model3.fit(X_train, y_train)"
   ]
  },
  {
   "cell_type": "code",
   "execution_count": 16,
   "metadata": {
    "ExecuteTime": {
     "end_time": "2020-11-13T12:24:11.101304Z",
     "start_time": "2020-11-13T12:24:10.979630Z"
    }
   },
   "outputs": [],
   "source": [
    "#预测\n",
    "pred1=model1.predict(X_test)\n",
    "pred2=model2.predict(X_test)\n",
    "pred3=model3.predict(X_test)"
   ]
  },
  {
   "cell_type": "code",
   "execution_count": 17,
   "metadata": {
    "ExecuteTime": {
     "end_time": "2020-11-13T12:24:11.145989Z",
     "start_time": "2020-11-13T12:24:11.133219Z"
    }
   },
   "outputs": [
    {
     "data": {
      "text/plain": [
       "0.8203703703703704"
      ]
     },
     "execution_count": 17,
     "metadata": {},
     "output_type": "execute_result"
    }
   ],
   "source": [
    "model1.score(X_test,y_test)"
   ]
  },
  {
   "cell_type": "code",
   "execution_count": 18,
   "metadata": {
    "ExecuteTime": {
     "end_time": "2020-11-13T12:24:11.256726Z",
     "start_time": "2020-11-13T12:24:11.163953Z"
    }
   },
   "outputs": [
    {
     "data": {
      "text/plain": [
       "0.9777777777777777"
      ]
     },
     "execution_count": 18,
     "metadata": {},
     "output_type": "execute_result"
    }
   ],
   "source": [
    "model2.score(X_test,y_test)"
   ]
  },
  {
   "cell_type": "code",
   "execution_count": 19,
   "metadata": {
    "ExecuteTime": {
     "end_time": "2020-11-13T12:24:11.287611Z",
     "start_time": "2020-11-13T12:24:11.273652Z"
    }
   },
   "outputs": [
    {
     "data": {
      "text/plain": [
       "0.9592592592592593"
      ]
     },
     "execution_count": 19,
     "metadata": {},
     "output_type": "execute_result"
    }
   ],
   "source": [
    "model3.score(X_test,y_test)"
   ]
  },
  {
   "cell_type": "code",
   "execution_count": 20,
   "metadata": {
    "ExecuteTime": {
     "end_time": "2020-11-13T12:24:11.557631Z",
     "start_time": "2020-11-13T12:24:11.304568Z"
    }
   },
   "outputs": [],
   "source": [
    "final_pred = np.array([])\n",
    "for i in range(0,len(X_test)):\n",
    "    temp=pd.Series([pred1[i], pred2[i], pred3[i]])\n",
    "    final_pred =np.append(final_pred,temp.mode()[0])"
   ]
  },
  {
   "cell_type": "code",
   "execution_count": 21,
   "metadata": {
    "ExecuteTime": {
     "end_time": "2020-11-13T12:24:11.620187Z",
     "start_time": "2020-11-13T12:24:11.592302Z"
    }
   },
   "outputs": [
    {
     "data": {
      "text/plain": [
       "array([1., 1., 5., 5., 5., 2., 7., 1., 7., 0., 0., 9., 9., 4., 1., 4., 9.,\n",
       "       9., 0., 6., 2., 0., 7., 5., 7., 4., 2., 4., 6., 2., 7., 5., 4., 7.,\n",
       "       4., 9., 8., 3., 1., 0., 6., 7., 1., 3., 3., 5., 0., 1., 2., 8., 8.,\n",
       "       5., 2., 0., 9., 0., 1., 7., 2., 5., 6., 4., 3., 9., 5., 5., 1., 1.,\n",
       "       8., 7., 5., 1., 1., 6., 9., 8., 1., 5., 9., 4., 9., 2., 9., 6., 5.,\n",
       "       7., 8., 9., 9., 3., 1., 5., 6., 3., 7., 7., 0., 0., 0., 8., 5., 6.,\n",
       "       6., 6., 4., 1., 9., 2., 1., 1., 2., 5., 2., 6., 6., 9., 5., 6., 1.,\n",
       "       5., 1., 1., 8., 1., 5., 8., 4., 1., 9., 7., 0., 5., 8., 2., 1., 4.,\n",
       "       5., 8., 4., 9., 6., 7., 8., 7., 2., 8., 7., 7., 8., 9., 5., 0., 1.,\n",
       "       6., 4., 2., 3., 2., 4., 7., 6., 3., 9., 3., 3., 5., 0., 4., 4., 4.,\n",
       "       6., 8., 8., 3., 1., 2., 4., 2., 8., 5., 3., 5., 9., 2., 3., 5., 0.,\n",
       "       7., 8., 8., 0., 8., 6., 4., 0., 4., 4., 5., 1., 7., 8., 8., 9., 3.,\n",
       "       0., 5., 3., 2., 3., 3., 4., 7., 9., 3., 5., 5., 1., 1., 7., 6., 0.,\n",
       "       2., 5., 8., 7., 7., 3., 0., 1., 9., 6., 9., 3., 3., 2., 8., 8., 6.,\n",
       "       2., 3., 1., 7., 2., 9., 3., 4., 3., 9., 3., 1., 6., 7., 3., 6., 9.,\n",
       "       8., 4., 9., 7., 5., 5., 5., 5., 2., 3., 3., 8., 9., 1., 9., 9., 7.,\n",
       "       7., 7., 0., 1., 0., 2., 3., 3., 8., 2., 0., 2., 2., 2., 6., 9., 5.,\n",
       "       7., 1., 0., 2., 9., 0., 6., 9., 6., 1., 6., 3., 8., 4., 6., 2., 3.,\n",
       "       3., 7., 6., 1., 6., 3., 4., 8., 7., 5., 8., 8., 2., 0., 5., 1., 6.,\n",
       "       4., 0., 6., 0., 6., 4., 2., 1., 6., 2., 6., 4., 8., 1., 7., 2., 5.,\n",
       "       1., 8., 7., 4., 5., 3., 1., 1., 2., 1., 0., 4., 7., 8., 0., 7., 9.,\n",
       "       7., 0., 1., 9., 4., 3., 7., 5., 7., 4., 0., 7., 5., 9., 0., 3., 1.,\n",
       "       0., 7., 9., 5., 2., 1., 0., 7., 3., 7., 4., 4., 5., 8., 8., 9., 8.,\n",
       "       9., 5., 4., 1., 8., 4., 4., 8., 2., 3., 6., 0., 4., 2., 6., 4., 0.,\n",
       "       7., 1., 9., 1., 7., 6., 1., 8., 3., 1., 4., 9., 7., 7., 9., 9., 0.,\n",
       "       0., 3., 5., 2., 2., 3., 8., 1., 2., 0., 9., 9., 0., 8., 6., 3., 1.,\n",
       "       1., 0., 1., 0., 9., 2., 5., 1., 8., 7., 3., 9., 9., 9., 5., 9., 7.,\n",
       "       1., 1., 3., 1., 4., 9., 5., 2., 8., 1., 3., 4., 2., 8., 8., 5., 2.,\n",
       "       9., 8., 4., 7., 3., 1., 7., 5., 3., 5., 8., 1., 0., 9., 9., 2., 4.,\n",
       "       6., 5., 2., 5., 0., 7., 4., 8., 2., 8., 9., 6., 7., 8., 9., 4., 2.,\n",
       "       8., 4., 0., 9., 2., 3., 7., 6., 8., 8., 4., 0., 1., 4., 7., 7., 5.,\n",
       "       3., 0., 5., 2., 3., 4., 7., 5., 0., 3., 9., 9., 4.])"
      ]
     },
     "execution_count": 21,
     "metadata": {},
     "output_type": "execute_result"
    }
   ],
   "source": [
    "#最终结果\n",
    "final_pred"
   ]
  },
  {
   "cell_type": "code",
   "execution_count": 22,
   "metadata": {
    "ExecuteTime": {
     "end_time": "2020-11-13T12:24:11.728904Z",
     "start_time": "2020-11-13T12:24:11.652270Z"
    }
   },
   "outputs": [
    {
     "data": {
      "text/html": [
       "<div>\n",
       "<style scoped>\n",
       "    .dataframe tbody tr th:only-of-type {\n",
       "        vertical-align: middle;\n",
       "    }\n",
       "\n",
       "    .dataframe tbody tr th {\n",
       "        vertical-align: top;\n",
       "    }\n",
       "\n",
       "    .dataframe thead th {\n",
       "        text-align: right;\n",
       "    }\n",
       "</style>\n",
       "<table border=\"1\" class=\"dataframe\">\n",
       "  <thead>\n",
       "    <tr style=\"text-align: right;\">\n",
       "      <th></th>\n",
       "      <th>真实类别</th>\n",
       "      <th>最终结果</th>\n",
       "      <th>pred1</th>\n",
       "      <th>pred2</th>\n",
       "      <th>pred3</th>\n",
       "    </tr>\n",
       "  </thead>\n",
       "  <tbody>\n",
       "    <tr>\n",
       "      <th>0</th>\n",
       "      <td>1</td>\n",
       "      <td>1.0</td>\n",
       "      <td>1</td>\n",
       "      <td>1</td>\n",
       "      <td>1</td>\n",
       "    </tr>\n",
       "    <tr>\n",
       "      <th>1</th>\n",
       "      <td>1</td>\n",
       "      <td>1.0</td>\n",
       "      <td>1</td>\n",
       "      <td>1</td>\n",
       "      <td>1</td>\n",
       "    </tr>\n",
       "    <tr>\n",
       "      <th>2</th>\n",
       "      <td>5</td>\n",
       "      <td>5.0</td>\n",
       "      <td>5</td>\n",
       "      <td>5</td>\n",
       "      <td>5</td>\n",
       "    </tr>\n",
       "    <tr>\n",
       "      <th>3</th>\n",
       "      <td>5</td>\n",
       "      <td>5.0</td>\n",
       "      <td>5</td>\n",
       "      <td>5</td>\n",
       "      <td>5</td>\n",
       "    </tr>\n",
       "    <tr>\n",
       "      <th>4</th>\n",
       "      <td>5</td>\n",
       "      <td>5.0</td>\n",
       "      <td>5</td>\n",
       "      <td>5</td>\n",
       "      <td>5</td>\n",
       "    </tr>\n",
       "    <tr>\n",
       "      <th>...</th>\n",
       "      <td>...</td>\n",
       "      <td>...</td>\n",
       "      <td>...</td>\n",
       "      <td>...</td>\n",
       "      <td>...</td>\n",
       "    </tr>\n",
       "    <tr>\n",
       "      <th>535</th>\n",
       "      <td>0</td>\n",
       "      <td>0.0</td>\n",
       "      <td>0</td>\n",
       "      <td>0</td>\n",
       "      <td>0</td>\n",
       "    </tr>\n",
       "    <tr>\n",
       "      <th>536</th>\n",
       "      <td>3</td>\n",
       "      <td>3.0</td>\n",
       "      <td>3</td>\n",
       "      <td>3</td>\n",
       "      <td>3</td>\n",
       "    </tr>\n",
       "    <tr>\n",
       "      <th>537</th>\n",
       "      <td>9</td>\n",
       "      <td>9.0</td>\n",
       "      <td>7</td>\n",
       "      <td>9</td>\n",
       "      <td>9</td>\n",
       "    </tr>\n",
       "    <tr>\n",
       "      <th>538</th>\n",
       "      <td>9</td>\n",
       "      <td>9.0</td>\n",
       "      <td>9</td>\n",
       "      <td>9</td>\n",
       "      <td>9</td>\n",
       "    </tr>\n",
       "    <tr>\n",
       "      <th>539</th>\n",
       "      <td>4</td>\n",
       "      <td>4.0</td>\n",
       "      <td>4</td>\n",
       "      <td>4</td>\n",
       "      <td>4</td>\n",
       "    </tr>\n",
       "  </tbody>\n",
       "</table>\n",
       "<p>540 rows × 5 columns</p>\n",
       "</div>"
      ],
      "text/plain": [
       "     真实类别  最终结果  pred1  pred2  pred3\n",
       "0       1   1.0      1      1      1\n",
       "1       1   1.0      1      1      1\n",
       "2       5   5.0      5      5      5\n",
       "3       5   5.0      5      5      5\n",
       "4       5   5.0      5      5      5\n",
       "..    ...   ...    ...    ...    ...\n",
       "535     0   0.0      0      0      0\n",
       "536     3   3.0      3      3      3\n",
       "537     9   9.0      7      9      9\n",
       "538     9   9.0      9      9      9\n",
       "539     4   4.0      4      4      4\n",
       "\n",
       "[540 rows x 5 columns]"
      ]
     },
     "execution_count": 22,
     "metadata": {},
     "output_type": "execute_result"
    }
   ],
   "source": [
    "out=pd.DataFrame({\"真实类别\":y_test,\"最终结果\":final_pred,\"pred1\":pred1,\"pred2\":pred2,\"pred3\":pred3})\n",
    "out"
   ]
  },
  {
   "cell_type": "code",
   "execution_count": 23,
   "metadata": {
    "ExecuteTime": {
     "end_time": "2020-11-13T12:24:11.776433Z",
     "start_time": "2020-11-13T12:24:11.763811Z"
    }
   },
   "outputs": [
    {
     "data": {
      "text/plain": [
       "0.9703703703703703"
      ]
     },
     "execution_count": 23,
     "metadata": {},
     "output_type": "execute_result"
    }
   ],
   "source": [
    "from sklearn.metrics import accuracy_score\n",
    "accuracy_score(y_test,final_pred) "
   ]
  },
  {
   "cell_type": "code",
   "execution_count": 24,
   "metadata": {
    "ExecuteTime": {
     "end_time": "2020-11-13T12:24:11.824534Z",
     "start_time": "2020-11-13T12:24:11.809345Z"
    }
   },
   "outputs": [],
   "source": [
    "from sklearn.ensemble import VotingClassifier\n",
    "model_final1=VotingClassifier(estimators=[('决策树模型', model1), ('KNN', model2),('随机森林', model3)], voting='hard')"
   ]
  },
  {
   "cell_type": "code",
   "execution_count": 25,
   "metadata": {
    "ExecuteTime": {
     "end_time": "2020-11-13T12:24:12.026903Z",
     "start_time": "2020-11-13T12:24:11.857123Z"
    }
   },
   "outputs": [],
   "source": [
    "model_final1.fit(X_train, y_train)\n",
    "final_pred1=model_final1.predict(X_test)"
   ]
  },
  {
   "cell_type": "code",
   "execution_count": 26,
   "metadata": {
    "ExecuteTime": {
     "end_time": "2020-11-13T12:24:12.072742Z",
     "start_time": "2020-11-13T12:24:12.058490Z"
    }
   },
   "outputs": [
    {
     "data": {
      "text/plain": [
       "array([1, 1, 5, 5, 5, 2, 7, 1, 7, 0, 0, 9, 9, 4, 1, 4, 9, 9, 0, 6, 2, 0,\n",
       "       7, 5, 7, 4, 2, 4, 6, 2, 7, 5, 4, 7, 4, 7, 8, 3, 1, 0, 6, 7, 1, 3,\n",
       "       3, 5, 0, 1, 2, 8, 8, 5, 2, 0, 9, 0, 1, 7, 2, 5, 6, 4, 3, 9, 5, 5,\n",
       "       1, 1, 8, 7, 5, 1, 1, 6, 9, 8, 1, 5, 9, 4, 9, 2, 9, 6, 5, 7, 8, 9,\n",
       "       9, 3, 1, 5, 6, 3, 7, 7, 0, 0, 0, 8, 5, 1, 6, 6, 4, 1, 9, 2, 1, 1,\n",
       "       2, 5, 2, 6, 6, 9, 5, 6, 1, 5, 1, 1, 8, 1, 5, 8, 4, 1, 9, 7, 0, 5,\n",
       "       8, 2, 1, 4, 5, 8, 4, 9, 6, 7, 8, 7, 2, 8, 7, 7, 8, 9, 4, 0, 1, 6,\n",
       "       4, 2, 3, 2, 4, 7, 6, 3, 9, 3, 3, 5, 0, 4, 4, 4, 6, 8, 8, 3, 1, 2,\n",
       "       4, 2, 8, 5, 3, 5, 9, 2, 3, 5, 0, 7, 8, 8, 0, 8, 6, 4, 0, 4, 4, 5,\n",
       "       1, 7, 8, 8, 9, 3, 0, 5, 3, 2, 3, 3, 4, 7, 9, 3, 5, 5, 1, 1, 7, 6,\n",
       "       0, 8, 5, 8, 7, 7, 3, 0, 1, 9, 6, 9, 3, 3, 2, 8, 8, 6, 2, 3, 1, 7,\n",
       "       2, 9, 3, 4, 3, 9, 3, 1, 6, 7, 3, 6, 9, 8, 4, 9, 7, 5, 5, 5, 5, 2,\n",
       "       3, 3, 8, 9, 1, 9, 9, 7, 7, 7, 0, 1, 0, 2, 3, 3, 8, 2, 0, 2, 2, 2,\n",
       "       6, 9, 5, 7, 1, 0, 8, 3, 2, 6, 9, 6, 1, 6, 2, 8, 4, 6, 2, 3, 3, 7,\n",
       "       6, 1, 6, 3, 4, 8, 7, 5, 8, 8, 2, 0, 5, 1, 6, 4, 0, 6, 0, 6, 4, 2,\n",
       "       1, 6, 2, 6, 4, 8, 1, 7, 2, 5, 1, 8, 7, 4, 5, 3, 1, 1, 2, 1, 0, 4,\n",
       "       7, 8, 0, 7, 9, 7, 0, 1, 9, 4, 3, 7, 5, 7, 4, 0, 7, 5, 9, 0, 3, 1,\n",
       "       0, 7, 9, 5, 2, 1, 0, 7, 3, 7, 4, 4, 5, 8, 8, 9, 8, 9, 5, 4, 1, 8,\n",
       "       4, 4, 8, 2, 9, 6, 0, 4, 2, 6, 4, 0, 7, 1, 9, 1, 7, 6, 1, 8, 3, 1,\n",
       "       4, 9, 7, 7, 9, 9, 0, 0, 3, 5, 2, 2, 3, 8, 1, 2, 0, 9, 9, 0, 8, 6,\n",
       "       3, 1, 1, 0, 1, 0, 9, 2, 5, 1, 8, 7, 3, 9, 9, 9, 5, 9, 7, 1, 1, 3,\n",
       "       1, 4, 9, 5, 0, 8, 1, 3, 4, 2, 8, 8, 5, 2, 9, 8, 4, 7, 3, 1, 7, 5,\n",
       "       3, 5, 8, 1, 0, 9, 9, 2, 4, 6, 5, 2, 5, 0, 7, 4, 8, 2, 8, 9, 6, 7,\n",
       "       8, 9, 4, 2, 8, 4, 0, 9, 2, 3, 7, 6, 8, 8, 4, 0, 1, 4, 7, 7, 5, 8,\n",
       "       0, 5, 2, 3, 4, 7, 5, 0, 3, 9, 9, 4])"
      ]
     },
     "execution_count": 26,
     "metadata": {},
     "output_type": "execute_result"
    }
   ],
   "source": [
    "final_pred1"
   ]
  },
  {
   "cell_type": "code",
   "execution_count": 27,
   "metadata": {
    "ExecuteTime": {
     "end_time": "2020-11-13T12:24:12.119697Z",
     "start_time": "2020-11-13T12:24:12.104713Z"
    }
   },
   "outputs": [
    {
     "data": {
      "text/plain": [
       "0.9666666666666667"
      ]
     },
     "execution_count": 27,
     "metadata": {},
     "output_type": "execute_result"
    }
   ],
   "source": [
    "accuracy_score(y_test,final_pred1) "
   ]
  },
  {
   "cell_type": "markdown",
   "metadata": {},
   "source": [
    "#### bagging "
   ]
  },
  {
   "cell_type": "code",
   "execution_count": 28,
   "metadata": {
    "ExecuteTime": {
     "end_time": "2020-11-13T12:24:12.165550Z",
     "start_time": "2020-11-13T12:24:12.152585Z"
    }
   },
   "outputs": [],
   "source": [
    "from sklearn.ensemble import BaggingClassifier\n",
    "bagging_model= BaggingClassifier(base_estimator=model1,n_estimators=15)"
   ]
  },
  {
   "cell_type": "code",
   "execution_count": 29,
   "metadata": {
    "ExecuteTime": {
     "end_time": "2020-11-13T12:24:12.388699Z",
     "start_time": "2020-11-13T12:24:12.214166Z"
    }
   },
   "outputs": [
    {
     "data": {
      "text/plain": [
       "BaggingClassifier(base_estimator=DecisionTreeClassifier(ccp_alpha=0.0,\n",
       "                                                        class_weight=None,\n",
       "                                                        criterion='gini',\n",
       "                                                        max_depth=None,\n",
       "                                                        max_features=None,\n",
       "                                                        max_leaf_nodes=None,\n",
       "                                                        min_impurity_decrease=0.0,\n",
       "                                                        min_impurity_split=None,\n",
       "                                                        min_samples_leaf=1,\n",
       "                                                        min_samples_split=2,\n",
       "                                                        min_weight_fraction_leaf=0.0,\n",
       "                                                        presort='deprecated',\n",
       "                                                        random_state=123,\n",
       "                                                        splitter='best'),\n",
       "                  bootstrap=True, bootstrap_features=False, max_features=1.0,\n",
       "                  max_samples=1.0, n_estimators=15, n_jobs=None,\n",
       "                  oob_score=False, random_state=None, verbose=0,\n",
       "                  warm_start=False)"
      ]
     },
     "execution_count": 29,
     "metadata": {},
     "output_type": "execute_result"
    }
   ],
   "source": [
    "bagging_model.fit(X_train, y_train)"
   ]
  },
  {
   "cell_type": "code",
   "execution_count": 30,
   "metadata": {
    "ExecuteTime": {
     "end_time": "2020-11-13T12:24:12.451125Z",
     "start_time": "2020-11-13T12:24:12.436991Z"
    }
   },
   "outputs": [
    {
     "data": {
      "text/plain": [
       "0.9185185185185185"
      ]
     },
     "execution_count": 30,
     "metadata": {},
     "output_type": "execute_result"
    }
   ],
   "source": [
    "bagging_model.score(X_test,y_test)"
   ]
  },
  {
   "cell_type": "markdown",
   "metadata": {},
   "source": [
    "#### adaboost"
   ]
  },
  {
   "cell_type": "code",
   "execution_count": 31,
   "metadata": {
    "ExecuteTime": {
     "end_time": "2020-11-13T12:24:12.498387Z",
     "start_time": "2020-11-13T12:24:12.483262Z"
    }
   },
   "outputs": [],
   "source": [
    "from sklearn.ensemble import AdaBoostClassifier\n",
    "adaboost_model=AdaBoostClassifier(base_estimator=model1,n_estimators=15)"
   ]
  },
  {
   "cell_type": "code",
   "execution_count": 32,
   "metadata": {
    "ExecuteTime": {
     "end_time": "2020-11-13T12:24:12.562216Z",
     "start_time": "2020-11-13T12:24:12.531339Z"
    }
   },
   "outputs": [
    {
     "data": {
      "text/plain": [
       "AdaBoostClassifier(algorithm='SAMME.R',\n",
       "                   base_estimator=DecisionTreeClassifier(ccp_alpha=0.0,\n",
       "                                                         class_weight=None,\n",
       "                                                         criterion='gini',\n",
       "                                                         max_depth=None,\n",
       "                                                         max_features=None,\n",
       "                                                         max_leaf_nodes=None,\n",
       "                                                         min_impurity_decrease=0.0,\n",
       "                                                         min_impurity_split=None,\n",
       "                                                         min_samples_leaf=1,\n",
       "                                                         min_samples_split=2,\n",
       "                                                         min_weight_fraction_leaf=0.0,\n",
       "                                                         presort='deprecated',\n",
       "                                                         random_state=123,\n",
       "                                                         splitter='best'),\n",
       "                   learning_rate=1.0, n_estimators=15, random_state=None)"
      ]
     },
     "execution_count": 32,
     "metadata": {},
     "output_type": "execute_result"
    }
   ],
   "source": [
    "adaboost_model.fit(X_train, y_train)"
   ]
  },
  {
   "cell_type": "code",
   "execution_count": 33,
   "metadata": {
    "ExecuteTime": {
     "end_time": "2020-11-13T12:24:12.610088Z",
     "start_time": "2020-11-13T12:24:12.596169Z"
    }
   },
   "outputs": [
    {
     "data": {
      "text/plain": [
       "0.8148148148148148"
      ]
     },
     "execution_count": 33,
     "metadata": {},
     "output_type": "execute_result"
    }
   ],
   "source": [
    "adaboost_model.score(X_test,y_test)"
   ]
  },
  {
   "cell_type": "markdown",
   "metadata": {},
   "source": [
    "#### stacking"
   ]
  },
  {
   "cell_type": "code",
   "execution_count": 34,
   "metadata": {
    "ExecuteTime": {
     "end_time": "2020-11-13T12:24:12.658198Z",
     "start_time": "2020-11-13T12:24:12.644001Z"
    }
   },
   "outputs": [],
   "source": [
    "from sklearn.ensemble import StackingClassifier\n",
    "from sklearn.linear_model import LogisticRegression\n",
    "stacking_model= StackingClassifier(estimators=[('决策树模型', model1), ('KNN', model2),('随机森林', model3)], \n",
    "                                   final_estimator=LogisticRegression(max_iter=10000))"
   ]
  },
  {
   "cell_type": "code",
   "execution_count": 35,
   "metadata": {
    "ExecuteTime": {
     "end_time": "2020-11-13T12:24:13.607294Z",
     "start_time": "2020-11-13T12:24:12.706055Z"
    }
   },
   "outputs": [
    {
     "data": {
      "text/plain": [
       "StackingClassifier(cv=None,\n",
       "                   estimators=[('决策树模型',\n",
       "                                DecisionTreeClassifier(ccp_alpha=0.0,\n",
       "                                                       class_weight=None,\n",
       "                                                       criterion='gini',\n",
       "                                                       max_depth=None,\n",
       "                                                       max_features=None,\n",
       "                                                       max_leaf_nodes=None,\n",
       "                                                       min_impurity_decrease=0.0,\n",
       "                                                       min_impurity_split=None,\n",
       "                                                       min_samples_leaf=1,\n",
       "                                                       min_samples_split=2,\n",
       "                                                       min_weight_fraction_leaf=0.0,\n",
       "                                                       presort='deprecated',\n",
       "                                                       random_state=123,\n",
       "                                                       splitter='best')),\n",
       "                               ('K...\n",
       "                                                       random_state=None,\n",
       "                                                       verbose=0,\n",
       "                                                       warm_start=False))],\n",
       "                   final_estimator=LogisticRegression(C=1.0, class_weight=None,\n",
       "                                                      dual=False,\n",
       "                                                      fit_intercept=True,\n",
       "                                                      intercept_scaling=1,\n",
       "                                                      l1_ratio=None,\n",
       "                                                      max_iter=10000,\n",
       "                                                      multi_class='auto',\n",
       "                                                      n_jobs=None, penalty='l2',\n",
       "                                                      random_state=None,\n",
       "                                                      solver='lbfgs',\n",
       "                                                      tol=0.0001, verbose=0,\n",
       "                                                      warm_start=False),\n",
       "                   n_jobs=None, passthrough=False, stack_method='auto',\n",
       "                   verbose=0)"
      ]
     },
     "execution_count": 35,
     "metadata": {},
     "output_type": "execute_result"
    }
   ],
   "source": [
    "stacking_model.fit(X_train, y_train)"
   ]
  },
  {
   "cell_type": "code",
   "execution_count": 36,
   "metadata": {
    "ExecuteTime": {
     "end_time": "2020-11-13T12:24:13.871548Z",
     "start_time": "2020-11-13T12:24:13.655128Z"
    }
   },
   "outputs": [
    {
     "data": {
      "text/plain": [
       "1.0"
      ]
     },
     "execution_count": 36,
     "metadata": {},
     "output_type": "execute_result"
    }
   ],
   "source": [
    "stacking_model.score(X_train, y_train)"
   ]
  },
  {
   "cell_type": "markdown",
   "metadata": {},
   "source": [
    "### （3）三人一组，完成手写识别的分析报告"
   ]
  },
  {
   "cell_type": "markdown",
   "metadata": {},
   "source": [
    "## 利用随机森林的方法填补泰坦尼克号数据的的缺失值"
   ]
  },
  {
   "cell_type": "markdown",
   "metadata": {},
   "source": [
    "### 导入数据 "
   ]
  },
  {
   "cell_type": "code",
   "execution_count": 37,
   "metadata": {
    "ExecuteTime": {
     "end_time": "2020-11-13T12:24:15.534676Z",
     "start_time": "2020-11-13T12:24:13.920418Z"
    }
   },
   "outputs": [
    {
     "data": {
      "text/html": [
       "<div>\n",
       "<style scoped>\n",
       "    .dataframe tbody tr th:only-of-type {\n",
       "        vertical-align: middle;\n",
       "    }\n",
       "\n",
       "    .dataframe tbody tr th {\n",
       "        vertical-align: top;\n",
       "    }\n",
       "\n",
       "    .dataframe thead th {\n",
       "        text-align: right;\n",
       "    }\n",
       "</style>\n",
       "<table border=\"1\" class=\"dataframe\">\n",
       "  <thead>\n",
       "    <tr style=\"text-align: right;\">\n",
       "      <th></th>\n",
       "      <th>survived</th>\n",
       "      <th>pclass</th>\n",
       "      <th>sex</th>\n",
       "      <th>age</th>\n",
       "      <th>sibsp</th>\n",
       "      <th>parch</th>\n",
       "      <th>fare</th>\n",
       "      <th>embarked</th>\n",
       "      <th>class</th>\n",
       "      <th>who</th>\n",
       "      <th>adult_male</th>\n",
       "      <th>deck</th>\n",
       "      <th>embark_town</th>\n",
       "      <th>alive</th>\n",
       "      <th>alone</th>\n",
       "    </tr>\n",
       "  </thead>\n",
       "  <tbody>\n",
       "    <tr>\n",
       "      <th>390</th>\n",
       "      <td>1</td>\n",
       "      <td>1</td>\n",
       "      <td>male</td>\n",
       "      <td>36.0</td>\n",
       "      <td>1</td>\n",
       "      <td>2</td>\n",
       "      <td>120.0000</td>\n",
       "      <td>S</td>\n",
       "      <td>First</td>\n",
       "      <td>man</td>\n",
       "      <td>True</td>\n",
       "      <td>B</td>\n",
       "      <td>Southampton</td>\n",
       "      <td>yes</td>\n",
       "      <td>False</td>\n",
       "    </tr>\n",
       "    <tr>\n",
       "      <th>367</th>\n",
       "      <td>1</td>\n",
       "      <td>3</td>\n",
       "      <td>female</td>\n",
       "      <td>NaN</td>\n",
       "      <td>0</td>\n",
       "      <td>0</td>\n",
       "      <td>7.2292</td>\n",
       "      <td>C</td>\n",
       "      <td>Third</td>\n",
       "      <td>woman</td>\n",
       "      <td>False</td>\n",
       "      <td>NaN</td>\n",
       "      <td>Cherbourg</td>\n",
       "      <td>yes</td>\n",
       "      <td>True</td>\n",
       "    </tr>\n",
       "    <tr>\n",
       "      <th>299</th>\n",
       "      <td>1</td>\n",
       "      <td>1</td>\n",
       "      <td>female</td>\n",
       "      <td>50.0</td>\n",
       "      <td>0</td>\n",
       "      <td>1</td>\n",
       "      <td>247.5208</td>\n",
       "      <td>C</td>\n",
       "      <td>First</td>\n",
       "      <td>woman</td>\n",
       "      <td>False</td>\n",
       "      <td>B</td>\n",
       "      <td>Cherbourg</td>\n",
       "      <td>yes</td>\n",
       "      <td>False</td>\n",
       "    </tr>\n",
       "    <tr>\n",
       "      <th>651</th>\n",
       "      <td>1</td>\n",
       "      <td>2</td>\n",
       "      <td>female</td>\n",
       "      <td>18.0</td>\n",
       "      <td>0</td>\n",
       "      <td>1</td>\n",
       "      <td>23.0000</td>\n",
       "      <td>S</td>\n",
       "      <td>Second</td>\n",
       "      <td>woman</td>\n",
       "      <td>False</td>\n",
       "      <td>NaN</td>\n",
       "      <td>Southampton</td>\n",
       "      <td>yes</td>\n",
       "      <td>False</td>\n",
       "    </tr>\n",
       "    <tr>\n",
       "      <th>462</th>\n",
       "      <td>0</td>\n",
       "      <td>1</td>\n",
       "      <td>male</td>\n",
       "      <td>47.0</td>\n",
       "      <td>0</td>\n",
       "      <td>0</td>\n",
       "      <td>38.5000</td>\n",
       "      <td>S</td>\n",
       "      <td>First</td>\n",
       "      <td>man</td>\n",
       "      <td>True</td>\n",
       "      <td>E</td>\n",
       "      <td>Southampton</td>\n",
       "      <td>no</td>\n",
       "      <td>True</td>\n",
       "    </tr>\n",
       "  </tbody>\n",
       "</table>\n",
       "</div>"
      ],
      "text/plain": [
       "     survived  pclass     sex   age  sibsp  parch      fare embarked   class  \\\n",
       "390         1       1    male  36.0      1      2  120.0000        S   First   \n",
       "367         1       3  female   NaN      0      0    7.2292        C   Third   \n",
       "299         1       1  female  50.0      0      1  247.5208        C   First   \n",
       "651         1       2  female  18.0      0      1   23.0000        S  Second   \n",
       "462         0       1    male  47.0      0      0   38.5000        S   First   \n",
       "\n",
       "       who  adult_male deck  embark_town alive  alone  \n",
       "390    man        True    B  Southampton   yes  False  \n",
       "367  woman       False  NaN    Cherbourg   yes   True  \n",
       "299  woman       False    B    Cherbourg   yes  False  \n",
       "651  woman       False  NaN  Southampton   yes  False  \n",
       "462    man        True    E  Southampton    no   True  "
      ]
     },
     "execution_count": 37,
     "metadata": {},
     "output_type": "execute_result"
    }
   ],
   "source": [
    "import seaborn as sns\n",
    "df = sns.load_dataset('titanic')\n",
    "df.sample(5)"
   ]
  },
  {
   "cell_type": "markdown",
   "metadata": {},
   "source": [
    "### 查看缺失情况 "
   ]
  },
  {
   "cell_type": "code",
   "execution_count": 38,
   "metadata": {
    "ExecuteTime": {
     "end_time": "2020-11-13T12:24:15.613882Z",
     "start_time": "2020-11-13T12:24:15.600139Z"
    }
   },
   "outputs": [
    {
     "name": "stdout",
     "output_type": "stream",
     "text": [
      "<class 'pandas.core.frame.DataFrame'>\n",
      "RangeIndex: 891 entries, 0 to 890\n",
      "Data columns (total 15 columns):\n",
      " #   Column       Non-Null Count  Dtype   \n",
      "---  ------       --------------  -----   \n",
      " 0   survived     891 non-null    int64   \n",
      " 1   pclass       891 non-null    int64   \n",
      " 2   sex          891 non-null    object  \n",
      " 3   age          714 non-null    float64 \n",
      " 4   sibsp        891 non-null    int64   \n",
      " 5   parch        891 non-null    int64   \n",
      " 6   fare         891 non-null    float64 \n",
      " 7   embarked     889 non-null    object  \n",
      " 8   class        891 non-null    category\n",
      " 9   who          891 non-null    object  \n",
      " 10  adult_male   891 non-null    bool    \n",
      " 11  deck         203 non-null    category\n",
      " 12  embark_town  889 non-null    object  \n",
      " 13  alive        891 non-null    object  \n",
      " 14  alone        891 non-null    bool    \n",
      "dtypes: bool(2), category(2), float64(2), int64(4), object(5)\n",
      "memory usage: 80.6+ KB\n"
     ]
    }
   ],
   "source": [
    "df.info()"
   ]
  },
  {
   "cell_type": "code",
   "execution_count": 39,
   "metadata": {
    "ExecuteTime": {
     "end_time": "2020-11-13T12:24:15.692030Z",
     "start_time": "2020-11-13T12:24:15.677908Z"
    }
   },
   "outputs": [
    {
     "data": {
      "text/plain": [
       "survived         0\n",
       "pclass           0\n",
       "sex              0\n",
       "age            177\n",
       "sibsp            0\n",
       "parch            0\n",
       "fare             0\n",
       "embarked         2\n",
       "class            0\n",
       "who              0\n",
       "adult_male       0\n",
       "deck           688\n",
       "embark_town      2\n",
       "alive            0\n",
       "alone            0\n",
       "dtype: int64"
      ]
     },
     "execution_count": 39,
     "metadata": {},
     "output_type": "execute_result"
    }
   ],
   "source": [
    "df.isnull().sum()"
   ]
  },
  {
   "cell_type": "markdown",
   "metadata": {},
   "source": [
    "### 随机森林填补缺失值 "
   ]
  },
  {
   "cell_type": "code",
   "execution_count": 40,
   "metadata": {
    "ExecuteTime": {
     "end_time": "2020-11-13T12:24:15.771562Z",
     "start_time": "2020-11-13T12:24:15.756607Z"
    }
   },
   "outputs": [
    {
     "data": {
      "text/plain": [
       "0      S\n",
       "1      C\n",
       "2      S\n",
       "3      S\n",
       "4      S\n",
       "      ..\n",
       "886    S\n",
       "887    S\n",
       "888    S\n",
       "889    C\n",
       "890    Q\n",
       "Name: embarked, Length: 891, dtype: object"
      ]
     },
     "execution_count": 40,
     "metadata": {},
     "output_type": "execute_result"
    }
   ],
   "source": [
    "df['embarked']"
   ]
  },
  {
   "cell_type": "code",
   "execution_count": 41,
   "metadata": {
    "ExecuteTime": {
     "end_time": "2020-11-13T12:24:15.848047Z",
     "start_time": "2020-11-13T12:24:15.833796Z"
    }
   },
   "outputs": [],
   "source": [
    "#更改分类变量对应的值\n",
    "df.loc[df['sex']=='male','sex']=0\n",
    "df.loc[df['sex']=='female','sex']=1\n",
    "\n",
    "#同理，更改embarked对应的值\n",
    "df.loc[df['embarked']=='S','embarked']=0\n",
    "df.loc[df['embarked']=='C','embarked']=1\n",
    "df.loc[df['embarked']=='Q','embarked']=2"
   ]
  },
  {
   "cell_type": "markdown",
   "metadata": {},
   "source": [
    "#### 填补age "
   ]
  },
  {
   "cell_type": "code",
   "execution_count": 42,
   "metadata": {
    "ExecuteTime": {
     "end_time": "2020-11-13T12:24:16.396881Z",
     "start_time": "2020-11-13T12:24:15.930503Z"
    }
   },
   "outputs": [],
   "source": [
    "#使用随机森林对缺失值进行预测填充\n",
    "from sklearn.ensemble import RandomForestRegressor\n",
    "\n",
    "#把要填充的特征和其他无缺失的特征取出，这里先处理x_num_0特征\n",
    "qs_columns=['age'] #有缺失的列名\n",
    "for i in range(len(qs_columns)):\n",
    "    data3_add=df[qs_columns[i]]\n",
    "    data3=df[['survived','pclass','sex','sibsp','parch','fare']]\n",
    "    data3.insert(0,qs_columns[i],data3_add)\n",
    "\n",
    "    #成缺失值和非缺失值两部分，分别作为训练集和测试集\n",
    "    know=data3[data3[qs_columns[i]].notnull()].values\n",
    "    unknow=data3[data3[qs_columns[i]].isnull()].values\n",
    "\n",
    "    #获取训练集特征和结果标签\n",
    "    X=know[:,1:] #训练集特征\n",
    "    y=know[:,0]  #训练集的结果标签\n",
    "\n",
    "    #利用上面构建的训练集训练随机森林回归模型\n",
    "    RF_clf=RandomForestRegressor(random_state=0,n_estimators=200,n_jobs=-1)\n",
    "    RF_clf.fit(X,y)\n",
    "\n",
    "    #用得到的模型对年龄位置的样本进行预测\n",
    "    y_predicted=RF_clf.predict(unknow[:,1:])\n",
    "\n",
    "    #用得到的预测结果填补原缺失数据\n",
    "    df.loc[(data3[qs_columns[i]].isnull()),qs_columns[i]]=y_predicted"
   ]
  },
  {
   "cell_type": "code",
   "execution_count": 43,
   "metadata": {
    "ExecuteTime": {
     "end_time": "2020-11-13T12:24:16.504920Z",
     "start_time": "2020-11-13T12:24:16.491784Z"
    }
   },
   "outputs": [
    {
     "data": {
      "text/plain": [
       "survived         0\n",
       "pclass           0\n",
       "sex              0\n",
       "age              0\n",
       "sibsp            0\n",
       "parch            0\n",
       "fare             0\n",
       "embarked         2\n",
       "class            0\n",
       "who              0\n",
       "adult_male       0\n",
       "deck           688\n",
       "embark_town      2\n",
       "alive            0\n",
       "alone            0\n",
       "dtype: int64"
      ]
     },
     "execution_count": 43,
     "metadata": {},
     "output_type": "execute_result"
    }
   ],
   "source": [
    "df.isnull().sum() "
   ]
  },
  {
   "cell_type": "markdown",
   "metadata": {},
   "source": [
    "#### 填补embarked"
   ]
  },
  {
   "cell_type": "code",
   "execution_count": 44,
   "metadata": {
    "ExecuteTime": {
     "end_time": "2020-11-13T12:24:16.773783Z",
     "start_time": "2020-11-13T12:24:16.572736Z"
    }
   },
   "outputs": [
    {
     "name": "stderr",
     "output_type": "stream",
     "text": [
      "E:\\Anaconda3\\anaconda3\\lib\\site-packages\\ipykernel_launcher.py:15: DataConversionWarning: A column-vector y was passed when a 1d array was expected. Please change the shape of y to (n_samples,), for example using ravel().\n",
      "  from ipykernel import kernelapp as app\n"
     ]
    }
   ],
   "source": [
    "from  sklearn.ensemble import RandomForestClassifier\n",
    "#把要填充的特征和其他无缺失的特征取出，这里先处理x_num_0特征\n",
    "qs_columns1=['embarked','deck','embark_town'] #有缺失的列名\n",
    "\n",
    "te=df[df['embarked'].notnull()]#非空的embarked对应的行\n",
    "te_X=te[['survived','pclass','sex','sibsp','parch','fare']]#设定输入的X\n",
    "te_Y=te[['embarked']]#设定输入的Y\n",
    "te_X=te_X.astype(float)#转换数据类型，不转换成数值型的，到后面输入模型会报错。\n",
    "te_Y=te_Y.astype(float)#转换数据类型，不转换成数值型的，到后面输入模型会报错。\n",
    "tr=df[df['embarked'].isnull()]\n",
    "\n",
    "tr_X=tr[['survived','pclass','sex','sibsp','parch','fare']].astype(float)\n",
    "tr_Y=tr['embarked'].astype(float)\n",
    "fc=RandomForestClassifier()\n",
    "fc.fit(te_X,te_Y)\n",
    "pr=fc.predict(tr_X)"
   ]
  },
  {
   "cell_type": "code",
   "execution_count": 45,
   "metadata": {
    "ExecuteTime": {
     "end_time": "2020-11-13T12:24:16.884960Z",
     "start_time": "2020-11-13T12:24:16.873998Z"
    }
   },
   "outputs": [],
   "source": [
    "df.loc[(df[qs_columns1[i]].isnull()),qs_columns1[i]]=pr"
   ]
  },
  {
   "cell_type": "code",
   "execution_count": 46,
   "metadata": {
    "ExecuteTime": {
     "end_time": "2020-11-13T12:24:16.994774Z",
     "start_time": "2020-11-13T12:24:16.979814Z"
    }
   },
   "outputs": [
    {
     "data": {
      "text/plain": [
       "survived         0\n",
       "pclass           0\n",
       "sex              0\n",
       "age              0\n",
       "sibsp            0\n",
       "parch            0\n",
       "fare             0\n",
       "embarked         0\n",
       "class            0\n",
       "who              0\n",
       "adult_male       0\n",
       "deck           688\n",
       "embark_town      2\n",
       "alive            0\n",
       "alone            0\n",
       "dtype: int64"
      ]
     },
     "execution_count": 46,
     "metadata": {},
     "output_type": "execute_result"
    }
   ],
   "source": [
    "df.isnull().sum()"
   ]
  },
  {
   "cell_type": "markdown",
   "metadata": {},
   "source": [
    "#### 填补embark_town"
   ]
  },
  {
   "cell_type": "code",
   "execution_count": 49,
   "metadata": {
    "ExecuteTime": {
     "end_time": "2020-11-13T12:28:15.195115Z",
     "start_time": "2020-11-13T12:28:15.175138Z"
    }
   },
   "outputs": [
    {
     "data": {
      "text/plain": [
       "0      Southampton\n",
       "1        Cherbourg\n",
       "2      Southampton\n",
       "3      Southampton\n",
       "4      Southampton\n",
       "          ...     \n",
       "886    Southampton\n",
       "887    Southampton\n",
       "888    Southampton\n",
       "889      Cherbourg\n",
       "890     Queenstown\n",
       "Name: embark_town, Length: 891, dtype: object"
      ]
     },
     "execution_count": 49,
     "metadata": {},
     "output_type": "execute_result"
    }
   ],
   "source": [
    "df['embark_town']"
   ]
  },
  {
   "cell_type": "code",
   "execution_count": 50,
   "metadata": {
    "ExecuteTime": {
     "end_time": "2020-11-13T12:28:22.349059Z",
     "start_time": "2020-11-13T12:28:22.161052Z"
    }
   },
   "outputs": [
    {
     "name": "stderr",
     "output_type": "stream",
     "text": [
      "E:\\Anaconda3\\anaconda3\\lib\\site-packages\\ipykernel_launcher.py:15: DataConversionWarning: A column-vector y was passed when a 1d array was expected. Please change the shape of y to (n_samples,), for example using ravel().\n",
      "  from ipykernel import kernelapp as app\n"
     ]
    }
   ],
   "source": [
    "df.loc[df['embark_town']=='Southampton','embark_town']=0\n",
    "df.loc[df['embark_town']=='Cherbourg','embark_town']=1\n",
    "df.loc[df['embark_town']=='Queenstown','embark_town']=2\n",
    "\n",
    "te_embark_town=df[df['embark_town'].notnull()]\n",
    "te_embark_town_X=te_embark_town[['survived','pclass','sex','sibsp','parch','fare']]#设定输入的X\n",
    "te_embark_town_Y=te_embark_town[['embark_town']]#设定输入的Y\n",
    "te_embark_town_X=te_embark_town_X.astype(float)#转换数据类型，不转换成数值型的，到后面输入模型会报错。\n",
    "te_embark_town_Y=te_embark_town_Y.astype(float)#转换数据类型，不转换成数值型的，到后面输入模型会报错。\n",
    "tr_embark_town=df[df['embark_town'].isnull()]\n",
    "\n",
    "tr_embark_town_X=tr_embark_town[['survived','pclass','sex','sibsp','parch','fare']].astype(float)\n",
    "tr_embark_town_Y=tr_embark_town['embark_town'].astype(float)\n",
    "fc_embark_town=RandomForestClassifier()\n",
    "fc_embark_town.fit(te_embark_town_X,te_embark_town_Y)\n",
    "pr_embark_town=fc_embark_town.predict(tr_embark_town_X)"
   ]
  },
  {
   "cell_type": "code",
   "execution_count": 51,
   "metadata": {
    "ExecuteTime": {
     "end_time": "2020-11-13T12:28:23.639783Z",
     "start_time": "2020-11-13T12:28:23.632803Z"
    }
   },
   "outputs": [],
   "source": [
    "qs_columns3=['embark_town'] \n",
    "df.loc[(df[qs_columns3[i]].isnull()),qs_columns3[i]]=pr_embark_town"
   ]
  },
  {
   "cell_type": "code",
   "execution_count": 52,
   "metadata": {
    "ExecuteTime": {
     "end_time": "2020-11-13T12:28:24.245258Z",
     "start_time": "2020-11-13T12:28:24.224316Z"
    }
   },
   "outputs": [
    {
     "data": {
      "text/plain": [
       "survived         0\n",
       "pclass           0\n",
       "sex              0\n",
       "age              0\n",
       "sibsp            0\n",
       "parch            0\n",
       "fare             0\n",
       "embarked         0\n",
       "class            0\n",
       "who              0\n",
       "adult_male       0\n",
       "deck           688\n",
       "embark_town      0\n",
       "alive            0\n",
       "alone            0\n",
       "dtype: int64"
      ]
     },
     "execution_count": 52,
     "metadata": {},
     "output_type": "execute_result"
    }
   ],
   "source": [
    "df.isnull().sum()"
   ]
  },
  {
   "cell_type": "markdown",
   "metadata": {},
   "source": [
    "## （选择题）对决策树实践作业的中表情识别模型进行改进，以提高模型的准确率"
   ]
  },
  {
   "cell_type": "code",
   "execution_count": 53,
   "metadata": {
    "ExecuteTime": {
     "end_time": "2020-11-13T12:28:26.285926Z",
     "start_time": "2020-11-13T12:28:26.267037Z"
    }
   },
   "outputs": [],
   "source": [
    "import pandas as pd\n",
    "import numpy as np\n",
    "import matplotlib.pyplot as plt\n",
    "%matplotlib inline"
   ]
  },
  {
   "cell_type": "code",
   "execution_count": 54,
   "metadata": {
    "ExecuteTime": {
     "end_time": "2020-11-13T12:28:32.246421Z",
     "start_time": "2020-11-13T12:28:27.337526Z"
    }
   },
   "outputs": [
    {
     "data": {
      "text/html": [
       "<div>\n",
       "<style scoped>\n",
       "    .dataframe tbody tr th:only-of-type {\n",
       "        vertical-align: middle;\n",
       "    }\n",
       "\n",
       "    .dataframe tbody tr th {\n",
       "        vertical-align: top;\n",
       "    }\n",
       "\n",
       "    .dataframe thead th {\n",
       "        text-align: right;\n",
       "    }\n",
       "</style>\n",
       "<table border=\"1\" class=\"dataframe\">\n",
       "  <thead>\n",
       "    <tr style=\"text-align: right;\">\n",
       "      <th></th>\n",
       "      <th>emotion</th>\n",
       "      <th>pixels</th>\n",
       "      <th>Usage</th>\n",
       "    </tr>\n",
       "  </thead>\n",
       "  <tbody>\n",
       "    <tr>\n",
       "      <th>0</th>\n",
       "      <td>0</td>\n",
       "      <td>70 80 82 72 58 58 60 63 54 58 60 48 89 115 121...</td>\n",
       "      <td>Training</td>\n",
       "    </tr>\n",
       "    <tr>\n",
       "      <th>1</th>\n",
       "      <td>0</td>\n",
       "      <td>151 150 147 155 148 133 111 140 170 174 182 15...</td>\n",
       "      <td>Training</td>\n",
       "    </tr>\n",
       "    <tr>\n",
       "      <th>2</th>\n",
       "      <td>2</td>\n",
       "      <td>231 212 156 164 174 138 161 173 182 200 106 38...</td>\n",
       "      <td>Training</td>\n",
       "    </tr>\n",
       "    <tr>\n",
       "      <th>3</th>\n",
       "      <td>4</td>\n",
       "      <td>24 32 36 30 32 23 19 20 30 41 21 22 32 34 21 1...</td>\n",
       "      <td>Training</td>\n",
       "    </tr>\n",
       "    <tr>\n",
       "      <th>4</th>\n",
       "      <td>6</td>\n",
       "      <td>4 0 0 0 0 0 0 0 0 0 0 0 3 15 23 28 48 50 58 84...</td>\n",
       "      <td>Training</td>\n",
       "    </tr>\n",
       "  </tbody>\n",
       "</table>\n",
       "</div>"
      ],
      "text/plain": [
       "   emotion                                             pixels     Usage\n",
       "0        0  70 80 82 72 58 58 60 63 54 58 60 48 89 115 121...  Training\n",
       "1        0  151 150 147 155 148 133 111 140 170 174 182 15...  Training\n",
       "2        2  231 212 156 164 174 138 161 173 182 200 106 38...  Training\n",
       "3        4  24 32 36 30 32 23 19 20 30 41 21 22 32 34 21 1...  Training\n",
       "4        6  4 0 0 0 0 0 0 0 0 0 0 0 3 15 23 28 48 50 58 84...  Training"
      ]
     },
     "execution_count": 54,
     "metadata": {},
     "output_type": "execute_result"
    }
   ],
   "source": [
    "df=pd.read_csv(\"F:/大三（上）/机器学习/决策树参考代码/决策树参考代码/fer2013.csv\")\n",
    "df.head()"
   ]
  },
  {
   "cell_type": "code",
   "execution_count": 55,
   "metadata": {
    "ExecuteTime": {
     "end_time": "2020-11-13T12:28:32.371187Z",
     "start_time": "2020-11-13T12:28:32.358195Z"
    }
   },
   "outputs": [
    {
     "name": "stdout",
     "output_type": "stream",
     "text": [
      "(35887,)\n",
      "<class 'numpy.ndarray'>\n"
     ]
    }
   ],
   "source": [
    "pixels = df.loc[:,'pixels'].values\n",
    "\n",
    "print(pixels.shape)\n",
    "print(type(pixels))"
   ]
  },
  {
   "cell_type": "code",
   "execution_count": 56,
   "metadata": {
    "ExecuteTime": {
     "end_time": "2020-11-13T12:28:58.896849Z",
     "start_time": "2020-11-13T12:28:32.481938Z"
    }
   },
   "outputs": [],
   "source": [
    "px = []\n",
    "for x in pixels : \n",
    "    x = x.split(\" \")\n",
    "    x = [float(t) for t in x]\n",
    "    px.append(x)"
   ]
  },
  {
   "cell_type": "code",
   "execution_count": 57,
   "metadata": {
    "ExecuteTime": {
     "end_time": "2020-11-13T12:29:19.704433Z",
     "start_time": "2020-11-13T12:29:16.552799Z"
    }
   },
   "outputs": [
    {
     "name": "stdout",
     "output_type": "stream",
     "text": [
      "(35887, 2304)\n"
     ]
    }
   ],
   "source": [
    "x = np.array(px)\n",
    "print(x.shape)"
   ]
  },
  {
   "cell_type": "code",
   "execution_count": 67,
   "metadata": {
    "ExecuteTime": {
     "end_time": "2020-11-13T13:18:54.214696Z",
     "start_time": "2020-11-13T13:18:54.194749Z"
    }
   },
   "outputs": [
    {
     "data": {
      "text/plain": [
       "array([[ 70.,  80.,  82., ..., 106., 109.,  82.],\n",
       "       [151., 150., 147., ..., 193., 183., 184.],\n",
       "       [231., 212., 156., ...,  88., 110., 152.],\n",
       "       ...,\n",
       "       [ 17.,  17.,  16., ..., 154., 133., 113.],\n",
       "       [ 30.,  28.,  28., ...,  35.,  30.,  28.],\n",
       "       [ 19.,  13.,  14., ..., 189., 199., 201.]])"
      ]
     },
     "execution_count": 67,
     "metadata": {},
     "output_type": "execute_result"
    }
   ],
   "source": [
    "x"
   ]
  },
  {
   "cell_type": "code",
   "execution_count": 58,
   "metadata": {
    "ExecuteTime": {
     "end_time": "2020-11-13T12:29:37.049051Z",
     "start_time": "2020-11-13T12:29:37.009156Z"
    }
   },
   "outputs": [
    {
     "name": "stdout",
     "output_type": "stream",
     "text": [
      "(35887,)\n",
      "<class 'numpy.ndarray'>\n"
     ]
    }
   ],
   "source": [
    "y = df.loc[:, 'emotion'].values\n",
    "print(y.shape)\n",
    "print(type(y))"
   ]
  },
  {
   "cell_type": "code",
   "execution_count": 68,
   "metadata": {
    "ExecuteTime": {
     "end_time": "2020-11-13T13:19:08.513239Z",
     "start_time": "2020-11-13T13:19:08.498244Z"
    }
   },
   "outputs": [
    {
     "data": {
      "text/plain": [
       "array([0, 0, 2, ..., 0, 3, 2], dtype=int64)"
      ]
     },
     "execution_count": 68,
     "metadata": {},
     "output_type": "execute_result"
    }
   ],
   "source": [
    "y"
   ]
  },
  {
   "cell_type": "code",
   "execution_count": 59,
   "metadata": {
    "ExecuteTime": {
     "end_time": "2020-11-13T12:29:56.814103Z",
     "start_time": "2020-11-13T12:29:55.207225Z"
    }
   },
   "outputs": [
    {
     "data": {
      "image/png": "[encoded data removed]",
      "text/plain": [
       "<Figure size 432x288 with 1 Axes>"
      ]
     },
     "metadata": {
      "needs_background": "light"
     },
     "output_type": "display_data"
    },
    {
     "data": {
      "image/png": "[encoded data removed]",
      "text/plain": [
       "<Figure size 432x288 with 1 Axes>"
      ]
     },
     "metadata": {
      "needs_background": "light"
     },
     "output_type": "display_data"
    },
    {
     "data": {
      "image/png": "[encoded data removed]",
      "text/plain": [
       "<Figure size 432x288 with 1 Axes>"
      ]
     },
     "metadata": {
      "needs_background": "light"
     },
     "output_type": "display_data"
    },
    {
     "data": {
      "image/png": "[encoded data removed]",
      "text/plain": [
       "<Figure size 432x288 with 1 Axes>"
      ]
     },
     "metadata": {
      "needs_background": "light"
     },
     "output_type": "display_data"
    },
    {
     "data": {
      "image/png": "[encoded data removed]",
      "text/plain": [
       "<Figure size 432x288 with 1 Axes>"
      ]
     },
     "metadata": {
      "needs_background": "light"
     },
     "output_type": "display_data"
    }
   ],
   "source": [
    "for ix in range(5,10):\n",
    "    plt.figure(ix)\n",
    "    plt.imshow(x[ix].reshape((48, 48)), interpolation='none', cmap='gray')\n",
    "    plt.show()"
   ]
  },
  {
   "cell_type": "code",
   "execution_count": 60,
   "metadata": {
    "ExecuteTime": {
     "end_time": "2020-11-13T12:30:12.928889Z",
     "start_time": "2020-11-13T12:30:12.588992Z"
    }
   },
   "outputs": [],
   "source": [
    "from sklearn.model_selection import train_test_split\n",
    "Xtrain, Xtest, Ytrain, Ytest = train_test_split(x,y,test_size=0.3)"
   ]
  },
  {
   "cell_type": "code",
   "execution_count": 61,
   "metadata": {
    "ExecuteTime": {
     "end_time": "2020-11-13T12:32:14.201528Z",
     "start_time": "2020-11-13T12:30:33.992422Z"
    }
   },
   "outputs": [
    {
     "data": {
      "text/plain": [
       "RandomForestClassifier(bootstrap=True, ccp_alpha=0.0, class_weight=None,\n",
       "                       criterion='gini', max_depth=None, max_features='auto',\n",
       "                       max_leaf_nodes=None, max_samples=None,\n",
       "                       min_impurity_decrease=0.0, min_impurity_split=None,\n",
       "                       min_samples_leaf=1, min_samples_split=2,\n",
       "                       min_weight_fraction_leaf=0.0, n_estimators=15,\n",
       "                       n_jobs=None, oob_score=False, random_state=None,\n",
       "                       verbose=0, warm_start=False)"
      ]
     },
     "execution_count": 61,
     "metadata": {},
     "output_type": "execute_result"
    }
   ],
   "source": [
    "#模型训练\n",
    "model1.fit(Xtrain,Ytrain)\n",
    "model2.fit(Xtrain,Ytrain)\n",
    "model3.fit(Xtrain,Ytrain)"
   ]
  },
  {
   "cell_type": "code",
   "execution_count": 62,
   "metadata": {
    "ExecuteTime": {
     "end_time": "2020-11-13T12:52:11.159806Z",
     "start_time": "2020-11-13T12:32:28.419896Z"
    }
   },
   "outputs": [],
   "source": [
    "#预测\n",
    "pred4=model1.predict(Xtest)\n",
    "pred5=model2.predict(Xtest)\n",
    "pred6=model3.predict(Xtest)"
   ]
  },
  {
   "cell_type": "code",
   "execution_count": 63,
   "metadata": {
    "ExecuteTime": {
     "end_time": "2020-11-13T12:52:34.861191Z",
     "start_time": "2020-11-13T12:52:34.695460Z"
    }
   },
   "outputs": [
    {
     "data": {
      "text/plain": [
       "0.3071421937401319"
      ]
     },
     "execution_count": 63,
     "metadata": {},
     "output_type": "execute_result"
    }
   ],
   "source": [
    "model1.score(Xtest,Ytest)"
   ]
  },
  {
   "cell_type": "code",
   "execution_count": 64,
   "metadata": {
    "ExecuteTime": {
     "end_time": "2020-11-13T13:12:30.988133Z",
     "start_time": "2020-11-13T12:52:54.843828Z"
    }
   },
   "outputs": [
    {
     "data": {
      "text/plain": [
       "0.32878239063806075"
      ]
     },
     "execution_count": 64,
     "metadata": {},
     "output_type": "execute_result"
    }
   ],
   "source": [
    "model2.score(Xtest,Ytest)"
   ]
  },
  {
   "cell_type": "code",
   "execution_count": 65,
   "metadata": {
    "ExecuteTime": {
     "end_time": "2020-11-13T13:12:55.387693Z",
     "start_time": "2020-11-13T13:12:54.772290Z"
    }
   },
   "outputs": [
    {
     "data": {
      "text/plain": [
       "0.3786570075229869"
      ]
     },
     "execution_count": 65,
     "metadata": {},
     "output_type": "execute_result"
    }
   ],
   "source": [
    "model3.score(Xtest,Ytest)"
   ]
  },
  {
   "cell_type": "code",
   "execution_count": 69,
   "metadata": {
    "ExecuteTime": {
     "end_time": "2020-11-13T13:21:42.048592Z",
     "start_time": "2020-11-13T13:21:38.581415Z"
    }
   },
   "outputs": [],
   "source": [
    "final_pred1 = np.array([])\n",
    "for i in range(0,len(Xtest)):\n",
    "    temp=pd.Series([pred4[i], pred5[i], pred6[i]])\n",
    "    final_pred1 =np.append(final_pred1,temp.mode()[0])"
   ]
  },
  {
   "cell_type": "code",
   "execution_count": 70,
   "metadata": {
    "ExecuteTime": {
     "end_time": "2020-11-13T13:25:48.630869Z",
     "start_time": "2020-11-13T13:25:48.608896Z"
    }
   },
   "outputs": [
    {
     "data": {
      "text/plain": [
       "array([6., 3., 0., ..., 3., 3., 2.])"
      ]
     },
     "execution_count": 70,
     "metadata": {},
     "output_type": "execute_result"
    }
   ],
   "source": [
    "#最终结果\n",
    "final_pred1"
   ]
  },
  {
   "cell_type": "code",
   "execution_count": 71,
   "metadata": {
    "ExecuteTime": {
     "end_time": "2020-11-13T13:31:54.921044Z",
     "start_time": "2020-11-13T13:31:54.830130Z"
    }
   },
   "outputs": [
    {
     "data": {
      "text/html": [
       "<div>\n",
       "<style scoped>\n",
       "    .dataframe tbody tr th:only-of-type {\n",
       "        vertical-align: middle;\n",
       "    }\n",
       "\n",
       "    .dataframe tbody tr th {\n",
       "        vertical-align: top;\n",
       "    }\n",
       "\n",
       "    .dataframe thead th {\n",
       "        text-align: right;\n",
       "    }\n",
       "</style>\n",
       "<table border=\"1\" class=\"dataframe\">\n",
       "  <thead>\n",
       "    <tr style=\"text-align: right;\">\n",
       "      <th></th>\n",
       "      <th>真实类别</th>\n",
       "      <th>最终结果</th>\n",
       "      <th>pred4</th>\n",
       "      <th>pred5</th>\n",
       "      <th>pred6</th>\n",
       "    </tr>\n",
       "  </thead>\n",
       "  <tbody>\n",
       "    <tr>\n",
       "      <th>0</th>\n",
       "      <td>6</td>\n",
       "      <td>6.0</td>\n",
       "      <td>6</td>\n",
       "      <td>6</td>\n",
       "      <td>6</td>\n",
       "    </tr>\n",
       "    <tr>\n",
       "      <th>1</th>\n",
       "      <td>3</td>\n",
       "      <td>3.0</td>\n",
       "      <td>5</td>\n",
       "      <td>3</td>\n",
       "      <td>3</td>\n",
       "    </tr>\n",
       "    <tr>\n",
       "      <th>2</th>\n",
       "      <td>5</td>\n",
       "      <td>0.0</td>\n",
       "      <td>2</td>\n",
       "      <td>5</td>\n",
       "      <td>0</td>\n",
       "    </tr>\n",
       "    <tr>\n",
       "      <th>3</th>\n",
       "      <td>3</td>\n",
       "      <td>3.0</td>\n",
       "      <td>5</td>\n",
       "      <td>3</td>\n",
       "      <td>3</td>\n",
       "    </tr>\n",
       "    <tr>\n",
       "      <th>4</th>\n",
       "      <td>2</td>\n",
       "      <td>0.0</td>\n",
       "      <td>3</td>\n",
       "      <td>2</td>\n",
       "      <td>0</td>\n",
       "    </tr>\n",
       "    <tr>\n",
       "      <th>...</th>\n",
       "      <td>...</td>\n",
       "      <td>...</td>\n",
       "      <td>...</td>\n",
       "      <td>...</td>\n",
       "      <td>...</td>\n",
       "    </tr>\n",
       "    <tr>\n",
       "      <th>10762</th>\n",
       "      <td>3</td>\n",
       "      <td>0.0</td>\n",
       "      <td>0</td>\n",
       "      <td>6</td>\n",
       "      <td>2</td>\n",
       "    </tr>\n",
       "    <tr>\n",
       "      <th>10763</th>\n",
       "      <td>4</td>\n",
       "      <td>0.0</td>\n",
       "      <td>0</td>\n",
       "      <td>3</td>\n",
       "      <td>0</td>\n",
       "    </tr>\n",
       "    <tr>\n",
       "      <th>10764</th>\n",
       "      <td>3</td>\n",
       "      <td>3.0</td>\n",
       "      <td>3</td>\n",
       "      <td>3</td>\n",
       "      <td>3</td>\n",
       "    </tr>\n",
       "    <tr>\n",
       "      <th>10765</th>\n",
       "      <td>4</td>\n",
       "      <td>3.0</td>\n",
       "      <td>3</td>\n",
       "      <td>3</td>\n",
       "      <td>4</td>\n",
       "    </tr>\n",
       "    <tr>\n",
       "      <th>10766</th>\n",
       "      <td>5</td>\n",
       "      <td>2.0</td>\n",
       "      <td>4</td>\n",
       "      <td>5</td>\n",
       "      <td>2</td>\n",
       "    </tr>\n",
       "  </tbody>\n",
       "</table>\n",
       "<p>10767 rows × 5 columns</p>\n",
       "</div>"
      ],
      "text/plain": [
       "       真实类别  最终结果  pred4  pred5  pred6\n",
       "0         6   6.0      6      6      6\n",
       "1         3   3.0      5      3      3\n",
       "2         5   0.0      2      5      0\n",
       "3         3   3.0      5      3      3\n",
       "4         2   0.0      3      2      0\n",
       "...     ...   ...    ...    ...    ...\n",
       "10762     3   0.0      0      6      2\n",
       "10763     4   0.0      0      3      0\n",
       "10764     3   3.0      3      3      3\n",
       "10765     4   3.0      3      3      4\n",
       "10766     5   2.0      4      5      2\n",
       "\n",
       "[10767 rows x 5 columns]"
      ]
     },
     "execution_count": 71,
     "metadata": {},
     "output_type": "execute_result"
    }
   ],
   "source": [
    "out1=pd.DataFrame({\"真实类别\":Ytest,\"最终结果\":final_pred1,\"pred4\":pred4,\"pred5\":pred5,\"pred6\":pred6})\n",
    "out1"
   ]
  },
  {
   "cell_type": "code",
   "execution_count": 72,
   "metadata": {
    "ExecuteTime": {
     "end_time": "2020-11-13T13:32:38.639726Z",
     "start_time": "2020-11-13T13:32:38.311484Z"
    }
   },
   "outputs": [
    {
     "data": {
      "text/plain": [
       "0.36491130305563296"
      ]
     },
     "execution_count": 72,
     "metadata": {},
     "output_type": "execute_result"
    }
   ],
   "source": [
    "accuracy_score(Ytest,final_pred1) "
   ]
  }
 ],
 "metadata": {
  "hide_input": false,
  "kernelspec": {
   "display_name": "Python 3",
   "language": "python",
   "name": "python3"
  },
  "language_info": {
   "codemirror_mode": {
    "name": "ipython",
    "version": 3
   },
   "file_extension": ".py",
   "mimetype": "text/x-python",
   "name": "python",
   "nbconvert_exporter": "python",
   "pygments_lexer": "ipython3",
   "version": "3.7.6"
  },
  "latex_envs": {
   "LaTeX_envs_menu_present": true,
   "autoclose": false,
   "autocomplete": true,
   "bibliofile": "biblio.bib",
   "cite_by": "apalike",
   "current_citInitial": 1,
   "eqLabelWithNumbers": true,
   "eqNumInitial": 1,
   "hotkeys": {
    "equation": "Ctrl-E",
    "itemize": "Ctrl-I"
   },
   "labels_anchors": false,
   "latex_user_defs": false,
   "report_style_numbering": false,
   "user_envs_cfg": false
  },
  "nbTranslate": {
   "displayLangs": [
    "*"
   ],
   "hotkey": "alt-t",
   "langInMainMenu": true,
   "sourceLang": "en",
   "targetLang": "fr",
   "useGoogleTranslate": true
  },
  "toc": {
   "base_numbering": 1,
   "nav_menu": {},
   "number_sections": true,
   "sideBar": true,
   "skip_h1_title": false,
   "title_cell": "Table of Contents",
   "title_sidebar": "Contents",
   "toc_cell": false,
   "toc_position": {
    "height": "calc(100% - 180px)",
    "left": "10px",
    "top": "150px",
    "width": "346.597px"
   },
   "toc_section_display": true,
   "toc_window_display": true
  },
  "varInspector": {
   "cols": {
    "lenName": 16,
    "lenType": 16,
    "lenVar": 40
   },
   "kernels_config": {
    "python": {
     "delete_cmd_postfix": "",
     "delete_cmd_prefix": "del ",
     "library": "var_list.py",
     "varRefreshCmd": "print(var_dic_list())"
    },
    "r": {
     "delete_cmd_postfix": ") ",
     "delete_cmd_prefix": "rm(",
     "library": "var_list.r",
     "varRefreshCmd": "cat(var_dic_list()) "
    }
   },
   "types_to_exclude": [
    "module",
    "function",
    "builtin_function_or_method",
    "instance",
    "_Feature"
   ],
   "window_display": false
  }
 },
 "nbformat": 4,
 "nbformat_minor": 4
}
