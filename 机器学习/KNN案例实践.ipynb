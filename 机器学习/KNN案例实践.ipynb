{
 "cells": [
  {
   "cell_type": "markdown",
   "metadata": {},
   "source": [
    "# KNN案例实践"
   ]
  },
  {
   "cell_type": "markdown",
   "metadata": {},
   "source": [
    "## 1.距离的计算（衡量样本的相似）"
   ]
  },
  {
   "cell_type": "code",
   "execution_count": 1,
   "metadata": {},
   "outputs": [],
   "source": [
    "import numpy as np\n",
    "sample1=np.array([2.1,2.5,3.8])\n",
    "sample2=np.array([1.0,1.7,6.6])"
   ]
  },
  {
   "cell_type": "markdown",
   "metadata": {},
   "source": [
    "### （1）欧式距离"
   ]
  },
  {
   "cell_type": "code",
   "execution_count": 2,
   "metadata": {},
   "outputs": [],
   "source": [
    "def  Euclidean_distance(sample1,sample2):\n",
    "     return  np.sqrt(sum((sample1-sample2)**2))\n",
    "             #np.linalg.norm(sample1-sample2)"
   ]
  },
  {
   "cell_type": "code",
   "execution_count": 3,
   "metadata": {},
   "outputs": [
    {
     "data": {
      "text/plain": [
       "3.1128764832546763"
      ]
     },
     "execution_count": 3,
     "metadata": {},
     "output_type": "execute_result"
    }
   ],
   "source": [
    "Euclidean_distance(sample1,sample2)"
   ]
  },
  {
   "cell_type": "markdown",
   "metadata": {},
   "source": [
    "### （2）曼哈顿距离"
   ]
  },
  {
   "cell_type": "code",
   "execution_count": 4,
   "metadata": {},
   "outputs": [],
   "source": [
    "def Manhattan_Distance(sample1,sample2):\n",
    "    return np.sum(np.abs(sample1-sample2))\n",
    "           #np.linalg.norm(vector1-vector2,ord=1)"
   ]
  },
  {
   "cell_type": "code",
   "execution_count": 5,
   "metadata": {},
   "outputs": [
    {
     "data": {
      "text/plain": [
       "4.7"
      ]
     },
     "execution_count": 5,
     "metadata": {},
     "output_type": "execute_result"
    }
   ],
   "source": [
    "Manhattan_Distance(sample1,sample2)"
   ]
  },
  {
   "cell_type": "markdown",
   "metadata": {},
   "source": [
    "### （3）闵氏距离"
   ]
  },
  {
   "cell_type": "code",
   "execution_count": 6,
   "metadata": {},
   "outputs": [],
   "source": [
    "def Minkowski_Distance(sample1,sample2,p):\n",
    "     return np.linalg.norm(sample1-sample2,ord=p)"
   ]
  },
  {
   "cell_type": "code",
   "execution_count": 7,
   "metadata": {},
   "outputs": [
    {
     "data": {
      "text/plain": [
       "4.7"
      ]
     },
     "execution_count": 7,
     "metadata": {},
     "output_type": "execute_result"
    }
   ],
   "source": [
    "Minkowski_Distance(sample1,sample2,p=1) #此时即曼哈顿距离"
   ]
  },
  {
   "cell_type": "code",
   "execution_count": 8,
   "metadata": {},
   "outputs": [
    {
     "data": {
      "text/plain": [
       "3.1128764832546763"
      ]
     },
     "execution_count": 8,
     "metadata": {},
     "output_type": "execute_result"
    }
   ],
   "source": [
    "Minkowski_Distance(sample1,sample2,p=2) #此时即为欧式距离"
   ]
  },
  {
   "cell_type": "code",
   "execution_count": 9,
   "metadata": {},
   "outputs": [
    {
     "data": {
      "text/plain": [
       "2.821098921158433"
      ]
     },
     "execution_count": 9,
     "metadata": {},
     "output_type": "execute_result"
    }
   ],
   "source": [
    "Minkowski_Distance(sample1,sample2,p=4)"
   ]
  },
  {
   "cell_type": "markdown",
   "metadata": {},
   "source": [
    "## 2.鸢尾花分类案例"
   ]
  },
  {
   "cell_type": "code",
   "execution_count": 1,
   "metadata": {},
   "outputs": [],
   "source": [
    "import numpy as np\n",
    "import matplotlib.pyplot as plt\n",
    "from matplotlib.colors import ListedColormap\n",
    "from sklearn import neighbors\n",
    "import warnings\n",
    "\n",
    "#jupyter notebook中为了在代码行直接显示图形\n",
    "%matplotlib inline \n",
    "\n",
    "warnings.filterwarnings('ignore')\n",
    "#plt.rcParams['font.sans-serif']=['SimHei']\n",
    "plt.rcParams['font.sans-serif'] = ['Arial Unicode MS']"
   ]
  },
  {
   "cell_type": "markdown",
   "metadata": {},
   "source": [
    "### （1）导入数据"
   ]
  },
  {
   "cell_type": "code",
   "execution_count": 13,
   "metadata": {},
   "outputs": [],
   "source": [
    "from sklearn import datasets\n",
    "iris=datasets.load_iris()"
   ]
  },
  {
   "cell_type": "markdown",
   "metadata": {},
   "source": [
    "**查看数据集**"
   ]
  },
  {
   "cell_type": "code",
   "execution_count": 14,
   "metadata": {},
   "outputs": [
    {
     "data": {
      "text/plain": [
       "(150, 4)"
      ]
     },
     "execution_count": 14,
     "metadata": {},
     "output_type": "execute_result"
    }
   ],
   "source": [
    "iris.data.shape"
   ]
  },
  {
   "cell_type": "code",
   "execution_count": 15,
   "metadata": {},
   "outputs": [
    {
     "data": {
      "text/plain": [
       "(150,)"
      ]
     },
     "execution_count": 15,
     "metadata": {},
     "output_type": "execute_result"
    }
   ],
   "source": [
    "iris.target.shape"
   ]
  },
  {
   "cell_type": "code",
   "execution_count": 16,
   "metadata": {},
   "outputs": [
    {
     "data": {
      "text/plain": [
       "array([[5.1, 3.5, 1.4, 0.2],\n",
       "       [4.9, 3. , 1.4, 0.2],\n",
       "       [4.7, 3.2, 1.3, 0.2],\n",
       "       [4.6, 3.1, 1.5, 0.2],\n",
       "       [5. , 3.6, 1.4, 0.2]])"
      ]
     },
     "execution_count": 16,
     "metadata": {},
     "output_type": "execute_result"
    }
   ],
   "source": [
    "iris.data[:5,]"
   ]
  },
  {
   "cell_type": "code",
   "execution_count": 17,
   "metadata": {},
   "outputs": [
    {
     "data": {
      "text/plain": [
       "array([0, 0, 0, 0, 0])"
      ]
     },
     "execution_count": 17,
     "metadata": {},
     "output_type": "execute_result"
    }
   ],
   "source": [
    "iris.target[:5,]"
   ]
  },
  {
   "cell_type": "markdown",
   "metadata": {},
   "source": [
    "### （2）描述分析"
   ]
  },
  {
   "cell_type": "code",
   "execution_count": 18,
   "metadata": {},
   "outputs": [],
   "source": [
    "#不在重复代码，参考以前代码"
   ]
  },
  {
   "cell_type": "markdown",
   "metadata": {},
   "source": [
    "### （3）划分特征和输出"
   ]
  },
  {
   "cell_type": "code",
   "execution_count": 19,
   "metadata": {},
   "outputs": [],
   "source": [
    "X=iris.data[:,:2] #为了方便可视化，只取两个维读特征\n",
    "y=iris.target     #分类标签"
   ]
  },
  {
   "cell_type": "markdown",
   "metadata": {},
   "source": [
    "### （4）模型构建"
   ]
  },
  {
   "cell_type": "markdown",
   "metadata": {},
   "source": [
    "**设定KNN模型参数：k=15,投票方式为uniform**"
   ]
  },
  {
   "cell_type": "code",
   "execution_count": 20,
   "metadata": {},
   "outputs": [],
   "source": [
    "n_neighbors=15\n",
    "weights=\"uniform\""
   ]
  },
  {
   "cell_type": "markdown",
   "metadata": {},
   "source": [
    "**模型训练**"
   ]
  },
  {
   "cell_type": "code",
   "execution_count": 21,
   "metadata": {},
   "outputs": [
    {
     "data": {
      "text/plain": [
       "KNeighborsClassifier(n_neighbors=15)"
      ]
     },
     "execution_count": 21,
     "metadata": {},
     "output_type": "execute_result"
    }
   ],
   "source": [
    "knn_clf1=neighbors.KNeighborsClassifier(n_neighbors=n_neighbors,weights=weights)\n",
    "knn_clf1.fit(X,y)"
   ]
  },
  {
   "cell_type": "markdown",
   "metadata": {},
   "source": [
    "**模型预测**"
   ]
  },
  {
   "cell_type": "code",
   "execution_count": 22,
   "metadata": {},
   "outputs": [],
   "source": [
    "y_pre=knn_clf1.predict(X)"
   ]
  },
  {
   "cell_type": "code",
   "execution_count": 23,
   "metadata": {},
   "outputs": [
    {
     "data": {
      "text/html": [
       "<div>\n",
       "<style scoped>\n",
       "    .dataframe tbody tr th:only-of-type {\n",
       "        vertical-align: middle;\n",
       "    }\n",
       "\n",
       "    .dataframe tbody tr th {\n",
       "        vertical-align: top;\n",
       "    }\n",
       "\n",
       "    .dataframe thead th {\n",
       "        text-align: right;\n",
       "    }\n",
       "</style>\n",
       "<table border=\"1\" class=\"dataframe\">\n",
       "  <thead>\n",
       "    <tr style=\"text-align: right;\">\n",
       "      <th></th>\n",
       "      <th>0</th>\n",
       "    </tr>\n",
       "  </thead>\n",
       "  <tbody>\n",
       "    <tr>\n",
       "      <th>0</th>\n",
       "      <td>0</td>\n",
       "    </tr>\n",
       "    <tr>\n",
       "      <th>0</th>\n",
       "      <td>0</td>\n",
       "    </tr>\n",
       "    <tr>\n",
       "      <th>0</th>\n",
       "      <td>0</td>\n",
       "    </tr>\n",
       "    <tr>\n",
       "      <th>0</th>\n",
       "      <td>0</td>\n",
       "    </tr>\n",
       "    <tr>\n",
       "      <th>0</th>\n",
       "      <td>0</td>\n",
       "    </tr>\n",
       "    <tr>\n",
       "      <th>...</th>\n",
       "      <td>...</td>\n",
       "    </tr>\n",
       "    <tr>\n",
       "      <th>2</th>\n",
       "      <td>2</td>\n",
       "    </tr>\n",
       "    <tr>\n",
       "      <th>2</th>\n",
       "      <td>2</td>\n",
       "    </tr>\n",
       "    <tr>\n",
       "      <th>2</th>\n",
       "      <td>2</td>\n",
       "    </tr>\n",
       "    <tr>\n",
       "      <th>2</th>\n",
       "      <td>2</td>\n",
       "    </tr>\n",
       "    <tr>\n",
       "      <th>1</th>\n",
       "      <td>2</td>\n",
       "    </tr>\n",
       "  </tbody>\n",
       "</table>\n",
       "<p>150 rows × 1 columns</p>\n",
       "</div>"
      ],
      "text/plain": [
       "    0\n",
       "0   0\n",
       "0   0\n",
       "0   0\n",
       "0   0\n",
       "0   0\n",
       ".. ..\n",
       "2   2\n",
       "2   2\n",
       "2   2\n",
       "2   2\n",
       "1   2\n",
       "\n",
       "[150 rows x 1 columns]"
      ]
     },
     "execution_count": 23,
     "metadata": {},
     "output_type": "execute_result"
    }
   ],
   "source": [
    "import pandas as pd\n",
    "pd.DataFrame(y,y_pre)"
   ]
  },
  {
   "cell_type": "markdown",
   "metadata": {},
   "source": [
    "### （5）效果展示"
   ]
  },
  {
   "cell_type": "markdown",
   "metadata": {},
   "source": [
    "**构造网格**"
   ]
  },
  {
   "cell_type": "code",
   "execution_count": 24,
   "metadata": {},
   "outputs": [],
   "source": [
    "x_min,x_max=X[:,0].min()-1,X[:,0].max()+1  #图的横坐标范围\n",
    "y_min,y_max=X[:,1].min()-1,X[:,1].max()+1  #图的纵坐标范围\n",
    "\n",
    "xx,yy=np.meshgrid(np.arange(x_min,x_max,0.02),np.arange(y_min,y_max,0.02)) #网格"
   ]
  },
  {
   "cell_type": "code",
   "execution_count": 25,
   "metadata": {},
   "outputs": [],
   "source": [
    "z=knn_clf1.predict(np.c_[xx.ravel(),yy.ravel()])"
   ]
  },
  {
   "cell_type": "code",
   "execution_count": 26,
   "metadata": {},
   "outputs": [
    {
     "data": {
      "text/plain": [
       "array([0, 0, 0, ..., 2, 2, 2])"
      ]
     },
     "execution_count": 26,
     "metadata": {},
     "output_type": "execute_result"
    }
   ],
   "source": [
    "z"
   ]
  },
  {
   "cell_type": "code",
   "execution_count": 27,
   "metadata": {},
   "outputs": [],
   "source": [
    "z=z.reshape(xx.shape)"
   ]
  },
  {
   "cell_type": "code",
   "execution_count": 28,
   "metadata": {},
   "outputs": [
    {
     "data": {
      "text/plain": [
       "array([[0, 0, 0, ..., 2, 2, 2],\n",
       "       [0, 0, 0, ..., 2, 2, 2],\n",
       "       [0, 0, 0, ..., 2, 2, 2],\n",
       "       ...,\n",
       "       [0, 0, 0, ..., 2, 2, 2],\n",
       "       [0, 0, 0, ..., 2, 2, 2],\n",
       "       [0, 0, 0, ..., 2, 2, 2]])"
      ]
     },
     "execution_count": 28,
     "metadata": {},
     "output_type": "execute_result"
    }
   ],
   "source": [
    "z"
   ]
  },
  {
   "cell_type": "markdown",
   "metadata": {},
   "source": [
    "**设定颜色**"
   ]
  },
  {
   "cell_type": "code",
   "execution_count": 29,
   "metadata": {},
   "outputs": [],
   "source": [
    "camp_light=ListedColormap(['#FFAAAA','#AAFFAA','#AAAAFF'])\n",
    "camp_bold=ListedColormap(['#FF0000','#00FF00','#0000FF'])"
   ]
  },
  {
   "cell_type": "code",
   "execution_count": 30,
   "metadata": {},
   "outputs": [
    {
     "data": {
      "image/png": "[encoded data removed]",
      "text/plain": [
       "<Figure size 432x288 with 1 Axes>"
      ]
     },
     "metadata": {
      "needs_background": "light"
     },
     "output_type": "display_data"
    }
   ],
   "source": [
    "plt.figure()\n",
    "plt.pcolormesh(xx,yy,z,cmap=camp_light)\n",
    "plt.scatter(X[:,0],X[:,1],c=y,cmap=camp_bold)\n",
    "plt.xlim(xx.min(),xx.max())\n",
    "plt.ylim(yy.min(),yy.max())\n",
    "plt.title(\"3分类(k=%i,weights='%s')\"%(n_neighbors,weights))\n",
    "plt.show()"
   ]
  },
  {
   "cell_type": "markdown",
   "metadata": {},
   "source": [
    "### （6）模型投票方式不同的模型效果对比"
   ]
  },
  {
   "cell_type": "code",
   "execution_count": 31,
   "metadata": {},
   "outputs": [
    {
     "data": {
      "image/png": "[encoded data removed]",
      "text/plain": [
       "<Figure size 432x288 with 1 Axes>"
      ]
     },
     "metadata": {
      "needs_background": "light"
     },
     "output_type": "display_data"
    }
   ],
   "source": [
    "n_neighbors=15\n",
    "weights=\"distance\" \n",
    "\n",
    "knn_clf2=neighbors.KNeighborsClassifier(n_neighbors=n_neighbors,weights=weights)\n",
    "knn_clf2.fit(X,y)\n",
    "\n",
    "x_min,x_max=X[:,0].min()-1,X[:,0].max()+1  #图的横坐标范围\n",
    "y_min,y_max=X[:,1].min()-1,X[:,1].max()+1  #图的纵坐标范围\n",
    "\n",
    "xx,yy=np.meshgrid(np.arange(x_min,x_max,0.02),np.arange(y_min,y_max,0.02)) #网格\n",
    "z=knn_clf1.predict(np.c_[xx.ravel(),yy.ravel()])\n",
    "z=z.reshape(xx.shape)\n",
    "\n",
    "plt.figure()\n",
    "plt.pcolormesh(xx,yy,z,cmap=camp_light)\n",
    "plt.scatter(X[:,0],X[:,1],c=y,cmap=camp_bold)\n",
    "plt.xlim(xx.min(),xx.max())\n",
    "plt.ylim(yy.min(),yy.max())\n",
    "plt.title(\"3分类(k=%i,weights='%s')\"%(n_neighbors,weights))\n",
    "plt.show()"
   ]
  },
  {
   "cell_type": "markdown",
   "metadata": {},
   "source": [
    "### （7）选择不同的K模型分类效果"
   ]
  },
  {
   "cell_type": "code",
   "execution_count": 32,
   "metadata": {},
   "outputs": [
    {
     "data": {
      "image/png": "[encoded data removed]",
      "text/plain": [
       "<Figure size 1080x432 with 10 Axes>"
      ]
     },
     "metadata": {
      "needs_background": "light"
     },
     "output_type": "display_data"
    }
   ],
   "source": [
    "plt.figure(figsize=(15, 6))\n",
    "for k in np.arange(1,20,2):\n",
    "    knn_clf2=neighbors.KNeighborsClassifier(n_neighbors=k,weights='distance')\n",
    "    knn_clf2.fit(X,y)\n",
    "\n",
    "    x_min,x_max=X[:,0].min()-1,X[:,0].max()+1  #图的横坐标范围\n",
    "    y_min,y_max=X[:,1].min()-1,X[:,1].max()+1  #图的纵坐标范围\n",
    "\n",
    "    xx,yy=np.meshgrid(np.arange(x_min,x_max,0.02),np.arange(y_min,y_max,0.02)) #网格\n",
    "    z=knn_clf1.predict(np.c_[xx.ravel(),yy.ravel()])\n",
    "    z=z.reshape(xx.shape)\n",
    "\n",
    "    plt.subplot(2,5,((k+1)/2)) \n",
    "    plt.pcolormesh(xx,yy,z,cmap=camp_light)\n",
    "    plt.scatter(X[:,0],X[:,1],c=y,cmap=camp_bold)\n",
    "    plt.xlim(xx.min(),xx.max())\n",
    "    plt.ylim(yy.min(),yy.max())\n",
    "    plt.title(\"3分类(k=%i)\"%(k))\n",
    "plt.show()"
   ]
  },
  {
   "cell_type": "markdown",
   "metadata": {},
   "source": [
    "## 3.鸢尾花回归案例（目标预测第一列）"
   ]
  },
  {
   "cell_type": "markdown",
   "metadata": {},
   "source": [
    "### （1）分成特征和输出"
   ]
  },
  {
   "cell_type": "code",
   "execution_count": 33,
   "metadata": {},
   "outputs": [],
   "source": [
    "X1=np.c_[iris.data[:,1:],iris.target]\n",
    "y1=iris.data[:,1]"
   ]
  },
  {
   "cell_type": "code",
   "execution_count": 35,
   "metadata": {},
   "outputs": [
    {
     "data": {
      "text/plain": [
       "array([[3.5, 1.4, 0.2, 0. ],\n",
       "       [3. , 1.4, 0.2, 0. ],\n",
       "       [3.2, 1.3, 0.2, 0. ],\n",
       "       [3.1, 1.5, 0.2, 0. ],\n",
       "       [3.6, 1.4, 0.2, 0. ],\n",
       "       [3.9, 1.7, 0.4, 0. ],\n",
       "       [3.4, 1.4, 0.3, 0. ],\n",
       "       [3.4, 1.5, 0.2, 0. ],\n",
       "       [2.9, 1.4, 0.2, 0. ],\n",
       "       [3.1, 1.5, 0.1, 0. ]])"
      ]
     },
     "execution_count": 35,
     "metadata": {},
     "output_type": "execute_result"
    }
   ],
   "source": [
    "X1[:10,]"
   ]
  },
  {
   "cell_type": "code",
   "execution_count": 36,
   "metadata": {},
   "outputs": [
    {
     "data": {
      "text/plain": [
       "array([3.5, 3. , 3.2, 3.1, 3.6, 3.9, 3.4, 3.4, 2.9, 3.1])"
      ]
     },
     "execution_count": 36,
     "metadata": {},
     "output_type": "execute_result"
    }
   ],
   "source": [
    "y1[:10]"
   ]
  },
  {
   "cell_type": "markdown",
   "metadata": {},
   "source": [
    "### （2）模型构建"
   ]
  },
  {
   "cell_type": "markdown",
   "metadata": {},
   "source": [
    "**训练模型**"
   ]
  },
  {
   "cell_type": "code",
   "execution_count": 37,
   "metadata": {},
   "outputs": [
    {
     "data": {
      "text/plain": [
       "KNeighborsRegressor(n_neighbors=15, weights='distance')"
      ]
     },
     "execution_count": 37,
     "metadata": {},
     "output_type": "execute_result"
    }
   ],
   "source": [
    "knn_reg = neighbors.KNeighborsRegressor(n_neighbors=15,weights='distance')\n",
    "knn_reg.fit(X1,y1)"
   ]
  },
  {
   "cell_type": "code",
   "execution_count": 39,
   "metadata": {},
   "outputs": [],
   "source": [
    "result=knn_reg.predict(X1)"
   ]
  },
  {
   "cell_type": "markdown",
   "metadata": {},
   "source": [
    "### 结果效果"
   ]
  },
  {
   "cell_type": "code",
   "execution_count": 41,
   "metadata": {},
   "outputs": [
    {
     "data": {
      "image/png": "[encoded data removed]",
      "text/plain": [
       "<Figure size 720x720 with 1 Axes>"
      ]
     },
     "metadata": {
      "needs_background": "light"
     },
     "output_type": "display_data"
    }
   ],
   "source": [
    "plt.figure(figsize=(10,10))\n",
    "plt.plot(result,\"ro-\",label=\"预测值\")\n",
    "plt.plot(y1,\"bo--\",label=\"真实值\")\n",
    "plt.title(\"KNN回归算法预测展示\")\n",
    "plt.xlabel(\"序号\")\n",
    "plt.ylabel(\"度量值\")\n",
    "plt.legend()\n",
    "plt.show()"
   ]
  },
  {
   "cell_type": "markdown",
   "metadata": {},
   "source": [
    "## 3.手写图片识别"
   ]
  },
  {
   "cell_type": "code",
   "execution_count": 2,
   "metadata": {},
   "outputs": [],
   "source": [
    "from os import listdir"
   ]
  },
  {
   "cell_type": "code",
   "execution_count": 3,
   "metadata": {},
   "outputs": [],
   "source": [
    "#将32x32的二进制图像转换为1x1024向量\n",
    "def img2vector(filename):\n",
    "    #创建1x1024零向量\n",
    "    returnVect = np.zeros((1, 1024))\n",
    "    #打开文件\n",
    "    fr = open(filename)\n",
    "    #按行读取\n",
    "    for i in range(32):\n",
    "        #读一行数据\n",
    "        lineStr = fr.readline()\n",
    "        #每一行的前32个元素依次添加到returnVect中\n",
    "        for j in range(32):\n",
    "            returnVect[0, 32*i+j] = int(lineStr[j])\n",
    "    #返回转换后的1x1024向量\n",
    "    return returnVect"
   ]
  },
  {
   "cell_type": "code",
   "execution_count": 4,
   "metadata": {},
   "outputs": [],
   "source": [
    "#返回trainingDigits目录下的文件名\n",
    "trainingFileList = listdir('F:/大三（上）/机器学习/KNN参考代码/KNN参考代码/trainingDigits')"
   ]
  },
  {
   "cell_type": "code",
   "execution_count": 5,
   "metadata": {},
   "outputs": [
    {
     "data": {
      "text/plain": [
       "3868"
      ]
     },
     "execution_count": 5,
     "metadata": {},
     "output_type": "execute_result"
    }
   ],
   "source": [
    "len(trainingFileList)"
   ]
  },
  {
   "cell_type": "code",
   "execution_count": 9,
   "metadata": {},
   "outputs": [
    {
     "ename": "ValueError",
     "evalue": "invalid literal for int() with base 10: '.'",
     "output_type": "error",
     "traceback": [
      "\u001b[1;31m---------------------------------------------------------------------------\u001b[0m",
      "\u001b[1;31mValueError\u001b[0m                                Traceback (most recent call last)",
      "\u001b[1;32m<ipython-input-9-7966f144dfad>\u001b[0m in \u001b[0;36m<module>\u001b[1;34m\u001b[0m\n\u001b[0;32m     17\u001b[0m     \u001b[0mfileNameStr\u001b[0m \u001b[1;33m=\u001b[0m \u001b[0mtrainingFileList\u001b[0m\u001b[1;33m[\u001b[0m\u001b[0mi\u001b[0m\u001b[1;33m]\u001b[0m\u001b[1;33m\u001b[0m\u001b[1;33m\u001b[0m\u001b[0m\n\u001b[0;32m     18\u001b[0m     \u001b[1;31m#获得分类的数字\u001b[0m\u001b[1;33m\u001b[0m\u001b[1;33m\u001b[0m\u001b[1;33m\u001b[0m\u001b[0m\n\u001b[1;32m---> 19\u001b[1;33m     \u001b[0mclassNumber\u001b[0m \u001b[1;33m=\u001b[0m \u001b[0mint\u001b[0m\u001b[1;33m(\u001b[0m\u001b[0mfileNameStr\u001b[0m\u001b[1;33m.\u001b[0m\u001b[0msplit\u001b[0m\u001b[1;33m(\u001b[0m\u001b[1;34m'_'\u001b[0m\u001b[1;33m)\u001b[0m\u001b[1;33m[\u001b[0m\u001b[1;36m0\u001b[0m\u001b[1;33m]\u001b[0m\u001b[1;33m)\u001b[0m\u001b[1;33m\u001b[0m\u001b[1;33m\u001b[0m\u001b[0m\n\u001b[0m\u001b[0;32m     20\u001b[0m     \u001b[1;31m#将获得的类别添加到hwLabels中\u001b[0m\u001b[1;33m\u001b[0m\u001b[1;33m\u001b[0m\u001b[1;33m\u001b[0m\u001b[0m\n\u001b[0;32m     21\u001b[0m     \u001b[0mhwLabels\u001b[0m\u001b[1;33m.\u001b[0m\u001b[0mappend\u001b[0m\u001b[1;33m(\u001b[0m\u001b[0mclassNumber\u001b[0m\u001b[1;33m)\u001b[0m\u001b[1;33m\u001b[0m\u001b[1;33m\u001b[0m\u001b[0m\n",
      "\u001b[1;31mValueError\u001b[0m: invalid literal for int() with base 10: '.'"
     ]
    }
   ],
   "source": [
    "#训练集的Labels\n",
    "hwLabels = []\n",
    "\n",
    "#返回trainingDigits目录下的文件名\n",
    "path='F:/大三（上）/机器学习/KNN参考代码/KNN参考代码/'\n",
    "trainingFileList = listdir(path+'trainingDigits')\n",
    "    \n",
    "#返回文件夹下文件的个数\n",
    "m = len(trainingFileList)\n",
    "    \n",
    "#初始化训练的Mat矩阵,训练集\n",
    "trainingMat = np.zeros((m, 1024))\n",
    "    \n",
    "#从文件名中解析出训练集的类别\n",
    "for i in range(m):\n",
    "    #获得文件的名字\n",
    "    fileNameStr = trainingFileList[i]\n",
    "    #获得分类的数字\n",
    "    classNumber = int(fileNameStr.split('_')[0])\n",
    "    #将获得的类别添加到hwLabels中\n",
    "    hwLabels.append(classNumber)\n",
    "    #将每一个文件的1x1024数据存储到trainingMat矩阵中\n",
    "    trainingMat[i,:] = img2vector(path+'trainingDigits/%s' % (fileNameStr))"
   ]
  },
  {
   "cell_type": "code",
   "execution_count": 38,
   "metadata": {},
   "outputs": [
    {
     "data": {
      "text/plain": [
       "array([[0., 0., 0., ..., 0., 0., 0.],\n",
       "       [0., 0., 0., ..., 0., 0., 0.],\n",
       "       [0., 0., 0., ..., 0., 0., 0.],\n",
       "       ...,\n",
       "       [0., 0., 0., ..., 0., 0., 0.],\n",
       "       [0., 0., 0., ..., 0., 0., 0.],\n",
       "       [0., 0., 0., ..., 0., 0., 0.]])"
      ]
     },
     "execution_count": 38,
     "metadata": {},
     "output_type": "execute_result"
    }
   ],
   "source": [
    "trainingMat[:10,]"
   ]
  },
  {
   "cell_type": "code",
   "execution_count": 39,
   "metadata": {},
   "outputs": [
    {
     "data": {
      "text/plain": [
       "(1934, 1024)"
      ]
     },
     "execution_count": 39,
     "metadata": {},
     "output_type": "execute_result"
    }
   ],
   "source": [
    "trainingMat.shape"
   ]
  },
  {
   "cell_type": "code",
   "execution_count": 40,
   "metadata": {},
   "outputs": [
    {
     "data": {
      "text/plain": [
       "[5, 4, 8, 8, 5, 4, 5, 3, 3, 3]"
      ]
     },
     "execution_count": 40,
     "metadata": {},
     "output_type": "execute_result"
    }
   ],
   "source": [
    "hwLabels[:10]"
   ]
  },
  {
   "cell_type": "code",
   "execution_count": 41,
   "metadata": {},
   "outputs": [
    {
     "name": "stdout",
     "output_type": "stream",
     "text": [
      "分类返回结果为4\t真实结果为4\n",
      "分类返回结果为4\t真实结果为4\n",
      "分类返回结果为3\t真实结果为3\n",
      "分类返回结果为9\t真实结果为9\n",
      "分类返回结果为0\t真实结果为0\n",
      "分类返回结果为0\t真实结果为0\n",
      "分类返回结果为9\t真实结果为9\n",
      "分类返回结果为7\t真实结果为7\n",
      "分类返回结果为7\t真实结果为7\n",
      "分类返回结果为0\t真实结果为0\n",
      "分类返回结果为3\t真实结果为3\n",
      "分类返回结果为2\t真实结果为2\n",
      "分类返回结果为2\t真实结果为2\n",
      "分类返回结果为5\t真实结果为5\n",
      "分类返回结果为5\t真实结果为5\n",
      "分类返回结果为5\t真实结果为5\n",
      "分类返回结果为2\t真实结果为2\n",
      "分类返回结果为6\t真实结果为6\n",
      "分类返回结果为6\t真实结果为6\n",
      "分类返回结果为9\t真实结果为9\n",
      "分类返回结果为8\t真实结果为8\n",
      "分类返回结果为1\t真实结果为8\n",
      "分类返回结果为1\t真实结果为1\n",
      "分类返回结果为8\t真实结果为8\n",
      "分类返回结果为1\t真实结果为1\n",
      "分类返回结果为3\t真实结果为8\n",
      "分类返回结果为9\t真实结果为9\n",
      "分类返回结果为6\t真实结果为6\n",
      "分类返回结果为6\t真实结果为6\n",
      "分类返回结果为5\t真实结果为5\n",
      "分类返回结果为2\t真实结果为2\n",
      "分类返回结果为5\t真实结果为5\n",
      "分类返回结果为5\t真实结果为5\n",
      "分类返回结果为2\t真实结果为2\n",
      "分类返回结果为2\t真实结果为2\n",
      "分类返回结果为9\t真实结果为9\n",
      "分类返回结果为3\t真实结果为3\n",
      "分类返回结果为0\t真实结果为0\n",
      "分类返回结果为7\t真实结果为7\n",
      "分类返回结果为7\t真实结果为7\n",
      "分类返回结果为0\t真实结果为0\n",
      "分类返回结果为9\t真实结果为9\n",
      "分类返回结果为9\t真实结果为9\n",
      "分类返回结果为0\t真实结果为0\n",
      "分类返回结果为3\t真实结果为3\n",
      "分类返回结果为4\t真实结果为4\n",
      "分类返回结果为4\t真实结果为4\n",
      "分类返回结果为4\t真实结果为4\n",
      "分类返回结果为3\t真实结果为3\n",
      "分类返回结果为4\t真实结果为4\n",
      "分类返回结果为3\t真实结果为3\n",
      "分类返回结果为1\t真实结果为1\n",
      "分类返回结果为9\t真实结果为9\n",
      "分类返回结果为0\t真实结果为0\n",
      "分类返回结果为0\t真实结果为0\n",
      "分类返回结果为7\t真实结果为7\n",
      "分类返回结果为9\t真实结果为9\n",
      "分类返回结果为7\t真实结果为7\n",
      "分类返回结果为0\t真实结果为0\n",
      "分类返回结果为7\t真实结果为7\n",
      "分类返回结果为9\t真实结果为9\n",
      "分类返回结果为0\t真实结果为0\n",
      "分类返回结果为2\t真实结果为2\n",
      "分类返回结果为5\t真实结果为5\n",
      "分类返回结果为2\t真实结果为2\n",
      "分类返回结果为5\t真实结果为5\n",
      "分类返回结果为5\t真实结果为5\n",
      "分类返回结果为2\t真实结果为2\n",
      "分类返回结果为2\t真实结果为2\n",
      "分类返回结果为6\t真实结果为6\n",
      "分类返回结果为6\t真实结果为6\n",
      "分类返回结果为1\t真实结果为1\n",
      "分类返回结果为1\t真实结果为1\n",
      "分类返回结果为8\t真实结果为8\n",
      "分类返回结果为6\t真实结果为6\n",
      "分类返回结果为9\t真实结果为9\n",
      "分类返回结果为8\t真实结果为8\n",
      "分类返回结果为8\t真实结果为8\n",
      "分类返回结果为9\t真实结果为9\n",
      "分类返回结果为1\t真实结果为1\n",
      "分类返回结果为6\t真实结果为6\n",
      "分类返回结果为8\t真实结果为8\n",
      "分类返回结果为6\t真实结果为6\n",
      "分类返回结果为1\t真实结果为1\n",
      "分类返回结果为6\t真实结果为6\n",
      "分类返回结果为2\t真实结果为2\n",
      "分类返回结果为5\t真实结果为5\n",
      "分类返回结果为2\t真实结果为2\n",
      "分类返回结果为5\t真实结果为5\n",
      "分类返回结果为2\t真实结果为2\n",
      "分类返回结果为2\t真实结果为2\n",
      "分类返回结果为5\t真实结果为5\n",
      "分类返回结果为9\t真实结果为9\n",
      "分类返回结果为7\t真实结果为7\n",
      "分类返回结果为7\t真实结果为7\n",
      "分类返回结果为0\t真实结果为0\n",
      "分类返回结果为0\t真实结果为0\n",
      "分类返回结果为9\t真实结果为9\n",
      "分类返回结果为7\t真实结果为7\n",
      "分类返回结果为7\t真实结果为9\n",
      "分类返回结果为0\t真实结果为0\n",
      "分类返回结果为1\t真实结果为1\n",
      "分类返回结果为3\t真实结果为3\n",
      "分类返回结果为4\t真实结果为4\n",
      "分类返回结果为4\t真实结果为4\n",
      "分类返回结果为3\t真实结果为3\n",
      "分类返回结果为9\t真实结果为3\n",
      "分类返回结果为4\t真实结果为4\n",
      "分类返回结果为4\t真实结果为4\n",
      "分类返回结果为4\t真实结果为4\n",
      "分类返回结果为3\t真实结果为3\n",
      "分类返回结果为7\t真实结果为7\n",
      "分类返回结果为9\t真实结果为9\n",
      "分类返回结果为7\t真实结果为7\n",
      "分类返回结果为0\t真实结果为0\n",
      "分类返回结果为0\t真实结果为0\n",
      "分类返回结果为7\t真实结果为7\n",
      "分类返回结果为9\t真实结果为9\n",
      "分类返回结果为9\t真实结果为9\n",
      "分类返回结果为0\t真实结果为0\n",
      "分类返回结果为0\t真实结果为0\n",
      "分类返回结果为5\t真实结果为5\n",
      "分类返回结果为2\t真实结果为2\n",
      "分类返回结果为5\t真实结果为5\n",
      "分类返回结果为2\t真实结果为2\n",
      "分类返回结果为2\t真实结果为2\n",
      "分类返回结果为5\t真实结果为5\n",
      "分类返回结果为5\t真实结果为5\n",
      "分类返回结果为2\t真实结果为2\n",
      "分类返回结果为8\t真实结果为8\n",
      "分类返回结果为1\t真实结果为1\n",
      "分类返回结果为9\t真实结果为9\n",
      "分类返回结果为8\t真实结果为8\n",
      "分类返回结果为6\t真实结果为6\n",
      "分类返回结果为1\t真实结果为1\n",
      "分类返回结果为8\t真实结果为8\n",
      "分类返回结果为6\t真实结果为6\n",
      "分类返回结果为6\t真实结果为6\n",
      "分类返回结果为8\t真实结果为8\n",
      "分类返回结果为6\t真实结果为6\n",
      "分类返回结果为1\t真实结果为1\n",
      "分类返回结果为8\t真实结果为8\n",
      "分类返回结果为9\t真实结果为9\n",
      "分类返回结果为8\t真实结果为8\n",
      "分类返回结果为1\t真实结果为1\n",
      "分类返回结果为2\t真实结果为2\n",
      "分类返回结果为5\t真实结果为5\n",
      "分类返回结果为2\t真实结果为2\n",
      "分类返回结果为5\t真实结果为5\n",
      "分类返回结果为2\t真实结果为2\n",
      "分类返回结果为5\t真实结果为5\n",
      "分类返回结果为5\t真实结果为5\n",
      "分类返回结果为2\t真实结果为2\n",
      "分类返回结果为0\t真实结果为0\n",
      "分类返回结果为9\t真实结果为9\n",
      "分类返回结果为0\t真实结果为0\n",
      "分类返回结果为0\t真实结果为0\n",
      "分类返回结果为9\t真实结果为9\n",
      "分类返回结果为7\t真实结果为7\n",
      "分类返回结果为7\t真实结果为7\n",
      "分类返回结果为0\t真实结果为0\n",
      "分类返回结果为9\t真实结果为9\n",
      "分类返回结果为7\t真实结果为7\n",
      "分类返回结果为4\t真实结果为4\n",
      "分类返回结果为3\t真实结果为3\n",
      "分类返回结果为4\t真实结果为4\n",
      "分类返回结果为3\t真实结果为3\n",
      "分类返回结果为4\t真实结果为4\n",
      "分类返回结果为3\t真实结果为3\n",
      "分类返回结果为4\t真实结果为4\n",
      "分类返回结果为4\t真实结果为4\n",
      "分类返回结果为7\t真实结果为7\n",
      "分类返回结果为7\t真实结果为7\n",
      "分类返回结果为4\t真实结果为4\n",
      "分类返回结果为0\t真实结果为0\n",
      "分类返回结果为9\t真实结果为9\n",
      "分类返回结果为9\t真实结果为9\n",
      "分类返回结果为0\t真实结果为0\n",
      "分类返回结果为7\t真实结果为7\n",
      "分类返回结果为0\t真实结果为0\n",
      "分类返回结果为5\t真实结果为5\n",
      "分类返回结果为5\t真实结果为5\n",
      "分类返回结果为2\t真实结果为2\n",
      "分类返回结果为2\t真实结果为2\n",
      "分类返回结果为5\t真实结果为5\n",
      "分类返回结果为2\t真实结果为2\n",
      "分类返回结果为2\t真实结果为2\n",
      "分类返回结果为9\t真实结果为9\n",
      "分类返回结果为8\t真实结果为8\n",
      "分类返回结果为1\t真实结果为1\n",
      "分类返回结果为8\t真实结果为8\n",
      "分类返回结果为6\t真实结果为6\n",
      "分类返回结果为6\t真实结果为6\n",
      "分类返回结果为7\t真实结果为7\n",
      "分类返回结果为7\t真实结果为7\n",
      "分类返回结果为6\t真实结果为6\n",
      "分类返回结果为6\t真实结果为6\n",
      "分类返回结果为1\t真实结果为1\n",
      "分类返回结果为8\t真实结果为8\n",
      "分类返回结果为8\t真实结果为8\n",
      "分类返回结果为9\t真实结果为9\n",
      "分类返回结果为2\t真实结果为2\n",
      "分类返回结果为5\t真实结果为5\n",
      "分类返回结果为2\t真实结果为2\n",
      "分类返回结果为2\t真实结果为2\n",
      "分类返回结果为2\t真实结果为2\n",
      "分类返回结果为5\t真实结果为5\n",
      "分类返回结果为5\t真实结果为5\n",
      "分类返回结果为7\t真实结果为7\n",
      "分类返回结果为0\t真实结果为0\n",
      "分类返回结果为9\t真实结果为9\n",
      "分类返回结果为0\t真实结果为0\n",
      "分类返回结果为0\t真实结果为0\n",
      "分类返回结果为9\t真实结果为9\n",
      "分类返回结果为7\t真实结果为7\n",
      "分类返回结果为4\t真实结果为4\n",
      "分类返回结果为7\t真实结果为7\n",
      "分类返回结果为4\t真实结果为4\n",
      "分类返回结果为4\t真实结果为4\n",
      "分类返回结果为3\t真实结果为3\n",
      "分类返回结果为4\t真实结果为4\n",
      "分类返回结果为4\t真实结果为4\n",
      "分类返回结果为3\t真实结果为3\n",
      "分类返回结果为3\t真实结果为3\n",
      "分类返回结果为4\t真实结果为4\n",
      "分类返回结果为8\t真实结果为8\n",
      "分类返回结果为3\t真实结果为3\n",
      "分类返回结果为4\t真实结果为4\n",
      "分类返回结果为4\t真实结果为4\n",
      "分类返回结果为0\t真实结果为0\n",
      "分类返回结果为7\t真实结果为7\n",
      "分类返回结果为9\t真实结果为9\n",
      "分类返回结果为0\t真实结果为0\n",
      "分类返回结果为9\t真实结果为9\n",
      "分类返回结果为7\t真实结果为7\n",
      "分类返回结果为0\t真实结果为0\n",
      "分类返回结果为2\t真实结果为2\n",
      "分类返回结果为2\t真实结果为2\n",
      "分类返回结果为5\t真实结果为5\n",
      "分类返回结果为5\t真实结果为5\n",
      "分类返回结果为6\t真实结果为6\n",
      "分类返回结果为1\t真实结果为1\n",
      "分类返回结果为8\t真实结果为8\n",
      "分类返回结果为6\t真实结果为6\n",
      "分类返回结果为8\t真实结果为8\n",
      "分类返回结果为1\t真实结果为1\n",
      "分类返回结果为1\t真实结果为1\n",
      "分类返回结果为8\t真实结果为8\n",
      "分类返回结果为6\t真实结果为6\n",
      "分类返回结果为8\t真实结果为8\n",
      "分类返回结果为0\t真实结果为0\n",
      "分类返回结果为0\t真实结果为0\n",
      "分类返回结果为8\t真实结果为8\n",
      "分类返回结果为6\t真实结果为6\n",
      "分类返回结果为1\t真实结果为1\n",
      "分类返回结果为6\t真实结果为6\n",
      "分类返回结果为8\t真实结果为8\n",
      "分类返回结果为8\t真实结果为8\n",
      "分类返回结果为1\t真实结果为1\n",
      "分类返回结果为6\t真实结果为6\n",
      "分类返回结果为8\t真实结果为8\n",
      "分类返回结果为6\t真实结果为6\n",
      "分类返回结果为1\t真实结果为1\n",
      "分类返回结果为5\t真实结果为5\n",
      "分类返回结果为2\t真实结果为2\n",
      "分类返回结果为5\t真实结果为5\n",
      "分类返回结果为2\t真实结果为2\n",
      "分类返回结果为7\t真实结果为7\n",
      "分类返回结果为0\t真实结果为0\n",
      "分类返回结果为9\t真实结果为9\n",
      "分类返回结果为0\t真实结果为0\n",
      "分类返回结果为0\t真实结果为0\n",
      "分类返回结果为1\t真实结果为9\n",
      "分类返回结果为7\t真实结果为7\n",
      "分类返回结果为4\t真实结果为4\n",
      "分类返回结果为4\t真实结果为4\n",
      "分类返回结果为3\t真实结果为3\n",
      "分类返回结果为8\t真实结果为8\n",
      "分类返回结果为3\t真实结果为3\n",
      "分类返回结果为4\t真实结果为4\n",
      "分类返回结果为4\t真实结果为4\n",
      "分类返回结果为3\t真实结果为3\n",
      "分类返回结果为4\t真实结果为4\n",
      "分类返回结果为4\t真实结果为4\n",
      "分类返回结果为4\t真实结果为4\n",
      "分类返回结果为3\t真实结果为3\n",
      "分类返回结果为8\t真实结果为8\n",
      "分类返回结果为3\t真实结果为3\n",
      "分类返回结果为4\t真实结果为4\n",
      "分类返回结果为4\t真实结果为4\n",
      "分类返回结果为0\t真实结果为0\n",
      "分类返回结果为9\t真实结果为9\n",
      "分类返回结果为0\t真实结果为0\n",
      "分类返回结果为7\t真实结果为7\n",
      "分类返回结果为2\t真实结果为2\n",
      "分类返回结果为2\t真实结果为2\n",
      "分类返回结果为5\t真实结果为5\n",
      "分类返回结果为2\t真实结果为2\n",
      "分类返回结果为6\t真实结果为6\n",
      "分类返回结果为6\t真实结果为6\n",
      "分类返回结果为8\t真实结果为8\n",
      "分类返回结果为1\t真实结果为1\n",
      "分类返回结果为1\t真实结果为1\n",
      "分类返回结果为8\t真实结果为8\n",
      "分类返回结果为6\t真实结果为6\n",
      "分类返回结果为8\t真实结果为8\n",
      "分类返回结果为8\t真实结果为8\n",
      "分类返回结果为6\t真实结果为6\n",
      "分类返回结果为1\t真实结果为1\n",
      "分类返回结果为8\t真实结果为8\n",
      "分类返回结果为8\t真实结果为8\n",
      "分类返回结果为1\t真实结果为1\n",
      "分类返回结果为6\t真实结果为6\n",
      "分类返回结果为6\t真实结果为6\n",
      "分类返回结果为2\t真实结果为2\n",
      "分类返回结果为5\t真实结果为5\n",
      "分类返回结果为2\t真实结果为2\n",
      "分类返回结果为2\t真实结果为2\n",
      "分类返回结果为7\t真实结果为7\n",
      "分类返回结果为9\t真实结果为9\n",
      "分类返回结果为0\t真实结果为0\n",
      "分类返回结果为0\t真实结果为0\n",
      "分类返回结果为4\t真实结果为4\n",
      "分类返回结果为4\t真实结果为4\n",
      "分类返回结果为3\t真实结果为3\n",
      "分类返回结果为8\t真实结果为8\n",
      "分类返回结果为3\t真实结果为3\n",
      "分类返回结果为4\t真实结果为4\n",
      "分类返回结果为4\t真实结果为4\n",
      "分类返回结果为3\t真实结果为3\n",
      "分类返回结果为8\t真实结果为8\n",
      "分类返回结果为3\t真实结果为3\n",
      "分类返回结果为4\t真实结果为4\n",
      "分类返回结果为4\t真实结果为4\n",
      "分类返回结果为6\t真实结果为6\n",
      "分类返回结果为4\t真实结果为4\n",
      "分类返回结果为4\t真实结果为4\n",
      "分类返回结果为7\t真实结果为7\n",
      "分类返回结果为0\t真实结果为0\n",
      "分类返回结果为0\t真实结果为0\n",
      "分类返回结果为9\t真实结果为9\n",
      "分类返回结果为5\t真实结果为5\n",
      "分类返回结果为2\t真实结果为2\n",
      "分类返回结果为2\t真实结果为2\n",
      "分类返回结果为1\t真实结果为1\n",
      "分类返回结果为8\t真实结果为8\n",
      "分类返回结果为8\t真实结果为8\n",
      "分类返回结果为1\t真实结果为1\n",
      "分类返回结果为6\t真实结果为6\n",
      "分类返回结果为6\t真实结果为6\n",
      "分类返回结果为8\t真实结果为8\n",
      "分类返回结果为8\t真实结果为8\n",
      "分类返回结果为1\t真实结果为1\n",
      "分类返回结果为6\t真实结果为6\n",
      "分类返回结果为1\t真实结果为1\n",
      "分类返回结果为6\t真实结果为6\n",
      "分类返回结果为8\t真实结果为8\n",
      "分类返回结果为6\t真实结果为6\n",
      "分类返回结果为6\t真实结果为6\n",
      "分类返回结果为8\t真实结果为8\n",
      "分类返回结果为1\t真实结果为1\n",
      "分类返回结果为1\t真实结果为1\n",
      "分类返回结果为8\t真实结果为8\n",
      "分类返回结果为2\t真实结果为2\n",
      "分类返回结果为2\t真实结果为2\n",
      "分类返回结果为5\t真实结果为5\n",
      "分类返回结果为0\t真实结果为0\n",
      "分类返回结果为9\t真实结果为9\n",
      "分类返回结果为0\t真实结果为0\n",
      "分类返回结果为7\t真实结果为7\n",
      "分类返回结果为4\t真实结果为4\n",
      "分类返回结果为4\t真实结果为4\n",
      "分类返回结果为6\t真实结果为6\n",
      "分类返回结果为4\t真实结果为4\n",
      "分类返回结果为4\t真实结果为4\n",
      "分类返回结果为3\t真实结果为3\n",
      "分类返回结果为8\t真实结果为8\n",
      "分类返回结果为3\t真实结果为3\n",
      "分类返回结果为3\t真实结果为3\n",
      "分类返回结果为8\t真实结果为8\n",
      "分类返回结果为3\t真实结果为3\n",
      "分类返回结果为4\t真实结果为4\n",
      "分类返回结果为4\t真实结果为4\n",
      "分类返回结果为3\t真实结果为3\n",
      "分类返回结果为4\t真实结果为4\n",
      "分类返回结果为4\t真实结果为4\n",
      "分类返回结果为4\t真实结果为4\n",
      "分类返回结果为7\t真实结果为7\n",
      "分类返回结果为9\t真实结果为9\n",
      "分类返回结果为9\t真实结果为9\n",
      "分类返回结果为0\t真实结果为0\n",
      "分类返回结果为0\t真实结果为0\n",
      "分类返回结果为7\t真实结果为7\n",
      "分类返回结果为4\t真实结果为4\n",
      "分类返回结果为5\t真实结果为5\n",
      "分类返回结果为2\t真实结果为2\n",
      "分类返回结果为2\t真实结果为2\n",
      "分类返回结果为5\t真实结果为5\n",
      "分类返回结果为2\t真实结果为2\n",
      "分类返回结果为1\t真实结果为1\n",
      "分类返回结果为8\t真实结果为8\n",
      "分类返回结果为6\t真实结果为6\n",
      "分类返回结果为8\t真实结果为8\n",
      "分类返回结果为1\t真实结果为1\n",
      "分类返回结果为8\t真实结果为8\n",
      "分类返回结果为6\t真实结果为6\n",
      "分类返回结果为6\t真实结果为6\n",
      "分类返回结果为1\t真实结果为1\n",
      "分类返回结果为8\t真实结果为8\n",
      "分类返回结果为6\t真实结果为6\n",
      "分类返回结果为6\t真实结果为6\n",
      "分类返回结果为8\t真实结果为8\n",
      "分类返回结果为6\t真实结果为6\n",
      "分类返回结果为1\t真实结果为1\n",
      "分类返回结果为6\t真实结果为6\n",
      "分类返回结果为8\t真实结果为8\n",
      "分类返回结果为8\t真实结果为8\n",
      "分类返回结果为1\t真实结果为1\n",
      "分类返回结果为1\t真实结果为1\n",
      "分类返回结果为6\t真实结果为6\n",
      "分类返回结果为1\t真实结果为8\n",
      "分类返回结果为2\t真实结果为2\n",
      "分类返回结果为2\t真实结果为2\n",
      "分类返回结果为5\t真实结果为5\n",
      "分类返回结果为5\t真实结果为5\n",
      "分类返回结果为2\t真实结果为2\n",
      "分类返回结果为4\t真实结果为4\n",
      "分类返回结果为0\t真实结果为0\n",
      "分类返回结果为7\t真实结果为7\n",
      "分类返回结果为9\t真实结果为9\n",
      "分类返回结果为0\t真实结果为0\n",
      "分类返回结果为9\t真实结果为9\n",
      "分类返回结果为7\t真实结果为7\n",
      "分类返回结果为4\t真实结果为4\n",
      "分类返回结果为4\t真实结果为4\n",
      "分类返回结果为4\t真实结果为4\n",
      "分类返回结果为4\t真实结果为4\n",
      "分类返回结果为3\t真实结果为3\n",
      "分类返回结果为3\t真实结果为3\n",
      "分类返回结果为8\t真实结果为8\n",
      "分类返回结果为4\t真实结果为4\n",
      "分类返回结果为3\t真实结果为3\n",
      "分类返回结果为8\t真实结果为8\n",
      "分类返回结果为4\t真实结果为4\n",
      "分类返回结果为4\t真实结果为4\n",
      "分类返回结果为3\t真实结果为3\n",
      "分类返回结果为3\t真实结果为3\n",
      "分类返回结果为4\t真实结果为4\n",
      "分类返回结果为3\t真实结果为3\n",
      "分类返回结果为6\t真实结果为6\n",
      "分类返回结果为3\t真实结果为3\n",
      "分类返回结果为0\t真实结果为0\n",
      "分类返回结果为7\t真实结果为7\n",
      "分类返回结果为9\t真实结果为9\n",
      "分类返回结果为9\t真实结果为9\n",
      "分类返回结果为7\t真实结果为7\n",
      "分类返回结果为7\t真实结果为7\n",
      "分类返回结果为0\t真实结果为0\n",
      "分类返回结果为4\t真实结果为4\n",
      "分类返回结果为2\t真实结果为2\n",
      "分类返回结果为5\t真实结果为5\n",
      "分类返回结果为2\t真实结果为2\n",
      "分类返回结果为5\t真实结果为5\n",
      "分类返回结果为2\t真实结果为2\n",
      "分类返回结果为6\t真实结果为6\n",
      "分类返回结果为1\t真实结果为1\n",
      "分类返回结果为8\t真实结果为8\n",
      "分类返回结果为6\t真实结果为6\n",
      "分类返回结果为8\t真实结果为8\n",
      "分类返回结果为1\t真实结果为1\n",
      "分类返回结果为1\t真实结果为1\n",
      "分类返回结果为8\t真实结果为8\n",
      "分类返回结果为6\t真实结果为6\n",
      "分类返回结果为0\t真实结果为0\n",
      "分类返回结果为1\t真实结果为1\n",
      "分类返回结果为1\t真实结果为1\n",
      "分类返回结果为1\t真实结果为1\n",
      "分类返回结果为7\t真实结果为1\n",
      "分类返回结果为0\t真实结果为0\n",
      "分类返回结果为1\t真实结果为1\n",
      "分类返回结果为6\t真实结果为6\n",
      "分类返回结果为8\t真实结果为8\n",
      "分类返回结果为8\t真实结果为8\n",
      "分类返回结果为1\t真实结果为1\n",
      "分类返回结果为6\t真实结果为6\n",
      "分类返回结果为8\t真实结果为8\n",
      "分类返回结果为6\t真实结果为6\n",
      "分类返回结果为1\t真实结果为1\n",
      "分类返回结果为2\t真实结果为2\n",
      "分类返回结果为5\t真实结果为5\n",
      "分类返回结果为5\t真实结果为5\n",
      "分类返回结果为2\t真实结果为2\n",
      "分类返回结果为2\t真实结果为2\n",
      "分类返回结果为4\t真实结果为4\n",
      "分类返回结果为7\t真实结果为7\n",
      "分类返回结果为0\t真实结果为0\n",
      "分类返回结果为7\t真实结果为7\n",
      "分类返回结果为9\t真实结果为9\n",
      "分类返回结果为0\t真实结果为0\n",
      "分类返回结果为9\t真实结果为9\n",
      "分类返回结果为7\t真实结果为7\n",
      "分类返回结果为3\t真实结果为3\n",
      "分类返回结果为6\t真实结果为6\n",
      "分类返回结果为3\t真实结果为3\n",
      "分类返回结果为3\t真实结果为3\n",
      "分类返回结果为4\t真实结果为4\n",
      "分类返回结果为4\t真实结果为4\n",
      "分类返回结果为3\t真实结果为3\n",
      "分类返回结果为8\t真实结果为8\n",
      "分类返回结果为4\t真实结果为4\n",
      "分类返回结果为4\t真实结果为4\n",
      "分类返回结果为4\t真实结果为4\n",
      "分类返回结果为3\t真实结果为3\n",
      "分类返回结果为3\t真实结果为3\n",
      "分类返回结果为6\t真实结果为6\n",
      "分类返回结果为4\t真实结果为4\n",
      "分类返回结果为3\t真实结果为3\n",
      "分类返回结果为9\t真实结果为9\n",
      "分类返回结果为9\t真实结果为9\n",
      "分类返回结果为0\t真实结果为0\n",
      "分类返回结果为7\t真实结果为7\n",
      "分类返回结果为7\t真实结果为7\n",
      "分类返回结果为4\t真实结果为4\n",
      "分类返回结果为2\t真实结果为2\n",
      "分类返回结果为5\t真实结果为5\n",
      "分类返回结果为5\t真实结果为5\n",
      "分类返回结果为2\t真实结果为2\n",
      "分类返回结果为6\t真实结果为6\n",
      "分类返回结果为6\t真实结果为6\n",
      "分类返回结果为8\t真实结果为8\n",
      "分类返回结果为1\t真实结果为1\n",
      "分类返回结果为1\t真实结果为1\n",
      "分类返回结果为8\t真实结果为8\n",
      "分类返回结果为8\t真实结果为8\n",
      "分类返回结果为0\t真实结果为0\n",
      "分类返回结果为1\t真实结果为1\n",
      "分类返回结果为1\t真实结果为1\n",
      "分类返回结果为1\t真实结果为1\n",
      "分类返回结果为1\t真实结果为1\n",
      "分类返回结果为0\t真实结果为0\n",
      "分类返回结果为8\t真实结果为8\n",
      "分类返回结果为1\t真实结果为1\n",
      "分类返回结果为8\t真实结果为8\n",
      "分类返回结果为8\t真实结果为8\n",
      "分类返回结果为1\t真实结果为1\n",
      "分类返回结果为6\t真实结果为6\n",
      "分类返回结果为6\t真实结果为6\n",
      "分类返回结果为2\t真实结果为2\n",
      "分类返回结果为5\t真实结果为5\n",
      "分类返回结果为5\t真实结果为5\n",
      "分类返回结果为2\t真实结果为2\n",
      "分类返回结果为4\t真实结果为4\n",
      "分类返回结果为7\t真实结果为7\n",
      "分类返回结果为7\t真实结果为7\n",
      "分类返回结果为9\t真实结果为9\n",
      "分类返回结果为0\t真实结果为0\n",
      "分类返回结果为9\t真实结果为9\n",
      "分类返回结果为4\t真实结果为4\n",
      "分类返回结果为3\t真实结果为3\n",
      "分类返回结果为6\t真实结果为6\n",
      "分类返回结果为3\t真实结果为3\n",
      "分类返回结果为3\t真实结果为3\n",
      "分类返回结果为4\t真实结果为4\n",
      "分类返回结果为4\t真实结果为4\n",
      "分类返回结果为3\t真实结果为3\n",
      "分类返回结果为3\t真实结果为3\n",
      "分类返回结果为4\t真实结果为4\n",
      "分类返回结果为4\t真实结果为4\n",
      "分类返回结果为4\t真实结果为4\n",
      "分类返回结果为3\t真实结果为3\n",
      "分类返回结果为6\t真实结果为6\n",
      "分类返回结果为7\t真实结果为7\n",
      "分类返回结果为7\t真实结果为7\n",
      "分类返回结果为9\t真实结果为9\n",
      "分类返回结果为0\t真实结果为0\n",
      "分类返回结果为9\t真实结果为9\n",
      "分类返回结果为4\t真实结果为4\n",
      "分类返回结果为5\t真实结果为5\n",
      "分类返回结果为5\t真实结果为5\n",
      "分类返回结果为2\t真实结果为2\n",
      "分类返回结果为2\t真实结果为2\n",
      "分类返回结果为1\t真实结果为1\n",
      "分类返回结果为8\t真实结果为8\n",
      "分类返回结果为8\t真实结果为8\n",
      "分类返回结果为1\t真实结果为1\n",
      "分类返回结果为6\t真实结果为6\n",
      "分类返回结果为6\t真实结果为6\n",
      "分类返回结果为1\t真实结果为1\n",
      "分类返回结果为1\t真实结果为1\n",
      "分类返回结果为0\t真实结果为0\n",
      "分类返回结果为0\t真实结果为0\n",
      "分类返回结果为1\t真实结果为1\n",
      "分类返回结果为1\t真实结果为1\n",
      "分类返回结果为6\t真实结果为6\n",
      "分类返回结果为6\t真实结果为6\n",
      "分类返回结果为8\t真实结果为8\n",
      "分类返回结果为1\t真实结果为1\n",
      "分类返回结果为1\t真实结果为1\n",
      "分类返回结果为8\t真实结果为8\n",
      "分类返回结果为2\t真实结果为2\n",
      "分类返回结果为2\t真实结果为2\n",
      "分类返回结果为5\t真实结果为5\n",
      "分类返回结果为5\t真实结果为5\n",
      "分类返回结果为4\t真实结果为4\n",
      "分类返回结果为0\t真实结果为0\n",
      "分类返回结果为9\t真实结果为9\n",
      "分类返回结果为9\t真实结果为9\n",
      "分类返回结果为7\t真实结果为7\n",
      "分类返回结果为7\t真实结果为7\n",
      "分类返回结果为6\t真实结果为6\n",
      "分类返回结果为4\t真实结果为4\n",
      "分类返回结果为4\t真实结果为4\n",
      "分类返回结果为4\t真实结果为4\n",
      "分类返回结果为3\t真实结果为3\n",
      "分类返回结果为3\t真实结果为3\n",
      "分类返回结果为3\t真实结果为3\n",
      "分类返回结果为3\t真实结果为3\n",
      "分类返回结果为4\t真实结果为4\n",
      "分类返回结果为4\t真实结果为4\n",
      "分类返回结果为3\t真实结果为3\n",
      "分类返回结果为4\t真实结果为4\n",
      "分类返回结果为6\t真实结果为6\n",
      "分类返回结果为7\t真实结果为7\n",
      "分类返回结果为0\t真实结果为0\n",
      "分类返回结果为7\t真实结果为7\n",
      "分类返回结果为9\t真实结果为9\n",
      "分类返回结果为9\t真实结果为9\n",
      "分类返回结果为0\t真实结果为0\n",
      "分类返回结果为9\t真实结果为9\n",
      "分类返回结果为4\t真实结果为4\n",
      "分类返回结果为5\t真实结果为5\n",
      "分类返回结果为5\t真实结果为5\n",
      "分类返回结果为2\t真实结果为2\n",
      "分类返回结果为2\t真实结果为2\n",
      "分类返回结果为5\t真实结果为5\n",
      "分类返回结果为2\t真实结果为2\n",
      "分类返回结果为1\t真实结果为1\n",
      "分类返回结果为8\t真实结果为8\n",
      "分类返回结果为6\t真实结果为6\n",
      "分类返回结果为8\t真实结果为8\n",
      "分类返回结果为1\t真实结果为1\n",
      "分类返回结果为8\t真实结果为8\n",
      "分类返回结果为6\t真实结果为6\n",
      "分类返回结果为6\t真实结果为6\n",
      "分类返回结果为1\t真实结果为1\n",
      "分类返回结果为1\t真实结果为1\n",
      "分类返回结果为1\t真实结果为1\n",
      "分类返回结果为0\t真实结果为0\n",
      "分类返回结果为0\t真实结果为0\n",
      "分类返回结果为1\t真实结果为1\n",
      "分类返回结果为6\t真实结果为6\n",
      "分类返回结果为1\t真实结果为1\n",
      "分类返回结果为6\t真实结果为6\n",
      "分类返回结果为8\t真实结果为8\n",
      "分类返回结果为8\t真实结果为8\n",
      "分类返回结果为1\t真实结果为1\n",
      "分类返回结果为1\t真实结果为1\n",
      "分类返回结果为6\t真实结果为6\n",
      "分类返回结果为8\t真实结果为8\n",
      "分类返回结果为2\t真实结果为2\n",
      "分类返回结果为2\t真实结果为2\n",
      "分类返回结果为5\t真实结果为5\n",
      "分类返回结果为5\t真实结果为5\n",
      "分类返回结果为2\t真实结果为2\n",
      "分类返回结果为5\t真实结果为5\n",
      "分类返回结果为4\t真实结果为4\n",
      "分类返回结果为9\t真实结果为9\n",
      "分类返回结果为9\t真实结果为9\n",
      "分类返回结果为0\t真实结果为0\n",
      "分类返回结果为9\t真实结果为9\n",
      "分类返回结果为7\t真实结果为7\n",
      "分类返回结果为7\t真实结果为7\n",
      "分类返回结果为0\t真实结果为0\n",
      "分类返回结果为6\t真实结果为6\n",
      "分类返回结果为4\t真实结果为4\n",
      "分类返回结果为4\t真实结果为4\n",
      "分类返回结果为3\t真实结果为3\n",
      "分类返回结果为3\t真实结果为3\n",
      "分类返回结果为4\t真实结果为4\n",
      "分类返回结果为3\t真实结果为3\n",
      "分类返回结果为4\t真实结果为4\n",
      "分类返回结果为5\t真实结果为5\n",
      "分类返回结果为3\t真实结果为3\n",
      "分类返回结果为3\t真实结果为3\n",
      "分类返回结果为1\t真实结果为1\n",
      "分类返回结果为9\t真实结果为9\n",
      "分类返回结果为4\t真实结果为4\n",
      "分类返回结果为0\t真实结果为0\n",
      "分类返回结果为0\t真实结果为0\n",
      "分类返回结果为4\t真实结果为4\n",
      "分类返回结果为9\t真实结果为9\n",
      "分类返回结果为7\t真实结果为7\n",
      "分类返回结果为7\t真实结果为7\n",
      "分类返回结果为3\t真实结果为3\n",
      "分类返回结果为9\t真实结果为9\n",
      "分类返回结果为7\t真实结果为7\n",
      "分类返回结果为7\t真实结果为7\n",
      "分类返回结果为2\t真实结果为2\n",
      "分类返回结果为2\t真实结果为2\n",
      "分类返回结果为6\t真实结果为5\n",
      "分类返回结果为5\t真实结果为5\n",
      "分类返回结果为5\t真实结果为5\n",
      "分类返回结果为2\t真实结果为2\n",
      "分类返回结果为5\t真实结果为5\n",
      "分类返回结果为5\t真实结果为5\n",
      "分类返回结果为6\t真实结果为6\n",
      "分类返回结果为1\t真实结果为1\n",
      "分类返回结果为8\t真实结果为8\n",
      "分类返回结果为1\t真实结果为1\n",
      "分类返回结果为7\t真实结果为7\n",
      "分类返回结果为7\t真实结果为7\n",
      "分类返回结果为8\t真实结果为8\n",
      "分类返回结果为1\t真实结果为1\n",
      "分类返回结果为1\t真实结果为1\n",
      "分类返回结果为6\t真实结果为6\n",
      "分类返回结果为5\t真实结果为5\n",
      "分类返回结果为2\t真实结果为2\n",
      "分类返回结果为5\t真实结果为5\n",
      "分类返回结果为5\t真实结果为5\n",
      "分类返回结果为5\t真实结果为5\n",
      "分类返回结果为3\t真实结果为5\n",
      "分类返回结果为2\t真实结果为2\n",
      "分类返回结果为2\t真实结果为2\n",
      "分类返回结果为7\t真实结果为7\n",
      "分类返回结果为7\t真实结果为7\n",
      "分类返回结果为3\t真实结果为3\n",
      "分类返回结果为9\t真实结果为9\n",
      "分类返回结果为7\t真实结果为7\n",
      "分类返回结果为7\t真实结果为7\n",
      "分类返回结果为4\t真实结果为4\n",
      "分类返回结果为0\t真实结果为0\n",
      "分类返回结果为9\t真实结果为9\n",
      "分类返回结果为9\t真实结果为9\n",
      "分类返回结果为0\t真实结果为0\n",
      "分类返回结果为4\t真实结果为4\n",
      "分类返回结果为1\t真实结果为1\n",
      "分类返回结果为3\t真实结果为3\n",
      "分类返回结果为3\t真实结果为3\n",
      "分类返回结果为5\t真实结果为5\n",
      "分类返回结果为4\t真实结果为4\n",
      "分类返回结果为5\t真实结果为5\n",
      "分类返回结果为4\t真实结果为4\n",
      "分类返回结果为3\t真实结果为3\n",
      "分类返回结果为3\t真实结果为3\n",
      "分类返回结果为4\t真实结果为4\n",
      "分类返回结果为1\t真实结果为1\n",
      "分类返回结果为9\t真实结果为9\n",
      "分类返回结果为0\t真实结果为0\n",
      "分类返回结果为4\t真实结果为4\n",
      "分类返回结果为4\t真实结果为4\n",
      "分类返回结果为0\t真实结果为0\n",
      "分类返回结果为7\t真实结果为7\n",
      "分类返回结果为9\t真实结果为9\n",
      "分类返回结果为7\t真实结果为7\n",
      "分类返回结果为0\t真实结果为0\n",
      "分类返回结果为7\t真实结果为7\n",
      "分类返回结果为9\t真实结果为9\n",
      "分类返回结果为9\t真实结果为9\n",
      "分类返回结果为3\t真实结果为3\n",
      "分类返回结果为7\t真实结果为7\n",
      "分类返回结果为7\t真实结果为7\n",
      "分类返回结果为2\t真实结果为2\n",
      "分类返回结果为5\t真实结果为5\n",
      "分类返回结果为2\t真实结果为2\n",
      "分类返回结果为5\t真实结果为5\n",
      "分类返回结果为5\t真实结果为5\n",
      "分类返回结果为2\t真实结果为2\n",
      "分类返回结果为5\t真实结果为5\n",
      "分类返回结果为5\t真实结果为5\n",
      "分类返回结果为5\t真实结果为5\n",
      "分类返回结果为8\t真实结果为8\n",
      "分类返回结果为9\t真实结果为9\n",
      "分类返回结果为6\t真实结果为6\n",
      "分类返回结果为1\t真实结果为1\n",
      "分类返回结果为1\t真实结果为1\n",
      "分类返回结果为8\t真实结果为8\n",
      "分类返回结果为6\t真实结果为6\n",
      "分类返回结果为1\t真实结果为1\n",
      "分类返回结果为7\t真实结果为7\n",
      "分类返回结果为7\t真实结果为7\n",
      "分类返回结果为1\t真实结果为1\n",
      "分类返回结果为1\t真实结果为1\n",
      "分类返回结果为6\t真实结果为6\n",
      "分类返回结果为8\t真实结果为8\n",
      "分类返回结果为6\t真实结果为6\n",
      "分类返回结果为1\t真实结果为1\n",
      "分类返回结果为9\t真实结果为9\n",
      "分类返回结果为8\t真实结果为8\n",
      "分类返回结果为5\t真实结果为5\n",
      "分类返回结果为5\t真实结果为5\n",
      "分类返回结果为5\t真实结果为5\n",
      "分类返回结果为5\t真实结果为5\n",
      "分类返回结果为2\t真实结果为2\n",
      "分类返回结果为5\t真实结果为5\n",
      "分类返回结果为2\t真实结果为2\n",
      "分类返回结果为2\t真实结果为2\n",
      "分类返回结果为5\t真实结果为5\n",
      "分类返回结果为7\t真实结果为7\n",
      "分类返回结果为7\t真实结果为7\n",
      "分类返回结果为9\t真实结果为9\n",
      "分类返回结果为3\t真实结果为3\n",
      "分类返回结果为9\t真实结果为9\n",
      "分类返回结果为7\t真实结果为7\n",
      "分类返回结果为7\t真实结果为7\n",
      "分类返回结果为0\t真实结果为0\n",
      "分类返回结果为0\t真实结果为0\n",
      "分类返回结果为4\t真实结果为4\n",
      "分类返回结果为9\t真实结果为9\n",
      "分类返回结果为7\t真实结果为7\n",
      "分类返回结果为9\t真实结果为9\n",
      "分类返回结果为4\t真实结果为4\n",
      "分类返回结果为0\t真实结果为0\n",
      "分类返回结果为1\t真实结果为1\n",
      "分类返回结果为3\t真实结果为3\n",
      "分类返回结果为4\t真实结果为4\n",
      "分类返回结果为3\t真实结果为3\n",
      "分类返回结果为4\t真实结果为4\n",
      "分类返回结果为5\t真实结果为5\n",
      "分类返回结果为3\t真实结果为3\n",
      "分类返回结果为4\t真实结果为4\n",
      "分类返回结果为3\t真实结果为3\n",
      "分类返回结果为5\t真实结果为5\n",
      "分类返回结果为4\t真实结果为4\n",
      "分类返回结果为3\t真实结果为3\n",
      "分类返回结果为1\t真实结果为1\n",
      "分类返回结果为7\t真实结果为7\n",
      "分类返回结果为9\t真实结果为9\n",
      "分类返回结果为7\t真实结果为7\n",
      "分类返回结果为0\t真实结果为0\n",
      "分类返回结果为0\t真实结果为0\n",
      "分类返回结果为7\t真实结果为7\n",
      "分类返回结果为9\t真实结果为9\n",
      "分类返回结果为9\t真实结果为9\n",
      "分类返回结果为4\t真实结果为4\n",
      "分类返回结果为0\t真实结果为0\n",
      "分类返回结果为7\t真实结果为7\n",
      "分类返回结果为3\t真实结果为3\n",
      "分类返回结果为9\t真实结果为9\n",
      "分类返回结果为5\t真实结果为5\n",
      "分类返回结果为2\t真实结果为2\n",
      "分类返回结果为5\t真实结果为5\n",
      "分类返回结果为2\t真实结果为2\n",
      "分类返回结果为2\t真实结果为2\n",
      "分类返回结果为5\t真实结果为5\n",
      "分类返回结果为5\t真实结果为5\n",
      "分类返回结果为5\t真实结果为5\n",
      "分类返回结果为5\t真实结果为5\n",
      "分类返回结果为6\t真实结果为8\n",
      "分类返回结果为1\t真实结果为1\n",
      "分类返回结果为1\t真实结果为1\n",
      "分类返回结果为6\t真实结果为6\n",
      "分类返回结果为8\t真实结果为8\n",
      "分类返回结果为6\t真实结果为6\n",
      "分类返回结果为7\t真实结果为7\n",
      "分类返回结果为7\t真实结果为7\n",
      "分类返回结果为6\t真实结果为6\n",
      "分类返回结果为8\t真实结果为8\n",
      "分类返回结果为1\t真实结果为1\n",
      "分类返回结果为6\t真实结果为6\n",
      "分类返回结果为8\t真实结果为8\n",
      "分类返回结果为1\t真实结果为1\n",
      "分类返回结果为5\t真实结果为5\n",
      "分类返回结果为5\t真实结果为5\n",
      "分类返回结果为5\t真实结果为5\n",
      "分类返回结果为2\t真实结果为2\n",
      "分类返回结果为5\t真实结果为5\n",
      "分类返回结果为2\t真实结果为2\n",
      "分类返回结果为5\t真实结果为5\n",
      "分类返回结果为5\t真实结果为5\n",
      "分类返回结果为2\t真实结果为2\n",
      "分类返回结果为3\t真实结果为3\n",
      "分类返回结果为9\t真实结果为9\n",
      "分类返回结果为7\t真实结果为7\n",
      "分类返回结果为9\t真实结果为9\n",
      "分类返回结果为0\t真实结果为0\n",
      "分类返回结果为4\t真实结果为4\n",
      "分类返回结果为0\t真实结果为0\n",
      "分类返回结果为9\t真实结果为9\n",
      "分类返回结果为7\t真实结果为7\n",
      "分类返回结果为7\t真实结果为7\n",
      "分类返回结果为0\t真实结果为0\n",
      "分类返回结果为9\t真实结果为9\n",
      "分类返回结果为7\t真实结果为7\n",
      "分类返回结果为1\t真实结果为1\n",
      "分类返回结果为4\t真实结果为4\n",
      "分类返回结果为3\t真实结果为3\n",
      "分类返回结果为5\t真实结果为5\n",
      "分类返回结果为3\t真实结果为3\n",
      "分类返回结果为3\t真实结果为3\n",
      "分类返回结果为4\t真实结果为4\n",
      "分类返回结果为3\t真实结果为3\n",
      "分类返回结果为3\t真实结果为3\n",
      "分类返回结果为4\t真实结果为4\n",
      "分类返回结果为5\t真实结果为5\n",
      "分类返回结果为1\t真实结果为1\n",
      "分类返回结果为7\t真实结果为7\n",
      "分类返回结果为7\t真实结果为7\n",
      "分类返回结果为4\t真实结果为4\n",
      "分类返回结果为0\t真实结果为0\n",
      "分类返回结果为9\t真实结果为9\n",
      "分类返回结果为9\t真实结果为9\n",
      "分类返回结果为0\t真实结果为0\n",
      "分类返回结果为7\t真实结果为7\n",
      "分类返回结果为7\t真实结果为7\n",
      "分类返回结果为9\t真实结果为9\n",
      "分类返回结果为3\t真实结果为3\n",
      "分类返回结果为5\t真实结果为5\n",
      "分类返回结果为5\t真实结果为5\n",
      "分类返回结果为2\t真实结果为2\n",
      "分类返回结果为2\t真实结果为2\n",
      "分类返回结果为5\t真实结果为5\n",
      "分类返回结果为5\t真实结果为5\n",
      "分类返回结果为5\t真实结果为5\n",
      "分类返回结果为1\t真实结果为1\n",
      "分类返回结果为1\t真实结果为1\n",
      "分类返回结果为8\t真实结果为8\n",
      "分类返回结果为6\t真实结果为6\n",
      "分类返回结果为7\t真实结果为7\n",
      "分类返回结果为7\t真实结果为7\n",
      "分类返回结果为6\t真实结果为6\n",
      "分类返回结果为1\t真实结果为1\n",
      "分类返回结果为8\t真实结果为8\n",
      "分类返回结果为1\t真实结果为1\n",
      "分类返回结果为5\t真实结果为5\n",
      "分类返回结果为5\t真实结果为5\n",
      "分类返回结果为5\t真实结果为5\n",
      "分类返回结果为2\t真实结果为2\n",
      "分类返回结果为2\t真实结果为2\n",
      "分类返回结果为5\t真实结果为5\n",
      "分类返回结果为5\t真实结果为5\n",
      "分类返回结果为9\t真实结果为9\n",
      "分类返回结果为3\t真实结果为3\n",
      "分类返回结果为7\t真实结果为7\n",
      "分类返回结果为7\t真实结果为7\n",
      "分类返回结果为9\t真实结果为9\n",
      "分类返回结果为0\t真实结果为0\n",
      "分类返回结果为0\t真实结果为0\n",
      "分类返回结果为4\t真实结果为4\n",
      "分类返回结果为9\t真实结果为9\n",
      "分类返回结果为7\t真实结果为7\n",
      "分类返回结果为7\t真实结果为7\n",
      "分类返回结果为1\t真实结果为1\n",
      "分类返回结果为5\t真实结果为5\n",
      "分类返回结果为4\t真实结果为4\n",
      "分类返回结果为3\t真实结果为3\n",
      "分类返回结果为3\t真实结果为3\n",
      "总共错了10个数据\n",
      "错误率为1.057082%\n"
     ]
    }
   ],
   "source": [
    "#构建kNN分类器\n",
    "neigh =neighbors.KNeighborsClassifier(n_neighbors = 3, algorithm = 'auto')\n",
    "\n",
    "#拟合模型, trainingMat为训练矩阵,hwLabels为对应的标签\n",
    "neigh.fit(trainingMat, hwLabels)\n",
    "    \n",
    "#返回testDigits目录下的文件列表\n",
    "testFileList = listdir(path+'testDigits')\n",
    "    \n",
    "#错误检测计数\n",
    "errorCount = 0.0\n",
    "    \n",
    "#测试数据的数量\n",
    "mTest = len(testFileList)\n",
    "    \n",
    "#从文件中解析出测试集的类别并进行 分类测试\n",
    "for i in range(mTest):\n",
    "    #获得文件的名字\n",
    "    fileNameStr = testFileList[i]\n",
    "    #获得分类的数字\n",
    "    classNumber = int(fileNameStr.split('_')[0])\n",
    "    #获得测试集的1x1024向量,用于训练\n",
    "    vectorUnderTest = img2vector(path+'testDigits/%s' % (fileNameStr))\n",
    "    #获得预测结果\n",
    "    classifierResult = neigh.predict(vectorUnderTest)\n",
    "    print(\"分类返回结果为%d\\t真实结果为%d\" % (classifierResult, classNumber))\n",
    "    if(classifierResult != classNumber):\n",
    "            errorCount += 1.0\n",
    "print(\"总共错了%d个数据\\n错误率为%f%%\" % (errorCount, errorCount/mTest * 100))"
   ]
  },
  {
   "cell_type": "code",
   "execution_count": null,
   "metadata": {},
   "outputs": [],
   "source": []
  }
 ],
 "metadata": {
  "hide_input": false,
  "kernelspec": {
   "display_name": "Python 3",
   "language": "python",
   "name": "python3"
  },
  "language_info": {
   "codemirror_mode": {
    "name": "ipython",
    "version": 3
   },
   "file_extension": ".py",
   "mimetype": "text/x-python",
   "name": "python",
   "nbconvert_exporter": "python",
   "pygments_lexer": "ipython3",
   "version": "3.7.6"
  },
  "latex_envs": {
   "LaTeX_envs_menu_present": true,
   "autoclose": false,
   "autocomplete": true,
   "bibliofile": "biblio.bib",
   "cite_by": "apalike",
   "current_citInitial": 1,
   "eqLabelWithNumbers": true,
   "eqNumInitial": 1,
   "hotkeys": {
    "equation": "Ctrl-E",
    "itemize": "Ctrl-I"
   },
   "labels_anchors": false,
   "latex_user_defs": false,
   "report_style_numbering": false,
   "user_envs_cfg": false
  },
  "nbTranslate": {
   "displayLangs": [
    "*"
   ],
   "hotkey": "alt-t",
   "langInMainMenu": true,
   "sourceLang": "en",
   "targetLang": "fr",
   "useGoogleTranslate": true
  },
  "toc": {
   "base_numbering": 1,
   "nav_menu": {},
   "number_sections": true,
   "sideBar": true,
   "skip_h1_title": false,
   "title_cell": "Table of Contents",
   "title_sidebar": "Contents",
   "toc_cell": false,
   "toc_position": {},
   "toc_section_display": true,
   "toc_window_display": true
  },
  "varInspector": {
   "cols": {
    "lenName": 16,
    "lenType": 16,
    "lenVar": 40
   },
   "kernels_config": {
    "python": {
     "delete_cmd_postfix": "",
     "delete_cmd_prefix": "del ",
     "library": "var_list.py",
     "varRefreshCmd": "print(var_dic_list())"
    },
    "r": {
     "delete_cmd_postfix": ") ",
     "delete_cmd_prefix": "rm(",
     "library": "var_list.r",
     "varRefreshCmd": "cat(var_dic_list()) "
    }
   },
   "types_to_exclude": [
    "module",
    "function",
    "builtin_function_or_method",
    "instance",
    "_Feature"
   ],
   "window_display": false
  }
 },
 "nbformat": 4,
 "nbformat_minor": 4
}
