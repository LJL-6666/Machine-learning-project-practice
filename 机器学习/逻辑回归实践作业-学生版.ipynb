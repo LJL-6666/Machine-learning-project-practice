{
 "cells": [
  {
   "cell_type": "markdown",
   "metadata": {},
   "source": [
    "# 逻辑回归实践作业"
   ]
  },
  {
   "cell_type": "markdown",
   "metadata": {},
   "source": [
    "## 完成移动客户流失或大学生恋爱数据的逻辑回归分析，并模型结果进行评价"
   ]
  },
  {
   "cell_type": "markdown",
   "metadata": {},
   "source": [
    "**具体要求如下**"
   ]
  },
  {
   "cell_type": "markdown",
   "metadata": {},
   "source": [
    "**（1）两个数据任选一个分析，要求是完整的数据分析流程**"
   ]
  },
  {
   "cell_type": "markdown",
   "metadata": {},
   "source": [
    "**（2）代码在此文档中完成**"
   ]
  },
  {
   "cell_type": "markdown",
   "metadata": {},
   "source": [
    "**（3）另外三人合作完成一份基于此数据的分析报告（背景、数据介绍、描述分析、模型思想、模型构建及评价、结论及建议，格式：宋体、小四、1.5倍行距）**\n",
    "\n"
   ]
  },
  {
   "cell_type": "markdown",
   "metadata": {},
   "source": [
    "### （1）导入数据"
   ]
  },
  {
   "cell_type": "code",
   "execution_count": 3,
   "metadata": {
    "ExecuteTime": {
     "end_time": "2020-10-21T06:50:53.577005Z",
     "start_time": "2020-10-21T06:50:52.335561Z"
    }
   },
   "outputs": [],
   "source": [
    "import os\n",
    "os.chdir(\"F:/大三（上）/机器学习/3.实践作业/3.实践作业/\")\n",
    "\n",
    "import pandas as pd\n",
    "# 读入数据\n",
    "data = pd.read_csv('大学生恋爱数据.csv',encoding='gbk') "
   ]
  },
  {
   "cell_type": "markdown",
   "metadata": {},
   "source": [
    "###   (2) 查看数据概况，是否有缺失值、数据类型等"
   ]
  },
  {
   "cell_type": "code",
   "execution_count": 4,
   "metadata": {
    "ExecuteTime": {
     "end_time": "2020-10-21T06:51:29.165728Z",
     "start_time": "2020-10-21T06:51:29.038132Z"
    }
   },
   "outputs": [
    {
     "data": {
      "text/html": [
       "<div>\n",
       "<style scoped>\n",
       "    .dataframe tbody tr th:only-of-type {\n",
       "        vertical-align: middle;\n",
       "    }\n",
       "\n",
       "    .dataframe tbody tr th {\n",
       "        vertical-align: top;\n",
       "    }\n",
       "\n",
       "    .dataframe thead th {\n",
       "        text-align: right;\n",
       "    }\n",
       "</style>\n",
       "<table border=\"1\" class=\"dataframe\">\n",
       "  <thead>\n",
       "    <tr style=\"text-align: right;\">\n",
       "      <th></th>\n",
       "      <th>是否恋爱</th>\n",
       "      <th>年级</th>\n",
       "      <th>性别</th>\n",
       "      <th>是否追求过别人</th>\n",
       "      <th>是否被别人追求过</th>\n",
       "      <th>每周自习时间</th>\n",
       "      <th>每周娱乐时间</th>\n",
       "      <th>每周睡觉时间</th>\n",
       "      <th>每周运动时间</th>\n",
       "      <th>每月话费</th>\n",
       "      <th>...</th>\n",
       "      <th>乐器</th>\n",
       "      <th>其他才艺</th>\n",
       "      <th>家乡</th>\n",
       "      <th>成绩水平</th>\n",
       "      <th>生活费_百元</th>\n",
       "      <th>寝室同学是否谈过恋爱</th>\n",
       "      <th>身高</th>\n",
       "      <th>体重</th>\n",
       "      <th>是否戴眼镜</th>\n",
       "      <th>颜值</th>\n",
       "    </tr>\n",
       "  </thead>\n",
       "  <tbody>\n",
       "    <tr>\n",
       "      <th>0</th>\n",
       "      <td>否</td>\n",
       "      <td>大四</td>\n",
       "      <td>男</td>\n",
       "      <td>否</td>\n",
       "      <td>否</td>\n",
       "      <td>50</td>\n",
       "      <td>45</td>\n",
       "      <td>70</td>\n",
       "      <td>0</td>\n",
       "      <td>70</td>\n",
       "      <td>...</td>\n",
       "      <td>否</td>\n",
       "      <td>是</td>\n",
       "      <td>3三线城市</td>\n",
       "      <td>30</td>\n",
       "      <td>13</td>\n",
       "      <td>是</td>\n",
       "      <td>170</td>\n",
       "      <td>59.0</td>\n",
       "      <td>是</td>\n",
       "      <td>0</td>\n",
       "    </tr>\n",
       "    <tr>\n",
       "      <th>1</th>\n",
       "      <td>否</td>\n",
       "      <td>大三</td>\n",
       "      <td>男</td>\n",
       "      <td>否</td>\n",
       "      <td>否</td>\n",
       "      <td>5</td>\n",
       "      <td>45</td>\n",
       "      <td>63</td>\n",
       "      <td>5</td>\n",
       "      <td>0</td>\n",
       "      <td>...</td>\n",
       "      <td>是</td>\n",
       "      <td>否</td>\n",
       "      <td>3三线城市</td>\n",
       "      <td>10</td>\n",
       "      <td>7</td>\n",
       "      <td>是</td>\n",
       "      <td>171</td>\n",
       "      <td>70.0</td>\n",
       "      <td>是</td>\n",
       "      <td>0</td>\n",
       "    </tr>\n",
       "    <tr>\n",
       "      <th>2</th>\n",
       "      <td>否</td>\n",
       "      <td>大三</td>\n",
       "      <td>女</td>\n",
       "      <td>否</td>\n",
       "      <td>否</td>\n",
       "      <td>6</td>\n",
       "      <td>4</td>\n",
       "      <td>60</td>\n",
       "      <td>1</td>\n",
       "      <td>30</td>\n",
       "      <td>...</td>\n",
       "      <td>否</td>\n",
       "      <td>是</td>\n",
       "      <td>3三线城市</td>\n",
       "      <td>60</td>\n",
       "      <td>12</td>\n",
       "      <td>是</td>\n",
       "      <td>160</td>\n",
       "      <td>61.0</td>\n",
       "      <td>是</td>\n",
       "      <td>5</td>\n",
       "    </tr>\n",
       "    <tr>\n",
       "      <th>3</th>\n",
       "      <td>否</td>\n",
       "      <td>大四</td>\n",
       "      <td>女</td>\n",
       "      <td>是</td>\n",
       "      <td>是</td>\n",
       "      <td>16</td>\n",
       "      <td>11</td>\n",
       "      <td>56</td>\n",
       "      <td>10</td>\n",
       "      <td>38</td>\n",
       "      <td>...</td>\n",
       "      <td>否</td>\n",
       "      <td>是</td>\n",
       "      <td>1一线城市</td>\n",
       "      <td>31</td>\n",
       "      <td>8</td>\n",
       "      <td>是</td>\n",
       "      <td>162</td>\n",
       "      <td>50.0</td>\n",
       "      <td>是</td>\n",
       "      <td>6</td>\n",
       "    </tr>\n",
       "    <tr>\n",
       "      <th>4</th>\n",
       "      <td>否</td>\n",
       "      <td>大四</td>\n",
       "      <td>男</td>\n",
       "      <td>否</td>\n",
       "      <td>否</td>\n",
       "      <td>35</td>\n",
       "      <td>25</td>\n",
       "      <td>42</td>\n",
       "      <td>5</td>\n",
       "      <td>40</td>\n",
       "      <td>...</td>\n",
       "      <td>否</td>\n",
       "      <td>是</td>\n",
       "      <td>5农村</td>\n",
       "      <td>55</td>\n",
       "      <td>10</td>\n",
       "      <td>是</td>\n",
       "      <td>175</td>\n",
       "      <td>72.0</td>\n",
       "      <td>是</td>\n",
       "      <td>5</td>\n",
       "    </tr>\n",
       "  </tbody>\n",
       "</table>\n",
       "<p>5 rows × 32 columns</p>\n",
       "</div>"
      ],
      "text/plain": [
       "  是否恋爱  年级 性别 是否追求过别人 是否被别人追求过  每周自习时间  每周娱乐时间  每周睡觉时间  每周运动时间  每月话费  ...  乐器  \\\n",
       "0    否  大四  男       否        否      50      45      70       0    70  ...   否   \n",
       "1    否  大三  男       否        否       5      45      63       5     0  ...   是   \n",
       "2    否  大三  女       否        否       6       4      60       1    30  ...   否   \n",
       "3    否  大四  女       是        是      16      11      56      10    38  ...   否   \n",
       "4    否  大四  男       否        否      35      25      42       5    40  ...   否   \n",
       "\n",
       "  其他才艺     家乡 成绩水平 生活费_百元 寝室同学是否谈过恋爱   身高    体重 是否戴眼镜 颜值  \n",
       "0    是  3三线城市   30     13          是  170  59.0     是  0  \n",
       "1    否  3三线城市   10      7          是  171  70.0     是  0  \n",
       "2    是  3三线城市   60     12          是  160  61.0     是  5  \n",
       "3    是  1一线城市   31      8          是  162  50.0     是  6  \n",
       "4    是    5农村   55     10          是  175  72.0     是  5  \n",
       "\n",
       "[5 rows x 32 columns]"
      ]
     },
     "execution_count": 4,
     "metadata": {},
     "output_type": "execute_result"
    }
   ],
   "source": [
    "data.head()"
   ]
  },
  {
   "cell_type": "code",
   "execution_count": 5,
   "metadata": {
    "ExecuteTime": {
     "end_time": "2020-10-21T06:51:29.729202Z",
     "start_time": "2020-10-21T06:51:29.718206Z"
    }
   },
   "outputs": [
    {
     "data": {
      "text/plain": [
       "(293, 32)"
      ]
     },
     "execution_count": 5,
     "metadata": {},
     "output_type": "execute_result"
    }
   ],
   "source": [
    "data.shape"
   ]
  },
  {
   "cell_type": "code",
   "execution_count": 6,
   "metadata": {
    "ExecuteTime": {
     "end_time": "2020-10-21T06:51:30.365654Z",
     "start_time": "2020-10-21T06:51:30.336729Z"
    }
   },
   "outputs": [
    {
     "name": "stdout",
     "output_type": "stream",
     "text": [
      "<class 'pandas.core.frame.DataFrame'>\n",
      "RangeIndex: 293 entries, 0 to 292\n",
      "Data columns (total 32 columns):\n",
      " #   Column      Non-Null Count  Dtype  \n",
      "---  ------      --------------  -----  \n",
      " 0   是否恋爱        293 non-null    object \n",
      " 1   年级          293 non-null    object \n",
      " 2   性别          293 non-null    object \n",
      " 3   是否追求过别人     293 non-null    object \n",
      " 4   是否被别人追求过    293 non-null    object \n",
      " 5   每周自习时间      293 non-null    int64  \n",
      " 6   每周娱乐时间      293 non-null    int64  \n",
      " 7   每周睡觉时间      293 non-null    int64  \n",
      " 8   每周运动时间      293 non-null    int64  \n",
      " 9   每月话费        293 non-null    int64  \n",
      " 10  学生组织个数      293 non-null    int64  \n",
      " 11  班干部         293 non-null    object \n",
      " 12  党员          293 non-null    object \n",
      " 13  足球          293 non-null    object \n",
      " 14  篮球          293 non-null    object \n",
      " 15  乒乓球         293 non-null    object \n",
      " 16  羽毛球         293 non-null    object \n",
      " 17  跑步          293 non-null    object \n",
      " 18  台球          293 non-null    object \n",
      " 19  唱歌          293 non-null    object \n",
      " 20  主持          293 non-null    object \n",
      " 21  舞蹈          293 non-null    object \n",
      " 22  乐器          293 non-null    object \n",
      " 23  其他才艺        293 non-null    object \n",
      " 24  家乡          293 non-null    object \n",
      " 25  成绩水平        293 non-null    int64  \n",
      " 26  生活费_百元      293 non-null    int64  \n",
      " 27  寝室同学是否谈过恋爱  293 non-null    object \n",
      " 28  身高          293 non-null    int64  \n",
      " 29  体重          293 non-null    float64\n",
      " 30  是否戴眼镜       293 non-null    object \n",
      " 31  颜值          293 non-null    int64  \n",
      "dtypes: float64(1), int64(10), object(21)\n",
      "memory usage: 73.4+ KB\n"
     ]
    }
   ],
   "source": [
    "data.info()"
   ]
  },
  {
   "cell_type": "code",
   "execution_count": 7,
   "metadata": {
    "ExecuteTime": {
     "end_time": "2020-10-21T06:51:31.065784Z",
     "start_time": "2020-10-21T06:51:30.960800Z"
    }
   },
   "outputs": [
    {
     "data": {
      "text/html": [
       "<div>\n",
       "<style scoped>\n",
       "    .dataframe tbody tr th:only-of-type {\n",
       "        vertical-align: middle;\n",
       "    }\n",
       "\n",
       "    .dataframe tbody tr th {\n",
       "        vertical-align: top;\n",
       "    }\n",
       "\n",
       "    .dataframe thead th {\n",
       "        text-align: right;\n",
       "    }\n",
       "</style>\n",
       "<table border=\"1\" class=\"dataframe\">\n",
       "  <thead>\n",
       "    <tr style=\"text-align: right;\">\n",
       "      <th></th>\n",
       "      <th>每周自习时间</th>\n",
       "      <th>每周娱乐时间</th>\n",
       "      <th>每周睡觉时间</th>\n",
       "      <th>每周运动时间</th>\n",
       "      <th>每月话费</th>\n",
       "      <th>学生组织个数</th>\n",
       "      <th>成绩水平</th>\n",
       "      <th>生活费_百元</th>\n",
       "      <th>身高</th>\n",
       "      <th>体重</th>\n",
       "      <th>颜值</th>\n",
       "    </tr>\n",
       "  </thead>\n",
       "  <tbody>\n",
       "    <tr>\n",
       "      <th>count</th>\n",
       "      <td>293.000000</td>\n",
       "      <td>293.000000</td>\n",
       "      <td>293.000000</td>\n",
       "      <td>293.000000</td>\n",
       "      <td>293.000000</td>\n",
       "      <td>293.000000</td>\n",
       "      <td>293.000000</td>\n",
       "      <td>293.000000</td>\n",
       "      <td>293.000000</td>\n",
       "      <td>293.000000</td>\n",
       "      <td>293.000000</td>\n",
       "    </tr>\n",
       "    <tr>\n",
       "      <th>mean</th>\n",
       "      <td>19.242321</td>\n",
       "      <td>16.044369</td>\n",
       "      <td>53.982935</td>\n",
       "      <td>6.136519</td>\n",
       "      <td>56.931741</td>\n",
       "      <td>2.935154</td>\n",
       "      <td>43.870307</td>\n",
       "      <td>26.058020</td>\n",
       "      <td>169.324232</td>\n",
       "      <td>60.148464</td>\n",
       "      <td>6.204778</td>\n",
       "    </tr>\n",
       "    <tr>\n",
       "      <th>std</th>\n",
       "      <td>12.859328</td>\n",
       "      <td>13.468942</td>\n",
       "      <td>10.804127</td>\n",
       "      <td>4.965821</td>\n",
       "      <td>27.914905</td>\n",
       "      <td>1.699887</td>\n",
       "      <td>27.104887</td>\n",
       "      <td>24.364808</td>\n",
       "      <td>9.162946</td>\n",
       "      <td>12.150778</td>\n",
       "      <td>2.418333</td>\n",
       "    </tr>\n",
       "    <tr>\n",
       "      <th>min</th>\n",
       "      <td>0.000000</td>\n",
       "      <td>0.000000</td>\n",
       "      <td>0.000000</td>\n",
       "      <td>0.000000</td>\n",
       "      <td>0.000000</td>\n",
       "      <td>0.000000</td>\n",
       "      <td>0.000000</td>\n",
       "      <td>0.000000</td>\n",
       "      <td>130.000000</td>\n",
       "      <td>30.000000</td>\n",
       "      <td>0.000000</td>\n",
       "    </tr>\n",
       "    <tr>\n",
       "      <th>25%</th>\n",
       "      <td>10.000000</td>\n",
       "      <td>6.000000</td>\n",
       "      <td>50.000000</td>\n",
       "      <td>3.000000</td>\n",
       "      <td>36.000000</td>\n",
       "      <td>2.000000</td>\n",
       "      <td>21.000000</td>\n",
       "      <td>14.000000</td>\n",
       "      <td>162.000000</td>\n",
       "      <td>50.000000</td>\n",
       "      <td>5.000000</td>\n",
       "    </tr>\n",
       "    <tr>\n",
       "      <th>50%</th>\n",
       "      <td>17.000000</td>\n",
       "      <td>13.000000</td>\n",
       "      <td>55.000000</td>\n",
       "      <td>5.000000</td>\n",
       "      <td>50.000000</td>\n",
       "      <td>3.000000</td>\n",
       "      <td>41.000000</td>\n",
       "      <td>20.000000</td>\n",
       "      <td>170.000000</td>\n",
       "      <td>58.000000</td>\n",
       "      <td>6.000000</td>\n",
       "    </tr>\n",
       "    <tr>\n",
       "      <th>75%</th>\n",
       "      <td>28.000000</td>\n",
       "      <td>21.000000</td>\n",
       "      <td>60.000000</td>\n",
       "      <td>8.000000</td>\n",
       "      <td>80.000000</td>\n",
       "      <td>4.000000</td>\n",
       "      <td>60.000000</td>\n",
       "      <td>25.000000</td>\n",
       "      <td>176.000000</td>\n",
       "      <td>65.000000</td>\n",
       "      <td>8.000000</td>\n",
       "    </tr>\n",
       "    <tr>\n",
       "      <th>max</th>\n",
       "      <td>50.000000</td>\n",
       "      <td>100.000000</td>\n",
       "      <td>100.000000</td>\n",
       "      <td>46.000000</td>\n",
       "      <td>100.000000</td>\n",
       "      <td>6.000000</td>\n",
       "      <td>100.000000</td>\n",
       "      <td>100.000000</td>\n",
       "      <td>192.000000</td>\n",
       "      <td>101.000000</td>\n",
       "      <td>10.000000</td>\n",
       "    </tr>\n",
       "  </tbody>\n",
       "</table>\n",
       "</div>"
      ],
      "text/plain": [
       "           每周自习时间      每周娱乐时间      每周睡觉时间      每周运动时间        每月话费      学生组织个数  \\\n",
       "count  293.000000  293.000000  293.000000  293.000000  293.000000  293.000000   \n",
       "mean    19.242321   16.044369   53.982935    6.136519   56.931741    2.935154   \n",
       "std     12.859328   13.468942   10.804127    4.965821   27.914905    1.699887   \n",
       "min      0.000000    0.000000    0.000000    0.000000    0.000000    0.000000   \n",
       "25%     10.000000    6.000000   50.000000    3.000000   36.000000    2.000000   \n",
       "50%     17.000000   13.000000   55.000000    5.000000   50.000000    3.000000   \n",
       "75%     28.000000   21.000000   60.000000    8.000000   80.000000    4.000000   \n",
       "max     50.000000  100.000000  100.000000   46.000000  100.000000    6.000000   \n",
       "\n",
       "             成绩水平      生活费_百元          身高          体重          颜值  \n",
       "count  293.000000  293.000000  293.000000  293.000000  293.000000  \n",
       "mean    43.870307   26.058020  169.324232   60.148464    6.204778  \n",
       "std     27.104887   24.364808    9.162946   12.150778    2.418333  \n",
       "min      0.000000    0.000000  130.000000   30.000000    0.000000  \n",
       "25%     21.000000   14.000000  162.000000   50.000000    5.000000  \n",
       "50%     41.000000   20.000000  170.000000   58.000000    6.000000  \n",
       "75%     60.000000   25.000000  176.000000   65.000000    8.000000  \n",
       "max    100.000000  100.000000  192.000000  101.000000   10.000000  "
      ]
     },
     "execution_count": 7,
     "metadata": {},
     "output_type": "execute_result"
    }
   ],
   "source": [
    "data.describe()"
   ]
  },
  {
   "cell_type": "markdown",
   "metadata": {},
   "source": [
    "### （3）描述分析"
   ]
  },
  {
   "cell_type": "markdown",
   "metadata": {},
   "source": [
    "因变量描述"
   ]
  },
  {
   "cell_type": "code",
   "execution_count": 29,
   "metadata": {
    "ExecuteTime": {
     "end_time": "2020-10-21T06:51:37.741704Z",
     "start_time": "2020-10-21T06:51:32.810287Z"
    }
   },
   "outputs": [
    {
     "data": {
      "image/png": "[encoded data removed]",
      "text/plain": [
       "<Figure size 432x360 with 1 Axes>"
      ]
     },
     "metadata": {
      "needs_background": "light"
     },
     "output_type": "display_data"
    }
   ],
   "source": [
    "import matplotlib.pyplot as plt\n",
    "import seaborn as sns\n",
    "from pylab import mpl\n",
    "mpl.rcParams['font.sans-serif']=['SimHei']\n",
    "mpl.rcParams['axes.unicode_minus']=False\n",
    "#plt.rcParams['font.sans-serif']=['SimHei']\n",
    "#plt.rcParams['font.sans-serif'] = ['Arial Unicode MS']\n",
    "\n",
    "plt.figure(figsize=(6, 5))\n",
    "sns.countplot(x='是否恋爱',data=data)\n",
    "plt.title(u'恋爱情况') \n",
    "plt.xlabel(u'是否恋爱')\n",
    "plt.ylabel(u'人数')\n",
    "plt.show()"
   ]
  },
  {
   "cell_type": "markdown",
   "metadata": {},
   "source": [
    "双变量-分类变量与因变量"
   ]
  },
  {
   "cell_type": "code",
   "execution_count": 30,
   "metadata": {
    "ExecuteTime": {
     "end_time": "2020-10-21T06:51:37.940558Z",
     "start_time": "2020-10-21T06:51:37.743664Z"
    }
   },
   "outputs": [
    {
     "data": {
      "image/png": "[encoded data removed]",
      "text/plain": [
       "<Figure size 432x360 with 1 Axes>"
      ]
     },
     "metadata": {
      "needs_background": "light"
     },
     "output_type": "display_data"
    }
   ],
   "source": [
    "plt.figure(figsize=(6, 5))\n",
    "sns.countplot(x='是否恋爱',hue='年级',data=data)\n",
    "plt.title(u'恋爱情况') \n",
    "plt.xlabel(u'是否恋爱')\n",
    "plt.ylabel(u'人数')\n",
    "plt.show()"
   ]
  },
  {
   "cell_type": "code",
   "execution_count": 31,
   "metadata": {
    "ExecuteTime": {
     "end_time": "2020-10-21T06:51:38.094678Z",
     "start_time": "2020-10-21T06:51:37.943552Z"
    }
   },
   "outputs": [
    {
     "data": {
      "image/png": "[encoded data removed]",
      "text/plain": [
       "<Figure size 432x360 with 1 Axes>"
      ]
     },
     "metadata": {
      "needs_background": "light"
     },
     "output_type": "display_data"
    }
   ],
   "source": [
    "plt.figure(figsize=(6, 5))\n",
    "sns.countplot(x='是否恋爱',hue='性别',data=data)\n",
    "plt.title(u'恋爱情况') \n",
    "plt.xlabel(u'是否恋爱')\n",
    "plt.ylabel(u'人数')\n",
    "plt.show()"
   ]
  },
  {
   "cell_type": "code",
   "execution_count": 32,
   "metadata": {
    "ExecuteTime": {
     "end_time": "2020-10-21T06:51:38.248249Z",
     "start_time": "2020-10-21T06:51:38.096623Z"
    }
   },
   "outputs": [
    {
     "data": {
      "image/png": "[encoded data removed]",
      "text/plain": [
       "<Figure size 432x360 with 1 Axes>"
      ]
     },
     "metadata": {
      "needs_background": "light"
     },
     "output_type": "display_data"
    }
   ],
   "source": [
    "plt.figure(figsize=(6, 5))\n",
    "sns.countplot(x='是否恋爱',hue='是否追求过别人',data=data)\n",
    "plt.title(u'恋爱情况') \n",
    "plt.xlabel(u'是否恋爱')\n",
    "plt.ylabel(u'人数')\n",
    "plt.show()"
   ]
  },
  {
   "cell_type": "code",
   "execution_count": 33,
   "metadata": {
    "ExecuteTime": {
     "end_time": "2020-10-21T06:51:38.417704Z",
     "start_time": "2020-10-21T06:51:38.249215Z"
    }
   },
   "outputs": [
    {
     "data": {
      "image/png": "[encoded data removed]",
      "text/plain": [
       "<Figure size 432x360 with 1 Axes>"
      ]
     },
     "metadata": {
      "needs_background": "light"
     },
     "output_type": "display_data"
    }
   ],
   "source": [
    "plt.figure(figsize=(6, 5))\n",
    "sns.countplot(x='是否恋爱',hue='是否被别人追求过',data=data)\n",
    "plt.title(u'恋爱情况') \n",
    "plt.xlabel(u'是否恋爱')\n",
    "plt.ylabel(u'人数')\n",
    "plt.show()"
   ]
  },
  {
   "cell_type": "code",
   "execution_count": 34,
   "metadata": {
    "ExecuteTime": {
     "end_time": "2020-10-21T06:51:38.587237Z",
     "start_time": "2020-10-21T06:51:38.418832Z"
    }
   },
   "outputs": [
    {
     "data": {
      "image/png": "[encoded data removed]",
      "text/plain": [
       "<Figure size 432x360 with 1 Axes>"
      ]
     },
     "metadata": {
      "needs_background": "light"
     },
     "output_type": "display_data"
    }
   ],
   "source": [
    "plt.figure(figsize=(6, 5))\n",
    "sns.countplot(x='是否恋爱',hue='班干部',data=data)\n",
    "plt.title(u'恋爱情况') \n",
    "plt.xlabel(u'是否恋爱')\n",
    "plt.ylabel(u'人数')\n",
    "plt.show() "
   ]
  },
  {
   "cell_type": "code",
   "execution_count": 35,
   "metadata": {
    "ExecuteTime": {
     "end_time": "2020-10-21T06:51:38.882161Z",
     "start_time": "2020-10-21T06:51:38.593192Z"
    }
   },
   "outputs": [
    {
     "data": {
      "image/png": "[encoded data removed]",
      "text/plain": [
       "<Figure size 432x360 with 1 Axes>"
      ]
     },
     "metadata": {
      "needs_background": "light"
     },
     "output_type": "display_data"
    }
   ],
   "source": [
    "plt.figure(figsize=(6, 5))\n",
    "sns.countplot(x='是否恋爱',hue='家乡',data=data)\n",
    "plt.title(u'恋爱情况') \n",
    "plt.xlabel(u'是否恋爱')\n",
    "plt.ylabel(u'人数')\n",
    "plt.show()"
   ]
  },
  {
   "cell_type": "code",
   "execution_count": 36,
   "metadata": {
    "ExecuteTime": {
     "end_time": "2020-10-21T06:51:40.137783Z",
     "start_time": "2020-10-21T06:51:39.927083Z"
    }
   },
   "outputs": [
    {
     "data": {
      "image/png": "[encoded data removed]",
      "text/plain": [
       "<Figure size 432x360 with 1 Axes>"
      ]
     },
     "metadata": {
      "needs_background": "light"
     },
     "output_type": "display_data"
    }
   ],
   "source": [
    "plt.figure(figsize=(6, 5))\n",
    "sns.countplot(x='是否恋爱',hue='学生组织个数',data=data)\n",
    "plt.title(u'恋爱情况') \n",
    "plt.xlabel(u'是否恋爱')\n",
    "plt.ylabel(u'人数')\n",
    "plt.show()"
   ]
  },
  {
   "cell_type": "code",
   "execution_count": 37,
   "metadata": {
    "ExecuteTime": {
     "end_time": "2020-10-21T06:51:41.048220Z",
     "start_time": "2020-10-21T06:51:40.796353Z"
    }
   },
   "outputs": [
    {
     "data": {
      "image/png": "[encoded data removed]",
      "text/plain": [
       "<Figure size 432x360 with 1 Axes>"
      ]
     },
     "metadata": {
      "needs_background": "light"
     },
     "output_type": "display_data"
    }
   ],
   "source": [
    "plt.figure(figsize=(6, 5))\n",
    "sns.countplot(x='是否恋爱',hue='颜值',data=data)\n",
    "plt.title(u'恋爱情况') \n",
    "plt.xlabel(u'是否恋爱')\n",
    "plt.ylabel(u'人数')\n",
    "plt.show()"
   ]
  },
  {
   "cell_type": "code",
   "execution_count": 38,
   "metadata": {
    "ExecuteTime": {
     "end_time": "2020-10-21T06:51:41.758741Z",
     "start_time": "2020-10-21T06:51:41.481480Z"
    }
   },
   "outputs": [
    {
     "data": {
      "image/png": "[encoded data removed]",
      "text/plain": [
       "<Figure size 720x360 with 3 Axes>"
      ]
     },
     "metadata": {
      "needs_background": "light"
     },
     "output_type": "display_data"
    }
   ],
   "source": [
    "fig = plt.figure(3, figsize=(10, 5))\n",
    "ax1 = plt.subplot(131) \n",
    "ax1.bar(data['班干部'].value_counts().index,data['班干部'].value_counts().values,color = ['steelblue','orange'])\n",
    "\n",
    "ax2 = plt.subplot(132) \n",
    "ax2.bar(data['党员'].value_counts().index,data['党员'].value_counts().values,color = ['steelblue','orange'])\n",
    "\n",
    "ax3 = plt.subplot(133) \n",
    "ax3.bar(data['足球'].value_counts().index,data['足球'].value_counts().values,color = ['steelblue','orange'])\n",
    "plt.show()"
   ]
  },
  {
   "cell_type": "code",
   "execution_count": 39,
   "metadata": {
    "ExecuteTime": {
     "end_time": "2020-10-21T06:51:42.422649Z",
     "start_time": "2020-10-21T06:51:42.144367Z"
    }
   },
   "outputs": [
    {
     "data": {
      "image/png": "[encoded data removed]",
      "text/plain": [
       "<Figure size 864x360 with 3 Axes>"
      ]
     },
     "metadata": {
      "needs_background": "light"
     },
     "output_type": "display_data"
    }
   ],
   "source": [
    "plt.figure(6, figsize=(12, 5)) \n",
    "\n",
    "ax1 = plt.subplot(131) \n",
    "ax1.bar(data['篮球'].value_counts().index,data['篮球'].value_counts().values,color = ['steelblue','orange'])\n",
    "\n",
    "ax2 = plt.subplot(132) \n",
    "ax2.bar(data['乒乓球'].value_counts().index,data['乒乓球'].value_counts().values,color = ['steelblue','orange'])\n",
    "\n",
    "ax3 = plt.subplot(133) \n",
    "ax3.bar(data['羽毛球'].value_counts().index,data['羽毛球'].value_counts().values,color = ['steelblue','orange'])\n",
    "plt.show()"
   ]
  },
  {
   "cell_type": "code",
   "execution_count": 40,
   "metadata": {
    "ExecuteTime": {
     "end_time": "2020-10-21T06:51:42.966124Z",
     "start_time": "2020-10-21T06:51:42.668738Z"
    }
   },
   "outputs": [
    {
     "data": {
      "image/png": "[encoded data removed]",
      "text/plain": [
       "<Figure size 864x360 with 3 Axes>"
      ]
     },
     "metadata": {
      "needs_background": "light"
     },
     "output_type": "display_data"
    }
   ],
   "source": [
    "plt.figure(6, figsize=(12, 5)) \n",
    "\n",
    "ax1 = plt.subplot(131) \n",
    "ax1.bar(data['跑步'].value_counts().index,data['跑步'].value_counts().values,color = ['steelblue','orange'])\n",
    "\n",
    "ax2 = plt.subplot(132) \n",
    "ax2.bar(data['台球'].value_counts().index,data['台球'].value_counts().values,color = ['steelblue','orange'])\n",
    "\n",
    "ax3 = plt.subplot(133) \n",
    "ax3.bar(data['唱歌'].value_counts().index,data['唱歌'].value_counts().values,color = ['steelblue','orange'])\n",
    "plt.show()"
   ]
  },
  {
   "cell_type": "code",
   "execution_count": 41,
   "metadata": {
    "ExecuteTime": {
     "end_time": "2020-10-21T06:51:43.570387Z",
     "start_time": "2020-10-21T06:51:43.292682Z"
    }
   },
   "outputs": [
    {
     "data": {
      "image/png": "[encoded data removed]",
      "text/plain": [
       "<Figure size 864x360 with 3 Axes>"
      ]
     },
     "metadata": {
      "needs_background": "light"
     },
     "output_type": "display_data"
    }
   ],
   "source": [
    "plt.figure(6, figsize=(12, 5)) \n",
    "\n",
    "ax1 = plt.subplot(131) \n",
    "ax1.bar(data['主持'].value_counts().index,data['主持'].value_counts().values,color = ['steelblue','orange'])\n",
    "\n",
    "ax2 = plt.subplot(132) \n",
    "ax2.bar(data['舞蹈'].value_counts().index,data['舞蹈'].value_counts().values,color = ['steelblue','orange'])\n",
    "\n",
    "ax3 = plt.subplot(133) \n",
    "ax3.bar(data['乐器'].value_counts().index,data['乐器'].value_counts().values,color = ['steelblue','orange'])\n",
    "plt.show()"
   ]
  },
  {
   "cell_type": "code",
   "execution_count": 42,
   "metadata": {
    "ExecuteTime": {
     "end_time": "2020-10-21T06:51:53.925255Z",
     "start_time": "2020-10-21T06:51:53.586168Z"
    }
   },
   "outputs": [
    {
     "data": {
      "image/png": "[encoded data removed]",
      "text/plain": [
       "<Figure size 864x360 with 3 Axes>"
      ]
     },
     "metadata": {
      "needs_background": "light"
     },
     "output_type": "display_data"
    }
   ],
   "source": [
    "plt.figure(6, figsize=(12, 5)) \n",
    "\n",
    "ax1 = plt.subplot(131) \n",
    "ax1.bar(data['其他才艺'].value_counts().index,data['其他才艺'].value_counts().values,color = ['steelblue','orange'])\n",
    "\n",
    "ax2 = plt.subplot(132) \n",
    "ax2.bar(data['寝室同学是否谈过恋爱'].value_counts().index,data['寝室同学是否谈过恋爱'].value_counts().values,color = ['steelblue','orange'])\n",
    "\n",
    "ax3 = plt.subplot(133) \n",
    "ax3.bar(data['是否戴眼镜'].value_counts().index,data['是否戴眼镜'].value_counts().values,color = ['steelblue','orange'])\n",
    "plt.show()"
   ]
  },
  {
   "cell_type": "markdown",
   "metadata": {},
   "source": [
    "双变量-连续数值变量与因变量"
   ]
  },
  {
   "cell_type": "code",
   "execution_count": 43,
   "metadata": {
    "ExecuteTime": {
     "end_time": "2020-10-21T06:52:05.784990Z",
     "start_time": "2020-10-21T06:52:05.632339Z"
    }
   },
   "outputs": [
    {
     "data": {
      "image/png": "[encoded data removed]",
      "text/plain": [
       "<Figure size 432x288 with 1 Axes>"
      ]
     },
     "metadata": {
      "needs_background": "light"
     },
     "output_type": "display_data"
    }
   ],
   "source": [
    "sns.boxplot(x='是否恋爱',y='每周自习时间',data=data)\n",
    "plt.title(u'每周自习时间的恋爱情况')\n",
    "plt.xlabel(u'是否恋爱')\n",
    "plt.ylabel(u'每周自习时间')\n",
    "plt.show()"
   ]
  },
  {
   "cell_type": "code",
   "execution_count": 44,
   "metadata": {
    "ExecuteTime": {
     "end_time": "2020-10-21T06:52:07.163071Z",
     "start_time": "2020-10-21T06:52:07.003848Z"
    }
   },
   "outputs": [
    {
     "data": {
      "image/png": "[encoded data removed]",
      "text/plain": [
       "<Figure size 432x288 with 1 Axes>"
      ]
     },
     "metadata": {
      "needs_background": "light"
     },
     "output_type": "display_data"
    }
   ],
   "source": [
    "sns.boxplot(x='是否恋爱',y='每周娱乐时间',data=data)\n",
    "plt.title(u'每周娱乐时间的恋爱情况')\n",
    "plt.xlabel(u'是否恋爱')\n",
    "plt.ylabel(u'每周娱乐时间')\n",
    "plt.show()"
   ]
  },
  {
   "cell_type": "code",
   "execution_count": 45,
   "metadata": {
    "ExecuteTime": {
     "end_time": "2020-10-21T06:52:07.846730Z",
     "start_time": "2020-10-21T06:52:07.695333Z"
    }
   },
   "outputs": [
    {
     "data": {
      "image/png": "[encoded data removed]",
      "text/plain": [
       "<Figure size 432x288 with 1 Axes>"
      ]
     },
     "metadata": {
      "needs_background": "light"
     },
     "output_type": "display_data"
    }
   ],
   "source": [
    "sns.boxplot(x='是否恋爱',y='每周睡觉时间',data=data)\n",
    "plt.title(u'每周睡觉时间的恋爱情况')\n",
    "plt.xlabel(u'是否恋爱')\n",
    "plt.ylabel(u'每周睡觉时间')\n",
    "plt.show()"
   ]
  },
  {
   "cell_type": "code",
   "execution_count": 46,
   "metadata": {
    "ExecuteTime": {
     "end_time": "2020-10-21T06:52:08.414300Z",
     "start_time": "2020-10-21T06:52:08.279616Z"
    },
    "scrolled": true
   },
   "outputs": [
    {
     "data": {
      "image/png": "[encoded data removed]",
      "text/plain": [
       "<Figure size 432x288 with 1 Axes>"
      ]
     },
     "metadata": {
      "needs_background": "light"
     },
     "output_type": "display_data"
    }
   ],
   "source": [
    "sns.boxplot(x='是否恋爱',y='每周运动时间',data=data)\n",
    "plt.title(u'每周运动时间的恋爱情况')\n",
    "plt.xlabel(u'是否恋爱')\n",
    "plt.ylabel(u'每周运动时间')\n",
    "plt.show()"
   ]
  },
  {
   "cell_type": "code",
   "execution_count": 47,
   "metadata": {
    "ExecuteTime": {
     "end_time": "2020-10-21T06:52:09.664149Z",
     "start_time": "2020-10-21T06:52:08.974397Z"
    }
   },
   "outputs": [
    {
     "data": {
      "image/png": "[encoded data removed]",
      "text/plain": [
       "<Figure size 864x576 with 6 Axes>"
      ]
     },
     "metadata": {
      "needs_background": "light"
     },
     "output_type": "display_data"
    }
   ],
   "source": [
    "## seaborn绘制箱线图\n",
    "plt.figure(6, figsize=(12, 8)) #设置画布\n",
    "\n",
    "plt.subplot(231)  \n",
    "sns.boxplot(x='每月话费',y='是否恋爱',data=data)\n",
    "\n",
    "plt.subplot(232)  \n",
    "sns.boxplot(x='学生组织个数',y='是否恋爱',data=data)\n",
    "\n",
    "plt.subplot(233)  \n",
    "sns.boxplot(x='成绩水平',y='是否恋爱',data=data)\n",
    "\n",
    "plt.subplot(234)  \n",
    "sns.boxplot(x='生活费_百元',y='是否恋爱',data=data)\n",
    "\n",
    "plt.subplot(235) \n",
    "sns.boxplot(x='身高',y='是否恋爱',data=data)\n",
    "\n",
    "plt.subplot(236) \n",
    "sns.boxplot(x='体重',y='是否恋爱',data=data)\n",
    "\n",
    "plt.show()"
   ]
  },
  {
   "cell_type": "markdown",
   "metadata": {},
   "source": [
    "### （4）特征处理"
   ]
  },
  {
   "cell_type": "code",
   "execution_count": 48,
   "metadata": {
    "ExecuteTime": {
     "end_time": "2020-10-21T06:52:10.810201Z",
     "start_time": "2020-10-21T06:52:10.710417Z"
    }
   },
   "outputs": [
    {
     "data": {
      "text/html": [
       "<div>\n",
       "<style scoped>\n",
       "    .dataframe tbody tr th:only-of-type {\n",
       "        vertical-align: middle;\n",
       "    }\n",
       "\n",
       "    .dataframe tbody tr th {\n",
       "        vertical-align: top;\n",
       "    }\n",
       "\n",
       "    .dataframe thead th {\n",
       "        text-align: right;\n",
       "    }\n",
       "</style>\n",
       "<table border=\"1\" class=\"dataframe\">\n",
       "  <thead>\n",
       "    <tr style=\"text-align: right;\">\n",
       "      <th></th>\n",
       "      <th>年级_大三</th>\n",
       "      <th>年级_大二</th>\n",
       "      <th>年级_大四</th>\n",
       "      <th>性别_男</th>\n",
       "      <th>是否追求过别人_是</th>\n",
       "      <th>是否被别人追求过_是</th>\n",
       "      <th>班干部_是</th>\n",
       "      <th>党员_是</th>\n",
       "      <th>足球_是</th>\n",
       "      <th>篮球_是</th>\n",
       "      <th>...</th>\n",
       "      <th>主持_是</th>\n",
       "      <th>舞蹈_是</th>\n",
       "      <th>乐器_是</th>\n",
       "      <th>其他才艺_是</th>\n",
       "      <th>家乡_2二线城市</th>\n",
       "      <th>家乡_3三线城市</th>\n",
       "      <th>家乡_4县级市</th>\n",
       "      <th>家乡_5农村</th>\n",
       "      <th>寝室同学是否谈过恋爱_是</th>\n",
       "      <th>是否戴眼镜_是</th>\n",
       "    </tr>\n",
       "  </thead>\n",
       "  <tbody>\n",
       "    <tr>\n",
       "      <th>0</th>\n",
       "      <td>0</td>\n",
       "      <td>0</td>\n",
       "      <td>1</td>\n",
       "      <td>1</td>\n",
       "      <td>0</td>\n",
       "      <td>0</td>\n",
       "      <td>1</td>\n",
       "      <td>0</td>\n",
       "      <td>0</td>\n",
       "      <td>0</td>\n",
       "      <td>...</td>\n",
       "      <td>0</td>\n",
       "      <td>0</td>\n",
       "      <td>0</td>\n",
       "      <td>1</td>\n",
       "      <td>0</td>\n",
       "      <td>1</td>\n",
       "      <td>0</td>\n",
       "      <td>0</td>\n",
       "      <td>1</td>\n",
       "      <td>1</td>\n",
       "    </tr>\n",
       "    <tr>\n",
       "      <th>1</th>\n",
       "      <td>1</td>\n",
       "      <td>0</td>\n",
       "      <td>0</td>\n",
       "      <td>1</td>\n",
       "      <td>0</td>\n",
       "      <td>0</td>\n",
       "      <td>0</td>\n",
       "      <td>0</td>\n",
       "      <td>0</td>\n",
       "      <td>0</td>\n",
       "      <td>...</td>\n",
       "      <td>0</td>\n",
       "      <td>0</td>\n",
       "      <td>1</td>\n",
       "      <td>0</td>\n",
       "      <td>0</td>\n",
       "      <td>1</td>\n",
       "      <td>0</td>\n",
       "      <td>0</td>\n",
       "      <td>1</td>\n",
       "      <td>1</td>\n",
       "    </tr>\n",
       "    <tr>\n",
       "      <th>2</th>\n",
       "      <td>1</td>\n",
       "      <td>0</td>\n",
       "      <td>0</td>\n",
       "      <td>0</td>\n",
       "      <td>0</td>\n",
       "      <td>0</td>\n",
       "      <td>1</td>\n",
       "      <td>1</td>\n",
       "      <td>0</td>\n",
       "      <td>0</td>\n",
       "      <td>...</td>\n",
       "      <td>0</td>\n",
       "      <td>0</td>\n",
       "      <td>0</td>\n",
       "      <td>1</td>\n",
       "      <td>0</td>\n",
       "      <td>1</td>\n",
       "      <td>0</td>\n",
       "      <td>0</td>\n",
       "      <td>1</td>\n",
       "      <td>1</td>\n",
       "    </tr>\n",
       "    <tr>\n",
       "      <th>3</th>\n",
       "      <td>0</td>\n",
       "      <td>0</td>\n",
       "      <td>1</td>\n",
       "      <td>0</td>\n",
       "      <td>1</td>\n",
       "      <td>1</td>\n",
       "      <td>1</td>\n",
       "      <td>0</td>\n",
       "      <td>0</td>\n",
       "      <td>0</td>\n",
       "      <td>...</td>\n",
       "      <td>0</td>\n",
       "      <td>0</td>\n",
       "      <td>0</td>\n",
       "      <td>1</td>\n",
       "      <td>0</td>\n",
       "      <td>0</td>\n",
       "      <td>0</td>\n",
       "      <td>0</td>\n",
       "      <td>1</td>\n",
       "      <td>1</td>\n",
       "    </tr>\n",
       "    <tr>\n",
       "      <th>4</th>\n",
       "      <td>0</td>\n",
       "      <td>0</td>\n",
       "      <td>1</td>\n",
       "      <td>1</td>\n",
       "      <td>0</td>\n",
       "      <td>0</td>\n",
       "      <td>0</td>\n",
       "      <td>0</td>\n",
       "      <td>0</td>\n",
       "      <td>1</td>\n",
       "      <td>...</td>\n",
       "      <td>0</td>\n",
       "      <td>0</td>\n",
       "      <td>0</td>\n",
       "      <td>1</td>\n",
       "      <td>0</td>\n",
       "      <td>0</td>\n",
       "      <td>0</td>\n",
       "      <td>1</td>\n",
       "      <td>1</td>\n",
       "      <td>1</td>\n",
       "    </tr>\n",
       "  </tbody>\n",
       "</table>\n",
       "<p>5 rows × 25 columns</p>\n",
       "</div>"
      ],
      "text/plain": [
       "   年级_大三  年级_大二  年级_大四  性别_男  是否追求过别人_是  是否被别人追求过_是  班干部_是  党员_是  足球_是  篮球_是  \\\n",
       "0      0      0      1     1          0           0      1     0     0     0   \n",
       "1      1      0      0     1          0           0      0     0     0     0   \n",
       "2      1      0      0     0          0           0      1     1     0     0   \n",
       "3      0      0      1     0          1           1      1     0     0     0   \n",
       "4      0      0      1     1          0           0      0     0     0     1   \n",
       "\n",
       "   ...  主持_是  舞蹈_是  乐器_是  其他才艺_是  家乡_2二线城市  家乡_3三线城市  家乡_4县级市  家乡_5农村  \\\n",
       "0  ...     0     0     0       1         0         1        0       0   \n",
       "1  ...     0     0     1       0         0         1        0       0   \n",
       "2  ...     0     0     0       1         0         1        0       0   \n",
       "3  ...     0     0     0       1         0         0        0       0   \n",
       "4  ...     0     0     0       1         0         0        0       1   \n",
       "\n",
       "   寝室同学是否谈过恋爱_是  是否戴眼镜_是  \n",
       "0             1        1  \n",
       "1             1        1  \n",
       "2             1        1  \n",
       "3             1        1  \n",
       "4             1        1  \n",
       "\n",
       "[5 rows x 25 columns]"
      ]
     },
     "execution_count": 48,
     "metadata": {},
     "output_type": "execute_result"
    }
   ],
   "source": [
    "# 分类变量编码\n",
    "data['年级']=data['年级'].astype(str)\n",
    "class_data=pd.get_dummies(data[['年级','性别','是否追求过别人','是否被别人追求过','班干部','党员','足球','篮球','乒乓球','羽毛球','跑步','台球','唱歌','主持','舞蹈','乐器','其他才艺','家乡','寝室同学是否谈过恋爱','是否戴眼镜']], drop_first=True)\n",
    "class_data.head() "
   ]
  },
  {
   "cell_type": "code",
   "execution_count": 49,
   "metadata": {
    "ExecuteTime": {
     "end_time": "2020-10-21T06:52:11.351874Z",
     "start_time": "2020-10-21T06:52:11.314941Z"
    }
   },
   "outputs": [
    {
     "data": {
      "text/html": [
       "<div>\n",
       "<style scoped>\n",
       "    .dataframe tbody tr th:only-of-type {\n",
       "        vertical-align: middle;\n",
       "    }\n",
       "\n",
       "    .dataframe tbody tr th {\n",
       "        vertical-align: top;\n",
       "    }\n",
       "\n",
       "    .dataframe thead th {\n",
       "        text-align: right;\n",
       "    }\n",
       "</style>\n",
       "<table border=\"1\" class=\"dataframe\">\n",
       "  <thead>\n",
       "    <tr style=\"text-align: right;\">\n",
       "      <th></th>\n",
       "      <th>每周自习时间</th>\n",
       "      <th>每周娱乐时间</th>\n",
       "      <th>每周睡觉时间</th>\n",
       "      <th>每周运动时间</th>\n",
       "      <th>每月话费</th>\n",
       "      <th>学生组织个数</th>\n",
       "      <th>成绩水平</th>\n",
       "      <th>生活费_百元</th>\n",
       "      <th>身高</th>\n",
       "      <th>体重</th>\n",
       "      <th>颜值</th>\n",
       "    </tr>\n",
       "  </thead>\n",
       "  <tbody>\n",
       "    <tr>\n",
       "      <th>0</th>\n",
       "      <td>2.395950</td>\n",
       "      <td>2.153485</td>\n",
       "      <td>1.485031</td>\n",
       "      <td>-1.237865</td>\n",
       "      <td>0.468947</td>\n",
       "      <td>-1.729630</td>\n",
       "      <td>-0.512603</td>\n",
       "      <td>-0.536855</td>\n",
       "      <td>0.073876</td>\n",
       "      <td>-0.094679</td>\n",
       "      <td>-2.570115</td>\n",
       "    </tr>\n",
       "    <tr>\n",
       "      <th>1</th>\n",
       "      <td>-1.109443</td>\n",
       "      <td>2.153485</td>\n",
       "      <td>0.836022</td>\n",
       "      <td>-0.229260</td>\n",
       "      <td>-2.042964</td>\n",
       "      <td>-1.729630</td>\n",
       "      <td>-1.251739</td>\n",
       "      <td>-0.783533</td>\n",
       "      <td>0.183198</td>\n",
       "      <td>0.812161</td>\n",
       "      <td>-2.570115</td>\n",
       "    </tr>\n",
       "    <tr>\n",
       "      <th>2</th>\n",
       "      <td>-1.031545</td>\n",
       "      <td>-0.895763</td>\n",
       "      <td>0.557876</td>\n",
       "      <td>-1.036144</td>\n",
       "      <td>-0.966431</td>\n",
       "      <td>0.627494</td>\n",
       "      <td>0.596102</td>\n",
       "      <td>-0.577968</td>\n",
       "      <td>-1.019343</td>\n",
       "      <td>0.070201</td>\n",
       "      <td>-0.499038</td>\n",
       "    </tr>\n",
       "    <tr>\n",
       "      <th>3</th>\n",
       "      <td>-0.252569</td>\n",
       "      <td>-0.375159</td>\n",
       "      <td>0.187013</td>\n",
       "      <td>0.779346</td>\n",
       "      <td>-0.679355</td>\n",
       "      <td>1.216774</td>\n",
       "      <td>-0.475646</td>\n",
       "      <td>-0.742420</td>\n",
       "      <td>-0.800699</td>\n",
       "      <td>-0.836640</td>\n",
       "      <td>-0.084822</td>\n",
       "    </tr>\n",
       "    <tr>\n",
       "      <th>4</th>\n",
       "      <td>1.227485</td>\n",
       "      <td>0.666047</td>\n",
       "      <td>-1.111005</td>\n",
       "      <td>-0.229260</td>\n",
       "      <td>-0.607586</td>\n",
       "      <td>-1.140349</td>\n",
       "      <td>0.411318</td>\n",
       "      <td>-0.660194</td>\n",
       "      <td>0.620486</td>\n",
       "      <td>0.977041</td>\n",
       "      <td>-0.499038</td>\n",
       "    </tr>\n",
       "  </tbody>\n",
       "</table>\n",
       "</div>"
      ],
      "text/plain": [
       "     每周自习时间    每周娱乐时间    每周睡觉时间    每周运动时间      每月话费    学生组织个数      成绩水平  \\\n",
       "0  2.395950  2.153485  1.485031 -1.237865  0.468947 -1.729630 -0.512603   \n",
       "1 -1.109443  2.153485  0.836022 -0.229260 -2.042964 -1.729630 -1.251739   \n",
       "2 -1.031545 -0.895763  0.557876 -1.036144 -0.966431  0.627494  0.596102   \n",
       "3 -0.252569 -0.375159  0.187013  0.779346 -0.679355  1.216774 -0.475646   \n",
       "4  1.227485  0.666047 -1.111005 -0.229260 -0.607586 -1.140349  0.411318   \n",
       "\n",
       "     生活费_百元        身高        体重        颜值  \n",
       "0 -0.536855  0.073876 -0.094679 -2.570115  \n",
       "1 -0.783533  0.183198  0.812161 -2.570115  \n",
       "2 -0.577968 -1.019343  0.070201 -0.499038  \n",
       "3 -0.742420 -0.800699 -0.836640 -0.084822  \n",
       "4 -0.660194  0.620486  0.977041 -0.499038  "
      ]
     },
     "execution_count": 49,
     "metadata": {},
     "output_type": "execute_result"
    }
   ],
   "source": [
    "# 数值变量数据标准化\n",
    "from sklearn.preprocessing import StandardScaler\n",
    "scaler=StandardScaler()\n",
    "\n",
    "num_data=scaler.fit_transform(data[['每周自习时间','每周娱乐时间','每周睡觉时间','每周运动时间','每月话费','学生组织个数','成绩水平','生活费_百元','身高','体重','颜值']])\n",
    "num_data=pd.DataFrame(num_data,columns=['每周自习时间','每周娱乐时间','每周睡觉时间','每周运动时间','每月话费','学生组织个数','成绩水平','生活费_百元','身高','体重','颜值'])\n",
    "num_data.head()"
   ]
  },
  {
   "cell_type": "code",
   "execution_count": 50,
   "metadata": {
    "ExecuteTime": {
     "end_time": "2020-10-21T06:53:23.901692Z",
     "start_time": "2020-10-21T06:53:23.865819Z"
    }
   },
   "outputs": [
    {
     "data": {
      "text/html": [
       "<div>\n",
       "<style scoped>\n",
       "    .dataframe tbody tr th:only-of-type {\n",
       "        vertical-align: middle;\n",
       "    }\n",
       "\n",
       "    .dataframe tbody tr th {\n",
       "        vertical-align: top;\n",
       "    }\n",
       "\n",
       "    .dataframe thead th {\n",
       "        text-align: right;\n",
       "    }\n",
       "</style>\n",
       "<table border=\"1\" class=\"dataframe\">\n",
       "  <thead>\n",
       "    <tr style=\"text-align: right;\">\n",
       "      <th></th>\n",
       "      <th>是否恋爱</th>\n",
       "      <th>年级_大三</th>\n",
       "      <th>年级_大二</th>\n",
       "      <th>年级_大四</th>\n",
       "      <th>性别_男</th>\n",
       "      <th>是否追求过别人_是</th>\n",
       "      <th>是否被别人追求过_是</th>\n",
       "      <th>班干部_是</th>\n",
       "      <th>党员_是</th>\n",
       "      <th>足球_是</th>\n",
       "      <th>...</th>\n",
       "      <th>每周娱乐时间</th>\n",
       "      <th>每周睡觉时间</th>\n",
       "      <th>每周运动时间</th>\n",
       "      <th>每月话费</th>\n",
       "      <th>学生组织个数</th>\n",
       "      <th>成绩水平</th>\n",
       "      <th>生活费_百元</th>\n",
       "      <th>身高</th>\n",
       "      <th>体重</th>\n",
       "      <th>颜值</th>\n",
       "    </tr>\n",
       "  </thead>\n",
       "  <tbody>\n",
       "    <tr>\n",
       "      <th>0</th>\n",
       "      <td>否</td>\n",
       "      <td>0</td>\n",
       "      <td>0</td>\n",
       "      <td>1</td>\n",
       "      <td>1</td>\n",
       "      <td>0</td>\n",
       "      <td>0</td>\n",
       "      <td>1</td>\n",
       "      <td>0</td>\n",
       "      <td>0</td>\n",
       "      <td>...</td>\n",
       "      <td>2.153485</td>\n",
       "      <td>1.485031</td>\n",
       "      <td>-1.237865</td>\n",
       "      <td>0.468947</td>\n",
       "      <td>-1.729630</td>\n",
       "      <td>-0.512603</td>\n",
       "      <td>-0.536855</td>\n",
       "      <td>0.073876</td>\n",
       "      <td>-0.094679</td>\n",
       "      <td>-2.570115</td>\n",
       "    </tr>\n",
       "    <tr>\n",
       "      <th>1</th>\n",
       "      <td>否</td>\n",
       "      <td>1</td>\n",
       "      <td>0</td>\n",
       "      <td>0</td>\n",
       "      <td>1</td>\n",
       "      <td>0</td>\n",
       "      <td>0</td>\n",
       "      <td>0</td>\n",
       "      <td>0</td>\n",
       "      <td>0</td>\n",
       "      <td>...</td>\n",
       "      <td>2.153485</td>\n",
       "      <td>0.836022</td>\n",
       "      <td>-0.229260</td>\n",
       "      <td>-2.042964</td>\n",
       "      <td>-1.729630</td>\n",
       "      <td>-1.251739</td>\n",
       "      <td>-0.783533</td>\n",
       "      <td>0.183198</td>\n",
       "      <td>0.812161</td>\n",
       "      <td>-2.570115</td>\n",
       "    </tr>\n",
       "    <tr>\n",
       "      <th>2</th>\n",
       "      <td>否</td>\n",
       "      <td>1</td>\n",
       "      <td>0</td>\n",
       "      <td>0</td>\n",
       "      <td>0</td>\n",
       "      <td>0</td>\n",
       "      <td>0</td>\n",
       "      <td>1</td>\n",
       "      <td>1</td>\n",
       "      <td>0</td>\n",
       "      <td>...</td>\n",
       "      <td>-0.895763</td>\n",
       "      <td>0.557876</td>\n",
       "      <td>-1.036144</td>\n",
       "      <td>-0.966431</td>\n",
       "      <td>0.627494</td>\n",
       "      <td>0.596102</td>\n",
       "      <td>-0.577968</td>\n",
       "      <td>-1.019343</td>\n",
       "      <td>0.070201</td>\n",
       "      <td>-0.499038</td>\n",
       "    </tr>\n",
       "    <tr>\n",
       "      <th>3</th>\n",
       "      <td>否</td>\n",
       "      <td>0</td>\n",
       "      <td>0</td>\n",
       "      <td>1</td>\n",
       "      <td>0</td>\n",
       "      <td>1</td>\n",
       "      <td>1</td>\n",
       "      <td>1</td>\n",
       "      <td>0</td>\n",
       "      <td>0</td>\n",
       "      <td>...</td>\n",
       "      <td>-0.375159</td>\n",
       "      <td>0.187013</td>\n",
       "      <td>0.779346</td>\n",
       "      <td>-0.679355</td>\n",
       "      <td>1.216774</td>\n",
       "      <td>-0.475646</td>\n",
       "      <td>-0.742420</td>\n",
       "      <td>-0.800699</td>\n",
       "      <td>-0.836640</td>\n",
       "      <td>-0.084822</td>\n",
       "    </tr>\n",
       "    <tr>\n",
       "      <th>4</th>\n",
       "      <td>否</td>\n",
       "      <td>0</td>\n",
       "      <td>0</td>\n",
       "      <td>1</td>\n",
       "      <td>1</td>\n",
       "      <td>0</td>\n",
       "      <td>0</td>\n",
       "      <td>0</td>\n",
       "      <td>0</td>\n",
       "      <td>0</td>\n",
       "      <td>...</td>\n",
       "      <td>0.666047</td>\n",
       "      <td>-1.111005</td>\n",
       "      <td>-0.229260</td>\n",
       "      <td>-0.607586</td>\n",
       "      <td>-1.140349</td>\n",
       "      <td>0.411318</td>\n",
       "      <td>-0.660194</td>\n",
       "      <td>0.620486</td>\n",
       "      <td>0.977041</td>\n",
       "      <td>-0.499038</td>\n",
       "    </tr>\n",
       "  </tbody>\n",
       "</table>\n",
       "<p>5 rows × 37 columns</p>\n",
       "</div>"
      ],
      "text/plain": [
       "  是否恋爱  年级_大三  年级_大二  年级_大四  性别_男  是否追求过别人_是  是否被别人追求过_是  班干部_是  党员_是  足球_是  \\\n",
       "0    否      0      0      1     1          0           0      1     0     0   \n",
       "1    否      1      0      0     1          0           0      0     0     0   \n",
       "2    否      1      0      0     0          0           0      1     1     0   \n",
       "3    否      0      0      1     0          1           1      1     0     0   \n",
       "4    否      0      0      1     1          0           0      0     0     0   \n",
       "\n",
       "   ...    每周娱乐时间    每周睡觉时间    每周运动时间      每月话费    学生组织个数      成绩水平    生活费_百元  \\\n",
       "0  ...  2.153485  1.485031 -1.237865  0.468947 -1.729630 -0.512603 -0.536855   \n",
       "1  ...  2.153485  0.836022 -0.229260 -2.042964 -1.729630 -1.251739 -0.783533   \n",
       "2  ... -0.895763  0.557876 -1.036144 -0.966431  0.627494  0.596102 -0.577968   \n",
       "3  ... -0.375159  0.187013  0.779346 -0.679355  1.216774 -0.475646 -0.742420   \n",
       "4  ...  0.666047 -1.111005 -0.229260 -0.607586 -1.140349  0.411318 -0.660194   \n",
       "\n",
       "         身高        体重        颜值  \n",
       "0  0.073876 -0.094679 -2.570115  \n",
       "1  0.183198  0.812161 -2.570115  \n",
       "2 -1.019343  0.070201 -0.499038  \n",
       "3 -0.800699 -0.836640 -0.084822  \n",
       "4  0.620486  0.977041 -0.499038  \n",
       "\n",
       "[5 rows x 37 columns]"
      ]
     },
     "execution_count": 50,
     "metadata": {},
     "output_type": "execute_result"
    }
   ],
   "source": [
    "#数据拼接\n",
    "data_new=pd.concat([data['是否恋爱'],class_data,num_data],axis=1)\n",
    "data_new.head()"
   ]
  },
  {
   "cell_type": "markdown",
   "metadata": {},
   "source": [
    "### （5）拆分数据集"
   ]
  },
  {
   "cell_type": "code",
   "execution_count": 51,
   "metadata": {
    "ExecuteTime": {
     "end_time": "2020-10-21T06:53:25.592464Z",
     "start_time": "2020-10-21T06:53:25.576476Z"
    }
   },
   "outputs": [],
   "source": [
    "from sklearn.model_selection import train_test_split\n",
    "\n",
    "X = data_new.drop('是否恋爱', axis=1)\n",
    "y = data_new.是否恋爱\n",
    "X_train, X_test, y_train, y_test = train_test_split(X, y, test_size=0.1,random_state=52)"
   ]
  },
  {
   "cell_type": "code",
   "execution_count": 52,
   "metadata": {
    "ExecuteTime": {
     "end_time": "2020-10-21T06:53:26.453001Z",
     "start_time": "2020-10-21T06:53:26.445006Z"
    }
   },
   "outputs": [
    {
     "data": {
      "text/plain": [
       "(263, 36)"
      ]
     },
     "execution_count": 52,
     "metadata": {},
     "output_type": "execute_result"
    }
   ],
   "source": [
    "X_train.shape"
   ]
  },
  {
   "cell_type": "code",
   "execution_count": 53,
   "metadata": {
    "ExecuteTime": {
     "end_time": "2020-10-21T06:53:27.185431Z",
     "start_time": "2020-10-21T06:53:27.171453Z"
    }
   },
   "outputs": [
    {
     "data": {
      "text/plain": [
       "(30, 36)"
      ]
     },
     "execution_count": 53,
     "metadata": {},
     "output_type": "execute_result"
    }
   ],
   "source": [
    "X_test.shape"
   ]
  },
  {
   "cell_type": "code",
   "execution_count": 54,
   "metadata": {
    "ExecuteTime": {
     "end_time": "2020-10-21T06:53:27.805657Z",
     "start_time": "2020-10-21T06:53:27.790704Z"
    }
   },
   "outputs": [
    {
     "data": {
      "text/plain": [
       "<bound method IndexOpsMixin.value_counts of 159    是\n",
       "262    是\n",
       "136    是\n",
       "6      否\n",
       "169    是\n",
       "181    是\n",
       "220    是\n",
       "244    是\n",
       "76     否\n",
       "127    是\n",
       "229    是\n",
       "62     否\n",
       "161    是\n",
       "222    是\n",
       "114    是\n",
       "280    是\n",
       "1      否\n",
       "204    是\n",
       "231    是\n",
       "79     否\n",
       "94     是\n",
       "269    是\n",
       "289    是\n",
       "83     是\n",
       "221    是\n",
       "205    是\n",
       "167    是\n",
       "243    是\n",
       "168    是\n",
       "196    是\n",
       "Name: 是否恋爱, dtype: object>"
      ]
     },
     "execution_count": 54,
     "metadata": {},
     "output_type": "execute_result"
    }
   ],
   "source": [
    "y_test.value_counts"
   ]
  },
  {
   "cell_type": "markdown",
   "metadata": {},
   "source": [
    "### （6）构建逻辑回归模型 "
   ]
  },
  {
   "cell_type": "code",
   "execution_count": 55,
   "metadata": {
    "ExecuteTime": {
     "end_time": "2020-10-21T06:53:29.234403Z",
     "start_time": "2020-10-21T06:53:29.109760Z"
    }
   },
   "outputs": [
    {
     "data": {
      "text/plain": [
       "LogisticRegression(C=1.0, class_weight=None, dual=False, fit_intercept=True,\n",
       "                   intercept_scaling=1, l1_ratio=None, max_iter=1000,\n",
       "                   multi_class='auto', n_jobs=None, penalty='l2',\n",
       "                   random_state=52, solver='lbfgs', tol=0.0001, verbose=0,\n",
       "                   warm_start=False)"
      ]
     },
     "execution_count": 55,
     "metadata": {},
     "output_type": "execute_result"
    }
   ],
   "source": [
    "#训练模型\n",
    "from sklearn import linear_model\n",
    "from sklearn import metrics \n",
    "\n",
    "LR_model = linear_model.LogisticRegression(max_iter=1000,random_state=52)\n",
    "LR_model.fit(X_train, y_train) "
   ]
  },
  {
   "cell_type": "code",
   "execution_count": 56,
   "metadata": {
    "ExecuteTime": {
     "end_time": "2020-10-21T06:53:29.727066Z",
     "start_time": "2020-10-21T06:53:29.710106Z"
    }
   },
   "outputs": [],
   "source": [
    "#在测试集上验证\n",
    "y_predict=LR_model.predict(X_test) #输出分类结果\n",
    "y_predict_prob=LR_model.predict_proba(X_test)[:,1] #输出是正例1的概率"
   ]
  },
  {
   "cell_type": "code",
   "execution_count": 57,
   "metadata": {
    "ExecuteTime": {
     "end_time": "2020-10-21T06:53:30.456211Z",
     "start_time": "2020-10-21T06:53:30.438259Z"
    }
   },
   "outputs": [
    {
     "data": {
      "text/plain": [
       "array(['否', '是', '是', '是', '否', '是', '否', '是', '否', '是', '是', '是', '否',\n",
       "       '否', '是', '是', '否', '是', '是', '否', '是', '是', '是', '是', '是', '是',\n",
       "       '是', '是', '是', '是'], dtype=object)"
      ]
     },
     "execution_count": 57,
     "metadata": {},
     "output_type": "execute_result"
    }
   ],
   "source": [
    "y_predict"
   ]
  },
  {
   "cell_type": "code",
   "execution_count": 58,
   "metadata": {
    "ExecuteTime": {
     "end_time": "2020-10-21T06:53:31.276768Z",
     "start_time": "2020-10-21T06:53:31.265798Z"
    }
   },
   "outputs": [
    {
     "data": {
      "text/plain": [
       "array([0.20771026, 0.76518009, 0.57162189, 0.85815564, 0.45563452,\n",
       "       0.73704553, 0.22262371, 0.88727498, 0.43054923, 0.93535622,\n",
       "       0.84327675, 0.64338949, 0.44530915, 0.37401858, 0.95155194,\n",
       "       0.88491694, 0.24309498, 0.97244408, 0.81301068, 0.20633591,\n",
       "       0.93803896, 0.93560372, 0.84847527, 0.97197944, 0.87757523,\n",
       "       0.9837593 , 0.92883481, 0.74766297, 0.5441997 , 0.86448692])"
      ]
     },
     "execution_count": 58,
     "metadata": {},
     "output_type": "execute_result"
    }
   ],
   "source": [
    "y_predict_prob"
   ]
  },
  {
   "cell_type": "code",
   "execution_count": 59,
   "metadata": {
    "ExecuteTime": {
     "end_time": "2020-10-21T06:53:32.069725Z",
     "start_time": "2020-10-21T06:53:32.056721Z"
    }
   },
   "outputs": [
    {
     "data": {
      "text/plain": [
       "0.9837592995702723"
      ]
     },
     "execution_count": 59,
     "metadata": {},
     "output_type": "execute_result"
    }
   ],
   "source": [
    "y_predict_prob.max()"
   ]
  },
  {
   "cell_type": "code",
   "execution_count": 60,
   "metadata": {
    "ExecuteTime": {
     "end_time": "2020-10-21T06:53:32.936158Z",
     "start_time": "2020-10-21T06:53:32.923194Z"
    }
   },
   "outputs": [
    {
     "data": {
      "text/plain": [
       "0.2063359134021904"
      ]
     },
     "execution_count": 60,
     "metadata": {},
     "output_type": "execute_result"
    }
   ],
   "source": [
    "y_predict_prob.min()"
   ]
  },
  {
   "cell_type": "code",
   "execution_count": 61,
   "metadata": {
    "ExecuteTime": {
     "end_time": "2020-10-21T06:53:33.761159Z",
     "start_time": "2020-10-21T06:53:33.688697Z"
    }
   },
   "outputs": [
    {
     "data": {
      "text/plain": [
       "0.7999999999999999"
      ]
     },
     "execution_count": 61,
     "metadata": {},
     "output_type": "execute_result"
    }
   ],
   "source": [
    "metrics.roc_auc_score(y_test,y_predict_prob) #AUC"
   ]
  },
  {
   "cell_type": "code",
   "execution_count": 62,
   "metadata": {
    "ExecuteTime": {
     "end_time": "2020-10-21T06:53:34.399577Z",
     "start_time": "2020-10-21T06:53:34.317307Z"
    }
   },
   "outputs": [
    {
     "name": "stdout",
     "output_type": "stream",
     "text": [
      "查准率 查全率 F1值：\n",
      "              precision    recall  f1-score   support\n",
      "\n",
      "           否       0.38      0.60      0.46         5\n",
      "           是       0.91      0.80      0.85        25\n",
      "\n",
      "    accuracy                           0.77        30\n",
      "   macro avg       0.64      0.70      0.66        30\n",
      "weighted avg       0.82      0.77      0.79        30\n",
      "\n"
     ]
    }
   ],
   "source": [
    "print('查准率','查全率','F1值：')\n",
    "print(metrics.classification_report(y_test,y_predict))"
   ]
  },
  {
   "cell_type": "code",
   "execution_count": 63,
   "metadata": {
    "ExecuteTime": {
     "end_time": "2020-10-21T06:53:35.052870Z",
     "start_time": "2020-10-21T06:53:35.036911Z"
    }
   },
   "outputs": [
    {
     "name": "stdout",
     "output_type": "stream",
     "text": [
      "混淆矩阵：\n",
      "[[ 3  2]\n",
      " [ 5 20]]\n"
     ]
    }
   ],
   "source": [
    "print('混淆矩阵：')\n",
    "print(metrics.confusion_matrix(y_test,y_predict)) "
   ]
  },
  {
   "cell_type": "code",
   "execution_count": 64,
   "metadata": {
    "ExecuteTime": {
     "end_time": "2020-10-21T06:53:35.985080Z",
     "start_time": "2020-10-21T06:53:35.972097Z"
    }
   },
   "outputs": [
    {
     "data": {
      "text/plain": [
       "159    是\n",
       "262    是\n",
       "136    是\n",
       "6      否\n",
       "169    是\n",
       "181    是\n",
       "220    是\n",
       "244    是\n",
       "76     否\n",
       "127    是\n",
       "229    是\n",
       "62     否\n",
       "161    是\n",
       "222    是\n",
       "114    是\n",
       "280    是\n",
       "1      否\n",
       "204    是\n",
       "231    是\n",
       "79     否\n",
       "94     是\n",
       "269    是\n",
       "289    是\n",
       "83     是\n",
       "221    是\n",
       "205    是\n",
       "167    是\n",
       "243    是\n",
       "168    是\n",
       "196    是\n",
       "Name: 是否恋爱, dtype: object"
      ]
     },
     "execution_count": 64,
     "metadata": {},
     "output_type": "execute_result"
    }
   ],
   "source": [
    "y_test"
   ]
  },
  {
   "cell_type": "code",
   "execution_count": 65,
   "metadata": {
    "ExecuteTime": {
     "end_time": "2020-10-21T06:53:37.083116Z",
     "start_time": "2020-10-21T06:53:36.938023Z"
    }
   },
   "outputs": [
    {
     "data": {
      "image/png": "[encoded data removed]",
      "text/plain": [
       "<Figure size 432x288 with 1 Axes>"
      ]
     },
     "metadata": {
      "needs_background": "light"
     },
     "output_type": "display_data"
    }
   ],
   "source": [
    "fpr, tpr, thresholds = metrics.roc_curve(y_test, y_predict_prob, pos_label= '是')\n",
    "plt.plot(fpr, tpr) #绘制ROC曲线图\n",
    "plt.xlabel(\"FPR\") \n",
    "plt.ylabel(\"TPR\")\n",
    "plt.title(\"ROC曲线\")\n",
    "plt.show()"
   ]
  },
  {
   "cell_type": "markdown",
   "metadata": {},
   "source": [
    "### （7）结果分析 "
   ]
  },
  {
   "cell_type": "code",
   "execution_count": 66,
   "metadata": {
    "ExecuteTime": {
     "end_time": "2020-10-21T06:53:38.869697Z",
     "start_time": "2020-10-21T06:53:38.859723Z"
    }
   },
   "outputs": [
    {
     "name": "stdout",
     "output_type": "stream",
     "text": [
      "['年级_大三', '年级_大二', '年级_大四', '性别_男', '是否追求过别人_是', '是否被别人追求过_是', '班干部_是', '党员_是', '足球_是', '篮球_是', '乒乓球_是', '羽毛球_是', '跑步_是', '台球_是', '唱歌_是', '主持_是', '舞蹈_是', '乐器_是', '其他才艺_是', '家乡_2二线城市', '家乡_3三线城市', '家乡_4县级市', '家乡_5农村', '寝室同学是否谈过恋爱_是', '是否戴眼镜_是', '每周自习时间', '每周娱乐时间', '每周睡觉时间', '每周运动时间', '每月话费', '学生组织个数', '成绩水平', '生活费_百元', '身高', '体重', '颜值']\n"
     ]
    }
   ],
   "source": [
    "feature_list=list(X_train.columns)\n",
    "print(feature_list)"
   ]
  },
  {
   "cell_type": "code",
   "execution_count": 67,
   "metadata": {
    "ExecuteTime": {
     "end_time": "2020-10-21T06:53:39.615252Z",
     "start_time": "2020-10-21T06:53:39.605315Z"
    }
   },
   "outputs": [
    {
     "name": "stdout",
     "output_type": "stream",
     "text": [
      "[ 0.33307436 -0.3338986  -0.02056752 -0.16410348  1.47482834  1.87226774\n",
      " -0.11508781 -0.00831581 -0.11086368 -0.0425965  -0.7939128  -0.28048893\n",
      "  0.15917996  0.8578829   0.1247632   0.5337059  -0.44779671  0.49290655\n",
      "  0.52213802  0.45537841 -0.06657866  0.20407018 -0.70833234  1.43595433\n",
      "  0.30387972 -0.01658537  0.07680058 -0.03019559 -0.01601318  0.33915038\n",
      "  0.16071214 -0.1021454  -0.05739637  0.06190871  0.11038503  0.26819561]\n"
     ]
    }
   ],
   "source": [
    "weight=LR_model.coef_\n",
    "weight=weight[0]\n",
    "print(weight)"
   ]
  },
  {
   "cell_type": "code",
   "execution_count": 68,
   "metadata": {
    "ExecuteTime": {
     "end_time": "2020-10-21T06:53:40.600203Z",
     "start_time": "2020-10-21T06:53:40.569237Z"
    },
    "scrolled": false
   },
   "outputs": [
    {
     "data": {
      "text/html": [
       "<div>\n",
       "<style scoped>\n",
       "    .dataframe tbody tr th:only-of-type {\n",
       "        vertical-align: middle;\n",
       "    }\n",
       "\n",
       "    .dataframe tbody tr th {\n",
       "        vertical-align: top;\n",
       "    }\n",
       "\n",
       "    .dataframe thead th {\n",
       "        text-align: right;\n",
       "    }\n",
       "</style>\n",
       "<table border=\"1\" class=\"dataframe\">\n",
       "  <thead>\n",
       "    <tr style=\"text-align: right;\">\n",
       "      <th></th>\n",
       "      <th>feature</th>\n",
       "      <th>weight</th>\n",
       "    </tr>\n",
       "  </thead>\n",
       "  <tbody>\n",
       "    <tr>\n",
       "      <th>5</th>\n",
       "      <td>是否被别人追求过_是</td>\n",
       "      <td>1.872268</td>\n",
       "    </tr>\n",
       "    <tr>\n",
       "      <th>4</th>\n",
       "      <td>是否追求过别人_是</td>\n",
       "      <td>1.474828</td>\n",
       "    </tr>\n",
       "    <tr>\n",
       "      <th>23</th>\n",
       "      <td>寝室同学是否谈过恋爱_是</td>\n",
       "      <td>1.435954</td>\n",
       "    </tr>\n",
       "    <tr>\n",
       "      <th>13</th>\n",
       "      <td>台球_是</td>\n",
       "      <td>0.857883</td>\n",
       "    </tr>\n",
       "    <tr>\n",
       "      <th>15</th>\n",
       "      <td>主持_是</td>\n",
       "      <td>0.533706</td>\n",
       "    </tr>\n",
       "    <tr>\n",
       "      <th>18</th>\n",
       "      <td>其他才艺_是</td>\n",
       "      <td>0.522138</td>\n",
       "    </tr>\n",
       "    <tr>\n",
       "      <th>17</th>\n",
       "      <td>乐器_是</td>\n",
       "      <td>0.492907</td>\n",
       "    </tr>\n",
       "    <tr>\n",
       "      <th>19</th>\n",
       "      <td>家乡_2二线城市</td>\n",
       "      <td>0.455378</td>\n",
       "    </tr>\n",
       "    <tr>\n",
       "      <th>29</th>\n",
       "      <td>每月话费</td>\n",
       "      <td>0.339150</td>\n",
       "    </tr>\n",
       "    <tr>\n",
       "      <th>0</th>\n",
       "      <td>年级_大三</td>\n",
       "      <td>0.333074</td>\n",
       "    </tr>\n",
       "    <tr>\n",
       "      <th>24</th>\n",
       "      <td>是否戴眼镜_是</td>\n",
       "      <td>0.303880</td>\n",
       "    </tr>\n",
       "    <tr>\n",
       "      <th>35</th>\n",
       "      <td>颜值</td>\n",
       "      <td>0.268196</td>\n",
       "    </tr>\n",
       "    <tr>\n",
       "      <th>21</th>\n",
       "      <td>家乡_4县级市</td>\n",
       "      <td>0.204070</td>\n",
       "    </tr>\n",
       "    <tr>\n",
       "      <th>30</th>\n",
       "      <td>学生组织个数</td>\n",
       "      <td>0.160712</td>\n",
       "    </tr>\n",
       "    <tr>\n",
       "      <th>12</th>\n",
       "      <td>跑步_是</td>\n",
       "      <td>0.159180</td>\n",
       "    </tr>\n",
       "    <tr>\n",
       "      <th>14</th>\n",
       "      <td>唱歌_是</td>\n",
       "      <td>0.124763</td>\n",
       "    </tr>\n",
       "    <tr>\n",
       "      <th>34</th>\n",
       "      <td>体重</td>\n",
       "      <td>0.110385</td>\n",
       "    </tr>\n",
       "    <tr>\n",
       "      <th>26</th>\n",
       "      <td>每周娱乐时间</td>\n",
       "      <td>0.076801</td>\n",
       "    </tr>\n",
       "    <tr>\n",
       "      <th>33</th>\n",
       "      <td>身高</td>\n",
       "      <td>0.061909</td>\n",
       "    </tr>\n",
       "    <tr>\n",
       "      <th>7</th>\n",
       "      <td>党员_是</td>\n",
       "      <td>-0.008316</td>\n",
       "    </tr>\n",
       "    <tr>\n",
       "      <th>28</th>\n",
       "      <td>每周运动时间</td>\n",
       "      <td>-0.016013</td>\n",
       "    </tr>\n",
       "    <tr>\n",
       "      <th>25</th>\n",
       "      <td>每周自习时间</td>\n",
       "      <td>-0.016585</td>\n",
       "    </tr>\n",
       "    <tr>\n",
       "      <th>2</th>\n",
       "      <td>年级_大四</td>\n",
       "      <td>-0.020568</td>\n",
       "    </tr>\n",
       "    <tr>\n",
       "      <th>27</th>\n",
       "      <td>每周睡觉时间</td>\n",
       "      <td>-0.030196</td>\n",
       "    </tr>\n",
       "    <tr>\n",
       "      <th>9</th>\n",
       "      <td>篮球_是</td>\n",
       "      <td>-0.042596</td>\n",
       "    </tr>\n",
       "    <tr>\n",
       "      <th>32</th>\n",
       "      <td>生活费_百元</td>\n",
       "      <td>-0.057396</td>\n",
       "    </tr>\n",
       "    <tr>\n",
       "      <th>20</th>\n",
       "      <td>家乡_3三线城市</td>\n",
       "      <td>-0.066579</td>\n",
       "    </tr>\n",
       "    <tr>\n",
       "      <th>31</th>\n",
       "      <td>成绩水平</td>\n",
       "      <td>-0.102145</td>\n",
       "    </tr>\n",
       "    <tr>\n",
       "      <th>8</th>\n",
       "      <td>足球_是</td>\n",
       "      <td>-0.110864</td>\n",
       "    </tr>\n",
       "    <tr>\n",
       "      <th>6</th>\n",
       "      <td>班干部_是</td>\n",
       "      <td>-0.115088</td>\n",
       "    </tr>\n",
       "    <tr>\n",
       "      <th>3</th>\n",
       "      <td>性别_男</td>\n",
       "      <td>-0.164103</td>\n",
       "    </tr>\n",
       "    <tr>\n",
       "      <th>11</th>\n",
       "      <td>羽毛球_是</td>\n",
       "      <td>-0.280489</td>\n",
       "    </tr>\n",
       "    <tr>\n",
       "      <th>1</th>\n",
       "      <td>年级_大二</td>\n",
       "      <td>-0.333899</td>\n",
       "    </tr>\n",
       "    <tr>\n",
       "      <th>16</th>\n",
       "      <td>舞蹈_是</td>\n",
       "      <td>-0.447797</td>\n",
       "    </tr>\n",
       "    <tr>\n",
       "      <th>22</th>\n",
       "      <td>家乡_5农村</td>\n",
       "      <td>-0.708332</td>\n",
       "    </tr>\n",
       "    <tr>\n",
       "      <th>10</th>\n",
       "      <td>乒乓球_是</td>\n",
       "      <td>-0.793913</td>\n",
       "    </tr>\n",
       "  </tbody>\n",
       "</table>\n",
       "</div>"
      ],
      "text/plain": [
       "         feature    weight\n",
       "5     是否被别人追求过_是  1.872268\n",
       "4      是否追求过别人_是  1.474828\n",
       "23  寝室同学是否谈过恋爱_是  1.435954\n",
       "13          台球_是  0.857883\n",
       "15          主持_是  0.533706\n",
       "18        其他才艺_是  0.522138\n",
       "17          乐器_是  0.492907\n",
       "19      家乡_2二线城市  0.455378\n",
       "29          每月话费  0.339150\n",
       "0          年级_大三  0.333074\n",
       "24       是否戴眼镜_是  0.303880\n",
       "35            颜值  0.268196\n",
       "21       家乡_4县级市  0.204070\n",
       "30        学生组织个数  0.160712\n",
       "12          跑步_是  0.159180\n",
       "14          唱歌_是  0.124763\n",
       "34            体重  0.110385\n",
       "26        每周娱乐时间  0.076801\n",
       "33            身高  0.061909\n",
       "7           党员_是 -0.008316\n",
       "28        每周运动时间 -0.016013\n",
       "25        每周自习时间 -0.016585\n",
       "2          年级_大四 -0.020568\n",
       "27        每周睡觉时间 -0.030196\n",
       "9           篮球_是 -0.042596\n",
       "32        生活费_百元 -0.057396\n",
       "20      家乡_3三线城市 -0.066579\n",
       "31          成绩水平 -0.102145\n",
       "8           足球_是 -0.110864\n",
       "6          班干部_是 -0.115088\n",
       "3           性别_男 -0.164103\n",
       "11         羽毛球_是 -0.280489\n",
       "1          年级_大二 -0.333899\n",
       "16          舞蹈_是 -0.447797\n",
       "22        家乡_5农村 -0.708332\n",
       "10         乒乓球_是 -0.793913"
      ]
     },
     "execution_count": 68,
     "metadata": {},
     "output_type": "execute_result"
    }
   ],
   "source": [
    "df=pd.DataFrame({'feature':feature_list,'weight':weight})\n",
    "df=df.sort_values('weight',ascending=False)\n",
    "df"
   ]
  },
  {
   "cell_type": "markdown",
   "metadata": {},
   "source": [
    "## （选做题）模仿参考代码，利用逻辑回归模型，能够预测图片中人的性别（男或女）"
   ]
  },
  {
   "cell_type": "markdown",
   "metadata": {},
   "source": [
    "**选做，如果代码没问题，建议将结果也写成小的文章（建模思想、数据处理过程及模型结果、评价等）"
   ]
  },
  {
   "cell_type": "markdown",
   "metadata": {},
   "source": [
    "### (1）前期准备"
   ]
  },
  {
   "cell_type": "code",
   "execution_count": 78,
   "metadata": {
    "ExecuteTime": {
     "end_time": "2020-10-21T02:21:41.260426Z",
     "start_time": "2020-10-21T02:21:41.197041Z"
    }
   },
   "outputs": [],
   "source": [
    "import os\n",
    "filePath = '二分类图'\n",
    "items = os.listdir(filePath)"
   ]
  },
  {
   "cell_type": "code",
   "execution_count": 79,
   "metadata": {
    "ExecuteTime": {
     "end_time": "2020-10-21T02:21:41.986801Z",
     "start_time": "2020-10-21T02:21:41.969847Z"
    }
   },
   "outputs": [],
   "source": [
    "#为了避免有不是jpg格式的文件，有临时文件时可能会有问题，多做一步\n",
    "namelist=[]\n",
    "for name in items:\n",
    "    if name.endswith(\".jpg\"):\n",
    "        namelist.append(name)"
   ]
  },
  {
   "cell_type": "code",
   "execution_count": 80,
   "metadata": {
    "ExecuteTime": {
     "end_time": "2020-10-21T02:21:42.697984Z",
     "start_time": "2020-10-21T02:21:42.674052Z"
    }
   },
   "outputs": [
    {
     "data": {
      "text/plain": [
       "350"
      ]
     },
     "execution_count": 80,
     "metadata": {},
     "output_type": "execute_result"
    }
   ],
   "source": [
    "len(namelist)"
   ]
  },
  {
   "cell_type": "code",
   "execution_count": 74,
   "metadata": {
    "ExecuteTime": {
     "end_time": "2020-10-21T02:21:43.532360Z",
     "start_time": "2020-10-21T02:21:43.520359Z"
    }
   },
   "outputs": [
    {
     "data": {
      "text/plain": [
       "'0_male.jpg'"
      ]
     },
     "execution_count": 74,
     "metadata": {},
     "output_type": "execute_result"
    }
   ],
   "source": [
    "namelist[0] #355表示图片编号，后面的35表示人的类别"
   ]
  },
  {
   "cell_type": "code",
   "execution_count": 75,
   "metadata": {
    "ExecuteTime": {
     "end_time": "2020-10-21T02:21:44.502953Z",
     "start_time": "2020-10-21T02:21:44.486536Z"
    }
   },
   "outputs": [
    {
     "data": {
      "text/plain": [
       "['0', 'male']"
      ]
     },
     "execution_count": 75,
     "metadata": {},
     "output_type": "execute_result"
    }
   ],
   "source": [
    "#需要将类别（输出）拆解出来\n",
    "namelist[0][:-4].split(\"_\")"
   ]
  },
  {
   "cell_type": "markdown",
   "metadata": {},
   "source": [
    "### （2）读取图片，将图片作为特征X，将人的类别作为输出Y"
   ]
  },
  {
   "cell_type": "code",
   "execution_count": 82,
   "metadata": {
    "ExecuteTime": {
     "end_time": "2020-10-21T02:22:06.316090Z",
     "start_time": "2020-10-21T02:21:52.258482Z"
    }
   },
   "outputs": [
    {
     "ename": "FileNotFoundError",
     "evalue": "[Errno 2] No such file or directory: '二分类图0_male.jpg'",
     "output_type": "error",
     "traceback": [
      "\u001b[1;31m---------------------------------------------------------------------------\u001b[0m",
      "\u001b[1;31mFileNotFoundError\u001b[0m                         Traceback (most recent call last)",
      "\u001b[1;32m<ipython-input-82-07534ac59c72>\u001b[0m in \u001b[0;36m<module>\u001b[1;34m\u001b[0m\n\u001b[0;32m      4\u001b[0m \u001b[0mn_pixels\u001b[0m\u001b[1;33m=\u001b[0m\u001b[1;36m64\u001b[0m\u001b[1;33m\u001b[0m\u001b[1;33m\u001b[0m\u001b[0m\n\u001b[0;32m      5\u001b[0m \u001b[1;32mfor\u001b[0m \u001b[0mi\u001b[0m \u001b[1;32min\u001b[0m \u001b[0mnamelist\u001b[0m\u001b[1;33m:\u001b[0m\u001b[1;33m\u001b[0m\u001b[1;33m\u001b[0m\u001b[0m\n\u001b[1;32m----> 6\u001b[1;33m     \u001b[0mimg\u001b[0m\u001b[1;33m=\u001b[0m\u001b[0mnp\u001b[0m\u001b[1;33m.\u001b[0m\u001b[0marray\u001b[0m\u001b[1;33m(\u001b[0m\u001b[0mImage\u001b[0m\u001b[1;33m.\u001b[0m\u001b[0mopen\u001b[0m\u001b[1;33m(\u001b[0m\u001b[0mfilePath\u001b[0m\u001b[1;33m+\u001b[0m\u001b[0mi\u001b[0m\u001b[1;33m)\u001b[0m\u001b[1;33m.\u001b[0m\u001b[0mconvert\u001b[0m\u001b[1;33m(\u001b[0m\u001b[1;34m'L'\u001b[0m\u001b[1;33m)\u001b[0m\u001b[1;33m,\u001b[0m \u001b[1;34m'f'\u001b[0m\u001b[1;33m)\u001b[0m\u001b[1;33m\u001b[0m\u001b[1;33m\u001b[0m\u001b[0m\n\u001b[0m\u001b[0;32m      7\u001b[0m     \u001b[0mimg_new\u001b[0m\u001b[1;33m=\u001b[0m\u001b[0mimg\u001b[0m\u001b[1;33m.\u001b[0m\u001b[0mreshape\u001b[0m\u001b[1;33m(\u001b[0m\u001b[1;36m1\u001b[0m\u001b[1;33m,\u001b[0m\u001b[1;36m4096\u001b[0m\u001b[1;33m)\u001b[0m\u001b[1;33m\u001b[0m\u001b[1;33m\u001b[0m\u001b[0m\n\u001b[0;32m      8\u001b[0m     \u001b[0mX\u001b[0m\u001b[1;33m=\u001b[0m\u001b[0mnp\u001b[0m\u001b[1;33m.\u001b[0m\u001b[0mvstack\u001b[0m\u001b[1;33m(\u001b[0m\u001b[1;33m(\u001b[0m\u001b[0mX\u001b[0m\u001b[1;33m,\u001b[0m\u001b[0mimg_new\u001b[0m\u001b[1;33m)\u001b[0m\u001b[1;33m)\u001b[0m\u001b[1;33m\u001b[0m\u001b[1;33m\u001b[0m\u001b[0m\n",
      "\u001b[1;32mE:\\Anaconda3\\Anaconda3\\lib\\site-packages\\PIL\\Image.py\u001b[0m in \u001b[0;36mopen\u001b[1;34m(fp, mode)\u001b[0m\n\u001b[0;32m   2807\u001b[0m \u001b[1;33m\u001b[0m\u001b[0m\n\u001b[0;32m   2808\u001b[0m     \u001b[1;32mif\u001b[0m \u001b[0mfilename\u001b[0m\u001b[1;33m:\u001b[0m\u001b[1;33m\u001b[0m\u001b[1;33m\u001b[0m\u001b[0m\n\u001b[1;32m-> 2809\u001b[1;33m         \u001b[0mfp\u001b[0m \u001b[1;33m=\u001b[0m \u001b[0mbuiltins\u001b[0m\u001b[1;33m.\u001b[0m\u001b[0mopen\u001b[0m\u001b[1;33m(\u001b[0m\u001b[0mfilename\u001b[0m\u001b[1;33m,\u001b[0m \u001b[1;34m\"rb\"\u001b[0m\u001b[1;33m)\u001b[0m\u001b[1;33m\u001b[0m\u001b[1;33m\u001b[0m\u001b[0m\n\u001b[0m\u001b[0;32m   2810\u001b[0m         \u001b[0mexclusive_fp\u001b[0m \u001b[1;33m=\u001b[0m \u001b[1;32mTrue\u001b[0m\u001b[1;33m\u001b[0m\u001b[1;33m\u001b[0m\u001b[0m\n\u001b[0;32m   2811\u001b[0m \u001b[1;33m\u001b[0m\u001b[0m\n",
      "\u001b[1;31mFileNotFoundError\u001b[0m: [Errno 2] No such file or directory: '二分类图0_male.jpg'"
     ]
    }
   ],
   "source": [
    "from PIL import Image\n",
    "import numpy as np\n",
    "X=np.empty((0,4096))\n",
    "n_pixels=64\n",
    "for i in namelist:\n",
    "    img=np.array(Image.open(filePath+i).convert('L'), 'f')\n",
    "    img_new=img.reshape(1,4096)\n",
    "    X=np.vstack((X,img_new)) "
   ]
  },
  {
   "cell_type": "code",
   "execution_count": 8,
   "metadata": {
    "ExecuteTime": {
     "end_time": "2020-10-21T02:22:06.332090Z",
     "start_time": "2020-10-21T02:22:06.323147Z"
    }
   },
   "outputs": [
    {
     "data": {
      "text/plain": [
       "(350, 4096)"
      ]
     },
     "execution_count": 8,
     "metadata": {},
     "output_type": "execute_result"
    }
   ],
   "source": [
    "X.shape "
   ]
  },
  {
   "cell_type": "code",
   "execution_count": 9,
   "metadata": {
    "ExecuteTime": {
     "end_time": "2020-10-21T02:22:10.350783Z",
     "start_time": "2020-10-21T02:22:10.339306Z"
    }
   },
   "outputs": [
    {
     "data": {
      "text/plain": [
       "array([[ 77.,  91., 104., ...,  25.,  15.,  30.],\n",
       "       [ 68.,  39.,  43., ...,   0.,  13.,   0.],\n",
       "       [ 25.,  47., 192., ...,  12.,  54.,  39.],\n",
       "       [ 75.,  11.,  58., ...,   7.,  64.,  25.],\n",
       "       [ 10., 165., 246., ...,   4.,   0.,   1.]])"
      ]
     },
     "execution_count": 9,
     "metadata": {},
     "output_type": "execute_result"
    }
   ],
   "source": [
    "X[:5]"
   ]
  },
  {
   "cell_type": "code",
   "execution_count": 10,
   "metadata": {
    "ExecuteTime": {
     "end_time": "2020-10-21T02:22:11.498824Z",
     "start_time": "2020-10-21T02:22:11.484828Z"
    }
   },
   "outputs": [],
   "source": [
    "y=[]\n",
    "for i in namelist:\n",
    "    people=i[:-4].split(\"_\")[1]\n",
    "    y.append(people) "
   ]
  },
  {
   "cell_type": "code",
   "execution_count": 11,
   "metadata": {
    "ExecuteTime": {
     "end_time": "2020-10-21T02:22:22.174059Z",
     "start_time": "2020-10-21T02:22:22.149430Z"
    }
   },
   "outputs": [
    {
     "data": {
      "text/plain": [
       "array(['male', 'male', 'male', 'male', 'male', 'male', 'male', 'male',\n",
       "       'male', 'male', 'male', 'male', 'male', 'male', 'male', 'male',\n",
       "       'male', 'male', 'male', 'male', 'male', 'male', 'male', 'male',\n",
       "       'male', 'male', 'male', 'male', 'male', 'male', 'male', 'male',\n",
       "       'male', 'male', 'male', 'male', 'male', 'male', 'male', 'male',\n",
       "       'male', 'male', 'male', 'male', 'male', 'male', 'male', 'male',\n",
       "       'male', 'male', 'male', 'male', 'male', 'male', 'male', 'male',\n",
       "       'male', 'male', 'male', 'male', 'male', 'male', 'male', 'male',\n",
       "       'male', 'male', 'male', 'male', 'male', 'male', 'male', 'male',\n",
       "       'male', 'male', 'male', 'male', 'male', 'male', 'male', 'male',\n",
       "       'male', 'male', 'male', 'male', 'male', 'male', 'male', 'male',\n",
       "       'male', 'male', 'male', 'male', 'male', 'male', 'male', 'male',\n",
       "       'male', 'male', 'male', 'male', 'male', 'male', 'male', 'male',\n",
       "       'male', 'male', 'male', 'male', 'male', 'male', 'male', 'male',\n",
       "       'male', 'male', 'male', 'male', 'male', 'male', 'male', 'male',\n",
       "       'male', 'male', 'male', 'male', 'male', 'male', 'male', 'male',\n",
       "       'male', 'male', 'male', 'male', 'male', 'male', 'male', 'male',\n",
       "       'male', 'male', 'male', 'male', 'male', 'male', 'male', 'male',\n",
       "       'male', 'male', 'male', 'male', 'male', 'male', 'male', 'male',\n",
       "       'male', 'male', 'male', 'male', 'male', 'male', 'male', 'male',\n",
       "       'male', 'male', 'male', 'male', 'male', 'male', 'male', 'male',\n",
       "       'male', 'male', 'male', 'male', 'male', 'male', 'male', 'male',\n",
       "       'male', 'male', 'male', 'male', 'male', 'male', 'male', 'male',\n",
       "       'male', 'male', 'male', 'male', 'male', 'male', 'male', 'male',\n",
       "       'male', 'male', 'male', 'male', 'male', 'male', 'male', 'male',\n",
       "       'male', 'male', 'male', 'male', 'male', 'male', 'male', 'male',\n",
       "       'male', 'male', 'male', 'male', 'male', 'male', 'male', 'male',\n",
       "       'male', 'male', 'male', 'male', 'male', 'male', 'male', 'male',\n",
       "       'male', 'male', 'male', 'male', 'male', 'male', 'male', 'male',\n",
       "       'male', 'male', 'female', 'female', 'female', 'female', 'female',\n",
       "       'female', 'female', 'female', 'female', 'female', 'male', 'male',\n",
       "       'male', 'male', 'male', 'male', 'male', 'male', 'male', 'male',\n",
       "       'male', 'male', 'male', 'male', 'male', 'male', 'male', 'male',\n",
       "       'male', 'male', 'male', 'male', 'male', 'female', 'female',\n",
       "       'female', 'female', 'female', 'female', 'female', 'female',\n",
       "       'female', 'female', 'male', 'male', 'male', 'male', 'male', 'male',\n",
       "       'male', 'male', 'male', 'male', 'male', 'male', 'male', 'male',\n",
       "       'male', 'male', 'male', 'male', 'male', 'male', 'male', 'male',\n",
       "       'male', 'male', 'male', 'male', 'male', 'male', 'male', 'male',\n",
       "       'male', 'male', 'male', 'male', 'male', 'male', 'male', 'male',\n",
       "       'male', 'male', 'female', 'female', 'female', 'female', 'female',\n",
       "       'female', 'female', 'female', 'female', 'female', 'male', 'male',\n",
       "       'male', 'male', 'male', 'male', 'male', 'male', 'male', 'male',\n",
       "       'male', 'male', 'female', 'female', 'female', 'female', 'female',\n",
       "       'female', 'female', 'female', 'female', 'female', 'male'],\n",
       "      dtype='<U6')"
      ]
     },
     "execution_count": 11,
     "metadata": {},
     "output_type": "execute_result"
    }
   ],
   "source": [
    "y=np.array(y)\n",
    "y"
   ]
  },
  {
   "cell_type": "markdown",
   "metadata": {},
   "source": [
    "### （3）划分训练集和测试集 "
   ]
  },
  {
   "cell_type": "code",
   "execution_count": 21,
   "metadata": {
    "ExecuteTime": {
     "end_time": "2020-10-21T02:25:27.759277Z",
     "start_time": "2020-10-21T02:25:27.742104Z"
    }
   },
   "outputs": [],
   "source": [
    "from sklearn.model_selection import train_test_split \n",
    "X_train, X_test, y_train, y_test = train_test_split(X, y, test_size=0.01)"
   ]
  },
  {
   "cell_type": "code",
   "execution_count": 22,
   "metadata": {
    "ExecuteTime": {
     "end_time": "2020-10-21T02:25:29.483591Z",
     "start_time": "2020-10-21T02:25:29.465605Z"
    }
   },
   "outputs": [
    {
     "data": {
      "text/plain": [
       "(346, 4096)"
      ]
     },
     "execution_count": 22,
     "metadata": {},
     "output_type": "execute_result"
    }
   ],
   "source": [
    "X_train.shape"
   ]
  },
  {
   "cell_type": "code",
   "execution_count": 23,
   "metadata": {
    "ExecuteTime": {
     "end_time": "2020-10-21T02:25:31.021078Z",
     "start_time": "2020-10-21T02:25:31.006086Z"
    }
   },
   "outputs": [
    {
     "data": {
      "text/plain": [
       "(4, 4096)"
      ]
     },
     "execution_count": 23,
     "metadata": {},
     "output_type": "execute_result"
    }
   ],
   "source": [
    "X_test.shape"
   ]
  },
  {
   "cell_type": "markdown",
   "metadata": {},
   "source": [
    "### （4）构建多分类逻辑回归模型 "
   ]
  },
  {
   "cell_type": "code",
   "execution_count": 30,
   "metadata": {
    "ExecuteTime": {
     "end_time": "2020-10-21T02:27:02.653182Z",
     "start_time": "2020-10-21T02:27:01.961284Z"
    }
   },
   "outputs": [
    {
     "data": {
      "text/plain": [
       "LogisticRegression(C=1.0, class_weight=None, dual=False, fit_intercept=True,\n",
       "                   intercept_scaling=1, l1_ratio=None, max_iter=10000,\n",
       "                   multi_class='auto', n_jobs=None, penalty='l2',\n",
       "                   random_state=None, solver='lbfgs', tol=0.0001, verbose=0,\n",
       "                   warm_start=False)"
      ]
     },
     "execution_count": 30,
     "metadata": {},
     "output_type": "execute_result"
    }
   ],
   "source": [
    "#训练模型\n",
    "from sklearn import linear_model\n",
    "from sklearn import metrics \n",
    "\n",
    "LR_model = linear_model.LogisticRegression(max_iter=10000)\n",
    "LR_model.fit(X_train, y_train) "
   ]
  },
  {
   "cell_type": "code",
   "execution_count": 31,
   "metadata": {
    "ExecuteTime": {
     "end_time": "2020-10-21T02:27:05.249227Z",
     "start_time": "2020-10-21T02:27:05.229198Z"
    }
   },
   "outputs": [],
   "source": [
    "#在测试集上验证\n",
    "y_predict=LR_model.predict(X_test) #输出分类结果"
   ]
  },
  {
   "cell_type": "code",
   "execution_count": 32,
   "metadata": {
    "ExecuteTime": {
     "end_time": "2020-10-21T02:27:07.615394Z",
     "start_time": "2020-10-21T02:27:07.598406Z"
    }
   },
   "outputs": [
    {
     "data": {
      "text/plain": [
       "array([[1.80178095e-11, 1.00000000e+00],\n",
       "       [2.39452902e-12, 1.00000000e+00],\n",
       "       [2.26974217e-10, 1.00000000e+00],\n",
       "       [4.59625525e-08, 9.99999954e-01]])"
      ]
     },
     "execution_count": 32,
     "metadata": {},
     "output_type": "execute_result"
    }
   ],
   "source": [
    "y_predict_prob=LR_model.predict_proba(X_test)\n",
    "y_predict_prob"
   ]
  },
  {
   "cell_type": "markdown",
   "metadata": {},
   "source": [
    "### （5）看模型效果 "
   ]
  },
  {
   "cell_type": "code",
   "execution_count": 33,
   "metadata": {
    "ExecuteTime": {
     "end_time": "2020-10-21T02:27:10.375996Z",
     "start_time": "2020-10-21T02:27:10.359024Z"
    }
   },
   "outputs": [
    {
     "data": {
      "text/plain": [
       "array(['male', 'male', 'male', 'male'], dtype='<U6')"
      ]
     },
     "execution_count": 33,
     "metadata": {},
     "output_type": "execute_result"
    }
   ],
   "source": [
    "y_predict"
   ]
  },
  {
   "cell_type": "code",
   "execution_count": 34,
   "metadata": {
    "ExecuteTime": {
     "end_time": "2020-10-21T02:27:12.243507Z",
     "start_time": "2020-10-21T02:27:12.224567Z"
    }
   },
   "outputs": [
    {
     "data": {
      "text/plain": [
       "array(['male', 'male', 'female', 'male'], dtype='<U6')"
      ]
     },
     "execution_count": 34,
     "metadata": {},
     "output_type": "execute_result"
    }
   ],
   "source": [
    "y_test"
   ]
  },
  {
   "cell_type": "code",
   "execution_count": 35,
   "metadata": {
    "ExecuteTime": {
     "end_time": "2020-10-21T02:27:13.748690Z",
     "start_time": "2020-10-21T02:27:13.728747Z"
    }
   },
   "outputs": [
    {
     "name": "stdout",
     "output_type": "stream",
     "text": [
      "混淆矩阵：\n",
      "[[0 1]\n",
      " [0 3]]\n"
     ]
    }
   ],
   "source": [
    "print('混淆矩阵：')\n",
    "print(metrics.confusion_matrix(y_test,y_predict)) "
   ]
  },
  {
   "cell_type": "markdown",
   "metadata": {},
   "source": [
    "从上面预测结果来看，预测非常准确"
   ]
  }
 ],
 "metadata": {
  "kernelspec": {
   "display_name": "Python 3",
   "language": "python",
   "name": "python3"
  },
  "language_info": {
   "codemirror_mode": {
    "name": "ipython",
    "version": 3
   },
   "file_extension": ".py",
   "mimetype": "text/x-python",
   "name": "python",
   "nbconvert_exporter": "python",
   "pygments_lexer": "ipython3",
   "version": "3.7.6"
  },
  "latex_envs": {
   "LaTeX_envs_menu_present": true,
   "autoclose": false,
   "autocomplete": true,
   "bibliofile": "biblio.bib",
   "cite_by": "apalike",
   "current_citInitial": 1,
   "eqLabelWithNumbers": true,
   "eqNumInitial": 1,
   "hotkeys": {
    "equation": "Ctrl-E",
    "itemize": "Ctrl-I"
   },
   "labels_anchors": false,
   "latex_user_defs": false,
   "report_style_numbering": false,
   "user_envs_cfg": false
  },
  "nbTranslate": {
   "displayLangs": [
    "*"
   ],
   "hotkey": "alt-t",
   "langInMainMenu": true,
   "sourceLang": "en",
   "targetLang": "fr",
   "useGoogleTranslate": true
  },
  "toc": {
   "base_numbering": 1,
   "nav_menu": {},
   "number_sections": true,
   "sideBar": true,
   "skip_h1_title": false,
   "title_cell": "Table of Contents",
   "title_sidebar": "Contents",
   "toc_cell": false,
   "toc_position": {
    "height": "calc(100% - 180px)",
    "left": "10px",
    "top": "150px",
    "width": "165px"
   },
   "toc_section_display": true,
   "toc_window_display": true
  }
 },
 "nbformat": 4,
 "nbformat_minor": 2
}
