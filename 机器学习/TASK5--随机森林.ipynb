{
 "cells": [
  {
   "cell_type": "code",
   "execution_count": 1,
   "metadata": {
    "ExecuteTime": {
     "end_time": "2020-08-12T08:31:19.023777Z",
     "start_time": "2020-08-12T08:31:06.159270Z"
    }
   },
   "outputs": [
    {
     "name": "stderr",
     "output_type": "stream",
     "text": [
      "\n",
      "Bad key \"text.kerning_factor\" on line 4 in\n",
      "E:\\Anaconda3\\lib\\site-packages\\matplotlib\\mpl-data\\stylelib\\_classic_test_patch.mplstyle.\n",
      "You probably need to get an updated matplotlibrc file from\n",
      "https://github.com/matplotlib/matplotlib/blob/v3.1.3/matplotlibrc.template\n",
      "or from the matplotlib source distribution\n"
     ]
    }
   ],
   "source": [
    "import numpy as np\n",
    "import pandas as pd\n",
    "import matplotlib.pyplot as plt\n",
    "import warnings\n",
    "\n",
    "%matplotlib inline\n",
    "warnings.filterwarnings('ignore')\n",
    "plt.rcParams['font.sans-serif']=['SimHei']\n",
    "\n",
    "data = pd.read_csv('G:/CDO/狗熊会机器学习/TASK4--刘嘉玲/Speed Dating Data.csv', encoding='gbk')\n",
    "columns=['dec','gender','attr','sinc','intel','fun','amb','shar']\n",
    "female = data.loc[data['gender']==0, columns]\n",
    "male = data.loc[data['gender']==1, columns]"
   ]
  },
  {
   "cell_type": "markdown",
   "metadata": {},
   "source": [
    "# 任务一"
   ]
  },
  {
   "cell_type": "raw",
   "metadata": {},
   "source": [
    "请在task4的基础上，利用sklearn.ensemble.RandomForestClassifier对男性和女性分别建立随机森林模型，绘制ROC图像，并尝试解释模型结果。\n",
    "提示：女性数据的随机森林模型的示例代码已经给出，请参考示例代码建立男性数据的随机模型。"
   ]
  },
  {
   "cell_type": "code",
   "execution_count": 2,
   "metadata": {
    "ExecuteTime": {
     "end_time": "2020-08-12T08:31:45.091445Z",
     "start_time": "2020-08-12T08:31:36.544324Z"
    }
   },
   "outputs": [],
   "source": [
    "from sklearn.ensemble import RandomForestClassifier\n",
    "from sklearn.model_selection  import train_test_split\n",
    "from sklearn.metrics import roc_curve, auc "
   ]
  },
  {
   "cell_type": "markdown",
   "metadata": {},
   "source": [
    "## 女性随机森林模型 "
   ]
  },
  {
   "cell_type": "code",
   "execution_count": 3,
   "metadata": {
    "ExecuteTime": {
     "end_time": "2020-08-12T08:32:02.767078Z",
     "start_time": "2020-08-12T08:32:02.741121Z"
    }
   },
   "outputs": [],
   "source": [
    "forest_female = RandomForestClassifier(n_estimators=1000, random_state=1234, \n",
    "                                       n_jobs=-1)\n",
    "\n",
    "# 丢弃缺失数据\n",
    "female_discard_missing = female.loc[np.all(female.notnull(), axis=1), :]  \n",
    "X_female = female_discard_missing[columns[2:]]\n",
    "y_female = female_discard_missing['dec']\n",
    "train_X_female, test_X_female, train_y_female, test_y_female = train_test_split(X_female, \n",
    "                                                                                y_female,\n",
    "                                                                                train_size=0.75,\n",
    "                                                                                random_state=1234,\n",
    "                                                                                shuffle=True)"
   ]
  },
  {
   "cell_type": "code",
   "execution_count": 4,
   "metadata": {
    "ExecuteTime": {
     "end_time": "2020-08-12T08:32:31.474795Z",
     "start_time": "2020-08-12T08:32:25.796905Z"
    }
   },
   "outputs": [
    {
     "data": {
      "text/plain": [
       "RandomForestClassifier(bootstrap=True, ccp_alpha=0.0, class_weight=None,\n",
       "                       criterion='gini', max_depth=None, max_features='auto',\n",
       "                       max_leaf_nodes=None, max_samples=None,\n",
       "                       min_impurity_decrease=0.0, min_impurity_split=None,\n",
       "                       min_samples_leaf=1, min_samples_split=2,\n",
       "                       min_weight_fraction_leaf=0.0, n_estimators=1000,\n",
       "                       n_jobs=-1, oob_score=False, random_state=1234, verbose=0,\n",
       "                       warm_start=False)"
      ]
     },
     "execution_count": 4,
     "metadata": {},
     "output_type": "execute_result"
    }
   ],
   "source": [
    "forest_female.fit(train_X_female, train_y_female)"
   ]
  },
  {
   "cell_type": "code",
   "execution_count": 5,
   "metadata": {
    "ExecuteTime": {
     "end_time": "2020-08-12T08:32:40.933587Z",
     "start_time": "2020-08-12T08:32:39.980044Z"
    }
   },
   "outputs": [
    {
     "data": {
      "image/png": "[encoded data removed]",
      "text/plain": [
       "<Figure size 432x288 with 1 Axes>"
      ]
     },
     "metadata": {
      "needs_background": "light"
     },
     "output_type": "display_data"
    }
   ],
   "source": [
    "# 各特征的mean decrease impurity\n",
    "female_importance = forest_female.feature_importances_\n",
    "column_index = np.argsort(female_importance)  # 获取对应的列名\n",
    "female_importance = sorted(female_importance)  # 从小到大排序\n",
    "figure = plt.figure(1)\n",
    "\n",
    "plt.scatter(np.arange(1, len(column_index)+1), np.sort(female_importance))\n",
    "plt.xticks(np.arange(1, len(column_index)+1), female.columns[2:][column_index], size=15)\n",
    "plt.xlabel('features')\n",
    "plt.ylabel('女性特征重要性(mean decrease Gini)')\n",
    "plt.show()"
   ]
  },
  {
   "cell_type": "raw",
   "metadata": {},
   "source": [
    "由女性特征重要性图我们得出，吸引力最重要，幽默和共同爱好重要性差不多，智力重要程度关最低。"
   ]
  },
  {
   "cell_type": "code",
   "execution_count": 6,
   "metadata": {
    "ExecuteTime": {
     "end_time": "2020-08-12T08:33:27.855543Z",
     "start_time": "2020-08-12T08:33:27.040278Z"
    }
   },
   "outputs": [
    {
     "data": {
      "image/png": "[encoded data removed]",
      "text/plain": [
       "<Figure size 432x288 with 1 Axes>"
      ]
     },
     "metadata": {
      "needs_background": "light"
     },
     "output_type": "display_data"
    }
   ],
   "source": [
    "prob_y_female = forest_female.predict_proba(test_X_female)\n",
    "fpr, tpr, _ = roc_curve(test_y_female, prob_y_female[:, 1])\n",
    "roc_auc = auc(fpr, tpr)\n",
    "\n",
    "figure = plt.figure(2)\n",
    "plt.title('ROC test--female')\n",
    "plt.plot(fpr, tpr, 'b', label='AUC = %0.2f' % roc_auc)\n",
    "plt.legend(loc='lower right')\n",
    "plt.plot([0, 1], [0, 1], 'r--')\n",
    "plt.xlim([0, 1])\n",
    "plt.ylim([0, 1])\n",
    "plt.ylabel('True Positive Rate')\n",
    "plt.xlabel('False Positive Rate')\n",
    "plt.show() "
   ]
  },
  {
   "cell_type": "raw",
   "metadata": {},
   "source": [
    "由女性ROC曲线得出，AUC的值为0.77"
   ]
  },
  {
   "cell_type": "markdown",
   "metadata": {},
   "source": [
    "## 男性随机森林模型"
   ]
  },
  {
   "cell_type": "code",
   "execution_count": 7,
   "metadata": {
    "ExecuteTime": {
     "end_time": "2020-08-12T08:33:39.602350Z",
     "start_time": "2020-08-12T08:33:39.581946Z"
    }
   },
   "outputs": [],
   "source": [
    "forest_male = RandomForestClassifier(n_estimators=1000, random_state=1234, \n",
    "                                       n_jobs=-1)\n",
    "\n",
    "# 丢弃缺失数据\n",
    "male_discard_missing = male.loc[np.all(male.notnull(), axis=1), :]  \n",
    "X_male = male_discard_missing[columns[2:]]\n",
    "y_male = male_discard_missing['dec']\n",
    "train_X_male, test_X_male, train_y_male, test_y_male = train_test_split(X_male, \n",
    "                                                                                y_male,\n",
    "                                                                                train_size=0.75,\n",
    "                                                                                random_state=1234,\n",
    "                                                                                shuffle=True) "
   ]
  },
  {
   "cell_type": "code",
   "execution_count": 8,
   "metadata": {
    "ExecuteTime": {
     "end_time": "2020-08-12T08:33:50.933772Z",
     "start_time": "2020-08-12T08:33:44.471101Z"
    }
   },
   "outputs": [
    {
     "data": {
      "text/plain": [
       "RandomForestClassifier(bootstrap=True, ccp_alpha=0.0, class_weight=None,\n",
       "                       criterion='gini', max_depth=None, max_features='auto',\n",
       "                       max_leaf_nodes=None, max_samples=None,\n",
       "                       min_impurity_decrease=0.0, min_impurity_split=None,\n",
       "                       min_samples_leaf=1, min_samples_split=2,\n",
       "                       min_weight_fraction_leaf=0.0, n_estimators=1000,\n",
       "                       n_jobs=-1, oob_score=False, random_state=1234, verbose=0,\n",
       "                       warm_start=False)"
      ]
     },
     "execution_count": 8,
     "metadata": {},
     "output_type": "execute_result"
    }
   ],
   "source": [
    "forest_male.fit(train_X_male, train_y_male) "
   ]
  },
  {
   "cell_type": "code",
   "execution_count": 9,
   "metadata": {
    "ExecuteTime": {
     "end_time": "2020-08-12T08:33:57.421040Z",
     "start_time": "2020-08-12T08:33:56.769549Z"
    }
   },
   "outputs": [
    {
     "data": {
      "image/png": "[encoded data removed]",
      "text/plain": [
       "<Figure size 432x288 with 1 Axes>"
      ]
     },
     "metadata": {
      "needs_background": "light"
     },
     "output_type": "display_data"
    }
   ],
   "source": [
    "# 各特征的mean decrease impurity\n",
    "male_importance = forest_male.feature_importances_\n",
    "column_index = np.argsort(male_importance)  # 获取对应的列名\n",
    "male_importance = sorted(male_importance)  # 从小到大排序\n",
    "figure = plt.figure(1)\n",
    "\n",
    "plt.scatter(np.arange(1, len(column_index)+1), np.sort(male_importance))\n",
    "plt.xticks(np.arange(1, len(column_index)+1), male.columns[2:][column_index], size=15)\n",
    "plt.xlabel('features')\n",
    "plt.ylabel('男性特征重要性(mean decrease Gini)')\n",
    "plt.show()"
   ]
  },
  {
   "cell_type": "raw",
   "metadata": {},
   "source": [
    "由男性特征重要性图我们得出，吸引力最重要，其他因素差别都不大，智力最没有存在感。"
   ]
  },
  {
   "cell_type": "code",
   "execution_count": 10,
   "metadata": {
    "ExecuteTime": {
     "end_time": "2020-08-12T08:34:26.807651Z",
     "start_time": "2020-08-12T08:34:26.010439Z"
    }
   },
   "outputs": [
    {
     "data": {
      "image/png": "[encoded data removed]",
      "text/plain": [
       "<Figure size 432x288 with 1 Axes>"
      ]
     },
     "metadata": {
      "needs_background": "light"
     },
     "output_type": "display_data"
    }
   ],
   "source": [
    "prob_y_male = forest_male.predict_proba(test_X_male)\n",
    "fpr, tpr, _ = roc_curve(test_y_male, prob_y_male[:, 1])\n",
    "roc_auc = auc(fpr, tpr)\n",
    "\n",
    "figure = plt.figure(2)\n",
    "plt.title('ROC test--female')\n",
    "plt.plot(fpr, tpr, 'b', label='AUC = %0.2f' % roc_auc)\n",
    "plt.legend(loc='lower right')\n",
    "plt.plot([0, 1], [0, 1], 'r--')\n",
    "plt.xlim([0, 1])\n",
    "plt.ylim([0, 1])\n",
    "plt.ylabel('True Positive Rate')\n",
    "plt.xlabel('False Positive Rate')\n",
    "plt.show()"
   ]
  },
  {
   "cell_type": "raw",
   "metadata": {},
   "source": [
    "由女性ROC曲线得出，AUC的值为0.79，比男性的模型效果要更好些。"
   ]
  }
 ],
 "metadata": {
  "kernelspec": {
   "display_name": "Python 3",
   "language": "python",
   "name": "python3"
  },
  "language_info": {
   "codemirror_mode": {
    "name": "ipython",
    "version": 3
   },
   "file_extension": ".py",
   "mimetype": "text/x-python",
   "name": "python",
   "nbconvert_exporter": "python",
   "pygments_lexer": "ipython3",
   "version": "3.7.6"
  },
  "latex_envs": {
   "LaTeX_envs_menu_present": true,
   "autoclose": false,
   "autocomplete": true,
   "bibliofile": "biblio.bib",
   "cite_by": "apalike",
   "current_citInitial": 1,
   "eqLabelWithNumbers": true,
   "eqNumInitial": 1,
   "hotkeys": {
    "equation": "Ctrl-E",
    "itemize": "Ctrl-I"
   },
   "labels_anchors": false,
   "latex_user_defs": false,
   "report_style_numbering": false,
   "user_envs_cfg": false
  },
  "nbTranslate": {
   "displayLangs": [
    "*"
   ],
   "hotkey": "alt-t",
   "langInMainMenu": true,
   "sourceLang": "en",
   "targetLang": "fr",
   "useGoogleTranslate": true
  },
  "toc": {
   "base_numbering": 1,
   "nav_menu": {},
   "number_sections": true,
   "sideBar": true,
   "skip_h1_title": false,
   "title_cell": "Table of Contents",
   "title_sidebar": "Contents",
   "toc_cell": false,
   "toc_position": {},
   "toc_section_display": true,
   "toc_window_display": false
  }
 },
 "nbformat": 4,
 "nbformat_minor": 4
}
