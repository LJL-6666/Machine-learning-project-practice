{
 "cells": [
  {
   "cell_type": "markdown",
   "metadata": {},
   "source": [
    "# 降维实践-学生版"
   ]
  },
  {
   "cell_type": "markdown",
   "metadata": {},
   "source": [
    "## 加载sklearn的wine数据，分别实现主成分分析(PCA)和线性判别分析(LDA）"
   ]
  },
  {
   "cell_type": "code",
   "execution_count": 1,
   "metadata": {
    "ExecuteTime": {
     "end_time": "2020-12-23T07:47:04.730722Z",
     "start_time": "2020-12-23T07:46:52.447027Z"
    }
   },
   "outputs": [],
   "source": [
    "from sklearn import datasets\n",
    "data=datasets.load_wine()\n",
    "X=data['data']\n",
    "y=data['target']"
   ]
  },
  {
   "cell_type": "code",
   "execution_count": 2,
   "metadata": {
    "ExecuteTime": {
     "end_time": "2020-12-23T07:47:58.274924Z",
     "start_time": "2020-12-23T07:47:58.264952Z"
    }
   },
   "outputs": [
    {
     "data": {
      "text/plain": [
       "(178, 13)"
      ]
     },
     "execution_count": 2,
     "metadata": {},
     "output_type": "execute_result"
    }
   ],
   "source": [
    "X.shape"
   ]
  },
  {
   "cell_type": "code",
   "execution_count": 3,
   "metadata": {
    "ExecuteTime": {
     "end_time": "2020-12-23T07:48:00.958831Z",
     "start_time": "2020-12-23T07:48:00.953843Z"
    }
   },
   "outputs": [
    {
     "data": {
      "text/plain": [
       "178"
      ]
     },
     "execution_count": 3,
     "metadata": {},
     "output_type": "execute_result"
    }
   ],
   "source": [
    "len(y)"
   ]
  },
  {
   "cell_type": "code",
   "execution_count": 6,
   "metadata": {
    "ExecuteTime": {
     "end_time": "2020-12-23T08:16:21.942939Z",
     "start_time": "2020-12-23T08:16:16.119328Z"
    }
   },
   "outputs": [],
   "source": [
    "from sklearn.linear_model import LogisticRegression\n",
    "from sklearn.discriminant_analysis import LinearDiscriminantAnalysis as LDA\n",
    "from sklearn.preprocessing import StandardScaler\n",
    "from sklearn.model_selection import train_test_split\n",
    "from matplotlib.colors import ListedColormap\n",
    "import matplotlib.pyplot as plt\n",
    "import pandas as pd\n",
    "import numpy as np"
   ]
  },
  {
   "cell_type": "markdown",
   "metadata": {},
   "source": [
    "### 主成分分析(PCA)"
   ]
  },
  {
   "cell_type": "code",
   "execution_count": 4,
   "metadata": {
    "ExecuteTime": {
     "end_time": "2020-12-23T08:01:26.993371Z",
     "start_time": "2020-12-23T08:01:26.587765Z"
    }
   },
   "outputs": [],
   "source": [
    "# 切分数据集\n",
    "from sklearn import model_selection\n",
    "X_train, X_test, y_train, y_test = model_selection.train_test_split(X,y, test_size=0.2,random_state=5)"
   ]
  },
  {
   "cell_type": "code",
   "execution_count": 8,
   "metadata": {
    "ExecuteTime": {
     "end_time": "2020-12-23T08:16:46.339317Z",
     "start_time": "2020-12-23T08:16:46.333310Z"
    }
   },
   "outputs": [],
   "source": [
    "# standardize the feature 标准化单位方差\n",
    "sc = StandardScaler()\n",
    "x_train_std = sc.fit_transform(X_train)\n",
    "x_test_std = sc.fit_transform(X_test)"
   ]
  },
  {
   "cell_type": "code",
   "execution_count": 18,
   "metadata": {
    "ExecuteTime": {
     "end_time": "2020-12-23T08:47:31.188668Z",
     "start_time": "2020-12-23T08:47:31.020007Z"
    }
   },
   "outputs": [
    {
     "data": {
      "text/plain": [
       "PCA(n_components=0.7)"
      ]
     },
     "execution_count": 18,
     "metadata": {},
     "output_type": "execute_result"
    }
   ],
   "source": [
    "from sklearn import preprocessing \n",
    "from sklearn.decomposition import PCA\n",
    "model = PCA( n_components=0.70)\n",
    "model.fit(x_train_std)"
   ]
  },
  {
   "cell_type": "code",
   "execution_count": 19,
   "metadata": {
    "ExecuteTime": {
     "end_time": "2020-12-23T08:50:07.804770Z",
     "start_time": "2020-12-23T08:50:07.788812Z"
    }
   },
   "outputs": [
    {
     "name": "stdout",
     "output_type": "stream",
     "text": [
      "奇异值: [25.83766353 18.79587033 14.55140844 11.7218203 ]\n"
     ]
    }
   ],
   "source": [
    "print('奇异值:',model.singular_values_) #奇异值"
   ]
  },
  {
   "cell_type": "code",
   "execution_count": 20,
   "metadata": {
    "ExecuteTime": {
     "end_time": "2020-12-23T08:50:33.896969Z",
     "start_time": "2020-12-23T08:50:33.892014Z"
    }
   },
   "outputs": [
    {
     "name": "stdout",
     "output_type": "stream",
     "text": [
      "方差占比: [0.3616386  0.19137852 0.11470395 0.07443178]\n"
     ]
    }
   ],
   "source": [
    "print('方差占比:',model.explained_variance_ratio_) #方差占比"
   ]
  },
  {
   "cell_type": "code",
   "execution_count": 21,
   "metadata": {
    "ExecuteTime": {
     "end_time": "2020-12-23T08:50:47.423221Z",
     "start_time": "2020-12-23T08:50:47.416244Z"
    }
   },
   "outputs": [
    {
     "name": "stdout",
     "output_type": "stream",
     "text": [
      "特征向量: [[ 1.28275638e-01 -2.52890451e-01 -3.04548244e-02 -2.27878127e-01\n",
      "   1.30490797e-01  3.87550201e-01  4.22413817e-01 -3.02978527e-01\n",
      "   3.15364053e-01 -1.13343295e-01  3.13615106e-01  3.76247930e-01\n",
      "   2.77606356e-01]\n",
      " [-4.97926435e-01 -1.88497305e-01 -3.13262602e-01  1.34260934e-02\n",
      "  -2.94350613e-01 -7.53155305e-02 -1.97559404e-02  2.24781578e-06\n",
      "  -5.04704089e-02 -5.27804803e-01  2.77939901e-01  1.57639680e-01\n",
      "  -3.77217806e-01]\n",
      " [-1.96939895e-01  1.16777956e-01  6.13381688e-01  6.22073885e-01\n",
      "   1.19412032e-01  1.64199463e-01  1.67110278e-01  1.43555515e-01\n",
      "   1.51542529e-01 -1.24840942e-01  6.57828146e-02  1.76171153e-01\n",
      "  -1.43860323e-01]\n",
      " [ 5.41497127e-02  5.16147826e-01 -2.18020986e-01  3.00115797e-02\n",
      "  -5.15574552e-01  2.05047433e-01  1.42915855e-01 -7.19629902e-02\n",
      "   4.18133803e-01  8.20984052e-02 -3.45682790e-01  1.54477432e-01\n",
      "  -1.54351255e-01]]\n"
     ]
    }
   ],
   "source": [
    "print('特征向量:',model.components_)"
   ]
  },
  {
   "cell_type": "code",
   "execution_count": 25,
   "metadata": {
    "ExecuteTime": {
     "end_time": "2020-12-23T08:53:33.792885Z",
     "start_time": "2020-12-23T08:53:33.772967Z"
    }
   },
   "outputs": [
    {
     "data": {
      "text/plain": [
       "array([[ 2.23708222e+00, -1.19122047e+00, -8.81493632e-01,\n",
       "        -5.10798038e-01],\n",
       "       [-2.65239940e+00, -2.14975061e-01,  5.51780471e-01,\n",
       "        -8.45258695e-01],\n",
       "       [-2.68849486e+00, -1.46125965e+00, -4.25208556e-01,\n",
       "         6.34603144e-01],\n",
       "       [ 1.20797673e+00,  1.29916896e+00, -3.46599770e-01,\n",
       "         4.06303799e-01],\n",
       "       [-9.15189360e-01,  1.74873427e+00,  8.79934316e-01,\n",
       "        -1.71055464e-01],\n",
       "       [-1.66032276e+00,  8.15515627e-01, -1.66395302e+00,\n",
       "        -1.30969231e+00],\n",
       "       [-3.75112535e+00, -5.28103977e-03,  1.68325358e-01,\n",
       "         6.00534420e-02],\n",
       "       [ 2.80766205e+00, -1.31466817e+00, -4.05512483e-01,\n",
       "         1.45791835e+00],\n",
       "       [-3.54827268e+00, -7.18928870e-01, -1.32875328e+00,\n",
       "        -5.80128219e-02],\n",
       "       [ 2.24314940e+00,  1.70070945e+00,  6.54934415e-02,\n",
       "         7.20567303e-01],\n",
       "       [ 3.31785780e+00, -3.73617261e-01, -1.89058167e+00,\n",
       "         1.30411210e+00],\n",
       "       [-2.45858316e+00, -6.31122445e-01, -8.88430147e-01,\n",
       "        -4.94130553e-01],\n",
       "       [ 2.18529694e+00, -8.31826874e-01, -8.44941650e-01,\n",
       "         3.34458819e-02],\n",
       "       [ 1.24547260e+00,  2.39198650e+00, -1.08093762e+00,\n",
       "         4.01716018e-01],\n",
       "       [ 2.91460207e+00, -9.43663453e-01,  3.21233024e-02,\n",
       "         4.33340538e-02],\n",
       "       [ 9.57964091e-01,  2.18452341e+00,  1.60948459e-01,\n",
       "         1.14280311e+00],\n",
       "       [ 2.43660966e+00,  1.20809998e+00, -1.52116956e-01,\n",
       "         9.48925610e-01],\n",
       "       [ 2.15474285e+00, -1.20130563e+00, -5.12996749e-02,\n",
       "         1.02854246e-01],\n",
       "       [-2.09876087e+00, -2.02817990e+00,  7.69182594e-01,\n",
       "        -5.05694492e-01],\n",
       "       [ 2.37891754e-02,  1.08068109e+00,  1.04386134e+00,\n",
       "         3.66925137e-01],\n",
       "       [-2.71384762e+00, -4.61463568e-01,  7.40329417e-01,\n",
       "        -8.94688671e-01],\n",
       "       [-3.05840315e-01,  2.17165740e+00, -3.49320025e-01,\n",
       "         1.32041154e+00],\n",
       "       [ 2.49724370e+00, -1.32164681e+00, -9.30569877e-01,\n",
       "         2.13851637e-01],\n",
       "       [ 1.79707614e+00,  7.58395585e-01,  2.00272269e+00,\n",
       "         2.71178435e-01],\n",
       "       [-2.36821008e+00,  1.83832140e-01,  4.56575562e-01,\n",
       "         1.03380749e+00],\n",
       "       [ 2.33234333e+00, -1.82268332e+00,  2.26152447e-01,\n",
       "        -1.31992684e+00],\n",
       "       [-2.20833490e+00,  4.85794140e-01, -1.18588659e+00,\n",
       "        -4.80163445e-01],\n",
       "       [ 3.54827399e+00, -1.51107538e+00, -3.64809987e-01,\n",
       "         2.26151720e-01],\n",
       "       [-1.40092095e+00,  1.17083794e+00,  3.27402617e+00,\n",
       "        -1.64028288e-01],\n",
       "       [-2.57371605e+00, -3.69110870e-01, -1.24108477e+00,\n",
       "        -6.91371121e-01],\n",
       "       [-2.39736523e+00, -2.09826533e+00, -8.75630101e-01,\n",
       "         1.70051901e-01],\n",
       "       [ 1.44054031e+00, -8.04893904e-01,  4.49305918e-01,\n",
       "        -1.31523368e+00],\n",
       "       [ 1.09363725e+00, -9.79498850e-01,  2.04074493e+00,\n",
       "        -6.31274003e-01],\n",
       "       [-1.25447599e+00,  1.35560455e+00, -2.79585312e-01,\n",
       "        -1.00328086e+00],\n",
       "       [-2.22768127e+00, -2.32662088e+00,  5.13637629e-01,\n",
       "        -7.37788551e-01],\n",
       "       [-3.49868399e-01,  2.25987806e+00,  2.20240241e+00,\n",
       "        -9.34485929e-01],\n",
       "       [-3.84504048e-01,  2.30193760e-01,  1.26165136e+00,\n",
       "        -2.15217767e+00],\n",
       "       [-2.22671811e+00, -2.38662886e-01,  1.20239308e+00,\n",
       "        -7.47231558e-01],\n",
       "       [-3.45322694e+00, -1.09834726e+00, -5.98070734e-02,\n",
       "         1.03368658e+00],\n",
       "       [-2.79194281e+00, -1.76922716e+00, -7.01458777e-01,\n",
       "         1.41363225e+00],\n",
       "       [-5.38880075e-01,  9.73506527e-01,  1.05535103e-01,\n",
       "        -9.47266123e-02],\n",
       "       [ 2.76015028e+00, -1.90800294e+00, -5.72426034e-01,\n",
       "         5.89841482e-02],\n",
       "       [ 3.21021636e+00, -9.95528597e-01, -2.71920226e-01,\n",
       "        -3.38383792e-01],\n",
       "       [ 2.01990357e+00, -3.42135850e-01,  5.10914985e-01,\n",
       "         2.50203957e-01],\n",
       "       [-1.38138778e+00,  8.19115257e-01, -7.26796922e-01,\n",
       "        -1.25497070e+00],\n",
       "       [ 5.64402799e-01,  9.61849882e-01,  1.82424411e+00,\n",
       "         9.14453752e-01],\n",
       "       [ 2.36105641e+00, -3.55038982e-01, -1.03243762e+00,\n",
       "         4.34225090e-01],\n",
       "       [-1.37747230e+00,  1.33849612e+00, -1.03781947e+00,\n",
       "        -2.51134423e+00],\n",
       "       [-3.14016873e+00, -2.59543692e+00,  1.06582029e+00,\n",
       "         6.88830865e-01],\n",
       "       [ 2.19280829e+00,  1.15071000e+00, -1.27641976e+00,\n",
       "        -1.95913116e+00],\n",
       "       [ 3.54829147e+00, -1.80169698e+00, -4.17804922e-01,\n",
       "         1.69203226e-01],\n",
       "       [ 2.63927441e+00, -9.08915325e-02, -2.65420276e-01,\n",
       "        -3.89210075e-03],\n",
       "       [-2.66555794e+00, -1.98876301e+00, -9.42660472e-01,\n",
       "         8.28338276e-01],\n",
       "       [-6.41119019e-01,  2.35351644e+00, -1.62451124e+00,\n",
       "        -8.65052550e-01],\n",
       "       [ 1.22488390e+00, -2.64965875e-01, -5.74533741e-02,\n",
       "        -8.35747940e-01],\n",
       "       [-3.25660683e+00, -1.18927397e+00,  1.53948018e+00,\n",
       "        -3.76011126e-01],\n",
       "       [-3.03947055e+00,  3.24721645e-01, -8.67288461e-01,\n",
       "        -4.18143024e-01],\n",
       "       [-3.27242953e+00, -2.00568355e+00, -2.82138011e-01,\n",
       "         1.10824001e+00],\n",
       "       [-4.39637447e-01,  1.79804354e+00,  5.58619163e-01,\n",
       "        -2.07421543e+00],\n",
       "       [ 3.91638311e-03,  2.69362165e+00, -3.17571913e-01,\n",
       "         3.59479547e-01],\n",
       "       [-2.13956928e+00, -1.10620345e+00, -1.34069663e-01,\n",
       "        -1.10879323e+00],\n",
       "       [-2.98996844e+00, -6.08040478e-01, -4.79969471e-02,\n",
       "         9.64664026e-01],\n",
       "       [-2.78627967e+00, -1.93792677e+00, -4.23247078e-01,\n",
       "         1.98146535e-02],\n",
       "       [-2.91169507e-01,  2.25577818e+00,  1.23008634e+00,\n",
       "        -7.13560219e-01],\n",
       "       [-2.51858581e-01,  6.43786326e-01,  6.52696313e-01,\n",
       "         3.33398462e+00],\n",
       "       [ 1.16541826e-01,  1.79179646e+00,  6.67086788e-01,\n",
       "        -5.72374067e-01],\n",
       "       [-9.90221284e-01,  6.66058596e-01,  3.03346806e+00,\n",
       "         8.45760373e-01],\n",
       "       [ 7.38748594e-01,  3.71317835e+00,  1.20176797e+00,\n",
       "        -4.78870808e-01],\n",
       "       [-2.84045361e+00, -1.45244012e+00, -9.49417939e-01,\n",
       "         1.05455057e-01],\n",
       "       [ 5.81341370e-01,  2.00204609e+00, -2.43201254e+00,\n",
       "         9.54394277e-03],\n",
       "       [ 1.73541596e+00, -1.97501558e-01, -1.92265976e-01,\n",
       "        -4.96131928e-01],\n",
       "       [ 9.34496197e-01,  1.28234031e+00,  1.16938402e+00,\n",
       "         9.14278686e-01],\n",
       "       [ 6.14493925e-01,  1.97446827e+00, -4.64724124e-01,\n",
       "         5.06934380e-01],\n",
       "       [-1.42258355e+00,  1.32111231e+00,  2.33493867e-01,\n",
       "         1.44739261e-01],\n",
       "       [ 3.48888983e+00, -1.30795590e+00, -1.16549747e+00,\n",
       "         8.40888221e-01],\n",
       "       [ 1.87284824e+00,  1.52606452e-01,  9.17838000e-01,\n",
       "        -8.32013602e-02],\n",
       "       [-6.66333943e-01,  2.96303371e+00, -4.62251999e+00,\n",
       "        -9.33626099e-01],\n",
       "       [ 1.21336385e+00, -1.82678739e+00,  1.46503045e-01,\n",
       "         5.16959076e-01],\n",
       "       [ 1.49222368e+00, -8.52982588e-01,  4.72391946e-01,\n",
       "        -1.10344151e+00],\n",
       "       [-2.44729856e+00, -1.99392575e+00, -2.26296924e-01,\n",
       "        -1.99813289e-01],\n",
       "       [-2.23759057e+00, -3.64401008e-01, -7.01896045e-01,\n",
       "        -6.84253597e-01],\n",
       "       [ 2.92414224e+00, -8.34899329e-01, -1.03088951e+00,\n",
       "         9.56449244e-01],\n",
       "       [-2.15143820e+00, -3.28900389e-01, -9.71136003e-01,\n",
       "        -3.44958279e-01],\n",
       "       [ 2.83082815e+00, -9.72639871e-01, -8.84008817e-01,\n",
       "         4.22364152e-01],\n",
       "       [-1.69645258e+00, -1.55858457e+00,  1.40634048e+00,\n",
       "        -7.42232448e-01],\n",
       "       [-1.14827447e+00,  2.07175296e+00, -1.47142303e-01,\n",
       "        -1.38527632e-01],\n",
       "       [ 4.32098521e+00, -2.30405128e+00, -1.19035654e+00,\n",
       "         7.32593559e-01],\n",
       "       [ 1.16514722e+00,  2.04760794e+00,  1.86352694e-01,\n",
       "        -1.26853417e-02],\n",
       "       [ 2.20091809e+00, -2.48281482e+00,  8.59990308e-01,\n",
       "        -9.25718159e-01],\n",
       "       [-2.30431388e+00, -2.49249807e+00,  1.51154225e+00,\n",
       "         8.71875726e-02],\n",
       "       [ 9.73440939e-01,  1.85140312e+00, -2.85368791e-01,\n",
       "        -8.48397705e-01],\n",
       "       [-3.24224425e-01,  2.55414149e+00,  7.88553050e-01,\n",
       "         3.25467012e-01],\n",
       "       [ 1.94962169e+00, -1.78070100e+00,  1.11836621e+00,\n",
       "        -2.32407003e+00],\n",
       "       [ 1.44269960e+00,  5.79143213e-01, -1.24841518e+00,\n",
       "        -1.32822145e+00],\n",
       "       [-1.36556444e+00,  1.80808752e+00,  6.81307239e-01,\n",
       "        -4.27381878e-01],\n",
       "       [ 1.18905299e+00,  1.35648840e+00,  1.62894564e+00,\n",
       "         3.46629515e+00],\n",
       "       [ 4.03973734e-01,  2.29775572e+00, -1.05280227e+00,\n",
       "         2.46687242e-01],\n",
       "       [ 1.83606739e+00, -7.72616375e-01, -1.18534040e+00,\n",
       "        -5.90269270e-01],\n",
       "       [ 1.74290364e+00,  1.26148816e+00,  1.77499930e+00,\n",
       "         4.63251167e-01],\n",
       "       [ 3.22995670e-01,  2.18226470e+00, -4.54082299e-01,\n",
       "         8.14693507e-01],\n",
       "       [ 1.03633042e+00,  2.22437119e+00, -1.56940199e+00,\n",
       "        -6.98596269e-02],\n",
       "       [-2.91471127e+00, -2.52720004e-01, -1.16303457e+00,\n",
       "        -5.01097000e-01],\n",
       "       [-2.81515439e+00, -1.15404428e+00, -1.17873106e+00,\n",
       "         3.50203563e-01],\n",
       "       [ 3.54597357e+00, -2.70942670e+00, -4.37063059e-01,\n",
       "        -5.57626186e-01],\n",
       "       [-1.54616245e+00, -2.34619837e+00,  5.97910511e-01,\n",
       "         9.79701693e-01],\n",
       "       [ 1.64703801e+00,  5.95091291e-01, -1.43089310e+00,\n",
       "        -6.19491267e-01],\n",
       "       [-6.81060716e-01,  1.50043099e-01, -7.97067306e-01,\n",
       "        -2.32409180e+00],\n",
       "       [ 2.58847871e+00, -1.19280941e+00,  1.02731830e+00,\n",
       "         7.92910293e-01],\n",
       "       [ 2.74811085e+00, -1.66303992e+00, -2.84824758e-01,\n",
       "        -2.67812464e-01],\n",
       "       [-3.38326353e+00, -7.21035678e-01, -4.51507371e-01,\n",
       "         7.50446950e-01],\n",
       "       [-1.55913703e+00,  1.73691042e+00,  8.91053101e-01,\n",
       "         3.99593438e-01],\n",
       "       [ 1.67978204e+00,  1.28691885e+00,  2.55280502e-01,\n",
       "         2.92231150e+00],\n",
       "       [-2.77121400e+00, -2.50882131e-01, -1.66955135e-01,\n",
       "        -7.18963708e-01],\n",
       "       [ 3.36961549e+00, -1.64256820e+00, -9.60493436e-02,\n",
       "        -4.42006492e-01],\n",
       "       [ 3.18953440e+00, -1.94350827e+00, -1.81454938e-01,\n",
       "         1.52709179e-01],\n",
       "       [ 3.07832140e+00, -2.29527182e+00, -5.75202493e-01,\n",
       "        -3.29493786e-01],\n",
       "       [-2.58424960e+00, -2.62282388e+00, -8.86079227e-01,\n",
       "        -2.48833897e-02],\n",
       "       [-3.95922721e-01,  2.58020512e+00, -7.75330098e-01,\n",
       "         4.70729209e-01],\n",
       "       [-1.58489497e+00,  1.18631052e+00,  8.06831556e-01,\n",
       "         1.47713496e+00],\n",
       "       [ 8.15808783e-01, -2.29566451e-01, -6.88342625e-01,\n",
       "         1.34643796e+00],\n",
       "       [-1.56257575e-01,  2.07888251e+00, -5.00906486e-01,\n",
       "         5.31770802e-01],\n",
       "       [-3.77625515e+00, -4.66718837e-01,  1.68623838e+00,\n",
       "         5.68908439e-01],\n",
       "       [ 1.44838592e+00, -4.05380545e-01,  5.37564865e+00,\n",
       "        -2.72019878e-01],\n",
       "       [-4.12274705e+00, -4.63226992e-01, -1.40018044e+00,\n",
       "         1.16656624e+00],\n",
       "       [ 1.29911223e-01,  2.01286498e+00,  4.75351610e-01,\n",
       "         9.69563585e-01],\n",
       "       [-5.91548583e-01,  2.13091970e+00,  6.69898057e-01,\n",
       "        -8.14043518e-01],\n",
       "       [ 2.56759941e+00, -1.43721212e+00,  1.40273511e+00,\n",
       "        -1.62579032e-01],\n",
       "       [ 1.03176022e+00,  6.06424766e-01,  5.29305894e-01,\n",
       "        -5.69075973e-01],\n",
       "       [ 2.24476332e+00, -9.82748815e-02, -5.74713396e-01,\n",
       "         5.88649940e-01],\n",
       "       [ 1.36816060e+00, -5.57876433e-02, -1.38069835e+00,\n",
       "        -3.18950590e-01],\n",
       "       [ 1.00488817e+00,  3.18523441e+00, -3.87292449e-01,\n",
       "        -2.68317698e-01],\n",
       "       [-2.53185378e-01,  2.13451820e+00,  9.80369981e-01,\n",
       "        -7.55494613e-01],\n",
       "       [-2.23014915e+00, -3.68611837e-01, -2.17961132e-01,\n",
       "         7.72756447e-01],\n",
       "       [ 2.10637208e+00, -1.75225042e+00,  1.70086612e-01,\n",
       "        -1.30826218e+00],\n",
       "       [-1.01707380e+00, -3.45932013e+00,  1.24092722e+00,\n",
       "         1.12307301e+00],\n",
       "       [-1.17704201e+00,  7.46873664e-01,  1.86857053e+00,\n",
       "        -1.61186215e+00],\n",
       "       [-3.47344320e+00, -1.59190004e+00, -6.52394718e-02,\n",
       "         1.40352189e+00],\n",
       "       [ 2.58215224e+00, -1.08391523e+00, -1.69576070e+00,\n",
       "         3.63824333e-01],\n",
       "       [ 2.71561492e+00, -5.14989062e-01,  3.38529049e+00,\n",
       "        -1.58050188e+00],\n",
       "       [-2.07108858e+00, -1.09263420e+00, -1.20549726e+00,\n",
       "        -1.28369442e-01],\n",
       "       [-2.22744582e+00,  1.31420142e+00, -1.87474698e+00,\n",
       "         9.46640846e-01],\n",
       "       [ 1.61216733e+00,  2.03964868e+00,  7.44935494e-01,\n",
       "         1.48548484e+00]])"
      ]
     },
     "execution_count": 25,
     "metadata": {},
     "output_type": "execute_result"
    }
   ],
   "source": [
    "pc = model.fit_transform(x_train_std)    # 训练并降维\n",
    "pc "
   ]
  },
  {
   "cell_type": "code",
   "execution_count": 26,
   "metadata": {
    "ExecuteTime": {
     "end_time": "2020-12-23T08:53:39.597747Z",
     "start_time": "2020-12-23T08:53:39.266432Z"
    }
   },
   "outputs": [
    {
     "data": {
      "image/png": "[encoded data removed]",
      "text/plain": [
       "<Figure size 432x288 with 1 Axes>"
      ]
     },
     "metadata": {
      "needs_background": "light"
     },
     "output_type": "display_data"
    }
   ],
   "source": [
    "plt.rcParams['font.sans-serif']=['SimHei']#显示中文标签 \n",
    "plt.rcParams['axes.unicode_minus']=False\n",
    "\n",
    "plt.scatter(pc[:,0],pc[:,1],color='r')\n",
    "plt.hlines(y=0,xmax=4,xmin=-4,color='b')\n",
    "plt.vlines(x=0,ymax=4,ymin=-4,color='b')\n",
    "plt.xlabel('主成分1')\n",
    "plt.ylabel('主成分2')\n",
    "plt.show()"
   ]
  },
  {
   "cell_type": "markdown",
   "metadata": {},
   "source": [
    "### 线性判别分析(LDA）"
   ]
  },
  {
   "cell_type": "code",
   "execution_count": 9,
   "metadata": {
    "ExecuteTime": {
     "end_time": "2020-12-23T08:20:11.007029Z",
     "start_time": "2020-12-23T08:20:09.885336Z"
    }
   },
   "outputs": [
    {
     "data": {
      "text/plain": [
       "LogisticRegression()"
      ]
     },
     "execution_count": 9,
     "metadata": {},
     "output_type": "execute_result"
    }
   ],
   "source": [
    "lda = LDA(n_components=2)\n",
    "lr = LogisticRegression()\n",
    "x_train_lda = lda.fit_transform(x_train_std, y_train)  # LDA是有监督方法，需要用到标签\n",
    "x_test_lda = lda.fit_transform(x_test_std, y_test)  # 预测时候特征向量正负问题，乘-1反转镜像\n",
    "lr.fit(x_train_lda, y_train)"
   ]
  },
  {
   "cell_type": "code",
   "execution_count": 11,
   "metadata": {
    "ExecuteTime": {
     "end_time": "2020-12-23T08:24:50.620855Z",
     "start_time": "2020-12-23T08:24:50.598915Z"
    }
   },
   "outputs": [],
   "source": [
    "def plot_decision_regions(x, y, classifier, resolution=0.02):\n",
    "    markers = ['s', 'x', 'o', '^', 'v']\n",
    "    colors = ['r', 'g', 'b', 'gray', 'cyan']\n",
    "    cmap = ListedColormap(colors[:len(np.unique(y))])\n",
    "    x1_min, x1_max = x[:, 0].min() - 1, x[:, 0].max() + 1\n",
    "    x2_min, x2_max = x[:, 1].min() - 1, x[:, 1].max() + 1\n",
    "    xx1, xx2 = np.meshgrid(np.arange(x1_min, x1_max, resolution), np.arange(x2_min, x2_max, resolution))\n",
    "    z = classifier.predict(np.array([xx1.ravel(), xx2.ravel()]).T)\n",
    "    z = z.reshape(xx1.shape)\n",
    "    plt.contourf(xx1, xx2, z, alpha=0.4, cmap=cmap)\n",
    " \n",
    "    for idx, cc in enumerate(np.unique(y)):\n",
    "        plt.scatter(x=x[y == cc, 0],\n",
    "                    y=x[y == cc, 1],\n",
    "                    alpha=0.6,\n",
    "                    c=cmap(idx),\n",
    "                    edgecolor='black',\n",
    "                    marker=markers[idx],\n",
    "                    label=cc) "
   ]
  },
  {
   "cell_type": "code",
   "execution_count": 12,
   "metadata": {
    "ExecuteTime": {
     "end_time": "2020-12-23T08:24:55.237670Z",
     "start_time": "2020-12-23T08:24:54.629417Z"
    }
   },
   "outputs": [
    {
     "name": "stderr",
     "output_type": "stream",
     "text": [
      "'c' argument looks like a single numeric RGB or RGBA sequence, which should be avoided as value-mapping will have precedence in case its length matches with 'x' & 'y'.  Please use a 2-D array with a single row if you really want to specify the same RGB or RGBA value for all points.\n",
      "'c' argument looks like a single numeric RGB or RGBA sequence, which should be avoided as value-mapping will have precedence in case its length matches with 'x' & 'y'.  Please use a 2-D array with a single row if you really want to specify the same RGB or RGBA value for all points.\n",
      "'c' argument looks like a single numeric RGB or RGBA sequence, which should be avoided as value-mapping will have precedence in case its length matches with 'x' & 'y'.  Please use a 2-D array with a single row if you really want to specify the same RGB or RGBA value for all points.\n"
     ]
    },
    {
     "data": {
      "image/png": "[encoded data removed]",
      "text/plain": [
       "<Figure size 600x700 with 1 Axes>"
      ]
     },
     "metadata": {
      "needs_background": "light"
     },
     "output_type": "display_data"
    }
   ],
   "source": [
    "plt.figure(figsize=(6, 7), dpi=100)  # 画图高宽，像素\n",
    "plt.subplot(2, 1, 1)\n",
    "plot_decision_regions(x_train_lda, y_train, classifier=lr)\n",
    "plt.title('Training Result')\n",
    "plt.xlabel('LD1')\n",
    "plt.ylabel('LD2')\n",
    "plt.legend(loc='lower left')\n",
    "plt.show()"
   ]
  },
  {
   "cell_type": "code",
   "execution_count": 13,
   "metadata": {
    "ExecuteTime": {
     "end_time": "2020-12-23T08:25:44.421268Z",
     "start_time": "2020-12-23T08:25:44.123067Z"
    }
   },
   "outputs": [
    {
     "name": "stderr",
     "output_type": "stream",
     "text": [
      "'c' argument looks like a single numeric RGB or RGBA sequence, which should be avoided as value-mapping will have precedence in case its length matches with 'x' & 'y'.  Please use a 2-D array with a single row if you really want to specify the same RGB or RGBA value for all points.\n",
      "'c' argument looks like a single numeric RGB or RGBA sequence, which should be avoided as value-mapping will have precedence in case its length matches with 'x' & 'y'.  Please use a 2-D array with a single row if you really want to specify the same RGB or RGBA value for all points.\n",
      "'c' argument looks like a single numeric RGB or RGBA sequence, which should be avoided as value-mapping will have precedence in case its length matches with 'x' & 'y'.  Please use a 2-D array with a single row if you really want to specify the same RGB or RGBA value for all points.\n"
     ]
    },
    {
     "data": {
      "image/png": "[encoded data removed]",
      "text/plain": [
       "<Figure size 432x288 with 1 Axes>"
      ]
     },
     "metadata": {
      "needs_background": "light"
     },
     "output_type": "display_data"
    }
   ],
   "source": [
    "plt.subplot(2, 1, 2)\n",
    "plot_decision_regions(x_test_lda, y_test, classifier=lr)\n",
    "plt.title('Testing Result')\n",
    "plt.xlabel('LD1')\n",
    "plt.ylabel('LD2')\n",
    "plt.legend(loc='lower left')\n",
    "plt.tight_layout()  # 子图间距\n",
    "plt.show()"
   ]
  }
 ],
 "metadata": {
  "hide_input": false,
  "kernelspec": {
   "display_name": "Python 3",
   "language": "python",
   "name": "python3"
  },
  "language_info": {
   "codemirror_mode": {
    "name": "ipython",
    "version": 3
   },
   "file_extension": ".py",
   "mimetype": "text/x-python",
   "name": "python",
   "nbconvert_exporter": "python",
   "pygments_lexer": "ipython3",
   "version": "3.7.6"
  },
  "latex_envs": {
   "LaTeX_envs_menu_present": true,
   "autoclose": false,
   "autocomplete": true,
   "bibliofile": "biblio.bib",
   "cite_by": "apalike",
   "current_citInitial": 1,
   "eqLabelWithNumbers": true,
   "eqNumInitial": 1,
   "hotkeys": {
    "equation": "Ctrl-E",
    "itemize": "Ctrl-I"
   },
   "labels_anchors": false,
   "latex_user_defs": false,
   "report_style_numbering": false,
   "user_envs_cfg": false
  },
  "nbTranslate": {
   "displayLangs": [
    "*"
   ],
   "hotkey": "alt-t",
   "langInMainMenu": true,
   "sourceLang": "en",
   "targetLang": "fr",
   "useGoogleTranslate": true
  },
  "toc": {
   "base_numbering": 1,
   "nav_menu": {},
   "number_sections": true,
   "sideBar": true,
   "skip_h1_title": false,
   "title_cell": "Table of Contents",
   "title_sidebar": "Contents",
   "toc_cell": false,
   "toc_position": {},
   "toc_section_display": true,
   "toc_window_display": false
  },
  "varInspector": {
   "cols": {
    "lenName": 16,
    "lenType": 16,
    "lenVar": 40
   },
   "kernels_config": {
    "python": {
     "delete_cmd_postfix": "",
     "delete_cmd_prefix": "del ",
     "library": "var_list.py",
     "varRefreshCmd": "print(var_dic_list())"
    },
    "r": {
     "delete_cmd_postfix": ") ",
     "delete_cmd_prefix": "rm(",
     "library": "var_list.r",
     "varRefreshCmd": "cat(var_dic_list()) "
    }
   },
   "types_to_exclude": [
    "module",
    "function",
    "builtin_function_or_method",
    "instance",
    "_Feature"
   ],
   "window_display": false
  }
 },
 "nbformat": 4,
 "nbformat_minor": 4
}
