{
 "cells": [
  {
   "cell_type": "raw",
   "metadata": {},
   "source": [
    "任务一：利用处理好的数据，划分训练集和测试集，使用sklearn.naive_bayes.MultinomialNB 方法进行拟合，计算在测试集上的混淆矩阵"
   ]
  },
  {
   "cell_type": "code",
   "execution_count": 16,
   "metadata": {
    "ExecuteTime": {
     "end_time": "2020-08-14T03:27:39.035105Z",
     "start_time": "2020-08-14T03:27:38.891380Z"
    }
   },
   "outputs": [],
   "source": [
    "import numpy as np\n",
    "import pandas as pd\n",
    "import matplotlib.pyplot as plt\n",
    "\n",
    "from sklearn.metrics import confusion_matrix\n",
    "from sklearn.naive_bayes import MultinomialNB\n",
    "from sklearn.model_selection import train_test_split\n",
    "\n",
    "%matplotlib inline "
   ]
  },
  {
   "cell_type": "code",
   "execution_count": 29,
   "metadata": {
    "ExecuteTime": {
     "end_time": "2020-08-14T03:45:30.776925Z",
     "start_time": "2020-08-14T03:45:12.570574Z"
    }
   },
   "outputs": [],
   "source": [
    "data = pd.read_csv('G:/CDO/狗熊会机器学习/TASK6--刘嘉玲/DataClear.csv')\n",
    "\n",
    "# 将各个词汇的使用频数转换为0-1，0表示未出现某个词汇，而1表示出现了某个词汇\n",
    "data.iloc[:, 1:] = np.where(data.iloc[:, 1:]>=1, 1, 0)\n",
    "\n",
    "institution_name = data['单位名称'].unique()  \n",
    "institution_dict = dict(zip(institution_name, range(len(institution_name))))\n",
    "f = lambda x: institution_dict[x]\n",
    "data['单位名称'] = data['单位名称'].apply(f)\n",
    "\n",
    "X = data.iloc[:, 1:].values\n",
    "y = data['单位名称'].values "
   ]
  },
  {
   "cell_type": "code",
   "execution_count": 11,
   "metadata": {
    "ExecuteTime": {
     "end_time": "2020-08-14T03:13:35.880420Z",
     "start_time": "2020-08-14T03:13:35.318508Z"
    }
   },
   "outputs": [
    {
     "data": {
      "text/plain": [
       "((1600, 6235), (400, 6235), (1600,), (400,))"
      ]
     },
     "execution_count": 11,
     "metadata": {},
     "output_type": "execute_result"
    }
   ],
   "source": [
    "X_train,X_test,y_train,y_test = train_test_split(X,y,test_size = 0.2,random_state = 1) \n",
    "X_train.shape,X_test.shape,y_train.shape,y_test.shape"
   ]
  },
  {
   "cell_type": "code",
   "execution_count": 30,
   "metadata": {
    "ExecuteTime": {
     "end_time": "2020-08-14T07:53:46.460606Z",
     "start_time": "2020-08-14T07:53:38.538572Z"
    }
   },
   "outputs": [
    {
     "data": {
      "text/plain": [
       "array([3, 3, 2, 3, 1, 5, 0, 5, 5, 3, 5, 0, 1, 0, 0, 0, 1, 1, 1, 0, 1, 2,\n",
       "       1, 3, 2, 1, 1, 3, 3, 3, 1, 3, 5, 5, 0, 0, 2, 5, 2, 2, 5, 3, 0, 2,\n",
       "       1, 3, 3, 1, 1, 1, 4, 2, 5, 5, 5, 0, 5, 4, 5, 0, 2, 0, 1, 2, 5, 1,\n",
       "       5, 5, 1, 2, 5, 1, 1, 1, 1, 1, 2, 0, 3, 2, 3, 2, 0, 5, 1, 0, 1, 1,\n",
       "       0, 4, 1, 5, 3, 1, 3, 0, 0, 3, 5, 5, 5, 0, 1, 1, 0, 3, 5, 5, 0, 1,\n",
       "       2, 2, 5, 0, 3, 1, 3, 1, 0, 1, 0, 0, 5, 1, 1, 3, 6, 3, 1, 2, 0, 2,\n",
       "       5, 2, 5, 0, 0, 1, 3, 6, 5, 1, 4, 6, 2, 1, 0, 1, 0, 1, 1, 1, 2, 1,\n",
       "       0, 0, 0, 0, 3, 5, 0, 3, 1, 0, 0, 3, 1, 0, 1, 0, 3, 2, 1, 1, 0, 1,\n",
       "       0, 2, 1, 0, 2, 1, 0, 2, 5, 0, 1, 2, 0, 3, 1, 1, 1, 1, 1, 3, 2, 5,\n",
       "       1, 5, 1, 0, 3, 1, 2, 1, 4, 0, 0, 3, 5, 2, 5, 1, 1, 2, 0, 6, 0, 3,\n",
       "       1, 2, 2, 0, 1, 1, 1, 1, 1, 5, 1, 5, 0, 1, 5, 3, 1, 0, 3, 3, 5, 0,\n",
       "       5, 4, 1, 6, 1, 1, 3, 1, 1, 3, 1, 1, 6, 1, 1, 0, 5, 1, 5, 5, 0, 1,\n",
       "       1, 0, 0, 5, 1, 3, 5, 0, 2, 2, 5, 1, 0, 1, 0, 2, 0, 5, 4, 5, 1, 0,\n",
       "       6, 6, 0, 0, 5, 0, 5, 5, 1, 5, 2, 0, 6, 2, 5, 1, 0, 4, 5, 1, 3, 1,\n",
       "       0, 0, 6, 0, 3, 3, 5, 0, 6, 1, 1, 1, 3, 2, 2, 5, 2, 1, 0, 0, 2, 2,\n",
       "       1, 1, 1, 1, 5, 1, 1, 5, 1, 0, 1, 2, 3, 3, 1, 1, 0, 2, 5, 1, 0, 6,\n",
       "       5, 1, 5, 1, 3, 0, 1, 6, 1, 5, 2, 1, 5, 1, 2, 1, 0, 5, 3, 5, 6, 1,\n",
       "       1, 3, 5, 5, 3, 6, 5, 1, 1, 1, 2, 5, 0, 4, 6, 5, 2, 1, 0, 5, 5, 1,\n",
       "       5, 1, 2, 1], dtype=int64)"
      ]
     },
     "execution_count": 30,
     "metadata": {},
     "output_type": "execute_result"
    }
   ],
   "source": [
    "MNB = MultinomialNB()\n",
    "MNB.fit(X_train,y_train)\n",
    "y_pred = MNB.predict(X_test)\n",
    "y_pred "
   ]
  },
  {
   "cell_type": "code",
   "execution_count": 31,
   "metadata": {
    "ExecuteTime": {
     "end_time": "2020-08-14T07:55:01.396684Z",
     "start_time": "2020-08-14T07:55:01.044781Z"
    }
   },
   "outputs": [
    {
     "data": {
      "text/plain": [
       "array([[ 76,   1,   0,   0,   0,   0,   0],\n",
       "       [  0, 110,   0,   0,   0,   0,   0],\n",
       "       [  0,   0,  46,   0,   0,   0,   0],\n",
       "       [  0,   0,   0,  46,   0,   0,   0],\n",
       "       [  5,   3,   1,   0,   9,   0,   0],\n",
       "       [  0,   1,   0,   2,   0,  72,   0],\n",
       "       [  0,   9,   2,   0,   0,   1,  16]], dtype=int64)"
      ]
     },
     "execution_count": 31,
     "metadata": {},
     "output_type": "execute_result"
    }
   ],
   "source": [
    "confusion_matrix(y_test, y_pred)  #计算混淆矩阵"
   ]
  },
  {
   "cell_type": "code",
   "execution_count": 32,
   "metadata": {
    "ExecuteTime": {
     "end_time": "2020-08-14T08:01:25.340398Z",
     "start_time": "2020-08-14T08:01:25.155792Z"
    }
   },
   "outputs": [
    {
     "data": {
      "text/plain": [
       "0.9375"
      ]
     },
     "execution_count": 32,
     "metadata": {},
     "output_type": "execute_result"
    }
   ],
   "source": [
    "from sklearn.metrics import accuracy_score\n",
    "accuracy_score(y_test,y_pred )   #计算准确率"
   ]
  },
  {
   "cell_type": "raw",
   "metadata": {},
   "source": [
    "任务二：利用sklearn.discriminant_analysis.LinearDiscriminantAnalysis来拟合生成的两个高斯分布，来验证所推导的公式"
   ]
  },
  {
   "cell_type": "code",
   "execution_count": 3,
   "metadata": {
    "ExecuteTime": {
     "end_time": "2020-08-14T01:17:46.251273Z",
     "start_time": "2020-08-14T01:17:44.986355Z"
    }
   },
   "outputs": [],
   "source": [
    "import random\n",
    "from sklearn.discriminant_analysis import LinearDiscriminantAnalysis\n",
    "\n",
    "# 生成的数据为 (0, 0)为中心，协方差矩阵为单位阵的高斯分布\n",
    "# 和(2,2)为中心，协方差为单位阵的高斯分布\n",
    "cluster_1 = np.random.multivariate_normal([0, 0], np.diag([1, 1]), 50)\n",
    "cluster_2 = np.random.multivariate_normal([2, 2], np.diag([1, 1]), 50)\n",
    "\n",
    "label = np.asarray([0]*len(cluster_1) + [1]*len(cluster_2))\n",
    "LDA_data = np.row_stack([cluster_1, cluster_2])\n",
    "shuffle_index = np.arange(len(LDA_data))\n",
    "random.shuffle(shuffle_index)\n",
    "\n",
    "LDA_data = LDA_data[shuffle_index]\n",
    "label = label[shuffle_index]"
   ]
  },
  {
   "cell_type": "code",
   "execution_count": 4,
   "metadata": {
    "ExecuteTime": {
     "end_time": "2020-08-14T01:18:04.921957Z",
     "start_time": "2020-08-14T01:18:04.913945Z"
    }
   },
   "outputs": [],
   "source": [
    "LDA = LinearDiscriminantAnalysis()\n",
    "result = LDA.fit(LDA_data, label)"
   ]
  },
  {
   "cell_type": "code",
   "execution_count": 5,
   "metadata": {
    "ExecuteTime": {
     "end_time": "2020-08-14T01:18:33.483709Z",
     "start_time": "2020-08-14T01:18:33.476719Z"
    }
   },
   "outputs": [
    {
     "name": "stdout",
     "output_type": "stream",
     "text": [
      "[[1.56963753 2.32190994]]\n"
     ]
    }
   ],
   "source": [
    "print(result.coef_)  # 权重向量"
   ]
  },
  {
   "cell_type": "code",
   "execution_count": 6,
   "metadata": {
    "ExecuteTime": {
     "end_time": "2020-08-14T01:18:51.324749Z",
     "start_time": "2020-08-14T01:18:50.976944Z"
    }
   },
   "outputs": [
    {
     "data": {
      "image/png": "[encoded data removed]",
      "text/plain": [
       "<Figure size 432x288 with 1 Axes>"
      ]
     },
     "metadata": {
      "needs_background": "light"
     },
     "output_type": "display_data"
    }
   ],
   "source": [
    "figure = plt.figure(1)\n",
    "\n",
    "plt.plot(LDA_data[label==0][:, 0], LDA_data[label==0][:, 1], 'r*')\n",
    "plt.plot(LDA_data[label==1][:, 0], LDA_data[label==1][:, 1], 'b.')\n",
    "\n",
    "orth_vector = result.coef_.copy()\n",
    "orth_vector[0][0],  orth_vector[0][1]=orth_vector[0][1],  -orth_vector[0][0]\n",
    "\n",
    "x_axis = np.arange(-2, 4, 0.01)\n",
    "x_stack = np.column_stack([np.ones((len(x_axis))), x_axis])\n",
    "plt.plot(x_axis, x_stack.dot(orth_vector.T), 'g-')\n",
    "plt.show()"
   ]
  },
  {
   "cell_type": "code",
   "execution_count": null,
   "metadata": {},
   "outputs": [],
   "source": []
  }
 ],
 "metadata": {
  "hide_input": false,
  "kernelspec": {
   "display_name": "Python 3",
   "language": "python",
   "name": "python3"
  },
  "language_info": {
   "codemirror_mode": {
    "name": "ipython",
    "version": 3
   },
   "file_extension": ".py",
   "mimetype": "text/x-python",
   "name": "python",
   "nbconvert_exporter": "python",
   "pygments_lexer": "ipython3",
   "version": "3.7.6"
  },
  "latex_envs": {
   "LaTeX_envs_menu_present": true,
   "autoclose": false,
   "autocomplete": true,
   "bibliofile": "biblio.bib",
   "cite_by": "apalike",
   "current_citInitial": 1,
   "eqLabelWithNumbers": true,
   "eqNumInitial": 1,
   "hotkeys": {
    "equation": "Ctrl-E",
    "itemize": "Ctrl-I"
   },
   "labels_anchors": false,
   "latex_user_defs": false,
   "report_style_numbering": false,
   "user_envs_cfg": false
  },
  "nbTranslate": {
   "displayLangs": [
    "*"
   ],
   "hotkey": "alt-t",
   "langInMainMenu": true,
   "sourceLang": "en",
   "targetLang": "fr",
   "useGoogleTranslate": true
  },
  "toc": {
   "base_numbering": 1,
   "nav_menu": {},
   "number_sections": true,
   "sideBar": true,
   "skip_h1_title": false,
   "title_cell": "Table of Contents",
   "title_sidebar": "Contents",
   "toc_cell": false,
   "toc_position": {},
   "toc_section_display": true,
   "toc_window_display": false
  },
  "varInspector": {
   "cols": {
    "lenName": 16,
    "lenType": 16,
    "lenVar": 40
   },
   "kernels_config": {
    "python": {
     "delete_cmd_postfix": "",
     "delete_cmd_prefix": "del ",
     "library": "var_list.py",
     "varRefreshCmd": "print(var_dic_list())"
    },
    "r": {
     "delete_cmd_postfix": ") ",
     "delete_cmd_prefix": "rm(",
     "library": "var_list.r",
     "varRefreshCmd": "cat(var_dic_list()) "
    }
   },
   "types_to_exclude": [
    "module",
    "function",
    "builtin_function_or_method",
    "instance",
    "_Feature"
   ],
   "window_display": false
  }
 },
 "nbformat": 4,
 "nbformat_minor": 4
}
