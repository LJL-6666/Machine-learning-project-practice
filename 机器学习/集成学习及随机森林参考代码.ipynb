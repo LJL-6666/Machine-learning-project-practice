{
 "cells": [
  {
   "cell_type": "markdown",
   "metadata": {},
   "source": [
    "# 集成学习及随机森林"
   ]
  },
  {
   "cell_type": "markdown",
   "metadata": {},
   "source": [
    "## 数据预处理"
   ]
  },
  {
   "cell_type": "code",
   "execution_count": 88,
   "metadata": {},
   "outputs": [],
   "source": [
    "import os\n",
    "filePath = '/Users/yangwei/Desktop/二分类图/'\n",
    "items = os.listdir(filePath)"
   ]
  },
  {
   "cell_type": "code",
   "execution_count": 89,
   "metadata": {},
   "outputs": [
    {
     "data": {
      "text/plain": [
       "350"
      ]
     },
     "execution_count": 89,
     "metadata": {},
     "output_type": "execute_result"
    }
   ],
   "source": [
    "len(items)"
   ]
  },
  {
   "cell_type": "code",
   "execution_count": 90,
   "metadata": {},
   "outputs": [],
   "source": [
    "#为了避免有不是jpg格式的文件，有临时文件时可能会有问题，多做一步\n",
    "namelist=[]\n",
    "for name in items:\n",
    "    if name.endswith(\".jpg\"):\n",
    "        namelist.append(name)"
   ]
  },
  {
   "cell_type": "code",
   "execution_count": 91,
   "metadata": {},
   "outputs": [
    {
     "data": {
      "text/plain": [
       "'226_male.jpg'"
      ]
     },
     "execution_count": 91,
     "metadata": {},
     "output_type": "execute_result"
    }
   ],
   "source": [
    "namelist[0] #226表示图片编号，后面的male表示性别"
   ]
  },
  {
   "cell_type": "code",
   "execution_count": 92,
   "metadata": {},
   "outputs": [
    {
     "data": {
      "text/plain": [
       "['226', 'male']"
      ]
     },
     "execution_count": 92,
     "metadata": {},
     "output_type": "execute_result"
    }
   ],
   "source": [
    "#需要将性别（输出）拆解出来\n",
    "namelist[0][:-4].split(\"_\")"
   ]
  },
  {
   "cell_type": "markdown",
   "metadata": {},
   "source": [
    "**读取图片，将图片作为特征X，将人的性别作为输出Y**"
   ]
  },
  {
   "cell_type": "code",
   "execution_count": 93,
   "metadata": {},
   "outputs": [],
   "source": [
    "import numpy as np\n",
    "from PIL import Image\n",
    "\n",
    "X=np.empty((0,4096))\n",
    "n_pixels=64\n",
    "for i in namelist:\n",
    "    img=np.array(Image.open(filePath+i).convert('L'), 'f')\n",
    "    img_new=img.reshape(1,4096)\n",
    "    X=np.vstack((X,img_new))   "
   ]
  },
  {
   "cell_type": "code",
   "execution_count": 94,
   "metadata": {},
   "outputs": [
    {
     "data": {
      "text/plain": [
       "(350, 4096)"
      ]
     },
     "execution_count": 94,
     "metadata": {},
     "output_type": "execute_result"
    }
   ],
   "source": [
    "X.shape"
   ]
  },
  {
   "cell_type": "code",
   "execution_count": 95,
   "metadata": {},
   "outputs": [
    {
     "data": {
      "text/plain": [
       "array([[152., 158., 169., ...,   0.,   4.,  21.],\n",
       "       [222., 226., 230., ...,  98., 102., 104.],\n",
       "       [ 53.,  84., 121., ...,  54., 118.,  97.],\n",
       "       [103.,  90.,  52., ..., 149., 143., 131.],\n",
       "       [150., 161., 174., ...,  95.,  87.,  82.]])"
      ]
     },
     "execution_count": 95,
     "metadata": {},
     "output_type": "execute_result"
    }
   ],
   "source": [
    "X[:5]"
   ]
  },
  {
   "cell_type": "code",
   "execution_count": 96,
   "metadata": {},
   "outputs": [],
   "source": [
    "y=[]\n",
    "for i in namelist:\n",
    "    sex=i[:-4].split(\"_\")[1]\n",
    "    y.append(sex)"
   ]
  },
  {
   "cell_type": "code",
   "execution_count": 97,
   "metadata": {},
   "outputs": [
    {
     "data": {
      "text/plain": [
       "array(['male', 'male', 'male', 'male', 'male'], dtype='<U6')"
      ]
     },
     "execution_count": 97,
     "metadata": {},
     "output_type": "execute_result"
    }
   ],
   "source": [
    "y=np.array(y)\n",
    "y[:5]"
   ]
  },
  {
   "cell_type": "markdown",
   "metadata": {},
   "source": [
    "**划分测试集和训练集**"
   ]
  },
  {
   "cell_type": "code",
   "execution_count": 108,
   "metadata": {},
   "outputs": [],
   "source": [
    "from sklearn.model_selection import train_test_split\n",
    "train_X, test_X,train_y,test_y = train_test_split(X, y, test_size=0.3,random_state=1)"
   ]
  },
  {
   "cell_type": "code",
   "execution_count": 109,
   "metadata": {},
   "outputs": [
    {
     "data": {
      "text/plain": [
       "(245, 4096)"
      ]
     },
     "execution_count": 109,
     "metadata": {},
     "output_type": "execute_result"
    }
   ],
   "source": [
    "train_X.shape"
   ]
  },
  {
   "cell_type": "code",
   "execution_count": 110,
   "metadata": {},
   "outputs": [
    {
     "data": {
      "text/plain": [
       "(105, 4096)"
      ]
     },
     "execution_count": 110,
     "metadata": {},
     "output_type": "execute_result"
    }
   ],
   "source": [
    "test_X.shape"
   ]
  },
  {
   "cell_type": "markdown",
   "metadata": {},
   "source": [
    "## 单个模型的效果"
   ]
  },
  {
   "cell_type": "code",
   "execution_count": 117,
   "metadata": {},
   "outputs": [],
   "source": [
    "from sklearn import tree\n",
    "from sklearn import linear_model \n",
    "from sklearn import neighbors\n",
    "\n",
    "model1=tree.DecisionTreeClassifier(random_state=123)    #决策树分类模型\n",
    "model2=neighbors.KNeighborsClassifier() #KNN分类模型\n",
    "model3=linear_model.LogisticRegression(max_iter=1000,random_state=123)#逻辑回归模型"
   ]
  },
  {
   "cell_type": "code",
   "execution_count": 118,
   "metadata": {},
   "outputs": [
    {
     "data": {
      "text/plain": [
       "LogisticRegression(max_iter=1000, random_state=123)"
      ]
     },
     "execution_count": 118,
     "metadata": {},
     "output_type": "execute_result"
    }
   ],
   "source": [
    "#模型训练\n",
    "model1.fit(train_X,train_y)\n",
    "model2.fit(train_X,train_y)\n",
    "model3.fit(train_X,train_y)"
   ]
  },
  {
   "cell_type": "code",
   "execution_count": 119,
   "metadata": {},
   "outputs": [],
   "source": [
    "#预测\n",
    "pred1=model1.predict(test_X)\n",
    "pred2=model2.predict(test_X)\n",
    "pred3=model3.predict(test_X)"
   ]
  },
  {
   "cell_type": "code",
   "execution_count": 120,
   "metadata": {},
   "outputs": [
    {
     "data": {
      "text/plain": [
       "0.8857142857142857"
      ]
     },
     "execution_count": 120,
     "metadata": {},
     "output_type": "execute_result"
    }
   ],
   "source": [
    "model1.score(test_X,test_y)"
   ]
  },
  {
   "cell_type": "code",
   "execution_count": 121,
   "metadata": {},
   "outputs": [
    {
     "data": {
      "text/plain": [
       "0.9714285714285714"
      ]
     },
     "execution_count": 121,
     "metadata": {},
     "output_type": "execute_result"
    }
   ],
   "source": [
    "model2.score(test_X,test_y)"
   ]
  },
  {
   "cell_type": "code",
   "execution_count": 122,
   "metadata": {},
   "outputs": [
    {
     "data": {
      "text/plain": [
       "0.9809523809523809"
      ]
     },
     "execution_count": 122,
     "metadata": {},
     "output_type": "execute_result"
    }
   ],
   "source": [
    "model3.score(test_X,test_y)"
   ]
  },
  {
   "cell_type": "markdown",
   "metadata": {},
   "source": [
    "## 简单集成技术"
   ]
  },
  {
   "cell_type": "markdown",
   "metadata": {},
   "source": [
    "**（1）最大投票法**"
   ]
  },
  {
   "cell_type": "markdown",
   "metadata": {},
   "source": [
    "**（2）平均法**"
   ]
  },
  {
   "cell_type": "markdown",
   "metadata": {},
   "source": [
    "**（3）加权平均法**"
   ]
  },
  {
   "cell_type": "markdown",
   "metadata": {},
   "source": [
    "### （1）最大投票法"
   ]
  },
  {
   "cell_type": "markdown",
   "metadata": {},
   "source": [
    "**最大投票法参考代码**"
   ]
  },
  {
   "cell_type": "code",
   "execution_count": 123,
   "metadata": {},
   "outputs": [],
   "source": [
    "#最终结果\n",
    "import numpy as np\n",
    "import pandas as pd\n",
    "final_pred = np.array([])\n",
    "for i in range(0,len(test_X)):\n",
    "    temp=pd.Series([pred1[i], pred2[i], pred3[i]])\n",
    "    final_pred =np.append(final_pred,temp.mode()[0])"
   ]
  },
  {
   "cell_type": "code",
   "execution_count": 124,
   "metadata": {
    "scrolled": true
   },
   "outputs": [
    {
     "data": {
      "text/plain": [
       "array(['male', 'male', 'female', 'male', 'male', 'male', 'male', 'male',\n",
       "       'male', 'male', 'male', 'male', 'male', 'male', 'male', 'male',\n",
       "       'male', 'male', 'male', 'male', 'male', 'male', 'male', 'male',\n",
       "       'male', 'male', 'female', 'male', 'male', 'male', 'male', 'male',\n",
       "       'male', 'male', 'male', 'male', 'male', 'male', 'male', 'male',\n",
       "       'male', 'male', 'male', 'male', 'male', 'male', 'male', 'male',\n",
       "       'male', 'male', 'male', 'male', 'male', 'male', 'male', 'male',\n",
       "       'male', 'male', 'male', 'male', 'male', 'male', 'male', 'male',\n",
       "       'male', 'male', 'male', 'female', 'male', 'male', 'male', 'male',\n",
       "       'male', 'male', 'male', 'female', 'male', 'male', 'male', 'male',\n",
       "       'male', 'male', 'male', 'male', 'male', 'male', 'male', 'male',\n",
       "       'male', 'male', 'male', 'male', 'male', 'male', 'male', 'male',\n",
       "       'male', 'male', 'male', 'male', 'male', 'female', 'male', 'male',\n",
       "       'male'], dtype='<U32')"
      ]
     },
     "execution_count": 124,
     "metadata": {},
     "output_type": "execute_result"
    }
   ],
   "source": [
    "#最终结果\n",
    "final_pred"
   ]
  },
  {
   "cell_type": "code",
   "execution_count": 125,
   "metadata": {},
   "outputs": [
    {
     "data": {
      "text/html": [
       "<div>\n",
       "<style scoped>\n",
       "    .dataframe tbody tr th:only-of-type {\n",
       "        vertical-align: middle;\n",
       "    }\n",
       "\n",
       "    .dataframe tbody tr th {\n",
       "        vertical-align: top;\n",
       "    }\n",
       "\n",
       "    .dataframe thead th {\n",
       "        text-align: right;\n",
       "    }\n",
       "</style>\n",
       "<table border=\"1\" class=\"dataframe\">\n",
       "  <thead>\n",
       "    <tr style=\"text-align: right;\">\n",
       "      <th></th>\n",
       "      <th>真实类别</th>\n",
       "      <th>最终结果</th>\n",
       "      <th>pred1</th>\n",
       "      <th>pred2</th>\n",
       "      <th>pred3</th>\n",
       "    </tr>\n",
       "  </thead>\n",
       "  <tbody>\n",
       "    <tr>\n",
       "      <th>0</th>\n",
       "      <td>male</td>\n",
       "      <td>male</td>\n",
       "      <td>male</td>\n",
       "      <td>male</td>\n",
       "      <td>male</td>\n",
       "    </tr>\n",
       "    <tr>\n",
       "      <th>1</th>\n",
       "      <td>male</td>\n",
       "      <td>male</td>\n",
       "      <td>female</td>\n",
       "      <td>male</td>\n",
       "      <td>male</td>\n",
       "    </tr>\n",
       "    <tr>\n",
       "      <th>2</th>\n",
       "      <td>female</td>\n",
       "      <td>female</td>\n",
       "      <td>female</td>\n",
       "      <td>female</td>\n",
       "      <td>female</td>\n",
       "    </tr>\n",
       "    <tr>\n",
       "      <th>3</th>\n",
       "      <td>male</td>\n",
       "      <td>male</td>\n",
       "      <td>male</td>\n",
       "      <td>male</td>\n",
       "      <td>male</td>\n",
       "    </tr>\n",
       "    <tr>\n",
       "      <th>4</th>\n",
       "      <td>male</td>\n",
       "      <td>male</td>\n",
       "      <td>male</td>\n",
       "      <td>male</td>\n",
       "      <td>male</td>\n",
       "    </tr>\n",
       "    <tr>\n",
       "      <th>...</th>\n",
       "      <td>...</td>\n",
       "      <td>...</td>\n",
       "      <td>...</td>\n",
       "      <td>...</td>\n",
       "      <td>...</td>\n",
       "    </tr>\n",
       "    <tr>\n",
       "      <th>100</th>\n",
       "      <td>male</td>\n",
       "      <td>male</td>\n",
       "      <td>male</td>\n",
       "      <td>male</td>\n",
       "      <td>male</td>\n",
       "    </tr>\n",
       "    <tr>\n",
       "      <th>101</th>\n",
       "      <td>female</td>\n",
       "      <td>female</td>\n",
       "      <td>female</td>\n",
       "      <td>female</td>\n",
       "      <td>female</td>\n",
       "    </tr>\n",
       "    <tr>\n",
       "      <th>102</th>\n",
       "      <td>male</td>\n",
       "      <td>male</td>\n",
       "      <td>male</td>\n",
       "      <td>male</td>\n",
       "      <td>male</td>\n",
       "    </tr>\n",
       "    <tr>\n",
       "      <th>103</th>\n",
       "      <td>male</td>\n",
       "      <td>male</td>\n",
       "      <td>male</td>\n",
       "      <td>male</td>\n",
       "      <td>male</td>\n",
       "    </tr>\n",
       "    <tr>\n",
       "      <th>104</th>\n",
       "      <td>male</td>\n",
       "      <td>male</td>\n",
       "      <td>male</td>\n",
       "      <td>male</td>\n",
       "      <td>male</td>\n",
       "    </tr>\n",
       "  </tbody>\n",
       "</table>\n",
       "<p>105 rows × 5 columns</p>\n",
       "</div>"
      ],
      "text/plain": [
       "       真实类别    最终结果   pred1   pred2   pred3\n",
       "0      male    male    male    male    male\n",
       "1      male    male  female    male    male\n",
       "2    female  female  female  female  female\n",
       "3      male    male    male    male    male\n",
       "4      male    male    male    male    male\n",
       "..      ...     ...     ...     ...     ...\n",
       "100    male    male    male    male    male\n",
       "101  female  female  female  female  female\n",
       "102    male    male    male    male    male\n",
       "103    male    male    male    male    male\n",
       "104    male    male    male    male    male\n",
       "\n",
       "[105 rows x 5 columns]"
      ]
     },
     "execution_count": 125,
     "metadata": {},
     "output_type": "execute_result"
    }
   ],
   "source": [
    "import pandas as pd\n",
    "out=pd.DataFrame({\"真实类别\":test_y,\"最终结果\":final_pred,\"pred1\":pred1,\"pred2\":pred2,\"pred3\":pred3})\n",
    "out"
   ]
  },
  {
   "cell_type": "code",
   "execution_count": 126,
   "metadata": {},
   "outputs": [
    {
     "data": {
      "text/plain": [
       "0.9809523809523809"
      ]
     },
     "execution_count": 126,
     "metadata": {},
     "output_type": "execute_result"
    }
   ],
   "source": [
    "from sklearn.metrics import accuracy_score\n",
    "accuracy_score(test_y,final_pred) "
   ]
  },
  {
   "cell_type": "markdown",
   "metadata": {},
   "source": [
    "**也可以在sklearn中使用“VotingClassifier”模块**"
   ]
  },
  {
   "cell_type": "code",
   "execution_count": 127,
   "metadata": {},
   "outputs": [],
   "source": [
    "from sklearn.ensemble import VotingClassifier\n",
    "model_final=VotingClassifier(estimators=[('决策树模型', model1), ('KNN', model2),('逻辑回归', model3)], voting='hard')"
   ]
  },
  {
   "cell_type": "code",
   "execution_count": 128,
   "metadata": {},
   "outputs": [],
   "source": [
    "model_final.fit(train_X,train_y)\n",
    "final_pred=model_final.predict(test_X)"
   ]
  },
  {
   "cell_type": "code",
   "execution_count": 129,
   "metadata": {},
   "outputs": [
    {
     "data": {
      "text/plain": [
       "array(['male', 'male', 'female', 'male', 'male', 'male', 'male', 'male',\n",
       "       'male', 'male', 'male', 'male', 'male', 'male', 'male', 'male',\n",
       "       'male', 'male', 'male', 'male', 'male', 'male', 'male', 'male',\n",
       "       'male', 'male', 'female', 'male', 'male', 'male', 'male', 'male',\n",
       "       'male', 'male', 'male', 'male', 'male', 'male', 'male', 'male',\n",
       "       'male', 'male', 'male', 'male', 'male', 'male', 'male', 'male',\n",
       "       'male', 'male', 'male', 'male', 'male', 'male', 'male', 'male',\n",
       "       'male', 'male', 'male', 'male', 'male', 'male', 'male', 'male',\n",
       "       'male', 'male', 'male', 'female', 'male', 'male', 'male', 'male',\n",
       "       'male', 'male', 'male', 'male', 'male', 'male', 'male', 'male',\n",
       "       'male', 'male', 'male', 'male', 'male', 'male', 'male', 'male',\n",
       "       'male', 'male', 'male', 'male', 'male', 'male', 'male', 'male',\n",
       "       'male', 'male', 'male', 'male', 'male', 'female', 'male', 'male',\n",
       "       'male'], dtype='<U6')"
      ]
     },
     "execution_count": 129,
     "metadata": {},
     "output_type": "execute_result"
    }
   ],
   "source": [
    "final_pred"
   ]
  },
  {
   "cell_type": "code",
   "execution_count": 130,
   "metadata": {},
   "outputs": [
    {
     "data": {
      "text/plain": [
       "0.9714285714285714"
      ]
     },
     "execution_count": 130,
     "metadata": {},
     "output_type": "execute_result"
    }
   ],
   "source": [
    "accuracy_score(test_y,final_pred) "
   ]
  },
  {
   "cell_type": "markdown",
   "metadata": {},
   "source": [
    "### （2）平均法"
   ]
  },
  {
   "cell_type": "code",
   "execution_count": 131,
   "metadata": {},
   "outputs": [],
   "source": [
    "pred1=model1.predict_proba(test_X)\n",
    "pred2=model2.predict_proba(test_X)\n",
    "pred3=model3.predict_proba(test_X)"
   ]
  },
  {
   "cell_type": "code",
   "execution_count": 132,
   "metadata": {},
   "outputs": [],
   "source": [
    "finalpred=(pred1+pred2+pred3)/3 "
   ]
  },
  {
   "cell_type": "code",
   "execution_count": 133,
   "metadata": {},
   "outputs": [
    {
     "data": {
      "text/plain": [
       "array([[6.69094410e-14, 1.00000000e+00],\n",
       "       [3.33334219e-01, 6.66665781e-01],\n",
       "       [9.33332727e-01, 6.66672733e-02],\n",
       "       [4.55768556e-09, 9.99999995e-01],\n",
       "       [6.66666702e-02, 9.33333330e-01],\n",
       "       [5.01596024e-05, 9.99949840e-01],\n",
       "       [3.99947462e-01, 6.00052538e-01],\n",
       "       [2.88894834e-11, 1.00000000e+00],\n",
       "       [6.66666670e-02, 9.33333333e-01],\n",
       "       [2.44608038e-11, 1.00000000e+00],\n",
       "       [1.81696510e-04, 9.99818303e-01],\n",
       "       [2.39556523e-11, 1.00000000e+00],\n",
       "       [3.65972493e-09, 9.99999996e-01],\n",
       "       [2.33391084e-12, 1.00000000e+00],\n",
       "       [3.99941572e-01, 6.00058428e-01],\n",
       "       [4.44829359e-14, 1.00000000e+00],\n",
       "       [9.19575527e-12, 1.00000000e+00],\n",
       "       [3.14452908e-11, 1.00000000e+00],\n",
       "       [4.46939434e-09, 9.99999996e-01],\n",
       "       [4.63568443e-11, 1.00000000e+00],\n",
       "       [1.07973926e-10, 1.00000000e+00],\n",
       "       [5.86532304e-11, 1.00000000e+00],\n",
       "       [8.53473588e-11, 1.00000000e+00],\n",
       "       [8.61266614e-12, 1.00000000e+00],\n",
       "       [5.73985304e-13, 1.00000000e+00],\n",
       "       [5.98140963e-09, 9.99999994e-01],\n",
       "       [9.33333135e-01, 6.66668652e-02],\n",
       "       [2.48541928e-13, 1.00000000e+00],\n",
       "       [2.16258392e-01, 7.83741608e-01],\n",
       "       [3.72441652e-01, 6.27558348e-01],\n",
       "       [2.35078623e-12, 1.00000000e+00],\n",
       "       [9.01501096e-14, 1.00000000e+00],\n",
       "       [9.18820575e-13, 1.00000000e+00],\n",
       "       [1.80294074e-06, 9.99998197e-01],\n",
       "       [8.07681773e-10, 9.99999999e-01],\n",
       "       [3.33333333e-01, 6.66666667e-01],\n",
       "       [3.18267615e-06, 9.99996817e-01],\n",
       "       [5.15805660e-06, 9.99994842e-01],\n",
       "       [3.33333335e-01, 6.66666665e-01],\n",
       "       [1.28005723e-06, 9.99998720e-01],\n",
       "       [6.47077086e-08, 9.99999935e-01],\n",
       "       [3.21040157e-10, 1.00000000e+00],\n",
       "       [3.57264588e-11, 1.00000000e+00],\n",
       "       [3.23956953e-07, 9.99999676e-01],\n",
       "       [8.99006795e-10, 9.99999999e-01],\n",
       "       [2.17308936e-06, 9.99997827e-01],\n",
       "       [3.47869881e-15, 1.00000000e+00],\n",
       "       [2.38208017e-04, 9.99761792e-01],\n",
       "       [3.11602596e-14, 1.00000000e+00],\n",
       "       [5.75502609e-12, 1.00000000e+00],\n",
       "       [0.00000000e+00, 1.00000000e+00],\n",
       "       [4.91162666e-13, 1.00000000e+00],\n",
       "       [2.06283746e-09, 9.99999998e-01],\n",
       "       [1.81277141e-10, 1.00000000e+00],\n",
       "       [3.33333334e-01, 6.66666666e-01],\n",
       "       [6.70429268e-10, 9.99999999e-01],\n",
       "       [2.73175635e-06, 9.99997268e-01],\n",
       "       [1.80860512e-11, 1.00000000e+00],\n",
       "       [3.33333333e-01, 6.66666667e-01],\n",
       "       [1.46579334e-09, 9.99999999e-01],\n",
       "       [1.70201527e-04, 9.99829798e-01],\n",
       "       [2.15197903e-03, 9.97848021e-01],\n",
       "       [3.17059190e-07, 9.99999683e-01],\n",
       "       [3.33333333e-01, 6.66666667e-01],\n",
       "       [1.02380326e-11, 1.00000000e+00],\n",
       "       [1.82076576e-13, 1.00000000e+00],\n",
       "       [1.13664026e-09, 9.99999999e-01],\n",
       "       [8.64386698e-01, 1.35613302e-01],\n",
       "       [1.07828835e-09, 9.99999999e-01],\n",
       "       [3.75811974e-11, 1.00000000e+00],\n",
       "       [1.78432084e-11, 1.00000000e+00],\n",
       "       [6.66666667e-02, 9.33333333e-01],\n",
       "       [4.86869804e-13, 1.00000000e+00],\n",
       "       [1.33333333e-01, 8.66666667e-01],\n",
       "       [3.33333358e-01, 6.66666642e-01],\n",
       "       [7.93691488e-01, 2.06308512e-01],\n",
       "       [5.69017681e-04, 9.99430982e-01],\n",
       "       [9.37724505e-05, 9.99906228e-01],\n",
       "       [3.51741109e-07, 9.99999648e-01],\n",
       "       [2.88319020e-08, 9.99999971e-01],\n",
       "       [2.82070663e-13, 1.00000000e+00],\n",
       "       [7.00051361e-05, 9.99929995e-01],\n",
       "       [1.55143491e-04, 9.99844857e-01],\n",
       "       [2.10584735e-10, 1.00000000e+00],\n",
       "       [3.33335120e-01, 6.66664880e-01],\n",
       "       [8.62776517e-12, 1.00000000e+00],\n",
       "       [2.46352554e-06, 9.99997536e-01],\n",
       "       [8.10542363e-09, 9.99999992e-01],\n",
       "       [3.93603742e-10, 1.00000000e+00],\n",
       "       [1.34750537e-05, 9.99986525e-01],\n",
       "       [2.69003997e-07, 9.99999731e-01],\n",
       "       [1.99833364e-07, 9.99999800e-01],\n",
       "       [8.81382146e-07, 9.99999119e-01],\n",
       "       [2.22022400e-12, 1.00000000e+00],\n",
       "       [5.91141950e-12, 1.00000000e+00],\n",
       "       [6.00900874e-09, 9.99999994e-01],\n",
       "       [3.33333919e-01, 6.66666081e-01],\n",
       "       [4.41186339e-09, 9.99999996e-01],\n",
       "       [3.33346793e-01, 6.66653207e-01],\n",
       "       [1.38407804e-14, 1.00000000e+00],\n",
       "       [7.73990131e-10, 9.99999999e-01],\n",
       "       [8.66590643e-01, 1.33409357e-01],\n",
       "       [1.27234110e-07, 9.99999873e-01],\n",
       "       [3.74241553e-08, 9.99999963e-01],\n",
       "       [5.72587699e-07, 9.99999427e-01]])"
      ]
     },
     "execution_count": 133,
     "metadata": {},
     "output_type": "execute_result"
    }
   ],
   "source": [
    "finalpred"
   ]
  },
  {
   "cell_type": "code",
   "execution_count": 134,
   "metadata": {},
   "outputs": [
    {
     "data": {
      "text/plain": [
       "(105, 2)"
      ]
     },
     "execution_count": 134,
     "metadata": {},
     "output_type": "execute_result"
    }
   ],
   "source": [
    "finalpred.shape"
   ]
  },
  {
   "cell_type": "code",
   "execution_count": 135,
   "metadata": {},
   "outputs": [],
   "source": [
    "final_pred = np.array([])\n",
    "for i in range(0,len(test_X)):\n",
    "    temp=finalpred[i]\n",
    "    c=np.where(temp==np.max(temp))\n",
    "    final_pred=np.append(final_pred,c)   "
   ]
  },
  {
   "cell_type": "code",
   "execution_count": 136,
   "metadata": {},
   "outputs": [
    {
     "data": {
      "text/plain": [
       "array([1., 1., 0., 1., 1., 1., 1., 1., 1., 1., 1., 1., 1., 1., 1., 1., 1.,\n",
       "       1., 1., 1., 1., 1., 1., 1., 1., 1., 0., 1., 1., 1., 1., 1., 1., 1.,\n",
       "       1., 1., 1., 1., 1., 1., 1., 1., 1., 1., 1., 1., 1., 1., 1., 1., 1.,\n",
       "       1., 1., 1., 1., 1., 1., 1., 1., 1., 1., 1., 1., 1., 1., 1., 1., 0.,\n",
       "       1., 1., 1., 1., 1., 1., 1., 0., 1., 1., 1., 1., 1., 1., 1., 1., 1.,\n",
       "       1., 1., 1., 1., 1., 1., 1., 1., 1., 1., 1., 1., 1., 1., 1., 1., 0.,\n",
       "       1., 1., 1.])"
      ]
     },
     "execution_count": 136,
     "metadata": {},
     "output_type": "execute_result"
    }
   ],
   "source": [
    "final_pred"
   ]
  },
  {
   "cell_type": "code",
   "execution_count": 137,
   "metadata": {},
   "outputs": [
    {
     "name": "stderr",
     "output_type": "stream",
     "text": [
      "//anaconda3/lib/python3.7/site-packages/sklearn/metrics/_classification.py:193: FutureWarning: elementwise comparison failed; returning scalar instead, but in the future will perform elementwise comparison\n",
      "  score = y_true == y_pred\n"
     ]
    },
    {
     "data": {
      "text/plain": [
       "0.0"
      ]
     },
     "execution_count": 137,
     "metadata": {},
     "output_type": "execute_result"
    }
   ],
   "source": [
    "accuracy_score(test_y,final_pred) "
   ]
  },
  {
   "cell_type": "markdown",
   "metadata": {},
   "source": [
    "### （3）加权平均法"
   ]
  },
  {
   "cell_type": "code",
   "execution_count": 64,
   "metadata": {},
   "outputs": [
    {
     "data": {
      "text/plain": [
       "array([[1.12064690e-07, 9.99999888e-01],\n",
       "       [1.34730449e-11, 1.00000000e+00],\n",
       "       [1.88375449e-10, 1.00000000e+00],\n",
       "       [6.98808346e-01, 3.01191654e-01],\n",
       "       [2.97515841e-06, 9.99997025e-01],\n",
       "       [2.02862132e-04, 9.99797138e-01],\n",
       "       [5.61883952e-06, 9.99994381e-01],\n",
       "       [1.00000000e-01, 9.00000000e-01],\n",
       "       [7.85238541e-13, 1.00000000e+00],\n",
       "       [1.38937306e-10, 1.00000000e+00],\n",
       "       [1.00001104e-01, 8.99998896e-01],\n",
       "       [8.63443578e-01, 1.36556422e-01],\n",
       "       [8.99970849e-01, 1.00029151e-01],\n",
       "       [2.18713048e-11, 1.00000000e+00],\n",
       "       [2.65361066e-12, 1.00000000e+00],\n",
       "       [4.65760763e-13, 1.00000000e+00],\n",
       "       [6.90832395e-01, 3.09167605e-01],\n",
       "       [1.06499369e-08, 9.99999989e-01],\n",
       "       [4.00123758e-01, 5.99876242e-01],\n",
       "       [1.00000000e-01, 9.00000000e-01],\n",
       "       [1.77635684e-16, 1.00000000e+00],\n",
       "       [8.26005930e-15, 1.00000000e+00],\n",
       "       [3.52130483e-08, 9.99999965e-01],\n",
       "       [1.00979047e-10, 1.00000000e+00],\n",
       "       [3.45735913e-07, 9.99999654e-01],\n",
       "       [2.18869367e-11, 1.00000000e+00],\n",
       "       [1.05208869e-06, 9.99998948e-01],\n",
       "       [9.28663316e-08, 9.99999907e-01],\n",
       "       [3.18259333e-01, 6.81740667e-01],\n",
       "       [1.03374997e-10, 1.00000000e+00],\n",
       "       [2.13560947e-09, 9.99999998e-01],\n",
       "       [5.17536489e-08, 9.99999948e-01],\n",
       "       [6.47917275e-12, 1.00000000e+00],\n",
       "       [1.79412041e-14, 1.00000000e+00],\n",
       "       [5.78871161e-06, 9.99994211e-01],\n",
       "       [1.06849640e-11, 1.00000000e+00],\n",
       "       [2.01186288e-03, 9.97988137e-01],\n",
       "       [1.55424384e-09, 9.99999998e-01],\n",
       "       [7.38021200e-11, 1.00000000e+00],\n",
       "       [4.42392789e-12, 1.00000000e+00],\n",
       "       [1.07360585e-08, 9.99999989e-01],\n",
       "       [8.88178420e-17, 1.00000000e+00],\n",
       "       [1.00000017e-01, 8.99999983e-01],\n",
       "       [2.22364349e-12, 1.00000000e+00],\n",
       "       [5.87420397e-09, 9.99999994e-01],\n",
       "       [1.53477231e-13, 1.00000000e+00],\n",
       "       [9.95801308e-10, 9.99999999e-01],\n",
       "       [3.00150454e-01, 6.99849546e-01],\n",
       "       [4.53319426e-10, 1.00000000e+00],\n",
       "       [1.95579073e-09, 9.99999998e-01],\n",
       "       [1.93383074e-08, 9.99999981e-01],\n",
       "       [2.00042020e-01, 7.99957980e-01],\n",
       "       [1.28532924e-07, 9.99999871e-01],\n",
       "       [1.08390002e-01, 8.91609998e-01],\n",
       "       [7.82215182e-11, 1.00000000e+00],\n",
       "       [6.51123599e-13, 1.00000000e+00],\n",
       "       [9.37761430e-08, 9.99999906e-01],\n",
       "       [3.80027852e-07, 9.99999620e-01],\n",
       "       [1.22996769e-08, 9.99999988e-01],\n",
       "       [1.98063788e-14, 1.00000000e+00],\n",
       "       [4.53019440e-01, 5.46980560e-01],\n",
       "       [8.84430307e-12, 1.00000000e+00],\n",
       "       [2.52708077e-11, 1.00000000e+00],\n",
       "       [6.94971312e-09, 9.99999993e-01],\n",
       "       [1.41266967e-08, 9.99999986e-01],\n",
       "       [4.45640984e-08, 9.99999955e-01],\n",
       "       [1.01310360e-07, 9.99999899e-01],\n",
       "       [1.00000000e+00, 1.31894716e-12],\n",
       "       [3.28955110e-07, 9.99999671e-01],\n",
       "       [2.52396332e-04, 9.99747604e-01]])"
      ]
     },
     "execution_count": 64,
     "metadata": {},
     "output_type": "execute_result"
    }
   ],
   "source": [
    "finalpred=(pred1*0.1+pred2*0.5+pred3*0.4)\n",
    "finalpred"
   ]
  },
  {
   "cell_type": "code",
   "execution_count": 65,
   "metadata": {},
   "outputs": [],
   "source": [
    "final_pred = np.array([])\n",
    "for i in range(0,len(test_X)):\n",
    "    temp=finalpred[i]\n",
    "    c=np.where(temp==np.max(temp))\n",
    "    final_pred=np.append(final_pred,c) "
   ]
  },
  {
   "cell_type": "code",
   "execution_count": 66,
   "metadata": {},
   "outputs": [
    {
     "data": {
      "text/plain": [
       "array([1., 1., 1., 0., 1., 1., 1., 1., 1., 1., 1., 0., 0., 1., 1., 1., 0.,\n",
       "       1., 1., 1., 1., 1., 1., 1., 1., 1., 1., 1., 1., 1., 1., 1., 1., 1.,\n",
       "       1., 1., 1., 1., 1., 1., 1., 1., 1., 1., 1., 1., 1., 1., 1., 1., 1.,\n",
       "       1., 1., 1., 1., 1., 1., 1., 1., 1., 1., 1., 1., 1., 1., 1., 1., 0.,\n",
       "       1., 1.])"
      ]
     },
     "execution_count": 66,
     "metadata": {},
     "output_type": "execute_result"
    }
   ],
   "source": [
    "final_pred"
   ]
  },
  {
   "cell_type": "code",
   "execution_count": 47,
   "metadata": {},
   "outputs": [
    {
     "data": {
      "text/plain": [
       "0.9722222222222222"
      ]
     },
     "execution_count": 47,
     "metadata": {},
     "output_type": "execute_result"
    }
   ],
   "source": [
    "accuracy_score(test_y,final_pred)"
   ]
  },
  {
   "cell_type": "markdown",
   "metadata": {},
   "source": [
    "## 高级集成技术"
   ]
  },
  {
   "cell_type": "markdown",
   "metadata": {},
   "source": [
    "### （1）堆叠（Stacking）"
   ]
  },
  {
   "cell_type": "code",
   "execution_count": 138,
   "metadata": {},
   "outputs": [],
   "source": [
    "from sklearn.ensemble import StackingClassifier\n",
    "from sklearn.linear_model import LogisticRegression\n",
    "stacking_model= StackingClassifier(estimators=[('决策树模型', model1), ('KNN', model2),('逻辑回归', model2)], \n",
    "                                   final_estimator=LogisticRegression(max_iter=10000))"
   ]
  },
  {
   "cell_type": "code",
   "execution_count": 139,
   "metadata": {},
   "outputs": [
    {
     "data": {
      "text/plain": [
       "StackingClassifier(estimators=[('决策树模型',\n",
       "                                DecisionTreeClassifier(random_state=123)),\n",
       "                               ('KNN', KNeighborsClassifier()),\n",
       "                               ('逻辑回归', KNeighborsClassifier())],\n",
       "                   final_estimator=LogisticRegression(max_iter=10000))"
      ]
     },
     "execution_count": 139,
     "metadata": {},
     "output_type": "execute_result"
    }
   ],
   "source": [
    "stacking_model.fit(train_X,train_y)"
   ]
  },
  {
   "cell_type": "code",
   "execution_count": 140,
   "metadata": {},
   "outputs": [
    {
     "data": {
      "text/plain": [
       "0.9809523809523809"
      ]
     },
     "execution_count": 140,
     "metadata": {},
     "output_type": "execute_result"
    }
   ],
   "source": [
    "stacking_model.score(test_X,test_y)"
   ]
  },
  {
   "cell_type": "markdown",
   "metadata": {},
   "source": [
    "### （2）bagging"
   ]
  },
  {
   "cell_type": "code",
   "execution_count": 154,
   "metadata": {},
   "outputs": [],
   "source": [
    "from sklearn.ensemble import BaggingClassifier\n",
    "bagging_model= BaggingClassifier(base_estimator=model1,n_estimators=15)"
   ]
  },
  {
   "cell_type": "code",
   "execution_count": 155,
   "metadata": {},
   "outputs": [
    {
     "data": {
      "text/plain": [
       "BaggingClassifier(base_estimator=DecisionTreeClassifier(random_state=123),\n",
       "                  n_estimators=15)"
      ]
     },
     "execution_count": 155,
     "metadata": {},
     "output_type": "execute_result"
    }
   ],
   "source": [
    "bagging_model.fit(train_X,train_y)"
   ]
  },
  {
   "cell_type": "code",
   "execution_count": 156,
   "metadata": {},
   "outputs": [
    {
     "data": {
      "text/plain": [
       "0.9809523809523809"
      ]
     },
     "execution_count": 156,
     "metadata": {},
     "output_type": "execute_result"
    }
   ],
   "source": [
    "bagging_model.score(test_X,test_y)"
   ]
  },
  {
   "cell_type": "markdown",
   "metadata": {},
   "source": [
    "### （3）adaboost"
   ]
  },
  {
   "cell_type": "code",
   "execution_count": 157,
   "metadata": {},
   "outputs": [],
   "source": [
    "from sklearn.ensemble import AdaBoostClassifier\n",
    "adaboost_model=AdaBoostClassifier(base_estimator=model1,n_estimators=15)"
   ]
  },
  {
   "cell_type": "code",
   "execution_count": 158,
   "metadata": {},
   "outputs": [
    {
     "data": {
      "text/plain": [
       "AdaBoostClassifier(base_estimator=DecisionTreeClassifier(random_state=123),\n",
       "                   n_estimators=15)"
      ]
     },
     "execution_count": 158,
     "metadata": {},
     "output_type": "execute_result"
    }
   ],
   "source": [
    "adaboost_model.fit(train_X,train_y)"
   ]
  },
  {
   "cell_type": "code",
   "execution_count": 159,
   "metadata": {},
   "outputs": [
    {
     "data": {
      "text/plain": [
       "0.9428571428571428"
      ]
     },
     "execution_count": 159,
     "metadata": {},
     "output_type": "execute_result"
    }
   ],
   "source": [
    "adaboost_model.score(test_X,test_y)"
   ]
  },
  {
   "cell_type": "markdown",
   "metadata": {},
   "source": [
    "### (4) 随机森林"
   ]
  },
  {
   "cell_type": "code",
   "execution_count": 162,
   "metadata": {},
   "outputs": [],
   "source": [
    "from sklearn.ensemble import RandomForestClassifier\n",
    "RF_model=RandomForestClassifier(n_estimators=15)"
   ]
  },
  {
   "cell_type": "code",
   "execution_count": 163,
   "metadata": {},
   "outputs": [
    {
     "data": {
      "text/plain": [
       "RandomForestClassifier(n_estimators=15)"
      ]
     },
     "execution_count": 163,
     "metadata": {},
     "output_type": "execute_result"
    }
   ],
   "source": [
    "RF_model.fit(train_X,train_y)"
   ]
  },
  {
   "cell_type": "code",
   "execution_count": 164,
   "metadata": {},
   "outputs": [
    {
     "data": {
      "text/plain": [
       "0.9809523809523809"
      ]
     },
     "execution_count": 164,
     "metadata": {},
     "output_type": "execute_result"
    }
   ],
   "source": [
    "RF_model.score(test_X,test_y)"
   ]
  }
 ],
 "metadata": {
  "hide_input": false,
  "kernelspec": {
   "display_name": "Python 3",
   "language": "python",
   "name": "python3"
  },
  "language_info": {
   "codemirror_mode": {
    "name": "ipython",
    "version": 3
   },
   "file_extension": ".py",
   "mimetype": "text/x-python",
   "name": "python",
   "nbconvert_exporter": "python",
   "pygments_lexer": "ipython3",
   "version": "3.7.6"
  },
  "latex_envs": {
   "LaTeX_envs_menu_present": true,
   "autoclose": false,
   "autocomplete": true,
   "bibliofile": "biblio.bib",
   "cite_by": "apalike",
   "current_citInitial": 1,
   "eqLabelWithNumbers": true,
   "eqNumInitial": 1,
   "hotkeys": {
    "equation": "Ctrl-E",
    "itemize": "Ctrl-I"
   },
   "labels_anchors": false,
   "latex_user_defs": false,
   "report_style_numbering": false,
   "user_envs_cfg": false
  },
  "nbTranslate": {
   "displayLangs": [
    "*"
   ],
   "hotkey": "alt-t",
   "langInMainMenu": true,
   "sourceLang": "en",
   "targetLang": "fr",
   "useGoogleTranslate": true
  },
  "toc": {
   "base_numbering": 1,
   "nav_menu": {},
   "number_sections": true,
   "sideBar": true,
   "skip_h1_title": false,
   "title_cell": "Table of Contents",
   "title_sidebar": "Contents",
   "toc_cell": false,
   "toc_position": {
    "height": "calc(100% - 180px)",
    "left": "10px",
    "top": "150px",
    "width": "230.66px"
   },
   "toc_section_display": true,
   "toc_window_display": true
  },
  "varInspector": {
   "cols": {
    "lenName": 16,
    "lenType": 16,
    "lenVar": 40
   },
   "kernels_config": {
    "python": {
     "delete_cmd_postfix": "",
     "delete_cmd_prefix": "del ",
     "library": "var_list.py",
     "varRefreshCmd": "print(var_dic_list())"
    },
    "r": {
     "delete_cmd_postfix": ") ",
     "delete_cmd_prefix": "rm(",
     "library": "var_list.r",
     "varRefreshCmd": "cat(var_dic_list()) "
    }
   },
   "types_to_exclude": [
    "module",
    "function",
    "builtin_function_or_method",
    "instance",
    "_Feature"
   ],
   "window_display": false
  }
 },
 "nbformat": 4,
 "nbformat_minor": 4
}
