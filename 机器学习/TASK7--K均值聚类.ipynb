{
 "cells": [
  {
   "cell_type": "code",
   "execution_count": 1,
   "metadata": {
    "ExecuteTime": {
     "end_time": "2020-08-17T14:14:59.766716Z",
     "start_time": "2020-08-17T14:14:49.730548Z"
    }
   },
   "outputs": [
    {
     "name": "stderr",
     "output_type": "stream",
     "text": [
      "\n",
      "Bad key \"text.kerning_factor\" on line 4 in\n",
      "E:\\Anaconda3\\lib\\site-packages\\matplotlib\\mpl-data\\stylelib\\_classic_test_patch.mplstyle.\n",
      "You probably need to get an updated matplotlibrc file from\n",
      "https://github.com/matplotlib/matplotlib/blob/v3.1.3/matplotlibrc.template\n",
      "or from the matplotlib source distribution\n"
     ]
    }
   ],
   "source": [
    "import numpy as np\n",
    "import pandas as pd\n",
    "\n",
    "import matplotlib.pyplot as plt "
   ]
  },
  {
   "cell_type": "code",
   "execution_count": 2,
   "metadata": {
    "ExecuteTime": {
     "end_time": "2020-08-17T14:24:17.137593Z",
     "start_time": "2020-08-17T14:24:15.807438Z"
    }
   },
   "outputs": [],
   "source": [
    "room1 = pd.read_csv('G:/CDO/狗熊会机器学习/TASK7--刘嘉玲/863.tsv', names=['room_id', 'type', 'time_stamp',\n",
    "                                      'act_type', 'user_name', 'content', \n",
    "                                      'Unknown_1', 'Unknown_2', 'year', \n",
    "                                      'month', 'day', 'hour', 'minu', 'sec'], sep='\\t')\n",
    "room2 = pd.read_csv('G:/CDO/狗熊会机器学习/TASK7--刘嘉玲/1038864.tsv', names=['room_id', 'type', 'time_stamp',\n",
    "                                      'act_type', 'user_name', 'content', \n",
    "                                      'Unknown_1', 'Unknown_2', 'year', \n",
    "                                      'month', 'day', 'hour', 'minu', 'sec'], sep='\\t')\n",
    "\n",
    "room1 = room1[['room_id', 'type', 'time_stamp', 'act_type', \n",
    "             'user_name']]\n",
    "room2 = room2[['room_id', 'type', 'time_stamp', 'act_type', \n",
    "             'user_name']]\n",
    "\n",
    "room1_by_user = room1.groupby('user_name')\n",
    "room2_by_user = room2.groupby('user_name')"
   ]
  },
  {
   "cell_type": "code",
   "execution_count": 3,
   "metadata": {
    "ExecuteTime": {
     "end_time": "2020-08-17T14:24:57.820960Z",
     "start_time": "2020-08-17T14:24:41.207254Z"
    }
   },
   "outputs": [],
   "source": [
    "latest_date = max(max(room2.time_stamp), max(room1.time_stamp))\n",
    "user_list_1 = []\n",
    "Recency_1 = []\n",
    "Frequency_1 = []\n",
    "Monetary_1 = []\n",
    "\n",
    "for user, group in room1_by_user:\n",
    "    # 当只有一个操作时无法计算频度\n",
    "    count = len(group)\n",
    "    if count > 1 :\n",
    "        latest_user_date = group.time_stamp.max()\n",
    "        min_user_date = group.time_stamp.min()\n",
    "        time_diff = (latest_date - latest_user_date)/3600\n",
    "        ac_fre = (latest_user_date - min_user_date)/count/3600\n",
    "        user_list_1.append(user)\n",
    "        Recency_1.append(time_diff)\n",
    "        Frequency_1.append(ac_fre)\n",
    "        Monetary_1.append(count)\n",
    "    else:\n",
    "        pass\n",
    "\n",
    "user_list_2 = []\n",
    "Recency_2 = []\n",
    "Frequency_2 = []\n",
    "Monetary_2 = []\n",
    "for user, group in room2_by_user:\n",
    "    # 当只有一个操作时无法计算频度\n",
    "    count = len(group)\n",
    "    if count > 1 :\n",
    "        latest_user_date = group.time_stamp.max()\n",
    "        min_user_date = group.time_stamp.min()\n",
    "        time_diff = (latest_date - latest_user_date)/3600\n",
    "        ac_fre = (latest_user_date - min_user_date)/count/3600\n",
    "        user_list_2.append(user)\n",
    "        Recency_2.append(time_diff)\n",
    "        Frequency_2.append(ac_fre)\n",
    "        Monetary_2.append(count)\n",
    "    else:\n",
    "        pass\n",
    "\n",
    "data_1 = pd.DataFrame({'user_name':user_list_1, 'Recency':Recency_1,\n",
    "                       'Frequency':Frequency_1, 'Monetary':Monetary_1})\n",
    "data_2 = pd.DataFrame({'user_name':user_list_2, 'Recency':Recency_2,\n",
    "                       'Frequency':Frequency_2, 'Monetary':Monetary_2})"
   ]
  },
  {
   "cell_type": "code",
   "execution_count": 4,
   "metadata": {
    "ExecuteTime": {
     "end_time": "2020-08-17T14:25:18.147093Z",
     "start_time": "2020-08-17T14:25:13.551497Z"
    }
   },
   "outputs": [],
   "source": [
    "from sklearn.preprocessing import StandardScaler\n",
    "from sklearn.cluster import KMeans\n",
    "from sklearn.model_selection import train_test_split "
   ]
  },
  {
   "cell_type": "code",
   "execution_count": 5,
   "metadata": {
    "ExecuteTime": {
     "end_time": "2020-08-17T14:25:26.621253Z",
     "start_time": "2020-08-17T14:25:26.535481Z"
    }
   },
   "outputs": [],
   "source": [
    "X_1 = data_1.iloc[:, 1:].values\n",
    "X_2 = data_2.iloc[:, 1:].values\n",
    "\n",
    "X_1 = (X_1 - X_1.mean(axis=0)) / X_1.std(axis=0)\n",
    "X_2 = (X_2 - X_2.mean(axis=0)) / X_2.std(axis=0)"
   ]
  },
  {
   "cell_type": "raw",
   "metadata": {},
   "source": [
    "任务一：根据处理好的数据使用sklearn.cluster.KMeans方法进行聚类，通过观察样本点到类别中心的距离以及中心点的解释情况，选择合适的类别数。\n",
    "已给出一个房间的聚类代码，请完成另一个房间的聚类分析"
   ]
  },
  {
   "cell_type": "code",
   "execution_count": 6,
   "metadata": {
    "ExecuteTime": {
     "end_time": "2020-08-17T14:26:30.759761Z",
     "start_time": "2020-08-17T14:26:19.197708Z"
    }
   },
   "outputs": [
    {
     "data": {
      "image/png": "[encoded data removed]",
      "text/plain": [
       "<Figure size 432x288 with 1 Axes>"
      ]
     },
     "metadata": {
      "needs_background": "light"
     },
     "output_type": "display_data"
    }
   ],
   "source": [
    "loss = []\n",
    "\n",
    "for k in range(1, 10):\n",
    "    kmeans_1 = KMeans(n_clusters=k, n_init=30)\n",
    "    kmeans_1.fit_predict(X_1)\n",
    "    loss.append(kmeans_1.inertia_)\n",
    "\n",
    "figure = plt.figure(1)\n",
    "plt.plot(np.arange(1, len(loss)+1), loss, 'r-')\n",
    "plt.scatter(np.arange(1, len(loss)+1), loss, marker='*', c=[1]*len(loss))\n",
    "plt.xlabel('cluster_number')\n",
    "plt.ylabel('distance from sample to cluster center')\n",
    "plt.show() "
   ]
  },
  {
   "cell_type": "raw",
   "metadata": {},
   "source": [
    "根据上述loss随k变化的图像，当k=3、4、5时模型可能有较好的结果，分别进行实验后发现k=4,5时某一类占比很小(<1%，为核心观众中的核心)。最后选择类别数选择k=3  "
   ]
  },
  {
   "cell_type": "code",
   "execution_count": 9,
   "metadata": {
    "ExecuteTime": {
     "end_time": "2020-08-17T14:42:21.671562Z",
     "start_time": "2020-08-17T14:42:17.456813Z"
    }
   },
   "outputs": [
    {
     "data": {
      "image/png": "[encoded data removed]",
      "text/plain": [
       "<Figure size 432x288 with 1 Axes>"
      ]
     },
     "metadata": {
      "needs_background": "light"
     },
     "output_type": "display_data"
    }
   ],
   "source": [
    "loss = []\n",
    "for k in range(1, 10):\n",
    "    kmeans_2 = KMeans(n_clusters=k, n_init=30)\n",
    "    kmeans_2.fit_predict(X_2)\n",
    "    loss.append(kmeans_2.inertia_)\n",
    "figure = plt.figure(1)\n",
    "plt.plot(np.arange(1, len(loss)+1), loss, 'r-')\n",
    "plt.scatter(np.arange(1, len(loss)+1), loss, marker='*', c=[1]*len(loss))\n",
    "plt.xlabel('cluster_number')\n",
    "plt.ylabel('distance from sample to cluster center')\n",
    "plt.show() "
   ]
  },
  {
   "cell_type": "raw",
   "metadata": {},
   "source": [
    "根据上述loss随k变化的图像，当k=3、4、5时模型可能有较好的结果，分别进行实验后发现k=4,5时某一类占比很小(<1%，为核心观众中的核心)。最后选择类别数选择k=3  "
   ]
  },
  {
   "cell_type": "code",
   "execution_count": 7,
   "metadata": {
    "ExecuteTime": {
     "end_time": "2020-08-17T14:26:58.557994Z",
     "start_time": "2020-08-17T14:26:57.959641Z"
    }
   },
   "outputs": [
    {
     "name": "stdout",
     "output_type": "stream",
     "text": [
      "[[-0.62800663 -0.26735418  0.09312988]\n",
      " [ 1.24748694 -0.32438291 -0.08813495]\n",
      " [-0.52578215  2.48474977 -0.22871145]]\n"
     ]
    }
   ],
   "source": [
    "kmeans_1 = KMeans(n_clusters=3, n_init=30)\n",
    "pred_1 = kmeans_1.fit_predict(X_1)\n",
    "print(kmeans_1.cluster_centers_) "
   ]
  },
  {
   "cell_type": "code",
   "execution_count": 8,
   "metadata": {
    "ExecuteTime": {
     "end_time": "2020-08-17T14:27:08.721023Z",
     "start_time": "2020-08-17T14:27:08.714042Z"
    }
   },
   "outputs": [
    {
     "name": "stdout",
     "output_type": "stream",
     "text": [
      "第1类用户占比0.5670\n",
      "第2类用户占比0.3292\n",
      "第3类用户占比0.1039\n"
     ]
    }
   ],
   "source": [
    "for i in range(3):\n",
    "    perc = len(pred_1[pred_1 == i]) / len(pred_1) \n",
    "    print(\"第%d类用户占比%0.4f\"%(i+1, perc)) "
   ]
  },
  {
   "cell_type": "raw",
   "metadata": {},
   "source": [
    "任务二：KMeans聚类应用场景存在局限吗？请生成一些KMeans聚类失败的场景。\n",
    "提示：同心圆环、月牙型数据..."
   ]
  },
  {
   "cell_type": "raw",
   "metadata": {},
   "source": [
    "KMeans聚类应用场景存在局限"
   ]
  },
  {
   "cell_type": "raw",
   "metadata": {},
   "source": [
    "环状数据的聚类"
   ]
  },
  {
   "cell_type": "code",
   "execution_count": 16,
   "metadata": {
    "ExecuteTime": {
     "end_time": "2020-08-17T15:54:27.187337Z",
     "start_time": "2020-08-17T15:54:26.753482Z"
    }
   },
   "outputs": [
    {
     "data": {
      "image/png": "[encoded data removed]",
      "text/plain": [
       "<Figure size 432x288 with 1 Axes>"
      ]
     },
     "metadata": {
      "needs_background": "light"
     },
     "output_type": "display_data"
    },
    {
     "data": {
      "image/png": "[encoded data removed]",
      "text/plain": [
       "<Figure size 432x288 with 1 Axes>"
      ]
     },
     "metadata": {
      "needs_background": "light"
     },
     "output_type": "display_data"
    }
   ],
   "source": [
    "from sklearn import datasets\n",
    "from sklearn.cluster import SpectralClustering\n",
    "import matplotlib.pyplot as plt\n",
    "\n",
    "n_samples = 200\n",
    "#生成数据\n",
    "noisy_circles = datasets.make_circles(n_samples=n_samples, factor=.5, noise=.05)\n",
    " \n",
    "X = []\n",
    "y = []\n",
    "pos = noisy_circles[0]\n",
    "for p in pos:\n",
    "    X.append(p[0])\n",
    "    y.append(p[1])\n",
    " \n",
    "plt.scatter(X, y)\n",
    "plt.show()\n",
    " \n",
    "sc = SpectralClustering(n_clusters=2, affinity=\"nearest_neighbors\")\n",
    " \n",
    "sc_clusters2 = sc.fit_predict(noisy_circles[0])\n",
    " \n",
    " \n",
    "# plt.scatter(noisy_circles[:,0], noisy_circles[:,1], c=sc_clusters2)\n",
    "plt.scatter(X,y, c=sc_clusters2)\n",
    " \n",
    "plt.show()"
   ]
  },
  {
   "cell_type": "code",
   "execution_count": null,
   "metadata": {},
   "outputs": [],
   "source": []
  }
 ],
 "metadata": {
  "hide_input": false,
  "kernelspec": {
   "display_name": "Python 3",
   "language": "python",
   "name": "python3"
  },
  "language_info": {
   "codemirror_mode": {
    "name": "ipython",
    "version": 3
   },
   "file_extension": ".py",
   "mimetype": "text/x-python",
   "name": "python",
   "nbconvert_exporter": "python",
   "pygments_lexer": "ipython3",
   "version": "3.7.6"
  },
  "latex_envs": {
   "LaTeX_envs_menu_present": true,
   "autoclose": false,
   "autocomplete": true,
   "bibliofile": "biblio.bib",
   "cite_by": "apalike",
   "current_citInitial": 1,
   "eqLabelWithNumbers": true,
   "eqNumInitial": 1,
   "hotkeys": {
    "equation": "Ctrl-E",
    "itemize": "Ctrl-I"
   },
   "labels_anchors": false,
   "latex_user_defs": false,
   "report_style_numbering": false,
   "user_envs_cfg": false
  },
  "nbTranslate": {
   "displayLangs": [
    "*"
   ],
   "hotkey": "alt-t",
   "langInMainMenu": true,
   "sourceLang": "en",
   "targetLang": "fr",
   "useGoogleTranslate": true
  },
  "toc": {
   "base_numbering": 1,
   "nav_menu": {},
   "number_sections": true,
   "sideBar": true,
   "skip_h1_title": false,
   "title_cell": "Table of Contents",
   "title_sidebar": "Contents",
   "toc_cell": false,
   "toc_position": {},
   "toc_section_display": true,
   "toc_window_display": false
  },
  "varInspector": {
   "cols": {
    "lenName": 16,
    "lenType": 16,
    "lenVar": 40
   },
   "kernels_config": {
    "python": {
     "delete_cmd_postfix": "",
     "delete_cmd_prefix": "del ",
     "library": "var_list.py",
     "varRefreshCmd": "print(var_dic_list())"
    },
    "r": {
     "delete_cmd_postfix": ") ",
     "delete_cmd_prefix": "rm(",
     "library": "var_list.r",
     "varRefreshCmd": "cat(var_dic_list()) "
    }
   },
   "types_to_exclude": [
    "module",
    "function",
    "builtin_function_or_method",
    "instance",
    "_Feature"
   ],
   "window_display": false
  }
 },
 "nbformat": 4,
 "nbformat_minor": 4
}
